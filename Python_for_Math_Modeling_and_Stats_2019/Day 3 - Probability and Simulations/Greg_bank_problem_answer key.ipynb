{
 "cells": [
  {
   "cell_type": "code",
   "execution_count": 1,
   "metadata": {},
   "outputs": [],
   "source": [
    "# the plotting package is matplotlib:\n",
    "import matplotlib.pyplot as plt \n",
    "\n",
    "# the next line allows you to view the plots more easily:\n",
    "%matplotlib inline\n",
    "\n",
    "# the numpy package has import math stuff in it:\n",
    "import numpy as np \n",
    "\n",
    "# the pandas package allows us to do spreadsheet stuff:\n",
    "import pandas as pd\n",
    "\n",
    "import random\n",
    "import statistics"
   ]
  },
  {
   "cell_type": "code",
   "execution_count": 2,
   "metadata": {},
   "outputs": [],
   "source": [
    "# generate a random list of time between arrivals and service times for n people\n",
    "# generate_bank_info(N)[0] is time between arrivals\n",
    "# generate_bank_info(N)[1] is service times\n",
    "\n",
    "def generate_bank_info(n,p,q):\n",
    "    \n",
    "    # time between arrivals\n",
    "    time_between = []\n",
    "    for i in range(n):\n",
    "        r = random.randint(0,99)\n",
    "        if r <= p[0] - 1:\n",
    "            time_between.append(0)\n",
    "        elif p[0] <= r <= p[0]+p[1]-1:\n",
    "            time_between.append(1)\n",
    "        elif p[0]+p[1] <= r <= p[0]+p[1]+p[2]-1:\n",
    "            time_between.append(2)\n",
    "        elif p[0]+p[1]+p[2] <= r <= p[0]+p[1]+p[2]+p[3]-1:\n",
    "            time_between.append(3)\n",
    "        elif p[0]+p[1]+p[2]+p[3] <= r <= p[0]+p[1]+p[2]+p[3]+p[4]-1:\n",
    "            time_between.append(4)\n",
    "        else:\n",
    "            time_between.append(5)\n",
    "            \n",
    "    # service time\n",
    "    service_time = []\n",
    "    for i in range(n):\n",
    "        s = random.randint(0,99)\n",
    "        if s <= q[0] - 1:\n",
    "            service_time.append(1)\n",
    "        elif q[0] <= s <= q[0]+q[1]-1:\n",
    "            service_time.append(2)\n",
    "        elif q[0]+q[1] <= s <= q[0]+q[1]+q[2]-1:\n",
    "            service_time.append(3)\n",
    "        else:\n",
    "            service_time.append(4)\n",
    "\n",
    "    return[time_between,service_time]"
   ]
  },
  {
   "cell_type": "code",
   "execution_count": 3,
   "metadata": {},
   "outputs": [],
   "source": [
    "# from B, S, create arrival times, wait times, start of service times, and leave times\n",
    "\n",
    "def output_bank_day(b,s,n):\n",
    "    \n",
    "    # data to output\n",
    "    arrival_time = []\n",
    "    wait_time = []\n",
    "    start_time = []\n",
    "    leave_time = []\n",
    "\n",
    "    for i in range(n):\n",
    "        # arrival time\n",
    "        a_t=0\n",
    "        for j in range(i+1):\n",
    "            a_t = a_t + b[j]\n",
    "        arrival_time.append(a_t)\n",
    "\n",
    "        # start and wait time\n",
    "        if i == 0:\n",
    "            wait_time.append(0)\n",
    "            start_time.append(arrival_time[i])\n",
    "        elif arrival_time[i] < leave_time[i-1]:\n",
    "            wait_time.append(leave_time[i-1]-arrival_time[i])\n",
    "            start_time.append(leave_time[i-1])\n",
    "        else:\n",
    "            wait_time.append(0)\n",
    "            start_time.append(arrival_time[i])\n",
    "\n",
    "        # leave time\n",
    "        leave_time.append(start_time[i]+s[i])\n",
    "\n",
    "    return[arrival_time,wait_time,start_time,leave_time]"
   ]
  },
  {
   "cell_type": "code",
   "execution_count": 5,
   "metadata": {},
   "outputs": [],
   "source": [
    "N = 15\n",
    "p = [10,15,10,35,25,5]\n",
    "q = [25,20,40,15]\n",
    "[B,S] = generate_bank_info(N,p,q)\n",
    "[A,W,T,L] = output_bank_day(B,S,N)"
   ]
  },
  {
   "cell_type": "code",
   "execution_count": 6,
   "metadata": {},
   "outputs": [
    {
     "name": "stdout",
     "output_type": "stream",
     "text": [
      "[3, 3, 3, 6, 9, 12, 13, 17, 20, 22, 26, 31, 32, 34, 35]\n",
      "[0, 3, 6, 6, 4, 2, 5, 2, 2, 1, 0, 0, 3, 3, 3]\n",
      "[3, 6, 9, 12, 13, 14, 18, 19, 22, 23, 26, 31, 35, 37, 38]\n",
      "[3, 3, 3, 1, 1, 4, 1, 3, 1, 3, 3, 4, 2, 1, 4]\n",
      "[6, 9, 12, 13, 14, 18, 19, 22, 23, 26, 29, 35, 37, 38, 42]\n",
      "[3, 0, 0, 3, 3, 3, 1, 4, 3, 2, 4, 5, 1, 2, 1]\n"
     ]
    }
   ],
   "source": [
    "print(A)\n",
    "print(W)\n",
    "print(T)\n",
    "print(S)\n",
    "print(L)\n",
    "print(B)"
   ]
  },
  {
   "cell_type": "code",
   "execution_count": 28,
   "metadata": {},
   "outputs": [
    {
     "name": "stdout",
     "output_type": "stream",
     "text": [
      "4.876586666666666\n"
     ]
    }
   ],
   "source": [
    "avg_wait=[]\n",
    "\n",
    "N = 150\n",
    "p = [10,15,10,35,25,5]\n",
    "q = [25,20,40,15]\n",
    "\n",
    "for i in range(1000):\n",
    "    [B,S] = generate_bank_info(N,p,q)\n",
    "    [A,W,T,L] = output_bank_day(B,S,N)\n",
    "    avg_wait.append(statistics.mean(W))\n",
    "\n",
    "Total_avg_wait = statistics.mean(avg_wait)\n",
    "\n",
    "print(Total_avg_wait)"
   ]
  },
  {
   "cell_type": "code",
   "execution_count": 30,
   "metadata": {},
   "outputs": [],
   "source": [
    "# from B, S, create arrival times, wait times, start of service times, and leave times\n",
    "\n",
    "def output_bank_day_two_teller(b,s,n):\n",
    "    \n",
    "    # data to output\n",
    "    arrival_time = []\n",
    "    wait_time = []\n",
    "    start_time = []\n",
    "    leave_time = []\n",
    "\n",
    "    for i in range(n):\n",
    "        # arrival time\n",
    "        a_t=0\n",
    "        for j in range(i+1):\n",
    "            a_t = a_t + b[j]\n",
    "        arrival_time.append(a_t)\n",
    "\n",
    "        # start and wait time\n",
    "        if i == 0:\n",
    "            wait_time.append(0)\n",
    "            start_time.append(arrival_time[i])\n",
    "        elif i == 1:\n",
    "            wait_time.append(0)\n",
    "            start_time.append(arrival_time[i])\n",
    "        else:\n",
    "            if arrival_time[i] < leave_time[i-1]:\n",
    "                \n",
    "                # m will be max of leave times up to leave_time[i-2]\n",
    "                m = 0\n",
    "                for j in range(len(leave_time)-1):\n",
    "                    m = max(m,leave_time[j])\n",
    "              \n",
    "                if arrival_time[i] < m:\n",
    "                    wait_time.append(min(m,leave_time[i-1])-arrival_time[i])\n",
    "                    start_time.append(min(m,leave_time[i-1]))\n",
    "                else:\n",
    "                    wait_time.append(0)\n",
    "                    start_time.append(arrival_time[i])                \n",
    "            else:\n",
    "                wait_time.append(0)\n",
    "                start_time.append(arrival_time[i])\n",
    "\n",
    "        # leave time\n",
    "        leave_time.append(start_time[i]+s[i])\n",
    "\n",
    "    return[arrival_time,wait_time,start_time,leave_time]"
   ]
  },
  {
   "cell_type": "code",
   "execution_count": 31,
   "metadata": {},
   "outputs": [
    {
     "name": "stdout",
     "output_type": "stream",
     "text": [
      "0.11222\n"
     ]
    }
   ],
   "source": [
    "avg_wait_two_teller=[]\n",
    "\n",
    "N = 150\n",
    "p = [10,15,10,35,25,5]\n",
    "q = [25,20,40,15]\n",
    "\n",
    "for i in range(1000):\n",
    "    [B,S] = generate_bank_info(N,p,q)\n",
    "    [A,W,T,L] = output_bank_day_two_teller(B,S,N)\n",
    "    avg_wait_two_teller.append(statistics.mean(W))\n",
    "\n",
    "Total_avg_wait_two_teller = statistics.mean(avg_wait_two_teller)\n",
    "\n",
    "print(Total_avg_wait_two_teller)"
   ]
  },
  {
   "cell_type": "code",
   "execution_count": null,
   "metadata": {},
   "outputs": [],
   "source": []
  },
  {
   "cell_type": "code",
   "execution_count": null,
   "metadata": {},
   "outputs": [],
   "source": []
  }
 ],
 "metadata": {
  "kernelspec": {
   "display_name": "Python 3",
   "language": "python",
   "name": "python3"
  },
  "language_info": {
   "codemirror_mode": {
    "name": "ipython",
    "version": 3
   },
   "file_extension": ".py",
   "mimetype": "text/x-python",
   "name": "python",
   "nbconvert_exporter": "python",
   "pygments_lexer": "ipython3",
   "version": "3.7.3"
  }
 },
 "nbformat": 4,
 "nbformat_minor": 2
}
