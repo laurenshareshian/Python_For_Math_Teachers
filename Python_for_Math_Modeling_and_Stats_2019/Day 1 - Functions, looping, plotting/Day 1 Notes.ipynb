{
 "cells": [
  {
   "cell_type": "markdown",
   "metadata": {
    "slideshow": {
     "slide_type": "slide"
    }
   },
   "source": [
    "### Day 1 Notes\n",
    "Run the cell below to import the required packages:"
   ]
  },
  {
   "cell_type": "code",
   "execution_count": 21,
   "metadata": {
    "slideshow": {
     "slide_type": "fragment"
    }
   },
   "outputs": [],
   "source": [
    "# the plotting package is matplotlib:\n",
    "import matplotlib.pyplot as plt \n",
    "# the next line allows you to view the plots more easily:\n",
    "%matplotlib inline\n",
    "# the numpy package has import math stuff in it:\n",
    "import numpy as np \n",
    "# the pandas package allows us to do spreadsheet stuff:\n",
    "import pandas as pd\n",
    "#math package has built-in functions like sine and cosine\n",
    "import math"
   ]
  },
  {
   "cell_type": "markdown",
   "metadata": {
    "slideshow": {
     "slide_type": "slide"
    }
   },
   "source": [
    "### Shortcuts for using Jupyter Notebooks\n",
    "\n",
    "1. Type \"jupyter notebook\" in Terminal on a Mac (under Applications - Utilities).\n",
    "\n",
    "2. To run code, rather than pressing play, you can type Shift - Enter\n",
    "\n",
    "3. To comment out code, rather than putting a hashtag on each line, you can highlight the code you want to hide and type Control - /\n",
    "\n",
    "4. Toggle back between \"Markdown\" and \"Code\" to switch from writing code to writing text."
   ]
  },
  {
   "cell_type": "markdown",
   "metadata": {
    "slideshow": {
     "slide_type": "slide"
    }
   },
   "source": [
    "f-strings super important for printing mixes of words and variables\n",
    "\n",
    "### Exercise: point_slope"
   ]
  },
  {
   "cell_type": "code",
   "execution_count": 24,
   "metadata": {
    "slideshow": {
     "slide_type": "fragment"
    }
   },
   "outputs": [
    {
     "data": {
      "text/plain": [
       "'y-3=1.0(x-1)'"
      ]
     },
     "execution_count": 24,
     "metadata": {},
     "output_type": "execute_result"
    }
   ],
   "source": [
    "def point_slope(x1,y1,x2,y2):\n",
    "    m = (y1-y2)/(x1-x2)\n",
    "    return f\"y-{y1}={m}(x-{x1})\"\n",
    "\n",
    "point_slope(1,3,2,4)"
   ]
  },
  {
   "cell_type": "markdown",
   "metadata": {
    "slideshow": {
     "slide_type": "slide"
    }
   },
   "source": [
    "modulo is super important for figuring out even/odd/factors\n",
    "\n",
    "### Exercise: Factors"
   ]
  },
  {
   "cell_type": "code",
   "execution_count": 33,
   "metadata": {
    "slideshow": {
     "slide_type": "fragment"
    }
   },
   "outputs": [
    {
     "data": {
      "text/plain": [
       "True"
      ]
     },
     "execution_count": 33,
     "metadata": {},
     "output_type": "execute_result"
    }
   ],
   "source": [
    "def factor(m,n):\n",
    "    if m % n == 0:\n",
    "        return True\n",
    "    else:\n",
    "        return False\n",
    "    \n",
    "factor(25,5)\n",
    "factor(30,5)"
   ]
  },
  {
   "cell_type": "markdown",
   "metadata": {
    "slideshow": {
     "slide_type": "slide"
    }
   },
   "source": [
    "### Floating point operations\n",
    "Why do some floating point operations behave strangely?"
   ]
  },
  {
   "cell_type": "code",
   "execution_count": 9,
   "metadata": {
    "slideshow": {
     "slide_type": "subslide"
    }
   },
   "outputs": [
    {
     "name": "stdout",
     "output_type": "stream",
     "text": [
      "0.2\n",
      "0.30000000000000004\n"
     ]
    }
   ],
   "source": [
    "print(0.1+0.1)\n",
    "print(0.1+0.2)"
   ]
  },
  {
   "cell_type": "markdown",
   "metadata": {
    "slideshow": {
     "slide_type": "slide"
    }
   },
   "source": [
    "It's because 0.2 can't be written in exact binary notation.\n",
    "\n",
    "<img src=\"images/binary1.png\" style=\"width: 100px;\"/>\n",
    "<img src=\"images/binary2.png\" style=\"width: 400px;\"/>"
   ]
  },
  {
   "cell_type": "markdown",
   "metadata": {
    "slideshow": {
     "slide_type": "slide"
    }
   },
   "source": [
    "Be careful of assignment versus testing for equality."
   ]
  },
  {
   "cell_type": "code",
   "execution_count": 10,
   "metadata": {
    "slideshow": {
     "slide_type": "subslide"
    }
   },
   "outputs": [
    {
     "name": "stdout",
     "output_type": "stream",
     "text": [
      "Your number is equal to 5.\n"
     ]
    }
   ],
   "source": [
    "number = 5\n",
    "if number == 5:\n",
    "    print('Your number is equal to 5.')\n",
    "else:\n",
    "    print('Your number is not equal to 5.')"
   ]
  },
  {
   "cell_type": "markdown",
   "metadata": {
    "slideshow": {
     "slide_type": "slide"
    }
   },
   "source": [
    "Let's review the program for classifying a triangle based on side lengths."
   ]
  },
  {
   "cell_type": "code",
   "execution_count": 11,
   "metadata": {
    "slideshow": {
     "slide_type": "slide"
    }
   },
   "outputs": [
    {
     "name": "stdout",
     "output_type": "stream",
     "text": [
      "a: 3\n",
      "b: 4\n",
      "c: 5\n",
      "Right\n"
     ]
    }
   ],
   "source": [
    "def is_possible(a,b,c):\n",
    "    if a+b > c:\n",
    "        return True\n",
    "    else:\n",
    "        return False\n",
    "    \n",
    "def triangle_type(a,b,c):\n",
    "    if a**2+b**2 > c**2:\n",
    "        return \"Acute\"\n",
    "    elif a**2+b**2 == c**2:\n",
    "        return \"Right\"\n",
    "    else: \n",
    "        return \"Obtuse\"\n",
    "    \n",
    "a = int(input('a: '))\n",
    "b = int(input('b: '))\n",
    "c = int(input('c: '))\n",
    "\n",
    "if is_possible(a,b,c):\n",
    "    print(triangle_type(a,b,c))\n",
    "else:\n",
    "    print('Your triangle is not possible.')"
   ]
  },
  {
   "cell_type": "code",
   "execution_count": 38,
   "metadata": {},
   "outputs": [
    {
     "name": "stdout",
     "output_type": "stream",
     "text": [
      "hi\n"
     ]
    }
   ],
   "source": [
    "if 5:\n",
    "    print('hi')"
   ]
  },
  {
   "cell_type": "markdown",
   "metadata": {
    "slideshow": {
     "slide_type": "slide"
    }
   },
   "source": [
    "### Another functions example: Approximating pi\n",
    "Recall that we can inscribe a regular polygon inside a circle of radius 1:\n",
    "\n",
    "<img src=\"images/circle.png\" style=\"width: 200px;\"/>\n",
    "\n",
    "If we do that, then we find that the height of triangle AOB is $\\sin(\\frac{180}{n})$ and the base of triangle AOB is $2\\cos(\\frac{180}{n})$. Therefore, the area of the triangle is $\\sin(\\frac{180}{n})\\cos(\\frac{180}{n})$ and the area of the regular polygon is  $n\\sin(\\frac{180}{n})\\cos(\\frac{180}{n})$. \n",
    "\n",
    "To approximate pi, we can find the area of a regular polygon with a large number of sides, after first converting the angle into radians:"
   ]
  },
  {
   "cell_type": "code",
   "execution_count": 39,
   "metadata": {
    "slideshow": {
     "slide_type": "subslide"
    }
   },
   "outputs": [
    {
     "name": "stdout",
     "output_type": "stream",
     "text": [
      "3.1415719827794755\n"
     ]
    }
   ],
   "source": [
    "def polygon_area(n):\n",
    "    return n*math.sin(math.radians(180/n))*math.cos(math.radians(180/n))\n",
    "\n",
    "print(polygon_area(1000))"
   ]
  },
  {
   "cell_type": "markdown",
   "metadata": {
    "slideshow": {
     "slide_type": "slide"
    }
   },
   "source": [
    "Do the Calculus, Algebra, and Geometry Function Examples next."
   ]
  },
  {
   "cell_type": "markdown",
   "metadata": {
    "slideshow": {
     "slide_type": "slide"
    }
   },
   "source": [
    "### Exercise 1 (A Calculus Example): Finite Difference\n",
    "\n",
    "Write a program called derivative that takes in a function, an x value, and a threshold h and returns the approximate derivative of the function at that x value. For example, ```derivative(square, 3, 0.001)``` should return approximately 6.001 if you first define the square function to be \n",
    "```python\n",
    "def square(x):\n",
    "    return x**2\n",
    "```\n",
    "\n",
    "Recall that the finite difference formula is given by $\\frac{f(x+h) - f(x)}{h}$."
   ]
  },
  {
   "cell_type": "code",
   "execution_count": 110,
   "metadata": {
    "slideshow": {
     "slide_type": "subslide"
    }
   },
   "outputs": [],
   "source": [
    "### insert Calculus Example answer"
   ]
  },
  {
   "cell_type": "markdown",
   "metadata": {
    "slideshow": {
     "slide_type": "slide"
    }
   },
   "source": [
    "### Exercise 2 (An Algebra Example): Quadratic Formula\n",
    "Write a function that takes in a, b, and c and returns the roots of the quadratic equation $ax^2+bx+c=0$ in f-string format. Use a conditional statement and the determinant $ D=b^2-4ac $ to determine what form to return the roots in. Then, return f-strings. Here are some sample outputs:\n",
    "\n",
    "```\n",
    "print(quad_formula(1,-1,-6))\n",
    "print(quad_formula(1,-6,9))\n",
    "print(quad_formula(1,-6,13))\n",
    "\n",
    "should return:\n",
    "\n",
    "Your roots are 3.0 and -2.0.\n",
    "Your repeated root is 3.0.\n",
    "Your roots are 3.0+2.0i and 3.0-2.0i.\n",
    "```"
   ]
  },
  {
   "cell_type": "code",
   "execution_count": 109,
   "metadata": {
    "slideshow": {
     "slide_type": "subslide"
    }
   },
   "outputs": [],
   "source": [
    "### insert Algebra Example answer"
   ]
  },
  {
   "cell_type": "markdown",
   "metadata": {
    "slideshow": {
     "slide_type": "slide"
    }
   },
   "source": [
    "### Exercise 3 (A Geometry Example): The Ambiguous Case\n",
    "Write a function called SSA that takes in a side (a), side (b), angle (A) of a trianlge and determines whether none, one, or two triangles are possible. Be sure to first convert the angle from degrees to radians by multiplying the angle by $\\frac{\\pi}{180}$. Hint:\n",
    "\n",
    "<img src=\"images/ssa.png\" style=\"width: 500px;\"/>\n",
    "\n",
    "To check your work:\n",
    "```\n",
    "ssa(22,12,42) should give 1\n",
    "ssa(15,25,85) should give 0\n",
    "ssa(12,31,20.5) should give 2\n",
    "```"
   ]
  },
  {
   "cell_type": "code",
   "execution_count": 15,
   "metadata": {
    "slideshow": {
     "slide_type": "subslide"
    }
   },
   "outputs": [],
   "source": [
    "### insert Geometry Example answer"
   ]
  },
  {
   "cell_type": "markdown",
   "metadata": {
    "slideshow": {
     "slide_type": "slide"
    }
   },
   "source": [
    "### Packages"
   ]
  },
  {
   "cell_type": "code",
   "execution_count": 53,
   "metadata": {
    "slideshow": {
     "slide_type": "subslide"
    }
   },
   "outputs": [],
   "source": [
    "# the plotting package is matplotlib:\n",
    "import matplotlib.pyplot as plt \n",
    "# the next line allows you to view the plots more easily:\n",
    "%matplotlib inline\n",
    "# the numpy package has import math stuff in it:\n",
    "import numpy as np \n",
    "# the pandas package allows us to do spreadsheet stuff:\n",
    "import pandas as pd"
   ]
  },
  {
   "cell_type": "markdown",
   "metadata": {
    "slideshow": {
     "slide_type": "slide"
    }
   },
   "source": [
    "### Plotting\n",
    "Rather than type in the x coordinates manually, we can use the Python package numpy to create arrays of the x values.\n",
    "\n",
    "np.arange(0,10.5,0.5) will list all of the x-values between 0 and 10, inclusive, with a step size of 0.5:"
   ]
  },
  {
   "cell_type": "code",
   "execution_count": 54,
   "metadata": {
    "slideshow": {
     "slide_type": "fragment"
    }
   },
   "outputs": [
    {
     "name": "stdout",
     "output_type": "stream",
     "text": [
      "[ 0.   0.5  1.   1.5  2.   2.5  3.   3.5  4.   4.5  5.   5.5  6.   6.5\n",
      "  7.   7.5  8.   8.5  9.   9.5 10. ]\n"
     ]
    }
   ],
   "source": [
    "print(np.arange(0,10.5,0.5))"
   ]
  },
  {
   "cell_type": "markdown",
   "metadata": {
    "slideshow": {
     "slide_type": "slide"
    }
   },
   "source": [
    "We can then use these as the x-values and the square root of these x-values as the y-values:"
   ]
  },
  {
   "cell_type": "code",
   "execution_count": 67,
   "metadata": {
    "slideshow": {
     "slide_type": "fragment"
    }
   },
   "outputs": [
    {
     "data": {
      "image/png": "[encoded data removed]",
      "text/plain": [
       "<Figure size 432x288 with 1 Axes>"
      ]
     },
     "metadata": {
      "needs_background": "light"
     },
     "output_type": "display_data"
    }
   ],
   "source": [
    "x = np.arange(0,10.5,0.5)\n",
    "y=np.sqrt(x)\n",
    "plt.plot(x,y,'r.');"
   ]
  },
  {
   "cell_type": "markdown",
   "metadata": {
    "slideshow": {
     "slide_type": "slide"
    }
   },
   "source": [
    "We can also plot multiple graphs at once. Suppose I wanted to plot cosine and sine in red and blue. I could type:"
   ]
  },
  {
   "cell_type": "code",
   "execution_count": 108,
   "metadata": {
    "slideshow": {
     "slide_type": "fragment"
    }
   },
   "outputs": [
    {
     "data": {
      "image/png": "[encoded data removed]",
      "text/plain": [
       "<Figure size 432x288 with 1 Axes>"
      ]
     },
     "metadata": {
      "needs_background": "light"
     },
     "output_type": "display_data"
    }
   ],
   "source": [
    "x = np.arange(-np.pi,np.pi+0.1,0.1)\n",
    "y1=np.cos(x)\n",
    "y2=np.sin(x)\n",
    "plt.plot(x,y1,'r.');\n",
    "plt.plot(x,y2,'b.');"
   ]
  },
  {
   "cell_type": "markdown",
   "metadata": {
    "slideshow": {
     "slide_type": "slide"
    }
   },
   "source": [
    "### Plotting Lines of Best Fit"
   ]
  },
  {
   "cell_type": "code",
   "execution_count": 107,
   "metadata": {
    "slideshow": {
     "slide_type": "subslide"
    }
   },
   "outputs": [
    {
     "name": "stdout",
     "output_type": "stream",
     "text": [
      "[3.21793233e-04 1.30913153e-02 5.62375716e+01]\n",
      "           2\n",
      "0.0003218 x + 0.01309 x + 56.24\n"
     ]
    },
    {
     "data": {
      "image/png": "[encoded data removed]",
      "text/plain": [
       "<Figure size 432x288 with 1 Axes>"
      ]
     },
     "metadata": {
      "needs_background": "light"
     },
     "output_type": "display_data"
    }
   ],
   "source": [
    "weights = [100, 120, 90, 200, 210, 180, 150, 180, 175]\n",
    "heights = [60, 65, 59, 72, 75, 68, 68, 68, 65]\n",
    "plt.plot(weights, heights,'.');\n",
    "plt.xlabel('weight');\n",
    "plt.ylabel('height');\n",
    "plt.title('class today');\n",
    "\n",
    "#create line of best fit and print it\n",
    "fit = np.polyfit(weights, heights, 2) #gives the slope and y-intercept of the fit function\n",
    "fit_fn = np.poly1d(fit) #creates the linear equation of the fit function\n",
    "print(fit)\n",
    "print(fit_fn)\n",
    "plt.plot(weights, fit_fn(weights),'.'); #plot line"
   ]
  },
  {
   "cell_type": "markdown",
   "metadata": {
    "slideshow": {
     "slide_type": "slide"
    }
   },
   "source": [
    "### Looping\n",
    "Notice where the for loop starts and stops at:"
   ]
  },
  {
   "cell_type": "code",
   "execution_count": 18,
   "metadata": {
    "slideshow": {
     "slide_type": "subslide"
    }
   },
   "outputs": [
    {
     "name": "stdout",
     "output_type": "stream",
     "text": [
      "0\n",
      "1\n",
      "2\n",
      "3\n",
      "4\n",
      "5\n",
      "6\n",
      "7\n",
      "8\n",
      "9\n",
      "10\n"
     ]
    }
   ],
   "source": [
    "for i in range(11):\n",
    "    print(i)"
   ]
  },
  {
   "cell_type": "markdown",
   "metadata": {
    "slideshow": {
     "slide_type": "slide"
    }
   },
   "source": [
    "To start at 4:"
   ]
  },
  {
   "cell_type": "code",
   "execution_count": 19,
   "metadata": {
    "slideshow": {
     "slide_type": "fragment"
    }
   },
   "outputs": [
    {
     "name": "stdout",
     "output_type": "stream",
     "text": [
      "4\n",
      "5\n",
      "6\n",
      "7\n",
      "8\n",
      "9\n",
      "10\n"
     ]
    }
   ],
   "source": [
    "for i in range(4, 11):\n",
    "    print(i)"
   ]
  },
  {
   "cell_type": "markdown",
   "metadata": {
    "slideshow": {
     "slide_type": "slide"
    }
   },
   "source": [
    "To go every other:"
   ]
  },
  {
   "cell_type": "code",
   "execution_count": 20,
   "metadata": {
    "slideshow": {
     "slide_type": "fragment"
    }
   },
   "outputs": [
    {
     "name": "stdout",
     "output_type": "stream",
     "text": [
      "4\n",
      "6\n",
      "8\n",
      "10\n"
     ]
    }
   ],
   "source": [
    "for i in range(4, 11, 2):\n",
    "    print(i)"
   ]
  },
  {
   "cell_type": "markdown",
   "metadata": {
    "slideshow": {
     "slide_type": "slide"
    }
   },
   "source": [
    "To go backwards:"
   ]
  },
  {
   "cell_type": "code",
   "execution_count": 9,
   "metadata": {
    "slideshow": {
     "slide_type": "fragment"
    }
   },
   "outputs": [
    {
     "name": "stdout",
     "output_type": "stream",
     "text": [
      "10\n",
      "9\n",
      "8\n",
      "7\n",
      "6\n",
      "5\n"
     ]
    }
   ],
   "source": [
    "for i in range(10,4,-1):\n",
    "    print(i)"
   ]
  },
  {
   "cell_type": "markdown",
   "metadata": {
    "slideshow": {
     "slide_type": "slide"
    }
   },
   "source": [
    "To print all evens between m and n:"
   ]
  },
  {
   "cell_type": "code",
   "execution_count": 22,
   "metadata": {
    "slideshow": {
     "slide_type": "fragment"
    }
   },
   "outputs": [
    {
     "name": "stdout",
     "output_type": "stream",
     "text": [
      "8\n",
      "10\n",
      "12\n",
      "14\n",
      "16\n",
      "18\n",
      "20\n"
     ]
    }
   ],
   "source": [
    "def evens(m,n):\n",
    "    for i in range(m,n+1):\n",
    "        if i % 2 == 0:\n",
    "            print(i)\n",
    "\n",
    "evens(7,20)"
   ]
  },
  {
   "cell_type": "markdown",
   "metadata": {
    "slideshow": {
     "slide_type": "slide"
    }
   },
   "source": [
    "To print all factors of m:"
   ]
  },
  {
   "cell_type": "code",
   "execution_count": 97,
   "metadata": {},
   "outputs": [
    {
     "name": "stdout",
     "output_type": "stream",
     "text": [
      "1\n",
      "2\n",
      "4\n",
      "5\n",
      "10\n",
      "20\n"
     ]
    }
   ],
   "source": [
    "def factors(m):\n",
    "    for i in range(1,m+1):\n",
    "        if m % i == 0:\n",
    "            print(i)\n",
    "\n",
    "factors(20)"
   ]
  },
  {
   "cell_type": "code",
   "execution_count": 90,
   "metadata": {
    "slideshow": {
     "slide_type": "fragment"
    }
   },
   "outputs": [
    {
     "name": "stdout",
     "output_type": "stream",
     "text": [
      "1\n",
      "2\n",
      "4\n",
      "5\n",
      "10\n",
      "20\n"
     ]
    }
   ],
   "source": [
    "def factors(m):\n",
    "    for i in range(1,m+1):\n",
    "        if m % i == 0:\n",
    "            print(i)\n",
    "\n",
    "factors(20)"
   ]
  },
  {
   "cell_type": "markdown",
   "metadata": {
    "slideshow": {
     "slide_type": "slide"
    }
   },
   "source": [
    "The triangular numbers are created by summing the first n integers. For example:\n",
    "```\n",
    "1 = 1\n",
    "3 = 1 + 2\n",
    "6 = 1 + 2 + 3\n",
    "10 = 1 + 2 + 3 + 4\n",
    "15 = 1 + 2 + 3 + 4 + 5\n",
    "```\n",
    "We can create a counter that keeps track of these sums. We will initialize it to zero and then always update it to be whatever its value was before plus a new integer:"
   ]
  },
  {
   "cell_type": "code",
   "execution_count": 106,
   "metadata": {
    "slideshow": {
     "slide_type": "subslide"
    }
   },
   "outputs": [
    {
     "name": "stdout",
     "output_type": "stream",
     "text": [
      "1\n",
      "3\n",
      "6\n",
      "10\n",
      "15\n"
     ]
    }
   ],
   "source": [
    "def triangular(n):\n",
    "    counter = 0\n",
    "    for i in range(1,n+1):\n",
    "        counter = counter + i\n",
    "        print(counter)\n",
    "\n",
    "triangular(5)"
   ]
  },
  {
   "cell_type": "markdown",
   "metadata": {
    "slideshow": {
     "slide_type": "slide"
    }
   },
   "source": [
    "### Double For Loops\n",
    "Sometimes, we may need a double for loop to complete tasks (think: filling up a matrix!). To do that, we'll use 2 different counter variables, often denoted by i and j:"
   ]
  },
  {
   "cell_type": "code",
   "execution_count": 25,
   "metadata": {
    "slideshow": {
     "slide_type": "subslide"
    }
   },
   "outputs": [
    {
     "name": "stdout",
     "output_type": "stream",
     "text": [
      "0 0\n",
      "0 1\n",
      "0 2\n",
      "0 3\n",
      "0 4\n",
      "1 0\n",
      "1 1\n",
      "1 2\n",
      "1 3\n",
      "1 4\n",
      "2 0\n",
      "2 1\n",
      "2 2\n",
      "2 3\n",
      "2 4\n"
     ]
    }
   ],
   "source": [
    "for i in range(3):\n",
    "    for j in range(5):\n",
    "        print(i,j)"
   ]
  },
  {
   "cell_type": "markdown",
   "metadata": {
    "slideshow": {
     "slide_type": "slide"
    }
   },
   "source": [
    "To create multiplication tables:"
   ]
  },
  {
   "cell_type": "code",
   "execution_count": 26,
   "metadata": {
    "slideshow": {
     "slide_type": "subslide"
    }
   },
   "outputs": [
    {
     "name": "stdout",
     "output_type": "stream",
     "text": [
      "0x0=0\n",
      "0x1=0\n",
      "0x2=0\n",
      "0x3=0\n",
      "1x0=0\n",
      "1x1=1\n",
      "1x2=2\n",
      "1x3=3\n",
      "2x0=0\n",
      "2x1=2\n",
      "2x2=4\n",
      "2x3=6\n",
      "3x0=0\n",
      "3x1=3\n",
      "3x2=6\n",
      "3x3=9\n",
      "4x0=0\n",
      "4x1=4\n",
      "4x2=8\n",
      "4x3=12\n"
     ]
    }
   ],
   "source": [
    "def mult_tables(m,n):\n",
    "    for i in range(m+1):\n",
    "        for j in range(n+1):\n",
    "            print(f\"{i}x{j}={i*j}\")\n",
    "            \n",
    "mult_tables(4,3)"
   ]
  },
  {
   "cell_type": "markdown",
   "metadata": {
    "slideshow": {
     "slide_type": "slide"
    }
   },
   "source": [
    "Python actually allows us to update more than one variable simulataneously using commas. For example, suppose we wanted to keep track of both a sum and product of the factors. We could type:"
   ]
  },
  {
   "cell_type": "code",
   "execution_count": 105,
   "metadata": {
    "slideshow": {
     "slide_type": "subslide"
    }
   },
   "outputs": [
    {
     "name": "stdout",
     "output_type": "stream",
     "text": [
      "new factor = 1, new sum = 1, new product = 1\n",
      "new factor = 2, new sum = 3, new product = 2\n",
      "new factor = 4, new sum = 7, new product = 8\n",
      "new factor = 5, new sum = 12, new product = 40\n",
      "new factor = 10, new sum = 22, new product = 400\n",
      "new factor = 20, new sum = 42, new product = 8000\n"
     ]
    }
   ],
   "source": [
    "def sum_and_multiply_factors(n):\n",
    "    counter = 0\n",
    "    product = 1\n",
    "    for i in range(1,n+1):\n",
    "        if n % i == 0:\n",
    "            counter, product = counter + i, product * i\n",
    "            print(f\"new factor = {i}, new sum = {counter}, new product = {product}\")\n",
    "            \n",
    "sum_and_multiply_factors(20)"
   ]
  },
  {
   "cell_type": "markdown",
   "metadata": {
    "slideshow": {
     "slide_type": "slide"
    }
   },
   "source": [
    "Updating more than one variable simulaneously will help us generate the nth term of the Fibonnaci sequence:"
   ]
  },
  {
   "cell_type": "code",
   "execution_count": 104,
   "metadata": {
    "slideshow": {
     "slide_type": "subslide"
    }
   },
   "outputs": [
    {
     "name": "stdout",
     "output_type": "stream",
     "text": [
      "a1=1\n",
      "a2=1\n",
      "a3=2\n",
      "a4=3\n",
      "a5=5\n",
      "a6=8\n",
      "a7=13\n"
     ]
    }
   ],
   "source": [
    "def fibonacci(n):\n",
    "    print(\"a1=1\")\n",
    "    print(\"a2=1\")\n",
    "    old = 1\n",
    "    new = 1\n",
    "    for i in range(3,n+1):\n",
    "        old, new = new, old + new\n",
    "        print(f\"a{i}={new}\")\n",
    "\n",
    "fibonacci(7)"
   ]
  },
  {
   "cell_type": "markdown",
   "metadata": {
    "slideshow": {
     "slide_type": "slide"
    }
   },
   "source": [
    "As another example, let's implement Euler's method to approximate the solution to $\\frac{dy}{dx} = f(x,y)$. We'll write a program called euler that takes in a function $f(x,y)$, an initial x value $x_0$, an initial y value $y_0$, a step size $h$, and an end x value $x_n$ and returns the end y-value approximation. We'll simultaneously update the x and y values according to the equations:\n",
    "\n",
    "$x_{n+1}=x_n+h$\n",
    "\n",
    "$y_{n+1}=y_n+hf(x_n,y_n)$"
   ]
  },
  {
   "cell_type": "code",
   "execution_count": 103,
   "metadata": {
    "slideshow": {
     "slide_type": "subslide"
    }
   },
   "outputs": [
    {
     "name": "stdout",
     "output_type": "stream",
     "text": [
      "0.5 1.0\n",
      "1.0 1.2397127693021015\n",
      "1.5 1.6604482617060499\n",
      "2.0 2.159195755008077\n",
      "2.159195755008077\n"
     ]
    }
   ],
   "source": [
    "def euler(f,x0,y0,h,xn):\n",
    "    steps = int((xn-x0)/h)\n",
    "    for i in range(steps):\n",
    "        x0, y0 = x0 + h, y0+h*f(x0)\n",
    "        print(x0, y0)\n",
    "    return y0\n",
    "\n",
    "print(euler(np.sin, 0, 1, 0.5, 2))"
   ]
  },
  {
   "cell_type": "code",
   "execution_count": null,
   "metadata": {},
   "outputs": [],
   "source": []
  }
 ],
 "metadata": {
  "celltoolbar": "Slideshow",
  "kernelspec": {
   "display_name": "Python 3",
   "language": "python",
   "name": "python3"
  },
  "language_info": {
   "codemirror_mode": {
    "name": "ipython",
    "version": 3
   },
   "file_extension": ".py",
   "mimetype": "text/x-python",
   "name": "python",
   "nbconvert_exporter": "python",
   "pygments_lexer": "ipython3",
   "version": "3.7.3"
  }
 },
 "nbformat": 4,
 "nbformat_minor": 2
}
