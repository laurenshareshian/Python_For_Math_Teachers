{
 "cells": [
  {
   "cell_type": "markdown",
   "metadata": {},
   "source": [
    "Run the cell below to import the required packages for this notebook:"
   ]
  },
  {
   "cell_type": "code",
   "execution_count": 53,
   "metadata": {},
   "outputs": [],
   "source": [
    "# the plotting package is matplotlib:\n",
    "import matplotlib.pyplot as plt \n",
    "# the next line allows you to view the plots more easily:\n",
    "%matplotlib inline\n",
    "# the numpy package has import math stuff in it:\n",
    "import numpy as np \n",
    "# the pandas package allows us to do spreadsheet stuff:\n",
    "import pandas as pd"
   ]
  },
  {
   "cell_type": "markdown",
   "metadata": {},
   "source": [
    "Recall Euler's method to approximate the solution to $\\frac{dy}{dx} = f(x,y)$. We'll write a program called euler that takes in a function $f(x,y)$, an initial x value $x_0$, an initial y value $y_0$, a step size $h$, and an end x value $x_1$ and returns the end y-value approximation. We'll simultaneously update the x and y values:"
   ]
  },
  {
   "cell_type": "code",
   "execution_count": 54,
   "metadata": {},
   "outputs": [
    {
     "name": "stdout",
     "output_type": "stream",
     "text": [
      "0.5 1.0\n",
      "1.0 1.2397127693021015\n",
      "1.5 1.6604482617060499\n",
      "2.0 2.159195755008077\n",
      "2.159195755008077\n"
     ]
    }
   ],
   "source": [
    "def euler(f,x0,y0,h,x1):\n",
    "    steps = int((x1-x0)/h)\n",
    "    for i in range(steps):\n",
    "        x0, y0 = x0 + h, y0+h*f(x0)\n",
    "        print(x0, y0)\n",
    "    return y0\n",
    "\n",
    "print(euler(np.sin, 0, 1, 0.5, 2))"
   ]
  },
  {
   "cell_type": "markdown",
   "metadata": {},
   "source": [
    "Notice that up until now, we've been only printing values, not storing them for later use. If we want to plot the Euler's method solution, for example, we'll definitely want to store all of the Euler's method (x,y) coordinates in a list. Therefore, let's learn about lists next."
   ]
  },
  {
   "cell_type": "markdown",
   "metadata": {},
   "source": [
    "### Lists\n",
    "Lists start at index 0 (not 1). \n",
    "\n",
    "We can reference the length of the list using \"len\".\n",
    "\n",
    "Here's a list of dogs:"
   ]
  },
  {
   "cell_type": "code",
   "execution_count": 55,
   "metadata": {},
   "outputs": [
    {
     "name": "stdout",
     "output_type": "stream",
     "text": [
      "['border collie', 'australian cattle dog', 'labrador retriever']\n",
      "border collie\n",
      "australian cattle dog\n",
      "labrador retriever\n",
      "3\n"
     ]
    }
   ],
   "source": [
    "dogs = ['border collie', 'australian cattle dog', 'labrador retriever']\n",
    "print(dogs)\n",
    "print(dogs[0])\n",
    "print(dogs[1])\n",
    "print(dogs[2])\n",
    "print(len(dogs))"
   ]
  },
  {
   "cell_type": "markdown",
   "metadata": {},
   "source": [
    "We can create empty lists using square brackets.\n",
    "\n",
    "We can add things to lists by using .append:"
   ]
  },
  {
   "cell_type": "code",
   "execution_count": 56,
   "metadata": {},
   "outputs": [
    {
     "name": "stdout",
     "output_type": "stream",
     "text": [
      "['pit bull', 'boxer', 'labrador']\n"
     ]
    }
   ],
   "source": [
    "dogs = []\n",
    "dogs.append('pit bull')\n",
    "dogs.append('boxer')\n",
    "dogs.append('labrador')\n",
    "print(dogs)"
   ]
  },
  {
   "cell_type": "markdown",
   "metadata": {},
   "source": [
    "We can loop through lists using for loops:"
   ]
  },
  {
   "cell_type": "code",
   "execution_count": 57,
   "metadata": {},
   "outputs": [
    {
     "name": "stdout",
     "output_type": "stream",
     "text": [
      "border collie\n",
      "australian cattle dog\n",
      "labrador retriever\n"
     ]
    }
   ],
   "source": [
    "dogs = ['border collie', 'australian cattle dog', 'labrador retriever']\n",
    "for doggie in dogs:\n",
    "    print(doggie)"
   ]
  },
  {
   "cell_type": "markdown",
   "metadata": {},
   "source": [
    "Be careful, though, because looping through lists is one of the trickiest things to get started with. What if I had printed \"dogs\" instead of \"doggie\" inside the for loop? It would just print the entire dogs list three times:"
   ]
  },
  {
   "cell_type": "code",
   "execution_count": 58,
   "metadata": {},
   "outputs": [
    {
     "name": "stdout",
     "output_type": "stream",
     "text": [
      "['border collie', 'australian cattle dog', 'labrador retriever']\n",
      "['border collie', 'australian cattle dog', 'labrador retriever']\n",
      "['border collie', 'australian cattle dog', 'labrador retriever']\n"
     ]
    }
   ],
   "source": [
    "dogs = ['border collie', 'australian cattle dog', 'labrador retriever']\n",
    "for doggie in dogs:\n",
    "    print(dogs)"
   ]
  },
  {
   "cell_type": "markdown",
   "metadata": {},
   "source": [
    "Notice that \"for doggie in dogs\" simply creates a loop that executes three times, and you can specify whatever you want inside that loop by indenting the commands:"
   ]
  },
  {
   "cell_type": "code",
   "execution_count": 59,
   "metadata": {},
   "outputs": [
    {
     "name": "stdout",
     "output_type": "stream",
     "text": [
      "I'm about to enter the doggie loop.\n",
      "Hi! This is time 1 through the doggie loop.\n",
      "Hi! This is time 2 through the doggie loop.\n",
      "Hi! This is time 3 through the doggie loop.\n",
      "Now I'm out of the doggie loop.\n"
     ]
    }
   ],
   "source": [
    "dogs = ['border collie', 'australian cattle dog', 'labrador retriever']\n",
    "\n",
    "print(\"I'm about to enter the doggie loop.\")\n",
    "\n",
    "count = 1\n",
    "for doggie in dogs:\n",
    "    print(\"Hi! This is time\", count, \"through the doggie loop.\")\n",
    "    count = count + 1\n",
    "    \n",
    "print(\"Now I'm out of the doggie loop.\")"
   ]
  },
  {
   "cell_type": "markdown",
   "metadata": {},
   "source": [
    "Here's an example where I sum all of the expenses in my list:"
   ]
  },
  {
   "cell_type": "code",
   "execution_count": 60,
   "metadata": {},
   "outputs": [
    {
     "data": {
      "text/plain": [
       "150"
      ]
     },
     "execution_count": 60,
     "metadata": {},
     "output_type": "execute_result"
    }
   ],
   "source": [
    "def sum_expenses(expenses):\n",
    "    counter = 0\n",
    "    for expense in expenses:\n",
    "        counter = counter + expense\n",
    "    return counter\n",
    "\n",
    "expenses = [20, 100, -50, 0, 80]\n",
    "\n",
    "sum_expenses(expenses)"
   ]
  },
  {
   "cell_type": "markdown",
   "metadata": {},
   "source": [
    "We can even add conditional statements in to print a message about the user's balance:"
   ]
  },
  {
   "cell_type": "code",
   "execution_count": 61,
   "metadata": {},
   "outputs": [
    {
     "name": "stdout",
     "output_type": "stream",
     "text": [
      "Your balance is positive!\n"
     ]
    },
    {
     "data": {
      "text/plain": [
       "150"
      ]
     },
     "execution_count": 61,
     "metadata": {},
     "output_type": "execute_result"
    }
   ],
   "source": [
    "def sum_expenses(expenses):\n",
    "    counter = 0\n",
    "    for expense in expenses:\n",
    "        counter = counter + expense\n",
    "    if counter > 0:\n",
    "        print(\"Your balance is positive!\")\n",
    "    elif counter == 0:\n",
    "        print(\"You have no money left!\")\n",
    "    else:\n",
    "        print(\"You owe money!\")\n",
    "    return counter\n",
    "\n",
    "expenses = [20, 100, -50, 0, 80]\n",
    "\n",
    "sum_expenses(expenses)"
   ]
  },
  {
   "cell_type": "markdown",
   "metadata": {},
   "source": [
    "We can iterate through lists in two ways. \n",
    "\n",
    "Firstly, we can say something like \"for item in item_list\" like we did earlier:"
   ]
  },
  {
   "cell_type": "code",
   "execution_count": 62,
   "metadata": {},
   "outputs": [
    {
     "name": "stdout",
     "output_type": "stream",
     "text": [
      "border collie\n",
      "australian cattle dog\n",
      "labrador retriever\n",
      "pitbull\n"
     ]
    }
   ],
   "source": [
    "doggies = ['border collie', 'australian cattle dog', 'labrador retriever', 'pitbull']\n",
    "for dog in doggies:\n",
    "    print(dog)"
   ]
  },
  {
   "cell_type": "markdown",
   "metadata": {},
   "source": [
    "Alternatively, we can use the range function to iterate through the list by using its index value:"
   ]
  },
  {
   "cell_type": "code",
   "execution_count": 63,
   "metadata": {},
   "outputs": [
    {
     "name": "stdout",
     "output_type": "stream",
     "text": [
      "border collie\n",
      "australian cattle dog\n",
      "labrador retriever\n",
      "pit bull\n"
     ]
    }
   ],
   "source": [
    "dogs = ['border collie', 'australian cattle dog', 'labrador retriever', 'pit bull']\n",
    "for i in range(len(dogs)):\n",
    "    print(dogs[i])"
   ]
  },
  {
   "cell_type": "markdown",
   "metadata": {},
   "source": [
    "Even though the second method looks uglier, it is sometimes helpful since it gives us more control over what items in the list we choose to iterate through (only the even indexed items, for example):"
   ]
  },
  {
   "cell_type": "code",
   "execution_count": 64,
   "metadata": {},
   "outputs": [
    {
     "name": "stdout",
     "output_type": "stream",
     "text": [
      "border collie\n",
      "labrador retriever\n"
     ]
    }
   ],
   "source": [
    "dogs = ['border collie', 'australian cattle dog', 'labrador retriever', 'pit bull']\n",
    "for i in range(0,len(dogs),2):\n",
    "    print(dogs[i])"
   ]
  },
  {
   "cell_type": "markdown",
   "metadata": {},
   "source": [
    "We often want to add things to a list within a for loop. To add all of the integers between 0 and 10, we can type:"
   ]
  },
  {
   "cell_type": "code",
   "execution_count": 65,
   "metadata": {},
   "outputs": [
    {
     "name": "stdout",
     "output_type": "stream",
     "text": [
      "[0, 1, 2, 3, 4, 5, 6, 7, 8, 9, 10]\n"
     ]
    }
   ],
   "source": [
    "integers = []\n",
    "for i in range(11):\n",
    "    integers.append(i)\n",
    "print(integers)"
   ]
  },
  {
   "cell_type": "markdown",
   "metadata": {},
   "source": [
    "What if we wanted to add all of the factors of 20 to a list?"
   ]
  },
  {
   "cell_type": "code",
   "execution_count": 66,
   "metadata": {},
   "outputs": [
    {
     "name": "stdout",
     "output_type": "stream",
     "text": [
      "[1, 2, 4, 5, 10, 20]\n"
     ]
    }
   ],
   "source": [
    "factors = []\n",
    "for i in range(1,21):\n",
    "    if 20 % i == 0:\n",
    "        factors.append(i)\n",
    "print(factors)"
   ]
  },
  {
   "cell_type": "markdown",
   "metadata": {},
   "source": [
    "Going back to Euler's method, we can create two lists, one for the x and one for the y coordinates."
   ]
  },
  {
   "cell_type": "code",
   "execution_count": 67,
   "metadata": {},
   "outputs": [
    {
     "name": "stdout",
     "output_type": "stream",
     "text": [
      "0.5 1.0\n",
      "1.0 1.2397127693021015\n",
      "1.5 1.6604482617060499\n",
      "2.0 2.159195755008077\n"
     ]
    }
   ],
   "source": [
    "def euler(f,x0,y0,h,x1):\n",
    "    x = np.arange(x0,x1+h,h) #generates list of x coordinates between x0 and x1 using step size h\n",
    "    y = [y0]\n",
    "    for i in range(1,len(x)):\n",
    "        y0 = y0+h*f(x[i-1])\n",
    "        y.append(y0)\n",
    "        print(x[i], y[i])\n",
    "\n",
    "euler(np.sin, 0, 1, 0.5, 2)"
   ]
  },
  {
   "cell_type": "markdown",
   "metadata": {},
   "source": [
    "We can then plot the coordinates:"
   ]
  },
  {
   "cell_type": "code",
   "execution_count": 68,
   "metadata": {},
   "outputs": [
    {
     "data": {
      "image/png": "[encoded data removed]",
      "text/plain": [
       "<Figure size 432x288 with 1 Axes>"
      ]
     },
     "metadata": {
      "needs_background": "light"
     },
     "output_type": "display_data"
    }
   ],
   "source": [
    "def euler(f,x0,y0,h,x1):\n",
    "    x = np.arange(x0,x1+h,h) \n",
    "    y = [y0]\n",
    "    for i in range(1,len(x)):\n",
    "        y0 = y0+h*f(x[i-1])\n",
    "        y.append(y0)\n",
    "    plt.plot(x,y,'r.')\n",
    "\n",
    "euler(np.sin, 0, 1, 0.5, 2)"
   ]
  },
  {
   "cell_type": "markdown",
   "metadata": {},
   "source": [
    "How does the Euler's method approximation compare to the true solution $y=2-\\cos(x)$?"
   ]
  },
  {
   "cell_type": "code",
   "execution_count": 69,
   "metadata": {},
   "outputs": [
    {
     "data": {
      "image/png": "[encoded data removed]",
      "text/plain": [
       "<Figure size 432x288 with 1 Axes>"
      ]
     },
     "metadata": {
      "needs_background": "light"
     },
     "output_type": "display_data"
    }
   ],
   "source": [
    "def euler(f,x0,y0,h,x1):\n",
    "    x = np.arange(x0,x1+h,h) \n",
    "    y = [y0]\n",
    "    for i in range(1,len(x)):\n",
    "        y0 = y0+h*f(x[i-1])\n",
    "        y.append(y0)\n",
    "    plt.plot(x,y,'r.')\n",
    "    plt.plot(x,2-np.cos(x),'b.')\n",
    "\n",
    "euler(np.sin, 0, 1, 0.5, 2)"
   ]
  },
  {
   "cell_type": "markdown",
   "metadata": {},
   "source": [
    "As one last example, suppose I want to create the Fibonacci sequence by referencing the last two items in my list and adding them. The indices \"-1\" and \"-2\" reference the last two items in the list:"
   ]
  },
  {
   "cell_type": "code",
   "execution_count": 70,
   "metadata": {},
   "outputs": [
    {
     "data": {
      "text/plain": [
       "[1, 1, 2, 3, 5, 8, 13]"
      ]
     },
     "execution_count": 70,
     "metadata": {},
     "output_type": "execute_result"
    }
   ],
   "source": [
    "def fibonacci(n):\n",
    "    sequence = [1,1]\n",
    "    for i in range(2,n):\n",
    "        sequence.append(sequence[-1]+sequence[-2])\n",
    "    return sequence\n",
    "\n",
    "fibonacci(7)"
   ]
  },
  {
   "cell_type": "markdown",
   "metadata": {},
   "source": [
    "### In-class Exercise: Great Lakes Pollution or SIRS Infectious Disease\n",
    "Look at Great Lakes Problem (precal) or the SIRS infectious disease problem (calc). Use iteration and plotting to view the solution. First, do the iteration in a spreadsheet and THEN do it in Python."
   ]
  },
  {
   "cell_type": "markdown",
   "metadata": {},
   "source": [
    "### Great Lakes Solution"
   ]
  },
  {
   "cell_type": "markdown",
   "metadata": {},
   "source": [
    "Here is one way to do the problem:"
   ]
  },
  {
   "cell_type": "code",
   "execution_count": 71,
   "metadata": {},
   "outputs": [
    {
     "name": "stdout",
     "output_type": "stream",
     "text": [
      "0 3500 1800 2400\n",
      "0 3140.0 1537.0 2760.0\n",
      "0 2819.6 1329.08 2982.12\n",
      "0 2534.444 1160.7672 3102.7344\n",
      "0 2280.65516 1021.679848 3148.282464\n",
      "0 2054.7830924 904.74717032 3138.2933135999997\n",
      "0 1853.756952236 805.0643291688 3087.4070972831996\n",
      "0 1674.8436874900399 719.154435413992 3006.7414041099837\n",
      "0 1515.6108818661355 644.4916442888593 2904.8280323658228\n",
      "0 1373.8936848608605 579.1918493501448 2788.265660425913\n"
     ]
    },
    {
     "data": {
      "text/plain": [
       "<matplotlib.legend.Legend at 0x118a447f0>"
      ]
     },
     "execution_count": 71,
     "metadata": {},
     "output_type": "execute_result"
    },
    {
     "data": {
      "image/png": "[encoded data removed]",
      "text/plain": [
       "<Figure size 432x288 with 1 Axes>"
      ]
     },
     "metadata": {
      "needs_background": "light"
     },
     "output_type": "display_data"
    }
   ],
   "source": [
    "huron = [3500]\n",
    "erie = [1800]\n",
    "ontario = [2400]\n",
    "years = [0]\n",
    "for i in range(100):\n",
    "    huron.append(25-0.11*huron[i]+huron[i])\n",
    "    erie.append(0.11*huron[i]-0.36*erie[i]+erie[i])\n",
    "    ontario.append(0.36*erie[i]-0.12*ontario[i]+ontario[i])\n",
    "    years.append(years[i]+1)\n",
    "    \n",
    "for i in range(10):\n",
    "    print(years[0],huron[i], erie[i], ontario[i])\n",
    "    \n",
    "plt.plot(years, huron, 'b.', label = 'huron')\n",
    "plt.plot(years, erie, 'r.', label = 'erie')\n",
    "plt.plot(years, ontario, 'g.', label = 'ontario')\n",
    "plt.xlabel('years')\n",
    "plt.ylabel('pollution')\n",
    "plt.legend(loc='upper right')"
   ]
  },
  {
   "cell_type": "markdown",
   "metadata": {},
   "source": [
    "Here is another way to do the problem:"
   ]
  },
  {
   "cell_type": "code",
   "execution_count": 72,
   "metadata": {},
   "outputs": [
    {
     "name": "stdout",
     "output_type": "stream",
     "text": [
      "0 3500 1800 2400\n",
      "0 3140.0 1537.0 2760.0\n",
      "0 2819.6 1329.08 2982.12\n",
      "0 2534.444 1160.7672 3102.7344\n",
      "0 2280.65516 1021.679848 3148.282464\n",
      "0 2054.7830924 904.74717032 3138.2933135999997\n",
      "0 1853.756952236 805.0643291688 3087.4070972831996\n",
      "0 1674.8436874900399 719.154435413992 3006.7414041099837\n",
      "0 1515.6108818661355 644.4916442888593 2904.8280323658228\n",
      "0 1373.8936848608605 579.1918493501448 2788.265660425913\n"
     ]
    },
    {
     "data": {
      "text/plain": [
       "<matplotlib.legend.Legend at 0x1064c2a20>"
      ]
     },
     "execution_count": 72,
     "metadata": {},
     "output_type": "execute_result"
    },
    {
     "data": {
      "image/png": "[encoded data removed]",
      "text/plain": [
       "<Figure size 432x288 with 1 Axes>"
      ]
     },
     "metadata": {
      "needs_background": "light"
     },
     "output_type": "display_data"
    }
   ],
   "source": [
    "huron = [3500]\n",
    "erie = [1800]\n",
    "ontario = [2400]\n",
    "years = [0]\n",
    "for i in range(100):\n",
    "    huron.append(25-0.11*huron[-1]+huron[-1])\n",
    "    erie.append(0.11*huron[-2]-0.36*erie[-1]+erie[-1])\n",
    "    ontario.append(0.36*erie[-2]-0.12*ontario[-1]+ontario[-1])\n",
    "    years.append(years[-1]+1)\n",
    "    \n",
    "for i in range(10):\n",
    "    print(years[0],huron[i], erie[i], ontario[i])\n",
    "    \n",
    "plt.plot(years, huron, 'b.', label = 'huron')\n",
    "plt.plot(years, erie, 'r.', label = 'erie')\n",
    "plt.plot(years, ontario, 'g.', label = 'ontario')\n",
    "plt.xlabel('years')\n",
    "plt.ylabel('pollution')\n",
    "plt.legend(loc='upper right')"
   ]
  },
  {
   "cell_type": "markdown",
   "metadata": {},
   "source": [
    "### SIRS Solution:"
   ]
  },
  {
   "cell_type": "code",
   "execution_count": null,
   "metadata": {},
   "outputs": [],
   "source": [
    "sus = [0.9]\n",
    "inf = [0.1]\n",
    "rem = [0.0]\n",
    "days = [0]\n",
    "\n",
    "#create your ds/dt and di/dt functions\n",
    "def ds_dt(s,i):\n",
    "    return -0.6*s*i+0.1*(1-s-i)\n",
    "\n",
    "def di_dt(s,i):\n",
    "    return 0.6*s*i-.34*i\n",
    "\n",
    "#Euler's method\n",
    "for i in range(100):\n",
    "    sus.append(sus[i]+1*ds_dt(sus[i], inf[i]))\n",
    "    inf.append(inf[i]+1*di_dt(sus[i], inf[i]))\n",
    "    rem.append(1-sus[i]-inf[i])\n",
    "    days.append(days[i]+1)\n",
    "\n",
    "for i in range(10):\n",
    "    print(days[i],sus[i], inf[i], rem[i])\n",
    "    \n",
    "plt.plot(days, inf, 'b.', label = 'inf')\n",
    "plt.plot(days, sus, 'r.', label = 'sus')\n",
    "plt.plot(days, rem, 'g.', label = 'rem')\n",
    "plt.xlabel('days')\n",
    "plt.ylabel('percent')\n",
    "plt.legend(loc='upper right')"
   ]
  },
  {
   "cell_type": "markdown",
   "metadata": {},
   "source": [
    "To do a subplot of the time plot and the phase plane, you can type the following. More subplot examples are located here:\n",
    "\n",
    "https://matplotlib.org/3.1.0/gallery/subplots_axes_and_figures/subplots_demo.html"
   ]
  },
  {
   "cell_type": "code",
   "execution_count": null,
   "metadata": {},
   "outputs": [],
   "source": [
    "plt.rcParams['figure.figsize'] = [20, 10] #makes figure bigger\n",
    "fig, (ax1, ax2) = plt.subplots(2) #creates two vertical subplots\n",
    "\n",
    "fig.suptitle('Infectious Disease Modeling') #puts title above both of them\n",
    "\n",
    "ax1.plot(days, inf, 'b.', label = 'inf')\n",
    "ax1.plot(days, sus, 'r.', label = 'sus')\n",
    "ax1.plot(days, rem, 'g.', label = 'rem')\n",
    "\n",
    "ax1.set_xlabel('days')\n",
    "ax1.set_ylabel('percent')\n",
    "ax1.set_title('Time plot')\n",
    "ax1.legend(loc='upper right')\n",
    "\n",
    "ax2.plot(sus, inf, '.')\n",
    "ax2.set_title('Phase Plane')\n",
    "ax2.set_xlabel('susceptible')\n",
    "ax2.set_ylabel('infected')"
   ]
  },
  {
   "cell_type": "markdown",
   "metadata": {},
   "source": [
    "### In-class or for homework bonus exercise: China Population - A Leslie Model\n",
    "Open the \"china shorter handout.\" Model the population of China. You can do this using the same iteration techniques as above OR if you know a little bit of linear algebra you can use it. Multiplying the Leslie Matrix a certain number of times by the initial population vector will give you the population later in time. In addition, calculating the largest real eigenvalue will give you the growth or decay rate. See \"Day 2 Notes\" for more linear algebra Python tips."
   ]
  },
  {
   "cell_type": "markdown",
   "metadata": {},
   "source": [
    "### China Solution\n",
    "For the China example, our Leslie Matrix and our initial population vector are:"
   ]
  },
  {
   "cell_type": "code",
   "execution_count": null,
   "metadata": {},
   "outputs": [],
   "source": [
    "L = np.matrix([[0,.28,.22,0,0,0,0,0,0], \n",
    "               [.97,0,0,0,0,0,0,0,0],\n",
    "              [0,.993,0,0,0,0,0,0,0],\n",
    "              [0,0,.987,0,0,0,0,0,0],\n",
    "              [0,0,0,.981,0,0,0,0,0],\n",
    "              [0,0,0,0,.962,0,0,0,0],\n",
    "              [0,0,0,0,0,.907,0,0,0],\n",
    "              [0,0,0,0,0,0,.761,0,0],\n",
    "              [0,0,0,0,0,0,0,.51,0]])\n",
    "P = np.matrix([[102],[129],[85],[64],[49],[37],[24],[11],[3]])"
   ]
  },
  {
   "cell_type": "markdown",
   "metadata": {},
   "source": [
    "So one iteration (10 years later) in 1992, the population distributions are:"
   ]
  },
  {
   "cell_type": "code",
   "execution_count": null,
   "metadata": {},
   "outputs": [],
   "source": [
    "print(L*P)"
   ]
  },
  {
   "cell_type": "markdown",
   "metadata": {},
   "source": [
    "10 iterations (100 years) later in 2082:"
   ]
  },
  {
   "cell_type": "code",
   "execution_count": null,
   "metadata": {},
   "outputs": [],
   "source": [
    "print(L**10*P)"
   ]
  },
  {
   "cell_type": "markdown",
   "metadata": {},
   "source": [
    "The growth rate is the largest eigenvalue. Thus, the largest eigenvaule of 0.75 corresponds to the fact that the population is decreasing at a rate of 25% every 10 years in the long run."
   ]
  },
  {
   "cell_type": "code",
   "execution_count": null,
   "metadata": {},
   "outputs": [],
   "source": [
    "from scipy import linalg\n",
    "eigenvalues, eigenvectors = linalg.eig(L)\n",
    "print(eigenvalues)"
   ]
  },
  {
   "cell_type": "markdown",
   "metadata": {},
   "source": [
    "### Introduction to Simulations"
   ]
  },
  {
   "cell_type": "markdown",
   "metadata": {},
   "source": [
    "### Random Numbers\n",
    "\n",
    "To generate a random number between 0 and 1, we can use the random package:"
   ]
  },
  {
   "cell_type": "code",
   "execution_count": null,
   "metadata": {},
   "outputs": [],
   "source": [
    "import random\n",
    "\n",
    "print(random.random())"
   ]
  },
  {
   "cell_type": "markdown",
   "metadata": {},
   "source": [
    "To generate five random numbers, we could create a loop:"
   ]
  },
  {
   "cell_type": "code",
   "execution_count": null,
   "metadata": {},
   "outputs": [],
   "source": [
    "for i in range(5):\n",
    "    print(random.random())"
   ]
  },
  {
   "cell_type": "markdown",
   "metadata": {},
   "source": [
    "To simulate five rolls of a die between 1 and 6, inclusive, type:"
   ]
  },
  {
   "cell_type": "code",
   "execution_count": null,
   "metadata": {},
   "outputs": [],
   "source": [
    "for i in range(5):\n",
    "    print(random.randint(1,6))"
   ]
  },
  {
   "cell_type": "markdown",
   "metadata": {},
   "source": [
    "We can also use the random function to pick random elements from a list. For example, to pick a random student's name from a group of 5 students, we could type:"
   ]
  },
  {
   "cell_type": "code",
   "execution_count": null,
   "metadata": {},
   "outputs": [],
   "source": [
    "students = ['Jack', 'Abby', 'Mary', 'Peter', \"Stella\"]\n",
    "print(random.choice(students))\n"
   ]
  },
  {
   "cell_type": "markdown",
   "metadata": {},
   "source": [
    "If I wanted to generate two random names from the list, I could use the sample method, which samples without replacement:"
   ]
  },
  {
   "cell_type": "code",
   "execution_count": null,
   "metadata": {},
   "outputs": [],
   "source": [
    "students = ['Jack', 'Abby', 'Mary', 'Peter', \"Stella\"]\n",
    "print(random.sample(students,2))"
   ]
  },
  {
   "cell_type": "markdown",
   "metadata": {},
   "source": [
    "Suppose you want to simulate rolling a die and add each die roll to a list. Yes, you can create a list of numbers 1,2,3,4,5, and 6, but if you do rand(sample, 3), then you'll never get the same number twice, which doesn't make sense, since the rolls of the dice are independent of each other. To randomly generate ten rolls and add them to a list, where some numbers may be the same, type:"
   ]
  },
  {
   "cell_type": "code",
   "execution_count": null,
   "metadata": {},
   "outputs": [],
   "source": [
    "rolls = []\n",
    "for i in range(10):\n",
    "    rolls.append(random.randint(1,6))\n",
    "print(rolls)"
   ]
  },
  {
   "cell_type": "markdown",
   "metadata": {},
   "source": [
    "What if it wasn't a fair die? What if the probability of getting each number was given by:\n",
    "\n",
    "|  Die Face |Probability   |\n",
    "|---   |---   |\n",
    "|1 |0.05  | \n",
    "|2 | 0.05 |\n",
    "|3 |0.50  |\n",
    "|4 | 0.10 |\n",
    "|5 |0.20  |\n",
    "|6 | 0.10 |\n",
    "\n",
    "Then we would select numbers between 0 and 99 based on the above probabilities. For example, since there is a 5% chance that we will roll a 1, we'll assign the numbers 0,1,2,3, and 4 to the die roll 1. Here are fifty rolls:"
   ]
  },
  {
   "cell_type": "code",
   "execution_count": null,
   "metadata": {},
   "outputs": [],
   "source": [
    "rolls = []\n",
    "for i in range(50):\n",
    "    roll = random.randint(0,99)\n",
    "    if 0 <= roll < 5:\n",
    "        rolls.append(1)\n",
    "    if 5 <= roll < 10:\n",
    "        rolls.append(2)\n",
    "    if 10 <= roll < 60:\n",
    "        rolls.append(3)\n",
    "    if 60 <= roll < 70:\n",
    "        rolls.append(4)\n",
    "    if 70 <= roll < 90:\n",
    "        rolls.append(5)\n",
    "    if 90 <= roll < 100:\n",
    "        rolls.append(6)\n",
    "print(rolls)"
   ]
  },
  {
   "cell_type": "markdown",
   "metadata": {},
   "source": [
    "What was our average die roll?"
   ]
  },
  {
   "cell_type": "code",
   "execution_count": null,
   "metadata": {},
   "outputs": [],
   "source": [
    "print(sum(rolls)/len(rolls))"
   ]
  },
  {
   "cell_type": "markdown",
   "metadata": {},
   "source": [
    "As another example, suppose that you have an unfair coin that has a 60% probability of coming up heads and you toss it ten times. On average, what percentage of the time will you get at least 8 heads?\n",
    "\n",
    "First, we can create one list of 10 tosses."
   ]
  },
  {
   "cell_type": "code",
   "execution_count": null,
   "metadata": {},
   "outputs": [],
   "source": [
    "tosses = []\n",
    "for i in range(10):\n",
    "    toss = random.randint(0,9)\n",
    "    if 0 <= toss < 6:\n",
    "        tosses.append('H')\n",
    "    else:\n",
    "        tosses.append('T')\n",
    "print(tosses)"
   ]
  },
  {
   "cell_type": "markdown",
   "metadata": {},
   "source": [
    "We can calculate the percentage of heads that show up:"
   ]
  },
  {
   "cell_type": "code",
   "execution_count": null,
   "metadata": {},
   "outputs": [],
   "source": [
    "print(tosses.count('H')/len(tosses))"
   ]
  },
  {
   "cell_type": "markdown",
   "metadata": {},
   "source": [
    "Now, we can run this simulation 10,000 times, and each time, save the percentage of heads that we see. The first 10 percentages that we see are:"
   ]
  },
  {
   "cell_type": "code",
   "execution_count": null,
   "metadata": {},
   "outputs": [],
   "source": [
    "percent_heads = []\n",
    "for i in range(10000):\n",
    "    tosses = []\n",
    "    for i in range(10):\n",
    "        toss = random.randint(0,9)\n",
    "        if 0 <= toss < 6:\n",
    "            tosses.append('H')\n",
    "        else:\n",
    "            tosses.append('T')\n",
    "    percent = tosses.count('H')/len(tosses)\n",
    "    percent_heads.append(percent)\n",
    "\n",
    "print(percent_heads[0:10])"
   ]
  },
  {
   "cell_type": "markdown",
   "metadata": {},
   "source": [
    "Lastly, to figure out what percentage of the time we got 8 or more heads, we'll count the number of times we got 8, 9, or 10 heads, and then divide by the number of simulations:"
   ]
  },
  {
   "cell_type": "code",
   "execution_count": null,
   "metadata": {},
   "outputs": [],
   "source": [
    "print((percent_heads.count(0.8) + percent_heads.count(0.9) + percent_heads.count(1.0))/len(percent_heads))"
   ]
  },
  {
   "cell_type": "markdown",
   "metadata": {},
   "source": [
    "### Exercise 1 - Euler's plot\n",
    "Returning to your earlier Euler's method exercise for $f(x)=x^2$ given $f(1)=2$ and a step size of $0.25$, now plot the Euler's method approximation coordinates versus the true solution, $f(x)=\\frac{x^3}{3}+\\frac{5}{3}$, by storing the x and y coordinates in two lists."
   ]
  },
  {
   "cell_type": "code",
   "execution_count": null,
   "metadata": {},
   "outputs": [],
   "source": [
    "#insert exercise 1\n",
    "def square(x):\n",
    "    return x**2\n",
    "\n",
    "def cube(x):\n",
    "    return (x**3+5)/3\n",
    "\n",
    "def euler(f,x0,y0,h,x1):\n",
    "    x = np.arange(x0,x1+h,h)\n",
    "    y = [y0]\n",
    "    for i in range(1,len(x)):\n",
    "        y0 = y0+h*f(x[i-1])\n",
    "        y.append(y0)\n",
    "    plt.plot(x,y, 'r.')\n",
    "    plt.plot(x, cube(x),'b.')\n",
    "\n",
    "euler(square, 1, 2, 0.5, 5)"
   ]
  },
  {
   "cell_type": "markdown",
   "metadata": {},
   "source": [
    "### Exercise 2 - Left hand sum\n",
    "Write a program called LHS that takes in a function, a left boundary a, a right boundary b, and the number of rectangles, n, and returns the left hand sum approximation for the area under $f(x)$ between $x=a$ and $x=b$: \n",
    "\n",
    "$\\int_a^b f(x)dx \\approx \\sum_{i=1}^nf(x_{i-1})\\Delta x$. \n",
    "\n",
    "For example, LHS(square,1,5,8) should return 35.5."
   ]
  },
  {
   "cell_type": "code",
   "execution_count": null,
   "metadata": {},
   "outputs": [],
   "source": [
    "#insert exercise 2\n",
    "def square(x):\n",
    "    return x**2\n",
    "\n",
    "def LHS(f,a,b,n):\n",
    "    h = (b-a)/n\n",
    "    left = 0\n",
    "    for i in range(n):\n",
    "        left = left + h*f(a+i*h)\n",
    "    return left\n",
    "\n",
    "LHS(square,1,5,8)"
   ]
  },
  {
   "cell_type": "markdown",
   "metadata": {},
   "source": [
    "### Exercise 3 - Factorial\n",
    "\n",
    "Iterate through the list ```items=[5,4,3,2,1]``` in two different ways: firstly, by referencing \"for item in items\" and secondly, by referencing \"for i in range(len(items))\". Then using whichever way you prefer, multiply the terms in the list to calculate 5! = 120."
   ]
  },
  {
   "cell_type": "code",
   "execution_count": null,
   "metadata": {},
   "outputs": [],
   "source": [
    "#insert exercise 3\n",
    "items = [5,4,3,2,1]\n",
    "\n",
    "product = 1\n",
    "\n",
    "for item in items:\n",
    "    product = product * item\n",
    "print(product)\n",
    "\n",
    "\n",
    "product = 1\n",
    "\n",
    "for i in range(len(items)):\n",
    "    product = product * items[i]\n",
    "print(product)"
   ]
  },
  {
   "cell_type": "markdown",
   "metadata": {},
   "source": [
    "### Exercise 4 - Multiples of m\n",
    "Create a function called multiples_of_m that takes in an integer n and an integer m and returns a list of all of the multiples of m between 0 and n."
   ]
  },
  {
   "cell_type": "code",
   "execution_count": null,
   "metadata": {},
   "outputs": [],
   "source": [
    "#insert exercise 4\n",
    "def multiples_of_m(m, n):\n",
    "    multiples = []\n",
    "    for i in range(n+1):\n",
    "        if i % m == 0:\n",
    "            multiples.append(i)\n",
    "            \n",
    "    return multiples\n",
    "\n",
    "multiples_of_m(3, 21)"
   ]
  },
  {
   "cell_type": "markdown",
   "metadata": {},
   "source": [
    "### Exercise 5 - Discrimination Example\n",
    "In a company, there are 20 men and 10 women. Layoffs come and there are 5 men and 5 women that get laid off. Is this evidence of discrimination against women? Simulate how often women get laid off in higher percentages than men, given the makeup of the company."
   ]
  },
  {
   "cell_type": "code",
   "execution_count": 74,
   "metadata": {},
   "outputs": [
    {
     "name": "stdout",
     "output_type": "stream",
     "text": [
      "['W', 'W', 'W', 'W', 'W', 'W', 'W', 'W', 'W', 'W', 'M', 'M', 'M', 'M', 'M', 'M', 'M', 'M', 'M', 'M', 'M', 'M', 'M', 'M', 'M', 'M', 'M', 'M', 'M', 'M']\n",
      "0.1726\n"
     ]
    }
   ],
   "source": [
    "#insert exercise 5\n",
    "\n",
    "#first, make the company:\n",
    "\n",
    "company = []\n",
    "for i in range(30):\n",
    "    if i < 10:\n",
    "        company.append('W')\n",
    "    else:\n",
    "        company.append('M')\n",
    "print(company)\n",
    "#Let's run the simulation 10000 times and figure out what percentage of women were laid off each time:\n",
    "percent_women_laid_off = []\n",
    "\n",
    "nsims = 10000\n",
    "\n",
    "for i in range(nsims):\n",
    "    lay_offs = random.sample(company,10) #lay off 10 WITHOUT replacment\n",
    "    women_laid_off = lay_offs.count('W') #how many of those 10 were women?\n",
    "    percent_women_laid_off.append(women_laid_off/10) #what percentage of those 5 were women?10\n",
    "\n",
    "#What percentage of simulations resulted in women getting laid off at a percentage of 0.5 or higher?\n",
    "print((percent_women_laid_off.count(0.5)\n",
    "    +percent_women_laid_off.count(0.6)\n",
    "    +percent_women_laid_off.count(0.7)\n",
    "    +percent_women_laid_off.count(0.8)\n",
    "    +percent_women_laid_off.count(0.9)\n",
    "    +percent_women_laid_off.count(1.0))/nsims)"
   ]
  },
  {
   "cell_type": "markdown",
   "metadata": {},
   "source": [
    "### Exercise 6 - Cereal Box Simulation\n",
    "20% of the cereal boxes contained a picture of Tiger Woods, 30% Lance Armstrong,\n",
    "and the rest Serena Williams. How many boxes on average do you expect to have to buy before you get a complete set?\n",
    "\n",
    "Hint: A while loop may be useful for this exercise. Here's are two while loop examples:"
   ]
  },
  {
   "cell_type": "code",
   "execution_count": null,
   "metadata": {},
   "outputs": [],
   "source": [
    "i = 5\n",
    "while i < 10:\n",
    "    print(i)\n",
    "    i = i + 1"
   ]
  },
  {
   "cell_type": "code",
   "execution_count": null,
   "metadata": {},
   "outputs": [],
   "source": [
    "multiple_of_7 = False\n",
    "i = 2\n",
    "\n",
    "print(\"I'm about to start the loop!\")\n",
    "while multiple_of_7 == False:\n",
    "    print(i)\n",
    "    if i % 7 == 0:\n",
    "        multiple_of_7 = True\n",
    "    i = i + 1\n",
    "\n",
    "print(\"I'm done with my loop.\")"
   ]
  },
  {
   "cell_type": "markdown",
   "metadata": {},
   "source": [
    "Here is one solution:"
   ]
  },
  {
   "cell_type": "code",
   "execution_count": null,
   "metadata": {},
   "outputs": [],
   "source": [
    "#insert cereal box answer\n",
    "#one solution:\n",
    "import random\n",
    "boxes = ['Tiger', 'Tiger', 'Lance', 'Lance', 'Lance', 'Serena', 'Serena', 'Serena', 'Serena', 'Serena']\n",
    "boxes_count = []\n",
    "sims = 10000\n",
    "\n",
    "for i in range(sims): #for each simulation\n",
    "    count = 0 #i haven't bought any cereal boxes yet\n",
    "    Serena = False #i dont have a serena card yet\n",
    "    Tiger = False #i dont have a tiger card yet\n",
    "    Lance = False #i dont have a lance card yet\n",
    "    while Serena == False or Tiger == False or Lance == False: #until i have a card from all of the athletes\n",
    "        count = count + 1 #go to the store again\n",
    "        box = random.choice(boxes) #choose another cereal box\n",
    "        if box == 'Serena': #check what card I get\n",
    "            Serena = True\n",
    "        if box == 'Tiger':\n",
    "            Tiger = True\n",
    "        if box == 'Lance':\n",
    "            Lance = True\n",
    "    boxes_count.append(count) #after i've gotten all three cards, save how many times i had to go to the store\n",
    "\n",
    "print(sum(boxes_count)/sims) #find the average number of times that i had to go to the store\n"
   ]
  },
  {
   "cell_type": "markdown",
   "metadata": {},
   "source": [
    "Here is another solution:"
   ]
  },
  {
   "cell_type": "code",
   "execution_count": null,
   "metadata": {},
   "outputs": [],
   "source": [
    "#OR another solution:\n",
    "boxes_list = []\n",
    "for n in range(10000):\n",
    "    i = 0\n",
    "    tiger, lance, serena = 0,0,0\n",
    "    \n",
    "    while tiger == 0 or lance == 0 or serena == 0:\n",
    "        pic = random.randint(0,9)\n",
    "        if pic <=1:\n",
    "            tiger = tiger + 1\n",
    "        elif 2 <= pic <= 4:\n",
    "            lance = lance + 1\n",
    "        else:\n",
    "            serena = serena + 1\n",
    "        i = i + 1\n",
    "    boxes_list.append(i)\n",
    "\n",
    "print(np.mean(boxes_list))"
   ]
  },
  {
   "cell_type": "markdown",
   "metadata": {},
   "source": [
    "### Super Challenge - Monkeys & Coconuts\n",
    "\n",
    "Five sailors are shipwrecked on a desert island. They quickly determine that the only other inhabitant of the island is a monkey and that the only food is coconuts. They set about collecting as many coconuts as they can and put them all in a very large pile. By nightfall they are too tired to divide the harvest; so they agree to go to sleep and share the coconuts equally the next morning.\n",
    "\n",
    "During the night one sailor awakens, suspicious that the others might try to cheat him, and decides to take his portion then and there and not wait until morning. He divides the coconuts into five piles and finds there is one coconut left over, which he gives to the monkey. He hides one of the five piles, then puts the rest of the coconuts back into a pile and returns to sleep. Later a second sailor awakens with the same suspicions and does the same thing: He divides the coconuts into five piles, leaving one extra, which he gives to the monkey. Then he hides what he thinks is his share, puts the remaining coconuts into a pile and goes back to sleep.\n",
    "\n",
    "One after the other, the rest of the sailors do the same: They each take one fifth of the coconuts in the pile (there is always an extra one, which is given to the monkey) and then return to sleep. When the sailors awaken the next morning they all notice the coconut pile is much smaller than it was the night before, but since each man is as guilty as the others, no one says anything. They divide the coconuts (for the sixth time) and again there is one left for the monkey.\n",
    "\n",
    "What is the smallest number of coconuts that were in the original pile? Answer this using simulation.\n"
   ]
  },
  {
   "cell_type": "code",
   "execution_count": 42,
   "metadata": {},
   "outputs": [],
   "source": [
    "#insert challenge\n",
    "\n",
    "#Mahmoud just gave me this problem...ask him why the answer is 3121 coconuts!"
   ]
  }
 ],
 "metadata": {
  "kernelspec": {
   "display_name": "Python 3",
   "language": "python",
   "name": "python3"
  },
  "language_info": {
   "codemirror_mode": {
    "name": "ipython",
    "version": 3
   },
   "file_extension": ".py",
   "mimetype": "text/x-python",
   "name": "python",
   "nbconvert_exporter": "python",
   "pygments_lexer": "ipython3",
   "version": "3.7.3"
  }
 },
 "nbformat": 4,
 "nbformat_minor": 2
}
