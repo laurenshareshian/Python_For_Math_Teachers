{
 "cells": [
  {
   "cell_type": "markdown",
   "metadata": {},
   "source": [
    "If you have Anaconda installed already, try typing into your terminal (On a Mac, located under Applications - Utilities - Terminal. On Windows, located under Programs - Anaconda Prompt): \n",
    "\n",
    "conda install -c conda-forge selenium\n",
    "\n",
    "Then download the latest version of chromedriver directly from:\n",
    "\n",
    "https://sites.google.com/a/chromium.org/chromedriver/downloads\n",
    "\n",
    "Make sure that you download the same version as your Chrome browser. To find out which version you you have, click on Chrome - About Chrome.\n",
    "\n",
    "2.Unzip it and move it into your Desktop folder.\n",
    "\n",
    "3.IF YOU HAVE A MAC: replace ```chromedriver = \"/Users/shareshianl/Desktop/chromedriver\"``` with whatever your username is in the cell below. (To figure out where your chromedriver is located, you can type \"where chromedriver\" in the terminal.)\n",
    "\n",
    "IF YOU HAVE WINDOWS: You will need double backslashes. Replace ```chromedriver = \"/Users/shareshianl/Desktop/chromedriver\"``` with something like chromedriver = \"C:\\\\\\Users\\\\\\{Your_user_name}\\\\\\Desktop\\\\\\chromedriver\" below. (Example: chromedriver = \"C:\\\\\\Users\\\\\\shareshian\\\\\\Desktop\\\\\\chromedriver\")"
   ]
  },
  {
   "cell_type": "code",
   "execution_count": 1,
   "metadata": {},
   "outputs": [],
   "source": [
    "import requests\n",
    "from bs4 import BeautifulSoup\n",
    "from selenium import webdriver\n",
    "from selenium.webdriver.common.keys import Keys\n",
    "import numpy as np\n",
    "import pandas as pd\n",
    "import matplotlib.pyplot as plt\n",
    "%matplotlib inline\n",
    "\n",
    "chromedriver = \"/Users/shareshianl/Desktop/chromedriver\"\n",
    "driver = webdriver.Chrome(chromedriver)\n",
    "driver.get('http://www.boxofficemojo.com')\n",
    "driver.close()"
   ]
  },
  {
   "cell_type": "markdown",
   "metadata": {},
   "source": [
    "1.We are going to explore the top 100 movie releases of 2017 using the dataset here:\n",
    "\n",
    "http://www.boxofficemojo.com/yearly/chart/?yr=2017&p=.htm\n",
    "\n",
    "First, read in the 100 movie table using pd.read_html."
   ]
  },
  {
   "cell_type": "code",
   "execution_count": 4,
   "metadata": {
    "collapsed": true
   },
   "outputs": [],
   "source": [
    "table = pd.read_html('http://www.boxofficemojo.com/yearly/chart/?yr=2017&p=.htm')[2]"
   ]
  },
  {
   "cell_type": "markdown",
   "metadata": {},
   "source": [
    "2.Only rows 6 through 106 and the odd columns 1,3,5 and 7 contain valuable info that we will use. Save this reduced table to a dataframe called movies. Then reset the index. Be sure the changes save!"
   ]
  },
  {
   "cell_type": "code",
   "execution_count": 5,
   "metadata": {},
   "outputs": [
    {
     "data": {
      "text/html": [
       "<div>\n",
       "<style scoped>\n",
       "    .dataframe tbody tr th:only-of-type {\n",
       "        vertical-align: middle;\n",
       "    }\n",
       "\n",
       "    .dataframe tbody tr th {\n",
       "        vertical-align: top;\n",
       "    }\n",
       "\n",
       "    .dataframe thead th {\n",
       "        text-align: right;\n",
       "    }\n",
       "</style>\n",
       "<table border=\"1\" class=\"dataframe\">\n",
       "  <thead>\n",
       "    <tr style=\"text-align: right;\">\n",
       "      <th></th>\n",
       "      <th>1</th>\n",
       "      <th>3</th>\n",
       "      <th>5</th>\n",
       "      <th>7</th>\n",
       "    </tr>\n",
       "  </thead>\n",
       "  <tbody>\n",
       "    <tr>\n",
       "      <th>0</th>\n",
       "      <td>Star Wars: The Last Jedi</td>\n",
       "      <td>$620,181,382</td>\n",
       "      <td>$220,009,584</td>\n",
       "      <td>12/15</td>\n",
       "    </tr>\n",
       "    <tr>\n",
       "      <th>1</th>\n",
       "      <td>Beauty and the Beast (2017)</td>\n",
       "      <td>$504,014,165</td>\n",
       "      <td>$174,750,616</td>\n",
       "      <td>3/17</td>\n",
       "    </tr>\n",
       "    <tr>\n",
       "      <th>2</th>\n",
       "      <td>Wonder Woman</td>\n",
       "      <td>$412,563,408</td>\n",
       "      <td>$103,251,471</td>\n",
       "      <td>6/2</td>\n",
       "    </tr>\n",
       "    <tr>\n",
       "      <th>3</th>\n",
       "      <td>Jumanji: Welcome to the Jungle</td>\n",
       "      <td>$404,515,480</td>\n",
       "      <td>$36,169,328</td>\n",
       "      <td>12/20</td>\n",
       "    </tr>\n",
       "    <tr>\n",
       "      <th>4</th>\n",
       "      <td>Guardians of the Galaxy Vol. 2</td>\n",
       "      <td>$389,813,101</td>\n",
       "      <td>$146,510,104</td>\n",
       "      <td>5/5</td>\n",
       "    </tr>\n",
       "  </tbody>\n",
       "</table>\n",
       "</div>"
      ],
      "text/plain": [
       "                                1             3             5      7\n",
       "0        Star Wars: The Last Jedi  $620,181,382  $220,009,584  12/15\n",
       "1     Beauty and the Beast (2017)  $504,014,165  $174,750,616   3/17\n",
       "2                    Wonder Woman  $412,563,408  $103,251,471    6/2\n",
       "3  Jumanji: Welcome to the Jungle  $404,515,480   $36,169,328  12/20\n",
       "4  Guardians of the Galaxy Vol. 2  $389,813,101  $146,510,104    5/5"
      ]
     },
     "execution_count": 5,
     "metadata": {},
     "output_type": "execute_result"
    }
   ],
   "source": [
    "movies = table.iloc[6:106,[1,3,5,7]]\n",
    "movies = movies.reset_index(drop=True)\n",
    "movies.head()"
   ]
  },
  {
   "cell_type": "markdown",
   "metadata": {},
   "source": [
    "3.Rename the columns to be movie, total gross, opening gross, open date."
   ]
  },
  {
   "cell_type": "code",
   "execution_count": 6,
   "metadata": {},
   "outputs": [
    {
     "data": {
      "text/plain": [
       "(100, 4)"
      ]
     },
     "execution_count": 6,
     "metadata": {},
     "output_type": "execute_result"
    }
   ],
   "source": [
    "movies = movies.rename(index=str, columns={1: 'movie',\n",
    "                                           3: 'total gross',\n",
    "                                           5: 'open gross',\n",
    "                                           7: 'open date'})\n",
    "movies.shape"
   ]
  },
  {
   "cell_type": "markdown",
   "metadata": {},
   "source": [
    "4.You can strip the dollar signs and commas from the total gross using list comprehensions. Study the code carefully below and run it:"
   ]
  },
  {
   "cell_type": "code",
   "execution_count": 7,
   "metadata": {
    "collapsed": true
   },
   "outputs": [],
   "source": [
    "movies['total gross'] = [x.strip('$') for x in movies['total gross']]\n",
    "movies['total gross'] = [x.replace(',', '') for x in movies['total gross']]"
   ]
  },
  {
   "cell_type": "markdown",
   "metadata": {},
   "source": [
    "5.Strip the dollar signs from the open gross column."
   ]
  },
  {
   "cell_type": "code",
   "execution_count": 8,
   "metadata": {},
   "outputs": [
    {
     "data": {
      "text/html": [
       "<div>\n",
       "<style scoped>\n",
       "    .dataframe tbody tr th:only-of-type {\n",
       "        vertical-align: middle;\n",
       "    }\n",
       "\n",
       "    .dataframe tbody tr th {\n",
       "        vertical-align: top;\n",
       "    }\n",
       "\n",
       "    .dataframe thead th {\n",
       "        text-align: right;\n",
       "    }\n",
       "</style>\n",
       "<table border=\"1\" class=\"dataframe\">\n",
       "  <thead>\n",
       "    <tr style=\"text-align: right;\">\n",
       "      <th></th>\n",
       "      <th>movie</th>\n",
       "      <th>total gross</th>\n",
       "      <th>open gross</th>\n",
       "      <th>open date</th>\n",
       "    </tr>\n",
       "  </thead>\n",
       "  <tbody>\n",
       "    <tr>\n",
       "      <th>0</th>\n",
       "      <td>Star Wars: The Last Jedi</td>\n",
       "      <td>620181382</td>\n",
       "      <td>220009584</td>\n",
       "      <td>12/15</td>\n",
       "    </tr>\n",
       "    <tr>\n",
       "      <th>1</th>\n",
       "      <td>Beauty and the Beast (2017)</td>\n",
       "      <td>504014165</td>\n",
       "      <td>174750616</td>\n",
       "      <td>3/17</td>\n",
       "    </tr>\n",
       "    <tr>\n",
       "      <th>2</th>\n",
       "      <td>Wonder Woman</td>\n",
       "      <td>412563408</td>\n",
       "      <td>103251471</td>\n",
       "      <td>6/2</td>\n",
       "    </tr>\n",
       "    <tr>\n",
       "      <th>3</th>\n",
       "      <td>Jumanji: Welcome to the Jungle</td>\n",
       "      <td>404515480</td>\n",
       "      <td>36169328</td>\n",
       "      <td>12/20</td>\n",
       "    </tr>\n",
       "    <tr>\n",
       "      <th>4</th>\n",
       "      <td>Guardians of the Galaxy Vol. 2</td>\n",
       "      <td>389813101</td>\n",
       "      <td>146510104</td>\n",
       "      <td>5/5</td>\n",
       "    </tr>\n",
       "  </tbody>\n",
       "</table>\n",
       "</div>"
      ],
      "text/plain": [
       "                            movie total gross open gross open date\n",
       "0        Star Wars: The Last Jedi   620181382  220009584     12/15\n",
       "1     Beauty and the Beast (2017)   504014165  174750616      3/17\n",
       "2                    Wonder Woman   412563408  103251471       6/2\n",
       "3  Jumanji: Welcome to the Jungle   404515480   36169328     12/20\n",
       "4  Guardians of the Galaxy Vol. 2   389813101  146510104       5/5"
      ]
     },
     "execution_count": 8,
     "metadata": {},
     "output_type": "execute_result"
    }
   ],
   "source": [
    "movies['open gross'] = [x.strip('$') for x in movies['open gross']]\n",
    "movies['open gross'] = [x.replace(',','') for x in movies['open gross']]\n",
    "movies.head()"
   ]
  },
  {
   "cell_type": "markdown",
   "metadata": {},
   "source": [
    "6.Plot total gross on the x axis and open gross on the y-axis."
   ]
  },
  {
   "cell_type": "code",
   "execution_count": 9,
   "metadata": {},
   "outputs": [
    {
     "data": {
      "text/plain": [
       "<matplotlib.text.Text at 0x10d79f6d8>"
      ]
     },
     "execution_count": 9,
     "metadata": {},
     "output_type": "execute_result"
    },
    {
     "data": {
      "image/png": "[encoded data removed]",
      "text/plain": [
       "<matplotlib.figure.Figure at 0x1091570f0>"
      ]
     },
     "metadata": {},
     "output_type": "display_data"
    }
   ],
   "source": [
    "plt.plot(movies['total gross'],movies['open gross'],'.')\n",
    "plt.xlabel('gross')\n",
    "plt.ylabel('open')"
   ]
  },
  {
   "cell_type": "markdown",
   "metadata": {},
   "source": [
    "7.Change the gross columns to integer data types."
   ]
  },
  {
   "cell_type": "code",
   "execution_count": 10,
   "metadata": {
    "collapsed": true
   },
   "outputs": [],
   "source": [
    "movies['open gross'] = movies['open gross'].astype(int)\n",
    "movies['total gross'] = movies['total gross'].astype(int)"
   ]
  },
  {
   "cell_type": "markdown",
   "metadata": {},
   "source": [
    "8.Create another column called ratio that is given by the opening gross divided by the total gross. Do it in one line."
   ]
  },
  {
   "cell_type": "code",
   "execution_count": 11,
   "metadata": {
    "collapsed": true
   },
   "outputs": [],
   "source": [
    "movies['ratio'] =  movies['open gross']/movies['total gross']"
   ]
  },
  {
   "cell_type": "markdown",
   "metadata": {},
   "source": [
    "9.Sort the ratio from smallest to largest to find the biggest \"sleeper\" hit (meaning, the movie that didn't make that much in its opening weekend but made a lot of money later.)"
   ]
  },
  {
   "cell_type": "code",
   "execution_count": 12,
   "metadata": {},
   "outputs": [
    {
     "data": {
      "text/html": [
       "<div>\n",
       "<style scoped>\n",
       "    .dataframe tbody tr th:only-of-type {\n",
       "        vertical-align: middle;\n",
       "    }\n",
       "\n",
       "    .dataframe tbody tr th {\n",
       "        vertical-align: top;\n",
       "    }\n",
       "\n",
       "    .dataframe thead th {\n",
       "        text-align: right;\n",
       "    }\n",
       "</style>\n",
       "<table border=\"1\" class=\"dataframe\">\n",
       "  <thead>\n",
       "    <tr style=\"text-align: right;\">\n",
       "      <th></th>\n",
       "      <th>movie</th>\n",
       "      <th>total gross</th>\n",
       "      <th>open gross</th>\n",
       "      <th>open date</th>\n",
       "      <th>ratio</th>\n",
       "    </tr>\n",
       "  </thead>\n",
       "  <tbody>\n",
       "    <tr>\n",
       "      <th>83</th>\n",
       "      <td>Hostiles</td>\n",
       "      <td>29819114</td>\n",
       "      <td>22849</td>\n",
       "      <td>12/22</td>\n",
       "      <td>0.000766</td>\n",
       "    </tr>\n",
       "    <tr>\n",
       "      <th>45</th>\n",
       "      <td>The Shape of Water</td>\n",
       "      <td>63859435</td>\n",
       "      <td>166564</td>\n",
       "      <td>12/1</td>\n",
       "      <td>0.002608</td>\n",
       "    </tr>\n",
       "    <tr>\n",
       "      <th>49</th>\n",
       "      <td>Darkest Hour</td>\n",
       "      <td>56468410</td>\n",
       "      <td>175006</td>\n",
       "      <td>11/22</td>\n",
       "      <td>0.003099</td>\n",
       "    </tr>\n",
       "    <tr>\n",
       "      <th>73</th>\n",
       "      <td>Wind River</td>\n",
       "      <td>33800859</td>\n",
       "      <td>161558</td>\n",
       "      <td>8/4</td>\n",
       "      <td>0.004780</td>\n",
       "    </tr>\n",
       "    <tr>\n",
       "      <th>51</th>\n",
       "      <td>Three Billboards Outside Ebbing, Missouri</td>\n",
       "      <td>54513740</td>\n",
       "      <td>322168</td>\n",
       "      <td>11/10</td>\n",
       "      <td>0.005910</td>\n",
       "    </tr>\n",
       "    <tr>\n",
       "      <th>38</th>\n",
       "      <td>The Post</td>\n",
       "      <td>81903458</td>\n",
       "      <td>526011</td>\n",
       "      <td>12/22</td>\n",
       "      <td>0.006422</td>\n",
       "    </tr>\n",
       "    <tr>\n",
       "      <th>95</th>\n",
       "      <td>Victoria and Abdul</td>\n",
       "      <td>22245070</td>\n",
       "      <td>158845</td>\n",
       "      <td>9/22</td>\n",
       "      <td>0.007141</td>\n",
       "    </tr>\n",
       "    <tr>\n",
       "      <th>55</th>\n",
       "      <td>Lady Bird</td>\n",
       "      <td>48958273</td>\n",
       "      <td>364437</td>\n",
       "      <td>11/3</td>\n",
       "      <td>0.007444</td>\n",
       "    </tr>\n",
       "    <tr>\n",
       "      <th>82</th>\n",
       "      <td>I, Tonya</td>\n",
       "      <td>30014539</td>\n",
       "      <td>264155</td>\n",
       "      <td>12/8</td>\n",
       "      <td>0.008801</td>\n",
       "    </tr>\n",
       "    <tr>\n",
       "      <th>64</th>\n",
       "      <td>The Big Sick</td>\n",
       "      <td>42873127</td>\n",
       "      <td>421577</td>\n",
       "      <td>6/23</td>\n",
       "      <td>0.009833</td>\n",
       "    </tr>\n",
       "    <tr>\n",
       "      <th>99</th>\n",
       "      <td>Phantom Thread</td>\n",
       "      <td>21198205</td>\n",
       "      <td>216495</td>\n",
       "      <td>12/25</td>\n",
       "      <td>0.010213</td>\n",
       "    </tr>\n",
       "    <tr>\n",
       "      <th>92</th>\n",
       "      <td>Gifted</td>\n",
       "      <td>24801212</td>\n",
       "      <td>446380</td>\n",
       "      <td>4/7</td>\n",
       "      <td>0.017998</td>\n",
       "    </tr>\n",
       "    <tr>\n",
       "      <th>17</th>\n",
       "      <td>The Greatest Showman</td>\n",
       "      <td>174340174</td>\n",
       "      <td>8805843</td>\n",
       "      <td>12/20</td>\n",
       "      <td>0.050510</td>\n",
       "    </tr>\n",
       "    <tr>\n",
       "      <th>84</th>\n",
       "      <td>Molly's Game</td>\n",
       "      <td>28780744</td>\n",
       "      <td>2349967</td>\n",
       "      <td>12/25</td>\n",
       "      <td>0.081651</td>\n",
       "    </tr>\n",
       "    <tr>\n",
       "      <th>3</th>\n",
       "      <td>Jumanji: Welcome to the Jungle</td>\n",
       "      <td>404515480</td>\n",
       "      <td>36169328</td>\n",
       "      <td>12/20</td>\n",
       "      <td>0.089414</td>\n",
       "    </tr>\n",
       "    <tr>\n",
       "      <th>37</th>\n",
       "      <td>Ferdinand</td>\n",
       "      <td>84410380</td>\n",
       "      <td>13401586</td>\n",
       "      <td>12/15</td>\n",
       "      <td>0.158767</td>\n",
       "    </tr>\n",
       "    <tr>\n",
       "      <th>14</th>\n",
       "      <td>Get Out</td>\n",
       "      <td>176040665</td>\n",
       "      <td>33377060</td>\n",
       "      <td>2/24</td>\n",
       "      <td>0.189599</td>\n",
       "    </tr>\n",
       "    <tr>\n",
       "      <th>28</th>\n",
       "      <td>Pitch Perfect 3</td>\n",
       "      <td>104897530</td>\n",
       "      <td>19928525</td>\n",
       "      <td>12/22</td>\n",
       "      <td>0.189981</td>\n",
       "    </tr>\n",
       "    <tr>\n",
       "      <th>27</th>\n",
       "      <td>Baby Driver</td>\n",
       "      <td>107825862</td>\n",
       "      <td>20553320</td>\n",
       "      <td>6/28</td>\n",
       "      <td>0.190616</td>\n",
       "    </tr>\n",
       "    <tr>\n",
       "      <th>93</th>\n",
       "      <td>Downsizing</td>\n",
       "      <td>24449754</td>\n",
       "      <td>4954287</td>\n",
       "      <td>12/22</td>\n",
       "      <td>0.202631</td>\n",
       "    </tr>\n",
       "    <tr>\n",
       "      <th>23</th>\n",
       "      <td>Wonder</td>\n",
       "      <td>132422809</td>\n",
       "      <td>27547866</td>\n",
       "      <td>11/17</td>\n",
       "      <td>0.208030</td>\n",
       "    </tr>\n",
       "    <tr>\n",
       "      <th>98</th>\n",
       "      <td>Leap!</td>\n",
       "      <td>21858070</td>\n",
       "      <td>4730038</td>\n",
       "      <td>8/25</td>\n",
       "      <td>0.216398</td>\n",
       "    </tr>\n",
       "    <tr>\n",
       "      <th>91</th>\n",
       "      <td>All the Money in the World</td>\n",
       "      <td>25113707</td>\n",
       "      <td>5584684</td>\n",
       "      <td>12/25</td>\n",
       "      <td>0.222376</td>\n",
       "    </tr>\n",
       "    <tr>\n",
       "      <th>43</th>\n",
       "      <td>A Bad Moms Christmas</td>\n",
       "      <td>72110659</td>\n",
       "      <td>16759161</td>\n",
       "      <td>11/1</td>\n",
       "      <td>0.232409</td>\n",
       "    </tr>\n",
       "    <tr>\n",
       "      <th>66</th>\n",
       "      <td>The Star</td>\n",
       "      <td>40852824</td>\n",
       "      <td>9812674</td>\n",
       "      <td>11/17</td>\n",
       "      <td>0.240196</td>\n",
       "    </tr>\n",
       "    <tr>\n",
       "      <th>12</th>\n",
       "      <td>Coco</td>\n",
       "      <td>209726015</td>\n",
       "      <td>50802605</td>\n",
       "      <td>11/22</td>\n",
       "      <td>0.242233</td>\n",
       "    </tr>\n",
       "    <tr>\n",
       "      <th>2</th>\n",
       "      <td>Wonder Woman</td>\n",
       "      <td>412563408</td>\n",
       "      <td>103251471</td>\n",
       "      <td>6/2</td>\n",
       "      <td>0.250268</td>\n",
       "    </tr>\n",
       "    <tr>\n",
       "      <th>63</th>\n",
       "      <td>47 Meters Down</td>\n",
       "      <td>44307191</td>\n",
       "      <td>11205561</td>\n",
       "      <td>6/16</td>\n",
       "      <td>0.252906</td>\n",
       "    </tr>\n",
       "    <tr>\n",
       "      <th>60</th>\n",
       "      <td>Going in Style (2017)</td>\n",
       "      <td>45018541</td>\n",
       "      <td>11932330</td>\n",
       "      <td>4/7</td>\n",
       "      <td>0.265054</td>\n",
       "    </tr>\n",
       "    <tr>\n",
       "      <th>13</th>\n",
       "      <td>Dunkirk</td>\n",
       "      <td>188045546</td>\n",
       "      <td>50513488</td>\n",
       "      <td>7/21</td>\n",
       "      <td>0.268624</td>\n",
       "    </tr>\n",
       "    <tr>\n",
       "      <th>...</th>\n",
       "      <td>...</td>\n",
       "      <td>...</td>\n",
       "      <td>...</td>\n",
       "      <td>...</td>\n",
       "      <td>...</td>\n",
       "    </tr>\n",
       "    <tr>\n",
       "      <th>77</th>\n",
       "      <td>How to be a Latin Lover</td>\n",
       "      <td>32149404</td>\n",
       "      <td>12252439</td>\n",
       "      <td>4/28</td>\n",
       "      <td>0.381109</td>\n",
       "    </tr>\n",
       "    <tr>\n",
       "      <th>71</th>\n",
       "      <td>The Foreigner</td>\n",
       "      <td>34393507</td>\n",
       "      <td>13113024</td>\n",
       "      <td>10/13</td>\n",
       "      <td>0.381265</td>\n",
       "    </tr>\n",
       "    <tr>\n",
       "      <th>21</th>\n",
       "      <td>War for the Planet of the Apes</td>\n",
       "      <td>146880162</td>\n",
       "      <td>56262929</td>\n",
       "      <td>7/14</td>\n",
       "      <td>0.383053</td>\n",
       "    </tr>\n",
       "    <tr>\n",
       "      <th>32</th>\n",
       "      <td>Kingsman: The Golden Circle</td>\n",
       "      <td>100234838</td>\n",
       "      <td>39023010</td>\n",
       "      <td>9/22</td>\n",
       "      <td>0.389316</td>\n",
       "    </tr>\n",
       "    <tr>\n",
       "      <th>7</th>\n",
       "      <td>Thor: Ragnarok</td>\n",
       "      <td>315058289</td>\n",
       "      <td>122744989</td>\n",
       "      <td>11/3</td>\n",
       "      <td>0.389595</td>\n",
       "    </tr>\n",
       "    <tr>\n",
       "      <th>10</th>\n",
       "      <td>Logan (2017)</td>\n",
       "      <td>226277068</td>\n",
       "      <td>88411916</td>\n",
       "      <td>3/3</td>\n",
       "      <td>0.390724</td>\n",
       "    </tr>\n",
       "    <tr>\n",
       "      <th>68</th>\n",
       "      <td>King Arthur: Legend of the Sword</td>\n",
       "      <td>39175066</td>\n",
       "      <td>15371270</td>\n",
       "      <td>5/12</td>\n",
       "      <td>0.392374</td>\n",
       "    </tr>\n",
       "    <tr>\n",
       "      <th>39</th>\n",
       "      <td>The Mummy (2017)</td>\n",
       "      <td>80227895</td>\n",
       "      <td>31688375</td>\n",
       "      <td>6/9</td>\n",
       "      <td>0.394980</td>\n",
       "    </tr>\n",
       "    <tr>\n",
       "      <th>58</th>\n",
       "      <td>The Great Wall</td>\n",
       "      <td>45540830</td>\n",
       "      <td>18469620</td>\n",
       "      <td>2/17</td>\n",
       "      <td>0.405562</td>\n",
       "    </tr>\n",
       "    <tr>\n",
       "      <th>97</th>\n",
       "      <td>My Little Pony: The Movie</td>\n",
       "      <td>21885107</td>\n",
       "      <td>8885899</td>\n",
       "      <td>10/6</td>\n",
       "      <td>0.406025</td>\n",
       "    </tr>\n",
       "    <tr>\n",
       "      <th>74</th>\n",
       "      <td>Geostorm</td>\n",
       "      <td>33700160</td>\n",
       "      <td>13707376</td>\n",
       "      <td>10/20</td>\n",
       "      <td>0.406745</td>\n",
       "    </tr>\n",
       "    <tr>\n",
       "      <th>26</th>\n",
       "      <td>Fifty Shades Darker</td>\n",
       "      <td>114581250</td>\n",
       "      <td>46607250</td>\n",
       "      <td>2/10</td>\n",
       "      <td>0.406762</td>\n",
       "    </tr>\n",
       "    <tr>\n",
       "      <th>70</th>\n",
       "      <td>American Assassin</td>\n",
       "      <td>36249674</td>\n",
       "      <td>14846778</td>\n",
       "      <td>9/15</td>\n",
       "      <td>0.409570</td>\n",
       "    </tr>\n",
       "    <tr>\n",
       "      <th>9</th>\n",
       "      <td>Justice League</td>\n",
       "      <td>229024295</td>\n",
       "      <td>93842239</td>\n",
       "      <td>11/17</td>\n",
       "      <td>0.409748</td>\n",
       "    </tr>\n",
       "    <tr>\n",
       "      <th>65</th>\n",
       "      <td>Valerian and the City of a Thousand Planets</td>\n",
       "      <td>41189488</td>\n",
       "      <td>17007624</td>\n",
       "      <td>7/21</td>\n",
       "      <td>0.412912</td>\n",
       "    </tr>\n",
       "    <tr>\n",
       "      <th>81</th>\n",
       "      <td>Life (2017)</td>\n",
       "      <td>30234022</td>\n",
       "      <td>12501936</td>\n",
       "      <td>3/24</td>\n",
       "      <td>0.413506</td>\n",
       "    </tr>\n",
       "    <tr>\n",
       "      <th>57</th>\n",
       "      <td>Snatched</td>\n",
       "      <td>45852178</td>\n",
       "      <td>19542248</td>\n",
       "      <td>5/12</td>\n",
       "      <td>0.426201</td>\n",
       "    </tr>\n",
       "    <tr>\n",
       "      <th>11</th>\n",
       "      <td>The Fate of the Furious</td>\n",
       "      <td>226008385</td>\n",
       "      <td>98786705</td>\n",
       "      <td>4/14</td>\n",
       "      <td>0.437093</td>\n",
       "    </tr>\n",
       "    <tr>\n",
       "      <th>69</th>\n",
       "      <td>Jigsaw</td>\n",
       "      <td>38052832</td>\n",
       "      <td>16640452</td>\n",
       "      <td>10/27</td>\n",
       "      <td>0.437299</td>\n",
       "    </tr>\n",
       "    <tr>\n",
       "      <th>62</th>\n",
       "      <td>xXx: The Return of Xander Cage</td>\n",
       "      <td>44898413</td>\n",
       "      <td>20130142</td>\n",
       "      <td>1/20</td>\n",
       "      <td>0.448349</td>\n",
       "    </tr>\n",
       "    <tr>\n",
       "      <th>56</th>\n",
       "      <td>Tyler Perry's Boo 2! A Madea Halloween</td>\n",
       "      <td>47319572</td>\n",
       "      <td>21226953</td>\n",
       "      <td>10/20</td>\n",
       "      <td>0.448587</td>\n",
       "    </tr>\n",
       "    <tr>\n",
       "      <th>79</th>\n",
       "      <td>Underworld: Blood Wars</td>\n",
       "      <td>30353973</td>\n",
       "      <td>13688751</td>\n",
       "      <td>1/6</td>\n",
       "      <td>0.450971</td>\n",
       "    </tr>\n",
       "    <tr>\n",
       "      <th>67</th>\n",
       "      <td>Ghost in the Shell (2017)</td>\n",
       "      <td>40563557</td>\n",
       "      <td>18676033</td>\n",
       "      <td>3/31</td>\n",
       "      <td>0.460414</td>\n",
       "    </tr>\n",
       "    <tr>\n",
       "      <th>50</th>\n",
       "      <td>Happy Death Day</td>\n",
       "      <td>55683845</td>\n",
       "      <td>26039025</td>\n",
       "      <td>10/13</td>\n",
       "      <td>0.467623</td>\n",
       "    </tr>\n",
       "    <tr>\n",
       "      <th>86</th>\n",
       "      <td>Rings</td>\n",
       "      <td>27793018</td>\n",
       "      <td>13002632</td>\n",
       "      <td>2/3</td>\n",
       "      <td>0.467838</td>\n",
       "    </tr>\n",
       "    <tr>\n",
       "      <th>36</th>\n",
       "      <td>Power Rangers (2017)</td>\n",
       "      <td>85364450</td>\n",
       "      <td>40300288</td>\n",
       "      <td>3/24</td>\n",
       "      <td>0.472097</td>\n",
       "    </tr>\n",
       "    <tr>\n",
       "      <th>41</th>\n",
       "      <td>Alien: Covenant</td>\n",
       "      <td>74262031</td>\n",
       "      <td>36160621</td>\n",
       "      <td>5/19</td>\n",
       "      <td>0.486933</td>\n",
       "    </tr>\n",
       "    <tr>\n",
       "      <th>89</th>\n",
       "      <td>Resident Evil: The Final Chapter</td>\n",
       "      <td>26830068</td>\n",
       "      <td>13601682</td>\n",
       "      <td>1/27</td>\n",
       "      <td>0.506957</td>\n",
       "    </tr>\n",
       "    <tr>\n",
       "      <th>61</th>\n",
       "      <td>All Eyez on Me</td>\n",
       "      <td>44922302</td>\n",
       "      <td>26435354</td>\n",
       "      <td>6/16</td>\n",
       "      <td>0.588468</td>\n",
       "    </tr>\n",
       "    <tr>\n",
       "      <th>94</th>\n",
       "      <td>The Bye Bye Man</td>\n",
       "      <td>22395806</td>\n",
       "      <td>13501349</td>\n",
       "      <td>1/13</td>\n",
       "      <td>0.602852</td>\n",
       "    </tr>\n",
       "  </tbody>\n",
       "</table>\n",
       "<p>100 rows × 5 columns</p>\n",
       "</div>"
      ],
      "text/plain": [
       "                                          movie  total gross  open gross  \\\n",
       "83                                     Hostiles     29819114       22849   \n",
       "45                           The Shape of Water     63859435      166564   \n",
       "49                                 Darkest Hour     56468410      175006   \n",
       "73                                   Wind River     33800859      161558   \n",
       "51    Three Billboards Outside Ebbing, Missouri     54513740      322168   \n",
       "38                                     The Post     81903458      526011   \n",
       "95                           Victoria and Abdul     22245070      158845   \n",
       "55                                    Lady Bird     48958273      364437   \n",
       "82                                     I, Tonya     30014539      264155   \n",
       "64                                 The Big Sick     42873127      421577   \n",
       "99                               Phantom Thread     21198205      216495   \n",
       "92                                       Gifted     24801212      446380   \n",
       "17                         The Greatest Showman    174340174     8805843   \n",
       "84                                 Molly's Game     28780744     2349967   \n",
       "3                Jumanji: Welcome to the Jungle    404515480    36169328   \n",
       "37                                    Ferdinand     84410380    13401586   \n",
       "14                                      Get Out    176040665    33377060   \n",
       "28                              Pitch Perfect 3    104897530    19928525   \n",
       "27                                  Baby Driver    107825862    20553320   \n",
       "93                                   Downsizing     24449754     4954287   \n",
       "23                                       Wonder    132422809    27547866   \n",
       "98                                        Leap!     21858070     4730038   \n",
       "91                   All the Money in the World     25113707     5584684   \n",
       "43                         A Bad Moms Christmas     72110659    16759161   \n",
       "66                                     The Star     40852824     9812674   \n",
       "12                                         Coco    209726015    50802605   \n",
       "2                                  Wonder Woman    412563408   103251471   \n",
       "63                               47 Meters Down     44307191    11205561   \n",
       "60                        Going in Style (2017)     45018541    11932330   \n",
       "13                                      Dunkirk    188045546    50513488   \n",
       "..                                          ...          ...         ...   \n",
       "77                      How to be a Latin Lover     32149404    12252439   \n",
       "71                                The Foreigner     34393507    13113024   \n",
       "21               War for the Planet of the Apes    146880162    56262929   \n",
       "32                  Kingsman: The Golden Circle    100234838    39023010   \n",
       "7                                Thor: Ragnarok    315058289   122744989   \n",
       "10                                 Logan (2017)    226277068    88411916   \n",
       "68             King Arthur: Legend of the Sword     39175066    15371270   \n",
       "39                             The Mummy (2017)     80227895    31688375   \n",
       "58                               The Great Wall     45540830    18469620   \n",
       "97                    My Little Pony: The Movie     21885107     8885899   \n",
       "74                                     Geostorm     33700160    13707376   \n",
       "26                          Fifty Shades Darker    114581250    46607250   \n",
       "70                            American Assassin     36249674    14846778   \n",
       "9                                Justice League    229024295    93842239   \n",
       "65  Valerian and the City of a Thousand Planets     41189488    17007624   \n",
       "81                                  Life (2017)     30234022    12501936   \n",
       "57                                     Snatched     45852178    19542248   \n",
       "11                      The Fate of the Furious    226008385    98786705   \n",
       "69                                       Jigsaw     38052832    16640452   \n",
       "62               xXx: The Return of Xander Cage     44898413    20130142   \n",
       "56       Tyler Perry's Boo 2! A Madea Halloween     47319572    21226953   \n",
       "79                       Underworld: Blood Wars     30353973    13688751   \n",
       "67                    Ghost in the Shell (2017)     40563557    18676033   \n",
       "50                              Happy Death Day     55683845    26039025   \n",
       "86                                        Rings     27793018    13002632   \n",
       "36                         Power Rangers (2017)     85364450    40300288   \n",
       "41                              Alien: Covenant     74262031    36160621   \n",
       "89             Resident Evil: The Final Chapter     26830068    13601682   \n",
       "61                               All Eyez on Me     44922302    26435354   \n",
       "94                              The Bye Bye Man     22395806    13501349   \n",
       "\n",
       "   open date     ratio  \n",
       "83     12/22  0.000766  \n",
       "45      12/1  0.002608  \n",
       "49     11/22  0.003099  \n",
       "73       8/4  0.004780  \n",
       "51     11/10  0.005910  \n",
       "38     12/22  0.006422  \n",
       "95      9/22  0.007141  \n",
       "55      11/3  0.007444  \n",
       "82      12/8  0.008801  \n",
       "64      6/23  0.009833  \n",
       "99     12/25  0.010213  \n",
       "92       4/7  0.017998  \n",
       "17     12/20  0.050510  \n",
       "84     12/25  0.081651  \n",
       "3      12/20  0.089414  \n",
       "37     12/15  0.158767  \n",
       "14      2/24  0.189599  \n",
       "28     12/22  0.189981  \n",
       "27      6/28  0.190616  \n",
       "93     12/22  0.202631  \n",
       "23     11/17  0.208030  \n",
       "98      8/25  0.216398  \n",
       "91     12/25  0.222376  \n",
       "43      11/1  0.232409  \n",
       "66     11/17  0.240196  \n",
       "12     11/22  0.242233  \n",
       "2        6/2  0.250268  \n",
       "63      6/16  0.252906  \n",
       "60       4/7  0.265054  \n",
       "13      7/21  0.268624  \n",
       "..       ...       ...  \n",
       "77      4/28  0.381109  \n",
       "71     10/13  0.381265  \n",
       "21      7/14  0.383053  \n",
       "32      9/22  0.389316  \n",
       "7       11/3  0.389595  \n",
       "10       3/3  0.390724  \n",
       "68      5/12  0.392374  \n",
       "39       6/9  0.394980  \n",
       "58      2/17  0.405562  \n",
       "97      10/6  0.406025  \n",
       "74     10/20  0.406745  \n",
       "26      2/10  0.406762  \n",
       "70      9/15  0.409570  \n",
       "9      11/17  0.409748  \n",
       "65      7/21  0.412912  \n",
       "81      3/24  0.413506  \n",
       "57      5/12  0.426201  \n",
       "11      4/14  0.437093  \n",
       "69     10/27  0.437299  \n",
       "62      1/20  0.448349  \n",
       "56     10/20  0.448587  \n",
       "79       1/6  0.450971  \n",
       "67      3/31  0.460414  \n",
       "50     10/13  0.467623  \n",
       "86       2/3  0.467838  \n",
       "36      3/24  0.472097  \n",
       "41      5/19  0.486933  \n",
       "89      1/27  0.506957  \n",
       "61      6/16  0.588468  \n",
       "94      1/13  0.602852  \n",
       "\n",
       "[100 rows x 5 columns]"
      ]
     },
     "execution_count": 12,
     "metadata": {},
     "output_type": "execute_result"
    }
   ],
   "source": [
    "movies.sort_values(by = 'ratio')"
   ]
  },
  {
   "cell_type": "markdown",
   "metadata": {},
   "source": [
    "10.Plot a histogram of the ratios. Make the rwidth by 0.9 and make the bins start at 0 and end at 1 in increments of 0.1. Label the axes."
   ]
  },
  {
   "cell_type": "code",
   "execution_count": 13,
   "metadata": {},
   "outputs": [
    {
     "data": {
      "text/plain": [
       "<matplotlib.text.Text at 0x113914ac8>"
      ]
     },
     "execution_count": 13,
     "metadata": {},
     "output_type": "execute_result"
    },
    {
     "data": {
      "image/png": "[encoded data removed]",
      "text/plain": [
       "<matplotlib.figure.Figure at 0x10edafcf8>"
      ]
     },
     "metadata": {},
     "output_type": "display_data"
    }
   ],
   "source": [
    "plt.hist(movies['ratio'],rwidth=0.9, bins=np.arange(0,1.1,.1))\n",
    "plt.xlabel('ratio of opening gross to total gross')\n",
    "plt.ylabel('count')"
   ]
  },
  {
   "cell_type": "markdown",
   "metadata": {},
   "source": [
    "11.Update the open date column to include the year 2017. For example, the string 06/22 should become the string 06/22/2017. You can do this in one line."
   ]
  },
  {
   "cell_type": "code",
   "execution_count": 14,
   "metadata": {
    "collapsed": true
   },
   "outputs": [],
   "source": [
    "movies['open date'] = movies['open date'] + '/2017'"
   ]
  },
  {
   "cell_type": "markdown",
   "metadata": {},
   "source": [
    "12.Use the built-in pandas datetime capability to convert the opening date column to a datetime object."
   ]
  },
  {
   "cell_type": "code",
   "execution_count": 15,
   "metadata": {
    "collapsed": true
   },
   "outputs": [],
   "source": [
    "movies['open date'] = pd.to_datetime(movies['open date'], format = '%m/%d/%Y')"
   ]
  },
  {
   "cell_type": "markdown",
   "metadata": {},
   "source": [
    "13.Make another column called \"open month\" that just includes the opening month of the opening date. Use pandas datetime to do this in one line. Hint - google the following search term:\n",
    "\n",
    "python pandas extract year from datetime\n"
   ]
  },
  {
   "cell_type": "code",
   "execution_count": 16,
   "metadata": {
    "collapsed": true
   },
   "outputs": [],
   "source": [
    "movies['open month'] = movies['open date'].dt.month"
   ]
  },
  {
   "cell_type": "markdown",
   "metadata": {},
   "source": [
    "14.Create a frequency table to find the most popular month for blockbuster hits."
   ]
  },
  {
   "cell_type": "code",
   "execution_count": 17,
   "metadata": {},
   "outputs": [
    {
     "data": {
      "text/plain": [
       "12    13\n",
       "6     12\n",
       "11    11\n",
       "10     8\n",
       "8      8\n",
       "3      8\n",
       "9      7\n",
       "7      7\n",
       "5      7\n",
       "2      7\n",
       "1      7\n",
       "4      5\n",
       "Name: open month, dtype: int64"
      ]
     },
     "execution_count": 17,
     "metadata": {},
     "output_type": "execute_result"
    }
   ],
   "source": [
    "movies['open month'].value_counts()"
   ]
  },
  {
   "cell_type": "markdown",
   "metadata": {},
   "source": [
    "15.Create a histogram of the months. Make the rwidth be 0.9 and the bins start at 0.5 and end at 12.5 in increments of 1."
   ]
  },
  {
   "cell_type": "code",
   "execution_count": 18,
   "metadata": {},
   "outputs": [
    {
     "data": {
      "text/plain": [
       "<matplotlib.text.Text at 0x1139e0710>"
      ]
     },
     "execution_count": 18,
     "metadata": {},
     "output_type": "execute_result"
    },
    {
     "data": {
      "image/png": "[encoded data removed]",
      "text/plain": [
       "<matplotlib.figure.Figure at 0x11399c748>"
      ]
     },
     "metadata": {},
     "output_type": "display_data"
    }
   ],
   "source": [
    "plt.hist(movies['open month'],rwidth = 0.9, bins=np.arange(0.5,13.5,1))\n",
    "plt.xlabel('month')\n",
    "plt.ylabel('count')"
   ]
  },
  {
   "cell_type": "markdown",
   "metadata": {},
   "source": [
    "16.Okay. Now we're going to add director info to our dataframe, which wasn't included on the website up above. Create an empty string column for the director in your dataframe called \"director\"."
   ]
  },
  {
   "cell_type": "code",
   "execution_count": 19,
   "metadata": {
    "collapsed": true
   },
   "outputs": [],
   "source": [
    "movies['director'] = ''"
   ]
  },
  {
   "cell_type": "markdown",
   "metadata": {},
   "source": [
    "17.Go to the website http://www.boxofficemojo.com/yearly/chart/?yr=2017&p=.htm . Find the XPath of the first movie name listed. Copy and paste the XPath link below:"
   ]
  },
  {
   "cell_type": "code",
   "execution_count": 20,
   "metadata": {
    "collapsed": true
   },
   "outputs": [],
   "source": [
    "# //*[@id=\"body\"]/table[3]/tbody/tr/td[1]/table/tbody/tr[2]/td/table/tbody/tr[2]/td[2]/b/font/a"
   ]
  },
  {
   "cell_type": "markdown",
   "metadata": {},
   "source": [
    "18.Use Selenium to click on the movie name link and then print the director's name below."
   ]
  },
  {
   "cell_type": "code",
   "execution_count": 21,
   "metadata": {},
   "outputs": [
    {
     "name": "stdout",
     "output_type": "stream",
     "text": [
      "Rian Johnson\n"
     ]
    }
   ],
   "source": [
    "from selenium import webdriver\n",
    "from selenium.webdriver.common.keys import Keys\n",
    "\n",
    "chromedriver = \"/Users/shareshianl/Desktop/chromedriver\"\n",
    "driver = webdriver.Chrome(chromedriver)\n",
    "\n",
    "url = 'http://www.boxofficemojo.com/yearly/chart/?yr=2017&p=.htm'\n",
    "driver.get(url)\n",
    "text = '//*[@id=\"body\"]/table[3]/tbody/tr/td[1]/table/tbody/tr[2]/td/table/tbody/tr[2]/td[2]/b/font/a'\n",
    "movie = driver.find_element_by_xpath(text).click()\n",
    "text = '//*[@id=\"body\"]/table[2]/tbody/tr/td/table[2]/tbody/tr[2]/td/table/tbody/tr/td[1]/table/tbody/tr/td[2]/div/div[2]/table/tbody/tr[1]/td[2]/font/a'\n",
    "director = driver.find_element_by_xpath(text)\n",
    "print(director.text)\n",
    "driver.close()"
   ]
  },
  {
   "cell_type": "markdown",
   "metadata": {},
   "source": [
    "19.Okay, so we'll want to iterate through all of the movies in the list located at http://www.boxofficemojo.com/yearly/chart/?yr=2017&p=.htm , click on their links, and save their directors. But we may run into a problem. Find the XPath of the second movie in the list and write it below. Is it the same as the first? If not, what is different?"
   ]
  },
  {
   "cell_type": "code",
   "execution_count": 22,
   "metadata": {
    "collapsed": true
   },
   "outputs": [],
   "source": [
    "# //*[@id=\"body\"]/table[3]/tbody/tr/td[1]/table/tbody/tr[2]/td/table/tbody/tr[2]/td[2]/b/font/a\n",
    "# //*[@id=\"body\"]/table[3]/tbody/tr/td[1]/table/tbody/tr[2]/td/table/tbody/tr[3]/td[2]/b/font/a"
   ]
  },
  {
   "cell_type": "markdown",
   "metadata": {},
   "source": [
    "20.To get around this, we actually won't search by XPath, because that is too specific. Right click and then inspect the first movie in the list again. You should see:\n",
    "\n",
    "href=\"/movies/?id=starwars8.htm\"....\n",
    "\n",
    "The id will change from one movie to another but all of them start out as: \n",
    "\n",
    "href=\"/movies/...\"\n",
    "\n",
    "How do we search for this part? We can type:\n",
    "\n",
    "movie_infos = driver.find_elements_by_xpath( '//a[contains(@href, \"/movies/\")]')\n",
    "\n",
    "Note: This movie list will contain all of the movie info, so you will need a loop to iterate through each piece of movie info.\n",
    "\n",
    "Second note: You'll want to save the HREF for each movie to a list called urls. \n",
    "\n",
    "Hint: look back to the get_attribute command in the Unit 11 Assignment if you forget how to do this.\n"
   ]
  },
  {
   "cell_type": "code",
   "execution_count": 23,
   "metadata": {
    "collapsed": true
   },
   "outputs": [],
   "source": [
    "chromedriver = \"/Users/shareshianl/Desktop/chromedriver\"\n",
    "driver = webdriver.Chrome(chromedriver)\n",
    "\n",
    "url = \"http://www.boxofficemojo.com/yearly/chart/?yr=2017&p=.htm\"\n",
    "driver.get(url)\n",
    "movie_infos = driver.find_elements_by_xpath( '//a[contains(@href, \"/movies/\")]')\n",
    "movie_urls = []\n",
    "for i, movie_info in enumerate(movie_infos):\n",
    "    movie_urls.append(movie_info.get_attribute('href'))\n",
    "    \n",
    "driver.close()"
   ]
  },
  {
   "cell_type": "markdown",
   "metadata": {},
   "source": [
    "21.The first url found is not actually the first movie in the list. Delete this first unnecessary url from the list."
   ]
  },
  {
   "cell_type": "code",
   "execution_count": 24,
   "metadata": {
    "collapsed": true
   },
   "outputs": [],
   "source": [
    "del movie_urls[0]"
   ]
  },
  {
   "cell_type": "markdown",
   "metadata": {},
   "source": [
    "22.Use Selenium to go to visit the first URL in your updated list of urls and print the director that you find from it."
   ]
  },
  {
   "cell_type": "code",
   "execution_count": 25,
   "metadata": {},
   "outputs": [
    {
     "name": "stdout",
     "output_type": "stream",
     "text": [
      "Rian Johnson\n"
     ]
    }
   ],
   "source": [
    "chromedriver = \"/Users/shareshianl/Desktop/chromedriver\"\n",
    "driver = webdriver.Chrome(chromedriver)\n",
    "\n",
    "driver.get(movie_urls[0])\n",
    "text = '//*[@id=\"body\"]/table[2]/tbody/tr/td/table[2]/tbody/tr[2]/td/table/tbody/tr/td[1]/table/tbody/tr/td[2]/div/div[2]/table/tbody/tr[1]/td[2]/font/a'\n",
    "director = driver.find_element_by_xpath(text).text\n",
    "driver.close()\n",
    "print(director)"
   ]
  },
  {
   "cell_type": "markdown",
   "metadata": {},
   "source": [
    "23.Iterate through all of the urls in your list, finding each director. As you iterate through the list, immediately update your dataframe to include the director in the director column. \n",
    "\n",
    "First hint: Remember you can update the entry by typing something like:\n",
    "\n",
    "movies['director'][i] = director name\n",
    "\n",
    "Second hint: One of your urls might mess up. Insert a try/except in order to try to get the director name, but if it fails, print the movie and the url that gave you the error.\n",
    "\n",
    "Third hint: you'll notice that some of the XPaths end in \"td[2]/font/a\" and some end in just \"td[2]/font\". MAKE SURE YOUR XPATH SEARCH TERM ENDS IN SIMPLY \"td[2]/font\" or else you'll miss a lot of the movies."
   ]
  },
  {
   "cell_type": "code",
   "execution_count": 27,
   "metadata": {},
   "outputs": [
    {
     "name": "stderr",
     "output_type": "stream",
     "text": [
      "/Users/shareshianl/anaconda/lib/python3.6/site-packages/ipykernel/__main__.py:10: SettingWithCopyWarning: \n",
      "A value is trying to be set on a copy of a slice from a DataFrame\n",
      "\n",
      "See the caveats in the documentation: http://pandas.pydata.org/pandas-docs/stable/indexing.html#indexing-view-versus-copy\n"
     ]
    },
    {
     "name": "stdout",
     "output_type": "stream",
     "text": [
      "0\n"
     ]
    },
    {
     "name": "stderr",
     "output_type": "stream",
     "text": [
      "/Users/shareshianl/anaconda/lib/python3.6/site-packages/ipykernel/__main__.py:10: SettingWithCopyWarning: \n",
      "A value is trying to be set on a copy of a slice from a DataFrame\n",
      "\n",
      "See the caveats in the documentation: http://pandas.pydata.org/pandas-docs/stable/indexing.html#indexing-view-versus-copy\n"
     ]
    },
    {
     "name": "stdout",
     "output_type": "stream",
     "text": [
      "1\n"
     ]
    },
    {
     "name": "stderr",
     "output_type": "stream",
     "text": [
      "/Users/shareshianl/anaconda/lib/python3.6/site-packages/ipykernel/__main__.py:10: SettingWithCopyWarning: \n",
      "A value is trying to be set on a copy of a slice from a DataFrame\n",
      "\n",
      "See the caveats in the documentation: http://pandas.pydata.org/pandas-docs/stable/indexing.html#indexing-view-versus-copy\n"
     ]
    },
    {
     "name": "stdout",
     "output_type": "stream",
     "text": [
      "2\n"
     ]
    },
    {
     "name": "stderr",
     "output_type": "stream",
     "text": [
      "/Users/shareshianl/anaconda/lib/python3.6/site-packages/ipykernel/__main__.py:10: SettingWithCopyWarning: \n",
      "A value is trying to be set on a copy of a slice from a DataFrame\n",
      "\n",
      "See the caveats in the documentation: http://pandas.pydata.org/pandas-docs/stable/indexing.html#indexing-view-versus-copy\n"
     ]
    },
    {
     "name": "stdout",
     "output_type": "stream",
     "text": [
      "3\n"
     ]
    },
    {
     "name": "stderr",
     "output_type": "stream",
     "text": [
      "/Users/shareshianl/anaconda/lib/python3.6/site-packages/ipykernel/__main__.py:10: SettingWithCopyWarning: \n",
      "A value is trying to be set on a copy of a slice from a DataFrame\n",
      "\n",
      "See the caveats in the documentation: http://pandas.pydata.org/pandas-docs/stable/indexing.html#indexing-view-versus-copy\n"
     ]
    },
    {
     "name": "stdout",
     "output_type": "stream",
     "text": [
      "4\n"
     ]
    },
    {
     "name": "stderr",
     "output_type": "stream",
     "text": [
      "/Users/shareshianl/anaconda/lib/python3.6/site-packages/ipykernel/__main__.py:10: SettingWithCopyWarning: \n",
      "A value is trying to be set on a copy of a slice from a DataFrame\n",
      "\n",
      "See the caveats in the documentation: http://pandas.pydata.org/pandas-docs/stable/indexing.html#indexing-view-versus-copy\n"
     ]
    },
    {
     "name": "stdout",
     "output_type": "stream",
     "text": [
      "5\n"
     ]
    },
    {
     "name": "stderr",
     "output_type": "stream",
     "text": [
      "/Users/shareshianl/anaconda/lib/python3.6/site-packages/ipykernel/__main__.py:10: SettingWithCopyWarning: \n",
      "A value is trying to be set on a copy of a slice from a DataFrame\n",
      "\n",
      "See the caveats in the documentation: http://pandas.pydata.org/pandas-docs/stable/indexing.html#indexing-view-versus-copy\n"
     ]
    },
    {
     "name": "stdout",
     "output_type": "stream",
     "text": [
      "6\n"
     ]
    },
    {
     "name": "stderr",
     "output_type": "stream",
     "text": [
      "/Users/shareshianl/anaconda/lib/python3.6/site-packages/ipykernel/__main__.py:10: SettingWithCopyWarning: \n",
      "A value is trying to be set on a copy of a slice from a DataFrame\n",
      "\n",
      "See the caveats in the documentation: http://pandas.pydata.org/pandas-docs/stable/indexing.html#indexing-view-versus-copy\n"
     ]
    },
    {
     "name": "stdout",
     "output_type": "stream",
     "text": [
      "7\n"
     ]
    },
    {
     "name": "stderr",
     "output_type": "stream",
     "text": [
      "/Users/shareshianl/anaconda/lib/python3.6/site-packages/ipykernel/__main__.py:10: SettingWithCopyWarning: \n",
      "A value is trying to be set on a copy of a slice from a DataFrame\n",
      "\n",
      "See the caveats in the documentation: http://pandas.pydata.org/pandas-docs/stable/indexing.html#indexing-view-versus-copy\n"
     ]
    },
    {
     "name": "stdout",
     "output_type": "stream",
     "text": [
      "8\n"
     ]
    },
    {
     "name": "stderr",
     "output_type": "stream",
     "text": [
      "/Users/shareshianl/anaconda/lib/python3.6/site-packages/ipykernel/__main__.py:10: SettingWithCopyWarning: \n",
      "A value is trying to be set on a copy of a slice from a DataFrame\n",
      "\n",
      "See the caveats in the documentation: http://pandas.pydata.org/pandas-docs/stable/indexing.html#indexing-view-versus-copy\n"
     ]
    },
    {
     "name": "stdout",
     "output_type": "stream",
     "text": [
      "9\n"
     ]
    },
    {
     "name": "stderr",
     "output_type": "stream",
     "text": [
      "/Users/shareshianl/anaconda/lib/python3.6/site-packages/ipykernel/__main__.py:10: SettingWithCopyWarning: \n",
      "A value is trying to be set on a copy of a slice from a DataFrame\n",
      "\n",
      "See the caveats in the documentation: http://pandas.pydata.org/pandas-docs/stable/indexing.html#indexing-view-versus-copy\n"
     ]
    },
    {
     "name": "stdout",
     "output_type": "stream",
     "text": [
      "10\n"
     ]
    },
    {
     "name": "stderr",
     "output_type": "stream",
     "text": [
      "/Users/shareshianl/anaconda/lib/python3.6/site-packages/ipykernel/__main__.py:10: SettingWithCopyWarning: \n",
      "A value is trying to be set on a copy of a slice from a DataFrame\n",
      "\n",
      "See the caveats in the documentation: http://pandas.pydata.org/pandas-docs/stable/indexing.html#indexing-view-versus-copy\n"
     ]
    },
    {
     "name": "stdout",
     "output_type": "stream",
     "text": [
      "11\n"
     ]
    },
    {
     "name": "stderr",
     "output_type": "stream",
     "text": [
      "/Users/shareshianl/anaconda/lib/python3.6/site-packages/ipykernel/__main__.py:10: SettingWithCopyWarning: \n",
      "A value is trying to be set on a copy of a slice from a DataFrame\n",
      "\n",
      "See the caveats in the documentation: http://pandas.pydata.org/pandas-docs/stable/indexing.html#indexing-view-versus-copy\n"
     ]
    },
    {
     "name": "stdout",
     "output_type": "stream",
     "text": [
      "12\n"
     ]
    },
    {
     "name": "stderr",
     "output_type": "stream",
     "text": [
      "/Users/shareshianl/anaconda/lib/python3.6/site-packages/ipykernel/__main__.py:10: SettingWithCopyWarning: \n",
      "A value is trying to be set on a copy of a slice from a DataFrame\n",
      "\n",
      "See the caveats in the documentation: http://pandas.pydata.org/pandas-docs/stable/indexing.html#indexing-view-versus-copy\n"
     ]
    },
    {
     "name": "stdout",
     "output_type": "stream",
     "text": [
      "13\n"
     ]
    },
    {
     "name": "stderr",
     "output_type": "stream",
     "text": [
      "/Users/shareshianl/anaconda/lib/python3.6/site-packages/ipykernel/__main__.py:10: SettingWithCopyWarning: \n",
      "A value is trying to be set on a copy of a slice from a DataFrame\n",
      "\n",
      "See the caveats in the documentation: http://pandas.pydata.org/pandas-docs/stable/indexing.html#indexing-view-versus-copy\n"
     ]
    },
    {
     "name": "stdout",
     "output_type": "stream",
     "text": [
      "14\n"
     ]
    },
    {
     "name": "stderr",
     "output_type": "stream",
     "text": [
      "/Users/shareshianl/anaconda/lib/python3.6/site-packages/ipykernel/__main__.py:10: SettingWithCopyWarning: \n",
      "A value is trying to be set on a copy of a slice from a DataFrame\n",
      "\n",
      "See the caveats in the documentation: http://pandas.pydata.org/pandas-docs/stable/indexing.html#indexing-view-versus-copy\n"
     ]
    },
    {
     "name": "stdout",
     "output_type": "stream",
     "text": [
      "15\n"
     ]
    },
    {
     "name": "stderr",
     "output_type": "stream",
     "text": [
      "/Users/shareshianl/anaconda/lib/python3.6/site-packages/ipykernel/__main__.py:10: SettingWithCopyWarning: \n",
      "A value is trying to be set on a copy of a slice from a DataFrame\n",
      "\n",
      "See the caveats in the documentation: http://pandas.pydata.org/pandas-docs/stable/indexing.html#indexing-view-versus-copy\n"
     ]
    },
    {
     "name": "stdout",
     "output_type": "stream",
     "text": [
      "16\n"
     ]
    },
    {
     "name": "stderr",
     "output_type": "stream",
     "text": [
      "/Users/shareshianl/anaconda/lib/python3.6/site-packages/ipykernel/__main__.py:10: SettingWithCopyWarning: \n",
      "A value is trying to be set on a copy of a slice from a DataFrame\n",
      "\n",
      "See the caveats in the documentation: http://pandas.pydata.org/pandas-docs/stable/indexing.html#indexing-view-versus-copy\n"
     ]
    },
    {
     "name": "stdout",
     "output_type": "stream",
     "text": [
      "17\n"
     ]
    },
    {
     "name": "stderr",
     "output_type": "stream",
     "text": [
      "/Users/shareshianl/anaconda/lib/python3.6/site-packages/ipykernel/__main__.py:10: SettingWithCopyWarning: \n",
      "A value is trying to be set on a copy of a slice from a DataFrame\n",
      "\n",
      "See the caveats in the documentation: http://pandas.pydata.org/pandas-docs/stable/indexing.html#indexing-view-versus-copy\n"
     ]
    },
    {
     "name": "stdout",
     "output_type": "stream",
     "text": [
      "18\n"
     ]
    },
    {
     "name": "stderr",
     "output_type": "stream",
     "text": [
      "/Users/shareshianl/anaconda/lib/python3.6/site-packages/ipykernel/__main__.py:10: SettingWithCopyWarning: \n",
      "A value is trying to be set on a copy of a slice from a DataFrame\n",
      "\n",
      "See the caveats in the documentation: http://pandas.pydata.org/pandas-docs/stable/indexing.html#indexing-view-versus-copy\n"
     ]
    },
    {
     "name": "stdout",
     "output_type": "stream",
     "text": [
      "19\n"
     ]
    },
    {
     "name": "stderr",
     "output_type": "stream",
     "text": [
      "/Users/shareshianl/anaconda/lib/python3.6/site-packages/ipykernel/__main__.py:10: SettingWithCopyWarning: \n",
      "A value is trying to be set on a copy of a slice from a DataFrame\n",
      "\n",
      "See the caveats in the documentation: http://pandas.pydata.org/pandas-docs/stable/indexing.html#indexing-view-versus-copy\n"
     ]
    },
    {
     "name": "stdout",
     "output_type": "stream",
     "text": [
      "20\n"
     ]
    },
    {
     "name": "stderr",
     "output_type": "stream",
     "text": [
      "/Users/shareshianl/anaconda/lib/python3.6/site-packages/ipykernel/__main__.py:10: SettingWithCopyWarning: \n",
      "A value is trying to be set on a copy of a slice from a DataFrame\n",
      "\n",
      "See the caveats in the documentation: http://pandas.pydata.org/pandas-docs/stable/indexing.html#indexing-view-versus-copy\n"
     ]
    },
    {
     "name": "stdout",
     "output_type": "stream",
     "text": [
      "21\n"
     ]
    },
    {
     "name": "stderr",
     "output_type": "stream",
     "text": [
      "/Users/shareshianl/anaconda/lib/python3.6/site-packages/ipykernel/__main__.py:10: SettingWithCopyWarning: \n",
      "A value is trying to be set on a copy of a slice from a DataFrame\n",
      "\n",
      "See the caveats in the documentation: http://pandas.pydata.org/pandas-docs/stable/indexing.html#indexing-view-versus-copy\n"
     ]
    },
    {
     "name": "stdout",
     "output_type": "stream",
     "text": [
      "22\n"
     ]
    },
    {
     "name": "stderr",
     "output_type": "stream",
     "text": [
      "/Users/shareshianl/anaconda/lib/python3.6/site-packages/ipykernel/__main__.py:10: SettingWithCopyWarning: \n",
      "A value is trying to be set on a copy of a slice from a DataFrame\n",
      "\n",
      "See the caveats in the documentation: http://pandas.pydata.org/pandas-docs/stable/indexing.html#indexing-view-versus-copy\n"
     ]
    },
    {
     "name": "stdout",
     "output_type": "stream",
     "text": [
      "23\n"
     ]
    },
    {
     "name": "stderr",
     "output_type": "stream",
     "text": [
      "/Users/shareshianl/anaconda/lib/python3.6/site-packages/ipykernel/__main__.py:10: SettingWithCopyWarning: \n",
      "A value is trying to be set on a copy of a slice from a DataFrame\n",
      "\n",
      "See the caveats in the documentation: http://pandas.pydata.org/pandas-docs/stable/indexing.html#indexing-view-versus-copy\n"
     ]
    },
    {
     "name": "stdout",
     "output_type": "stream",
     "text": [
      "24\n"
     ]
    },
    {
     "name": "stderr",
     "output_type": "stream",
     "text": [
      "/Users/shareshianl/anaconda/lib/python3.6/site-packages/ipykernel/__main__.py:10: SettingWithCopyWarning: \n",
      "A value is trying to be set on a copy of a slice from a DataFrame\n",
      "\n",
      "See the caveats in the documentation: http://pandas.pydata.org/pandas-docs/stable/indexing.html#indexing-view-versus-copy\n"
     ]
    },
    {
     "name": "stdout",
     "output_type": "stream",
     "text": [
      "25\n"
     ]
    },
    {
     "name": "stderr",
     "output_type": "stream",
     "text": [
      "/Users/shareshianl/anaconda/lib/python3.6/site-packages/ipykernel/__main__.py:10: SettingWithCopyWarning: \n",
      "A value is trying to be set on a copy of a slice from a DataFrame\n",
      "\n",
      "See the caveats in the documentation: http://pandas.pydata.org/pandas-docs/stable/indexing.html#indexing-view-versus-copy\n"
     ]
    },
    {
     "name": "stdout",
     "output_type": "stream",
     "text": [
      "26\n"
     ]
    },
    {
     "name": "stderr",
     "output_type": "stream",
     "text": [
      "/Users/shareshianl/anaconda/lib/python3.6/site-packages/ipykernel/__main__.py:10: SettingWithCopyWarning: \n",
      "A value is trying to be set on a copy of a slice from a DataFrame\n",
      "\n",
      "See the caveats in the documentation: http://pandas.pydata.org/pandas-docs/stable/indexing.html#indexing-view-versus-copy\n"
     ]
    },
    {
     "name": "stdout",
     "output_type": "stream",
     "text": [
      "27\n"
     ]
    },
    {
     "name": "stderr",
     "output_type": "stream",
     "text": [
      "/Users/shareshianl/anaconda/lib/python3.6/site-packages/ipykernel/__main__.py:10: SettingWithCopyWarning: \n",
      "A value is trying to be set on a copy of a slice from a DataFrame\n",
      "\n",
      "See the caveats in the documentation: http://pandas.pydata.org/pandas-docs/stable/indexing.html#indexing-view-versus-copy\n"
     ]
    },
    {
     "name": "stdout",
     "output_type": "stream",
     "text": [
      "28\n"
     ]
    },
    {
     "name": "stderr",
     "output_type": "stream",
     "text": [
      "/Users/shareshianl/anaconda/lib/python3.6/site-packages/ipykernel/__main__.py:10: SettingWithCopyWarning: \n",
      "A value is trying to be set on a copy of a slice from a DataFrame\n",
      "\n",
      "See the caveats in the documentation: http://pandas.pydata.org/pandas-docs/stable/indexing.html#indexing-view-versus-copy\n"
     ]
    },
    {
     "name": "stdout",
     "output_type": "stream",
     "text": [
      "29\n"
     ]
    },
    {
     "name": "stderr",
     "output_type": "stream",
     "text": [
      "/Users/shareshianl/anaconda/lib/python3.6/site-packages/ipykernel/__main__.py:10: SettingWithCopyWarning: \n",
      "A value is trying to be set on a copy of a slice from a DataFrame\n",
      "\n",
      "See the caveats in the documentation: http://pandas.pydata.org/pandas-docs/stable/indexing.html#indexing-view-versus-copy\n"
     ]
    },
    {
     "name": "stdout",
     "output_type": "stream",
     "text": [
      "30\n"
     ]
    },
    {
     "name": "stderr",
     "output_type": "stream",
     "text": [
      "/Users/shareshianl/anaconda/lib/python3.6/site-packages/ipykernel/__main__.py:10: SettingWithCopyWarning: \n",
      "A value is trying to be set on a copy of a slice from a DataFrame\n",
      "\n",
      "See the caveats in the documentation: http://pandas.pydata.org/pandas-docs/stable/indexing.html#indexing-view-versus-copy\n"
     ]
    },
    {
     "name": "stdout",
     "output_type": "stream",
     "text": [
      "31\n"
     ]
    },
    {
     "name": "stderr",
     "output_type": "stream",
     "text": [
      "/Users/shareshianl/anaconda/lib/python3.6/site-packages/ipykernel/__main__.py:10: SettingWithCopyWarning: \n",
      "A value is trying to be set on a copy of a slice from a DataFrame\n",
      "\n",
      "See the caveats in the documentation: http://pandas.pydata.org/pandas-docs/stable/indexing.html#indexing-view-versus-copy\n"
     ]
    },
    {
     "name": "stdout",
     "output_type": "stream",
     "text": [
      "32\n"
     ]
    },
    {
     "name": "stderr",
     "output_type": "stream",
     "text": [
      "/Users/shareshianl/anaconda/lib/python3.6/site-packages/ipykernel/__main__.py:10: SettingWithCopyWarning: \n",
      "A value is trying to be set on a copy of a slice from a DataFrame\n",
      "\n",
      "See the caveats in the documentation: http://pandas.pydata.org/pandas-docs/stable/indexing.html#indexing-view-versus-copy\n"
     ]
    },
    {
     "name": "stdout",
     "output_type": "stream",
     "text": [
      "33\n"
     ]
    },
    {
     "name": "stderr",
     "output_type": "stream",
     "text": [
      "/Users/shareshianl/anaconda/lib/python3.6/site-packages/ipykernel/__main__.py:10: SettingWithCopyWarning: \n",
      "A value is trying to be set on a copy of a slice from a DataFrame\n",
      "\n",
      "See the caveats in the documentation: http://pandas.pydata.org/pandas-docs/stable/indexing.html#indexing-view-versus-copy\n"
     ]
    },
    {
     "name": "stdout",
     "output_type": "stream",
     "text": [
      "34\n"
     ]
    },
    {
     "name": "stderr",
     "output_type": "stream",
     "text": [
      "/Users/shareshianl/anaconda/lib/python3.6/site-packages/ipykernel/__main__.py:10: SettingWithCopyWarning: \n",
      "A value is trying to be set on a copy of a slice from a DataFrame\n",
      "\n",
      "See the caveats in the documentation: http://pandas.pydata.org/pandas-docs/stable/indexing.html#indexing-view-versus-copy\n"
     ]
    },
    {
     "name": "stdout",
     "output_type": "stream",
     "text": [
      "35\n"
     ]
    },
    {
     "name": "stderr",
     "output_type": "stream",
     "text": [
      "/Users/shareshianl/anaconda/lib/python3.6/site-packages/ipykernel/__main__.py:10: SettingWithCopyWarning: \n",
      "A value is trying to be set on a copy of a slice from a DataFrame\n",
      "\n",
      "See the caveats in the documentation: http://pandas.pydata.org/pandas-docs/stable/indexing.html#indexing-view-versus-copy\n"
     ]
    },
    {
     "name": "stdout",
     "output_type": "stream",
     "text": [
      "36\n"
     ]
    },
    {
     "name": "stderr",
     "output_type": "stream",
     "text": [
      "/Users/shareshianl/anaconda/lib/python3.6/site-packages/ipykernel/__main__.py:10: SettingWithCopyWarning: \n",
      "A value is trying to be set on a copy of a slice from a DataFrame\n",
      "\n",
      "See the caveats in the documentation: http://pandas.pydata.org/pandas-docs/stable/indexing.html#indexing-view-versus-copy\n"
     ]
    },
    {
     "name": "stdout",
     "output_type": "stream",
     "text": [
      "37\n"
     ]
    },
    {
     "name": "stderr",
     "output_type": "stream",
     "text": [
      "/Users/shareshianl/anaconda/lib/python3.6/site-packages/ipykernel/__main__.py:10: SettingWithCopyWarning: \n",
      "A value is trying to be set on a copy of a slice from a DataFrame\n",
      "\n",
      "See the caveats in the documentation: http://pandas.pydata.org/pandas-docs/stable/indexing.html#indexing-view-versus-copy\n"
     ]
    },
    {
     "name": "stdout",
     "output_type": "stream",
     "text": [
      "38\n"
     ]
    },
    {
     "name": "stderr",
     "output_type": "stream",
     "text": [
      "/Users/shareshianl/anaconda/lib/python3.6/site-packages/ipykernel/__main__.py:10: SettingWithCopyWarning: \n",
      "A value is trying to be set on a copy of a slice from a DataFrame\n",
      "\n",
      "See the caveats in the documentation: http://pandas.pydata.org/pandas-docs/stable/indexing.html#indexing-view-versus-copy\n"
     ]
    },
    {
     "name": "stdout",
     "output_type": "stream",
     "text": [
      "39\n"
     ]
    },
    {
     "name": "stderr",
     "output_type": "stream",
     "text": [
      "/Users/shareshianl/anaconda/lib/python3.6/site-packages/ipykernel/__main__.py:10: SettingWithCopyWarning: \n",
      "A value is trying to be set on a copy of a slice from a DataFrame\n",
      "\n",
      "See the caveats in the documentation: http://pandas.pydata.org/pandas-docs/stable/indexing.html#indexing-view-versus-copy\n"
     ]
    },
    {
     "name": "stdout",
     "output_type": "stream",
     "text": [
      "40\n"
     ]
    },
    {
     "name": "stderr",
     "output_type": "stream",
     "text": [
      "/Users/shareshianl/anaconda/lib/python3.6/site-packages/ipykernel/__main__.py:10: SettingWithCopyWarning: \n",
      "A value is trying to be set on a copy of a slice from a DataFrame\n",
      "\n",
      "See the caveats in the documentation: http://pandas.pydata.org/pandas-docs/stable/indexing.html#indexing-view-versus-copy\n"
     ]
    },
    {
     "name": "stdout",
     "output_type": "stream",
     "text": [
      "41\n"
     ]
    },
    {
     "name": "stderr",
     "output_type": "stream",
     "text": [
      "/Users/shareshianl/anaconda/lib/python3.6/site-packages/ipykernel/__main__.py:10: SettingWithCopyWarning: \n",
      "A value is trying to be set on a copy of a slice from a DataFrame\n",
      "\n",
      "See the caveats in the documentation: http://pandas.pydata.org/pandas-docs/stable/indexing.html#indexing-view-versus-copy\n"
     ]
    },
    {
     "name": "stdout",
     "output_type": "stream",
     "text": [
      "42\n"
     ]
    },
    {
     "name": "stderr",
     "output_type": "stream",
     "text": [
      "/Users/shareshianl/anaconda/lib/python3.6/site-packages/ipykernel/__main__.py:10: SettingWithCopyWarning: \n",
      "A value is trying to be set on a copy of a slice from a DataFrame\n",
      "\n",
      "See the caveats in the documentation: http://pandas.pydata.org/pandas-docs/stable/indexing.html#indexing-view-versus-copy\n"
     ]
    },
    {
     "name": "stdout",
     "output_type": "stream",
     "text": [
      "43\n"
     ]
    },
    {
     "name": "stderr",
     "output_type": "stream",
     "text": [
      "/Users/shareshianl/anaconda/lib/python3.6/site-packages/ipykernel/__main__.py:10: SettingWithCopyWarning: \n",
      "A value is trying to be set on a copy of a slice from a DataFrame\n",
      "\n",
      "See the caveats in the documentation: http://pandas.pydata.org/pandas-docs/stable/indexing.html#indexing-view-versus-copy\n"
     ]
    },
    {
     "name": "stdout",
     "output_type": "stream",
     "text": [
      "44\n"
     ]
    },
    {
     "name": "stderr",
     "output_type": "stream",
     "text": [
      "/Users/shareshianl/anaconda/lib/python3.6/site-packages/ipykernel/__main__.py:10: SettingWithCopyWarning: \n",
      "A value is trying to be set on a copy of a slice from a DataFrame\n",
      "\n",
      "See the caveats in the documentation: http://pandas.pydata.org/pandas-docs/stable/indexing.html#indexing-view-versus-copy\n"
     ]
    },
    {
     "name": "stdout",
     "output_type": "stream",
     "text": [
      "45\n"
     ]
    },
    {
     "name": "stderr",
     "output_type": "stream",
     "text": [
      "/Users/shareshianl/anaconda/lib/python3.6/site-packages/ipykernel/__main__.py:10: SettingWithCopyWarning: \n",
      "A value is trying to be set on a copy of a slice from a DataFrame\n",
      "\n",
      "See the caveats in the documentation: http://pandas.pydata.org/pandas-docs/stable/indexing.html#indexing-view-versus-copy\n"
     ]
    },
    {
     "name": "stdout",
     "output_type": "stream",
     "text": [
      "46\n"
     ]
    },
    {
     "name": "stderr",
     "output_type": "stream",
     "text": [
      "/Users/shareshianl/anaconda/lib/python3.6/site-packages/ipykernel/__main__.py:10: SettingWithCopyWarning: \n",
      "A value is trying to be set on a copy of a slice from a DataFrame\n",
      "\n",
      "See the caveats in the documentation: http://pandas.pydata.org/pandas-docs/stable/indexing.html#indexing-view-versus-copy\n"
     ]
    },
    {
     "name": "stdout",
     "output_type": "stream",
     "text": [
      "47\n"
     ]
    },
    {
     "name": "stderr",
     "output_type": "stream",
     "text": [
      "/Users/shareshianl/anaconda/lib/python3.6/site-packages/ipykernel/__main__.py:10: SettingWithCopyWarning: \n",
      "A value is trying to be set on a copy of a slice from a DataFrame\n",
      "\n",
      "See the caveats in the documentation: http://pandas.pydata.org/pandas-docs/stable/indexing.html#indexing-view-versus-copy\n"
     ]
    },
    {
     "name": "stdout",
     "output_type": "stream",
     "text": [
      "48\n"
     ]
    },
    {
     "name": "stderr",
     "output_type": "stream",
     "text": [
      "/Users/shareshianl/anaconda/lib/python3.6/site-packages/ipykernel/__main__.py:10: SettingWithCopyWarning: \n",
      "A value is trying to be set on a copy of a slice from a DataFrame\n",
      "\n",
      "See the caveats in the documentation: http://pandas.pydata.org/pandas-docs/stable/indexing.html#indexing-view-versus-copy\n"
     ]
    },
    {
     "name": "stdout",
     "output_type": "stream",
     "text": [
      "49\n"
     ]
    },
    {
     "name": "stderr",
     "output_type": "stream",
     "text": [
      "/Users/shareshianl/anaconda/lib/python3.6/site-packages/ipykernel/__main__.py:10: SettingWithCopyWarning: \n",
      "A value is trying to be set on a copy of a slice from a DataFrame\n",
      "\n",
      "See the caveats in the documentation: http://pandas.pydata.org/pandas-docs/stable/indexing.html#indexing-view-versus-copy\n"
     ]
    },
    {
     "name": "stdout",
     "output_type": "stream",
     "text": [
      "50\n"
     ]
    },
    {
     "name": "stderr",
     "output_type": "stream",
     "text": [
      "/Users/shareshianl/anaconda/lib/python3.6/site-packages/ipykernel/__main__.py:10: SettingWithCopyWarning: \n",
      "A value is trying to be set on a copy of a slice from a DataFrame\n",
      "\n",
      "See the caveats in the documentation: http://pandas.pydata.org/pandas-docs/stable/indexing.html#indexing-view-versus-copy\n"
     ]
    },
    {
     "name": "stdout",
     "output_type": "stream",
     "text": [
      "51\n"
     ]
    },
    {
     "name": "stderr",
     "output_type": "stream",
     "text": [
      "/Users/shareshianl/anaconda/lib/python3.6/site-packages/ipykernel/__main__.py:10: SettingWithCopyWarning: \n",
      "A value is trying to be set on a copy of a slice from a DataFrame\n",
      "\n",
      "See the caveats in the documentation: http://pandas.pydata.org/pandas-docs/stable/indexing.html#indexing-view-versus-copy\n"
     ]
    },
    {
     "name": "stdout",
     "output_type": "stream",
     "text": [
      "52\n"
     ]
    },
    {
     "name": "stderr",
     "output_type": "stream",
     "text": [
      "/Users/shareshianl/anaconda/lib/python3.6/site-packages/ipykernel/__main__.py:10: SettingWithCopyWarning: \n",
      "A value is trying to be set on a copy of a slice from a DataFrame\n",
      "\n",
      "See the caveats in the documentation: http://pandas.pydata.org/pandas-docs/stable/indexing.html#indexing-view-versus-copy\n"
     ]
    },
    {
     "name": "stdout",
     "output_type": "stream",
     "text": [
      "53\n"
     ]
    },
    {
     "name": "stderr",
     "output_type": "stream",
     "text": [
      "/Users/shareshianl/anaconda/lib/python3.6/site-packages/ipykernel/__main__.py:10: SettingWithCopyWarning: \n",
      "A value is trying to be set on a copy of a slice from a DataFrame\n",
      "\n",
      "See the caveats in the documentation: http://pandas.pydata.org/pandas-docs/stable/indexing.html#indexing-view-versus-copy\n"
     ]
    },
    {
     "name": "stdout",
     "output_type": "stream",
     "text": [
      "54\n"
     ]
    },
    {
     "name": "stderr",
     "output_type": "stream",
     "text": [
      "/Users/shareshianl/anaconda/lib/python3.6/site-packages/ipykernel/__main__.py:10: SettingWithCopyWarning: \n",
      "A value is trying to be set on a copy of a slice from a DataFrame\n",
      "\n",
      "See the caveats in the documentation: http://pandas.pydata.org/pandas-docs/stable/indexing.html#indexing-view-versus-copy\n"
     ]
    },
    {
     "name": "stdout",
     "output_type": "stream",
     "text": [
      "55\n"
     ]
    },
    {
     "name": "stderr",
     "output_type": "stream",
     "text": [
      "/Users/shareshianl/anaconda/lib/python3.6/site-packages/ipykernel/__main__.py:10: SettingWithCopyWarning: \n",
      "A value is trying to be set on a copy of a slice from a DataFrame\n",
      "\n",
      "See the caveats in the documentation: http://pandas.pydata.org/pandas-docs/stable/indexing.html#indexing-view-versus-copy\n"
     ]
    },
    {
     "name": "stdout",
     "output_type": "stream",
     "text": [
      "56\n"
     ]
    },
    {
     "name": "stderr",
     "output_type": "stream",
     "text": [
      "/Users/shareshianl/anaconda/lib/python3.6/site-packages/ipykernel/__main__.py:10: SettingWithCopyWarning: \n",
      "A value is trying to be set on a copy of a slice from a DataFrame\n",
      "\n",
      "See the caveats in the documentation: http://pandas.pydata.org/pandas-docs/stable/indexing.html#indexing-view-versus-copy\n"
     ]
    },
    {
     "name": "stdout",
     "output_type": "stream",
     "text": [
      "57\n"
     ]
    },
    {
     "name": "stderr",
     "output_type": "stream",
     "text": [
      "/Users/shareshianl/anaconda/lib/python3.6/site-packages/ipykernel/__main__.py:10: SettingWithCopyWarning: \n",
      "A value is trying to be set on a copy of a slice from a DataFrame\n",
      "\n",
      "See the caveats in the documentation: http://pandas.pydata.org/pandas-docs/stable/indexing.html#indexing-view-versus-copy\n"
     ]
    },
    {
     "name": "stdout",
     "output_type": "stream",
     "text": [
      "58\n"
     ]
    },
    {
     "name": "stderr",
     "output_type": "stream",
     "text": [
      "/Users/shareshianl/anaconda/lib/python3.6/site-packages/ipykernel/__main__.py:10: SettingWithCopyWarning: \n",
      "A value is trying to be set on a copy of a slice from a DataFrame\n",
      "\n",
      "See the caveats in the documentation: http://pandas.pydata.org/pandas-docs/stable/indexing.html#indexing-view-versus-copy\n"
     ]
    },
    {
     "name": "stdout",
     "output_type": "stream",
     "text": [
      "59\n"
     ]
    },
    {
     "name": "stderr",
     "output_type": "stream",
     "text": [
      "/Users/shareshianl/anaconda/lib/python3.6/site-packages/ipykernel/__main__.py:10: SettingWithCopyWarning: \n",
      "A value is trying to be set on a copy of a slice from a DataFrame\n",
      "\n",
      "See the caveats in the documentation: http://pandas.pydata.org/pandas-docs/stable/indexing.html#indexing-view-versus-copy\n"
     ]
    },
    {
     "name": "stdout",
     "output_type": "stream",
     "text": [
      "60\n"
     ]
    },
    {
     "name": "stderr",
     "output_type": "stream",
     "text": [
      "/Users/shareshianl/anaconda/lib/python3.6/site-packages/ipykernel/__main__.py:10: SettingWithCopyWarning: \n",
      "A value is trying to be set on a copy of a slice from a DataFrame\n",
      "\n",
      "See the caveats in the documentation: http://pandas.pydata.org/pandas-docs/stable/indexing.html#indexing-view-versus-copy\n"
     ]
    },
    {
     "name": "stdout",
     "output_type": "stream",
     "text": [
      "61\n"
     ]
    },
    {
     "name": "stderr",
     "output_type": "stream",
     "text": [
      "/Users/shareshianl/anaconda/lib/python3.6/site-packages/ipykernel/__main__.py:10: SettingWithCopyWarning: \n",
      "A value is trying to be set on a copy of a slice from a DataFrame\n",
      "\n",
      "See the caveats in the documentation: http://pandas.pydata.org/pandas-docs/stable/indexing.html#indexing-view-versus-copy\n"
     ]
    },
    {
     "name": "stdout",
     "output_type": "stream",
     "text": [
      "62\n"
     ]
    },
    {
     "name": "stderr",
     "output_type": "stream",
     "text": [
      "/Users/shareshianl/anaconda/lib/python3.6/site-packages/ipykernel/__main__.py:10: SettingWithCopyWarning: \n",
      "A value is trying to be set on a copy of a slice from a DataFrame\n",
      "\n",
      "See the caveats in the documentation: http://pandas.pydata.org/pandas-docs/stable/indexing.html#indexing-view-versus-copy\n"
     ]
    },
    {
     "name": "stdout",
     "output_type": "stream",
     "text": [
      "63\n"
     ]
    },
    {
     "name": "stderr",
     "output_type": "stream",
     "text": [
      "/Users/shareshianl/anaconda/lib/python3.6/site-packages/ipykernel/__main__.py:10: SettingWithCopyWarning: \n",
      "A value is trying to be set on a copy of a slice from a DataFrame\n",
      "\n",
      "See the caveats in the documentation: http://pandas.pydata.org/pandas-docs/stable/indexing.html#indexing-view-versus-copy\n"
     ]
    },
    {
     "name": "stdout",
     "output_type": "stream",
     "text": [
      "64\n"
     ]
    },
    {
     "name": "stderr",
     "output_type": "stream",
     "text": [
      "/Users/shareshianl/anaconda/lib/python3.6/site-packages/ipykernel/__main__.py:10: SettingWithCopyWarning: \n",
      "A value is trying to be set on a copy of a slice from a DataFrame\n",
      "\n",
      "See the caveats in the documentation: http://pandas.pydata.org/pandas-docs/stable/indexing.html#indexing-view-versus-copy\n"
     ]
    },
    {
     "name": "stdout",
     "output_type": "stream",
     "text": [
      "65\n"
     ]
    },
    {
     "name": "stderr",
     "output_type": "stream",
     "text": [
      "/Users/shareshianl/anaconda/lib/python3.6/site-packages/ipykernel/__main__.py:10: SettingWithCopyWarning: \n",
      "A value is trying to be set on a copy of a slice from a DataFrame\n",
      "\n",
      "See the caveats in the documentation: http://pandas.pydata.org/pandas-docs/stable/indexing.html#indexing-view-versus-copy\n"
     ]
    },
    {
     "name": "stdout",
     "output_type": "stream",
     "text": [
      "66\n"
     ]
    },
    {
     "name": "stderr",
     "output_type": "stream",
     "text": [
      "/Users/shareshianl/anaconda/lib/python3.6/site-packages/ipykernel/__main__.py:10: SettingWithCopyWarning: \n",
      "A value is trying to be set on a copy of a slice from a DataFrame\n",
      "\n",
      "See the caveats in the documentation: http://pandas.pydata.org/pandas-docs/stable/indexing.html#indexing-view-versus-copy\n"
     ]
    },
    {
     "name": "stdout",
     "output_type": "stream",
     "text": [
      "67\n"
     ]
    },
    {
     "name": "stderr",
     "output_type": "stream",
     "text": [
      "/Users/shareshianl/anaconda/lib/python3.6/site-packages/ipykernel/__main__.py:10: SettingWithCopyWarning: \n",
      "A value is trying to be set on a copy of a slice from a DataFrame\n",
      "\n",
      "See the caveats in the documentation: http://pandas.pydata.org/pandas-docs/stable/indexing.html#indexing-view-versus-copy\n"
     ]
    },
    {
     "name": "stdout",
     "output_type": "stream",
     "text": [
      "68\n"
     ]
    },
    {
     "name": "stderr",
     "output_type": "stream",
     "text": [
      "/Users/shareshianl/anaconda/lib/python3.6/site-packages/ipykernel/__main__.py:10: SettingWithCopyWarning: \n",
      "A value is trying to be set on a copy of a slice from a DataFrame\n",
      "\n",
      "See the caveats in the documentation: http://pandas.pydata.org/pandas-docs/stable/indexing.html#indexing-view-versus-copy\n"
     ]
    },
    {
     "name": "stdout",
     "output_type": "stream",
     "text": [
      "69\n"
     ]
    },
    {
     "name": "stderr",
     "output_type": "stream",
     "text": [
      "/Users/shareshianl/anaconda/lib/python3.6/site-packages/ipykernel/__main__.py:10: SettingWithCopyWarning: \n",
      "A value is trying to be set on a copy of a slice from a DataFrame\n",
      "\n",
      "See the caveats in the documentation: http://pandas.pydata.org/pandas-docs/stable/indexing.html#indexing-view-versus-copy\n"
     ]
    },
    {
     "name": "stdout",
     "output_type": "stream",
     "text": [
      "70\n"
     ]
    },
    {
     "name": "stderr",
     "output_type": "stream",
     "text": [
      "/Users/shareshianl/anaconda/lib/python3.6/site-packages/ipykernel/__main__.py:10: SettingWithCopyWarning: \n",
      "A value is trying to be set on a copy of a slice from a DataFrame\n",
      "\n",
      "See the caveats in the documentation: http://pandas.pydata.org/pandas-docs/stable/indexing.html#indexing-view-versus-copy\n"
     ]
    },
    {
     "name": "stdout",
     "output_type": "stream",
     "text": [
      "71\n"
     ]
    },
    {
     "name": "stderr",
     "output_type": "stream",
     "text": [
      "/Users/shareshianl/anaconda/lib/python3.6/site-packages/ipykernel/__main__.py:10: SettingWithCopyWarning: \n",
      "A value is trying to be set on a copy of a slice from a DataFrame\n",
      "\n",
      "See the caveats in the documentation: http://pandas.pydata.org/pandas-docs/stable/indexing.html#indexing-view-versus-copy\n"
     ]
    },
    {
     "name": "stdout",
     "output_type": "stream",
     "text": [
      "72\n"
     ]
    },
    {
     "name": "stderr",
     "output_type": "stream",
     "text": [
      "/Users/shareshianl/anaconda/lib/python3.6/site-packages/ipykernel/__main__.py:10: SettingWithCopyWarning: \n",
      "A value is trying to be set on a copy of a slice from a DataFrame\n",
      "\n",
      "See the caveats in the documentation: http://pandas.pydata.org/pandas-docs/stable/indexing.html#indexing-view-versus-copy\n"
     ]
    },
    {
     "name": "stdout",
     "output_type": "stream",
     "text": [
      "73\n"
     ]
    },
    {
     "name": "stderr",
     "output_type": "stream",
     "text": [
      "/Users/shareshianl/anaconda/lib/python3.6/site-packages/ipykernel/__main__.py:10: SettingWithCopyWarning: \n",
      "A value is trying to be set on a copy of a slice from a DataFrame\n",
      "\n",
      "See the caveats in the documentation: http://pandas.pydata.org/pandas-docs/stable/indexing.html#indexing-view-versus-copy\n"
     ]
    },
    {
     "name": "stdout",
     "output_type": "stream",
     "text": [
      "74\n"
     ]
    },
    {
     "name": "stderr",
     "output_type": "stream",
     "text": [
      "/Users/shareshianl/anaconda/lib/python3.6/site-packages/ipykernel/__main__.py:10: SettingWithCopyWarning: \n",
      "A value is trying to be set on a copy of a slice from a DataFrame\n",
      "\n",
      "See the caveats in the documentation: http://pandas.pydata.org/pandas-docs/stable/indexing.html#indexing-view-versus-copy\n"
     ]
    },
    {
     "name": "stdout",
     "output_type": "stream",
     "text": [
      "75\n"
     ]
    },
    {
     "name": "stderr",
     "output_type": "stream",
     "text": [
      "/Users/shareshianl/anaconda/lib/python3.6/site-packages/ipykernel/__main__.py:10: SettingWithCopyWarning: \n",
      "A value is trying to be set on a copy of a slice from a DataFrame\n",
      "\n",
      "See the caveats in the documentation: http://pandas.pydata.org/pandas-docs/stable/indexing.html#indexing-view-versus-copy\n"
     ]
    },
    {
     "name": "stdout",
     "output_type": "stream",
     "text": [
      "76\n"
     ]
    },
    {
     "name": "stderr",
     "output_type": "stream",
     "text": [
      "/Users/shareshianl/anaconda/lib/python3.6/site-packages/ipykernel/__main__.py:10: SettingWithCopyWarning: \n",
      "A value is trying to be set on a copy of a slice from a DataFrame\n",
      "\n",
      "See the caveats in the documentation: http://pandas.pydata.org/pandas-docs/stable/indexing.html#indexing-view-versus-copy\n"
     ]
    },
    {
     "name": "stdout",
     "output_type": "stream",
     "text": [
      "77\n"
     ]
    },
    {
     "name": "stderr",
     "output_type": "stream",
     "text": [
      "/Users/shareshianl/anaconda/lib/python3.6/site-packages/ipykernel/__main__.py:10: SettingWithCopyWarning: \n",
      "A value is trying to be set on a copy of a slice from a DataFrame\n",
      "\n",
      "See the caveats in the documentation: http://pandas.pydata.org/pandas-docs/stable/indexing.html#indexing-view-versus-copy\n"
     ]
    },
    {
     "name": "stdout",
     "output_type": "stream",
     "text": [
      "78\n"
     ]
    },
    {
     "name": "stderr",
     "output_type": "stream",
     "text": [
      "/Users/shareshianl/anaconda/lib/python3.6/site-packages/ipykernel/__main__.py:10: SettingWithCopyWarning: \n",
      "A value is trying to be set on a copy of a slice from a DataFrame\n",
      "\n",
      "See the caveats in the documentation: http://pandas.pydata.org/pandas-docs/stable/indexing.html#indexing-view-versus-copy\n"
     ]
    },
    {
     "name": "stdout",
     "output_type": "stream",
     "text": [
      "79\n"
     ]
    },
    {
     "name": "stderr",
     "output_type": "stream",
     "text": [
      "/Users/shareshianl/anaconda/lib/python3.6/site-packages/ipykernel/__main__.py:10: SettingWithCopyWarning: \n",
      "A value is trying to be set on a copy of a slice from a DataFrame\n",
      "\n",
      "See the caveats in the documentation: http://pandas.pydata.org/pandas-docs/stable/indexing.html#indexing-view-versus-copy\n"
     ]
    },
    {
     "name": "stdout",
     "output_type": "stream",
     "text": [
      "80\n"
     ]
    },
    {
     "name": "stderr",
     "output_type": "stream",
     "text": [
      "/Users/shareshianl/anaconda/lib/python3.6/site-packages/ipykernel/__main__.py:10: SettingWithCopyWarning: \n",
      "A value is trying to be set on a copy of a slice from a DataFrame\n",
      "\n",
      "See the caveats in the documentation: http://pandas.pydata.org/pandas-docs/stable/indexing.html#indexing-view-versus-copy\n"
     ]
    },
    {
     "name": "stdout",
     "output_type": "stream",
     "text": [
      "81\n"
     ]
    },
    {
     "name": "stderr",
     "output_type": "stream",
     "text": [
      "/Users/shareshianl/anaconda/lib/python3.6/site-packages/ipykernel/__main__.py:10: SettingWithCopyWarning: \n",
      "A value is trying to be set on a copy of a slice from a DataFrame\n",
      "\n",
      "See the caveats in the documentation: http://pandas.pydata.org/pandas-docs/stable/indexing.html#indexing-view-versus-copy\n"
     ]
    },
    {
     "name": "stdout",
     "output_type": "stream",
     "text": [
      "82\n"
     ]
    },
    {
     "name": "stderr",
     "output_type": "stream",
     "text": [
      "/Users/shareshianl/anaconda/lib/python3.6/site-packages/ipykernel/__main__.py:10: SettingWithCopyWarning: \n",
      "A value is trying to be set on a copy of a slice from a DataFrame\n",
      "\n",
      "See the caveats in the documentation: http://pandas.pydata.org/pandas-docs/stable/indexing.html#indexing-view-versus-copy\n"
     ]
    },
    {
     "name": "stdout",
     "output_type": "stream",
     "text": [
      "83\n"
     ]
    },
    {
     "name": "stderr",
     "output_type": "stream",
     "text": [
      "/Users/shareshianl/anaconda/lib/python3.6/site-packages/ipykernel/__main__.py:10: SettingWithCopyWarning: \n",
      "A value is trying to be set on a copy of a slice from a DataFrame\n",
      "\n",
      "See the caveats in the documentation: http://pandas.pydata.org/pandas-docs/stable/indexing.html#indexing-view-versus-copy\n"
     ]
    },
    {
     "name": "stdout",
     "output_type": "stream",
     "text": [
      "84\n"
     ]
    },
    {
     "name": "stderr",
     "output_type": "stream",
     "text": [
      "/Users/shareshianl/anaconda/lib/python3.6/site-packages/ipykernel/__main__.py:10: SettingWithCopyWarning: \n",
      "A value is trying to be set on a copy of a slice from a DataFrame\n",
      "\n",
      "See the caveats in the documentation: http://pandas.pydata.org/pandas-docs/stable/indexing.html#indexing-view-versus-copy\n"
     ]
    },
    {
     "name": "stdout",
     "output_type": "stream",
     "text": [
      "85\n",
      "BAD 86 Rings https://www.boxofficemojo.com/movies/?id=rings.htm\n"
     ]
    },
    {
     "name": "stderr",
     "output_type": "stream",
     "text": [
      "/Users/shareshianl/anaconda/lib/python3.6/site-packages/ipykernel/__main__.py:10: SettingWithCopyWarning: \n",
      "A value is trying to be set on a copy of a slice from a DataFrame\n",
      "\n",
      "See the caveats in the documentation: http://pandas.pydata.org/pandas-docs/stable/indexing.html#indexing-view-versus-copy\n"
     ]
    },
    {
     "name": "stdout",
     "output_type": "stream",
     "text": [
      "87\n"
     ]
    },
    {
     "name": "stderr",
     "output_type": "stream",
     "text": [
      "/Users/shareshianl/anaconda/lib/python3.6/site-packages/ipykernel/__main__.py:10: SettingWithCopyWarning: \n",
      "A value is trying to be set on a copy of a slice from a DataFrame\n",
      "\n",
      "See the caveats in the documentation: http://pandas.pydata.org/pandas-docs/stable/indexing.html#indexing-view-versus-copy\n"
     ]
    },
    {
     "name": "stdout",
     "output_type": "stream",
     "text": [
      "88\n"
     ]
    },
    {
     "name": "stderr",
     "output_type": "stream",
     "text": [
      "/Users/shareshianl/anaconda/lib/python3.6/site-packages/ipykernel/__main__.py:10: SettingWithCopyWarning: \n",
      "A value is trying to be set on a copy of a slice from a DataFrame\n",
      "\n",
      "See the caveats in the documentation: http://pandas.pydata.org/pandas-docs/stable/indexing.html#indexing-view-versus-copy\n"
     ]
    },
    {
     "name": "stdout",
     "output_type": "stream",
     "text": [
      "89\n"
     ]
    },
    {
     "name": "stderr",
     "output_type": "stream",
     "text": [
      "/Users/shareshianl/anaconda/lib/python3.6/site-packages/ipykernel/__main__.py:10: SettingWithCopyWarning: \n",
      "A value is trying to be set on a copy of a slice from a DataFrame\n",
      "\n",
      "See the caveats in the documentation: http://pandas.pydata.org/pandas-docs/stable/indexing.html#indexing-view-versus-copy\n"
     ]
    },
    {
     "name": "stdout",
     "output_type": "stream",
     "text": [
      "90\n"
     ]
    },
    {
     "name": "stderr",
     "output_type": "stream",
     "text": [
      "/Users/shareshianl/anaconda/lib/python3.6/site-packages/ipykernel/__main__.py:10: SettingWithCopyWarning: \n",
      "A value is trying to be set on a copy of a slice from a DataFrame\n",
      "\n",
      "See the caveats in the documentation: http://pandas.pydata.org/pandas-docs/stable/indexing.html#indexing-view-versus-copy\n"
     ]
    },
    {
     "name": "stdout",
     "output_type": "stream",
     "text": [
      "91\n"
     ]
    },
    {
     "name": "stderr",
     "output_type": "stream",
     "text": [
      "/Users/shareshianl/anaconda/lib/python3.6/site-packages/ipykernel/__main__.py:10: SettingWithCopyWarning: \n",
      "A value is trying to be set on a copy of a slice from a DataFrame\n",
      "\n",
      "See the caveats in the documentation: http://pandas.pydata.org/pandas-docs/stable/indexing.html#indexing-view-versus-copy\n"
     ]
    },
    {
     "name": "stdout",
     "output_type": "stream",
     "text": [
      "92\n"
     ]
    },
    {
     "name": "stderr",
     "output_type": "stream",
     "text": [
      "/Users/shareshianl/anaconda/lib/python3.6/site-packages/ipykernel/__main__.py:10: SettingWithCopyWarning: \n",
      "A value is trying to be set on a copy of a slice from a DataFrame\n",
      "\n",
      "See the caveats in the documentation: http://pandas.pydata.org/pandas-docs/stable/indexing.html#indexing-view-versus-copy\n"
     ]
    },
    {
     "name": "stdout",
     "output_type": "stream",
     "text": [
      "93\n"
     ]
    },
    {
     "name": "stderr",
     "output_type": "stream",
     "text": [
      "/Users/shareshianl/anaconda/lib/python3.6/site-packages/ipykernel/__main__.py:10: SettingWithCopyWarning: \n",
      "A value is trying to be set on a copy of a slice from a DataFrame\n",
      "\n",
      "See the caveats in the documentation: http://pandas.pydata.org/pandas-docs/stable/indexing.html#indexing-view-versus-copy\n"
     ]
    },
    {
     "name": "stdout",
     "output_type": "stream",
     "text": [
      "94\n"
     ]
    },
    {
     "name": "stderr",
     "output_type": "stream",
     "text": [
      "/Users/shareshianl/anaconda/lib/python3.6/site-packages/ipykernel/__main__.py:10: SettingWithCopyWarning: \n",
      "A value is trying to be set on a copy of a slice from a DataFrame\n",
      "\n",
      "See the caveats in the documentation: http://pandas.pydata.org/pandas-docs/stable/indexing.html#indexing-view-versus-copy\n"
     ]
    },
    {
     "name": "stdout",
     "output_type": "stream",
     "text": [
      "95\n"
     ]
    },
    {
     "name": "stderr",
     "output_type": "stream",
     "text": [
      "/Users/shareshianl/anaconda/lib/python3.6/site-packages/ipykernel/__main__.py:10: SettingWithCopyWarning: \n",
      "A value is trying to be set on a copy of a slice from a DataFrame\n",
      "\n",
      "See the caveats in the documentation: http://pandas.pydata.org/pandas-docs/stable/indexing.html#indexing-view-versus-copy\n"
     ]
    },
    {
     "name": "stdout",
     "output_type": "stream",
     "text": [
      "96\n"
     ]
    },
    {
     "name": "stderr",
     "output_type": "stream",
     "text": [
      "/Users/shareshianl/anaconda/lib/python3.6/site-packages/ipykernel/__main__.py:10: SettingWithCopyWarning: \n",
      "A value is trying to be set on a copy of a slice from a DataFrame\n",
      "\n",
      "See the caveats in the documentation: http://pandas.pydata.org/pandas-docs/stable/indexing.html#indexing-view-versus-copy\n"
     ]
    },
    {
     "name": "stdout",
     "output_type": "stream",
     "text": [
      "97\n"
     ]
    },
    {
     "name": "stderr",
     "output_type": "stream",
     "text": [
      "/Users/shareshianl/anaconda/lib/python3.6/site-packages/ipykernel/__main__.py:10: SettingWithCopyWarning: \n",
      "A value is trying to be set on a copy of a slice from a DataFrame\n",
      "\n",
      "See the caveats in the documentation: http://pandas.pydata.org/pandas-docs/stable/indexing.html#indexing-view-versus-copy\n"
     ]
    },
    {
     "name": "stdout",
     "output_type": "stream",
     "text": [
      "98\n"
     ]
    },
    {
     "name": "stderr",
     "output_type": "stream",
     "text": [
      "/Users/shareshianl/anaconda/lib/python3.6/site-packages/ipykernel/__main__.py:10: SettingWithCopyWarning: \n",
      "A value is trying to be set on a copy of a slice from a DataFrame\n",
      "\n",
      "See the caveats in the documentation: http://pandas.pydata.org/pandas-docs/stable/indexing.html#indexing-view-versus-copy\n"
     ]
    },
    {
     "name": "stdout",
     "output_type": "stream",
     "text": [
      "99\n"
     ]
    },
    {
     "data": {
      "text/html": [
       "<div>\n",
       "<style scoped>\n",
       "    .dataframe tbody tr th:only-of-type {\n",
       "        vertical-align: middle;\n",
       "    }\n",
       "\n",
       "    .dataframe tbody tr th {\n",
       "        vertical-align: top;\n",
       "    }\n",
       "\n",
       "    .dataframe thead th {\n",
       "        text-align: right;\n",
       "    }\n",
       "</style>\n",
       "<table border=\"1\" class=\"dataframe\">\n",
       "  <thead>\n",
       "    <tr style=\"text-align: right;\">\n",
       "      <th></th>\n",
       "      <th>movie</th>\n",
       "      <th>total gross</th>\n",
       "      <th>open gross</th>\n",
       "      <th>open date</th>\n",
       "      <th>ratio</th>\n",
       "      <th>open month</th>\n",
       "      <th>director</th>\n",
       "    </tr>\n",
       "  </thead>\n",
       "  <tbody>\n",
       "    <tr>\n",
       "      <th>0</th>\n",
       "      <td>Star Wars: The Last Jedi</td>\n",
       "      <td>620181382</td>\n",
       "      <td>220009584</td>\n",
       "      <td>2017-12-15</td>\n",
       "      <td>0.354750</td>\n",
       "      <td>12</td>\n",
       "      <td>Rian Johnson</td>\n",
       "    </tr>\n",
       "    <tr>\n",
       "      <th>1</th>\n",
       "      <td>Beauty and the Beast (2017)</td>\n",
       "      <td>504014165</td>\n",
       "      <td>174750616</td>\n",
       "      <td>2017-03-17</td>\n",
       "      <td>0.346718</td>\n",
       "      <td>3</td>\n",
       "      <td>Bill Condon</td>\n",
       "    </tr>\n",
       "    <tr>\n",
       "      <th>2</th>\n",
       "      <td>Wonder Woman</td>\n",
       "      <td>412563408</td>\n",
       "      <td>103251471</td>\n",
       "      <td>2017-06-02</td>\n",
       "      <td>0.250268</td>\n",
       "      <td>6</td>\n",
       "      <td>Patty Jenkins</td>\n",
       "    </tr>\n",
       "    <tr>\n",
       "      <th>3</th>\n",
       "      <td>Jumanji: Welcome to the Jungle</td>\n",
       "      <td>404515480</td>\n",
       "      <td>36169328</td>\n",
       "      <td>2017-12-20</td>\n",
       "      <td>0.089414</td>\n",
       "      <td>12</td>\n",
       "      <td>Jake Kasdan</td>\n",
       "    </tr>\n",
       "    <tr>\n",
       "      <th>4</th>\n",
       "      <td>Guardians of the Galaxy Vol. 2</td>\n",
       "      <td>389813101</td>\n",
       "      <td>146510104</td>\n",
       "      <td>2017-05-05</td>\n",
       "      <td>0.375847</td>\n",
       "      <td>5</td>\n",
       "      <td>James Gunn</td>\n",
       "    </tr>\n",
       "  </tbody>\n",
       "</table>\n",
       "</div>"
      ],
      "text/plain": [
       "                            movie  total gross  open gross  open date  \\\n",
       "0        Star Wars: The Last Jedi    620181382   220009584 2017-12-15   \n",
       "1     Beauty and the Beast (2017)    504014165   174750616 2017-03-17   \n",
       "2                    Wonder Woman    412563408   103251471 2017-06-02   \n",
       "3  Jumanji: Welcome to the Jungle    404515480    36169328 2017-12-20   \n",
       "4  Guardians of the Galaxy Vol. 2    389813101   146510104 2017-05-05   \n",
       "\n",
       "      ratio  open month       director  \n",
       "0  0.354750          12   Rian Johnson  \n",
       "1  0.346718           3    Bill Condon  \n",
       "2  0.250268           6  Patty Jenkins  \n",
       "3  0.089414          12    Jake Kasdan  \n",
       "4  0.375847           5     James Gunn  "
      ]
     },
     "execution_count": 27,
     "metadata": {},
     "output_type": "execute_result"
    }
   ],
   "source": [
    "import time\n",
    "\n",
    "for i in range(len(movie_urls)):\n",
    "        try:\n",
    "            chromedriver = \"/Users/shareshianl/Desktop/chromedriver\"\n",
    "            driver = webdriver.Chrome(chromedriver)\n",
    "            url = movie_urls[i]\n",
    "            driver.get(url)\n",
    "            text = '//*[@id=\"body\"]/table[2]/tbody/tr/td/table[2]/tbody/tr[2]/td/table/tbody/tr/td[1]/table/tbody/tr/td[2]/div/div[2]/table/tbody/tr[1]/td[2]/font'\n",
    "            director = driver.find_element_by_xpath(text).text\n",
    "            movies['director'][i] = director\n",
    "            print(i)\n",
    "            time.sleep(5)\n",
    "        except:\n",
    "            print('BAD', i, movies['movie'][i], url)\n",
    "        driver.close()\n",
    "movies.head()"
   ]
  },
  {
   "cell_type": "markdown",
   "metadata": {
    "collapsed": true
   },
   "source": [
    "24.What is the url that messes up? Go to its link to investigate why. Describe the error below."
   ]
  },
  {
   "cell_type": "code",
   "execution_count": 29,
   "metadata": {},
   "outputs": [
    {
     "name": "stdout",
     "output_type": "stream",
     "text": [
      "https://www.boxofficemojo.com/movies/?id=legendary2016.htm\n"
     ]
    }
   ],
   "source": [
    "#director missing\n",
    "print(movie_urls[19])"
   ]
  },
  {
   "cell_type": "markdown",
   "metadata": {},
   "source": [
    "25.You definitely won't want to run the above code again because it takes so long. Pickle your dataframe so you can work with it later. If you forget how to pickle, go to the bottom of the Unit 8 Assignment."
   ]
  },
  {
   "cell_type": "code",
   "execution_count": 30,
   "metadata": {
    "collapsed": true
   },
   "outputs": [],
   "source": [
    "movies.to_pickle('movies.pkl')"
   ]
  },
  {
   "cell_type": "markdown",
   "metadata": {},
   "source": [
    "25.Read the dataframe back in (and call it movies again) from the pickle file to make sure it saved correctly."
   ]
  },
  {
   "cell_type": "code",
   "execution_count": 3,
   "metadata": {},
   "outputs": [
    {
     "data": {
      "text/html": [
       "<div>\n",
       "<style scoped>\n",
       "    .dataframe tbody tr th:only-of-type {\n",
       "        vertical-align: middle;\n",
       "    }\n",
       "\n",
       "    .dataframe tbody tr th {\n",
       "        vertical-align: top;\n",
       "    }\n",
       "\n",
       "    .dataframe thead th {\n",
       "        text-align: right;\n",
       "    }\n",
       "</style>\n",
       "<table border=\"1\" class=\"dataframe\">\n",
       "  <thead>\n",
       "    <tr style=\"text-align: right;\">\n",
       "      <th></th>\n",
       "      <th>movie</th>\n",
       "      <th>total gross</th>\n",
       "      <th>open gross</th>\n",
       "      <th>open date</th>\n",
       "      <th>ratio</th>\n",
       "      <th>open month</th>\n",
       "      <th>director</th>\n",
       "    </tr>\n",
       "  </thead>\n",
       "  <tbody>\n",
       "    <tr>\n",
       "      <th>0</th>\n",
       "      <td>Star Wars: The Last Jedi</td>\n",
       "      <td>620181382</td>\n",
       "      <td>220009584</td>\n",
       "      <td>2017-12-15</td>\n",
       "      <td>0.354750</td>\n",
       "      <td>12</td>\n",
       "      <td>Rian Johnson</td>\n",
       "    </tr>\n",
       "    <tr>\n",
       "      <th>1</th>\n",
       "      <td>Beauty and the Beast (2017)</td>\n",
       "      <td>504014165</td>\n",
       "      <td>174750616</td>\n",
       "      <td>2017-03-17</td>\n",
       "      <td>0.346718</td>\n",
       "      <td>3</td>\n",
       "      <td>Bill Condon</td>\n",
       "    </tr>\n",
       "    <tr>\n",
       "      <th>2</th>\n",
       "      <td>Wonder Woman</td>\n",
       "      <td>412563408</td>\n",
       "      <td>103251471</td>\n",
       "      <td>2017-06-02</td>\n",
       "      <td>0.250268</td>\n",
       "      <td>6</td>\n",
       "      <td>Patty Jenkins</td>\n",
       "    </tr>\n",
       "    <tr>\n",
       "      <th>3</th>\n",
       "      <td>Jumanji: Welcome to the Jungle</td>\n",
       "      <td>404515480</td>\n",
       "      <td>36169328</td>\n",
       "      <td>2017-12-20</td>\n",
       "      <td>0.089414</td>\n",
       "      <td>12</td>\n",
       "      <td>Jake Kasdan</td>\n",
       "    </tr>\n",
       "    <tr>\n",
       "      <th>4</th>\n",
       "      <td>Guardians of the Galaxy Vol. 2</td>\n",
       "      <td>389813101</td>\n",
       "      <td>146510104</td>\n",
       "      <td>2017-05-05</td>\n",
       "      <td>0.375847</td>\n",
       "      <td>5</td>\n",
       "      <td>James Gunn</td>\n",
       "    </tr>\n",
       "  </tbody>\n",
       "</table>\n",
       "</div>"
      ],
      "text/plain": [
       "                            movie  total gross  open gross  open date  \\\n",
       "0        Star Wars: The Last Jedi    620181382   220009584 2017-12-15   \n",
       "1     Beauty and the Beast (2017)    504014165   174750616 2017-03-17   \n",
       "2                    Wonder Woman    412563408   103251471 2017-06-02   \n",
       "3  Jumanji: Welcome to the Jungle    404515480    36169328 2017-12-20   \n",
       "4  Guardians of the Galaxy Vol. 2    389813101   146510104 2017-05-05   \n",
       "\n",
       "      ratio  open month       director  \n",
       "0  0.354750          12   Rian Johnson  \n",
       "1  0.346718           3    Bill Condon  \n",
       "2  0.250268           6  Patty Jenkins  \n",
       "3  0.089414          12    Jake Kasdan  \n",
       "4  0.375847           5     James Gunn  "
      ]
     },
     "execution_count": 3,
     "metadata": {},
     "output_type": "execute_result"
    }
   ],
   "source": [
    "import pandas as pd\n",
    "movies = pd.read_pickle('movies.pkl')\n",
    "movies.head()"
   ]
  },
  {
   "cell_type": "markdown",
   "metadata": {
    "collapsed": true
   },
   "source": [
    "26.Drop the movies from the dataframe that didn't have a director listed. (Note: You won't be able to use dropna since technically none of the entries are null since you initialized them all to be an empty string ''. However, you can exclude those entries from the dataframe using an expression that involves a \"!=\" symbol.\n"
   ]
  },
  {
   "cell_type": "code",
   "execution_count": 32,
   "metadata": {},
   "outputs": [
    {
     "data": {
      "text/plain": [
       "(99, 7)"
      ]
     },
     "execution_count": 32,
     "metadata": {},
     "output_type": "execute_result"
    }
   ],
   "source": [
    "movies = movies[movies['director']!='']\n",
    "movies.shape"
   ]
  },
  {
   "cell_type": "markdown",
   "metadata": {},
   "source": [
    "27.Re-pickle your dataframe so that your changes are saved."
   ]
  },
  {
   "cell_type": "code",
   "execution_count": 33,
   "metadata": {
    "collapsed": true
   },
   "outputs": [],
   "source": [
    "movies.to_pickle('movies.pkl')"
   ]
  },
  {
   "cell_type": "markdown",
   "metadata": {},
   "source": [
    "28.Use value_counts in decending order on the director dataframe to view which director had the most top 100 movies in 2017."
   ]
  },
  {
   "cell_type": "code",
   "execution_count": 34,
   "metadata": {},
   "outputs": [
    {
     "data": {
      "text/plain": [
       "Ridley Scott                                                                                                                                                                                  2\n",
       "Hugh Jackman\\nMichelle Williams\\nZac Efron\\nZendaya\\nRebecca Ferguson                                                                                                                         1\n",
       "Benny Boon                                                                                                                                                                                    1\n",
       "Chad Stahelski                                                                                                                                                                                1\n",
       "Aaron Sorkin                                                                                                                                                                                  1\n",
       "Elle Fanning (Voice)\\nKate McKinnon (Voice)                                                                                                                                                   1\n",
       "Bill Condon                                                                                                                                                                                   1\n",
       "Steven Spielberg                                                                                                                                                                              1\n",
       "Seth Gordon                                                                                                                                                                                   1\n",
       "Richie Keen                                                                                                                                                                                   1\n",
       "David Soren                                                                                                                                                                                   1\n",
       "Steven Soderbergh                                                                                                                                                                             1\n",
       "Kumail Nanjiani (Voice)\\nJackie Chan\\nJustin Theroux\\nDave Franco\\nOlivia Munn\\nMichael Pena                                                                                                  1\n",
       "Zack Snyder                                                                                                                                                                                   1\n",
       "Stephen Frears                                                                                                                                                                                1\n",
       "Kelly Asbury                                                                                                                                                                                  1\n",
       "F. Gary Gray                                                                                                                                                                                  1\n",
       "Michael Spierig\\nPeter Spierig                                                                                                                                                                1\n",
       "Taika Waititi                                                                                                                                                                                 1\n",
       "Lee Unkrich                                                                                                                                                                                   1\n",
       "Craig Gillespie                                                                                                                                                                               1\n",
       "James Foley                                                                                                                                                                                   1\n",
       "Alex Kurtzman                                                                                                                                                                                 1\n",
       "Alexander Payne                                                                                                                                                                               1\n",
       "Guy Ritchie                                                                                                                                                                                   1\n",
       "Graham Greene\\nRadha Mitchell\\nOctavia Spencer\\nSam Worthington                                                                                                                               1\n",
       "Chris Wedge                                                                                                                                                                                   1\n",
       "Kenneth Branagh                                                                                                                                                                               1\n",
       "Jordan Vogt-Roberts                                                                                                                                                                           1\n",
       "Anna Foerster                                                                                                                                                                                 1\n",
       "                                                                                                                                                                                             ..\n",
       "Dean Israelite                                                                                                                                                                                1\n",
       "Matt Reeves                                                                                                                                                                                   1\n",
       "Lasse Hallstrom                                                                                                                                                                               1\n",
       "Paul W.S. Anderson                                                                                                                                                                            1\n",
       "Marc Webb                                                                                                                                                                                     1\n",
       "Michael Showalter                                                                                                                                                                             1\n",
       "Taylor Sheridan                                                                                                                                                                               1\n",
       "Nikolaj Arcel                                                                                                                                                                                 1\n",
       "Tom McGrath                                                                                                                                                                                   1\n",
       "Jake T. Austin (Voice)\\nJennifer Coolidge (Voice)\\nMaya Rudolph (Voice)\\nPatrick Stewart (Voice)\\nTJ Miller (Voice)\\nJames Corden (Voice)\\nIlana Glazer (Voice)                               1\n",
       "Ken Marino                                                                                                                                                                                    1\n",
       "Luc Besson                                                                                                                                                                                    1\n",
       "Nick Robinson                                                                                                                                                                                 1\n",
       "Tyler Perry                                                                                                                                                                                   1\n",
       "James Gunn                                                                                                                                                                                    1\n",
       "Will Arnett (Voice)\\nMariah Carey (Voice)\\nMichael Cera (Voice)\\nRosario Dawson (Voice)\\nRalph Fiennes (Voice)\\nZach Galifianakis (Voice)                                                     1\n",
       "Patrick Hughes                                                                                                                                                                                1\n",
       "Stephen Chbosky                                                                                                                                                                               1\n",
       "James Mangold                                                                                                                                                                                 1\n",
       "Doug Liman                                                                                                                                                                                    1\n",
       "Zhang Yimou                                                                                                                                                                                   1\n",
       "Jonathan Levine                                                                                                                                                                               1\n",
       "Trish Sie                                                                                                                                                                                     1\n",
       "Reese Witherspoon\\nNat Wolff\\nMichael Sheen\\nCandice Bergen\\nLake Bell                                                                                                                        1\n",
       "Greta Gerwig                                                                                                                                                                                  1\n",
       "Owen Wilson (Voice)\\nChris Cooper (Voice)\\nNathan Fillion (Voice)\\nLarry the Cable Guy (Voice)\\nArmie Hammer (Voice)\\nTony Shalhoub (Voice)\\nBonnie Hunt (Voice)\\nKerry Washington (Voice)    1\n",
       "Patty Jenkins                                                                                                                                                                                 1\n",
       "Jon Lucas\\nScott Moore                                                                                                                                                                        1\n",
       "Martin McDonagh                                                                                                                                                                               1\n",
       "Jordan Peele                                                                                                                                                                                  1\n",
       "Name: director, Length: 98, dtype: int64"
      ]
     },
     "execution_count": 34,
     "metadata": {},
     "output_type": "execute_result"
    }
   ],
   "source": [
    "movies.director.value_counts(ascending = False)"
   ]
  },
  {
   "cell_type": "markdown",
   "metadata": {},
   "source": [
    "29.Print all of the movie info for the movies that this director made."
   ]
  },
  {
   "cell_type": "code",
   "execution_count": 35,
   "metadata": {},
   "outputs": [
    {
     "data": {
      "text/html": [
       "<div>\n",
       "<style scoped>\n",
       "    .dataframe tbody tr th:only-of-type {\n",
       "        vertical-align: middle;\n",
       "    }\n",
       "\n",
       "    .dataframe tbody tr th {\n",
       "        vertical-align: top;\n",
       "    }\n",
       "\n",
       "    .dataframe thead th {\n",
       "        text-align: right;\n",
       "    }\n",
       "</style>\n",
       "<table border=\"1\" class=\"dataframe\">\n",
       "  <thead>\n",
       "    <tr style=\"text-align: right;\">\n",
       "      <th></th>\n",
       "      <th>movie</th>\n",
       "      <th>total gross</th>\n",
       "      <th>open gross</th>\n",
       "      <th>open date</th>\n",
       "      <th>ratio</th>\n",
       "      <th>open month</th>\n",
       "      <th>director</th>\n",
       "    </tr>\n",
       "  </thead>\n",
       "  <tbody>\n",
       "    <tr>\n",
       "      <th>41</th>\n",
       "      <td>Alien: Covenant</td>\n",
       "      <td>74262031</td>\n",
       "      <td>36160621</td>\n",
       "      <td>2017-05-19</td>\n",
       "      <td>0.486933</td>\n",
       "      <td>5</td>\n",
       "      <td>Ridley Scott</td>\n",
       "    </tr>\n",
       "    <tr>\n",
       "      <th>91</th>\n",
       "      <td>All the Money in the World</td>\n",
       "      <td>25113707</td>\n",
       "      <td>5584684</td>\n",
       "      <td>2017-12-25</td>\n",
       "      <td>0.222376</td>\n",
       "      <td>12</td>\n",
       "      <td>Ridley Scott</td>\n",
       "    </tr>\n",
       "  </tbody>\n",
       "</table>\n",
       "</div>"
      ],
      "text/plain": [
       "                         movie  total gross  open gross  open date     ratio  \\\n",
       "41             Alien: Covenant     74262031    36160621 2017-05-19  0.486933   \n",
       "91  All the Money in the World     25113707     5584684 2017-12-25  0.222376   \n",
       "\n",
       "    open month      director  \n",
       "41           5  Ridley Scott  \n",
       "91          12  Ridley Scott  "
      ]
     },
     "execution_count": 35,
     "metadata": {},
     "output_type": "execute_result"
    }
   ],
   "source": [
    "movies[movies['director']=='Ridley Scott']"
   ]
  },
  {
   "cell_type": "code",
   "execution_count": null,
   "metadata": {
    "collapsed": true
   },
   "outputs": [],
   "source": []
  }
 ],
 "metadata": {
  "kernelspec": {
   "display_name": "Python 3",
   "language": "python",
   "name": "python3"
  },
  "language_info": {
   "codemirror_mode": {
    "name": "ipython",
    "version": 3
   },
   "file_extension": ".py",
   "mimetype": "text/x-python",
   "name": "python",
   "nbconvert_exporter": "python",
   "pygments_lexer": "ipython3",
   "version": "3.7.3"
  }
 },
 "nbformat": 4,
 "nbformat_minor": 2
}
