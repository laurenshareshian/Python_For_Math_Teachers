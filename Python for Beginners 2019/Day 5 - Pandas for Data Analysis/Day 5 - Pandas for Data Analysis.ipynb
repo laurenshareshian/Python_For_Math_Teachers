{
 "cells": [
  {
   "cell_type": "markdown",
   "metadata": {
    "slideshow": {
     "slide_type": "slide"
    }
   },
   "source": [
    "### Day 5 - Pandas for Data Analysis\n",
    "Run the cell below to import the necessary packages:"
   ]
  },
  {
   "cell_type": "code",
   "execution_count": 2,
   "metadata": {
    "slideshow": {
     "slide_type": "fragment"
    }
   },
   "outputs": [],
   "source": [
    "import pandas as pd\n",
    "import numpy as np\n",
    "import random\n",
    "import matplotlib.pyplot as plt\n",
    "%matplotlib inline"
   ]
  },
  {
   "cell_type": "markdown",
   "metadata": {
    "slideshow": {
     "slide_type": "slide"
    }
   },
   "source": [
    "Review from yesterday:  \n",
    "### Exercise 10 - free falling motion\n",
    "\n",
    "Define a function called ball_motion that takes in initial velocity and initial position of a ball and plots time (sec) versus position (meters) on the time interval [0, 5] seconds for the position function $p(t)=-4.9t^2+v_0t+p_0$."
   ]
  },
  {
   "cell_type": "code",
   "execution_count": 3,
   "metadata": {
    "slideshow": {
     "slide_type": "slide"
    }
   },
   "outputs": [
    {
     "data": {
      "image/png": "[encoded data removed]",
      "text/plain": [
       "<Figure size 432x288 with 1 Axes>"
      ]
     },
     "metadata": {
      "needs_background": "light"
     },
     "output_type": "display_data"
    }
   ],
   "source": [
    "def position(t,v0,p0):\n",
    "    return -.5*9.8*t**2+v0*t+p0\n",
    "\n",
    "def plot_ball_motion(v0,p0):\n",
    "    t = np.arange(0,5,0.25)\n",
    "    plt.plot(t,position(t,v0,p0), '.')\n",
    "    \n",
    "plot_ball_motion(20,100)"
   ]
  },
  {
   "cell_type": "markdown",
   "metadata": {
    "slideshow": {
     "slide_type": "slide"
    }
   },
   "source": [
    "### Exercise 11 - Challenge\n",
    "Edit your above function so that instead of plotting the ball motion on the interval [0,5], plot it on the inteval [0,T], where T is the time that the ball hits the ground."
   ]
  },
  {
   "cell_type": "code",
   "execution_count": 5,
   "metadata": {
    "slideshow": {
     "slide_type": "fragment"
    }
   },
   "outputs": [
    {
     "data": {
      "text/plain": [
       "Text(0, 0.5, 'feet')"
      ]
     },
     "execution_count": 5,
     "metadata": {},
     "output_type": "execute_result"
    },
    {
     "data": {
      "image/png": "[encoded data removed]",
      "text/plain": [
       "<Figure size 432x288 with 1 Axes>"
      ]
     },
     "metadata": {
      "needs_background": "light"
     },
     "output_type": "display_data"
    }
   ],
   "source": [
    "def position(t,v0,p0):\n",
    "    return -.5*9.8*t**2+v0*t+p0\n",
    "\n",
    "def plot_ball_motion(v0,p0):\n",
    "    T = (-v0-np.sqrt(v0**2-4*(-4.9)*p0))/(-2*4.9) #find the time when ball hits the ground\n",
    "    t = np.arange(0,T+.25,0.25) #make your time list end when the ball hits the ground\n",
    "    plt.plot(t,position(t,v0,p0), '.')\n",
    "    \n",
    "plot_ball_motion(20,100)\n",
    "plt.xlabel('time')\n",
    "plt.ylabel('feet')"
   ]
  },
  {
   "cell_type": "markdown",
   "metadata": {
    "slideshow": {
     "slide_type": "slide"
    }
   },
   "source": [
    "### Basic Pandas Stuff\n",
    "\n",
    "pandas is a library that provides data structures and data analysis tools that will be very helpful to us.\n",
    "\n",
    "Its name (written in lowercase) derives from PANel DAta, a common term for multidimensional data sets encountered in statistics and econometrics.\n",
    "\n",
    "Consider the student data below:\n",
    "\n",
    "|  Student |Weight   | Height | Gender |\n",
    "|---   |---   |---   |---   |\n",
    "|Mary\t|100\t|    62\t |   Female|\n",
    "|Mike\t|120\t|    66\t |   Male|\n",
    "|Joe\t|140\t|    68\t |   Male|\n",
    "|Janet\t|110\t |   62\t   | Female|\n",
    "|Steve\t|160\t|    N/A\t  |  Male|\n",
    "|Alissa\t|N/A\t |   N/A\t   | Female|\n",
    "|Alison\t|140\t |   66\t   | Female|\n",
    "|Maya\t|110\t  |  63\t   | Female|\n",
    "|Ryan\t|180\t  |  72\t   | Male|\n",
    "|Paul\t|190\t  |  72\t   | Male|\n",
    "|Michael\t|200\t  |  73\t   | Male|\n",
    "\n",
    "\n"
   ]
  },
  {
   "cell_type": "markdown",
   "metadata": {
    "slideshow": {
     "slide_type": "slide"
    }
   },
   "source": [
    "One way of creating a dataframe is to first create separate lists for the names, weights, height, and gender:"
   ]
  },
  {
   "cell_type": "code",
   "execution_count": 6,
   "metadata": {
    "slideshow": {
     "slide_type": "fragment"
    }
   },
   "outputs": [
    {
     "data": {
      "text/html": [
       "<div>\n",
       "<style scoped>\n",
       "    .dataframe tbody tr th:only-of-type {\n",
       "        vertical-align: middle;\n",
       "    }\n",
       "\n",
       "    .dataframe tbody tr th {\n",
       "        vertical-align: top;\n",
       "    }\n",
       "\n",
       "    .dataframe thead th {\n",
       "        text-align: right;\n",
       "    }\n",
       "</style>\n",
       "<table border=\"1\" class=\"dataframe\">\n",
       "  <thead>\n",
       "    <tr style=\"text-align: right;\">\n",
       "      <th></th>\n",
       "      <th>weight</th>\n",
       "      <th>height</th>\n",
       "      <th>gender</th>\n",
       "    </tr>\n",
       "  </thead>\n",
       "  <tbody>\n",
       "    <tr>\n",
       "      <th>Mary</th>\n",
       "      <td>100</td>\n",
       "      <td>62.0</td>\n",
       "      <td>F</td>\n",
       "    </tr>\n",
       "    <tr>\n",
       "      <th>Mike</th>\n",
       "      <td>120</td>\n",
       "      <td>66.0</td>\n",
       "      <td>M</td>\n",
       "    </tr>\n",
       "    <tr>\n",
       "      <th>Joe</th>\n",
       "      <td>140</td>\n",
       "      <td>68.0</td>\n",
       "      <td>M</td>\n",
       "    </tr>\n",
       "    <tr>\n",
       "      <th>Janet</th>\n",
       "      <td>110</td>\n",
       "      <td>62.0</td>\n",
       "      <td>F</td>\n",
       "    </tr>\n",
       "    <tr>\n",
       "      <th>Steve</th>\n",
       "      <td>160</td>\n",
       "      <td>NaN</td>\n",
       "      <td>M</td>\n",
       "    </tr>\n",
       "    <tr>\n",
       "      <th>Alissa</th>\n",
       "      <td>140</td>\n",
       "      <td>NaN</td>\n",
       "      <td>F</td>\n",
       "    </tr>\n",
       "    <tr>\n",
       "      <th>Alison</th>\n",
       "      <td>140</td>\n",
       "      <td>66.0</td>\n",
       "      <td>F</td>\n",
       "    </tr>\n",
       "    <tr>\n",
       "      <th>Maya</th>\n",
       "      <td>110</td>\n",
       "      <td>63.0</td>\n",
       "      <td>F</td>\n",
       "    </tr>\n",
       "    <tr>\n",
       "      <th>Ryan</th>\n",
       "      <td>180</td>\n",
       "      <td>72.0</td>\n",
       "      <td>M</td>\n",
       "    </tr>\n",
       "    <tr>\n",
       "      <th>Paul</th>\n",
       "      <td>190</td>\n",
       "      <td>72.0</td>\n",
       "      <td>M</td>\n",
       "    </tr>\n",
       "    <tr>\n",
       "      <th>Michael</th>\n",
       "      <td>200</td>\n",
       "      <td>73.0</td>\n",
       "      <td>M</td>\n",
       "    </tr>\n",
       "  </tbody>\n",
       "</table>\n",
       "</div>"
      ],
      "text/plain": [
       "         weight  height gender\n",
       "Mary        100    62.0      F\n",
       "Mike        120    66.0      M\n",
       "Joe         140    68.0      M\n",
       "Janet       110    62.0      F\n",
       "Steve       160     NaN      M\n",
       "Alissa      140     NaN      F\n",
       "Alison      140    66.0      F\n",
       "Maya        110    63.0      F\n",
       "Ryan        180    72.0      M\n",
       "Paul        190    72.0      M\n",
       "Michael     200    73.0      M"
      ]
     },
     "execution_count": 6,
     "metadata": {},
     "output_type": "execute_result"
    }
   ],
   "source": [
    "import pandas as pd\n",
    "\n",
    "names = ['Mary', 'Mike', 'Joe', 'Janet', 'Steve', 'Alissa', 'Alison', 'Maya', 'Ryan', 'Paul', 'Michael']\n",
    "weight = [100, 120, 140, 110, 160, 140, 140, 110, 180, 190, 200]\n",
    "height = [62, 66, 68, 62, np.nan, np.nan, 66, 63, 72, 72, 73]\n",
    "gender = ['F', 'M', 'M', 'F', 'M', 'F', 'F', 'F', 'M', 'M', 'M']\n",
    "\n",
    "students = pd.DataFrame({'weight': weight, 'height': height, 'gender': gender}, index = names)\n",
    "students"
   ]
  },
  {
   "cell_type": "markdown",
   "metadata": {
    "slideshow": {
     "slide_type": "slide"
    }
   },
   "source": [
    "To see the shape of the dataframe:"
   ]
  },
  {
   "cell_type": "code",
   "execution_count": 7,
   "metadata": {
    "slideshow": {
     "slide_type": "fragment"
    }
   },
   "outputs": [
    {
     "data": {
      "text/plain": [
       "(11, 3)"
      ]
     },
     "execution_count": 7,
     "metadata": {},
     "output_type": "execute_result"
    }
   ],
   "source": [
    "students.shape"
   ]
  },
  {
   "cell_type": "markdown",
   "metadata": {
    "slideshow": {
     "slide_type": "slide"
    }
   },
   "source": [
    "And the data types:"
   ]
  },
  {
   "cell_type": "code",
   "execution_count": 8,
   "metadata": {
    "slideshow": {
     "slide_type": "fragment"
    }
   },
   "outputs": [
    {
     "name": "stdout",
     "output_type": "stream",
     "text": [
      "<class 'pandas.core.frame.DataFrame'>\n",
      "Index: 11 entries, Mary to Michael\n",
      "Data columns (total 3 columns):\n",
      "weight    11 non-null int64\n",
      "height    9 non-null float64\n",
      "gender    11 non-null object\n",
      "dtypes: float64(1), int64(1), object(1)\n",
      "memory usage: 352.0+ bytes\n"
     ]
    }
   ],
   "source": [
    "students.info()"
   ]
  },
  {
   "cell_type": "markdown",
   "metadata": {
    "slideshow": {
     "slide_type": "slide"
    }
   },
   "source": [
    "If we wanted to fill in an entire column with the same value, we could type the following. (Kind of like dragging down a cell in Excel.)"
   ]
  },
  {
   "cell_type": "code",
   "execution_count": 9,
   "metadata": {
    "slideshow": {
     "slide_type": "fragment"
    }
   },
   "outputs": [
    {
     "data": {
      "text/html": [
       "<div>\n",
       "<style scoped>\n",
       "    .dataframe tbody tr th:only-of-type {\n",
       "        vertical-align: middle;\n",
       "    }\n",
       "\n",
       "    .dataframe tbody tr th {\n",
       "        vertical-align: top;\n",
       "    }\n",
       "\n",
       "    .dataframe thead th {\n",
       "        text-align: right;\n",
       "    }\n",
       "</style>\n",
       "<table border=\"1\" class=\"dataframe\">\n",
       "  <thead>\n",
       "    <tr style=\"text-align: right;\">\n",
       "      <th></th>\n",
       "      <th>weight</th>\n",
       "      <th>height</th>\n",
       "      <th>gender</th>\n",
       "      <th>school</th>\n",
       "    </tr>\n",
       "  </thead>\n",
       "  <tbody>\n",
       "    <tr>\n",
       "      <th>Mary</th>\n",
       "      <td>100</td>\n",
       "      <td>62.0</td>\n",
       "      <td>F</td>\n",
       "      <td>Oregon Episcopal School</td>\n",
       "    </tr>\n",
       "    <tr>\n",
       "      <th>Mike</th>\n",
       "      <td>120</td>\n",
       "      <td>66.0</td>\n",
       "      <td>M</td>\n",
       "      <td>Oregon Episcopal School</td>\n",
       "    </tr>\n",
       "    <tr>\n",
       "      <th>Joe</th>\n",
       "      <td>140</td>\n",
       "      <td>68.0</td>\n",
       "      <td>M</td>\n",
       "      <td>Oregon Episcopal School</td>\n",
       "    </tr>\n",
       "    <tr>\n",
       "      <th>Janet</th>\n",
       "      <td>110</td>\n",
       "      <td>62.0</td>\n",
       "      <td>F</td>\n",
       "      <td>Oregon Episcopal School</td>\n",
       "    </tr>\n",
       "    <tr>\n",
       "      <th>Steve</th>\n",
       "      <td>160</td>\n",
       "      <td>NaN</td>\n",
       "      <td>M</td>\n",
       "      <td>Oregon Episcopal School</td>\n",
       "    </tr>\n",
       "    <tr>\n",
       "      <th>Alissa</th>\n",
       "      <td>140</td>\n",
       "      <td>NaN</td>\n",
       "      <td>F</td>\n",
       "      <td>Oregon Episcopal School</td>\n",
       "    </tr>\n",
       "    <tr>\n",
       "      <th>Alison</th>\n",
       "      <td>140</td>\n",
       "      <td>66.0</td>\n",
       "      <td>F</td>\n",
       "      <td>Oregon Episcopal School</td>\n",
       "    </tr>\n",
       "    <tr>\n",
       "      <th>Maya</th>\n",
       "      <td>110</td>\n",
       "      <td>63.0</td>\n",
       "      <td>F</td>\n",
       "      <td>Oregon Episcopal School</td>\n",
       "    </tr>\n",
       "    <tr>\n",
       "      <th>Ryan</th>\n",
       "      <td>180</td>\n",
       "      <td>72.0</td>\n",
       "      <td>M</td>\n",
       "      <td>Oregon Episcopal School</td>\n",
       "    </tr>\n",
       "    <tr>\n",
       "      <th>Paul</th>\n",
       "      <td>190</td>\n",
       "      <td>72.0</td>\n",
       "      <td>M</td>\n",
       "      <td>Oregon Episcopal School</td>\n",
       "    </tr>\n",
       "    <tr>\n",
       "      <th>Michael</th>\n",
       "      <td>200</td>\n",
       "      <td>73.0</td>\n",
       "      <td>M</td>\n",
       "      <td>Oregon Episcopal School</td>\n",
       "    </tr>\n",
       "  </tbody>\n",
       "</table>\n",
       "</div>"
      ],
      "text/plain": [
       "         weight  height gender                   school\n",
       "Mary        100    62.0      F  Oregon Episcopal School\n",
       "Mike        120    66.0      M  Oregon Episcopal School\n",
       "Joe         140    68.0      M  Oregon Episcopal School\n",
       "Janet       110    62.0      F  Oregon Episcopal School\n",
       "Steve       160     NaN      M  Oregon Episcopal School\n",
       "Alissa      140     NaN      F  Oregon Episcopal School\n",
       "Alison      140    66.0      F  Oregon Episcopal School\n",
       "Maya        110    63.0      F  Oregon Episcopal School\n",
       "Ryan        180    72.0      M  Oregon Episcopal School\n",
       "Paul        190    72.0      M  Oregon Episcopal School\n",
       "Michael     200    73.0      M  Oregon Episcopal School"
      ]
     },
     "execution_count": 9,
     "metadata": {},
     "output_type": "execute_result"
    }
   ],
   "source": [
    "students['school'] = 'Oregon Episcopal School'\n",
    "students"
   ]
  },
  {
   "cell_type": "markdown",
   "metadata": {
    "slideshow": {
     "slide_type": "slide"
    }
   },
   "source": [
    "Suppose you wanted to create another column for weight in kilograms. You could type:"
   ]
  },
  {
   "cell_type": "code",
   "execution_count": 10,
   "metadata": {
    "slideshow": {
     "slide_type": "fragment"
    }
   },
   "outputs": [
    {
     "data": {
      "text/html": [
       "<div>\n",
       "<style scoped>\n",
       "    .dataframe tbody tr th:only-of-type {\n",
       "        vertical-align: middle;\n",
       "    }\n",
       "\n",
       "    .dataframe tbody tr th {\n",
       "        vertical-align: top;\n",
       "    }\n",
       "\n",
       "    .dataframe thead th {\n",
       "        text-align: right;\n",
       "    }\n",
       "</style>\n",
       "<table border=\"1\" class=\"dataframe\">\n",
       "  <thead>\n",
       "    <tr style=\"text-align: right;\">\n",
       "      <th></th>\n",
       "      <th>weight</th>\n",
       "      <th>height</th>\n",
       "      <th>gender</th>\n",
       "      <th>school</th>\n",
       "      <th>weight_kg</th>\n",
       "    </tr>\n",
       "  </thead>\n",
       "  <tbody>\n",
       "    <tr>\n",
       "      <th>Mary</th>\n",
       "      <td>100</td>\n",
       "      <td>62.0</td>\n",
       "      <td>F</td>\n",
       "      <td>Oregon Episcopal School</td>\n",
       "      <td>82.987552</td>\n",
       "    </tr>\n",
       "    <tr>\n",
       "      <th>Mike</th>\n",
       "      <td>120</td>\n",
       "      <td>66.0</td>\n",
       "      <td>M</td>\n",
       "      <td>Oregon Episcopal School</td>\n",
       "      <td>99.585062</td>\n",
       "    </tr>\n",
       "    <tr>\n",
       "      <th>Joe</th>\n",
       "      <td>140</td>\n",
       "      <td>68.0</td>\n",
       "      <td>M</td>\n",
       "      <td>Oregon Episcopal School</td>\n",
       "      <td>116.182573</td>\n",
       "    </tr>\n",
       "    <tr>\n",
       "      <th>Janet</th>\n",
       "      <td>110</td>\n",
       "      <td>62.0</td>\n",
       "      <td>F</td>\n",
       "      <td>Oregon Episcopal School</td>\n",
       "      <td>91.286307</td>\n",
       "    </tr>\n",
       "    <tr>\n",
       "      <th>Steve</th>\n",
       "      <td>160</td>\n",
       "      <td>NaN</td>\n",
       "      <td>M</td>\n",
       "      <td>Oregon Episcopal School</td>\n",
       "      <td>132.780083</td>\n",
       "    </tr>\n",
       "  </tbody>\n",
       "</table>\n",
       "</div>"
      ],
      "text/plain": [
       "       weight  height gender                   school   weight_kg\n",
       "Mary      100    62.0      F  Oregon Episcopal School   82.987552\n",
       "Mike      120    66.0      M  Oregon Episcopal School   99.585062\n",
       "Joe       140    68.0      M  Oregon Episcopal School  116.182573\n",
       "Janet     110    62.0      F  Oregon Episcopal School   91.286307\n",
       "Steve     160     NaN      M  Oregon Episcopal School  132.780083"
      ]
     },
     "execution_count": 10,
     "metadata": {},
     "output_type": "execute_result"
    }
   ],
   "source": [
    "students['weight_kg'] = students['weight']/1.205\n",
    "students.head()"
   ]
  },
  {
   "cell_type": "markdown",
   "metadata": {
    "slideshow": {
     "slide_type": "slide"
    }
   },
   "source": [
    "If we wanted to specify that we wanted the third through 6th rows, we could type:"
   ]
  },
  {
   "cell_type": "code",
   "execution_count": 11,
   "metadata": {
    "slideshow": {
     "slide_type": "fragment"
    }
   },
   "outputs": [
    {
     "data": {
      "text/html": [
       "<div>\n",
       "<style scoped>\n",
       "    .dataframe tbody tr th:only-of-type {\n",
       "        vertical-align: middle;\n",
       "    }\n",
       "\n",
       "    .dataframe tbody tr th {\n",
       "        vertical-align: top;\n",
       "    }\n",
       "\n",
       "    .dataframe thead th {\n",
       "        text-align: right;\n",
       "    }\n",
       "</style>\n",
       "<table border=\"1\" class=\"dataframe\">\n",
       "  <thead>\n",
       "    <tr style=\"text-align: right;\">\n",
       "      <th></th>\n",
       "      <th>weight</th>\n",
       "      <th>height</th>\n",
       "      <th>gender</th>\n",
       "      <th>school</th>\n",
       "      <th>weight_kg</th>\n",
       "    </tr>\n",
       "  </thead>\n",
       "  <tbody>\n",
       "    <tr>\n",
       "      <th>Janet</th>\n",
       "      <td>110</td>\n",
       "      <td>62.0</td>\n",
       "      <td>F</td>\n",
       "      <td>Oregon Episcopal School</td>\n",
       "      <td>91.286307</td>\n",
       "    </tr>\n",
       "    <tr>\n",
       "      <th>Steve</th>\n",
       "      <td>160</td>\n",
       "      <td>NaN</td>\n",
       "      <td>M</td>\n",
       "      <td>Oregon Episcopal School</td>\n",
       "      <td>132.780083</td>\n",
       "    </tr>\n",
       "    <tr>\n",
       "      <th>Alissa</th>\n",
       "      <td>140</td>\n",
       "      <td>NaN</td>\n",
       "      <td>F</td>\n",
       "      <td>Oregon Episcopal School</td>\n",
       "      <td>116.182573</td>\n",
       "    </tr>\n",
       "    <tr>\n",
       "      <th>Alison</th>\n",
       "      <td>140</td>\n",
       "      <td>66.0</td>\n",
       "      <td>F</td>\n",
       "      <td>Oregon Episcopal School</td>\n",
       "      <td>116.182573</td>\n",
       "    </tr>\n",
       "  </tbody>\n",
       "</table>\n",
       "</div>"
      ],
      "text/plain": [
       "        weight  height gender                   school   weight_kg\n",
       "Janet      110    62.0      F  Oregon Episcopal School   91.286307\n",
       "Steve      160     NaN      M  Oregon Episcopal School  132.780083\n",
       "Alissa     140     NaN      F  Oregon Episcopal School  116.182573\n",
       "Alison     140    66.0      F  Oregon Episcopal School  116.182573"
      ]
     },
     "execution_count": 11,
     "metadata": {},
     "output_type": "execute_result"
    }
   ],
   "source": [
    "students[3:7]"
   ]
  },
  {
   "cell_type": "markdown",
   "metadata": {
    "slideshow": {
     "slide_type": "slide"
    }
   },
   "source": [
    "Recall that \"Ryan\" was located in the 9th row (in the index 8). \"iloc\" refers to the index position.  We could get his info this way:"
   ]
  },
  {
   "cell_type": "code",
   "execution_count": 12,
   "metadata": {
    "slideshow": {
     "slide_type": "fragment"
    }
   },
   "outputs": [
    {
     "data": {
      "text/plain": [
       "weight                           180\n",
       "height                            72\n",
       "gender                             M\n",
       "school       Oregon Episcopal School\n",
       "weight_kg                    149.378\n",
       "Name: Ryan, dtype: object"
      ]
     },
     "execution_count": 12,
     "metadata": {},
     "output_type": "execute_result"
    }
   ],
   "source": [
    "students.iloc[8]"
   ]
  },
  {
   "cell_type": "markdown",
   "metadata": {
    "slideshow": {
     "slide_type": "slide"
    }
   },
   "source": [
    "If we wanted to look Ryan's info up by his label, we could use \"loc\":"
   ]
  },
  {
   "cell_type": "code",
   "execution_count": 13,
   "metadata": {
    "slideshow": {
     "slide_type": "fragment"
    }
   },
   "outputs": [
    {
     "data": {
      "text/plain": [
       "weight                           180\n",
       "height                            72\n",
       "gender                             M\n",
       "school       Oregon Episcopal School\n",
       "weight_kg                    149.378\n",
       "Name: Ryan, dtype: object"
      ]
     },
     "execution_count": 13,
     "metadata": {},
     "output_type": "execute_result"
    }
   ],
   "source": [
    "students.loc['Ryan']"
   ]
  },
  {
   "cell_type": "markdown",
   "metadata": {
    "slideshow": {
     "slide_type": "slide"
    }
   },
   "source": [
    "To get Ryan's weight:"
   ]
  },
  {
   "cell_type": "code",
   "execution_count": 14,
   "metadata": {
    "slideshow": {
     "slide_type": "fragment"
    }
   },
   "outputs": [
    {
     "data": {
      "text/plain": [
       "180"
      ]
     },
     "execution_count": 14,
     "metadata": {},
     "output_type": "execute_result"
    }
   ],
   "source": [
    "students.loc['Ryan']['weight']"
   ]
  },
  {
   "cell_type": "markdown",
   "metadata": {
    "slideshow": {
     "slide_type": "slide"
    }
   },
   "source": [
    "To change Ryan's weight, we could type:"
   ]
  },
  {
   "cell_type": "code",
   "execution_count": 15,
   "metadata": {
    "slideshow": {
     "slide_type": "fragment"
    }
   },
   "outputs": [],
   "source": [
    "students.loc['Ryan', 'weight'] = 200"
   ]
  },
  {
   "cell_type": "markdown",
   "metadata": {
    "slideshow": {
     "slide_type": "slide"
    }
   },
   "source": [
    "To get all of the student weights, we can type:"
   ]
  },
  {
   "cell_type": "code",
   "execution_count": 104,
   "metadata": {
    "slideshow": {
     "slide_type": "fragment"
    }
   },
   "outputs": [
    {
     "data": {
      "text/plain": [
       "Mary       100\n",
       "Mike       120\n",
       "Joe        140\n",
       "Janet      110\n",
       "Steve      160\n",
       "Alissa     140\n",
       "Alison     140\n",
       "Maya       110\n",
       "Ryan       200\n",
       "Paul       190\n",
       "Michael    200\n",
       "Name: weight, dtype: int64"
      ]
     },
     "execution_count": 104,
     "metadata": {},
     "output_type": "execute_result"
    }
   ],
   "source": [
    "students['weight']"
   ]
  },
  {
   "cell_type": "markdown",
   "metadata": {
    "slideshow": {
     "slide_type": "slide"
    }
   },
   "source": [
    "Or we can type:"
   ]
  },
  {
   "cell_type": "code",
   "execution_count": 105,
   "metadata": {
    "slideshow": {
     "slide_type": "fragment"
    }
   },
   "outputs": [
    {
     "data": {
      "text/plain": [
       "Mary       100\n",
       "Mike       120\n",
       "Joe        140\n",
       "Janet      110\n",
       "Steve      160\n",
       "Alissa     140\n",
       "Alison     140\n",
       "Maya       110\n",
       "Ryan       200\n",
       "Paul       190\n",
       "Michael    200\n",
       "Name: weight, dtype: int64"
      ]
     },
     "execution_count": 105,
     "metadata": {},
     "output_type": "execute_result"
    }
   ],
   "source": [
    "students.weight"
   ]
  },
  {
   "cell_type": "markdown",
   "metadata": {
    "slideshow": {
     "slide_type": "slide"
    }
   },
   "source": [
    "Often, we'll only want to look at data that satisifies certain criteria. In that case, we can introduce Boolean indexing, so that only data that satisfies the conditions gets viewed:"
   ]
  },
  {
   "cell_type": "code",
   "execution_count": 106,
   "metadata": {
    "slideshow": {
     "slide_type": "fragment"
    }
   },
   "outputs": [
    {
     "data": {
      "text/html": [
       "<div>\n",
       "<style scoped>\n",
       "    .dataframe tbody tr th:only-of-type {\n",
       "        vertical-align: middle;\n",
       "    }\n",
       "\n",
       "    .dataframe tbody tr th {\n",
       "        vertical-align: top;\n",
       "    }\n",
       "\n",
       "    .dataframe thead th {\n",
       "        text-align: right;\n",
       "    }\n",
       "</style>\n",
       "<table border=\"1\" class=\"dataframe\">\n",
       "  <thead>\n",
       "    <tr style=\"text-align: right;\">\n",
       "      <th></th>\n",
       "      <th>weight</th>\n",
       "      <th>height</th>\n",
       "      <th>gender</th>\n",
       "      <th>school</th>\n",
       "      <th>weight_kg</th>\n",
       "    </tr>\n",
       "  </thead>\n",
       "  <tbody>\n",
       "    <tr>\n",
       "      <th>Mary</th>\n",
       "      <td>100</td>\n",
       "      <td>62.0</td>\n",
       "      <td>F</td>\n",
       "      <td>Oregon Episcopal School</td>\n",
       "      <td>82.987552</td>\n",
       "    </tr>\n",
       "    <tr>\n",
       "      <th>Janet</th>\n",
       "      <td>110</td>\n",
       "      <td>62.0</td>\n",
       "      <td>F</td>\n",
       "      <td>Oregon Episcopal School</td>\n",
       "      <td>91.286307</td>\n",
       "    </tr>\n",
       "    <tr>\n",
       "      <th>Alissa</th>\n",
       "      <td>140</td>\n",
       "      <td>NaN</td>\n",
       "      <td>F</td>\n",
       "      <td>Oregon Episcopal School</td>\n",
       "      <td>116.182573</td>\n",
       "    </tr>\n",
       "    <tr>\n",
       "      <th>Alison</th>\n",
       "      <td>140</td>\n",
       "      <td>66.0</td>\n",
       "      <td>F</td>\n",
       "      <td>Oregon Episcopal School</td>\n",
       "      <td>116.182573</td>\n",
       "    </tr>\n",
       "    <tr>\n",
       "      <th>Maya</th>\n",
       "      <td>110</td>\n",
       "      <td>63.0</td>\n",
       "      <td>F</td>\n",
       "      <td>Oregon Episcopal School</td>\n",
       "      <td>91.286307</td>\n",
       "    </tr>\n",
       "  </tbody>\n",
       "</table>\n",
       "</div>"
      ],
      "text/plain": [
       "        weight  height gender                   school   weight_kg\n",
       "Mary       100    62.0      F  Oregon Episcopal School   82.987552\n",
       "Janet      110    62.0      F  Oregon Episcopal School   91.286307\n",
       "Alissa     140     NaN      F  Oregon Episcopal School  116.182573\n",
       "Alison     140    66.0      F  Oregon Episcopal School  116.182573\n",
       "Maya       110    63.0      F  Oregon Episcopal School   91.286307"
      ]
     },
     "execution_count": 106,
     "metadata": {},
     "output_type": "execute_result"
    }
   ],
   "source": [
    "students[students.gender == 'F']"
   ]
  },
  {
   "cell_type": "markdown",
   "metadata": {
    "slideshow": {
     "slide_type": "slide"
    }
   },
   "source": [
    "Or two conditions:"
   ]
  },
  {
   "cell_type": "code",
   "execution_count": 107,
   "metadata": {
    "slideshow": {
     "slide_type": "fragment"
    }
   },
   "outputs": [
    {
     "data": {
      "text/html": [
       "<div>\n",
       "<style scoped>\n",
       "    .dataframe tbody tr th:only-of-type {\n",
       "        vertical-align: middle;\n",
       "    }\n",
       "\n",
       "    .dataframe tbody tr th {\n",
       "        vertical-align: top;\n",
       "    }\n",
       "\n",
       "    .dataframe thead th {\n",
       "        text-align: right;\n",
       "    }\n",
       "</style>\n",
       "<table border=\"1\" class=\"dataframe\">\n",
       "  <thead>\n",
       "    <tr style=\"text-align: right;\">\n",
       "      <th></th>\n",
       "      <th>weight</th>\n",
       "      <th>height</th>\n",
       "      <th>gender</th>\n",
       "      <th>school</th>\n",
       "      <th>weight_kg</th>\n",
       "    </tr>\n",
       "  </thead>\n",
       "  <tbody>\n",
       "    <tr>\n",
       "      <th>Alissa</th>\n",
       "      <td>140</td>\n",
       "      <td>NaN</td>\n",
       "      <td>F</td>\n",
       "      <td>Oregon Episcopal School</td>\n",
       "      <td>116.182573</td>\n",
       "    </tr>\n",
       "    <tr>\n",
       "      <th>Alison</th>\n",
       "      <td>140</td>\n",
       "      <td>66.0</td>\n",
       "      <td>F</td>\n",
       "      <td>Oregon Episcopal School</td>\n",
       "      <td>116.182573</td>\n",
       "    </tr>\n",
       "  </tbody>\n",
       "</table>\n",
       "</div>"
      ],
      "text/plain": [
       "        weight  height gender                   school   weight_kg\n",
       "Alissa     140     NaN      F  Oregon Episcopal School  116.182573\n",
       "Alison     140    66.0      F  Oregon Episcopal School  116.182573"
      ]
     },
     "execution_count": 107,
     "metadata": {},
     "output_type": "execute_result"
    }
   ],
   "source": [
    "students[(students.gender == 'F') & (students.weight >= 140)]"
   ]
  },
  {
   "cell_type": "markdown",
   "metadata": {
    "slideshow": {
     "slide_type": "slide"
    }
   },
   "source": [
    "If we only wanted to view students who were girls OR weighed at least 140, we could type:"
   ]
  },
  {
   "cell_type": "code",
   "execution_count": 108,
   "metadata": {
    "slideshow": {
     "slide_type": "fragment"
    }
   },
   "outputs": [
    {
     "data": {
      "text/html": [
       "<div>\n",
       "<style scoped>\n",
       "    .dataframe tbody tr th:only-of-type {\n",
       "        vertical-align: middle;\n",
       "    }\n",
       "\n",
       "    .dataframe tbody tr th {\n",
       "        vertical-align: top;\n",
       "    }\n",
       "\n",
       "    .dataframe thead th {\n",
       "        text-align: right;\n",
       "    }\n",
       "</style>\n",
       "<table border=\"1\" class=\"dataframe\">\n",
       "  <thead>\n",
       "    <tr style=\"text-align: right;\">\n",
       "      <th></th>\n",
       "      <th>weight</th>\n",
       "      <th>height</th>\n",
       "      <th>gender</th>\n",
       "      <th>school</th>\n",
       "      <th>weight_kg</th>\n",
       "    </tr>\n",
       "  </thead>\n",
       "  <tbody>\n",
       "    <tr>\n",
       "      <th>Mary</th>\n",
       "      <td>100</td>\n",
       "      <td>62.0</td>\n",
       "      <td>F</td>\n",
       "      <td>Oregon Episcopal School</td>\n",
       "      <td>82.987552</td>\n",
       "    </tr>\n",
       "    <tr>\n",
       "      <th>Joe</th>\n",
       "      <td>140</td>\n",
       "      <td>68.0</td>\n",
       "      <td>M</td>\n",
       "      <td>Oregon Episcopal School</td>\n",
       "      <td>116.182573</td>\n",
       "    </tr>\n",
       "    <tr>\n",
       "      <th>Janet</th>\n",
       "      <td>110</td>\n",
       "      <td>62.0</td>\n",
       "      <td>F</td>\n",
       "      <td>Oregon Episcopal School</td>\n",
       "      <td>91.286307</td>\n",
       "    </tr>\n",
       "    <tr>\n",
       "      <th>Steve</th>\n",
       "      <td>160</td>\n",
       "      <td>NaN</td>\n",
       "      <td>M</td>\n",
       "      <td>Oregon Episcopal School</td>\n",
       "      <td>132.780083</td>\n",
       "    </tr>\n",
       "    <tr>\n",
       "      <th>Alissa</th>\n",
       "      <td>140</td>\n",
       "      <td>NaN</td>\n",
       "      <td>F</td>\n",
       "      <td>Oregon Episcopal School</td>\n",
       "      <td>116.182573</td>\n",
       "    </tr>\n",
       "    <tr>\n",
       "      <th>Alison</th>\n",
       "      <td>140</td>\n",
       "      <td>66.0</td>\n",
       "      <td>F</td>\n",
       "      <td>Oregon Episcopal School</td>\n",
       "      <td>116.182573</td>\n",
       "    </tr>\n",
       "    <tr>\n",
       "      <th>Maya</th>\n",
       "      <td>110</td>\n",
       "      <td>63.0</td>\n",
       "      <td>F</td>\n",
       "      <td>Oregon Episcopal School</td>\n",
       "      <td>91.286307</td>\n",
       "    </tr>\n",
       "    <tr>\n",
       "      <th>Ryan</th>\n",
       "      <td>200</td>\n",
       "      <td>72.0</td>\n",
       "      <td>M</td>\n",
       "      <td>Oregon Episcopal School</td>\n",
       "      <td>149.377593</td>\n",
       "    </tr>\n",
       "    <tr>\n",
       "      <th>Paul</th>\n",
       "      <td>190</td>\n",
       "      <td>72.0</td>\n",
       "      <td>M</td>\n",
       "      <td>Oregon Episcopal School</td>\n",
       "      <td>157.676349</td>\n",
       "    </tr>\n",
       "    <tr>\n",
       "      <th>Michael</th>\n",
       "      <td>200</td>\n",
       "      <td>73.0</td>\n",
       "      <td>M</td>\n",
       "      <td>Oregon Episcopal School</td>\n",
       "      <td>165.975104</td>\n",
       "    </tr>\n",
       "  </tbody>\n",
       "</table>\n",
       "</div>"
      ],
      "text/plain": [
       "         weight  height gender                   school   weight_kg\n",
       "Mary        100    62.0      F  Oregon Episcopal School   82.987552\n",
       "Joe         140    68.0      M  Oregon Episcopal School  116.182573\n",
       "Janet       110    62.0      F  Oregon Episcopal School   91.286307\n",
       "Steve       160     NaN      M  Oregon Episcopal School  132.780083\n",
       "Alissa      140     NaN      F  Oregon Episcopal School  116.182573\n",
       "Alison      140    66.0      F  Oregon Episcopal School  116.182573\n",
       "Maya        110    63.0      F  Oregon Episcopal School   91.286307\n",
       "Ryan        200    72.0      M  Oregon Episcopal School  149.377593\n",
       "Paul        190    72.0      M  Oregon Episcopal School  157.676349\n",
       "Michael     200    73.0      M  Oregon Episcopal School  165.975104"
      ]
     },
     "execution_count": 108,
     "metadata": {},
     "output_type": "execute_result"
    }
   ],
   "source": [
    "students[(students.gender == 'F') | (students.weight >= 140)]"
   ]
  },
  {
   "cell_type": "markdown",
   "metadata": {
    "slideshow": {
     "slide_type": "slide"
    }
   },
   "source": [
    "One major thing that you will always need to deal with is what to do with missing data. Big data sets are almost always incomplete. We notice that there are two missing height values. If we wanted to drop any rows that were missing weight or height data, we could use dropna:"
   ]
  },
  {
   "cell_type": "code",
   "execution_count": 109,
   "metadata": {
    "slideshow": {
     "slide_type": "fragment"
    }
   },
   "outputs": [],
   "source": [
    "#students = students.dropna(subset=['weight', 'height'])"
   ]
  },
  {
   "cell_type": "markdown",
   "metadata": {
    "slideshow": {
     "slide_type": "slide"
    }
   },
   "source": [
    "However, what we'll choose to do instead in this case is fill in the missing values with something. What should we fill them in with? Well, it depends on the situation. Sometimes, you may want to fill in missing values with zero. In this case, though, I will fill in the missing weight and height values with the average weight and height values and round to two decimal places:"
   ]
  },
  {
   "cell_type": "code",
   "execution_count": 110,
   "metadata": {
    "slideshow": {
     "slide_type": "slide"
    }
   },
   "outputs": [
    {
     "data": {
      "text/html": [
       "<div>\n",
       "<style scoped>\n",
       "    .dataframe tbody tr th:only-of-type {\n",
       "        vertical-align: middle;\n",
       "    }\n",
       "\n",
       "    .dataframe tbody tr th {\n",
       "        vertical-align: top;\n",
       "    }\n",
       "\n",
       "    .dataframe thead th {\n",
       "        text-align: right;\n",
       "    }\n",
       "</style>\n",
       "<table border=\"1\" class=\"dataframe\">\n",
       "  <thead>\n",
       "    <tr style=\"text-align: right;\">\n",
       "      <th></th>\n",
       "      <th>weight</th>\n",
       "      <th>height</th>\n",
       "      <th>gender</th>\n",
       "      <th>school</th>\n",
       "      <th>weight_kg</th>\n",
       "    </tr>\n",
       "  </thead>\n",
       "  <tbody>\n",
       "    <tr>\n",
       "      <th>Mary</th>\n",
       "      <td>100</td>\n",
       "      <td>62.00</td>\n",
       "      <td>F</td>\n",
       "      <td>Oregon Episcopal School</td>\n",
       "      <td>82.987552</td>\n",
       "    </tr>\n",
       "    <tr>\n",
       "      <th>Mike</th>\n",
       "      <td>120</td>\n",
       "      <td>66.00</td>\n",
       "      <td>M</td>\n",
       "      <td>Oregon Episcopal School</td>\n",
       "      <td>99.585062</td>\n",
       "    </tr>\n",
       "    <tr>\n",
       "      <th>Joe</th>\n",
       "      <td>140</td>\n",
       "      <td>68.00</td>\n",
       "      <td>M</td>\n",
       "      <td>Oregon Episcopal School</td>\n",
       "      <td>116.182573</td>\n",
       "    </tr>\n",
       "    <tr>\n",
       "      <th>Janet</th>\n",
       "      <td>110</td>\n",
       "      <td>62.00</td>\n",
       "      <td>F</td>\n",
       "      <td>Oregon Episcopal School</td>\n",
       "      <td>91.286307</td>\n",
       "    </tr>\n",
       "    <tr>\n",
       "      <th>Steve</th>\n",
       "      <td>160</td>\n",
       "      <td>67.11</td>\n",
       "      <td>M</td>\n",
       "      <td>Oregon Episcopal School</td>\n",
       "      <td>132.780083</td>\n",
       "    </tr>\n",
       "    <tr>\n",
       "      <th>Alissa</th>\n",
       "      <td>140</td>\n",
       "      <td>67.11</td>\n",
       "      <td>F</td>\n",
       "      <td>Oregon Episcopal School</td>\n",
       "      <td>116.182573</td>\n",
       "    </tr>\n",
       "    <tr>\n",
       "      <th>Alison</th>\n",
       "      <td>140</td>\n",
       "      <td>66.00</td>\n",
       "      <td>F</td>\n",
       "      <td>Oregon Episcopal School</td>\n",
       "      <td>116.182573</td>\n",
       "    </tr>\n",
       "    <tr>\n",
       "      <th>Maya</th>\n",
       "      <td>110</td>\n",
       "      <td>63.00</td>\n",
       "      <td>F</td>\n",
       "      <td>Oregon Episcopal School</td>\n",
       "      <td>91.286307</td>\n",
       "    </tr>\n",
       "    <tr>\n",
       "      <th>Ryan</th>\n",
       "      <td>200</td>\n",
       "      <td>72.00</td>\n",
       "      <td>M</td>\n",
       "      <td>Oregon Episcopal School</td>\n",
       "      <td>149.377593</td>\n",
       "    </tr>\n",
       "    <tr>\n",
       "      <th>Paul</th>\n",
       "      <td>190</td>\n",
       "      <td>72.00</td>\n",
       "      <td>M</td>\n",
       "      <td>Oregon Episcopal School</td>\n",
       "      <td>157.676349</td>\n",
       "    </tr>\n",
       "    <tr>\n",
       "      <th>Michael</th>\n",
       "      <td>200</td>\n",
       "      <td>73.00</td>\n",
       "      <td>M</td>\n",
       "      <td>Oregon Episcopal School</td>\n",
       "      <td>165.975104</td>\n",
       "    </tr>\n",
       "  </tbody>\n",
       "</table>\n",
       "</div>"
      ],
      "text/plain": [
       "         weight  height gender                   school   weight_kg\n",
       "Mary        100   62.00      F  Oregon Episcopal School   82.987552\n",
       "Mike        120   66.00      M  Oregon Episcopal School   99.585062\n",
       "Joe         140   68.00      M  Oregon Episcopal School  116.182573\n",
       "Janet       110   62.00      F  Oregon Episcopal School   91.286307\n",
       "Steve       160   67.11      M  Oregon Episcopal School  132.780083\n",
       "Alissa      140   67.11      F  Oregon Episcopal School  116.182573\n",
       "Alison      140   66.00      F  Oregon Episcopal School  116.182573\n",
       "Maya        110   63.00      F  Oregon Episcopal School   91.286307\n",
       "Ryan        200   72.00      M  Oregon Episcopal School  149.377593\n",
       "Paul        190   72.00      M  Oregon Episcopal School  157.676349\n",
       "Michael     200   73.00      M  Oregon Episcopal School  165.975104"
      ]
     },
     "execution_count": 110,
     "metadata": {},
     "output_type": "execute_result"
    }
   ],
   "source": [
    "students['height'] = students['height'].fillna(students['height'].mean()).round(2)\n",
    "students['weight'] = students['weight'].fillna(students['weight'].mean()).round(2)\n",
    "students"
   ]
  },
  {
   "cell_type": "markdown",
   "metadata": {
    "slideshow": {
     "slide_type": "fragment"
    }
   },
   "source": [
    "Note: In Python you can use the words \"and\" and \"or\", but in pandas you must use \"&\" and \"|\" to denote them or else you'll get an error."
   ]
  },
  {
   "cell_type": "markdown",
   "metadata": {
    "slideshow": {
     "slide_type": "slide"
    }
   },
   "source": [
    "To plot the students weights vs heights:"
   ]
  },
  {
   "cell_type": "code",
   "execution_count": 111,
   "metadata": {
    "slideshow": {
     "slide_type": "fragment"
    }
   },
   "outputs": [
    {
     "data": {
      "text/plain": [
       "Text(0, 0.5, 'height')"
      ]
     },
     "execution_count": 111,
     "metadata": {},
     "output_type": "execute_result"
    },
    {
     "data": {
      "image/png": "[encoded data removed]",
      "text/plain": [
       "<Figure size 432x288 with 1 Axes>"
      ]
     },
     "metadata": {
      "needs_background": "light"
     },
     "output_type": "display_data"
    }
   ],
   "source": [
    "import matplotlib.pyplot as plt\n",
    "%matplotlib inline\n",
    "\n",
    "w = students.weight\n",
    "h = students.height\n",
    "\n",
    "plt.plot(w,h,'.')\n",
    "plt.xlabel('weight')\n",
    "plt.ylabel('height')\n"
   ]
  },
  {
   "cell_type": "markdown",
   "metadata": {
    "slideshow": {
     "slide_type": "slide"
    }
   },
   "source": [
    "To plot histograms of all the numerical variables:"
   ]
  },
  {
   "cell_type": "code",
   "execution_count": 112,
   "metadata": {
    "slideshow": {
     "slide_type": "fragment"
    }
   },
   "outputs": [
    {
     "data": {
      "text/plain": [
       "array([[<matplotlib.axes._subplots.AxesSubplot object at 0x10dd3e320>,\n",
       "        <matplotlib.axes._subplots.AxesSubplot object at 0x11f6041d0>],\n",
       "       [<matplotlib.axes._subplots.AxesSubplot object at 0x11f6e1208>,\n",
       "        <matplotlib.axes._subplots.AxesSubplot object at 0x1a25fe8a90>]],\n",
       "      dtype=object)"
      ]
     },
     "execution_count": 112,
     "metadata": {},
     "output_type": "execute_result"
    },
    {
     "data": {
      "image/png": "[encoded data removed]",
      "text/plain": [
       "<Figure size 432x288 with 4 Axes>"
      ]
     },
     "metadata": {
      "needs_background": "light"
     },
     "output_type": "display_data"
    }
   ],
   "source": [
    "students.hist()"
   ]
  },
  {
   "cell_type": "markdown",
   "metadata": {
    "slideshow": {
     "slide_type": "slide"
    }
   },
   "source": [
    "Or for just the weight:"
   ]
  },
  {
   "cell_type": "code",
   "execution_count": 113,
   "metadata": {
    "slideshow": {
     "slide_type": "fragment"
    }
   },
   "outputs": [
    {
     "data": {
      "text/plain": [
       "<matplotlib.axes._subplots.AxesSubplot at 0x11f711550>"
      ]
     },
     "execution_count": 113,
     "metadata": {},
     "output_type": "execute_result"
    },
    {
     "data": {
      "image/png": "[encoded data removed]",
      "text/plain": [
       "<Figure size 432x288 with 1 Axes>"
      ]
     },
     "metadata": {
      "needs_background": "light"
     },
     "output_type": "display_data"
    }
   ],
   "source": [
    "students.weight.plot.hist()"
   ]
  },
  {
   "cell_type": "markdown",
   "metadata": {
    "slideshow": {
     "slide_type": "slide"
    }
   },
   "source": [
    "Or more cleaned up with a few more parameters:"
   ]
  },
  {
   "cell_type": "code",
   "execution_count": 114,
   "metadata": {
    "slideshow": {
     "slide_type": "fragment"
    }
   },
   "outputs": [
    {
     "data": {
      "text/plain": [
       "<matplotlib.axes._subplots.AxesSubplot at 0x121c91f98>"
      ]
     },
     "execution_count": 114,
     "metadata": {},
     "output_type": "execute_result"
    },
    {
     "data": {
      "image/png": "[encoded data removed]",
      "text/plain": [
       "<Figure size 432x288 with 1 Axes>"
      ]
     },
     "metadata": {
      "needs_background": "light"
     },
     "output_type": "display_data"
    }
   ],
   "source": [
    "import numpy as np\n",
    "students.weight.plot.hist(rwidth=.9, bins=np.arange(95,205,10))"
   ]
  },
  {
   "cell_type": "markdown",
   "metadata": {
    "slideshow": {
     "slide_type": "slide"
    }
   },
   "source": [
    "For summary stats:"
   ]
  },
  {
   "cell_type": "code",
   "execution_count": 115,
   "metadata": {
    "slideshow": {
     "slide_type": "fragment"
    }
   },
   "outputs": [
    {
     "data": {
      "text/html": [
       "<div>\n",
       "<style scoped>\n",
       "    .dataframe tbody tr th:only-of-type {\n",
       "        vertical-align: middle;\n",
       "    }\n",
       "\n",
       "    .dataframe tbody tr th {\n",
       "        vertical-align: top;\n",
       "    }\n",
       "\n",
       "    .dataframe thead th {\n",
       "        text-align: right;\n",
       "    }\n",
       "</style>\n",
       "<table border=\"1\" class=\"dataframe\">\n",
       "  <thead>\n",
       "    <tr style=\"text-align: right;\">\n",
       "      <th></th>\n",
       "      <th>weight</th>\n",
       "      <th>height</th>\n",
       "      <th>weight_kg</th>\n",
       "    </tr>\n",
       "  </thead>\n",
       "  <tbody>\n",
       "    <tr>\n",
       "      <th>count</th>\n",
       "      <td>11.000000</td>\n",
       "      <td>11.000000</td>\n",
       "      <td>11.000000</td>\n",
       "    </tr>\n",
       "    <tr>\n",
       "      <th>mean</th>\n",
       "      <td>146.363636</td>\n",
       "      <td>67.110909</td>\n",
       "      <td>119.954734</td>\n",
       "    </tr>\n",
       "    <tr>\n",
       "      <th>std</th>\n",
       "      <td>36.680438</td>\n",
       "      <td>3.935593</td>\n",
       "      <td>28.353007</td>\n",
       "    </tr>\n",
       "    <tr>\n",
       "      <th>min</th>\n",
       "      <td>100.000000</td>\n",
       "      <td>62.000000</td>\n",
       "      <td>82.987552</td>\n",
       "    </tr>\n",
       "    <tr>\n",
       "      <th>25%</th>\n",
       "      <td>115.000000</td>\n",
       "      <td>64.500000</td>\n",
       "      <td>95.435685</td>\n",
       "    </tr>\n",
       "    <tr>\n",
       "      <th>50%</th>\n",
       "      <td>140.000000</td>\n",
       "      <td>67.110000</td>\n",
       "      <td>116.182573</td>\n",
       "    </tr>\n",
       "    <tr>\n",
       "      <th>75%</th>\n",
       "      <td>175.000000</td>\n",
       "      <td>70.000000</td>\n",
       "      <td>141.078838</td>\n",
       "    </tr>\n",
       "    <tr>\n",
       "      <th>max</th>\n",
       "      <td>200.000000</td>\n",
       "      <td>73.000000</td>\n",
       "      <td>165.975104</td>\n",
       "    </tr>\n",
       "  </tbody>\n",
       "</table>\n",
       "</div>"
      ],
      "text/plain": [
       "           weight     height   weight_kg\n",
       "count   11.000000  11.000000   11.000000\n",
       "mean   146.363636  67.110909  119.954734\n",
       "std     36.680438   3.935593   28.353007\n",
       "min    100.000000  62.000000   82.987552\n",
       "25%    115.000000  64.500000   95.435685\n",
       "50%    140.000000  67.110000  116.182573\n",
       "75%    175.000000  70.000000  141.078838\n",
       "max    200.000000  73.000000  165.975104"
      ]
     },
     "execution_count": 115,
     "metadata": {},
     "output_type": "execute_result"
    }
   ],
   "source": [
    "students.describe()"
   ]
  },
  {
   "cell_type": "markdown",
   "metadata": {
    "slideshow": {
     "slide_type": "slide"
    }
   },
   "source": [
    "Or more specific stats:"
   ]
  },
  {
   "cell_type": "code",
   "execution_count": 116,
   "metadata": {
    "slideshow": {
     "slide_type": "fragment"
    }
   },
   "outputs": [
    {
     "name": "stdout",
     "output_type": "stream",
     "text": [
      "count 11\n",
      "mean 146.36363636363637\n",
      "36.680438185149114\n",
      "100\n",
      "140.0\n",
      "200\n"
     ]
    }
   ],
   "source": [
    "print('count', students.weight.count())\n",
    "print('mean', students.weight.mean())\n",
    "print(students.weight.std())\n",
    "print(students.weight.min())\n",
    "print(students.weight.median())\n",
    "print(students.weight.max())\n"
   ]
  },
  {
   "cell_type": "markdown",
   "metadata": {
    "slideshow": {
     "slide_type": "slide"
    }
   },
   "source": [
    "To sort by weight:"
   ]
  },
  {
   "cell_type": "code",
   "execution_count": 117,
   "metadata": {},
   "outputs": [
    {
     "data": {
      "text/html": [
       "<div>\n",
       "<style scoped>\n",
       "    .dataframe tbody tr th:only-of-type {\n",
       "        vertical-align: middle;\n",
       "    }\n",
       "\n",
       "    .dataframe tbody tr th {\n",
       "        vertical-align: top;\n",
       "    }\n",
       "\n",
       "    .dataframe thead th {\n",
       "        text-align: right;\n",
       "    }\n",
       "</style>\n",
       "<table border=\"1\" class=\"dataframe\">\n",
       "  <thead>\n",
       "    <tr style=\"text-align: right;\">\n",
       "      <th></th>\n",
       "      <th>weight</th>\n",
       "      <th>height</th>\n",
       "      <th>gender</th>\n",
       "      <th>school</th>\n",
       "      <th>weight_kg</th>\n",
       "    </tr>\n",
       "  </thead>\n",
       "  <tbody>\n",
       "    <tr>\n",
       "      <th>Mary</th>\n",
       "      <td>100</td>\n",
       "      <td>62.00</td>\n",
       "      <td>F</td>\n",
       "      <td>Oregon Episcopal School</td>\n",
       "      <td>82.987552</td>\n",
       "    </tr>\n",
       "    <tr>\n",
       "      <th>Janet</th>\n",
       "      <td>110</td>\n",
       "      <td>62.00</td>\n",
       "      <td>F</td>\n",
       "      <td>Oregon Episcopal School</td>\n",
       "      <td>91.286307</td>\n",
       "    </tr>\n",
       "    <tr>\n",
       "      <th>Maya</th>\n",
       "      <td>110</td>\n",
       "      <td>63.00</td>\n",
       "      <td>F</td>\n",
       "      <td>Oregon Episcopal School</td>\n",
       "      <td>91.286307</td>\n",
       "    </tr>\n",
       "    <tr>\n",
       "      <th>Mike</th>\n",
       "      <td>120</td>\n",
       "      <td>66.00</td>\n",
       "      <td>M</td>\n",
       "      <td>Oregon Episcopal School</td>\n",
       "      <td>99.585062</td>\n",
       "    </tr>\n",
       "    <tr>\n",
       "      <th>Joe</th>\n",
       "      <td>140</td>\n",
       "      <td>68.00</td>\n",
       "      <td>M</td>\n",
       "      <td>Oregon Episcopal School</td>\n",
       "      <td>116.182573</td>\n",
       "    </tr>\n",
       "    <tr>\n",
       "      <th>Alissa</th>\n",
       "      <td>140</td>\n",
       "      <td>67.11</td>\n",
       "      <td>F</td>\n",
       "      <td>Oregon Episcopal School</td>\n",
       "      <td>116.182573</td>\n",
       "    </tr>\n",
       "    <tr>\n",
       "      <th>Alison</th>\n",
       "      <td>140</td>\n",
       "      <td>66.00</td>\n",
       "      <td>F</td>\n",
       "      <td>Oregon Episcopal School</td>\n",
       "      <td>116.182573</td>\n",
       "    </tr>\n",
       "    <tr>\n",
       "      <th>Steve</th>\n",
       "      <td>160</td>\n",
       "      <td>67.11</td>\n",
       "      <td>M</td>\n",
       "      <td>Oregon Episcopal School</td>\n",
       "      <td>132.780083</td>\n",
       "    </tr>\n",
       "    <tr>\n",
       "      <th>Paul</th>\n",
       "      <td>190</td>\n",
       "      <td>72.00</td>\n",
       "      <td>M</td>\n",
       "      <td>Oregon Episcopal School</td>\n",
       "      <td>157.676349</td>\n",
       "    </tr>\n",
       "    <tr>\n",
       "      <th>Ryan</th>\n",
       "      <td>200</td>\n",
       "      <td>72.00</td>\n",
       "      <td>M</td>\n",
       "      <td>Oregon Episcopal School</td>\n",
       "      <td>149.377593</td>\n",
       "    </tr>\n",
       "    <tr>\n",
       "      <th>Michael</th>\n",
       "      <td>200</td>\n",
       "      <td>73.00</td>\n",
       "      <td>M</td>\n",
       "      <td>Oregon Episcopal School</td>\n",
       "      <td>165.975104</td>\n",
       "    </tr>\n",
       "  </tbody>\n",
       "</table>\n",
       "</div>"
      ],
      "text/plain": [
       "         weight  height gender                   school   weight_kg\n",
       "Mary        100   62.00      F  Oregon Episcopal School   82.987552\n",
       "Janet       110   62.00      F  Oregon Episcopal School   91.286307\n",
       "Maya        110   63.00      F  Oregon Episcopal School   91.286307\n",
       "Mike        120   66.00      M  Oregon Episcopal School   99.585062\n",
       "Joe         140   68.00      M  Oregon Episcopal School  116.182573\n",
       "Alissa      140   67.11      F  Oregon Episcopal School  116.182573\n",
       "Alison      140   66.00      F  Oregon Episcopal School  116.182573\n",
       "Steve       160   67.11      M  Oregon Episcopal School  132.780083\n",
       "Paul        190   72.00      M  Oregon Episcopal School  157.676349\n",
       "Ryan        200   72.00      M  Oregon Episcopal School  149.377593\n",
       "Michael     200   73.00      M  Oregon Episcopal School  165.975104"
      ]
     },
     "execution_count": 117,
     "metadata": {},
     "output_type": "execute_result"
    }
   ],
   "source": [
    "students.sort_values(by = 'weight')"
   ]
  },
  {
   "cell_type": "markdown",
   "metadata": {
    "slideshow": {
     "slide_type": "slide"
    }
   },
   "source": [
    "Or sorting in decending order of frequency:"
   ]
  },
  {
   "cell_type": "code",
   "execution_count": 118,
   "metadata": {
    "slideshow": {
     "slide_type": "fragment"
    }
   },
   "outputs": [
    {
     "data": {
      "text/plain": [
       "140    3\n",
       "110    2\n",
       "200    2\n",
       "120    1\n",
       "190    1\n",
       "100    1\n",
       "160    1\n",
       "Name: weight, dtype: int64"
      ]
     },
     "execution_count": 118,
     "metadata": {},
     "output_type": "execute_result"
    }
   ],
   "source": [
    "students.weight.value_counts()"
   ]
  },
  {
   "cell_type": "markdown",
   "metadata": {
    "slideshow": {
     "slide_type": "slide"
    }
   },
   "source": [
    "Or ascending order of frequency:"
   ]
  },
  {
   "cell_type": "code",
   "execution_count": 119,
   "metadata": {
    "slideshow": {
     "slide_type": "fragment"
    }
   },
   "outputs": [
    {
     "data": {
      "text/plain": [
       "160    1\n",
       "100    1\n",
       "190    1\n",
       "120    1\n",
       "200    2\n",
       "110    2\n",
       "140    3\n",
       "Name: weight, dtype: int64"
      ]
     },
     "execution_count": 119,
     "metadata": {},
     "output_type": "execute_result"
    }
   ],
   "source": [
    "students.weight.value_counts(ascending = True)"
   ]
  },
  {
   "cell_type": "markdown",
   "metadata": {
    "slideshow": {
     "slide_type": "slide"
    }
   },
   "source": [
    "### Pregnancy Dataset\n",
    "<img src=\"images/cwic2.png\" style=\"width: 300px;\"/>\n",
    "\n",
    "\n",
    "The CDC National Survey of Family Growth (NSFG) gathers information on family life, marriage and divorce, pregnancy, infertility, use of contraception, and general and reproductive health. \n",
    "\n",
    "Its 2002 pregnancy dataset contains 13593 respondents and 244 attributes.\n",
    "\n",
    "https://www.cdc.gov/nchs/nsfg/nsfg_cycle6.htm\n",
    "\n",
    "How do I read in the data? \"index_col=0\" represents that I want the first column treated as my index labels:"
   ]
  },
  {
   "cell_type": "code",
   "execution_count": 17,
   "metadata": {
    "slideshow": {
     "slide_type": "fragment"
    }
   },
   "outputs": [],
   "source": [
    "preg = pd.read_csv('2002FemPreg.csv', index_col = 0)"
   ]
  },
  {
   "cell_type": "markdown",
   "metadata": {
    "slideshow": {
     "slide_type": "slide"
    }
   },
   "source": [
    "How do I view the first few rows of the data?"
   ]
  },
  {
   "cell_type": "code",
   "execution_count": 18,
   "metadata": {
    "slideshow": {
     "slide_type": "fragment"
    }
   },
   "outputs": [
    {
     "data": {
      "text/html": [
       "<div>\n",
       "<style scoped>\n",
       "    .dataframe tbody tr th:only-of-type {\n",
       "        vertical-align: middle;\n",
       "    }\n",
       "\n",
       "    .dataframe tbody tr th {\n",
       "        vertical-align: top;\n",
       "    }\n",
       "\n",
       "    .dataframe thead th {\n",
       "        text-align: right;\n",
       "    }\n",
       "</style>\n",
       "<table border=\"1\" class=\"dataframe\">\n",
       "  <thead>\n",
       "    <tr style=\"text-align: right;\">\n",
       "      <th></th>\n",
       "      <th>caseid</th>\n",
       "      <th>pregordr</th>\n",
       "      <th>howpreg_n</th>\n",
       "      <th>howpreg_p</th>\n",
       "      <th>moscurrp</th>\n",
       "      <th>nowprgdk</th>\n",
       "      <th>pregend1</th>\n",
       "      <th>pregend2</th>\n",
       "      <th>nbrnaliv</th>\n",
       "      <th>multbrth</th>\n",
       "      <th>...</th>\n",
       "      <th>laborfor_i</th>\n",
       "      <th>religion_i</th>\n",
       "      <th>metro_i</th>\n",
       "      <th>basewgt</th>\n",
       "      <th>adj_mod_basewgt</th>\n",
       "      <th>finalwgt</th>\n",
       "      <th>secu_p</th>\n",
       "      <th>sest</th>\n",
       "      <th>cmintvw</th>\n",
       "      <th>totalwgt_lb</th>\n",
       "    </tr>\n",
       "  </thead>\n",
       "  <tbody>\n",
       "    <tr>\n",
       "      <th>0</th>\n",
       "      <td>1</td>\n",
       "      <td>1</td>\n",
       "      <td>NaN</td>\n",
       "      <td>NaN</td>\n",
       "      <td>NaN</td>\n",
       "      <td>NaN</td>\n",
       "      <td>6.0</td>\n",
       "      <td>NaN</td>\n",
       "      <td>1.0</td>\n",
       "      <td>NaN</td>\n",
       "      <td>...</td>\n",
       "      <td>0</td>\n",
       "      <td>0</td>\n",
       "      <td>0</td>\n",
       "      <td>3410.389399</td>\n",
       "      <td>3869.349602</td>\n",
       "      <td>6448.271112</td>\n",
       "      <td>2</td>\n",
       "      <td>9</td>\n",
       "      <td>NaN</td>\n",
       "      <td>8.8125</td>\n",
       "    </tr>\n",
       "    <tr>\n",
       "      <th>1</th>\n",
       "      <td>1</td>\n",
       "      <td>2</td>\n",
       "      <td>NaN</td>\n",
       "      <td>NaN</td>\n",
       "      <td>NaN</td>\n",
       "      <td>NaN</td>\n",
       "      <td>6.0</td>\n",
       "      <td>NaN</td>\n",
       "      <td>1.0</td>\n",
       "      <td>NaN</td>\n",
       "      <td>...</td>\n",
       "      <td>0</td>\n",
       "      <td>0</td>\n",
       "      <td>0</td>\n",
       "      <td>3410.389399</td>\n",
       "      <td>3869.349602</td>\n",
       "      <td>6448.271112</td>\n",
       "      <td>2</td>\n",
       "      <td>9</td>\n",
       "      <td>NaN</td>\n",
       "      <td>7.8750</td>\n",
       "    </tr>\n",
       "    <tr>\n",
       "      <th>2</th>\n",
       "      <td>2</td>\n",
       "      <td>1</td>\n",
       "      <td>NaN</td>\n",
       "      <td>NaN</td>\n",
       "      <td>NaN</td>\n",
       "      <td>NaN</td>\n",
       "      <td>5.0</td>\n",
       "      <td>NaN</td>\n",
       "      <td>3.0</td>\n",
       "      <td>5.0</td>\n",
       "      <td>...</td>\n",
       "      <td>0</td>\n",
       "      <td>0</td>\n",
       "      <td>0</td>\n",
       "      <td>7226.301740</td>\n",
       "      <td>8567.549110</td>\n",
       "      <td>12999.542264</td>\n",
       "      <td>2</td>\n",
       "      <td>12</td>\n",
       "      <td>NaN</td>\n",
       "      <td>9.1250</td>\n",
       "    </tr>\n",
       "    <tr>\n",
       "      <th>3</th>\n",
       "      <td>2</td>\n",
       "      <td>2</td>\n",
       "      <td>NaN</td>\n",
       "      <td>NaN</td>\n",
       "      <td>NaN</td>\n",
       "      <td>NaN</td>\n",
       "      <td>6.0</td>\n",
       "      <td>NaN</td>\n",
       "      <td>1.0</td>\n",
       "      <td>NaN</td>\n",
       "      <td>...</td>\n",
       "      <td>0</td>\n",
       "      <td>0</td>\n",
       "      <td>0</td>\n",
       "      <td>7226.301740</td>\n",
       "      <td>8567.549110</td>\n",
       "      <td>12999.542264</td>\n",
       "      <td>2</td>\n",
       "      <td>12</td>\n",
       "      <td>NaN</td>\n",
       "      <td>7.0000</td>\n",
       "    </tr>\n",
       "    <tr>\n",
       "      <th>4</th>\n",
       "      <td>2</td>\n",
       "      <td>3</td>\n",
       "      <td>NaN</td>\n",
       "      <td>NaN</td>\n",
       "      <td>NaN</td>\n",
       "      <td>NaN</td>\n",
       "      <td>6.0</td>\n",
       "      <td>NaN</td>\n",
       "      <td>1.0</td>\n",
       "      <td>NaN</td>\n",
       "      <td>...</td>\n",
       "      <td>0</td>\n",
       "      <td>0</td>\n",
       "      <td>0</td>\n",
       "      <td>7226.301740</td>\n",
       "      <td>8567.549110</td>\n",
       "      <td>12999.542264</td>\n",
       "      <td>2</td>\n",
       "      <td>12</td>\n",
       "      <td>NaN</td>\n",
       "      <td>6.1875</td>\n",
       "    </tr>\n",
       "  </tbody>\n",
       "</table>\n",
       "<p>5 rows × 244 columns</p>\n",
       "</div>"
      ],
      "text/plain": [
       "   caseid  pregordr  howpreg_n  howpreg_p  moscurrp  nowprgdk  pregend1  \\\n",
       "0       1         1        NaN        NaN       NaN       NaN       6.0   \n",
       "1       1         2        NaN        NaN       NaN       NaN       6.0   \n",
       "2       2         1        NaN        NaN       NaN       NaN       5.0   \n",
       "3       2         2        NaN        NaN       NaN       NaN       6.0   \n",
       "4       2         3        NaN        NaN       NaN       NaN       6.0   \n",
       "\n",
       "   pregend2  nbrnaliv  multbrth  ...  laborfor_i  religion_i  metro_i  \\\n",
       "0       NaN       1.0       NaN  ...           0           0        0   \n",
       "1       NaN       1.0       NaN  ...           0           0        0   \n",
       "2       NaN       3.0       5.0  ...           0           0        0   \n",
       "3       NaN       1.0       NaN  ...           0           0        0   \n",
       "4       NaN       1.0       NaN  ...           0           0        0   \n",
       "\n",
       "       basewgt  adj_mod_basewgt      finalwgt  secu_p  sest  cmintvw  \\\n",
       "0  3410.389399      3869.349602   6448.271112       2     9      NaN   \n",
       "1  3410.389399      3869.349602   6448.271112       2     9      NaN   \n",
       "2  7226.301740      8567.549110  12999.542264       2    12      NaN   \n",
       "3  7226.301740      8567.549110  12999.542264       2    12      NaN   \n",
       "4  7226.301740      8567.549110  12999.542264       2    12      NaN   \n",
       "\n",
       "   totalwgt_lb  \n",
       "0       8.8125  \n",
       "1       7.8750  \n",
       "2       9.1250  \n",
       "3       7.0000  \n",
       "4       6.1875  \n",
       "\n",
       "[5 rows x 244 columns]"
      ]
     },
     "execution_count": 18,
     "metadata": {},
     "output_type": "execute_result"
    }
   ],
   "source": [
    "preg.head()"
   ]
  },
  {
   "cell_type": "markdown",
   "metadata": {
    "slideshow": {
     "slide_type": "slide"
    }
   },
   "source": [
    "How do I know how big the dataset is?"
   ]
  },
  {
   "cell_type": "code",
   "execution_count": 21,
   "metadata": {
    "slideshow": {
     "slide_type": "fragment"
    }
   },
   "outputs": [
    {
     "data": {
      "text/plain": [
       "(13593, 244)"
      ]
     },
     "execution_count": 21,
     "metadata": {},
     "output_type": "execute_result"
    }
   ],
   "source": [
    "preg.shape"
   ]
  },
  {
   "cell_type": "markdown",
   "metadata": {
    "slideshow": {
     "slide_type": "slide"
    }
   },
   "source": [
    "How do I know what the attributes are?"
   ]
  },
  {
   "cell_type": "code",
   "execution_count": 19,
   "metadata": {
    "slideshow": {
     "slide_type": "fragment"
    }
   },
   "outputs": [
    {
     "data": {
      "text/plain": [
       "Index(['caseid', 'pregordr', 'howpreg_n', 'howpreg_p', 'moscurrp', 'nowprgdk',\n",
       "       'pregend1', 'pregend2', 'nbrnaliv', 'multbrth',\n",
       "       ...\n",
       "       'laborfor_i', 'religion_i', 'metro_i', 'basewgt', 'adj_mod_basewgt',\n",
       "       'finalwgt', 'secu_p', 'sest', 'cmintvw', 'totalwgt_lb'],\n",
       "      dtype='object', length=244)"
      ]
     },
     "execution_count": 19,
     "metadata": {},
     "output_type": "execute_result"
    }
   ],
   "source": [
    "preg.columns"
   ]
  },
  {
   "cell_type": "markdown",
   "metadata": {
    "slideshow": {
     "slide_type": "slide"
    }
   },
   "source": [
    " It is common that there is extra space when you read in a file. This space is problematic when you want to refer to a column by name. Thus, we want to strip all extra whitespace from the column names using this command:"
   ]
  },
  {
   "cell_type": "code",
   "execution_count": 20,
   "metadata": {},
   "outputs": [],
   "source": [
    "preg.columns = preg.columns.str.strip()"
   ]
  },
  {
   "cell_type": "markdown",
   "metadata": {
    "slideshow": {
     "slide_type": "slide"
    }
   },
   "source": [
    "One of the variables is pregnancy outcome, i.e., if the baby is carried to term or not (no miscarriages or still births). Let's limit our calculations below to live births:"
   ]
  },
  {
   "cell_type": "code",
   "execution_count": 22,
   "metadata": {
    "slideshow": {
     "slide_type": "fragment"
    }
   },
   "outputs": [
    {
     "data": {
      "text/plain": [
       "(9148, 244)"
      ]
     },
     "execution_count": 22,
     "metadata": {},
     "output_type": "execute_result"
    }
   ],
   "source": [
    "live = preg[preg.outcome == 1]\n",
    "live.shape"
   ]
  },
  {
   "cell_type": "markdown",
   "metadata": {
    "slideshow": {
     "slide_type": "slide"
    }
   },
   "source": [
    "This is a huge dataset. What if there is missing data? Let's limit our focus to rows where the mother's age and the baby's weight are nonempty."
   ]
  },
  {
   "cell_type": "code",
   "execution_count": 23,
   "metadata": {
    "slideshow": {
     "slide_type": "fragment"
    }
   },
   "outputs": [
    {
     "data": {
      "text/plain": [
       "(9084, 244)"
      ]
     },
     "execution_count": 23,
     "metadata": {},
     "output_type": "execute_result"
    }
   ],
   "source": [
    "live = live.dropna(subset=['agepreg', 'birthwgt_lb'])\n",
    "live.shape"
   ]
  },
  {
   "cell_type": "markdown",
   "metadata": {
    "slideshow": {
     "slide_type": "slide"
    }
   },
   "source": [
    "What are some descriptive stats for baby weight?"
   ]
  },
  {
   "cell_type": "code",
   "execution_count": 24,
   "metadata": {
    "slideshow": {
     "slide_type": "fragment"
    }
   },
   "outputs": [
    {
     "data": {
      "text/plain": [
       "count    9084.000000\n",
       "mean        6.832122\n",
       "std         1.411447\n",
       "min         0.000000\n",
       "25%         6.000000\n",
       "50%         7.000000\n",
       "75%         8.000000\n",
       "max        15.000000\n",
       "Name: birthwgt_lb, dtype: float64"
      ]
     },
     "execution_count": 24,
     "metadata": {},
     "output_type": "execute_result"
    }
   ],
   "source": [
    "live['birthwgt_lb'].describe()"
   ]
  },
  {
   "cell_type": "markdown",
   "metadata": {
    "slideshow": {
     "slide_type": "slide"
    }
   },
   "source": [
    "A frequency chart for baby weight:"
   ]
  },
  {
   "cell_type": "code",
   "execution_count": 25,
   "metadata": {
    "slideshow": {
     "slide_type": "fragment"
    }
   },
   "outputs": [
    {
     "data": {
      "text/plain": [
       "0.0        8\n",
       "1.0       40\n",
       "2.0       53\n",
       "3.0       98\n",
       "4.0      229\n",
       "5.0      697\n",
       "6.0     2223\n",
       "7.0     3049\n",
       "8.0     1889\n",
       "9.0      623\n",
       "10.0     132\n",
       "11.0      26\n",
       "12.0      10\n",
       "13.0       3\n",
       "14.0       3\n",
       "15.0       1\n",
       "Name: birthwgt_lb, dtype: int64"
      ]
     },
     "execution_count": 25,
     "metadata": {},
     "output_type": "execute_result"
    }
   ],
   "source": [
    "live['birthwgt_lb'].value_counts().sort_index()"
   ]
  },
  {
   "cell_type": "markdown",
   "metadata": {
    "slideshow": {
     "slide_type": "slide"
    }
   },
   "source": [
    "What does a histogram of the data look like?"
   ]
  },
  {
   "cell_type": "code",
   "execution_count": 26,
   "metadata": {
    "slideshow": {
     "slide_type": "fragment"
    }
   },
   "outputs": [
    {
     "data": {
      "image/png": "[encoded data removed]",
      "text/plain": [
       "<Figure size 432x288 with 1 Axes>"
      ]
     },
     "metadata": {
      "needs_background": "light"
     },
     "output_type": "display_data"
    }
   ],
   "source": [
    "plt.hist(live['birthwgt_lb']);\n",
    "plt.xlabel('baby weight');\n",
    "plt.ylabel('frequency');"
   ]
  },
  {
   "cell_type": "markdown",
   "metadata": {
    "slideshow": {
     "slide_type": "slide"
    }
   },
   "source": [
    "With a few extra arguments, we can make the plot prettier."
   ]
  },
  {
   "cell_type": "code",
   "execution_count": 27,
   "metadata": {
    "slideshow": {
     "slide_type": "fragment"
    }
   },
   "outputs": [
    {
     "data": {
      "image/png": "[encoded data removed]",
      "text/plain": [
       "<Figure size 432x288 with 1 Axes>"
      ]
     },
     "metadata": {
      "needs_background": "light"
     },
     "output_type": "display_data"
    }
   ],
   "source": [
    "plt.hist(live['birthwgt_lb'], bins=np.arange(-0.5,15.5,1));\n",
    "plt.xlabel('baby weight');\n",
    "plt.ylabel('frequency');"
   ]
  },
  {
   "cell_type": "markdown",
   "metadata": {
    "slideshow": {
     "slide_type": "slide"
    }
   },
   "source": [
    "### Question 1: Do firstborns weigh less than later children?\n",
    "\n",
    "Let's save firstborns and later siblings into different variables based on birth order:"
   ]
  },
  {
   "cell_type": "code",
   "execution_count": 28,
   "metadata": {
    "slideshow": {
     "slide_type": "fragment"
    }
   },
   "outputs": [],
   "source": [
    "firsts = live[live.birthord == 1].birthwgt_lb\n",
    "others = live[live.birthord != 1].birthwgt_lb\n"
   ]
  },
  {
   "cell_type": "markdown",
   "metadata": {
    "slideshow": {
     "slide_type": "slide"
    }
   },
   "source": [
    "What is the mean birth weight of each?"
   ]
  },
  {
   "cell_type": "code",
   "execution_count": 132,
   "metadata": {
    "slideshow": {
     "slide_type": "fragment"
    }
   },
   "outputs": [
    {
     "name": "stdout",
     "output_type": "stream",
     "text": [
      "6.752968036529681 6.905824829931973\n"
     ]
    }
   ],
   "source": [
    "print(firsts.mean(), others.mean())\n",
    "firsts?"
   ]
  },
  {
   "cell_type": "markdown",
   "metadata": {
    "slideshow": {
     "slide_type": "slide"
    }
   },
   "source": [
    "Hmm. It looks like others may weigh a bit more than first borns. Let's make a comparative histogram:"
   ]
  },
  {
   "cell_type": "code",
   "execution_count": 133,
   "metadata": {
    "slideshow": {
     "slide_type": "slide"
    }
   },
   "outputs": [
    {
     "data": {
      "image/png": "[encoded data removed]",
      "text/plain": [
       "<Figure size 432x288 with 1 Axes>"
      ]
     },
     "metadata": {
      "needs_background": "light"
     },
     "output_type": "display_data"
    }
   ],
   "source": [
    "plt.hist([firsts, others], bins = np.arange(-.5, 15.5, 1),label=['firsts', 'others']);\n",
    "plt.xlabel('Bins', size=20);\n",
    "plt.ylabel('Frequency', size=20);\n",
    "plt.xticks(np.arange(0,15,1));\n",
    "plt.legend();"
   ]
  },
  {
   "cell_type": "markdown",
   "metadata": {
    "slideshow": {
     "slide_type": "slide"
    }
   },
   "source": [
    "You can use a two-sample t-test to conclude whether the difference between firstborn and later siblings' weights are actually statistically significant. "
   ]
  },
  {
   "cell_type": "code",
   "execution_count": 134,
   "metadata": {
    "slideshow": {
     "slide_type": "fragment"
    }
   },
   "outputs": [
    {
     "data": {
      "text/plain": [
       "Ttest_indResult(statistic=-5.164941440079655, pvalue=2.456175491391312e-07)"
      ]
     },
     "execution_count": 134,
     "metadata": {},
     "output_type": "execute_result"
    }
   ],
   "source": [
    "import scipy.stats as sp\n",
    "\n",
    "sp.ttest_ind(firsts, others)"
   ]
  },
  {
   "cell_type": "markdown",
   "metadata": {
    "slideshow": {
     "slide_type": "fragment"
    }
   },
   "source": [
    "The p-value is so small that we conclude that there is a statistically significant difference between firstborn weights and later baby weights."
   ]
  },
  {
   "cell_type": "markdown",
   "metadata": {
    "slideshow": {
     "slide_type": "slide"
    }
   },
   "source": [
    "### Question 2: Do Older Moms Have Heavier Babies?"
   ]
  },
  {
   "cell_type": "markdown",
   "metadata": {
    "slideshow": {
     "slide_type": "fragment"
    }
   },
   "source": [
    "Let's save the mother ages as mother_ages and the baby weights as baby_weights for ease of working with them:"
   ]
  },
  {
   "cell_type": "code",
   "execution_count": 135,
   "metadata": {
    "slideshow": {
     "slide_type": "fragment"
    }
   },
   "outputs": [],
   "source": [
    "live = live.dropna(subset=['agepreg', 'totalwgt_lb'])\n",
    "mother_ages = live['agepreg']\n",
    "baby_weights = live['totalwgt_lb']"
   ]
  },
  {
   "cell_type": "markdown",
   "metadata": {
    "slideshow": {
     "slide_type": "slide"
    }
   },
   "source": [
    "How old were the oldest and youngest mothers?"
   ]
  },
  {
   "cell_type": "code",
   "execution_count": 136,
   "metadata": {
    "slideshow": {
     "slide_type": "fragment"
    }
   },
   "outputs": [
    {
     "data": {
      "text/plain": [
       "count    9038.000000\n",
       "mean       24.936129\n",
       "std         5.553985\n",
       "min        10.830000\n",
       "25%        20.500000\n",
       "50%        24.330000\n",
       "75%        28.890000\n",
       "max        44.080000\n",
       "Name: agepreg, dtype: float64"
      ]
     },
     "execution_count": 136,
     "metadata": {},
     "output_type": "execute_result"
    }
   ],
   "source": [
    "mother_ages.describe()"
   ]
  },
  {
   "cell_type": "markdown",
   "metadata": {
    "slideshow": {
     "slide_type": "slide"
    }
   },
   "source": [
    "What does a scatterplot of mother's age vs baby's weight look like?"
   ]
  },
  {
   "cell_type": "code",
   "execution_count": 137,
   "metadata": {
    "slideshow": {
     "slide_type": "fragment"
    }
   },
   "outputs": [
    {
     "data": {
      "image/png": "[encoded data removed]",
      "text/plain": [
       "<Figure size 432x288 with 1 Axes>"
      ]
     },
     "metadata": {
      "needs_background": "light"
     },
     "output_type": "display_data"
    }
   ],
   "source": [
    "plt.plot(mother_ages, baby_weights,'.');\n",
    "plt.xlabel(\"mother's age\");\n",
    "plt.ylabel(\"birth weight\");"
   ]
  },
  {
   "cell_type": "markdown",
   "metadata": {
    "slideshow": {
     "slide_type": "slide"
    }
   },
   "source": [
    "Sometimes it helps to play around with opacity in order to see more tightly clustered points:"
   ]
  },
  {
   "cell_type": "code",
   "execution_count": 138,
   "metadata": {
    "slideshow": {
     "slide_type": "fragment"
    }
   },
   "outputs": [
    {
     "data": {
      "image/png": "[encoded data removed]",
      "text/plain": [
       "<Figure size 432x288 with 1 Axes>"
      ]
     },
     "metadata": {
      "needs_background": "light"
     },
     "output_type": "display_data"
    }
   ],
   "source": [
    "plt.plot(mother_ages, baby_weights,'.',alpha = 0.1);\n",
    "plt.xlabel(\"mother's age\");\n",
    "plt.ylabel(\"birth weight\");"
   ]
  },
  {
   "cell_type": "markdown",
   "metadata": {
    "slideshow": {
     "slide_type": "slide"
    }
   },
   "source": [
    "What if you want to calculate a linear regression line?\n",
    "\n",
    "You don't need anything more than numpy:"
   ]
  },
  {
   "cell_type": "code",
   "execution_count": 139,
   "metadata": {
    "slideshow": {
     "slide_type": "fragment"
    }
   },
   "outputs": [
    {
     "name": "stdout",
     "output_type": "stream",
     "text": [
      "0.017453851471802985 6.830396973311049\n"
     ]
    }
   ],
   "source": [
    "import numpy as np\n",
    "\n",
    "m, b = np.polyfit(mother_ages, baby_weights, 1)\n",
    "print(m,b)"
   ]
  },
  {
   "cell_type": "markdown",
   "metadata": {
    "slideshow": {
     "slide_type": "slide"
    }
   },
   "source": [
    "To superimpose the line of best fit on the scatterplot:"
   ]
  },
  {
   "cell_type": "code",
   "execution_count": 140,
   "metadata": {
    "slideshow": {
     "slide_type": "fragment"
    }
   },
   "outputs": [
    {
     "data": {
      "image/png": "[encoded data removed]",
      "text/plain": [
       "<Figure size 432x288 with 1 Axes>"
      ]
     },
     "metadata": {
      "needs_background": "light"
     },
     "output_type": "display_data"
    }
   ],
   "source": [
    "fit = np.polyfit(mother_ages, baby_weights,1);\n",
    "fit_fn = np.poly1d(fit); \n",
    "plt.plot(mother_ages, baby_weights,'.'); #observed points\n",
    "plt.plot(mother_ages, fit_fn(mother_ages),'.'); #predicted points"
   ]
  },
  {
   "cell_type": "markdown",
   "metadata": {
    "slideshow": {
     "slide_type": "slide"
    }
   },
   "source": [
    "We can run a linear least-squares regression test using scipy:"
   ]
  },
  {
   "cell_type": "code",
   "execution_count": 141,
   "metadata": {
    "slideshow": {
     "slide_type": "fragment"
    }
   },
   "outputs": [
    {
     "data": {
      "text/plain": [
       "LinregressResult(slope=0.01745385147180276, intercept=6.8303969733110526, rvalue=0.0688339703541091, pvalue=5.722947107314803e-11, stderr=0.0026611480116264744)"
      ]
     },
     "execution_count": 141,
     "metadata": {},
     "output_type": "execute_result"
    }
   ],
   "source": [
    "from scipy.stats import linregress\n",
    "\n",
    "linregress(mother_ages, baby_weights)"
   ]
  },
  {
   "cell_type": "markdown",
   "metadata": {
    "slideshow": {
     "slide_type": "fragment"
    }
   },
   "source": [
    "But wait, how can the p-value AND correlation coefficent both be so tiny?"
   ]
  },
  {
   "cell_type": "markdown",
   "metadata": {
    "slideshow": {
     "slide_type": "slide"
    }
   },
   "source": [
    "https://www.researchgate.net/post/What_is_the_relationship_between_R-squared_and_p-value_in_a_regression\n",
    "\n",
    "\n",
    "\"Low r-squared and low p-value means that your model doesn't explain much of the variation of the data but it is still significant (better than not having a model)\"\n",
    "\n",
    "\"With enough power, R-squared values very close to zero can be statistically significant, but that doesn't mean they have practical significance. It is a statistical artifact. So, plot the data, see if there is linear trend in the plot, analyze the residuals (points off the line) to see if underlying assumptions are met, and if so, then determine that the fit is good.\""
   ]
  },
  {
   "cell_type": "markdown",
   "metadata": {
    "slideshow": {
     "slide_type": "slide"
    }
   },
   "source": [
    "Another package that has cleaner user printouts is StatsModels:"
   ]
  },
  {
   "cell_type": "code",
   "execution_count": 142,
   "metadata": {
    "slideshow": {
     "slide_type": "fragment"
    }
   },
   "outputs": [
    {
     "data": {
      "text/html": [
       "<table class=\"simpletable\">\n",
       "<caption>OLS Regression Results</caption>\n",
       "<tr>\n",
       "  <th>Dep. Variable:</th>            <td>y</td>        <th>  R-squared:         </th> <td>   0.005</td> \n",
       "</tr>\n",
       "<tr>\n",
       "  <th>Model:</th>                   <td>OLS</td>       <th>  Adj. R-squared:    </th> <td>   0.005</td> \n",
       "</tr>\n",
       "<tr>\n",
       "  <th>Method:</th>             <td>Least Squares</td>  <th>  F-statistic:       </th> <td>   43.02</td> \n",
       "</tr>\n",
       "<tr>\n",
       "  <th>Date:</th>             <td>Sun, 16 Jun 2019</td> <th>  Prob (F-statistic):</th> <td>5.72e-11</td> \n",
       "</tr>\n",
       "<tr>\n",
       "  <th>Time:</th>                 <td>16:54:28</td>     <th>  Log-Likelihood:    </th> <td> -15897.</td> \n",
       "</tr>\n",
       "<tr>\n",
       "  <th>No. Observations:</th>      <td>  9038</td>      <th>  AIC:               </th> <td>3.180e+04</td>\n",
       "</tr>\n",
       "<tr>\n",
       "  <th>Df Residuals:</th>          <td>  9036</td>      <th>  BIC:               </th> <td>3.181e+04</td>\n",
       "</tr>\n",
       "<tr>\n",
       "  <th>Df Model:</th>              <td>     1</td>      <th>                     </th>     <td> </td>    \n",
       "</tr>\n",
       "<tr>\n",
       "  <th>Covariance Type:</th>      <td>nonrobust</td>    <th>                     </th>     <td> </td>    \n",
       "</tr>\n",
       "</table>\n",
       "<table class=\"simpletable\">\n",
       "<tr>\n",
       "    <td></td>       <th>coef</th>     <th>std err</th>      <th>t</th>      <th>P>|t|</th>  <th>[0.025</th>    <th>0.975]</th>  \n",
       "</tr>\n",
       "<tr>\n",
       "  <th>const</th> <td>    6.8304</td> <td>    0.068</td> <td>  100.470</td> <td> 0.000</td> <td>    6.697</td> <td>    6.964</td>\n",
       "</tr>\n",
       "<tr>\n",
       "  <th>x1</th>    <td>    0.0175</td> <td>    0.003</td> <td>    6.559</td> <td> 0.000</td> <td>    0.012</td> <td>    0.023</td>\n",
       "</tr>\n",
       "</table>\n",
       "<table class=\"simpletable\">\n",
       "<tr>\n",
       "  <th>Omnibus:</th>       <td>1024.052</td> <th>  Durbin-Watson:     </th> <td>   1.618</td>\n",
       "</tr>\n",
       "<tr>\n",
       "  <th>Prob(Omnibus):</th>  <td> 0.000</td>  <th>  Jarque-Bera (JB):  </th> <td>3081.833</td>\n",
       "</tr>\n",
       "<tr>\n",
       "  <th>Skew:</th>           <td>-0.601</td>  <th>  Prob(JB):          </th> <td>    0.00</td>\n",
       "</tr>\n",
       "<tr>\n",
       "  <th>Kurtosis:</th>       <td> 5.596</td>  <th>  Cond. No.          </th> <td>    118.</td>\n",
       "</tr>\n",
       "</table><br/><br/>Warnings:<br/>[1] Standard Errors assume that the covariance matrix of the errors is correctly specified."
      ],
      "text/plain": [
       "<class 'statsmodels.iolib.summary.Summary'>\n",
       "\"\"\"\n",
       "                            OLS Regression Results                            \n",
       "==============================================================================\n",
       "Dep. Variable:                      y   R-squared:                       0.005\n",
       "Model:                            OLS   Adj. R-squared:                  0.005\n",
       "Method:                 Least Squares   F-statistic:                     43.02\n",
       "Date:                Sun, 16 Jun 2019   Prob (F-statistic):           5.72e-11\n",
       "Time:                        16:54:28   Log-Likelihood:                -15897.\n",
       "No. Observations:                9038   AIC:                         3.180e+04\n",
       "Df Residuals:                    9036   BIC:                         3.181e+04\n",
       "Df Model:                           1                                         \n",
       "Covariance Type:            nonrobust                                         \n",
       "==============================================================================\n",
       "                 coef    std err          t      P>|t|      [0.025      0.975]\n",
       "------------------------------------------------------------------------------\n",
       "const          6.8304      0.068    100.470      0.000       6.697       6.964\n",
       "x1             0.0175      0.003      6.559      0.000       0.012       0.023\n",
       "==============================================================================\n",
       "Omnibus:                     1024.052   Durbin-Watson:                   1.618\n",
       "Prob(Omnibus):                  0.000   Jarque-Bera (JB):             3081.833\n",
       "Skew:                          -0.601   Prob(JB):                         0.00\n",
       "Kurtosis:                       5.596   Cond. No.                         118.\n",
       "==============================================================================\n",
       "\n",
       "Warnings:\n",
       "[1] Standard Errors assume that the covariance matrix of the errors is correctly specified.\n",
       "\"\"\""
      ]
     },
     "execution_count": 142,
     "metadata": {},
     "output_type": "execute_result"
    }
   ],
   "source": [
    "import statsmodels.api as sm\n",
    "\n",
    "X = mother_ages.values\n",
    "Y = baby_weights.values\n",
    "X = sm.add_constant(X) #A y intercept is not included by default - must add it\n",
    "model = sm.OLS(Y,X)\n",
    "results = model.fit()\n",
    "results.summary()"
   ]
  },
  {
   "cell_type": "markdown",
   "metadata": {
    "slideshow": {
     "slide_type": "slide"
    }
   },
   "source": [
    "### The Rollercoaster Problem\n",
    "Read the 2018 HiMCM Rollercoaster Problem located here:\n",
    "        \n",
    "https://www.comap.com/highschool/contests/himcm/2018problems.html\n",
    "\n",
    "Use Pandas to come up with a solution. You can also consult the Rollercoaster file in this directory."
   ]
  }
 ],
 "metadata": {
  "celltoolbar": "Slideshow",
  "kernelspec": {
   "display_name": "Python 3",
   "language": "python",
   "name": "python3"
  },
  "language_info": {
   "codemirror_mode": {
    "name": "ipython",
    "version": 3
   },
   "file_extension": ".py",
   "mimetype": "text/x-python",
   "name": "python",
   "nbconvert_exporter": "python",
   "pygments_lexer": "ipython3",
   "version": "3.7.3"
  }
 },
 "nbformat": 4,
 "nbformat_minor": 2
}
