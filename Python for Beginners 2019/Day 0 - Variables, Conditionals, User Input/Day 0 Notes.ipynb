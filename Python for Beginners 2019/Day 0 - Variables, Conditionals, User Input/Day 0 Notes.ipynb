{
 "cells": [
  {
   "cell_type": "markdown",
   "metadata": {
    "slideshow": {
     "slide_type": "slide"
    }
   },
   "source": [
    "### Lauren Shareshian\n",
    "Oregon Episcopal School\n",
    "Portland, OR\n",
    "\n",
    "Lakeside Academy:\n",
    "\n",
    "\"Since 2015, computer science concepts and principles have been embedded in the math curriculum, reflecting Lakeside’s belief that programming is an important 21st-century skill.\""
   ]
  },
  {
   "cell_type": "markdown",
   "metadata": {
    "slideshow": {
     "slide_type": "slide"
    }
   },
   "source": [
    "### Course Material Options\n",
    "- Go to Google Drive link and open with colaboratory\n",
    "- Go to www.cocalc.com and sign up with the email address I've been using to write to you\n",
    "- Eventually if you want it (**not today**) go to www.anaconda.com/distribution and download the Python 3.7 Graphical Installer version\n",
    "<img src=\"images/anaconda.png\" style=\"width: 400px;\"/>"
   ]
  },
  {
   "cell_type": "markdown",
   "metadata": {
    "slideshow": {
     "slide_type": "slide"
    }
   },
   "source": [
    "### Python For Beginners\n",
    "\n",
    "**Tentative Syllabus (subject to change)**\n",
    "\n",
    "Sunday: Get Python running (on cocalc or colab) & Learn Variables, Conditionals, User Input\n",
    "\n",
    "Monday: Functions\n",
    "\n",
    "Tuesday: Plotting\n",
    "\n",
    "Wednesday: Math Modeling & Iteration - Infectious Disease, Spread of Pollution\n",
    "\n",
    "Thursday: Random simulations, probability, craps\n",
    "\n",
    "Friday: Data analysis and statistics using pandas"
   ]
  },
  {
   "cell_type": "markdown",
   "metadata": {
    "slideshow": {
     "slide_type": "slide"
    }
   },
   "source": [
    "### What the heck is a Jupyter Notebook?\n",
    "\n",
    "It's is an open-source **web application** that allows you to create and share documents that contain **live code** and **narrative text** (use Code and Markdown dropdowns, respectively).\n",
    "\n",
    "The Notebook has support for **multiple languages**, including Python, R, and Scala.\n",
    "\n",
    "Your code can produce HTML, images, videos, **LaTeX** ($\\int_0^{\\pi} \\sin x dx $), etc.\n",
    "\n",
    "If you want to work with a Jupyter Notebook on your local machine, you can use **Anaconda**. If you want to work with it on the web, you can use **Google's Colaboratory** or www.cocalc.com (related to SageMath)."
   ]
  },
  {
   "cell_type": "markdown",
   "metadata": {
    "slideshow": {
     "slide_type": "slide"
    }
   },
   "source": [
    "What we'll cover today is variables, user input, and if/then statements.\n",
    "\n",
    "Below is an f-string that prints a statement about two stored variables:"
   ]
  },
  {
   "cell_type": "code",
   "execution_count": 5,
   "metadata": {
    "slideshow": {
     "slide_type": "fragment"
    }
   },
   "outputs": [
    {
     "name": "stdout",
     "output_type": "stream",
     "text": [
      "My number is 32 and double that number is 64.\n"
     ]
    }
   ],
   "source": [
    "number = 32\n",
    "double = 2*number\n",
    "print(f\"My number is {number} and double that number is {double}.\")"
   ]
  },
  {
   "cell_type": "markdown",
   "metadata": {
    "slideshow": {
     "slide_type": "slide"
    }
   },
   "source": [
    "We can also take in user input. If we want the user's input treated as an integer (as opposed to a word), we'll put \"int\" around input:"
   ]
  },
  {
   "cell_type": "code",
   "execution_count": 8,
   "metadata": {
    "slideshow": {
     "slide_type": "fragment"
    }
   },
   "outputs": [
    {
     "name": "stdout",
     "output_type": "stream",
     "text": [
      "Give me a number: 5\n",
      "Your number is 5 and double your number is 10.\n"
     ]
    }
   ],
   "source": [
    "number = int(input(\"Give me a number: \"))\n",
    "print(f\"Your number is {number} and double your number is {2*number}.\")"
   ]
  },
  {
   "cell_type": "markdown",
   "metadata": {
    "slideshow": {
     "slide_type": "slide"
    }
   },
   "source": [
    "Here's an if statement:"
   ]
  },
  {
   "cell_type": "code",
   "execution_count": 3,
   "metadata": {
    "slideshow": {
     "slide_type": "fragment"
    }
   },
   "outputs": [
    {
     "name": "stdout",
     "output_type": "stream",
     "text": [
      "Give me a number: 5\n",
      "Your number is positive.\n"
     ]
    }
   ],
   "source": [
    "number = int(input(\"Give me a number: \"))\n",
    "if number > 0:\n",
    "    print('Your number is positive.')"
   ]
  },
  {
   "cell_type": "markdown",
   "metadata": {
    "slideshow": {
     "slide_type": "slide"
    }
   },
   "source": [
    "Here's an if/else statement:"
   ]
  },
  {
   "cell_type": "code",
   "execution_count": 8,
   "metadata": {
    "slideshow": {
     "slide_type": "fragment"
    }
   },
   "outputs": [
    {
     "name": "stdout",
     "output_type": "stream",
     "text": [
      "Give me a number: -5\n",
      "Your number is less than or equal to zero.\n"
     ]
    }
   ],
   "source": [
    "number = int(input(\"Give me a number: \"))\n",
    "if number > 0:\n",
    "    print('Your number is positive.')\n",
    "else:\n",
    "    print('Your number is less than or equal to zero.')"
   ]
  },
  {
   "cell_type": "markdown",
   "metadata": {
    "slideshow": {
     "slide_type": "slide"
    }
   },
   "source": [
    "Here's an if/elif/else statement:"
   ]
  },
  {
   "cell_type": "code",
   "execution_count": 9,
   "metadata": {
    "slideshow": {
     "slide_type": "fragment"
    }
   },
   "outputs": [
    {
     "name": "stdout",
     "output_type": "stream",
     "text": [
      "Give me a number: -5\n",
      "Your number is less than zero.\n"
     ]
    }
   ],
   "source": [
    "number = int(input(\"Give me a number: \"))\n",
    "if number > 0:\n",
    "    print('Your number is positive.')\n",
    "elif number == 0:\n",
    "    print('Your number is zero.')\n",
    "else:\n",
    "    print('Your number is less than zero.')"
   ]
  },
  {
   "cell_type": "markdown",
   "metadata": {
    "slideshow": {
     "slide_type": "slide"
    }
   },
   "source": [
    "All if statements are tested:"
   ]
  },
  {
   "cell_type": "code",
   "execution_count": 11,
   "metadata": {
    "slideshow": {
     "slide_type": "fragment"
    }
   },
   "outputs": [
    {
     "name": "stdout",
     "output_type": "stream",
     "text": [
      "Your number is positive.\n",
      "Your number equals 5.\n"
     ]
    }
   ],
   "source": [
    "number = 5\n",
    "if number > 0:\n",
    "    print('Your number is positive.')\n",
    "if number == 5:\n",
    "    print('Your number equals 5.')\n",
    "if number == 10:\n",
    "    print('Your number equals 10.')"
   ]
  },
  {
   "cell_type": "markdown",
   "metadata": {
    "slideshow": {
     "slide_type": "slide"
    }
   },
   "source": [
    "Once a condition in an if/elif/else statement is satisfied, none of the conditions below are checked."
   ]
  },
  {
   "cell_type": "code",
   "execution_count": 15,
   "metadata": {
    "slideshow": {
     "slide_type": "fragment"
    }
   },
   "outputs": [
    {
     "name": "stdout",
     "output_type": "stream",
     "text": [
      "Your number is positive.\n"
     ]
    }
   ],
   "source": [
    "number = 5\n",
    "if number > 0:\n",
    "    print('Your number is positive.')\n",
    "elif number == 5:\n",
    "    print('Your number equals 5.')\n",
    "else:\n",
    "    print('Your number equals 10.')"
   ]
  },
  {
   "cell_type": "markdown",
   "metadata": {
    "slideshow": {
     "slide_type": "slide"
    }
   },
   "source": [
    "Modulo gives the remainder when the first number is divided by the second number.\n",
    "- Even number % 2 is always zero.\n",
    "- Odd number % 2 is always one.\n",
    "- Number % one of its factors is always zero.\n"
   ]
  },
  {
   "cell_type": "code",
   "execution_count": 13,
   "metadata": {
    "slideshow": {
     "slide_type": "fragment"
    }
   },
   "outputs": [
    {
     "name": "stdout",
     "output_type": "stream",
     "text": [
      "0\n",
      "1\n",
      "0\n"
     ]
    }
   ],
   "source": [
    "print(8%2)\n",
    "print(7%2)\n",
    "print(21%3)"
   ]
  },
  {
   "cell_type": "markdown",
   "metadata": {
    "slideshow": {
     "slide_type": "slide"
    }
   },
   "source": [
    "To test even or odd:"
   ]
  },
  {
   "cell_type": "code",
   "execution_count": 14,
   "metadata": {
    "slideshow": {
     "slide_type": "fragment"
    }
   },
   "outputs": [
    {
     "name": "stdout",
     "output_type": "stream",
     "text": [
      "Give me a number: 5\n",
      "Your number is odd.\n"
     ]
    }
   ],
   "source": [
    "number = int(input(\"Give me a number: \"))\n",
    "if number % 2 == 0:\n",
    "    print('Your number is even.')\n",
    "else:\n",
    "    print('Your number is odd.')"
   ]
  }
 ],
 "metadata": {
  "celltoolbar": "Slideshow",
  "kernelspec": {
   "display_name": "Python 3",
   "language": "python",
   "name": "python3"
  },
  "language_info": {
   "codemirror_mode": {
    "name": "ipython",
    "version": 3
   },
   "file_extension": ".py",
   "mimetype": "text/x-python",
   "name": "python",
   "nbconvert_exporter": "python",
   "pygments_lexer": "ipython3",
   "version": "3.7.3"
  }
 },
 "nbformat": 4,
 "nbformat_minor": 2
}
