{
 "cells": [
  {
   "cell_type": "markdown",
   "metadata": {
    "slideshow": {
     "slide_type": "slide"
    }
   },
   "source": [
    "### Day 4: More Logic and Simulations\n",
    "Run the cell below to import the required packages for this notebook:"
   ]
  },
  {
   "cell_type": "code",
   "execution_count": 39,
   "metadata": {
    "slideshow": {
     "slide_type": "fragment"
    }
   },
   "outputs": [],
   "source": [
    "# the plotting package is matplotlib:\n",
    "import matplotlib.pyplot as plt \n",
    "# the next line allows you to view the plots more easily:\n",
    "%matplotlib inline\n",
    "# the numpy package has import math stuff in it:\n",
    "import numpy as np \n",
    "# the pandas package allows us to do spreadsheet stuff:\n",
    "import pandas as pd\n",
    "#the random package\n",
    "import random\n"
   ]
  },
  {
   "cell_type": "markdown",
   "metadata": {
    "slideshow": {
     "slide_type": "slide"
    }
   },
   "source": [
    "\n",
    "Let's review an exercise from yesterday:\n",
    "### Exercise 11 - Multiples\n",
    "Write a function called multiples_of_m that that takes in integers m and n and returns a list containing all of the multiples of m between 0 and n, inclusive.\n",
    "\n",
    "Here's one solution:"
   ]
  },
  {
   "cell_type": "code",
   "execution_count": 40,
   "metadata": {
    "slideshow": {
     "slide_type": "fragment"
    }
   },
   "outputs": [
    {
     "data": {
      "text/plain": [
       "[0, 3, 6, 9, 12, 15, 18, 21]"
      ]
     },
     "execution_count": 40,
     "metadata": {},
     "output_type": "execute_result"
    }
   ],
   "source": [
    "def multiples_of_m(m, n):\n",
    "    multiples = []\n",
    "    for i in range(n+1):\n",
    "        if i % m == 0:\n",
    "            multiples.append(i)\n",
    "            \n",
    "    return multiples\n",
    "\n",
    "multiples_of_m(3, 21)"
   ]
  },
  {
   "cell_type": "markdown",
   "metadata": {
    "slideshow": {
     "slide_type": "slide"
    }
   },
   "source": [
    "Here's another solution by referencing the last item in the list:"
   ]
  },
  {
   "cell_type": "code",
   "execution_count": 41,
   "metadata": {
    "slideshow": {
     "slide_type": "fragment"
    }
   },
   "outputs": [
    {
     "data": {
      "text/plain": [
       "[0, 3, 6, 9, 12, 15, 18, 21]"
      ]
     },
     "execution_count": 41,
     "metadata": {},
     "output_type": "execute_result"
    }
   ],
   "source": [
    "def multiples_of_m(m, n):\n",
    "    \n",
    "    multiples = [0]\n",
    "    \n",
    "    steps = int(n/m)\n",
    "    \n",
    "    for i in range(steps):\n",
    "        multiples.append(multiples[-1]+m)\n",
    "            \n",
    "    return multiples\n",
    "\n",
    "multiples_of_m(3, 21)"
   ]
  },
  {
   "cell_type": "markdown",
   "metadata": {
    "slideshow": {
     "slide_type": "slide"
    }
   },
   "source": [
    "Sometimes, we may need a double for loop to complete tasks (think: filling up a matrix!). To do that, we'll use 2 different counter variables, often denoted by i and j:"
   ]
  },
  {
   "cell_type": "code",
   "execution_count": 42,
   "metadata": {
    "slideshow": {
     "slide_type": "fragment"
    }
   },
   "outputs": [
    {
     "name": "stdout",
     "output_type": "stream",
     "text": [
      "0 0\n",
      "0 1\n",
      "0 2\n",
      "0 3\n",
      "0 4\n",
      "1 0\n",
      "1 1\n",
      "1 2\n",
      "1 3\n",
      "1 4\n",
      "2 0\n",
      "2 1\n",
      "2 2\n",
      "2 3\n",
      "2 4\n"
     ]
    }
   ],
   "source": [
    "for i in range(3):\n",
    "    for j in range(5):\n",
    "        print(i,j)"
   ]
  },
  {
   "cell_type": "markdown",
   "metadata": {
    "slideshow": {
     "slide_type": "slide"
    }
   },
   "source": [
    "We can use a double for loop to create multiplication tables:"
   ]
  },
  {
   "cell_type": "code",
   "execution_count": 43,
   "metadata": {
    "slideshow": {
     "slide_type": "fragment"
    }
   },
   "outputs": [
    {
     "name": "stdout",
     "output_type": "stream",
     "text": [
      "0x0=0\n",
      "0x1=0\n",
      "0x2=0\n",
      "0x3=0\n",
      "1x0=0\n",
      "1x1=1\n",
      "1x2=2\n",
      "1x3=3\n",
      "2x0=0\n",
      "2x1=2\n",
      "2x2=4\n",
      "2x3=6\n",
      "3x0=0\n",
      "3x1=3\n",
      "3x2=6\n",
      "3x3=9\n",
      "4x0=0\n",
      "4x1=4\n",
      "4x2=8\n",
      "4x3=12\n"
     ]
    }
   ],
   "source": [
    "def mult_tables(m,n):\n",
    "    for i in range(m+1):\n",
    "        for j in range(n+1):\n",
    "            print(f\"{i}x{j}={i*j}\")\n",
    "            \n",
    "mult_tables(4,3)"
   ]
  },
  {
   "cell_type": "markdown",
   "metadata": {
    "slideshow": {
     "slide_type": "slide"
    }
   },
   "source": [
    "### Exercise 1 - Triple for loop\n",
    "\n",
    "Create a TRIPLE for loop that goes through 3 iterations in the outer loop, 4 in the middle loop, and 2 in the inner most loop.\n",
    "\n",
    "How many total iterations do the loops make? Use a counter variable to keep track of how many times the loop executes."
   ]
  },
  {
   "cell_type": "code",
   "execution_count": 10,
   "metadata": {
    "slideshow": {
     "slide_type": "fragment"
    }
   },
   "outputs": [],
   "source": [
    "#insert exercise 1"
   ]
  },
  {
   "cell_type": "markdown",
   "metadata": {
    "slideshow": {
     "slide_type": "slide"
    }
   },
   "source": [
    "Let's return to our factor function that prints factors of a given integer n:"
   ]
  },
  {
   "cell_type": "code",
   "execution_count": 60,
   "metadata": {
    "slideshow": {
     "slide_type": "fragment"
    }
   },
   "outputs": [
    {
     "name": "stdout",
     "output_type": "stream",
     "text": [
      "1\n",
      "7\n",
      "49\n"
     ]
    }
   ],
   "source": [
    "def factors(n):\n",
    "    for i in range(1,n+1):\n",
    "        if n % i == 0:\n",
    "            print(i)\n",
    "factors(49)"
   ]
  },
  {
   "cell_type": "markdown",
   "metadata": {
    "slideshow": {
     "slide_type": "slide"
    }
   },
   "source": [
    "How would we figure out if a number is prime or not? Well all numbers are divisible by 1 and themselves, so we would want to exclude those from our range when printing out possible divisors:"
   ]
  },
  {
   "cell_type": "code",
   "execution_count": 61,
   "metadata": {
    "slideshow": {
     "slide_type": "fragment"
    }
   },
   "outputs": [
    {
     "name": "stdout",
     "output_type": "stream",
     "text": [
      "7\n"
     ]
    }
   ],
   "source": [
    "def factors(n):\n",
    "    for i in range(2,n):\n",
    "        if n % i == 0:\n",
    "            print(i)\n",
    "factors(49)"
   ]
  },
  {
   "cell_type": "markdown",
   "metadata": {
    "slideshow": {
     "slide_type": "slide"
    }
   },
   "source": [
    "Then, as soon as we find the first divisor of the number, we conclude that our number is NOT prime:"
   ]
  },
  {
   "cell_type": "code",
   "execution_count": 62,
   "metadata": {
    "slideshow": {
     "slide_type": "fragment"
    }
   },
   "outputs": [
    {
     "name": "stdout",
     "output_type": "stream",
     "text": [
      "7 is a factor! Thus, 49 is NOT prime!\n"
     ]
    }
   ],
   "source": [
    "def factors(n):\n",
    "    for i in range(2,n):\n",
    "        if n % i == 0:\n",
    "            print(f\"{i} is a factor! Thus, {n} is NOT prime!\")\n",
    "factors(49)"
   ]
  },
  {
   "cell_type": "markdown",
   "metadata": {
    "slideshow": {
     "slide_type": "slide"
    }
   },
   "source": [
    "A Boolean (True/False) is a popular way to keep of track of whether your number is prime or not. We'll start out assuming that our number is prime, but if we find even one number that is a divisor, we will turn our assumption to NOT prime:"
   ]
  },
  {
   "cell_type": "code",
   "execution_count": 63,
   "metadata": {
    "slideshow": {
     "slide_type": "fragment"
    }
   },
   "outputs": [
    {
     "name": "stdout",
     "output_type": "stream",
     "text": [
      "False\n",
      "True\n"
     ]
    }
   ],
   "source": [
    "def is_prime(n):\n",
    "    prime = True\n",
    "    for i in range(2,n):\n",
    "        if n % i == 0:\n",
    "            prime = False\n",
    "    return prime\n",
    "\n",
    "print(is_prime(49))\n",
    "print(is_prime(7))"
   ]
  },
  {
   "cell_type": "markdown",
   "metadata": {
    "slideshow": {
     "slide_type": "slide"
    }
   },
   "source": [
    "### In-class Questions\n",
    "Q1: There are many ways to make this algorithm more efficient. Can you think of a few?\n",
    "\n",
    "Q2: Why wouldn't it work if we started out assuming that the number was NOT prime and changed our assumption to IS prime for the first non-divisor we found? "
   ]
  },
  {
   "cell_type": "markdown",
   "metadata": {
    "slideshow": {
     "slide_type": "subslide"
    }
   },
   "source": [
    "Q1 answer: Some possibilities are a.) Only checking for divisors up to $\\sqrt n$ instead of $n$ and b.) Exiting the loop as soon as we find the first factor rather continuing all the way to $n$.\n",
    "\n",
    "Q2 answer: 6 would falsely be classified as prime because the last number that our algorithm would check, 5, does not go into 6 evenly."
   ]
  },
  {
   "cell_type": "markdown",
   "metadata": {
    "slideshow": {
     "slide_type": "slide"
    }
   },
   "source": [
    "Recall our dog loop from yesterday:"
   ]
  },
  {
   "cell_type": "code",
   "execution_count": 45,
   "metadata": {
    "slideshow": {
     "slide_type": "fragment"
    }
   },
   "outputs": [
    {
     "name": "stdout",
     "output_type": "stream",
     "text": [
      "border collie\n",
      "australian cattle dog\n",
      "labrador retriever\n"
     ]
    }
   ],
   "source": [
    "dogs = ['border collie', 'australian cattle dog', 'labrador retriever']\n",
    "for dog in dogs:\n",
    "    print(dog)"
   ]
  },
  {
   "cell_type": "markdown",
   "metadata": {
    "slideshow": {
     "slide_type": "slide"
    }
   },
   "source": [
    "There is another way to refer to items in a list other than \"for doggie in dogs\" or \"for item in list_of_items.\" We can also reference the index. Here's an example:"
   ]
  },
  {
   "cell_type": "code",
   "execution_count": 46,
   "metadata": {
    "slideshow": {
     "slide_type": "fragment"
    }
   },
   "outputs": [
    {
     "name": "stdout",
     "output_type": "stream",
     "text": [
      "border collie\n",
      "australian cattle dog\n",
      "labrador retriever\n"
     ]
    }
   ],
   "source": [
    "dogs = ['border collie', 'australian cattle dog', 'labrador retriever']\n",
    "for i in range(len(dogs)):\n",
    "    print(dogs[i])"
   ]
  },
  {
   "cell_type": "markdown",
   "metadata": {
    "slideshow": {
     "slide_type": "slide"
    }
   },
   "source": [
    "Similarly, to print a list of expenses:"
   ]
  },
  {
   "cell_type": "code",
   "execution_count": 47,
   "metadata": {
    "slideshow": {
     "slide_type": "fragment"
    }
   },
   "outputs": [
    {
     "name": "stdout",
     "output_type": "stream",
     "text": [
      "20\n",
      "100\n",
      "-50\n",
      "0\n",
      "80\n"
     ]
    }
   ],
   "source": [
    "expenses = [20, 100, -50, 0, 80]\n",
    "\n",
    "for i in range(len(expenses)):\n",
    "    print(expenses[i])"
   ]
  },
  {
   "cell_type": "markdown",
   "metadata": {
    "slideshow": {
     "slide_type": "slide"
    }
   },
   "source": [
    "We can count up the expenses by typing:"
   ]
  },
  {
   "cell_type": "code",
   "execution_count": 48,
   "metadata": {
    "slideshow": {
     "slide_type": "fragment"
    }
   },
   "outputs": [
    {
     "name": "stdout",
     "output_type": "stream",
     "text": [
      "150\n"
     ]
    }
   ],
   "source": [
    "expenses = [20, 100, -50, 0, 80]\n",
    "\n",
    "balance = 0\n",
    "for i in range(len(expenses)):\n",
    "    balance = balance + expenses[i]\n",
    "print(balance)"
   ]
  },
  {
   "cell_type": "markdown",
   "metadata": {
    "slideshow": {
     "slide_type": "slide"
    }
   },
   "source": [
    "### Exercise 2 - Bank Balance\n",
    "\n",
    "Suppose your list of expenses ```expenses = [20, 100, -50, 0, 80]``` and you start out with $500 in your bank account. Print out your final balance using a \"for i in range(len(expenses))\" statement."
   ]
  },
  {
   "cell_type": "code",
   "execution_count": 9,
   "metadata": {
    "slideshow": {
     "slide_type": "fragment"
    }
   },
   "outputs": [],
   "source": [
    "#insert exercise 2"
   ]
  },
  {
   "cell_type": "markdown",
   "metadata": {
    "slideshow": {
     "slide_type": "slide"
    }
   },
   "source": [
    "This np.arange function will help us create an Euler's method.\n",
    "\n",
    "Recall that Euler's method lets us approximate the solution to the differential equation $\\frac{dy}{dx}=f(x)$ given the initial $f(x_0)=y_0$ and a step size of $h$ using the difference equations:\n",
    "\n",
    "$ x_{n+1}=x_n+h $\n",
    "\n",
    "$ y_{n+1}=y_n+hf(x_n,y_n) $\n",
    "\n"
   ]
  },
  {
   "cell_type": "markdown",
   "metadata": {
    "slideshow": {
     "slide_type": "slide"
    }
   },
   "source": [
    "Here's an Euler's method approximation of $\\frac{dy}{dx}=\\sin(x)$ given the initial condition $f(0)=1$ and a step size of $h=0.5$ for ending at $x=2$:"
   ]
  },
  {
   "cell_type": "code",
   "execution_count": 50,
   "metadata": {
    "slideshow": {
     "slide_type": "fragment"
    }
   },
   "outputs": [
    {
     "name": "stdout",
     "output_type": "stream",
     "text": [
      "0 1\n",
      "0.5 1.0\n",
      "1.0 1.2397127693021015\n",
      "1.5 1.6604482617060499\n",
      "2.0 2.159195755008077\n"
     ]
    }
   ],
   "source": [
    "def euler(f,x0,y0,h,xn):\n",
    "    x = [x0]\n",
    "    y = [y0]\n",
    "    print(x[0],y[0])\n",
    "    steps = int((xn-x0)/h)\n",
    "    \n",
    "    for i in range(1,steps+1):\n",
    "        x_new = x[i-1]+h\n",
    "        y_new = y[i-1]+h*f(x[i-1])\n",
    "        \n",
    "        x.append(x_new)\n",
    "        y.append(y_new)\n",
    "        print(x[i], y[i])\n",
    "\n",
    "euler(np.sin, 0, 1, 0.5, 2)"
   ]
  },
  {
   "cell_type": "markdown",
   "metadata": {
    "slideshow": {
     "slide_type": "slide"
    }
   },
   "source": [
    "We can then plot the coordinates:"
   ]
  },
  {
   "cell_type": "code",
   "execution_count": 51,
   "metadata": {
    "slideshow": {
     "slide_type": "fragment"
    }
   },
   "outputs": [
    {
     "data": {
      "image/png": "[encoded data removed]",
      "text/plain": [
       "<Figure size 432x288 with 1 Axes>"
      ]
     },
     "metadata": {
      "needs_background": "light"
     },
     "output_type": "display_data"
    }
   ],
   "source": [
    "def euler(f,x0,y0,h,xn):\n",
    "    x = [x0]\n",
    "    y = [y0]\n",
    "    steps = int((xn-x0)/h)\n",
    "    \n",
    "    for i in range(1,steps+1):\n",
    "        x_new = x[i-1]+h\n",
    "        y_new = y[i-1]+h*f(x[i-1])\n",
    "        \n",
    "        x.append(x_new)\n",
    "        y.append(y_new)\n",
    "    plt.plot(x,y,'r.')\n",
    "\n",
    "euler(np.sin, 0, 1, 0.5, 2)"
   ]
  },
  {
   "cell_type": "markdown",
   "metadata": {
    "slideshow": {
     "slide_type": "slide"
    }
   },
   "source": [
    "How does the Euler's method approximation compare to the true solution $y=2-\\cos(x)$?"
   ]
  },
  {
   "cell_type": "code",
   "execution_count": 52,
   "metadata": {
    "slideshow": {
     "slide_type": "fragment"
    }
   },
   "outputs": [
    {
     "data": {
      "image/png": "[encoded data removed]",
      "text/plain": [
       "<Figure size 432x288 with 1 Axes>"
      ]
     },
     "metadata": {
      "needs_background": "light"
     },
     "output_type": "display_data"
    }
   ],
   "source": [
    "def euler(f,x0,y0,h,xn):\n",
    "    x = [x0]\n",
    "    y = [y0]\n",
    "    steps = int((xn-x0)/h)\n",
    "    \n",
    "    for i in range(1,steps+1):\n",
    "        x_new = x[i-1]+h\n",
    "        y_new = y[i-1]+h*f(x[i-1])\n",
    "        \n",
    "        x.append(x_new)\n",
    "        y.append(y_new)\n",
    "    plt.plot(x,y,'r.')\n",
    "    plt.plot(x,2-np.cos(x),'b.')\n",
    "\n",
    "euler(np.sin, 0, 1, 0.5, 2)"
   ]
  },
  {
   "cell_type": "markdown",
   "metadata": {
    "slideshow": {
     "slide_type": "slide"
    }
   },
   "source": [
    "As another example, suppose I want to create the Fibonacci sequence by referencing the last two items in my list and adding them:"
   ]
  },
  {
   "cell_type": "code",
   "execution_count": 53,
   "metadata": {
    "slideshow": {
     "slide_type": "fragment"
    }
   },
   "outputs": [
    {
     "data": {
      "text/plain": [
       "[1, 1, 2, 3, 5, 8, 13]"
      ]
     },
     "execution_count": 53,
     "metadata": {},
     "output_type": "execute_result"
    }
   ],
   "source": [
    "def fibonacci(n):\n",
    "    sequence = [1,1]\n",
    "    for i in range(2,n):\n",
    "        sequence.append(sequence[i-1]+sequence[i-2])\n",
    "    return sequence\n",
    "\n",
    "fibonacci(7)"
   ]
  },
  {
   "cell_type": "markdown",
   "metadata": {
    "slideshow": {
     "slide_type": "slide"
    }
   },
   "source": [
    "### Exercise 3 - Triple Fibonacci\n",
    "Assume the first three terms of the sequence are 1, 1, and 1. Generate the next term in the sequence by summing the previous THREE terms. Create a function called triple_fibonnaci that takes in a positive integer n greater than three and returns a list containing the first n terms of this sequence."
   ]
  },
  {
   "cell_type": "code",
   "execution_count": 8,
   "metadata": {
    "slideshow": {
     "slide_type": "fragment"
    }
   },
   "outputs": [],
   "source": [
    "#insert exercise 3"
   ]
  },
  {
   "cell_type": "markdown",
   "metadata": {
    "slideshow": {
     "slide_type": "slide"
    }
   },
   "source": [
    "### Exercise 4 - Euler's plot\n",
    "Given $f(x)=\\cos(x)$ with $f(0)=2$ and a step size of $0.25$ until $x=3$, plot the Euler's method approximation coordinates versus the true solution, $f(x)=\\sin x + 2$."
   ]
  },
  {
   "cell_type": "code",
   "execution_count": 7,
   "metadata": {
    "slideshow": {
     "slide_type": "fragment"
    }
   },
   "outputs": [],
   "source": [
    "#insert exercise 4"
   ]
  },
  {
   "cell_type": "markdown",
   "metadata": {
    "slideshow": {
     "slide_type": "slide"
    }
   },
   "source": [
    "### Exercise 5 - Left hand sum (calculus application)\n",
    "Write a program called LHS that takes in a function, a left boundary a, a right boundary b, and the number of rectangles, n, and returns the left hand sum approximation for $\\int_a^b f(x)dx \\approx \\sum_{i=1}^nf(x_{i-1})\\Delta x$. For example, LHS(square,1,5,8) should return 35.5."
   ]
  },
  {
   "cell_type": "code",
   "execution_count": 6,
   "metadata": {
    "slideshow": {
     "slide_type": "fragment"
    }
   },
   "outputs": [],
   "source": [
    "#insert exercise 5"
   ]
  },
  {
   "cell_type": "markdown",
   "metadata": {
    "slideshow": {
     "slide_type": "fragment"
    }
   },
   "source": [
    "### In-class Exercise: Great Lakes Pollution or SIRS Infectious Disease\n",
    "Look at Great Lakes Problem (precal) or the SIRS infectious disease problem (calc). Use iteration and plotting to view the solution. First, do the iteration in a spreadsheet and THEN do it in Python."
   ]
  },
  {
   "cell_type": "markdown",
   "metadata": {
    "slideshow": {
     "slide_type": "slide"
    }
   },
   "source": [
    "### Extra Probability and Statistics Lessons are Below"
   ]
  },
  {
   "cell_type": "markdown",
   "metadata": {
    "slideshow": {
     "slide_type": "slide"
    }
   },
   "source": [
    "There are a tremendous amount of built-in functions to Python and the NumPy package that allow you to do calculations very quickly. For example, consider the operations on the following list of numbers:"
   ]
  },
  {
   "cell_type": "code",
   "execution_count": 57,
   "metadata": {
    "slideshow": {
     "slide_type": "fragment"
    }
   },
   "outputs": [
    {
     "name": "stdout",
     "output_type": "stream",
     "text": [
      "Max: 30\n",
      "Min: -20\n",
      "Mean: 2.142857142857143\n",
      "Another Mean: 2.142857142857143\n",
      "Median: 5.0\n",
      "Standard Deviation: 16.22545241657221\n"
     ]
    }
   ],
   "source": [
    "import numpy as np\n",
    "\n",
    "numbers = [5, 10, 5, 5, -20, 30, -20]\n",
    "print(f\"Max: {max(numbers)}\")\n",
    "print(f\"Min: {min(numbers)}\")\n",
    "print(f\"Mean: {sum(numbers)/len(numbers)}\")\n",
    "print(f\"Another Mean: {np.mean(numbers)}\")\n",
    "print(f\"Median: {np.median(numbers)}\")\n",
    "print(f\"Standard Deviation: {np.std(numbers)}\")"
   ]
  },
  {
   "cell_type": "markdown",
   "metadata": {
    "slideshow": {
     "slide_type": "slide"
    }
   },
   "source": [
    "That being said, it is helpful to understand the logic behind some of these built-in functions. For example, how would we calculate the maximum number in a list?"
   ]
  },
  {
   "cell_type": "code",
   "execution_count": 58,
   "metadata": {
    "slideshow": {
     "slide_type": "fragment"
    }
   },
   "outputs": [
    {
     "data": {
      "text/plain": [
       "30"
      ]
     },
     "execution_count": 58,
     "metadata": {},
     "output_type": "execute_result"
    }
   ],
   "source": [
    "def maximum(numbers):\n",
    "    current_max = numbers[0]\n",
    "    for number in numbers:\n",
    "        if number > current_max:\n",
    "            current_max = number\n",
    "    return current_max\n",
    "\n",
    "numbers = [5, 10, 5, 5, -20, 30, -20]\n",
    "maximum(numbers)"
   ]
  },
  {
   "cell_type": "markdown",
   "metadata": {
    "slideshow": {
     "slide_type": "slide"
    }
   },
   "source": [
    "How would we calculate the mean? Keep a running tally going."
   ]
  },
  {
   "cell_type": "code",
   "execution_count": 59,
   "metadata": {
    "slideshow": {
     "slide_type": "fragment"
    }
   },
   "outputs": [
    {
     "data": {
      "text/plain": [
       "2.142857142857143"
      ]
     },
     "execution_count": 59,
     "metadata": {},
     "output_type": "execute_result"
    }
   ],
   "source": [
    "def mean(numbers):\n",
    "    length = 0\n",
    "    tally = 0\n",
    "    for number in numbers:\n",
    "        tally = tally + number\n",
    "        length = length + 1\n",
    "    return tally / length\n",
    "\n",
    "numbers = [5, 10, 5, 5, -20, 30, -20]\n",
    "mean(numbers)"
   ]
  },
  {
   "cell_type": "markdown",
   "metadata": {
    "slideshow": {
     "slide_type": "slide"
    }
   },
   "source": [
    "### The Random Package\n",
    "We mentioned that the numpy package contains functions like median and standard deviation that are useful. The random package also contains functions that will be very helpful for simulations.\n",
    "\n",
    "To generate a random number between 0 and 1, we can use the random package:"
   ]
  },
  {
   "cell_type": "code",
   "execution_count": 64,
   "metadata": {
    "slideshow": {
     "slide_type": "fragment"
    }
   },
   "outputs": [
    {
     "name": "stdout",
     "output_type": "stream",
     "text": [
      "0.16028653575647467\n"
     ]
    }
   ],
   "source": [
    "print(random.random())"
   ]
  },
  {
   "cell_type": "markdown",
   "metadata": {
    "slideshow": {
     "slide_type": "slide"
    }
   },
   "source": [
    "To generate five random numbers, we could create a loop:"
   ]
  },
  {
   "cell_type": "code",
   "execution_count": 65,
   "metadata": {
    "slideshow": {
     "slide_type": "fragment"
    }
   },
   "outputs": [
    {
     "name": "stdout",
     "output_type": "stream",
     "text": [
      "0.04540330267255965\n",
      "0.6030804282324361\n",
      "0.4490443737436458\n",
      "0.602133225605445\n",
      "0.10769836088479967\n"
     ]
    }
   ],
   "source": [
    "import random\n",
    "\n",
    "for i in range(5):\n",
    "    print(random.random())"
   ]
  },
  {
   "cell_type": "markdown",
   "metadata": {
    "slideshow": {
     "slide_type": "slide"
    }
   },
   "source": [
    "To simulate five rolls of a die between 1 and 6, inclusive, type:"
   ]
  },
  {
   "cell_type": "code",
   "execution_count": 66,
   "metadata": {
    "slideshow": {
     "slide_type": "fragment"
    }
   },
   "outputs": [
    {
     "name": "stdout",
     "output_type": "stream",
     "text": [
      "2\n",
      "2\n",
      "6\n",
      "3\n",
      "4\n"
     ]
    }
   ],
   "source": [
    "import random\n",
    "\n",
    "for i in range(5):\n",
    "    print(random.randint(1,6))"
   ]
  },
  {
   "cell_type": "markdown",
   "metadata": {
    "slideshow": {
     "slide_type": "slide"
    }
   },
   "source": [
    "We can also use the random function to pick random elements from a list. For example, to pick a random student's name from a group of 5 students, we could type:"
   ]
  },
  {
   "cell_type": "code",
   "execution_count": 67,
   "metadata": {
    "slideshow": {
     "slide_type": "fragment"
    }
   },
   "outputs": [
    {
     "name": "stdout",
     "output_type": "stream",
     "text": [
      "Abby\n"
     ]
    }
   ],
   "source": [
    "students = ['Jack', 'Abby', 'Mary', 'Peter', \"Stella\"]\n",
    "print(random.choice(students))"
   ]
  },
  {
   "cell_type": "markdown",
   "metadata": {
    "slideshow": {
     "slide_type": "slide"
    }
   },
   "source": [
    "If I wanted to generate two random names from the list, I could use the sample method, which samples without replacement:"
   ]
  },
  {
   "cell_type": "code",
   "execution_count": 68,
   "metadata": {
    "slideshow": {
     "slide_type": "fragment"
    }
   },
   "outputs": [
    {
     "name": "stdout",
     "output_type": "stream",
     "text": [
      "['Abby', 'Jack']\n"
     ]
    }
   ],
   "source": [
    "students = ['Jack', 'Abby', 'Mary', 'Peter', \"Stella\"]\n",
    "print(random.sample(students,2))"
   ]
  },
  {
   "cell_type": "markdown",
   "metadata": {
    "slideshow": {
     "slide_type": "slide"
    }
   },
   "source": [
    "Suppose you want to simulate rolling a die and add each die roll to a list. Yes, you can create a list of numbers 1,2,3,4,5, and 6, but if you do rand(sample, 3), then you'll never get the same number twice, which doesn't make sense, since the rolls of the dice are independent of each other. To randomly generate ten rolls and add them to a list, where some numbers may be the same, type:"
   ]
  },
  {
   "cell_type": "code",
   "execution_count": 69,
   "metadata": {
    "slideshow": {
     "slide_type": "fragment"
    }
   },
   "outputs": [
    {
     "name": "stdout",
     "output_type": "stream",
     "text": [
      "[2, 4, 4, 2, 5, 3, 2, 3, 3, 4]\n"
     ]
    }
   ],
   "source": [
    "rolls = []\n",
    "for i in range(10):\n",
    "    rolls.append(random.randint(1,6))\n",
    "print(rolls)"
   ]
  },
  {
   "cell_type": "markdown",
   "metadata": {
    "slideshow": {
     "slide_type": "slide"
    }
   },
   "source": [
    "What if it wasn't a fair die? What if the probability of getting each number was given by:\n",
    "\n",
    "|  Die Face |Probability   |\n",
    "|---   |---   |\n",
    "|1 |0.05  | \n",
    "|2 | 0.05 |\n",
    "|3 |0.50  |\n",
    "|4 | 0.10 |\n",
    "|5 |0.20  |\n",
    "|6 | 0.10 |\n",
    "\n",
    "Then we would select numbers between 0 and 99 based on the above probabilities. For example, since there is a 5% chance that we will roll a 1, we'll assign the numbers 0,1,2,3, and 4 to the die roll 1. Here are fifty rolls:"
   ]
  },
  {
   "cell_type": "code",
   "execution_count": 70,
   "metadata": {
    "slideshow": {
     "slide_type": "subslide"
    }
   },
   "outputs": [
    {
     "name": "stdout",
     "output_type": "stream",
     "text": [
      "[3, 3, 3, 6, 5, 4, 3, 3, 5, 3, 3, 1, 2, 1, 5, 5, 5, 3, 4, 4, 3, 6, 3, 3, 4, 4, 5, 5, 6, 3, 3, 3, 5, 3, 3, 1, 3, 3, 3, 3, 3, 5, 3, 1, 6, 3, 3, 2, 3, 2]\n"
     ]
    }
   ],
   "source": [
    "rolls = []\n",
    "for i in range(50):\n",
    "    roll = random.randint(0,99)\n",
    "    if 0 <= roll < 5:\n",
    "        rolls.append(1)\n",
    "    if 5 <= roll < 10:\n",
    "        rolls.append(2)\n",
    "    if 10 <= roll < 60:\n",
    "        rolls.append(3)\n",
    "    if 60 <= roll < 70:\n",
    "        rolls.append(4)\n",
    "    if 70 <= roll < 90:\n",
    "        rolls.append(5)\n",
    "    if 90 <= roll < 100:\n",
    "        rolls.append(6)\n",
    "print(rolls)"
   ]
  },
  {
   "cell_type": "markdown",
   "metadata": {
    "slideshow": {
     "slide_type": "slide"
    }
   },
   "source": [
    "What was our average die roll?"
   ]
  },
  {
   "cell_type": "code",
   "execution_count": 71,
   "metadata": {
    "slideshow": {
     "slide_type": "fragment"
    }
   },
   "outputs": [
    {
     "name": "stdout",
     "output_type": "stream",
     "text": [
      "3.48\n"
     ]
    }
   ],
   "source": [
    "print(np.mean(rolls))"
   ]
  },
  {
   "cell_type": "markdown",
   "metadata": {
    "slideshow": {
     "slide_type": "slide"
    }
   },
   "source": [
    "### Expected Value\n",
    "\n",
    "Let's go back to a fair die:\n",
    "\n",
    "|  Die Face |Probability   |\n",
    "|---   |---   |\n",
    "|1 |1/6  | \n",
    "|2 | 1/6 |\n",
    "|3 |1/6  |\n",
    "|4 | 1/6 |\n",
    "|5 |1/6  |\n",
    "|6 | 1/6 |\n",
    "\n",
    "\n",
    "We can calculate the expected value of the die face by adding the products of the face value times the probabilities of getting that face value: (1)(1)(1/6)+(2)(1/6)+(3)(1/6)+(4)(1/6)+(5)(1/6)+(6)(1/6) = 3.5.\n",
    "\n",
    "Consider the following scenario. You bet a dollar to play a game. If you roll a die and get a six, then you win 5 dollars. If you roll any other number, you lose your dollar. What are the theoretical probabilities?\n",
    "\n",
    "|  Earnings |Probability   |\n",
    "|---   |---   |\n",
    "|-1 |5/6  | \n",
    "|5 | 1/6 |\n",
    "\n",
    "Now, the expected value of your earnings would be (-1)(5/6)+(5)(1/6) = 0 dollars."
   ]
  },
  {
   "cell_type": "markdown",
   "metadata": {
    "slideshow": {
     "slide_type": "slide"
    }
   },
   "source": [
    "### In-class Exercise: \n",
    "\n",
    "Simulate this game numerically. Initialize your earnings to zero and randomly roll a die (i.e., generate a random number between 1 and 6). If we roll a 6, we'll give ourselves five dollars; otherwise, we'll lose a dollar. Roll the die 10000 times to see that we get an experimental average earning of close to zero. \n",
    "\n",
    "Bonus: Can you plot your average earnings versus your roll number?"
   ]
  },
  {
   "cell_type": "code",
   "execution_count": 72,
   "metadata": {
    "slideshow": {
     "slide_type": "slide"
    }
   },
   "outputs": [
    {
     "name": "stdout",
     "output_type": "stream",
     "text": [
      "-0.0016\n"
     ]
    },
    {
     "data": {
      "text/plain": [
       "[<matplotlib.lines.Line2D at 0x10761e400>]"
      ]
     },
     "execution_count": 72,
     "metadata": {},
     "output_type": "execute_result"
    },
    {
     "data": {
      "image/png": "[encoded data removed]",
      "text/plain": [
       "<Figure size 432x288 with 1 Axes>"
      ]
     },
     "metadata": {
      "needs_background": "light"
     },
     "output_type": "display_data"
    }
   ],
   "source": [
    "earnings = 0\n",
    "avg_earnings = [0]\n",
    "number_of_sims = [0]\n",
    "\n",
    "for i in range(10000):\n",
    "    \n",
    "    die = random.randint(1,6)\n",
    "    \n",
    "    if die == 6:\n",
    "        earnings = earnings + 5\n",
    "    else:\n",
    "        earnings = earnings - 1\n",
    "\n",
    "    number_of_sims.append(number_of_sims[-1]+1)\n",
    "    avg_earnings.append(earnings/number_of_sims[-1])\n",
    "    \n",
    "print(avg_earnings[-1])\n",
    "plt.plot(number_of_sims, avg_earnings,'.')"
   ]
  },
  {
   "cell_type": "markdown",
   "metadata": {
    "slideshow": {
     "slide_type": "slide"
    }
   },
   "source": [
    "### Craps\n",
    "\n",
    "Now, we'll learn how to play craps. Craps is based off calculating the sum of two dice. If two dice with faces 1-6 are rolled, then the possible sums are 2-12. Here are the theoretical probabilities:\n",
    "\n",
    "|  Sum |Probability   |\n",
    "|---   |---   |\n",
    "|2 |1/36  | \n",
    "|3 | 2/36 |\n",
    "|4 |3/36  |\n",
    "|5 | 4/36 |\n",
    "|6 |5/36  |\n",
    "|7 | 6/36 |\n",
    "|8 | 5/36 |\n",
    "|9 | 4/36 |\n",
    "|10 | 3/36 |\n",
    "|11 | 2/36 |\n",
    "|12 | 1/36 |"
   ]
  },
  {
   "cell_type": "markdown",
   "metadata": {
    "slideshow": {
     "slide_type": "slide"
    }
   },
   "source": [
    "Okay, so now you know the theoretical probabilities. Let's calculate the experimental probabilities, though. We'll use the randint function to simulate two different dice rolls. We'll calculate the sum of the two dice. We'll create a list called sums that contains the sums from performing this simulation 10,000 times."
   ]
  },
  {
   "cell_type": "code",
   "execution_count": 73,
   "metadata": {
    "slideshow": {
     "slide_type": "fragment"
    }
   },
   "outputs": [],
   "source": [
    "sums = []\n",
    "for i in range(10000):\n",
    "    die1 = random.randint(1,6)\n",
    "    die2 = random.randint(1,6)\n",
    "    sums.append(die1+die2)"
   ]
  },
  {
   "cell_type": "markdown",
   "metadata": {
    "slideshow": {
     "slide_type": "slide"
    }
   },
   "source": [
    "We'll view a histogram of the sums of the dices:"
   ]
  },
  {
   "cell_type": "code",
   "execution_count": 81,
   "metadata": {
    "slideshow": {
     "slide_type": "fragment"
    }
   },
   "outputs": [
    {
     "data": {
      "text/plain": [
       "Text(0, 0.5, 'frequency')"
      ]
     },
     "execution_count": 81,
     "metadata": {},
     "output_type": "execute_result"
    },
    {
     "data": {
      "image/png": "[encoded data removed]",
      "text/plain": [
       "<Figure size 432x288 with 1 Axes>"
      ]
     },
     "metadata": {
      "needs_background": "light"
     },
     "output_type": "display_data"
    }
   ],
   "source": [
    "plt.hist(sums, bins = 11, range = (1.5,12.5), density = True)\n",
    "plt.xlabel('sum')\n",
    "plt.ylabel('frequency')"
   ]
  },
  {
   "cell_type": "markdown",
   "metadata": {
    "slideshow": {
     "slide_type": "slide"
    }
   },
   "source": [
    "One of the most common types of bets in craps is a place bet. A place bet is betting on a number and wanting that number to come up before a 7 does. For example, if I bet on 4, then I am wanting a sum of 4 to come up before a sum of 7. I will continue to roll the dice until either a 4 or a 7 comes up, none of the other sums matter. What is the probability that you win this type of bet? 3/9, since there are 3 ways to win ((1,3), (2,2), or (3,1)) and 6 ways to lose ((1,6), (2,5), (3,4), (4,3), (5,2), (6,1)).\n",
    "\n",
    "The theoretical probabilities of winning each place bet is below:\n",
    "\n",
    "|  Sum |Probability   |\n",
    "|---   |---   |\n",
    "|4 |3/9  |\n",
    "|5 | 4/10 |\n",
    "|6 |5/11  |\n",
    "|8 | 5/11 |\n",
    "|9 | 4/10 |\n",
    "|10 | 3/9 |"
   ]
  },
  {
   "cell_type": "markdown",
   "metadata": {
    "slideshow": {
     "slide_type": "slide"
    }
   },
   "source": [
    "Let's calculate the experimental probability of winning the Place 6 bet. We'll roll the dice 10,000 times and calculate the percentage of times that you win. Our decimal should be very close to the theoretical probability in the table above.\n",
    "\n",
    "Note: just because we rolled the dice 10,000 times does not mean that your number of wins + losses adds up to 10,000, because only a dice sum of 6 or 7 matters."
   ]
  },
  {
   "cell_type": "code",
   "execution_count": 75,
   "metadata": {
    "slideshow": {
     "slide_type": "fragment"
    }
   },
   "outputs": [
    {
     "name": "stdout",
     "output_type": "stream",
     "text": [
      "number of games 3161\n",
      "winning percentage 0.43467257197089526\n"
     ]
    }
   ],
   "source": [
    "wins = 0\n",
    "mybet = 6\n",
    "losses = 0\n",
    "for i in range(10000):\n",
    "        if sums[i] == 7:\n",
    "            losses = losses + 1\n",
    "        if sums[i] == mybet:\n",
    "            wins = wins + 1\n",
    "\n",
    "print('number of games', wins+losses)            \n",
    "print('winning percentage', wins/(wins+losses))"
   ]
  },
  {
   "cell_type": "markdown",
   "metadata": {
    "slideshow": {
     "slide_type": "slide"
    }
   },
   "source": [
    "We can make a time plot of our simulation number versus winning percentage:"
   ]
  },
  {
   "cell_type": "code",
   "execution_count": 82,
   "metadata": {
    "slideshow": {
     "slide_type": "fragment"
    }
   },
   "outputs": [
    {
     "data": {
      "text/plain": [
       "Text(0.5, 1.0, 'winning percentage of the 6 place bet')"
      ]
     },
     "execution_count": 82,
     "metadata": {},
     "output_type": "execute_result"
    },
    {
     "data": {
      "image/png": "[encoded data removed]",
      "text/plain": [
       "<Figure size 432x288 with 1 Axes>"
      ]
     },
     "metadata": {
      "needs_background": "light"
     },
     "output_type": "display_data"
    }
   ],
   "source": [
    "wins = 0\n",
    "mybet = 6\n",
    "losses = 0\n",
    "num_of_sims = [0]\n",
    "percent = [0]\n",
    "for i in range(10000):\n",
    "        if sums[i] == 7:\n",
    "            losses = losses + 1\n",
    "            num_of_sims.append(num_of_sims[-1] + 1)\n",
    "            percent.append(wins/(wins+losses))\n",
    "        if sums[i] == mybet:\n",
    "            wins = wins + 1\n",
    "            num_of_sims.append(num_of_sims[-1] + 1)\n",
    "            percent.append(wins/(wins+losses))\n",
    "plt.plot(num_of_sims, percent, '.')\n",
    "plt.xlabel('number of simulations')\n",
    "plt.ylabel('winning percentage')\n",
    "plt.title('winning percentage of the 6 place bet')"
   ]
  },
  {
   "cell_type": "markdown",
   "metadata": {
    "slideshow": {
     "slide_type": "slide"
    }
   },
   "source": [
    "### Exercise 6 - Min\n",
    "Create a function called minimum that returns the minimum number in a list of numbers."
   ]
  },
  {
   "cell_type": "code",
   "execution_count": 5,
   "metadata": {
    "slideshow": {
     "slide_type": "fragment"
    }
   },
   "outputs": [],
   "source": [
    "#insert exercise 6"
   ]
  },
  {
   "cell_type": "markdown",
   "metadata": {
    "slideshow": {
     "slide_type": "slide"
    }
   },
   "source": [
    "### Exercise 7 - First Index of Min\n",
    "Create a function called minimum_index that returns the first index of the minimum number in a list of numbers. For example, the list ```[5, 10, 5, 5, -20, 30, -20]``` should return an index of 4."
   ]
  },
  {
   "cell_type": "code",
   "execution_count": 4,
   "metadata": {
    "slideshow": {
     "slide_type": "fragment"
    }
   },
   "outputs": [],
   "source": [
    "#insert exercise 7"
   ]
  },
  {
   "cell_type": "markdown",
   "metadata": {
    "slideshow": {
     "slide_type": "slide"
    }
   },
   "source": [
    "### Exercise 8 - Standard Deviation\n",
    "Create a function called st_dev that calculates standard deviation. You can use the np.mean() or sum()/len() operations to quickly calculate the mean. Recall that $\\text{st_dev} =  \\sqrt \\frac{\\sum_{i=1}^n (x_i-x_{\\text{mean}})^2}{n}$."
   ]
  },
  {
   "cell_type": "code",
   "execution_count": 2,
   "metadata": {
    "slideshow": {
     "slide_type": "fragment"
    }
   },
   "outputs": [],
   "source": [
    "#insert 8"
   ]
  },
  {
   "cell_type": "markdown",
   "metadata": {
    "slideshow": {
     "slide_type": "slide"
    }
   },
   "source": [
    "### Exercise 9 - Median\n",
    "If you include the line ```numbers = sorted(numbers)```, your list will be sorted. Use this idea to write a function that calculates the median of a list. Beware that you will need a conditional to figure out if the list is of an even or odd length. Also note that you'll need to put \"int\" around any division since indices to a list must be integers not decimals. For example, use something like ```int(len(numbers)/2)+1```."
   ]
  },
  {
   "cell_type": "code",
   "execution_count": 3,
   "metadata": {
    "slideshow": {
     "slide_type": "fragment"
    }
   },
   "outputs": [],
   "source": [
    "#insert exercise 9"
   ]
  }
 ],
 "metadata": {
  "celltoolbar": "Slideshow",
  "kernelspec": {
   "display_name": "Python 3",
   "language": "python",
   "name": "python3"
  },
  "language_info": {
   "codemirror_mode": {
    "name": "ipython",
    "version": 3
   },
   "file_extension": ".py",
   "mimetype": "text/x-python",
   "name": "python",
   "nbconvert_exporter": "python",
   "pygments_lexer": "ipython3",
   "version": "3.7.3"
  }
 },
 "nbformat": 4,
 "nbformat_minor": 2
}
