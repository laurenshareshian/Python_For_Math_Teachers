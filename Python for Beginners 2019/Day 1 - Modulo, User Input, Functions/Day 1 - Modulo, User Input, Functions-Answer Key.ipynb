{
 "cells": [
  {
   "cell_type": "markdown",
   "metadata": {
    "slideshow": {
     "slide_type": "slide"
    }
   },
   "source": [
    "### Day 1: Modulo, User Input, Functions"
   ]
  },
  {
   "cell_type": "markdown",
   "metadata": {
    "slideshow": {
     "slide_type": "slide"
    }
   },
   "source": [
    "First some review:\n",
    "### f-strings\n",
    "    \n",
    "f-strings let us print variables and text in the same print statement:"
   ]
  },
  {
   "cell_type": "code",
   "execution_count": 1,
   "metadata": {
    "slideshow": {
     "slide_type": "fragment"
    }
   },
   "outputs": [
    {
     "name": "stdout",
     "output_type": "stream",
     "text": [
      "x is 5 and double x is 10\n"
     ]
    }
   ],
   "source": [
    "x = 5\n",
    "y = 2*x\n",
    "print(f\"x is {x} and double x is {y}\")"
   ]
  },
  {
   "cell_type": "markdown",
   "metadata": {
    "slideshow": {
     "slide_type": "slide"
    }
   },
   "source": [
    "### Assignment\n",
    "Assignment (in math, we usually denote with the word \"let\") is denoted with one equals sign. What would be the output of the following code?"
   ]
  },
  {
   "cell_type": "code",
   "execution_count": null,
   "metadata": {
    "slideshow": {
     "slide_type": "fragment"
    }
   },
   "outputs": [],
   "source": [
    "x = 5\n",
    "y = 2*x\n",
    "y = 100\n",
    "print(f\"x is {x} and double x is {y}\")"
   ]
  },
  {
   "cell_type": "markdown",
   "metadata": {
    "slideshow": {
     "slide_type": "slide"
    }
   },
   "source": [
    "### Conditional Statements\n",
    "If you use a bunch of if statements, they will all be checked. Here's our first iteration to classify some quadrilaterals. How will we account for the fact that not all regular polygons are squares?"
   ]
  },
  {
   "cell_type": "code",
   "execution_count": 88,
   "metadata": {
    "slideshow": {
     "slide_type": "fragment"
    }
   },
   "outputs": [
    {
     "name": "stdout",
     "output_type": "stream",
     "text": [
      "Square\n"
     ]
    }
   ],
   "source": [
    "sides = 5\n",
    "regular = True\n",
    "if sides == 4:\n",
    "    print(\"Quadrilateral\")\n",
    "if regular == True:\n",
    "    print(\"Square\")"
   ]
  },
  {
   "cell_type": "markdown",
   "metadata": {
    "slideshow": {
     "slide_type": "slide"
    }
   },
   "source": [
    "We should probably nest our if statement and add a statement about non-four sided polygons."
   ]
  },
  {
   "cell_type": "code",
   "execution_count": 89,
   "metadata": {
    "slideshow": {
     "slide_type": "subslide"
    }
   },
   "outputs": [
    {
     "name": "stdout",
     "output_type": "stream",
     "text": [
      "You are not a four sided polygon.\n"
     ]
    }
   ],
   "source": [
    "sides = 5\n",
    "regular = True\n",
    "if sides == 4:\n",
    "    print(\"Quadrilateral\")\n",
    "    if regular == True:\n",
    "        print(\"Square\")\n",
    "else:\n",
    "    print(\"You are not a four sided polygon.\")"
   ]
  },
  {
   "cell_type": "markdown",
   "metadata": {
    "slideshow": {
     "slide_type": "slide"
    }
   },
   "source": [
    "What if you didn't want to print \"Quadrilateral\" if you knew the shape was a \"Square\", because you felt that was redundant?"
   ]
  },
  {
   "cell_type": "code",
   "execution_count": 90,
   "metadata": {
    "slideshow": {
     "slide_type": "fragment"
    }
   },
   "outputs": [
    {
     "name": "stdout",
     "output_type": "stream",
     "text": [
      "Quadrilateral\n",
      "Square\n"
     ]
    }
   ],
   "source": [
    "sides = 4\n",
    "regular = True\n",
    "if sides == 4:\n",
    "    print(\"Quadrilateral\")\n",
    "    if regular == True:\n",
    "        print(\"Square\")\n",
    "else:\n",
    "    print(\"You are not a four sided polygon.\")"
   ]
  },
  {
   "cell_type": "markdown",
   "metadata": {
    "slideshow": {
     "slide_type": "slide"
    }
   },
   "source": [
    "You could create an if/else:"
   ]
  },
  {
   "cell_type": "code",
   "execution_count": 91,
   "metadata": {
    "slideshow": {
     "slide_type": "fragment"
    }
   },
   "outputs": [
    {
     "name": "stdout",
     "output_type": "stream",
     "text": [
      "Square\n"
     ]
    }
   ],
   "source": [
    "sides = 4\n",
    "regular = True\n",
    "if sides == 4:\n",
    "    if regular == True:\n",
    "        print(\"Square\")\n",
    "    else:\n",
    "        print(\"Quadrilateral\")\n",
    "else:\n",
    "    print(\"You are not a four sided polygon.\")"
   ]
  },
  {
   "cell_type": "markdown",
   "metadata": {
    "slideshow": {
     "slide_type": "slide"
    }
   },
   "source": [
    "And a more specific statement about regular n-sided polygons?"
   ]
  },
  {
   "cell_type": "code",
   "execution_count": 92,
   "metadata": {
    "slideshow": {
     "slide_type": "fragment"
    }
   },
   "outputs": [
    {
     "name": "stdout",
     "output_type": "stream",
     "text": [
      "You are an irrregular polygon that doesn't have four sides.\n"
     ]
    }
   ],
   "source": [
    "sides = 5\n",
    "regular = False\n",
    "if sides == 4:\n",
    "    if regular == True:\n",
    "        print(\"Square\")\n",
    "    else:\n",
    "        print(\"Quadrilateral\")\n",
    "else:\n",
    "    if regular == True:\n",
    "        print(\"You are a regular polygon that doesn't have four sides.\")\n",
    "    else:\n",
    "        print(\"You are an irrregular polygon that doesn't have four sides.\")"
   ]
  },
  {
   "cell_type": "markdown",
   "metadata": {
    "slideshow": {
     "slide_type": "slide"
    }
   },
   "source": [
    "Remember that we can also add in elif statements if we'd like to check more than two conditions:"
   ]
  },
  {
   "cell_type": "code",
   "execution_count": 93,
   "metadata": {
    "slideshow": {
     "slide_type": "fragment"
    }
   },
   "outputs": [
    {
     "name": "stdout",
     "output_type": "stream",
     "text": [
      "Isosceles or scalene triangle\n"
     ]
    }
   ],
   "source": [
    "sides = 3\n",
    "regular = False\n",
    "if sides == 4:\n",
    "    if regular == True:\n",
    "        print(\"Square\")\n",
    "    else:\n",
    "        print(\"Quadrilateral\")\n",
    "elif sides == 3:\n",
    "    if regular == True:\n",
    "        print(\"Equilateral Triangle\")\n",
    "    else:\n",
    "        print(\"Isosceles or scalene triangle\")\n",
    "else:\n",
    "    if regular == True:\n",
    "        print(\"You are a regular polygon that doesn't have four sides.\")\n",
    "    else:\n",
    "        print(\"You are an irrregular polygon that doesn't have four sides.\")"
   ]
  },
  {
   "cell_type": "markdown",
   "metadata": {
    "slideshow": {
     "slide_type": "slide"
    }
   },
   "source": [
    "### Some math\n",
    "Integers behave the way you would expect:"
   ]
  },
  {
   "cell_type": "code",
   "execution_count": 94,
   "metadata": {
    "slideshow": {
     "slide_type": "fragment"
    }
   },
   "outputs": [
    {
     "name": "stdout",
     "output_type": "stream",
     "text": [
      "5\n",
      "1\n",
      "6\n",
      "1.5\n",
      "9\n"
     ]
    }
   ],
   "source": [
    "print(3+2)\n",
    "print(3-2)\n",
    "print(3*2)\n",
    "print(3/2)\n",
    "print(3**2)"
   ]
  },
  {
   "cell_type": "markdown",
   "metadata": {
    "slideshow": {
     "slide_type": "slide"
    }
   },
   "source": [
    "Sometimes floating numbers (i.e., decimals) can have some strange rounding stuff:"
   ]
  },
  {
   "cell_type": "code",
   "execution_count": 95,
   "metadata": {
    "slideshow": {
     "slide_type": "fragment"
    }
   },
   "outputs": [
    {
     "name": "stdout",
     "output_type": "stream",
     "text": [
      "0.2\n",
      "0.30000000000000004\n"
     ]
    }
   ],
   "source": [
    "print(0.1+0.1)\n",
    "print(0.1+0.2)"
   ]
  },
  {
   "cell_type": "markdown",
   "metadata": {
    "slideshow": {
     "slide_type": "slide"
    }
   },
   "source": [
    "It's because 0.2 can't be written in exact binary notation.\n",
    "\n",
    "<img src=\"images/binary1.png\" style=\"width: 100px;\"/>\n",
    "<img src=\"images/binary2.png\" style=\"width: 400px;\"/>"
   ]
  },
  {
   "cell_type": "markdown",
   "metadata": {
    "slideshow": {
     "slide_type": "slide"
    }
   },
   "source": [
    "### Modulo\n",
    "\n",
    "Modulo is a math operator that returns the remainder. For example, 7 mod 2 is equal to 1, since 2 goes evenly into 7 three times, with a remainder of one. 6 mod 2, on the other hand, is exactly 0, since 6 is a multiple of 2. Here are some other examples:\n",
    "\n",
    "8 mod 5 = 3\n",
    "\n",
    "8 mod 3 = 2\n",
    "\n",
    "8 mod 7 = 1\n",
    "\n",
    "8 mod 4 = 0\n",
    "\n",
    "8 mod 8 = 0\n",
    "\n",
    "8 mod 9 = 8\n",
    "\n",
    "8 mod 10 = 8\n",
    "\n",
    "In Python, we use the % sign to denote the mod symbol:"
   ]
  },
  {
   "cell_type": "code",
   "execution_count": 62,
   "metadata": {
    "slideshow": {
     "slide_type": "fragment"
    }
   },
   "outputs": [
    {
     "name": "stdout",
     "output_type": "stream",
     "text": [
      "1\n"
     ]
    }
   ],
   "source": [
    "print(16 % 5) "
   ]
  },
  {
   "cell_type": "markdown",
   "metadata": {
    "slideshow": {
     "slide_type": "slide"
    }
   },
   "source": [
    "All even numbers when divided by 2 will have a remainder of 0:"
   ]
  },
  {
   "cell_type": "code",
   "execution_count": 96,
   "metadata": {
    "slideshow": {
     "slide_type": "fragment"
    }
   },
   "outputs": [
    {
     "name": "stdout",
     "output_type": "stream",
     "text": [
      "0\n",
      "0\n"
     ]
    }
   ],
   "source": [
    "print(8 % 2)\n",
    "print(1000 % 2)"
   ]
  },
  {
   "cell_type": "markdown",
   "metadata": {
    "slideshow": {
     "slide_type": "slide"
    }
   },
   "source": [
    "What about odd numbers modulo 2?"
   ]
  },
  {
   "cell_type": "code",
   "execution_count": null,
   "metadata": {
    "slideshow": {
     "slide_type": "fragment"
    }
   },
   "outputs": [],
   "source": [
    "print(3%2)\n",
    "print(7%2)\n",
    "print(101%2)"
   ]
  },
  {
   "cell_type": "markdown",
   "metadata": {
    "slideshow": {
     "slide_type": "slide"
    }
   },
   "source": [
    "What about a number modulo one of its factors?"
   ]
  },
  {
   "cell_type": "code",
   "execution_count": null,
   "metadata": {
    "slideshow": {
     "slide_type": "fragment"
    }
   },
   "outputs": [],
   "source": [
    "print(6%1)\n",
    "print(6%2)\n",
    "print(6%3)\n",
    "print(6%6)"
   ]
  },
  {
   "cell_type": "markdown",
   "metadata": {
    "slideshow": {
     "slide_type": "slide"
    }
   },
   "source": [
    "### Exercise 1: Even/Odd\n",
    "Define an integer to have a value. Use an if/else statement and modulo to return a message about whether the number is even or odd. For example, if the number is equal to 5, you should print the message:\n",
    "```\n",
    "5 is odd.\n",
    "```"
   ]
  },
  {
   "cell_type": "code",
   "execution_count": 1,
   "metadata": {
    "slideshow": {
     "slide_type": "fragment"
    }
   },
   "outputs": [
    {
     "name": "stdout",
     "output_type": "stream",
     "text": [
      "5 is odd.\n"
     ]
    }
   ],
   "source": [
    "#insert Exercise 1\n",
    "x = 5\n",
    "if x % 2 == 0:\n",
    "    print(f\"{x} is even.\")\n",
    "else:\n",
    "    print(f\"{x} is odd.\")"
   ]
  },
  {
   "cell_type": "markdown",
   "metadata": {
    "slideshow": {
     "slide_type": "slide"
    }
   },
   "source": [
    "### Exercise 2: Factor\n",
    "Define two integers m and n. Use an if/else statement and modulo to return a message about whether m is a factor of n. For example, if m=5 and n=20, then your output should be:\n",
    "```\n",
    "5 is a factor of 20.\n",
    "```"
   ]
  },
  {
   "cell_type": "code",
   "execution_count": 2,
   "metadata": {
    "slideshow": {
     "slide_type": "fragment"
    }
   },
   "outputs": [
    {
     "name": "stdout",
     "output_type": "stream",
     "text": [
      "5 is a factor of 20.\n"
     ]
    }
   ],
   "source": [
    "#insert Exercise 2\n",
    "m = 5\n",
    "n = 20\n",
    "if n % m == 0:\n",
    "    print(f\"{m} is a factor of {n}.\")\n",
    "else:\n",
    "    print(f\"{m} is not a factor of {n}.\")"
   ]
  },
  {
   "cell_type": "markdown",
   "metadata": {
    "slideshow": {
     "slide_type": "slide"
    }
   },
   "source": [
    "### User input\n",
    "\n",
    "To take in a user's favorite food, we can run the following code:"
   ]
  },
  {
   "cell_type": "code",
   "execution_count": 66,
   "metadata": {
    "slideshow": {
     "slide_type": "fragment"
    }
   },
   "outputs": [
    {
     "name": "stdout",
     "output_type": "stream",
     "text": [
      "What is your favorite food? Enter it and then press enter. pizza\n",
      "Your favorite food is pizza.\n"
     ]
    }
   ],
   "source": [
    "food = input('What is your favorite food? Enter it and then press enter. ')\n",
    "print(f\"Your favorite food is {food}.\")"
   ]
  },
  {
   "cell_type": "markdown",
   "metadata": {
    "slideshow": {
     "slide_type": "slide"
    }
   },
   "source": [
    "What if you want to take in a user's number and then double it? Try running this code. The result may surprise you."
   ]
  },
  {
   "cell_type": "code",
   "execution_count": 67,
   "metadata": {
    "slideshow": {
     "slide_type": "fragment"
    }
   },
   "outputs": [
    {
     "name": "stdout",
     "output_type": "stream",
     "text": [
      "Gimme a number: 5\n",
      "Double your number is 55.\n"
     ]
    }
   ],
   "source": [
    "number = input('Gimme a number: ')\n",
    "print(f\"Double your number is {2*number}.\")"
   ]
  },
  {
   "cell_type": "markdown",
   "metadata": {
    "slideshow": {
     "slide_type": "slide"
    }
   },
   "source": [
    "What happened? Well, the variable number is treated as a string (aka word) and not an integer. If you want it to be treated as an integer, put \"int\" around input:"
   ]
  },
  {
   "cell_type": "code",
   "execution_count": 68,
   "metadata": {
    "slideshow": {
     "slide_type": "fragment"
    }
   },
   "outputs": [
    {
     "name": "stdout",
     "output_type": "stream",
     "text": [
      "Gimme a number: 5\n",
      "Double your number is 10.\n"
     ]
    }
   ],
   "source": [
    "number = int(input('Gimme a number: '))\n",
    "print(f\"Double your number is {2*number}.\")"
   ]
  },
  {
   "cell_type": "markdown",
   "metadata": {
    "slideshow": {
     "slide_type": "slide"
    }
   },
   "source": [
    "What if you wanted number to be treated as a decimal and not an integer? Put \"float\" around input instead of \"int\":"
   ]
  },
  {
   "cell_type": "code",
   "execution_count": 69,
   "metadata": {
    "slideshow": {
     "slide_type": "fragment"
    }
   },
   "outputs": [
    {
     "name": "stdout",
     "output_type": "stream",
     "text": [
      "Gimme a number: 5.5\n",
      "Double your number is 11.0.\n"
     ]
    }
   ],
   "source": [
    "number = float(input('Gimme a number: '))\n",
    "print(f\"Double your number is {2*number}.\")"
   ]
  },
  {
   "cell_type": "markdown",
   "metadata": {
    "slideshow": {
     "slide_type": "slide"
    }
   },
   "source": [
    "### Exercise 3: Even/Odd again\n",
    "Ask the user for a number. Use an if/else statement and modulo to return a message about whether their number is even or odd. Don't forget to put \"int\" around input. For example, your output may look like this:\n",
    "```\n",
    "Gimme a number: 5\n",
    "5 is odd.\n",
    "```"
   ]
  },
  {
   "cell_type": "code",
   "execution_count": 3,
   "metadata": {
    "slideshow": {
     "slide_type": "fragment"
    }
   },
   "outputs": [
    {
     "name": "stdout",
     "output_type": "stream",
     "text": [
      "Gimme a number: 5\n",
      "5 is odd.\n"
     ]
    }
   ],
   "source": [
    "#insert exercise 3\n",
    "x = int(input(\"Gimme a number: \"))\n",
    "if x % 2 == 0:\n",
    "    print(f\"{x} is even.\")\n",
    "else:\n",
    "    print(f\"{x} is odd.\")"
   ]
  },
  {
   "cell_type": "markdown",
   "metadata": {
    "slideshow": {
     "slide_type": "slide"
    }
   },
   "source": [
    "### Exercise 4: Factor again\n",
    "Ask the user for a two numbers m and n separately. Use an if/else statement and modulo to return a message about whether their first number is a factor of the second number. Don't forget to put \"int\" around input. For example, your output may look like this:\n",
    "```\n",
    "Give me the first number: 20\n",
    "Give me the second number: 5\n",
    "5 is a factor of 20.\n",
    "```"
   ]
  },
  {
   "cell_type": "code",
   "execution_count": 5,
   "metadata": {
    "slideshow": {
     "slide_type": "fragment"
    }
   },
   "outputs": [
    {
     "name": "stdout",
     "output_type": "stream",
     "text": [
      "Give me the first number: 20\n",
      "Give me the second number: 5\n",
      "5 is a factor of 20.\n"
     ]
    }
   ],
   "source": [
    "#insert exercise 4\n",
    "n = int(input(\"Give me the first number: \"))\n",
    "m = int(input(\"Give me the second number: \"))\n",
    "if n % m == 0:\n",
    "    print(f\"{m} is a factor of {n}.\")\n",
    "else:\n",
    "    print(f\"{m} is not a factor of {n}.\")"
   ]
  },
  {
   "cell_type": "markdown",
   "metadata": {
    "slideshow": {
     "slide_type": "slide"
    }
   },
   "source": [
    "### Exercise 5: Friends\n",
    "Ask the user twice for friends and store the friends in separate variables. Then print a summary statement of the friends. For example, your output should look like:\n",
    "```\n",
    "Friend 1: Betty\n",
    "Friend 2: John\n",
    "Your friends are Betty and John.\n",
    "```"
   ]
  },
  {
   "cell_type": "code",
   "execution_count": 8,
   "metadata": {
    "slideshow": {
     "slide_type": "fragment"
    }
   },
   "outputs": [
    {
     "name": "stdout",
     "output_type": "stream",
     "text": [
      "Friend 1: Betty\n",
      "Friend 2: John\n",
      "Your friends are Betty and John.\n"
     ]
    }
   ],
   "source": [
    "#insert exercise 5\n",
    "friend1 = input(\"Friend 1: \")\n",
    "friend2 = input(\"Friend 2: \")\n",
    "print(f\"Your friends are {friend1} and {friend2}.\")"
   ]
  },
  {
   "cell_type": "markdown",
   "metadata": {
    "slideshow": {
     "slide_type": "slide"
    }
   },
   "source": [
    "### Functions\n",
    "As our codes get more complicated, it will be helpful to break up the program into smaller tasks. Each task can be its own function. For example, suppose we want to take an integer, double it, and then subtract one from it. We can break this task into two functions:"
   ]
  },
  {
   "cell_type": "code",
   "execution_count": 74,
   "metadata": {
    "slideshow": {
     "slide_type": "fragment"
    }
   },
   "outputs": [],
   "source": [
    "def double(x):\n",
    "    return 2*x\n",
    "\n",
    "def subtract_one(x):\n",
    "    return x-1"
   ]
  },
  {
   "cell_type": "markdown",
   "metadata": {
    "slideshow": {
     "slide_type": "slide"
    }
   },
   "source": [
    "Of course, we know that the order of operations is important. Note that applying the functions in different orders will give you different answers:"
   ]
  },
  {
   "cell_type": "code",
   "execution_count": 75,
   "metadata": {
    "slideshow": {
     "slide_type": "fragment"
    }
   },
   "outputs": [
    {
     "name": "stdout",
     "output_type": "stream",
     "text": [
      "9\n",
      "8\n"
     ]
    }
   ],
   "source": [
    "print(subtract_one(double(5)))\n",
    "print(double(subtract_one(5)))"
   ]
  },
  {
   "cell_type": "markdown",
   "metadata": {
    "slideshow": {
     "slide_type": "slide"
    }
   },
   "source": [
    "### Booleans\n",
    "As another example, we can test whether or not a number is a factor of 20. If it is a factor, we'll return \"True\" (a Boolean value). Otherwise, we'll return False. Let's test the function on the numbers 5 and 7:"
   ]
  },
  {
   "cell_type": "code",
   "execution_count": 76,
   "metadata": {
    "slideshow": {
     "slide_type": "fragment"
    }
   },
   "outputs": [
    {
     "name": "stdout",
     "output_type": "stream",
     "text": [
      "True\n",
      "False\n"
     ]
    }
   ],
   "source": [
    "def is_factor_of_20(x):\n",
    "    if 20 % x == 0:\n",
    "        return True\n",
    "    else:\n",
    "        return False\n",
    "\n",
    "print(is_factor_of_20(5))\n",
    "print(is_factor_of_20(7))"
   ]
  },
  {
   "cell_type": "markdown",
   "metadata": {
    "slideshow": {
     "slide_type": "slide"
    }
   },
   "source": [
    "Functions can also take in more than one input. For example, we can create a difference function that subtracts the first input and second input:"
   ]
  },
  {
   "cell_type": "code",
   "execution_count": 78,
   "metadata": {
    "slideshow": {
     "slide_type": "fragment"
    }
   },
   "outputs": [
    {
     "name": "stdout",
     "output_type": "stream",
     "text": [
      "5\n"
     ]
    }
   ],
   "source": [
    "def difference(x,y):\n",
    "    return x-y\n",
    "\n",
    "print(difference(7,2))"
   ]
  },
  {
   "cell_type": "markdown",
   "metadata": {
    "slideshow": {
     "slide_type": "slide"
    }
   },
   "source": [
    "### Exercise 6: is_even function\n",
    "Write a function called is_even that takes in an integer n and returns the boolean True if n is even and False if n it is odd."
   ]
  },
  {
   "cell_type": "code",
   "execution_count": 9,
   "metadata": {
    "slideshow": {
     "slide_type": "fragment"
    }
   },
   "outputs": [
    {
     "name": "stdout",
     "output_type": "stream",
     "text": [
      "False\n",
      "True\n"
     ]
    }
   ],
   "source": [
    "#insert exercise 6\n",
    "def is_even(n):\n",
    "    if n % 2 == 0:\n",
    "        return True\n",
    "    else:\n",
    "        return False\n",
    "\n",
    "print(is_even(5))\n",
    "print(is_even(6))"
   ]
  },
  {
   "cell_type": "markdown",
   "metadata": {
    "slideshow": {
     "slide_type": "slide"
    }
   },
   "source": [
    "### Exercise 7: even_or_odd function\n",
    "Write a function called even_or_odd that takes in an integer n and returns the word \"Even\" if n is even and the word \"Odd\" if n is odd."
   ]
  },
  {
   "cell_type": "code",
   "execution_count": 10,
   "metadata": {
    "slideshow": {
     "slide_type": "fragment"
    }
   },
   "outputs": [
    {
     "name": "stdout",
     "output_type": "stream",
     "text": [
      "Odd\n",
      "Even\n"
     ]
    }
   ],
   "source": [
    "#insert exercise 7\n",
    "#insert exercise 6\n",
    "def even_or_odd(n):\n",
    "    if n % 2 == 0:\n",
    "        return \"Even\"\n",
    "    else:\n",
    "        return \"Odd\"\n",
    "\n",
    "print(even_or_odd(5))\n",
    "print(even_or_odd(6))"
   ]
  },
  {
   "cell_type": "markdown",
   "metadata": {
    "slideshow": {
     "slide_type": "slide"
    }
   },
   "source": [
    "### Exercise 8: Factors function\n",
    "Write a function that takes in two numbers, m and n, and returns True if m is a factor of n and False otherwise."
   ]
  },
  {
   "cell_type": "code",
   "execution_count": 11,
   "metadata": {},
   "outputs": [
    {
     "name": "stdout",
     "output_type": "stream",
     "text": [
      "True\n",
      "False\n"
     ]
    }
   ],
   "source": [
    "#insert exercise 8\n",
    "def factor(m, n):\n",
    "    if n % m == 0:\n",
    "        return True\n",
    "    else:\n",
    "        return False\n",
    "\n",
    "print(factor(5, 20))\n",
    "print(factor(6, 20))"
   ]
  },
  {
   "cell_type": "markdown",
   "metadata": {
    "slideshow": {
     "slide_type": "slide"
    }
   },
   "source": [
    "### Exercise 9: Temperature\n",
    "Write a function called cel_to_fahr that converts celsius to Fahrenheit (F = 9/5 * C + 32)."
   ]
  },
  {
   "cell_type": "code",
   "execution_count": 12,
   "metadata": {
    "slideshow": {
     "slide_type": "fragment"
    }
   },
   "outputs": [
    {
     "name": "stdout",
     "output_type": "stream",
     "text": [
      "32.0\n"
     ]
    }
   ],
   "source": [
    "#insert exercise 9\n",
    "def cel_to_fahr(c):\n",
    "    return 9/5 * c + 32\n",
    "\n",
    "print(cel_to_fahr(0))"
   ]
  },
  {
   "cell_type": "markdown",
   "metadata": {
    "slideshow": {
     "slide_type": "slide"
    }
   },
   "source": [
    "### Exercise 10: Miles\n",
    "Write a function called miles_to_km that converts miles to kilometers. (km = miles * 1.609)."
   ]
  },
  {
   "cell_type": "code",
   "execution_count": 13,
   "metadata": {
    "slideshow": {
     "slide_type": "fragment"
    }
   },
   "outputs": [
    {
     "data": {
      "text/plain": [
       "4.827"
      ]
     },
     "execution_count": 13,
     "metadata": {},
     "output_type": "execute_result"
    }
   ],
   "source": [
    "#insert exercise 10\n",
    "def miles_to_km(miles):\n",
    "    km = miles * 1.609\n",
    "    return km\n",
    "\n",
    "miles_to_km(3)"
   ]
  },
  {
   "cell_type": "markdown",
   "metadata": {
    "slideshow": {
     "slide_type": "slide"
    }
   },
   "source": [
    "### Exercise 11: Midpoint\n",
    "Write a function called midpoint that takes in two coordinates in the form (x1,y1,x2,y2) and returns the midpoint of the two. For example, \n",
    "\n",
    "```midpoint(2,4,5,6) should return (3.5, 5.0).```"
   ]
  },
  {
   "cell_type": "code",
   "execution_count": 14,
   "metadata": {
    "slideshow": {
     "slide_type": "fragment"
    }
   },
   "outputs": [
    {
     "data": {
      "text/plain": [
       "(3.5, 5.0)"
      ]
     },
     "execution_count": 14,
     "metadata": {},
     "output_type": "execute_result"
    }
   ],
   "source": [
    "#insert exercise 11\n",
    "def midpoint(x1,y1,x2,y2):\n",
    "    return (x1+x2)/2, (y1+y2)/2\n",
    "\n",
    "midpoint(2,4,5,6)"
   ]
  },
  {
   "cell_type": "markdown",
   "metadata": {
    "slideshow": {
     "slide_type": "slide"
    }
   },
   "source": [
    "### Challenge: Triangle Classification\n",
    "\n",
    "\n",
    "Alright. Let's return to our triangle example. Create two functions:\n",
    "\n",
    "- is_possible, that determines if a triangle is possible (returns True or False based on if $a+b>c$ or not  )\n",
    "\n",
    "- and triangle_type, that determines the triangle type (returning the string \"Right\", \"Obtuse\", or \"Acute\", depending on how $a^2+b^2$ compares to $c^2$). \n",
    "\n",
    "Combine these functions to print out an appropriate message about a user's three side lengths.\n",
    "\n",
    "Here are some sample outputs:\n",
    "\n",
    "```\n",
    "a: 3\n",
    "b: 4\n",
    "c: 5\n",
    "Your triangle is right.\n",
    "\n",
    "a: 3\n",
    "b: 4\n",
    "c: 8\n",
    "Your triangle is not possible.\n",
    "\n",
    "a: 5\n",
    "b: 9\n",
    "c: 12\n",
    "Your triangle is obtuse.\n",
    "```"
   ]
  },
  {
   "cell_type": "code",
   "execution_count": 69,
   "metadata": {
    "slideshow": {
     "slide_type": "slide"
    }
   },
   "outputs": [
    {
     "name": "stdout",
     "output_type": "stream",
     "text": [
      "a: 3\n",
      "b: 4\n",
      "c: 5\n",
      "Your triangle is Right.\n"
     ]
    }
   ],
   "source": [
    "#insert challenge\n",
    "def is_possible(a,b,c):\n",
    "    if a+b > c:\n",
    "        return True\n",
    "    else:\n",
    "        return False\n",
    "    \n",
    "def triangle_type(a,b,c):\n",
    "    if a**2+b**2 > c**2:\n",
    "        return \"Acute\"\n",
    "    elif a**2+b**2 == c**2:\n",
    "        return \"Right\"\n",
    "    else: \n",
    "        return \"Obtuse\"\n",
    "    \n",
    "a = int(input('a: '))\n",
    "b = int(input('b: '))\n",
    "c = int(input('c: '))\n",
    "\n",
    "if is_possible(a,b,c) == True:\n",
    "    print(f\"Your triangle is {triangle_type(a,b,c)}.\")\n",
    "else:\n",
    "    print('Your triangle is not possible.')"
   ]
  }
 ],
 "metadata": {
  "celltoolbar": "Slideshow",
  "kernelspec": {
   "display_name": "Python 3",
   "language": "python",
   "name": "python3"
  },
  "language_info": {
   "codemirror_mode": {
    "name": "ipython",
    "version": 3
   },
   "file_extension": ".py",
   "mimetype": "text/x-python",
   "name": "python",
   "nbconvert_exporter": "python",
   "pygments_lexer": "ipython3",
   "version": "3.7.3"
  }
 },
 "nbformat": 4,
 "nbformat_minor": 2
}
