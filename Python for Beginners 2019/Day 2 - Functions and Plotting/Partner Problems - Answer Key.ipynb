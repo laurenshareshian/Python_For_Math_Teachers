{
 "cells": [
  {
   "cell_type": "markdown",
   "metadata": {},
   "source": [
    "### Geometry Application: The Ambiguous Case\n",
    "Write a function called SSA that takes in a side (a), side (b), angle (A) of a trianlge and determines whether none, one, or two triangles are possible. Make sure to convert the angle to radians before applying math.sin.  Hint:\n",
    "\n",
    "<img src=\"images/ssa.png\" style=\"width: 700px;\"/>\n",
    "\n",
    "Hint: Make the size of the angle be the outer if/elif/else statement.\n",
    "\n",
    "To check your work:\n",
    "```\n",
    "ssa(22,12,42) should give 1\n",
    "ssa(15,25,85) should give 0\n",
    "ssa(12,31,20.5) should give 2\n",
    "```"
   ]
  },
  {
   "cell_type": "code",
   "execution_count": 3,
   "metadata": {},
   "outputs": [
    {
     "name": "stdout",
     "output_type": "stream",
     "text": [
      "1\n",
      "0\n",
      "2\n"
     ]
    }
   ],
   "source": [
    "#insert exercise 1\n",
    "\n",
    "import math\n",
    "def ssa(a,b,A):\n",
    "    h = b*math.sin(math.radians(A))\n",
    "    if A < 90:\n",
    "        if a < h:\n",
    "            return 0\n",
    "        if a == h:\n",
    "            return 1\n",
    "        if a > b:\n",
    "            return 1\n",
    "        if h < a < b:\n",
    "            return 2\n",
    "    elif A == 90:\n",
    "        return 1\n",
    "    else:\n",
    "        if a <= b:\n",
    "            return 0\n",
    "        else:\n",
    "            return 1\n",
    "print(ssa(22,12,42))\n",
    "print(ssa(15,25,85))\n",
    "print(ssa(12,31,20.5))"
   ]
  },
  {
   "cell_type": "markdown",
   "metadata": {},
   "source": [
    "### Algebra Application: The Quadratic Formula\n",
    "Write a function that takes in a, b, and c and returns the roots of the quadratic equation ax^2+bx+c=0 in f-string format. Use a conditional statement and the determinant $D=b^2-4ac$ to determine what form to return the roots in. Then, return f-strings. \n",
    "\n",
    "Hint: when the determinant is negative, you may want to calculate the real and imaginary parts of the roots separately.\n",
    "\n",
    "Here are some sample outputs:\n",
    "\n",
    "```\n",
    "print(quad_formula(1,-1,-6))\n",
    "print(quad_formula(1,-6,9))\n",
    "print(quad_formula(1,-6,13))\n",
    "\n",
    "should return:\n",
    "\n",
    "Your roots are 3.0 and -2.0.\n",
    "Your repeated root is 3.0.\n",
    "Your roots are 3.0+2.0i and 3.0-2.0i.\n",
    "```"
   ]
  },
  {
   "cell_type": "code",
   "execution_count": 2,
   "metadata": {},
   "outputs": [
    {
     "name": "stdout",
     "output_type": "stream",
     "text": [
      "Your roots are 3.0 and -2.0.\n",
      "Your repeated root is 3.0.\n",
      "Your roots are 3.0+2.0i and 3.0-2.0i.\n"
     ]
    }
   ],
   "source": [
    "#insert exercise 2\n",
    "\n",
    "import math\n",
    "def quad_formula(a,b,c):\n",
    "    D = b**2-4*a*c\n",
    "    if D > 0:\n",
    "        root1 = (-b+math.sqrt(D))/2\n",
    "        root2 = (-b-math.sqrt(D))/2\n",
    "        return f\"Your roots are {root1} and {root2}.\"\n",
    "    elif D == 0:\n",
    "        root1 = -b/2\n",
    "        return f\"Your repeated root is {root1}.\"\n",
    "    else:\n",
    "        real = -b/2\n",
    "        imag = math.sqrt(-D)/2\n",
    "        return f\"Your roots are {real}+{imag}i and {real}-{imag}i.\"\n",
    "\n",
    "print(quad_formula(1,-1,-6))\n",
    "print(quad_formula(1,-6,9))\n",
    "print(quad_formula(1,-6,13))"
   ]
  },
  {
   "cell_type": "code",
   "execution_count": null,
   "metadata": {},
   "outputs": [],
   "source": []
  }
 ],
 "metadata": {
  "kernelspec": {
   "display_name": "Python 3",
   "language": "python",
   "name": "python3"
  },
  "language_info": {
   "codemirror_mode": {
    "name": "ipython",
    "version": 3
   },
   "file_extension": ".py",
   "mimetype": "text/x-python",
   "name": "python",
   "nbconvert_exporter": "python",
   "pygments_lexer": "ipython3",
   "version": "3.7.3"
  }
 },
 "nbformat": 4,
 "nbformat_minor": 2
}
