{
 "cells": [
  {
   "cell_type": "markdown",
   "metadata": {
    "slideshow": {
     "slide_type": "slide"
    }
   },
   "source": [
    "### Day 2 - Functions and Plotting\n",
    "\n",
    "Let's review the challenge triangle classification problem from last night:"
   ]
  },
  {
   "cell_type": "code",
   "execution_count": 183,
   "metadata": {
    "slideshow": {
     "slide_type": "slide"
    }
   },
   "outputs": [
    {
     "name": "stdout",
     "output_type": "stream",
     "text": [
      "a: 3\n",
      "b: 4\n",
      "c: 5\n",
      "Your triangle is Right.\n"
     ]
    }
   ],
   "source": [
    "def is_possible(a,b,c):\n",
    "    if a + b > c:\n",
    "        return True\n",
    "    else:\n",
    "        return False\n",
    "    \n",
    "def triangle_type(a,b,c):\n",
    "    if a**2 + b**2 > c**2:\n",
    "        return \"Acute\"\n",
    "    elif a**2 + b**2 == c**2:\n",
    "        return \"Right\"\n",
    "    else: \n",
    "        return \"Obtuse\"\n",
    "    \n",
    "a = int(input('a: '))\n",
    "b = int(input('b: '))\n",
    "c = int(input('c: '))\n",
    "\n",
    "if is_possible(a,b,c) == True:\n",
    "    print(f\"Your triangle is {triangle_type(a,b,c)}.\")\n",
    "else:\n",
    "    print('Your triangle is not possible.')"
   ]
  },
  {
   "cell_type": "markdown",
   "metadata": {
    "slideshow": {
     "slide_type": "slide"
    }
   },
   "source": [
    "### Exercise 1 - slope\n",
    "Write a program called slope that takes in two coordinates in the form (x1,y1,x2,y2) and returns the slope."
   ]
  },
  {
   "cell_type": "code",
   "execution_count": 184,
   "metadata": {
    "slideshow": {
     "slide_type": "fragment"
    }
   },
   "outputs": [
    {
     "name": "stdout",
     "output_type": "stream",
     "text": [
      "0.5\n"
     ]
    }
   ],
   "source": [
    "#insert exercise 1\n",
    "def slope(x1,y1,x2,y2):\n",
    "    return (y2-y1)/(x2-x1)\n",
    "\n",
    "print(slope(1,4,3,5))"
   ]
  },
  {
   "cell_type": "markdown",
   "metadata": {
    "slideshow": {
     "slide_type": "slide"
    }
   },
   "source": [
    "As another example, suppose I wanted to write a function called slope_int that takes in two points in the form (x1,y1,x2,y2) and returns the equation in slope-intercept form."
   ]
  },
  {
   "cell_type": "code",
   "execution_count": 185,
   "metadata": {
    "slideshow": {
     "slide_type": "fragment"
    }
   },
   "outputs": [
    {
     "data": {
      "text/plain": [
       "'y=0.125x+2.875'"
      ]
     },
     "execution_count": 185,
     "metadata": {},
     "output_type": "execute_result"
    }
   ],
   "source": [
    "def slope_int(x1,y1,x2,y2):\n",
    "    m = slope(x1,y1,x2,y2)\n",
    "    b=y1-x1*slope(x1,y1,x2,y2)\n",
    "    return f\"y={m}x+{b}\"\n",
    "\n",
    "slope_int(1,3,9,4)"
   ]
  },
  {
   "cell_type": "markdown",
   "metadata": {
    "slideshow": {
     "slide_type": "slide"
    }
   },
   "source": [
    "### Exercise 2 - slope-intercept form\n",
    "Rather than calculating $m = (y1-y2)/(x1-x2)$ again, why don't we recycle our slope code from before? Call the slope function within the slope_int function below:"
   ]
  },
  {
   "cell_type": "code",
   "execution_count": 186,
   "metadata": {
    "slideshow": {
     "slide_type": "fragment"
    }
   },
   "outputs": [
    {
     "name": "stdout",
     "output_type": "stream",
     "text": [
      "0.125\n"
     ]
    },
    {
     "data": {
      "text/plain": [
       "'y=0.125x+2.875'"
      ]
     },
     "execution_count": 186,
     "metadata": {},
     "output_type": "execute_result"
    }
   ],
   "source": [
    "#insert exercise 2\n",
    "def slope_int(x1,y1,x2,y2):\n",
    "    m = slope(x1,y1,x2,y2)\n",
    "    print(m)\n",
    "    b=y1-m*x1\n",
    "    return f\"y={m}x+{b}\"\n",
    "\n",
    "slope_int(1,3,9,4)"
   ]
  },
  {
   "cell_type": "markdown",
   "metadata": {
    "slideshow": {
     "slide_type": "slide"
    }
   },
   "source": [
    "There are tons of math values and functions built in to the Python math package. Once you put \"import math\" at the top of your cell, you can refer to any of them. Here are some examples:"
   ]
  },
  {
   "cell_type": "code",
   "execution_count": 187,
   "metadata": {
    "slideshow": {
     "slide_type": "fragment"
    }
   },
   "outputs": [
    {
     "name": "stdout",
     "output_type": "stream",
     "text": [
      "2.0\n",
      "2.718281828459045\n",
      "3.141592653589793\n",
      "-1.0\n",
      "120\n"
     ]
    }
   ],
   "source": [
    "import math\n",
    "print(math.sqrt(4))\n",
    "\n",
    "print(math.exp(1))\n",
    "\n",
    "print(math.pi)\n",
    "print(math.cos(math.pi))\n",
    "\n",
    "print(math.factorial(5))"
   ]
  },
  {
   "cell_type": "markdown",
   "metadata": {
    "slideshow": {
     "slide_type": "slide"
    }
   },
   "source": [
    "### Approximating pi\n",
    "We just used math.pi to approximate pi, but how about we approximate pi ourselves? Recall that we can inscribe a regular polygon inside a circle of radius 1:\n",
    "\n",
    "<img src=\"images/circle.png\" style=\"width: 400px;\"/>\n",
    "\n",
    "If we do that, then we find that the height of triangle AOB is $\\sin(\\frac{180}{n})$ and the base of triangle AOB is $2\\cos(\\frac{180}{n})$. Therefore, the area of the triangle is $\\sin(\\frac{180}{n})\\cos(\\frac{180}{n})$ and the area of the regular polygon is  $n\\sin(\\frac{180}{n})\\cos(\\frac{180}{n})$. \n",
    "\n",
    "To approximate pi, we can find the area of a regular polygon with a large number of sides, after first converting the angle into radians:"
   ]
  },
  {
   "cell_type": "code",
   "execution_count": 188,
   "metadata": {
    "slideshow": {
     "slide_type": "fragment"
    }
   },
   "outputs": [
    {
     "name": "stdout",
     "output_type": "stream",
     "text": [
      "3.133330839107606\n"
     ]
    }
   ],
   "source": [
    "def polygon_area(n):\n",
    "    return n*math.sin(math.radians(180/n))*math.cos(math.radians(180/n))\n",
    "\n",
    "print(polygon_area(50))"
   ]
  },
  {
   "cell_type": "markdown",
   "metadata": {
    "slideshow": {
     "slide_type": "slide"
    }
   },
   "source": [
    "Suppose you wanted to make a function called evaluator that takes in a function and an x value and returns the function at that value. You could do:"
   ]
  },
  {
   "cell_type": "code",
   "execution_count": 189,
   "metadata": {
    "slideshow": {
     "slide_type": "fragment"
    }
   },
   "outputs": [
    {
     "name": "stdout",
     "output_type": "stream",
     "text": [
      "2.718281828459045\n",
      "-1.0\n",
      "-1.0\n",
      "-1.0\n"
     ]
    }
   ],
   "source": [
    "def evaluator(f,x):\n",
    "    return f(x)\n",
    "\n",
    "print(evaluator(math.exp, 1))\n",
    "print(evaluator(math.cos, math.pi))\n",
    "print(evaluator(math.cos, math.radians(180)))\n",
    "print(math.cos(math.pi))"
   ]
  },
  {
   "cell_type": "markdown",
   "metadata": {
    "slideshow": {
     "slide_type": "slide"
    }
   },
   "source": [
    "You would also be able to use this evaluator function for functions that you define yourself, such as the square function:"
   ]
  },
  {
   "cell_type": "code",
   "execution_count": 190,
   "metadata": {
    "slideshow": {
     "slide_type": "fragment"
    }
   },
   "outputs": [
    {
     "name": "stdout",
     "output_type": "stream",
     "text": [
      "25\n",
      "9.869604401089358\n"
     ]
    }
   ],
   "source": [
    "def square(x):\n",
    "    return x**2\n",
    "\n",
    "print(evaluator(square, 5))\n",
    "print(evaluator(square, math.pi))"
   ]
  },
  {
   "cell_type": "code",
   "execution_count": 191,
   "metadata": {},
   "outputs": [],
   "source": [
    "def finite_diff(f,x,h):\n",
    "    return #expression"
   ]
  },
  {
   "cell_type": "markdown",
   "metadata": {
    "slideshow": {
     "slide_type": "slide"
    }
   },
   "source": [
    "### Exercise 3 - Precal/Calculus Application\n",
    "\n",
    "Write a program called finite_diff that takes in a function, an x value, and a threshold h and returns the approximate derivative of the function at that x value. For example, ```finite_diff(square, 3, 0.001)``` should return approximately 6.001 if you use the previously defined square function.\n",
    "\n",
    "Recall that the finite difference formula is given by $\\frac{f(x+h) - f(x)}{h}$."
   ]
  },
  {
   "cell_type": "code",
   "execution_count": 192,
   "metadata": {
    "slideshow": {
     "slide_type": "fragment"
    }
   },
   "outputs": [
    {
     "data": {
      "text/plain": [
       "6.000999999999479"
      ]
     },
     "execution_count": 192,
     "metadata": {},
     "output_type": "execute_result"
    }
   ],
   "source": [
    "#insert exercise 3\n",
    "def finite_diff(f,x,h):\n",
    "    return (f(x+h)-f(x))/h\n",
    "\n",
    "finite_diff(square,3,0.001)"
   ]
  },
  {
   "cell_type": "markdown",
   "metadata": {
    "slideshow": {
     "slide_type": "slide"
    }
   },
   "source": [
    "### Below are three more exercises to either do tonight or to keep busy while your classmates catch up:"
   ]
  },
  {
   "cell_type": "markdown",
   "metadata": {
    "slideshow": {
     "slide_type": "slide"
    }
   },
   "source": [
    "### Exercise 4: Point-Slope Form\n",
    "Write a program called point_slope that takes in two points in the form (x1,y1,x2,y2) and returns the equation in point-slope form using the first point. For example,\n",
    "\n",
    "```point_slope(1,3,2,4) should return 'y-3=1.0(x-1)'```"
   ]
  },
  {
   "cell_type": "code",
   "execution_count": 193,
   "metadata": {
    "slideshow": {
     "slide_type": "fragment"
    }
   },
   "outputs": [
    {
     "data": {
      "text/plain": [
       "'y-3=1.0(x-1)'"
      ]
     },
     "execution_count": 193,
     "metadata": {},
     "output_type": "execute_result"
    }
   ],
   "source": [
    "#insert exercise 4\n",
    "def point_slope(x1,y1,x2,y2):\n",
    "    m = (y1-y2)/(x1-x2)\n",
    "    return f\"y-{y1}={m}(x-{x1})\"\n",
    "\n",
    "point_slope(1,3,2,4)"
   ]
  },
  {
   "cell_type": "markdown",
   "metadata": {
    "slideshow": {
     "slide_type": "slide"
    }
   },
   "source": [
    "### Exercise 5: e\n",
    "Approximate e by creating a function to evaluate $(1+\\frac{1}{n})^n$ and inserting a large value of n."
   ]
  },
  {
   "cell_type": "code",
   "execution_count": 194,
   "metadata": {
    "slideshow": {
     "slide_type": "fragment"
    }
   },
   "outputs": [
    {
     "data": {
      "text/plain": [
       "2.7048138294215285"
      ]
     },
     "execution_count": 194,
     "metadata": {},
     "output_type": "execute_result"
    }
   ],
   "source": [
    "#insert exercise 5\n",
    "def exponential(n):\n",
    "    return (1+1/n)**n\n",
    "\n",
    "exponential(100)"
   ]
  },
  {
   "cell_type": "markdown",
   "metadata": {
    "slideshow": {
     "slide_type": "slide"
    }
   },
   "source": [
    "### Exercise 6: Compound interest\n",
    "Write a program called interest that takes in the initial principal, the annual interest rate, the number of compounding periods per year, and the number of years and returns the total balance. For example,\n",
    "\n",
    "```interest(100,0.05,2,3) should return 115.96934182128899```\n",
    "\n",
    "Hint: Recall $P(t)=P_0(1+\\frac{r}{n})^{nt}$"
   ]
  },
  {
   "cell_type": "code",
   "execution_count": 195,
   "metadata": {
    "slideshow": {
     "slide_type": "fragment"
    }
   },
   "outputs": [
    {
     "data": {
      "text/plain": [
       "115.96934182128899"
      ]
     },
     "execution_count": 195,
     "metadata": {},
     "output_type": "execute_result"
    }
   ],
   "source": [
    "#insert exercise 6\n",
    "def interest(p,r,n,t):\n",
    "    return p*(1+r/n)**(n*t)\n",
    "\n",
    "interest(100,0.05,2,3)"
   ]
  },
  {
   "cell_type": "markdown",
   "metadata": {
    "slideshow": {
     "slide_type": "slide"
    }
   },
   "source": [
    "Run the cell below to import the required packages for this notebook:"
   ]
  },
  {
   "cell_type": "code",
   "execution_count": 196,
   "metadata": {
    "slideshow": {
     "slide_type": "fragment"
    }
   },
   "outputs": [],
   "source": [
    "# the plotting package is matplotlib:\n",
    "import matplotlib.pyplot as plt \n",
    "# the next line allows you to view the plots more easily:\n",
    "%matplotlib inline\n",
    "# these packages have important math stuff in them:\n",
    "import math\n",
    "import numpy as np \n",
    "# the pandas package allows us to do spreadsheet stuff:\n",
    "import pandas as pd"
   ]
  },
  {
   "cell_type": "markdown",
   "metadata": {
    "slideshow": {
     "slide_type": "slide"
    }
   },
   "source": [
    "### Matplotlib, Numpy, and Pandas\n",
    "\n",
    "The matplotlib package allows us to make graphs.\n",
    "\n",
    "Suppose we want to plot the points (0,0), (1,1), (4,2), and (9,3) from the square root function. We could type:"
   ]
  },
  {
   "cell_type": "code",
   "execution_count": 197,
   "metadata": {
    "slideshow": {
     "slide_type": "fragment"
    }
   },
   "outputs": [
    {
     "data": {
      "text/plain": [
       "[<matplotlib.lines.Line2D at 0x11d7d5b70>]"
      ]
     },
     "execution_count": 197,
     "metadata": {},
     "output_type": "execute_result"
    },
    {
     "data": {
      "image/png": "[encoded data removed]",
      "text/plain": [
       "<Figure size 432x288 with 1 Axes>"
      ]
     },
     "metadata": {
      "needs_background": "light"
     },
     "output_type": "display_data"
    }
   ],
   "source": [
    "plt.plot([0,1,4,9],[0,1,2,3],'g*')"
   ]
  },
  {
   "cell_type": "markdown",
   "metadata": {
    "slideshow": {
     "slide_type": "slide"
    }
   },
   "source": [
    "If we wanted to plot them with lines, we could get rid of that last \".\" argument:"
   ]
  },
  {
   "cell_type": "code",
   "execution_count": 198,
   "metadata": {
    "slideshow": {
     "slide_type": "fragment"
    }
   },
   "outputs": [
    {
     "data": {
      "image/png": "[encoded data removed]",
      "text/plain": [
       "<Figure size 432x288 with 1 Axes>"
      ]
     },
     "metadata": {
      "needs_background": "light"
     },
     "output_type": "display_data"
    }
   ],
   "source": [
    "plt.plot([0,1,4,9],[0,1,2,3]);"
   ]
  },
  {
   "cell_type": "markdown",
   "metadata": {
    "slideshow": {
     "slide_type": "slide"
    }
   },
   "source": [
    "As always, graphs should be well labeled. We can add an x label, a y label, and a title using the following code:"
   ]
  },
  {
   "cell_type": "code",
   "execution_count": 199,
   "metadata": {
    "slideshow": {
     "slide_type": "fragment"
    }
   },
   "outputs": [
    {
     "data": {
      "image/png": "[encoded data removed]",
      "text/plain": [
       "<Figure size 432x288 with 1 Axes>"
      ]
     },
     "metadata": {
      "needs_background": "light"
     },
     "output_type": "display_data"
    }
   ],
   "source": [
    "plt.plot([0,1,4,9],[0,1,2,3],'.');\n",
    "plt.xlabel('x');\n",
    "plt.ylabel('y');\n",
    "plt.title('points on square root function');"
   ]
  },
  {
   "cell_type": "markdown",
   "metadata": {
    "slideshow": {
     "slide_type": "slide"
    }
   },
   "source": [
    "Rather than type in the x coordinates manually, we can use the Python package numpy to create arrays of the x values.\n",
    "\n",
    "np.arange(0,10.5,0.5) will list all of the x-values between 0 and 10, inclusive, with a step size of 0.5:"
   ]
  },
  {
   "cell_type": "code",
   "execution_count": 200,
   "metadata": {
    "slideshow": {
     "slide_type": "fragment"
    }
   },
   "outputs": [
    {
     "name": "stdout",
     "output_type": "stream",
     "text": [
      "[ 0.   0.5  1.   1.5  2.   2.5  3.   3.5  4.   4.5  5.   5.5  6.   6.5\n",
      "  7.   7.5  8.   8.5  9.   9.5 10. ]\n"
     ]
    }
   ],
   "source": [
    "print(np.arange(0,10.5,0.5))"
   ]
  },
  {
   "cell_type": "markdown",
   "metadata": {
    "slideshow": {
     "slide_type": "slide"
    }
   },
   "source": [
    "We can then use these as the x-values and the square root of these x-values as the y-values:"
   ]
  },
  {
   "cell_type": "code",
   "execution_count": 201,
   "metadata": {
    "slideshow": {
     "slide_type": "fragment"
    }
   },
   "outputs": [
    {
     "data": {
      "image/png": "[encoded data removed]",
      "text/plain": [
       "<Figure size 432x288 with 1 Axes>"
      ]
     },
     "metadata": {
      "needs_background": "light"
     },
     "output_type": "display_data"
    }
   ],
   "source": [
    "x = np.arange(0,10.5,0.5)\n",
    "y=np.sqrt(x)\n",
    "plt.plot(x,y,'.');"
   ]
  },
  {
   "cell_type": "code",
   "execution_count": 202,
   "metadata": {},
   "outputs": [
    {
     "name": "stdout",
     "output_type": "stream",
     "text": [
      "[ 3.   3.5  4.   4.5  5.   5.5  6.   6.5  7.   7.5  8.   8.5  9.   9.5\n",
      " 10. ]\n"
     ]
    }
   ],
   "source": [
    "# List of integers between 3 and 10 \n",
    "x = np.arange(3,10+0.5,0.5)\n",
    "print(x)"
   ]
  },
  {
   "cell_type": "markdown",
   "metadata": {
    "slideshow": {
     "slide_type": "slide"
    }
   },
   "source": [
    "As another example, if we wanted to plot the cosine function between -pi and pi with a step size of 0.1, we could type:"
   ]
  },
  {
   "cell_type": "code",
   "execution_count": 203,
   "metadata": {
    "slideshow": {
     "slide_type": "fragment"
    }
   },
   "outputs": [
    {
     "data": {
      "image/png": "[encoded data removed]",
      "text/plain": [
       "<Figure size 432x288 with 1 Axes>"
      ]
     },
     "metadata": {
      "needs_background": "light"
     },
     "output_type": "display_data"
    }
   ],
   "source": [
    "x = np.arange(-np.pi,np.pi+0.1,0.1)\n",
    "y=np.cos(x)\n",
    "plt.plot(x,y,'.');"
   ]
  },
  {
   "cell_type": "markdown",
   "metadata": {
    "slideshow": {
     "slide_type": "slide"
    }
   },
   "source": [
    "We can also plot multiple graphs at once. Suppose I wanted to plot cosine and sine in red and blue. I could type:"
   ]
  },
  {
   "cell_type": "code",
   "execution_count": 204,
   "metadata": {
    "slideshow": {
     "slide_type": "fragment"
    }
   },
   "outputs": [
    {
     "data": {
      "image/png": "[encoded data removed]",
      "text/plain": [
       "<Figure size 432x288 with 1 Axes>"
      ]
     },
     "metadata": {
      "needs_background": "light"
     },
     "output_type": "display_data"
    }
   ],
   "source": [
    "x = np.arange(-np.pi,np.pi+0.1,0.1)\n",
    "y1=np.cos(x)\n",
    "y2=np.sin(x)\n",
    "plt.plot(x,y1,'r.',x,y2,'b.');"
   ]
  },
  {
   "cell_type": "markdown",
   "metadata": {
    "slideshow": {
     "slide_type": "slide"
    }
   },
   "source": [
    "I could also make the same plot by typing the plot command twice instead of separating the functions with commas:"
   ]
  },
  {
   "cell_type": "code",
   "execution_count": 205,
   "metadata": {
    "slideshow": {
     "slide_type": "fragment"
    }
   },
   "outputs": [
    {
     "data": {
      "image/png": "[encoded data removed]",
      "text/plain": [
       "<Figure size 432x288 with 1 Axes>"
      ]
     },
     "metadata": {
      "needs_background": "light"
     },
     "output_type": "display_data"
    }
   ],
   "source": [
    "x = np.arange(-np.pi,np.pi+0.1,0.1)\n",
    "plt.plot(x,np.cos(x),'r.');\n",
    "plt.plot(x,np.sin(x),'b.');"
   ]
  },
  {
   "cell_type": "markdown",
   "metadata": {
    "slideshow": {
     "slide_type": "slide"
    }
   },
   "source": [
    "Suppose you want to change your viewing window so that you plot x in the range [-pi/2, pi/2] and y in the range [-1,1]. You could type:"
   ]
  },
  {
   "cell_type": "code",
   "execution_count": 206,
   "metadata": {
    "slideshow": {
     "slide_type": "fragment"
    }
   },
   "outputs": [
    {
     "data": {
      "image/png": "[encoded data removed]",
      "text/plain": [
       "<Figure size 432x288 with 1 Axes>"
      ]
     },
     "metadata": {
      "needs_background": "light"
     },
     "output_type": "display_data"
    }
   ],
   "source": [
    "x = np.arange(-np.pi,np.pi+0.1,0.1)\n",
    "y1=np.cos(x)\n",
    "y2=np.sin(x)\n",
    "plt.plot(x,y1,'r.',x,y2,'b.')\n",
    "plt.axis([-np.pi/2, np.pi/2, -1,1]); #xmin,xmax,ymin,ymax"
   ]
  },
  {
   "cell_type": "markdown",
   "metadata": {
    "slideshow": {
     "slide_type": "slide"
    }
   },
   "source": [
    "Above, we were using the square root and trigonometry functions built into the numpy package. If I wanted to create my own function, I could plot that, too:"
   ]
  },
  {
   "cell_type": "code",
   "execution_count": 207,
   "metadata": {
    "slideshow": {
     "slide_type": "fragment"
    }
   },
   "outputs": [
    {
     "data": {
      "image/png": "[encoded data removed]",
      "text/plain": [
       "<Figure size 432x288 with 1 Axes>"
      ]
     },
     "metadata": {
      "needs_background": "light"
     },
     "output_type": "display_data"
    }
   ],
   "source": [
    "def my_function(x):\n",
    "    return 2*x**2+3\n",
    "\n",
    "x = np.arange(0,10.5,0.5)\n",
    "\n",
    "plt.plot(x,my_function(x),'.');"
   ]
  },
  {
   "cell_type": "markdown",
   "metadata": {
    "slideshow": {
     "slide_type": "slide"
    }
   },
   "source": [
    "Let's consider a plot of heights and weights:"
   ]
  },
  {
   "cell_type": "code",
   "execution_count": 208,
   "metadata": {
    "slideshow": {
     "slide_type": "fragment"
    }
   },
   "outputs": [
    {
     "data": {
      "text/plain": [
       "Text(0, 0.5, 'heights')"
      ]
     },
     "execution_count": 208,
     "metadata": {},
     "output_type": "execute_result"
    },
    {
     "data": {
      "image/png": "[encoded data removed]",
      "text/plain": [
       "<Figure size 432x288 with 1 Axes>"
      ]
     },
     "metadata": {
      "needs_background": "light"
     },
     "output_type": "display_data"
    }
   ],
   "source": [
    "weights = [100, 120, 90, 200, 210, 180, 150, 180, 175]\n",
    "heights = [60, 65, 59, 72, 75, 68, 68, 68, 65]\n",
    "plt.plot(weights, heights, '.')\n",
    "plt.xlabel('weights')\n",
    "plt.ylabel('heights')"
   ]
  },
  {
   "cell_type": "markdown",
   "metadata": {
    "slideshow": {
     "slide_type": "slide"
    }
   },
   "source": [
    "Suppose I wanted to create a line of best fit. I could use the polyfit function built into the numpy package to calculate the slope and y-intercept:"
   ]
  },
  {
   "cell_type": "code",
   "execution_count": 230,
   "metadata": {
    "slideshow": {
     "slide_type": "fragment"
    }
   },
   "outputs": [
    {
     "name": "stdout",
     "output_type": "stream",
     "text": [
      "[3.21793233e-04 1.30913153e-02 5.62375716e+01]\n",
      "           2\n",
      "0.0003218 x + 0.01309 x + 56.24\n"
     ]
    },
    {
     "data": {
      "image/png": "[encoded data removed]",
      "text/plain": [
       "<Figure size 432x288 with 1 Axes>"
      ]
     },
     "metadata": {
      "needs_background": "light"
     },
     "output_type": "display_data"
    }
   ],
   "source": [
    "weights = [100, 120, 90, 200, 210, 180, 150, 180, 175]\n",
    "heights = [60, 65, 59, 72, 75, 68, 68, 68, 65]\n",
    "plt.plot(weights, heights, '.')\n",
    "\n",
    "fit = np.polyfit(weights, heights, 2) #returns the slope and intercept of the line of best fit in a list\n",
    "fit_fn = np.poly1d(fit) #puts the slope and intercept into function form\n",
    "print(fit)\n",
    "print(fit_fn)"
   ]
  },
  {
   "cell_type": "markdown",
   "metadata": {
    "slideshow": {
     "slide_type": "slide"
    }
   },
   "source": [
    "If I wanted to superimpose the line of best fit on the plot, I could type:"
   ]
  },
  {
   "cell_type": "code",
   "execution_count": 239,
   "metadata": {
    "slideshow": {
     "slide_type": "fragment"
    }
   },
   "outputs": [
    {
     "data": {
      "text/plain": [
       "[<matplotlib.lines.Line2D at 0x11ea96b38>]"
      ]
     },
     "execution_count": 239,
     "metadata": {},
     "output_type": "execute_result"
    },
    {
     "data": {
      "image/png": "[encoded data removed]",
      "text/plain": [
       "<Figure size 432x288 with 1 Axes>"
      ]
     },
     "metadata": {
      "needs_background": "light"
     },
     "output_type": "display_data"
    }
   ],
   "source": [
    "#plt.plot(weights, heights, 'b.') #observed\n",
    "plt.plot(weights, heights - fit_fn(weights),'r.'); #predicted\n",
    "plt.plot([0,200],[0,0],'b')\n",
    "plt.plot([0,0],[-3,2],'b')"
   ]
  },
  {
   "cell_type": "markdown",
   "metadata": {
    "slideshow": {
     "slide_type": "slide"
    }
   },
   "source": [
    "Residual plot:"
   ]
  },
  {
   "cell_type": "code",
   "execution_count": 211,
   "metadata": {},
   "outputs": [
    {
     "name": "stdout",
     "output_type": "stream",
     "text": [
      "[-0.57735918  2.25219459 -0.49213606  0.57040966  2.48518654 -1.25914411\n",
      "  1.99652524 -1.25914411 -3.71653255]\n"
     ]
    },
    {
     "data": {
      "image/png": "[encoded data removed]",
      "text/plain": [
       "<Figure size 432x288 with 1 Axes>"
      ]
     },
     "metadata": {
      "needs_background": "light"
     },
     "output_type": "display_data"
    }
   ],
   "source": [
    "plt.plot(weights, heights - fit_fn(weights), '.');\n",
    "plt.xlabel('weights');\n",
    "plt.ylabel('observed minus predicted heights');\n",
    "\n",
    "residuals = heights - fit_fn(weights)\n",
    "print(residuals)"
   ]
  },
  {
   "cell_type": "markdown",
   "metadata": {
    "slideshow": {
     "slide_type": "slide"
    }
   },
   "source": [
    "### Looping\n",
    "For many applications, we will want to create a loop. The range function allows us to loop through a given amount of times easily. For example, suppose I wanted to print the numbers between 0 and 10. I could type:"
   ]
  },
  {
   "cell_type": "code",
   "execution_count": 212,
   "metadata": {
    "slideshow": {
     "slide_type": "fragment"
    }
   },
   "outputs": [
    {
     "name": "stdout",
     "output_type": "stream",
     "text": [
      "0\n",
      "1\n",
      "2\n",
      "3\n",
      "4\n",
      "5\n",
      "6\n",
      "7\n",
      "8\n",
      "9\n",
      "10\n"
     ]
    }
   ],
   "source": [
    "for i in range(11):\n",
    "    print(i)"
   ]
  },
  {
   "cell_type": "markdown",
   "metadata": {
    "slideshow": {
     "slide_type": "slide"
    }
   },
   "source": [
    "Notice that the range function stops one short of the argument 11. It also automatically starts at the number 0. If we wanted to print the numbers between 4 and 10, we could add a second argument:"
   ]
  },
  {
   "cell_type": "code",
   "execution_count": 213,
   "metadata": {
    "slideshow": {
     "slide_type": "fragment"
    }
   },
   "outputs": [
    {
     "name": "stdout",
     "output_type": "stream",
     "text": [
      "4\n",
      "5\n",
      "6\n",
      "7\n",
      "8\n",
      "9\n",
      "10\n"
     ]
    }
   ],
   "source": [
    "for i in range(4, 11):\n",
    "    print(i)"
   ]
  },
  {
   "cell_type": "markdown",
   "metadata": {
    "slideshow": {
     "slide_type": "slide"
    }
   },
   "source": [
    "What if we wanted to print every other number between 4 and 10? We could increment by 2. That is the third argument to the range function:"
   ]
  },
  {
   "cell_type": "code",
   "execution_count": 214,
   "metadata": {
    "slideshow": {
     "slide_type": "fragment"
    }
   },
   "outputs": [
    {
     "name": "stdout",
     "output_type": "stream",
     "text": [
      "4\n",
      "6\n",
      "8\n",
      "10\n"
     ]
    }
   ],
   "source": [
    "for i in range(4, 11, 2):\n",
    "    print(i)"
   ]
  },
  {
   "cell_type": "markdown",
   "metadata": {
    "slideshow": {
     "slide_type": "slide"
    }
   },
   "source": [
    "What if we wanted to count backwards? We could increment by -1:"
   ]
  },
  {
   "cell_type": "code",
   "execution_count": 215,
   "metadata": {
    "slideshow": {
     "slide_type": "fragment"
    }
   },
   "outputs": [
    {
     "name": "stdout",
     "output_type": "stream",
     "text": [
      "10\n",
      "9\n",
      "8\n",
      "7\n",
      "6\n",
      "5\n"
     ]
    }
   ],
   "source": [
    "for i in range(10,4,-1):\n",
    "    print(i)"
   ]
  },
  {
   "cell_type": "markdown",
   "metadata": {
    "slideshow": {
     "slide_type": "slide"
    }
   },
   "source": [
    "Suppose that we wanted to create a function called evens that prints all even numbers between m and n. We'll use the range function and add in a conditional statement that tests whether the number is even or not:"
   ]
  },
  {
   "cell_type": "code",
   "execution_count": 216,
   "metadata": {
    "slideshow": {
     "slide_type": "fragment"
    }
   },
   "outputs": [
    {
     "name": "stdout",
     "output_type": "stream",
     "text": [
      "8\n",
      "10\n",
      "12\n",
      "14\n",
      "16\n",
      "18\n",
      "20\n"
     ]
    }
   ],
   "source": [
    "def evens(m,n):\n",
    "    for i in range(m,n+1):\n",
    "        if i % 2 == 0:\n",
    "            print(i)\n",
    "\n",
    "evens(7,20)"
   ]
  },
  {
   "cell_type": "markdown",
   "metadata": {
    "slideshow": {
     "slide_type": "slide"
    }
   },
   "source": [
    "As another example, suppose we wanted to create a function called factors that takes in m and prints out all factors of m:"
   ]
  },
  {
   "cell_type": "code",
   "execution_count": 217,
   "metadata": {
    "slideshow": {
     "slide_type": "fragment"
    }
   },
   "outputs": [
    {
     "name": "stdout",
     "output_type": "stream",
     "text": [
      "1\n",
      "2\n",
      "4\n",
      "5\n",
      "10\n",
      "20\n"
     ]
    }
   ],
   "source": [
    "def factors(m):\n",
    "    for i in range(1,m+1):\n",
    "        if m % i == 0:\n",
    "            print(i)\n",
    "\n",
    "factors(20)"
   ]
  },
  {
   "cell_type": "markdown",
   "metadata": {
    "slideshow": {
     "slide_type": "slide"
    }
   },
   "source": [
    "### Exercise 7 - quadratic\n",
    "Create the function $f(x)=(x-2)^2$ and plot it on the x-interval [-5, 5], with a step size of 0.25."
   ]
  },
  {
   "cell_type": "code",
   "execution_count": 218,
   "metadata": {
    "slideshow": {
     "slide_type": "fragment"
    }
   },
   "outputs": [
    {
     "data": {
      "text/plain": [
       "[<matplotlib.lines.Line2D at 0x10b84ec50>]"
      ]
     },
     "execution_count": 218,
     "metadata": {},
     "output_type": "execute_result"
    },
    {
     "data": {
      "image/png": "[encoded data removed]",
      "text/plain": [
       "<Figure size 432x288 with 1 Axes>"
      ]
     },
     "metadata": {
      "needs_background": "light"
     },
     "output_type": "display_data"
    }
   ],
   "source": [
    "#insert exercise 7\n",
    "def f(x):\n",
    "    return (x-2)**2\n",
    "\n",
    "x = np.arange(-5,5.25, 0.25)\n",
    "\n",
    "plt.plot(x,f(x),'.')"
   ]
  },
  {
   "cell_type": "markdown",
   "metadata": {
    "slideshow": {
     "slide_type": "slide"
    }
   },
   "source": [
    "### Exercise 8 - exponential\n",
    "Use the built-in exponential function in the numpy package to plot $f(x)=e^x$ on [-3,3]."
   ]
  },
  {
   "cell_type": "code",
   "execution_count": 219,
   "metadata": {
    "slideshow": {
     "slide_type": "fragment"
    }
   },
   "outputs": [
    {
     "data": {
      "text/plain": [
       "[<matplotlib.lines.Line2D at 0x11d7cf240>]"
      ]
     },
     "execution_count": 219,
     "metadata": {},
     "output_type": "execute_result"
    },
    {
     "data": {
      "image/png": "[encoded data removed]",
      "text/plain": [
       "<Figure size 432x288 with 1 Axes>"
      ]
     },
     "metadata": {
      "needs_background": "light"
     },
     "output_type": "display_data"
    }
   ],
   "source": [
    "#insert exercise 8\n",
    "x=np.arange(-3,3.25,0.25)\n",
    "plt.plot(x,np.exp(x), '.')"
   ]
  },
  {
   "cell_type": "markdown",
   "metadata": {
    "slideshow": {
     "slide_type": "slide"
    }
   },
   "source": [
    "### Exercise 9 - fast food\n",
    "The data below represents fat and calories of fast food items. Create a line of best fit and superimpose it on the scatterplot."
   ]
  },
  {
   "cell_type": "code",
   "execution_count": 220,
   "metadata": {
    "slideshow": {
     "slide_type": "fragment"
    }
   },
   "outputs": [
    {
     "name": "stdout",
     "output_type": "stream",
     "text": [
      " \n",
      "11.73 x + 193.9\n"
     ]
    },
    {
     "data": {
      "image/png": "[encoded data removed]",
      "text/plain": [
       "<Figure size 432x288 with 1 Axes>"
      ]
     },
     "metadata": {
      "needs_background": "light"
     },
     "output_type": "display_data"
    }
   ],
   "source": [
    "fat = [9, 13, 21, 30, 31, 31, 34, 25, 28, 20, 5]\n",
    "calories = [260, 320, 420, 530, 560, 550, 590, 500, 560, 440, 300]\n",
    "#insert exercise 9 below\n",
    "plt.plot(fat, calories, 'b.') #observed values\n",
    "fit = np.polyfit(fat, calories, 1)\n",
    "fit_fn = np.poly1d(fit)\n",
    "plt.plot(fat, fit_fn(fat), 'r.'); #predicted values\n",
    "print(fit_fn)"
   ]
  },
  {
   "cell_type": "markdown",
   "metadata": {
    "slideshow": {
     "slide_type": "slide"
    }
   },
   "source": [
    "### Exercise 10 - free falling motion\n",
    "\n",
    "Define a function called ball_motion that takes in initial velocity and initial position of a ball and plots time (sec) versus position (meters) on the time interval [0, 5] seconds for the position function $p(t)=-4.9t^2+v_0t+p_0$."
   ]
  },
  {
   "cell_type": "code",
   "execution_count": 221,
   "metadata": {
    "slideshow": {
     "slide_type": "fragment"
    }
   },
   "outputs": [
    {
     "data": {
      "image/png": "[encoded data removed]",
      "text/plain": [
       "<Figure size 432x288 with 1 Axes>"
      ]
     },
     "metadata": {
      "needs_background": "light"
     },
     "output_type": "display_data"
    }
   ],
   "source": [
    "#insert exercise 10\n",
    "def p(t,v0,p0):\n",
    "    return -.5*9.8*t**2+v0*t+p0\n",
    "\n",
    "def ball_motion(v0,p0):\n",
    "    t = np.arange(0,5,0.25)\n",
    "    plt.plot(t,p(t,v0,p0), '.')\n",
    "    \n",
    "ball_motion(20,100)"
   ]
  },
  {
   "cell_type": "markdown",
   "metadata": {
    "slideshow": {
     "slide_type": "slide"
    }
   },
   "source": [
    "### Exercise 11 - Challenge\n",
    "Edit your above function so that instead of plotting the ball motion on the interval [0,5], plot it on the inteval [0,T], where T is the time that the ball hits the ground."
   ]
  },
  {
   "cell_type": "code",
   "execution_count": 222,
   "metadata": {
    "slideshow": {
     "slide_type": "fragment"
    }
   },
   "outputs": [
    {
     "data": {
      "image/png": "[encoded data removed]",
      "text/plain": [
       "<Figure size 432x288 with 1 Axes>"
      ]
     },
     "metadata": {
      "needs_background": "light"
     },
     "output_type": "display_data"
    }
   ],
   "source": [
    "#insert exercise 11\n",
    "def p(t,v0,p0):\n",
    "    return -.5*9.8*t**2+v0*t+p0\n",
    "\n",
    "def ball_motion(v0,p0):\n",
    "    T = (-v0-np.sqrt(v0**2-4*(-4.9)*p0))/(-2*4.9)\n",
    "    t = np.arange(0,T+.25,0.25)\n",
    "    plt.plot(t,p(t,v0,p0), '.')\n",
    "    \n",
    "ball_motion(20,100)"
   ]
  },
  {
   "cell_type": "markdown",
   "metadata": {
    "slideshow": {
     "slide_type": "slide"
    }
   },
   "source": [
    "### Exercise 12 - odds\n",
    "Create a function called odds that prints all odd numbers between m and n."
   ]
  },
  {
   "cell_type": "code",
   "execution_count": 223,
   "metadata": {
    "slideshow": {
     "slide_type": "fragment"
    }
   },
   "outputs": [
    {
     "name": "stdout",
     "output_type": "stream",
     "text": [
      "7\n",
      "9\n",
      "11\n",
      "13\n",
      "15\n",
      "17\n",
      "19\n"
     ]
    }
   ],
   "source": [
    "#insert exercise 12\n",
    "def odds(m,n):\n",
    "    for i in range(m,n+1):\n",
    "        if i % 2 == 1:\n",
    "            print(i)\n",
    "\n",
    "odds(7,20)"
   ]
  },
  {
   "cell_type": "markdown",
   "metadata": {
    "slideshow": {
     "slide_type": "slide"
    }
   },
   "source": [
    "### Exercise 13 - multiples of 3\n",
    "Create a function called multiples_of_3 that takes in m and prints out all of the multiples of 3 between 0 and m."
   ]
  },
  {
   "cell_type": "code",
   "execution_count": 224,
   "metadata": {
    "slideshow": {
     "slide_type": "fragment"
    }
   },
   "outputs": [
    {
     "name": "stdout",
     "output_type": "stream",
     "text": [
      "0\n",
      "3\n",
      "6\n",
      "9\n",
      "12\n",
      "15\n",
      "18\n",
      "21\n"
     ]
    }
   ],
   "source": [
    "#insert exercise 13\n",
    "def multiples_of_3(m):\n",
    "    for i in range(m+1):\n",
    "        if i % 3 == 0:\n",
    "            print(i)\n",
    "\n",
    "multiples_of_3(21)"
   ]
  },
  {
   "cell_type": "code",
   "execution_count": null,
   "metadata": {},
   "outputs": [],
   "source": []
  }
 ],
 "metadata": {
  "celltoolbar": "Slideshow",
  "kernelspec": {
   "display_name": "Python 3",
   "language": "python",
   "name": "python3"
  },
  "language_info": {
   "codemirror_mode": {
    "name": "ipython",
    "version": 3
   },
   "file_extension": ".py",
   "mimetype": "text/x-python",
   "name": "python",
   "nbconvert_exporter": "python",
   "pygments_lexer": "ipython3",
   "version": "3.7.3"
  }
 },
 "nbformat": 4,
 "nbformat_minor": 2
}
