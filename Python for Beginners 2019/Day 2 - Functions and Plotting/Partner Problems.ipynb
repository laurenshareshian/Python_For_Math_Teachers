{
 "cells": [
  {
   "cell_type": "markdown",
   "metadata": {},
   "source": [
    "### Geometry Application: The Ambiguous Case\n",
    "Write a function called SSA that takes in a side (a), side (b), angle (A) of a trianlge and determines whether none, one, or two triangles are possible. Make sure to convert the angle to radians before applying math.sin.  Hint:\n",
    "\n",
    "<img src=\"images/ssa.png\" style=\"width: 700px;\"/>\n",
    "\n",
    "Hint: Make the size of the angle be the outer if/elif/else statement.\n",
    "\n",
    "To check your work:\n",
    "```\n",
    "ssa(22,12,42) should give 1\n",
    "ssa(15,25,85) should give 0\n",
    "ssa(12,31,20.5) should give 2\n",
    "```"
   ]
  },
  {
   "cell_type": "code",
   "execution_count": 1,
   "metadata": {},
   "outputs": [],
   "source": [
    "#insert exercise 1"
   ]
  },
  {
   "cell_type": "markdown",
   "metadata": {},
   "source": [
    "### Algebra Application: The Quadratic Formula\n",
    "Write a function that takes in a, b, and c and returns the roots of the quadratic equation ax^2+bx+c=0 in f-string format. Use a conditional statement and the determinant $D=b^2-4ac$ to determine what form to return the roots in. Then, return f-strings. \n",
    "\n",
    "Hint: when the determinant is negative, you may want to calculate the real and imaginary parts of the roots separately.\n",
    "\n",
    "Here are some sample outputs:\n",
    "\n",
    "```\n",
    "print(quad_formula(1,-1,-6))\n",
    "print(quad_formula(1,-6,9))\n",
    "print(quad_formula(1,-6,13))\n",
    "\n",
    "should return:\n",
    "\n",
    "Your roots are 3.0 and -2.0.\n",
    "Your repeated root is 3.0.\n",
    "Your roots are 3.0+2.0i and 3.0-2.0i.\n",
    "```"
   ]
  },
  {
   "cell_type": "code",
   "execution_count": null,
   "metadata": {},
   "outputs": [],
   "source": [
    "#insert exercise 2"
   ]
  }
 ],
 "metadata": {
  "kernelspec": {
   "display_name": "Python 3",
   "language": "python",
   "name": "python3"
  },
  "language_info": {
   "codemirror_mode": {
    "name": "ipython",
    "version": 3
   },
   "file_extension": ".py",
   "mimetype": "text/x-python",
   "name": "python",
   "nbconvert_exporter": "python",
   "pygments_lexer": "ipython3",
   "version": "3.7.3"
  }
 },
 "nbformat": 4,
 "nbformat_minor": 2
}
