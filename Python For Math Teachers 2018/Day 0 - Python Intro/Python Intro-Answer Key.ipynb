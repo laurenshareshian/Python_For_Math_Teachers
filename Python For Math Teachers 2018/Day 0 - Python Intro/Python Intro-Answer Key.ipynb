{
 "cells": [
  {
   "cell_type": "markdown",
   "metadata": {},
   "source": [
    "### Printing\n",
    "We can print stuff in Python!"
   ]
  },
  {
   "cell_type": "code",
   "execution_count": 7,
   "metadata": {},
   "outputs": [
    {
     "name": "stdout",
     "output_type": "stream",
     "text": [
      "Hello, World!\n"
     ]
    }
   ],
   "source": [
    "print('Hello, World!')"
   ]
  },
  {
   "cell_type": "code",
   "execution_count": 2,
   "metadata": {},
   "outputs": [
    {
     "name": "stdout",
     "output_type": "stream",
     "text": [
      "My favorite number: 32\n"
     ]
    }
   ],
   "source": [
    "print('My favorite number:', 32)"
   ]
  },
  {
   "cell_type": "markdown",
   "metadata": {},
   "source": [
    "### Variables\n",
    "We can store and update variables in Python.\n",
    "\n",
    "Example 1:"
   ]
  },
  {
   "cell_type": "code",
   "execution_count": 3,
   "metadata": {},
   "outputs": [
    {
     "name": "stdout",
     "output_type": "stream",
     "text": [
      "2\n",
      "5\n"
     ]
    }
   ],
   "source": [
    "a=2\n",
    "print(a)\n",
    "a=5\n",
    "print(a)"
   ]
  },
  {
   "cell_type": "markdown",
   "metadata": {},
   "source": [
    "Example 2:"
   ]
  },
  {
   "cell_type": "code",
   "execution_count": 4,
   "metadata": {},
   "outputs": [
    {
     "name": "stdout",
     "output_type": "stream",
     "text": [
      "My old favorite number:  32\n",
      "My new favorite number:  100\n"
     ]
    }
   ],
   "source": [
    "fave_num = 32\n",
    "print('My old favorite number: ', fave_num)\n",
    "fave_num = 100\n",
    "print('My new favorite number: ', fave_num)"
   ]
  },
  {
   "cell_type": "markdown",
   "metadata": {},
   "source": [
    "Example 3:"
   ]
  },
  {
   "cell_type": "code",
   "execution_count": 60,
   "metadata": {
    "scrolled": true
   },
   "outputs": [
    {
     "name": "stdout",
     "output_type": "stream",
     "text": [
      "6\n"
     ]
    }
   ],
   "source": [
    "number = 5\n",
    "number = number + 1\n",
    "print(number)"
   ]
  },
  {
   "cell_type": "markdown",
   "metadata": {},
   "source": [
    "### Lists\n",
    "Lists start at index 0 (not 1). \n",
    "\n",
    "We can reference the length of the list using \"len\".\n",
    "\n",
    "Here's a list of dogs:"
   ]
  },
  {
   "cell_type": "code",
   "execution_count": 9,
   "metadata": {},
   "outputs": [
    {
     "name": "stdout",
     "output_type": "stream",
     "text": [
      "['border collie', 'australian cattle dog', 'labrador retriever']\n",
      "border collie\n",
      "australian cattle dog\n",
      "labrador retriever\n",
      "3\n"
     ]
    }
   ],
   "source": [
    "dogs = ['border collie', 'australian cattle dog', 'labrador retriever']\n",
    "print(dogs)\n",
    "print(dogs[0])\n",
    "print(dogs[1])\n",
    "print(dogs[2])\n",
    "print(len(dogs))"
   ]
  },
  {
   "cell_type": "markdown",
   "metadata": {},
   "source": [
    "We can create empty lists using square brackets.\n",
    "\n",
    "We can add things to lists by using .append:"
   ]
  },
  {
   "cell_type": "code",
   "execution_count": 10,
   "metadata": {},
   "outputs": [
    {
     "name": "stdout",
     "output_type": "stream",
     "text": [
      "['pit bull', 'boxer', 'labrador']\n"
     ]
    }
   ],
   "source": [
    "dogs = []\n",
    "dogs.append('pit bull')\n",
    "dogs.append('boxer')\n",
    "dogs.append('labrador')\n",
    "print(dogs)"
   ]
  },
  {
   "cell_type": "markdown",
   "metadata": {},
   "source": [
    "### For loops\n",
    "\n",
    "We can loop through lists using for loops:"
   ]
  },
  {
   "cell_type": "code",
   "execution_count": 5,
   "metadata": {},
   "outputs": [
    {
     "name": "stdout",
     "output_type": "stream",
     "text": [
      "border collie\n",
      "australian cattle dog\n",
      "labrador retriever\n"
     ]
    }
   ],
   "source": [
    "dogs = ['border collie', 'australian cattle dog', 'labrador retriever']\n",
    "for doggie in dogs:\n",
    "    print(doggie)"
   ]
  },
  {
   "cell_type": "markdown",
   "metadata": {},
   "source": [
    "Be careful, though, because looping through lists is one of the trickiest things to get started with. What if I had printed \"dogs\" instead of \"doggie\" inside the for loop? It would just print the entire dogs list three times:"
   ]
  },
  {
   "cell_type": "code",
   "execution_count": 1,
   "metadata": {},
   "outputs": [
    {
     "name": "stdout",
     "output_type": "stream",
     "text": [
      "['border collie', 'australian cattle dog', 'labrador retriever']\n",
      "['border collie', 'australian cattle dog', 'labrador retriever']\n",
      "['border collie', 'australian cattle dog', 'labrador retriever']\n"
     ]
    }
   ],
   "source": [
    "dogs = ['border collie', 'australian cattle dog', 'labrador retriever']\n",
    "for doggie in dogs:\n",
    "    print(dogs)"
   ]
  },
  {
   "cell_type": "markdown",
   "metadata": {},
   "source": [
    "Notice that \"for doggie in dogs\" simply creates a loop that executes three times, and you can specify whatever you want inside that loop by indenting the commands:"
   ]
  },
  {
   "cell_type": "code",
   "execution_count": 7,
   "metadata": {},
   "outputs": [
    {
     "name": "stdout",
     "output_type": "stream",
     "text": [
      "I'm about to enter the doggie loop.\n",
      "Hi! This is time 1 through the doggie loop.\n",
      "Hi! This is time 2 through the doggie loop.\n",
      "Hi! This is time 3 through the doggie loop.\n",
      "Now I'm out of the doggie loop.\n"
     ]
    }
   ],
   "source": [
    "dogs = ['border collie', 'australian cattle dog', 'labrador retriever']\n",
    "\n",
    "print(\"I'm about to enter the doggie loop.\")\n",
    "\n",
    "count = 1\n",
    "for doggie in dogs:\n",
    "    print(\"Hi! This is time\", count, \"through the doggie loop.\")\n",
    "    count = count + 1\n",
    "    \n",
    "print(\"Now I'm out of the doggie loop.\")"
   ]
  },
  {
   "cell_type": "markdown",
   "metadata": {},
   "source": [
    "Here's an example where I loop through all of the numbers in the number_list and keep track of their product. I need to initialize the variable called \"myproduct\" to 1 first:"
   ]
  },
  {
   "cell_type": "code",
   "execution_count": 1,
   "metadata": {},
   "outputs": [
    {
     "name": "stdout",
     "output_type": "stream",
     "text": [
      "1\n",
      "5\n",
      "20\n",
      "60\n",
      "120\n",
      "Final Product = 120\n"
     ]
    }
   ],
   "source": [
    "number_list = [5,4,3,2,1]\n",
    "myproduct = 1\n",
    "for number in number_list:\n",
    "    print(myproduct)\n",
    "    myproduct = myproduct*number\n",
    "print('Final Product =', myproduct)"
   ]
  },
  {
   "cell_type": "markdown",
   "metadata": {},
   "source": [
    "Here's an example where I loop through all of the numbers in the number_list and keep track of their sum. I need to initialize the variable called \"mysum\" to 0 first:"
   ]
  },
  {
   "cell_type": "code",
   "execution_count": 2,
   "metadata": {},
   "outputs": [
    {
     "name": "stdout",
     "output_type": "stream",
     "text": [
      "0\n",
      "1\n",
      "3\n",
      "6\n",
      "10\n",
      "Final Sum = 15\n"
     ]
    }
   ],
   "source": [
    "number_list = [1, 2, 3, 4, 5]\n",
    "mysum = 0\n",
    "for number in number_list:\n",
    "    print(mysum)\n",
    "    mysum = mysum + number\n",
    "print('Final Sum =', mysum)"
   ]
  },
  {
   "cell_type": "markdown",
   "metadata": {},
   "source": [
    "### Range function\n",
    "The range function helps us count easily. It always starts at zero unless otherwise specified and stops one short of the given number:"
   ]
  },
  {
   "cell_type": "code",
   "execution_count": 18,
   "metadata": {},
   "outputs": [
    {
     "name": "stdout",
     "output_type": "stream",
     "text": [
      "0\n",
      "1\n",
      "2\n",
      "3\n",
      "4\n",
      "5\n",
      "6\n",
      "7\n"
     ]
    }
   ],
   "source": [
    "for i in range(8):\n",
    "    print(i)"
   ]
  },
  {
   "cell_type": "code",
   "execution_count": 19,
   "metadata": {},
   "outputs": [
    {
     "name": "stdout",
     "output_type": "stream",
     "text": [
      "3\n",
      "4\n",
      "5\n",
      "6\n",
      "7\n"
     ]
    }
   ],
   "source": [
    "for i in range(3,8):\n",
    "    print(i)"
   ]
  },
  {
   "cell_type": "markdown",
   "metadata": {},
   "source": [
    "If you give a third argument to the range function, it counts by that incrementation. If you want to go backwards, you would use an incrementation of -1:"
   ]
  },
  {
   "cell_type": "code",
   "execution_count": 20,
   "metadata": {},
   "outputs": [
    {
     "name": "stdout",
     "output_type": "stream",
     "text": [
      "8\n",
      "7\n",
      "6\n",
      "5\n",
      "4\n"
     ]
    }
   ],
   "source": [
    "for i in range(8,3,-1):\n",
    "    print(i)"
   ]
  },
  {
   "cell_type": "markdown",
   "metadata": {},
   "source": [
    "We can use the range function to calculate the factorial of 5:"
   ]
  },
  {
   "cell_type": "code",
   "execution_count": 8,
   "metadata": {},
   "outputs": [
    {
     "name": "stdout",
     "output_type": "stream",
     "text": [
      "factorial 120\n"
     ]
    }
   ],
   "source": [
    "product = 1\n",
    "for i in range(1,6):\n",
    "    product = product * i\n",
    "print('factorial', product)"
   ]
  },
  {
   "cell_type": "markdown",
   "metadata": {},
   "source": [
    "We can use the range function to calculate the triangular numbers, which are the sum of integers between one and a given positive integer:"
   ]
  },
  {
   "cell_type": "code",
   "execution_count": 15,
   "metadata": {},
   "outputs": [
    {
     "name": "stdout",
     "output_type": "stream",
     "text": [
      "triangular number # 1 : 1\n",
      "triangular number # 2 : 3\n",
      "triangular number # 3 : 6\n",
      "triangular number # 4 : 10\n",
      "triangular number # 5 : 15\n",
      "triangular number # 6 : 21\n"
     ]
    }
   ],
   "source": [
    "mysum = 0\n",
    "for i in range(1,7):\n",
    "    mysum = mysum + i\n",
    "    print('triangular number #', i, ':', mysum)"
   ]
  },
  {
   "cell_type": "markdown",
   "metadata": {},
   "source": [
    "What if you wanted to add even numbers between 0 and 20 to a list called even_numbers? We could use a for loop and the range function:"
   ]
  },
  {
   "cell_type": "code",
   "execution_count": 3,
   "metadata": {},
   "outputs": [
    {
     "name": "stdout",
     "output_type": "stream",
     "text": [
      "[0, 2, 4, 6, 8, 10, 12, 14, 16, 18, 20]\n"
     ]
    }
   ],
   "source": [
    "evens = []\n",
    "for i in range(0,22,2):\n",
    "    evens.append(i)\n",
    "print(evens)"
   ]
  },
  {
   "cell_type": "markdown",
   "metadata": {},
   "source": [
    "To reference the last item in the list, you can use [-1]:"
   ]
  },
  {
   "cell_type": "code",
   "execution_count": 4,
   "metadata": {},
   "outputs": [
    {
     "name": "stdout",
     "output_type": "stream",
     "text": [
      "20\n"
     ]
    }
   ],
   "source": [
    "print(evens[-1])"
   ]
  },
  {
   "cell_type": "markdown",
   "metadata": {},
   "source": [
    "Or the second to last item:"
   ]
  },
  {
   "cell_type": "code",
   "execution_count": 5,
   "metadata": {},
   "outputs": [
    {
     "name": "stdout",
     "output_type": "stream",
     "text": [
      "18\n"
     ]
    }
   ],
   "source": [
    "print(evens[-2])"
   ]
  },
  {
   "cell_type": "markdown",
   "metadata": {},
   "source": [
    "We can iterate through lists in two ways. \n",
    "\n",
    "Firstly, we can say something like \"for item in item_list\" like we did earlier:"
   ]
  },
  {
   "cell_type": "code",
   "execution_count": 6,
   "metadata": {},
   "outputs": [
    {
     "name": "stdout",
     "output_type": "stream",
     "text": [
      "border collie\n",
      "australian cattle dog\n",
      "labrador retriever\n",
      "pitbull\n"
     ]
    }
   ],
   "source": [
    "doggies = ['border collie', 'australian cattle dog', 'labrador retriever', 'pitbull']\n",
    "for dog in doggies:\n",
    "    print(dog)"
   ]
  },
  {
   "cell_type": "markdown",
   "metadata": {},
   "source": [
    "Alternatively, we can use the range function to iterate through the list by using its index value:"
   ]
  },
  {
   "cell_type": "code",
   "execution_count": 7,
   "metadata": {},
   "outputs": [
    {
     "name": "stdout",
     "output_type": "stream",
     "text": [
      "border collie\n",
      "australian cattle dog\n",
      "labrador retriever\n",
      "pit bull\n"
     ]
    }
   ],
   "source": [
    "dogs = ['border collie', 'australian cattle dog', 'labrador retriever', 'pit bull']\n",
    "for i in range(len(dogs)):\n",
    "    print(dogs[i])"
   ]
  },
  {
   "cell_type": "markdown",
   "metadata": {},
   "source": [
    "Even though the second method looks uglier, it is sometimes helpful since it gives us more control over what items in the list we choose to iterate through (only the even indexed items, for example):"
   ]
  },
  {
   "cell_type": "code",
   "execution_count": 2,
   "metadata": {},
   "outputs": [
    {
     "name": "stdout",
     "output_type": "stream",
     "text": [
      "border collie\n",
      "labrador retriever\n"
     ]
    }
   ],
   "source": [
    "dogs = ['border collie', 'australian cattle dog', 'labrador retriever', 'pit bull']\n",
    "for i in range(0,len(dogs),2):\n",
    "    print(dogs[i])"
   ]
  },
  {
   "cell_type": "markdown",
   "metadata": {},
   "source": [
    "### Logical operators\n",
    "We have tests for things like equality and inequality:"
   ]
  },
  {
   "cell_type": "code",
   "execution_count": 25,
   "metadata": {},
   "outputs": [
    {
     "data": {
      "text/plain": [
       "True"
      ]
     },
     "execution_count": 25,
     "metadata": {},
     "output_type": "execute_result"
    }
   ],
   "source": [
    "5 == 5"
   ]
  },
  {
   "cell_type": "code",
   "execution_count": 26,
   "metadata": {},
   "outputs": [
    {
     "data": {
      "text/plain": [
       "False"
      ]
     },
     "execution_count": 26,
     "metadata": {},
     "output_type": "execute_result"
    }
   ],
   "source": [
    "5 == 4"
   ]
  },
  {
   "cell_type": "code",
   "execution_count": 27,
   "metadata": {},
   "outputs": [
    {
     "data": {
      "text/plain": [
       "True"
      ]
     },
     "execution_count": 27,
     "metadata": {},
     "output_type": "execute_result"
    }
   ],
   "source": [
    "4 < 5"
   ]
  },
  {
   "cell_type": "code",
   "execution_count": 28,
   "metadata": {},
   "outputs": [
    {
     "data": {
      "text/plain": [
       "True"
      ]
     },
     "execution_count": 28,
     "metadata": {},
     "output_type": "execute_result"
    }
   ],
   "source": [
    "4 <= 5"
   ]
  },
  {
   "cell_type": "code",
   "execution_count": 39,
   "metadata": {},
   "outputs": [
    {
     "data": {
      "text/plain": [
       "True"
      ]
     },
     "execution_count": 39,
     "metadata": {},
     "output_type": "execute_result"
    }
   ],
   "source": [
    "4 != 5"
   ]
  },
  {
   "cell_type": "code",
   "execution_count": 30,
   "metadata": {},
   "outputs": [
    {
     "data": {
      "text/plain": [
       "True"
      ]
     },
     "execution_count": 30,
     "metadata": {},
     "output_type": "execute_result"
    }
   ],
   "source": [
    "5 in [5,6,9,11]"
   ]
  },
  {
   "cell_type": "code",
   "execution_count": 31,
   "metadata": {},
   "outputs": [
    {
     "data": {
      "text/plain": [
       "False"
      ]
     },
     "execution_count": 31,
     "metadata": {},
     "output_type": "execute_result"
    }
   ],
   "source": [
    "4 in [5,6,9,11]"
   ]
  },
  {
   "cell_type": "markdown",
   "metadata": {},
   "source": [
    "### If statements\n",
    "We can use conditional statements to only perform operations if a condition is satisfied. In the code below, nothing will print because 5 is not greater than 6:"
   ]
  },
  {
   "cell_type": "code",
   "execution_count": 8,
   "metadata": {
    "collapsed": true
   },
   "outputs": [],
   "source": [
    "number = 5\n",
    "if number > 6:\n",
    "    print('Your number is greater than 6.')"
   ]
  },
  {
   "cell_type": "markdown",
   "metadata": {},
   "source": [
    "In the code below, you will get something to print because 7 is greater than 6:"
   ]
  },
  {
   "cell_type": "code",
   "execution_count": 33,
   "metadata": {},
   "outputs": [
    {
     "name": "stdout",
     "output_type": "stream",
     "text": [
      "Your number is greater than 6.\n"
     ]
    }
   ],
   "source": [
    "number = 7\n",
    "if number > 6:\n",
    "    print('Your number is greater than 6.')"
   ]
  },
  {
   "cell_type": "markdown",
   "metadata": {},
   "source": [
    "We can use if/else statements to perform two different operations depending on whether or not the condition is satisfied or not:"
   ]
  },
  {
   "cell_type": "code",
   "execution_count": 15,
   "metadata": {},
   "outputs": [
    {
     "name": "stdout",
     "output_type": "stream",
     "text": [
      "Your number is less than or equal to 6.\n"
     ]
    }
   ],
   "source": [
    "number = 5\n",
    "if number > 6:\n",
    "    print('Your number is greater than 6.')\n",
    "else:\n",
    "    print('Your number is less than or equal to 6.')"
   ]
  },
  {
   "cell_type": "markdown",
   "metadata": {},
   "source": [
    "If you want to check whether a number is exactly equal to another number, you'll need to use double equal signs, since \"=\" assigns a value whereas \"==\" checks for equality:"
   ]
  },
  {
   "cell_type": "code",
   "execution_count": 9,
   "metadata": {},
   "outputs": [
    {
     "name": "stdout",
     "output_type": "stream",
     "text": [
      "Your number is equal to 5.\n"
     ]
    }
   ],
   "source": [
    "number = 5\n",
    "if number == 5:\n",
    "    print('Your number is equal to 5.')\n",
    "else:\n",
    "    print('Your number is not equal to 5.')"
   ]
  },
  {
   "cell_type": "markdown",
   "metadata": {},
   "source": [
    "\"Greater or equal to\" is written in the order that it is said:"
   ]
  },
  {
   "cell_type": "code",
   "execution_count": 17,
   "metadata": {},
   "outputs": [
    {
     "name": "stdout",
     "output_type": "stream",
     "text": [
      "Your number is greater or equal to 5.\n"
     ]
    }
   ],
   "source": [
    "number = 5\n",
    "if number >= 5:\n",
    "    print('Your number is greater or equal to 5.')\n",
    "else:\n",
    "    print('Your number is less than 5.')"
   ]
  },
  {
   "cell_type": "markdown",
   "metadata": {},
   "source": [
    "You can also use if/elif/else to specify more than two conditions:"
   ]
  },
  {
   "cell_type": "code",
   "execution_count": 18,
   "metadata": {},
   "outputs": [
    {
     "name": "stdout",
     "output_type": "stream",
     "text": [
      "Your number is less than or equal to 5.\n"
     ]
    }
   ],
   "source": [
    "number = 5\n",
    "if number > 10:\n",
    "    print('Your number is bigger than 10.')\n",
    "elif 10 >= number > 8:\n",
    "    print('Your number is between 8 and 10.')\n",
    "elif 8 >= number > 5:\n",
    "    print('Your number is between 5 and 8.')\n",
    "else:\n",
    "    print('Your number is less than or equal to 5.')"
   ]
  },
  {
   "cell_type": "markdown",
   "metadata": {},
   "source": [
    "### Some math\n",
    "Integers behave the way you would expect:"
   ]
  },
  {
   "cell_type": "code",
   "execution_count": 67,
   "metadata": {},
   "outputs": [
    {
     "name": "stdout",
     "output_type": "stream",
     "text": [
      "5\n",
      "1\n",
      "6\n",
      "1.5\n",
      "9\n"
     ]
    }
   ],
   "source": [
    "print(3+2)\n",
    "print(3-2)\n",
    "print(3*2)\n",
    "print(3/2)\n",
    "print(3**2)"
   ]
  },
  {
   "cell_type": "markdown",
   "metadata": {},
   "source": [
    "Sometimes floating numbers (i.e., decimals) can have some strange rounding stuff:"
   ]
  },
  {
   "cell_type": "code",
   "execution_count": 68,
   "metadata": {},
   "outputs": [
    {
     "name": "stdout",
     "output_type": "stream",
     "text": [
      "0.2\n",
      "0.30000000000000004\n"
     ]
    }
   ],
   "source": [
    "print(0.1+0.1)\n",
    "print(0.1+0.2)"
   ]
  },
  {
   "cell_type": "markdown",
   "metadata": {},
   "source": [
    "Here's an explanation for why:\n",
    "\n",
    "https://stackoverflow.com/questions/7545015/can-someone-explain-this-0-2-0-1-0-30000000000000004\n"
   ]
  },
  {
   "cell_type": "markdown",
   "metadata": {},
   "source": [
    "There are some useful built in functions for numerical lists:"
   ]
  },
  {
   "cell_type": "code",
   "execution_count": 70,
   "metadata": {},
   "outputs": [
    {
     "name": "stdout",
     "output_type": "stream",
     "text": [
      "max: 17\n",
      "min: 2\n",
      "sum: 50\n",
      "average: 8.333333333333334\n"
     ]
    }
   ],
   "source": [
    "numbers = [2,4,17,9,11,7]\n",
    "print('max:', max(numbers))\n",
    "print('min:', min(numbers))\n",
    "print('sum:', sum(numbers))\n",
    "print('average:', sum(numbers)/len(numbers))"
   ]
  },
  {
   "cell_type": "markdown",
   "metadata": {},
   "source": [
    "If you want to perform more math than what is already built in, you may need to import the math package:"
   ]
  },
  {
   "cell_type": "code",
   "execution_count": 76,
   "metadata": {},
   "outputs": [
    {
     "name": "stdout",
     "output_type": "stream",
     "text": [
      "2.0\n",
      "3.141592653589793\n",
      "-1.0\n",
      "2.718281828459045\n",
      "120\n"
     ]
    }
   ],
   "source": [
    "import math\n",
    "print(math.sqrt(4))\n",
    "print(math.pi)\n",
    "print(math.cos(math.pi))\n",
    "print(math.exp(1))\n",
    "print(math.factorial(5))"
   ]
  },
  {
   "cell_type": "markdown",
   "metadata": {},
   "source": [
    "### Modulo\n",
    "\n",
    "Modulo is a math operator that returns the remainder. For example, 7 mod 2 is equal to 1, since 2 goes evenly into 7 three times, with a remainder of one. 6 mod 2, on the other hand, is exactly 0, since 6 is a multiple of 2. Here are some other examples:\n",
    "\n",
    "8 mod 5 = 3\n",
    "\n",
    "8 mod 3 = 2\n",
    "\n",
    "8 mod 7 = 1\n",
    "\n",
    "8 mod 4 = 0\n",
    "\n",
    "8 mod 8 = 0\n",
    "\n",
    "8 mod 9 = 8\n",
    "\n",
    "8 mod 10 = 8\n",
    "\n",
    "In Python, we use the % sign to denote the mod symbol:"
   ]
  },
  {
   "cell_type": "code",
   "execution_count": 36,
   "metadata": {},
   "outputs": [
    {
     "name": "stdout",
     "output_type": "stream",
     "text": [
      "1\n"
     ]
    }
   ],
   "source": [
    "print(16 % 5) "
   ]
  },
  {
   "cell_type": "markdown",
   "metadata": {},
   "source": [
    "We can use modulo to print out just even numbers:"
   ]
  },
  {
   "cell_type": "code",
   "execution_count": 37,
   "metadata": {},
   "outputs": [
    {
     "name": "stdout",
     "output_type": "stream",
     "text": [
      "0\n",
      "2\n",
      "4\n",
      "6\n",
      "8\n"
     ]
    }
   ],
   "source": [
    "for i in range(10):\n",
    "    if i % 2 == 0:\n",
    "        print(i)"
   ]
  },
  {
   "cell_type": "markdown",
   "metadata": {},
   "source": [
    "Or just odds:"
   ]
  },
  {
   "cell_type": "code",
   "execution_count": 38,
   "metadata": {},
   "outputs": [
    {
     "name": "stdout",
     "output_type": "stream",
     "text": [
      "1\n",
      "3\n",
      "5\n",
      "7\n",
      "9\n"
     ]
    }
   ],
   "source": [
    "for i in range(10):\n",
    "    if i % 2 == 1:\n",
    "        print(i)"
   ]
  },
  {
   "cell_type": "markdown",
   "metadata": {},
   "source": [
    "In addition, the mod function helps us determine whether a number is a factor of another number, since when m is a factor of n, n % m = 0. The code below prints factors of 20:"
   ]
  },
  {
   "cell_type": "code",
   "execution_count": 41,
   "metadata": {},
   "outputs": [
    {
     "name": "stdout",
     "output_type": "stream",
     "text": [
      "1\n",
      "2\n",
      "4\n",
      "5\n",
      "10\n",
      "20\n"
     ]
    }
   ],
   "source": [
    "number = 20\n",
    "for i in range(1,number+1):\n",
    "    if number % i == 0:\n",
    "        print(i)"
   ]
  },
  {
   "cell_type": "markdown",
   "metadata": {},
   "source": [
    "### Booleans\n",
    "Boolean variables are variables that take on the values of True or False."
   ]
  },
  {
   "cell_type": "code",
   "execution_count": 72,
   "metadata": {},
   "outputs": [
    {
     "name": "stdout",
     "output_type": "stream",
     "text": [
      "divisible by 2\n"
     ]
    }
   ],
   "source": [
    "even = True\n",
    "if even == True:\n",
    "    print('divisible by 2')\n",
    "else:\n",
    "    print('not divisible by 2')"
   ]
  },
  {
   "cell_type": "markdown",
   "metadata": {},
   "source": [
    "The code below assumes that there are no evens in the list of numbers. If it finds an even number, it changes its assumption to True for the remainder of the loop."
   ]
  },
  {
   "cell_type": "code",
   "execution_count": 11,
   "metadata": {},
   "outputs": [
    {
     "name": "stdout",
     "output_type": "stream",
     "text": [
      "5 False\n",
      "3 False\n",
      "7 False\n",
      "9 False\n",
      "2 True\n",
      "1 True\n",
      "15 True\n",
      "You have an even number in your list.\n"
     ]
    }
   ],
   "source": [
    "numbers = [5, 3, 7, 9, 2, 1, 15]\n",
    "\n",
    "even = False\n",
    "\n",
    "for number in numbers:\n",
    "    if number % 2 == 0:\n",
    "        even = True\n",
    "    print(number, even)\n",
    "        \n",
    "if even == True:\n",
    "    print('You have an even number in your list.')\n",
    "else:\n",
    "    print('You have no even numbers in your list.')"
   ]
  },
  {
   "cell_type": "markdown",
   "metadata": {},
   "source": [
    "### Functions\n",
    "\n",
    "When we define a function, we give it an input (between the parenthesis) and return an output. We can then call the function below the function definition. \n",
    "\n",
    "The code below defines a function called sum_one that adds one to a number. It then calls the function on the numbers 5 and 9:"
   ]
  },
  {
   "cell_type": "code",
   "execution_count": 12,
   "metadata": {},
   "outputs": [
    {
     "name": "stdout",
     "output_type": "stream",
     "text": [
      "6\n",
      "10\n"
     ]
    }
   ],
   "source": [
    "def sum_one(number):\n",
    "    new_number = number + 1\n",
    "    return new_number\n",
    "\n",
    "print(sum_one(5))\n",
    "print(sum_one(9))"
   ]
  },
  {
   "cell_type": "markdown",
   "metadata": {},
   "source": [
    "We can simplify the code even further:"
   ]
  },
  {
   "cell_type": "code",
   "execution_count": 13,
   "metadata": {},
   "outputs": [
    {
     "name": "stdout",
     "output_type": "stream",
     "text": [
      "6\n",
      "10\n"
     ]
    }
   ],
   "source": [
    "def sum_one(number):\n",
    "    return number + 1\n",
    "\n",
    "print(sum_one(5))\n",
    "print(sum_one(9))"
   ]
  },
  {
   "cell_type": "markdown",
   "metadata": {},
   "source": [
    "We can take in more than one input:"
   ]
  },
  {
   "cell_type": "code",
   "execution_count": 14,
   "metadata": {},
   "outputs": [
    {
     "name": "stdout",
     "output_type": "stream",
     "text": [
      "12\n"
     ]
    }
   ],
   "source": [
    "def sum_two(number1, number2):\n",
    "    return number1+number2\n",
    "\n",
    "print(sum_two(5,7))"
   ]
  },
  {
   "cell_type": "markdown",
   "metadata": {},
   "source": [
    "We can define a factorial function:"
   ]
  },
  {
   "cell_type": "code",
   "execution_count": 23,
   "metadata": {},
   "outputs": [
    {
     "name": "stdout",
     "output_type": "stream",
     "text": [
      "120\n"
     ]
    }
   ],
   "source": [
    "def factorial(n):\n",
    "    product = 1\n",
    "    for i in range(1,n+1):\n",
    "        product = product*i\n",
    "    return product\n",
    "\n",
    "print(factorial(5))"
   ]
  },
  {
   "cell_type": "markdown",
   "metadata": {},
   "source": [
    "We can define a function that sums all of the integers between 1 and a given number:"
   ]
  },
  {
   "cell_type": "code",
   "execution_count": 24,
   "metadata": {},
   "outputs": [
    {
     "name": "stdout",
     "output_type": "stream",
     "text": [
      "6\n"
     ]
    }
   ],
   "source": [
    "def triangular_numbers(n):\n",
    "    mysum = 0\n",
    "    for i in range(1,n+1):\n",
    "        mysum = mysum+i\n",
    "    return mysum\n",
    "\n",
    "print(triangular_numbers(3))"
   ]
  },
  {
   "cell_type": "markdown",
   "metadata": {},
   "source": [
    "We can define a function that returns all of the even integers below a certain positive integer:"
   ]
  },
  {
   "cell_type": "code",
   "execution_count": 23,
   "metadata": {},
   "outputs": [
    {
     "name": "stdout",
     "output_type": "stream",
     "text": [
      "[0, 2, 4, 6, 8, 10, 12, 14, 16, 18]\n"
     ]
    }
   ],
   "source": [
    "def return_evens(n):\n",
    "    evens = []\n",
    "    for i in range(n):\n",
    "        if i % 2 == 0:\n",
    "            evens.append(i)\n",
    "    return evens\n",
    "\n",
    "print(return_evens(19))"
   ]
  },
  {
   "cell_type": "markdown",
   "metadata": {},
   "source": [
    "We can define a function that returns whether or not a list of numbers contains an even number or not:"
   ]
  },
  {
   "cell_type": "code",
   "execution_count": 3,
   "metadata": {},
   "outputs": [
    {
     "name": "stdout",
     "output_type": "stream",
     "text": [
      "True\n",
      "False\n"
     ]
    }
   ],
   "source": [
    "def even_check(numbers):\n",
    "\n",
    "    even = False\n",
    "\n",
    "    for number in numbers:\n",
    "        if number % 2 == 0:\n",
    "            even = True\n",
    "        \n",
    "    return even\n",
    "\n",
    "print(even_check([5, 3, 7, 9, 2, 1, 15]))\n",
    "print(even_check([5,3,7]))"
   ]
  },
  {
   "cell_type": "markdown",
   "metadata": {},
   "source": [
    "We can create a function that takes in two positive integers m and n and returns all of the multiples of m that are less than or equal to n:"
   ]
  },
  {
   "cell_type": "code",
   "execution_count": 26,
   "metadata": {},
   "outputs": [
    {
     "name": "stdout",
     "output_type": "stream",
     "text": [
      "[3, 6, 9, 12, 15, 18, 21, 24, 27]\n",
      "[4, 8, 12, 16, 20, 24]\n"
     ]
    }
   ],
   "source": [
    "def factors(m,n):\n",
    "    factors_list = []\n",
    "    for i in range(1,n+1):\n",
    "        if i % m == 0:\n",
    "            factors_list.append(i)\n",
    "    return factors_list\n",
    "\n",
    "print(factors(3,27))\n",
    "print(factors(4,27))"
   ]
  },
  {
   "cell_type": "markdown",
   "metadata": {},
   "source": [
    "We can update variables simultaneously by putting a comma between them. In the example below, the function takes two numbers returns the sum and difference of those two numbers:"
   ]
  },
  {
   "cell_type": "code",
   "execution_count": 29,
   "metadata": {},
   "outputs": [
    {
     "name": "stdout",
     "output_type": "stream",
     "text": [
      "(8, -2)\n"
     ]
    }
   ],
   "source": [
    "def sum_diff(m,n):\n",
    "    \n",
    "    m, n = m+n, m-n\n",
    "    \n",
    "    return m,n\n",
    "\n",
    "print(sum_diff(3,5))"
   ]
  },
  {
   "cell_type": "markdown",
   "metadata": {},
   "source": [
    "### Exercise 1 - Double\n",
    "Write a function called \"double\" that returns double of a number.\n",
    "Hint: Pay special attention to the sum_one example."
   ]
  },
  {
   "cell_type": "code",
   "execution_count": 1,
   "metadata": {},
   "outputs": [
    {
     "name": "stdout",
     "output_type": "stream",
     "text": [
      "10.4\n"
     ]
    }
   ],
   "source": [
    "#insert Exercise 1 here\n",
    "\n",
    "def double(n):\n",
    "    return 2*n\n",
    "\n",
    "print(double(5.2))"
   ]
  },
  {
   "cell_type": "markdown",
   "metadata": {},
   "source": [
    "### Exercise 2 - Odds list\n",
    "\n",
    "Write a function called \"return_odds\" that takes in a positive integer, n, and returns a list of all the odd integers less than that number.\n",
    "\n",
    "Hint: Pay special attention to the return_evens example."
   ]
  },
  {
   "cell_type": "code",
   "execution_count": 5,
   "metadata": {},
   "outputs": [
    {
     "name": "stdout",
     "output_type": "stream",
     "text": [
      "[1, 3, 5, 7, 9, 11, 13, 15, 17, 19]\n"
     ]
    }
   ],
   "source": [
    "#insert Exercise 2 here\n",
    "\n",
    "def return_odds(n):\n",
    "    odds = []\n",
    "    for i in range(n):\n",
    "        if i % 2 == 1:\n",
    "            odds.append(i)\n",
    "    return odds\n",
    "print(return_odds(20))"
   ]
  },
  {
   "cell_type": "markdown",
   "metadata": {},
   "source": [
    "### Exercise 3 - Average\n",
    "Write a function called \"average\" that takes in a list of numbers and returns the average. \n",
    "\n",
    "Hint: We discussed how to use the built-in functions sum and len to calculate the average earlier. Do \"Control-F\" or \"Command-F\" to search for \"average\" in this notebook if you have forgotten where."
   ]
  },
  {
   "cell_type": "code",
   "execution_count": 6,
   "metadata": {},
   "outputs": [
    {
     "name": "stdout",
     "output_type": "stream",
     "text": [
      "0.75\n"
     ]
    }
   ],
   "source": [
    "#insert Exercise 3 here\n",
    "def average(numbers):\n",
    "    return sum(numbers)/len(numbers)\n",
    "\n",
    "print(average([5,2,-4,0]))"
   ]
  },
  {
   "cell_type": "markdown",
   "metadata": {
    "collapsed": true
   },
   "source": [
    "### Exercise 4 - Prime Numbers\n",
    "Write a function called \"prime\" that takes in a number, n, and returns \"True\" if the number is prime and \"False\" if the number is not prime.\n",
    "\n",
    "Hint: Pay special attention to the even_check and factors function examples."
   ]
  },
  {
   "cell_type": "code",
   "execution_count": 7,
   "metadata": {},
   "outputs": [
    {
     "name": "stdout",
     "output_type": "stream",
     "text": [
      "True\n",
      "False\n"
     ]
    }
   ],
   "source": [
    "#insert Exercise 4 here\n",
    "def prime(number):\n",
    "\n",
    "    prime = True\n",
    "\n",
    "    for i in range(2,number):\n",
    "        if number % i == 0:\n",
    "            prime = False\n",
    "        \n",
    "    return prime\n",
    "\n",
    "print(prime(7))\n",
    "print(prime(8))"
   ]
  },
  {
   "cell_type": "markdown",
   "metadata": {},
   "source": [
    "### Exercise 5 - Fibonacci Numbers\n",
    "\n",
    "Write a function that takes in a number, n, and returns a list of the first n terms of the Fibonacci sequence. For example, an input of 6 would return the list [1,1,2,3,5,8].\n",
    "\n",
    "For simplicity, you can assume that the user will give you a positive number, n, greater or equal to 3, so that 1 and 1 are always included in the list.\n",
    "\n",
    "Hint: pay special attention to the sum_diff function example."
   ]
  },
  {
   "cell_type": "code",
   "execution_count": 8,
   "metadata": {},
   "outputs": [
    {
     "name": "stdout",
     "output_type": "stream",
     "text": [
      "[1, 1, 2, 3, 5, 8, 13]\n"
     ]
    }
   ],
   "source": [
    "#insert Exercise 5 here\n",
    "def fibonacci(n):\n",
    "    old, new = 1, 1\n",
    "    \n",
    "    fib_list = [old, new]\n",
    "\n",
    "    for i in range(n-2):\n",
    "        old, new = new, old + new\n",
    "        fib_list.append(new)\n",
    "    return fib_list\n",
    "\n",
    "print(fibonacci(7))"
   ]
  }
 ],
 "metadata": {
  "kernelspec": {
   "display_name": "Python 3",
   "language": "python",
   "name": "python3"
  },
  "language_info": {
   "codemirror_mode": {
    "name": "ipython",
    "version": 3
   },
   "file_extension": ".py",
   "mimetype": "text/x-python",
   "name": "python",
   "nbconvert_exporter": "python",
   "pygments_lexer": "ipython3",
   "version": "3.7.3"
  }
 },
 "nbformat": 4,
 "nbformat_minor": 2
}
