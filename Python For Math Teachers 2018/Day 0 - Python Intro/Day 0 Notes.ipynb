{
 "cells": [
  {
   "cell_type": "markdown",
   "metadata": {
    "slideshow": {
     "slide_type": "slide"
    }
   },
   "source": [
    "### Day 0 Slides"
   ]
  },
  {
   "cell_type": "markdown",
   "metadata": {
    "slideshow": {
     "slide_type": "slide"
    }
   },
   "source": [
    "### For loops\n",
    "\n",
    "You must initialize variables."
   ]
  },
  {
   "cell_type": "code",
   "execution_count": 1,
   "metadata": {
    "slideshow": {
     "slide_type": "fragment"
    }
   },
   "outputs": [
    {
     "ename": "NameError",
     "evalue": "name 'myproduct' is not defined",
     "output_type": "error",
     "traceback": [
      "\u001b[0;31m---------------------------------------------------------------------------\u001b[0m",
      "\u001b[0;31mNameError\u001b[0m                                 Traceback (most recent call last)",
      "\u001b[0;32m<ipython-input-1-c200601198e6>\u001b[0m in \u001b[0;36m<module>\u001b[0;34m()\u001b[0m\n\u001b[1;32m      1\u001b[0m \u001b[0mnumber_list\u001b[0m \u001b[0;34m=\u001b[0m \u001b[0;34m[\u001b[0m\u001b[0;36m5\u001b[0m\u001b[0;34m,\u001b[0m\u001b[0;36m4\u001b[0m\u001b[0;34m,\u001b[0m\u001b[0;36m3\u001b[0m\u001b[0;34m,\u001b[0m\u001b[0;36m2\u001b[0m\u001b[0;34m,\u001b[0m\u001b[0;36m1\u001b[0m\u001b[0;34m]\u001b[0m\u001b[0;34m\u001b[0m\u001b[0m\n\u001b[1;32m      2\u001b[0m \u001b[0;32mfor\u001b[0m \u001b[0mnumber\u001b[0m \u001b[0;32min\u001b[0m \u001b[0mnumber_list\u001b[0m\u001b[0;34m:\u001b[0m\u001b[0;34m\u001b[0m\u001b[0m\n\u001b[0;32m----> 3\u001b[0;31m     \u001b[0mprint\u001b[0m\u001b[0;34m(\u001b[0m\u001b[0mmyproduct\u001b[0m\u001b[0;34m)\u001b[0m\u001b[0;34m\u001b[0m\u001b[0m\n\u001b[0m\u001b[1;32m      4\u001b[0m     \u001b[0mmyproduct\u001b[0m \u001b[0;34m=\u001b[0m \u001b[0mmyproduct\u001b[0m\u001b[0;34m*\u001b[0m\u001b[0mnumber\u001b[0m\u001b[0;34m\u001b[0m\u001b[0m\n\u001b[1;32m      5\u001b[0m \u001b[0mprint\u001b[0m\u001b[0;34m(\u001b[0m\u001b[0;34m'Final Product ='\u001b[0m\u001b[0;34m,\u001b[0m \u001b[0mmyproduct\u001b[0m\u001b[0;34m)\u001b[0m\u001b[0;34m\u001b[0m\u001b[0m\n",
      "\u001b[0;31mNameError\u001b[0m: name 'myproduct' is not defined"
     ]
    }
   ],
   "source": [
    "number_list = [5,4,3,2,1]\n",
    "for number in number_list:\n",
    "    print(myproduct)\n",
    "    myproduct = myproduct*number\n",
    "print('Final Product =', myproduct)"
   ]
  },
  {
   "cell_type": "markdown",
   "metadata": {
    "slideshow": {
     "slide_type": "slide"
    }
   },
   "source": [
    "For products, we want to initialize the total product to 1."
   ]
  },
  {
   "cell_type": "code",
   "execution_count": 5,
   "metadata": {
    "slideshow": {
     "slide_type": "fragment"
    }
   },
   "outputs": [
    {
     "name": "stdout",
     "output_type": "stream",
     "text": [
      "1\n",
      "5\n",
      "20\n",
      "60\n",
      "120\n",
      "Final Product = 120\n"
     ]
    }
   ],
   "source": [
    "number_list = [5,4,3,2,1]\n",
    "myproduct = 1\n",
    "for number in number_list:\n",
    "    print(myproduct)\n",
    "    myproduct = myproduct*number\n",
    "print('Final Product =', myproduct)"
   ]
  },
  {
   "cell_type": "markdown",
   "metadata": {
    "slideshow": {
     "slide_type": "slide"
    }
   },
   "source": [
    "For sums, we want to initialize the total sum to 0."
   ]
  },
  {
   "cell_type": "code",
   "execution_count": 6,
   "metadata": {
    "slideshow": {
     "slide_type": "fragment"
    }
   },
   "outputs": [
    {
     "name": "stdout",
     "output_type": "stream",
     "text": [
      "0\n",
      "1\n",
      "3\n",
      "6\n",
      "10\n",
      "Final Sum = 15\n"
     ]
    }
   ],
   "source": [
    "number_list = [1, 2, 3, 4, 5]\n",
    "mysum = 0\n",
    "for number in number_list:\n",
    "    print(mysum)\n",
    "    mysum = mysum + number\n",
    "print('Final Sum =', mysum)"
   ]
  },
  {
   "cell_type": "markdown",
   "metadata": {
    "slideshow": {
     "slide_type": "skip"
    }
   },
   "source": [
    "Why does 0.1+0.2 behave badly?"
   ]
  },
  {
   "cell_type": "code",
   "execution_count": 7,
   "metadata": {
    "slideshow": {
     "slide_type": "skip"
    }
   },
   "outputs": [
    {
     "data": {
      "text/plain": [
       "0.30000000000000004"
      ]
     },
     "execution_count": 7,
     "metadata": {},
     "output_type": "execute_result"
    }
   ],
   "source": [
    "0.1+0.2"
   ]
  },
  {
   "cell_type": "markdown",
   "metadata": {
    "slideshow": {
     "slide_type": "skip"
    }
   },
   "source": [
    "Because 0.2 can't be written in exact binary notation.\n",
    "\n",
    "<img src=\"images/binary1.png\" style=\"width: 100px;\"/>\n",
    "<img src=\"images/binary2.png\" style=\"width: 400px;\"/>"
   ]
  },
  {
   "cell_type": "markdown",
   "metadata": {
    "slideshow": {
     "slide_type": "slide"
    }
   },
   "source": [
    "### The range function\n",
    "What are each of the three range arguments doing below?"
   ]
  },
  {
   "cell_type": "code",
   "execution_count": 3,
   "metadata": {
    "slideshow": {
     "slide_type": "fragment"
    }
   },
   "outputs": [
    {
     "name": "stdout",
     "output_type": "stream",
     "text": [
      "t\n",
      "g\n",
      "t\n",
      "e\n",
      "e\n"
     ]
    }
   ],
   "source": [
    "crazy_word = 'raeebetctefgxyte'\n",
    "for i in range(len(crazy_word)-1,-1,-3):\n",
    "    print(crazy_word[i])"
   ]
  },
  {
   "cell_type": "markdown",
   "metadata": {
    "slideshow": {
     "slide_type": "slide"
    }
   },
   "source": [
    "### Conditionals\n",
    "\n",
    "Things to notice in the next code:\n",
    "\n",
    "1. One equal sign for assignment versus two for testing equality.\n",
    "\n",
    "2. We need to put int() or float() around user input if we want them treated as numbers instead of as strings."
   ]
  },
  {
   "cell_type": "code",
   "execution_count": 7,
   "metadata": {
    "slideshow": {
     "slide_type": "slide"
    }
   },
   "outputs": [
    {
     "name": "stdout",
     "output_type": "stream",
     "text": [
      "What's for lunch in the cafeteria? Pasta\n",
      "How much money do you have to go out to lunch? 7\n",
      "Cool, together we have 17 to spend off campus.\n"
     ]
    }
   ],
   "source": [
    "lunch = input(\"What's for lunch in the cafeteria? \")\n",
    "if lunch == 'Sloppy Joes':\n",
    "    print(\"Ew, gross. Let's go out to lunch.\")\n",
    "elif lunch == 'Pizza':\n",
    "    print(\"That's my favorite!\")\n",
    "else:\n",
    "    money = int(input('How much money do you have to go out to lunch? '))\n",
    "    print('Cool, together we have', money+10, 'to spend off campus.')\n",
    "    "
   ]
  },
  {
   "cell_type": "markdown",
   "metadata": {
    "slideshow": {
     "slide_type": "slide"
    }
   },
   "source": [
    "### Modulo: gives remainder\n",
    "To find factors of 20:"
   ]
  },
  {
   "cell_type": "code",
   "execution_count": 5,
   "metadata": {
    "slideshow": {
     "slide_type": "fragment"
    }
   },
   "outputs": [
    {
     "name": "stdout",
     "output_type": "stream",
     "text": [
      "1\n",
      "2\n",
      "4\n",
      "5\n",
      "10\n",
      "20\n"
     ]
    }
   ],
   "source": [
    "for i in range(1,21):\n",
    "    if 20 % i == 0:\n",
    "        print(i)"
   ]
  },
  {
   "cell_type": "markdown",
   "metadata": {
    "slideshow": {
     "slide_type": "slide"
    }
   },
   "source": [
    "To put these factors into a list:"
   ]
  },
  {
   "cell_type": "code",
   "execution_count": 9,
   "metadata": {
    "slideshow": {
     "slide_type": "fragment"
    }
   },
   "outputs": [
    {
     "name": "stdout",
     "output_type": "stream",
     "text": [
      "[1, 2, 4, 5, 10, 20]\n"
     ]
    }
   ],
   "source": [
    "factors = []\n",
    "for i in range(1,21):\n",
    "    if 20 % i == 0:\n",
    "        factors.append(i)\n",
    "#        print(factors)\n",
    "print(factors)"
   ]
  },
  {
   "cell_type": "markdown",
   "metadata": {
    "slideshow": {
     "slide_type": "slide"
    }
   },
   "source": [
    "To make this into a more general function for finding factors of any number:"
   ]
  },
  {
   "cell_type": "code",
   "execution_count": 15,
   "metadata": {
    "slideshow": {
     "slide_type": "fragment"
    }
   },
   "outputs": [
    {
     "data": {
      "text/plain": [
       "[1, 2, 5, 10, 25, 50]"
      ]
     },
     "execution_count": 15,
     "metadata": {},
     "output_type": "execute_result"
    }
   ],
   "source": [
    "def factors(n):\n",
    "    factors_list = []\n",
    "    for i in range(1,n+1):\n",
    "        if n % i == 0:\n",
    "            factors_list.append(i)\n",
    "    return factors_list\n",
    "\n",
    "factors(36)\n",
    "factors(50)"
   ]
  },
  {
   "cell_type": "markdown",
   "metadata": {
    "slideshow": {
     "slide_type": "slide"
    }
   },
   "source": [
    "### Prime Exercise\n",
    "\n",
    "Why does the initial assumption need to be True not False?"
   ]
  },
  {
   "cell_type": "code",
   "execution_count": 22,
   "metadata": {},
   "outputs": [
    {
     "name": "stdout",
     "output_type": "stream",
     "text": [
      "True\n",
      "False\n"
     ]
    }
   ],
   "source": [
    "def prime(number):\n",
    "\n",
    "    prime = True\n",
    "\n",
    "    for i in range(2,number):\n",
    "        if number % i == 0:\n",
    "#            prime = False\n",
    "            return False\n",
    "        \n",
    "    return prime\n",
    "\n",
    "print(prime(7))\n",
    "print(prime(8))"
   ]
  },
  {
   "cell_type": "markdown",
   "metadata": {
    "slideshow": {
     "slide_type": "slide"
    }
   },
   "source": [
    "### Fibonacci Exercise\n",
    "Here's a solution where we simultaneously update variables:"
   ]
  },
  {
   "cell_type": "code",
   "execution_count": 11,
   "metadata": {
    "slideshow": {
     "slide_type": "fragment"
    }
   },
   "outputs": [
    {
     "name": "stdout",
     "output_type": "stream",
     "text": [
      "[1, 1, 2, 3, 5, 8, 13]\n"
     ]
    }
   ],
   "source": [
    "def fibonacci(n):\n",
    "    old, new = 1, 1\n",
    "    \n",
    "    fib_list = [old, new]\n",
    "\n",
    "    for i in range(n-2):\n",
    "        old, new = new, old + new\n",
    "        fib_list.append(new)\n",
    "    return fib_list\n",
    "\n",
    "print(fibonacci(7))"
   ]
  },
  {
   "cell_type": "markdown",
   "metadata": {
    "slideshow": {
     "slide_type": "slide"
    }
   },
   "source": [
    "What's the problem if we updated the old variable first?"
   ]
  },
  {
   "cell_type": "code",
   "execution_count": 9,
   "metadata": {
    "slideshow": {
     "slide_type": "fragment"
    }
   },
   "outputs": [
    {
     "name": "stdout",
     "output_type": "stream",
     "text": [
      "[1, 1, 2, 4, 8, 16, 32]\n"
     ]
    }
   ],
   "source": [
    "def fibonacci(n):\n",
    "    old, new = 1, 1\n",
    "    \n",
    "    fib_list = [old, new]\n",
    "\n",
    "    for i in range(n-2):\n",
    "        old = new\n",
    "        new = old + new\n",
    "        fib_list.append(new)\n",
    "    return fib_list\n",
    "\n",
    "print(fibonacci(7))"
   ]
  },
  {
   "cell_type": "markdown",
   "metadata": {
    "slideshow": {
     "slide_type": "slide"
    }
   },
   "source": [
    "What's the problem if we updated the new variable first?"
   ]
  },
  {
   "cell_type": "code",
   "execution_count": 10,
   "metadata": {
    "slideshow": {
     "slide_type": "fragment"
    }
   },
   "outputs": [
    {
     "name": "stdout",
     "output_type": "stream",
     "text": [
      "[1, 1, 2, 4, 8, 16, 32]\n"
     ]
    }
   ],
   "source": [
    "def fibonacci(n):\n",
    "    old, new = 1, 1\n",
    "    \n",
    "    fib_list = [old, new]\n",
    "\n",
    "    for i in range(n-2):\n",
    "        new = old + new\n",
    "        old = new\n",
    "        fib_list.append(new)\n",
    "    return fib_list\n",
    "\n",
    "print(fibonacci(7))"
   ]
  },
  {
   "cell_type": "markdown",
   "metadata": {
    "slideshow": {
     "slide_type": "slide"
    }
   },
   "source": [
    "We need a temporary variable to save the \"old\" \"new\" variable as an alternative correct solution:"
   ]
  },
  {
   "cell_type": "code",
   "execution_count": 18,
   "metadata": {
    "slideshow": {
     "slide_type": "fragment"
    }
   },
   "outputs": [
    {
     "name": "stdout",
     "output_type": "stream",
     "text": [
      "[1, 1, 2, 3, 5, 8, 13]\n"
     ]
    }
   ],
   "source": [
    "def fibonacci(n):\n",
    "    old = 1\n",
    "    new = 1\n",
    "    temp = 1\n",
    "    \n",
    "    fib_list = [old, new]\n",
    "\n",
    "    for i in range(n-2):\n",
    "        temp = new\n",
    "        new = new + old\n",
    "        old = temp\n",
    "\n",
    "        fib_list.append(new)\n",
    "    return fib_list\n",
    "\n",
    "print(fibonacci(7))"
   ]
  },
  {
   "cell_type": "markdown",
   "metadata": {
    "slideshow": {
     "slide_type": "slide"
    }
   },
   "source": [
    "### Challenge\n",
    "Definition: A primitive Pythagorean triple is a triple of numbers a, b, and c such that a, b, and c have no common factors and a^2+b^2=c^2.\n",
    "\n",
    "Examples: (3,4,5)        (5,12,13)        (8,15,17)         (7,24,25)\n",
    "\n",
    "Non-examples: (6,8,10)"
   ]
  },
  {
   "cell_type": "markdown",
   "metadata": {
    "slideshow": {
     "slide_type": "slide"
    }
   },
   "source": [
    "https://www.math.brown.edu/~jhs/frintch1ch6.pdf\n",
    "\n",
    "<img src=\"images/primitive.png\" style=\"width: 600px;\"/>\n",
    "\n",
    "Exercise: Find all of the primitive Pythagorean Triples with s < 23."
   ]
  },
  {
   "cell_type": "code",
   "execution_count": 22,
   "metadata": {
    "slideshow": {
     "slide_type": "slide"
    }
   },
   "outputs": [
    {
     "name": "stdout",
     "output_type": "stream",
     "text": [
      "3 4 5\n",
      "5 12 13\n",
      "15 8 17\n",
      "7 24 25\n",
      "21 20 29\n",
      "35 12 37\n",
      "9 40 41\n",
      "45 28 53\n",
      "63 16 65\n",
      "11 60 61\n",
      "33 56 65\n",
      "55 48 73\n",
      "77 36 85\n",
      "99 20 101\n",
      "13 84 85\n",
      "39 80 89\n",
      "65 72 97\n",
      "91 60 109\n",
      "117 44 125\n",
      "143 24 145\n",
      "15 112 113\n",
      "105 88 137\n",
      "165 52 173\n",
      "195 28 197\n",
      "17 144 145\n",
      "51 140 149\n",
      "85 132 157\n",
      "119 120 169\n",
      "153 104 185\n",
      "187 84 205\n",
      "221 60 229\n",
      "255 32 257\n",
      "19 180 181\n",
      "57 176 185\n",
      "95 168 193\n",
      "133 156 205\n",
      "171 140 221\n",
      "209 120 241\n",
      "247 96 265\n",
      "285 68 293\n",
      "323 36 325\n",
      "21 220 221\n",
      "105 208 233\n",
      "231 160 281\n",
      "273 136 305\n",
      "357 76 365\n",
      "399 40 401\n"
     ]
    }
   ],
   "source": [
    "common_factor = False\n",
    "\n",
    "for s in range(3,23,2):\n",
    "    for t in range(1,s,2):\n",
    "        for i in range(2,t+1):\n",
    "            if t%i==0 and s%i==0:\n",
    "                common_factor = True\n",
    "                \n",
    "        if common_factor == False:\n",
    "            print(s*t,int((s**2-t**2)/2),int((s**2+t**2)/2))\n",
    "        \n",
    "        common_factor = False\n"
   ]
  },
  {
   "cell_type": "code",
   "execution_count": null,
   "metadata": {
    "collapsed": true
   },
   "outputs": [],
   "source": []
  }
 ],
 "metadata": {
  "celltoolbar": "Slideshow",
  "kernelspec": {
   "display_name": "Python 3",
   "language": "python",
   "name": "python3"
  },
  "language_info": {
   "codemirror_mode": {
    "name": "ipython",
    "version": 3
   },
   "file_extension": ".py",
   "mimetype": "text/x-python",
   "name": "python",
   "nbconvert_exporter": "python",
   "pygments_lexer": "ipython3",
   "version": "3.7.3"
  }
 },
 "nbformat": 4,
 "nbformat_minor": 2
}
