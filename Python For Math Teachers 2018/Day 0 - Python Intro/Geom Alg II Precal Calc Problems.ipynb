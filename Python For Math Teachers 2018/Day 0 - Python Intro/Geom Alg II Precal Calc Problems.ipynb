{
 "cells": [
  {
   "cell_type": "markdown",
   "metadata": {},
   "source": [
    "## Geometry Problems"
   ]
  },
  {
   "cell_type": "markdown",
   "metadata": {},
   "source": [
    "### Midpoints\n",
    "Write a function called midpoint that takes in two coordinates in the form (x1,y1,x2,y2) and returns the midpoint of the two. For example, midpoint(2,4,5,6) should return (3.5, 5.0)."
   ]
  },
  {
   "cell_type": "code",
   "execution_count": 40,
   "metadata": {
    "collapsed": true
   },
   "outputs": [],
   "source": [
    "#insert midpoint"
   ]
  },
  {
   "cell_type": "markdown",
   "metadata": {},
   "source": [
    "### Right, Acute, Obtuse, Not Possible\n",
    "Write a function called triangle_type that takes in three lengths of a triangle (in increasing order) and determines whether the triangle is not possible, acute, obtuse, or right. For example, triangle_type(1,2,7) should return not possible and triangle_type(3,4,5) should return right."
   ]
  },
  {
   "cell_type": "code",
   "execution_count": 41,
   "metadata": {
    "collapsed": true
   },
   "outputs": [],
   "source": [
    "#insert right, acute, obtuse, not possible"
   ]
  },
  {
   "cell_type": "markdown",
   "metadata": {},
   "source": [
    "### The Ambiguous Case\n",
    "Write a function called SSA that takes in a side (a), side (b), and angle (A) of a triangle and determines whether none, one, or two triangles are possible. Hint:\n",
    "\n",
    "<img src=\"images/ssa.png\" style=\"width: 500px;\"/>\n",
    "\n",
    "To check your work:\n",
    "\n",
    "ssa(22,12,42) should give 1\n",
    "\n",
    "ssa(15,25,85) should give 0\n",
    "\n",
    "ssa(12,31,20.5) should give 2"
   ]
  },
  {
   "cell_type": "code",
   "execution_count": 42,
   "metadata": {
    "collapsed": true
   },
   "outputs": [],
   "source": [
    "#insert ssa"
   ]
  },
  {
   "cell_type": "markdown",
   "metadata": {},
   "source": [
    "### Challenge: Pythagorean Triples and Number Theory\n",
    "(Skip this one and come back to it if you are just starting out with coding.)\n",
    "\n",
    "\n",
    "Definition: A primitive Pythagorean triple is a triple of numbers a, b, and c such that a, b, and c have no common factors and a^2+b^2=c^2.\n",
    "\n",
    "Examples:\n",
    "\n",
    "3,4,5\n",
    "\n",
    "5,12,13\n",
    "\n",
    "8,15,17\n",
    "\n",
    "7,24,25\n",
    "\n",
    "Non-examples:\n",
    "\n",
    "6,8,10\n",
    "\n",
    "<img src=\"images/primitive.png\" style=\"width: 600px;\"/>\n",
    "\n",
    "(From A Friendly Introduction To Number Theory) https://www.math.brown.edu/~jhs/frintch1ch6.pdf\n",
    "\n",
    "Exercise: Find all of the primitive Pythagorean Triples with s < 23."
   ]
  },
  {
   "cell_type": "code",
   "execution_count": 43,
   "metadata": {
    "collapsed": true
   },
   "outputs": [],
   "source": [
    "#insert pythagorean"
   ]
  },
  {
   "cell_type": "markdown",
   "metadata": {},
   "source": [
    "## Algebra and Precal"
   ]
  },
  {
   "cell_type": "markdown",
   "metadata": {},
   "source": [
    "### Point-Slope Form\n",
    "Write a program called point_slope that takes in two points in the form (x1,y1,x2,y2) and returns the equation in point-slope form using the first point. For example, point_slope(1,3,2,4) should return 'y-3=1.0(x-1)'.\n",
    "\n",
    "Hint: you may want to use .format to create an equation string. Here's an example:"
   ]
  },
  {
   "cell_type": "code",
   "execution_count": 39,
   "metadata": {},
   "outputs": [
    {
     "name": "stdout",
     "output_type": "stream",
     "text": [
      "y-3=2(x-5)\n"
     ]
    }
   ],
   "source": [
    "equation = 'y-{}={}(x-{})'.format(3,2,5)\n",
    "print(equation)"
   ]
  },
  {
   "cell_type": "code",
   "execution_count": 44,
   "metadata": {
    "collapsed": true
   },
   "outputs": [],
   "source": [
    "#insert point slope"
   ]
  },
  {
   "cell_type": "markdown",
   "metadata": {},
   "source": [
    "### Slope-Intercept Form\n",
    "Write a program called slope_int that takes in two points in the form (x1,y1,x2,y2) and returns the equation in slope-intercept form. For example, slope_int(1,3,2,4) should return 'y=1.0x+2.0'."
   ]
  },
  {
   "cell_type": "code",
   "execution_count": 45,
   "metadata": {},
   "outputs": [
    {
     "data": {
      "text/plain": [
       "'y=1.0x+2.0'"
      ]
     },
     "execution_count": 45,
     "metadata": {},
     "output_type": "execute_result"
    }
   ],
   "source": [
    "#insert slope int"
   ]
  },
  {
   "cell_type": "markdown",
   "metadata": {},
   "source": [
    "### Quadratic formula\n",
    "Write a program called quadratic that takes in a,b,c coefficients and returns the roots. If they are imaginary, return them in the form a+bi, where a+bi is a string (not a number).\n",
    "\n",
    "Some examples:\n",
    "\n",
    "quadratic(1,5,4) should return (-1.0, -4.0)\n",
    "\n",
    "quadratic(1,4,4) should return -2.0\n",
    "\n",
    "quadratic(1,-6,13) should return 3.0+i2.0, 3.0-i2.0\n"
   ]
  },
  {
   "cell_type": "code",
   "execution_count": 8,
   "metadata": {
    "collapsed": true
   },
   "outputs": [],
   "source": [
    "#insert quadratic"
   ]
  },
  {
   "cell_type": "markdown",
   "metadata": {},
   "source": [
    "### Compound Interest\n",
    "Write a program called interest that takes in the initial principal, the annual interest rate, the number of compounding periods per year, and the number of years and returns the total balance. For example, interest(100,0.05,2,10) should return approximately 163.86."
   ]
  },
  {
   "cell_type": "code",
   "execution_count": 46,
   "metadata": {},
   "outputs": [
    {
     "data": {
      "text/plain": [
       "163.8616440290394"
      ]
     },
     "execution_count": 46,
     "metadata": {},
     "output_type": "execute_result"
    }
   ],
   "source": [
    "def interest(p,r,n,t):\n",
    "    return p*(1+r/n)**(n*t)\n",
    "\n",
    "interest(100,0.05,2,10)"
   ]
  },
  {
   "cell_type": "markdown",
   "metadata": {},
   "source": [
    "### Prime Numbers\n",
    "Write a function called \"prime\" that takes in a number, n, and returns \"True\" if the number is prime and \"False\" if the number is not prime."
   ]
  },
  {
   "cell_type": "code",
   "execution_count": 47,
   "metadata": {
    "collapsed": true
   },
   "outputs": [],
   "source": [
    "#insert prime"
   ]
  },
  {
   "cell_type": "markdown",
   "metadata": {},
   "source": [
    "### Fibonacci Numbers\n",
    "\n",
    "Write a function that takes in a number, n, and returns a list of the first n terms of the Fibonacci sequence. For example, an input of 6 would return the list [1,1,2,3,5,8].\n",
    "\n",
    "For simplicity, you can assume that the user will give you a positive number, n, greater or equal to 3, so that 1 and 1 are always included in the list."
   ]
  },
  {
   "cell_type": "code",
   "execution_count": null,
   "metadata": {
    "collapsed": true
   },
   "outputs": [],
   "source": [
    "#insert fibonacci"
   ]
  },
  {
   "cell_type": "markdown",
   "metadata": {},
   "source": [
    "### Binomial Theorem\n",
    "Write a function called binomial that takes in two strings and an exponent and expands them.\n",
    "\n",
    "For example, binomial('x','y',3) should return 1(x)^3(y)^0+3(x)^2(y)^1+3(x)^1(y)^2+1(x)^0(y)^3."
   ]
  },
  {
   "cell_type": "code",
   "execution_count": 48,
   "metadata": {
    "collapsed": true
   },
   "outputs": [],
   "source": [
    "#insert binomial"
   ]
  },
  {
   "cell_type": "markdown",
   "metadata": {},
   "source": [
    "## Calculus"
   ]
  },
  {
   "cell_type": "markdown",
   "metadata": {},
   "source": [
    "### Derivatives\n",
    "Write a program called derivative that takes in a function, an x value, and a threshold h and returns the approximate derivative of the function at that point. For example, derivative(square, 3, 0.001) should return approximately 6.001. \n",
    "\n",
    "What is square? Well, you'll have to define the square function (or any function you want to take the derivative of) above the derivative function. For example:\n",
    "\n",
    "def square(x):\n",
    "\n",
    "    return x**2"
   ]
  },
  {
   "cell_type": "code",
   "execution_count": 49,
   "metadata": {
    "collapsed": true
   },
   "outputs": [],
   "source": [
    "#insert derivatives"
   ]
  },
  {
   "cell_type": "markdown",
   "metadata": {},
   "source": [
    "### Left hand sum\n",
    "Write a program called LHS that takes in a function, a left boundary a, a right boundary b, and the number of rectangles, n, and returns the left hand sum approximation. For example, LHS(square,1,5,8) should return 35.5."
   ]
  },
  {
   "cell_type": "code",
   "execution_count": 50,
   "metadata": {
    "collapsed": true
   },
   "outputs": [],
   "source": [
    "#insert left hand sum"
   ]
  },
  {
   "cell_type": "markdown",
   "metadata": {},
   "source": [
    "### Euler's Method\n",
    "Write a program called euler that takes in a function, an initial x value, an initial y value, a step size, and an end x value and returns the end y-value approximation. For example, euler(square,1,2,0.5,5) should return 37.5."
   ]
  },
  {
   "cell_type": "code",
   "execution_count": 51,
   "metadata": {
    "collapsed": true
   },
   "outputs": [],
   "source": [
    "#insert eulers method"
   ]
  },
  {
   "cell_type": "markdown",
   "metadata": {},
   "source": [
    "### Euler's Method continued\n",
    "Write a program called eulers_plot that takes in the same arguments as above and plots the points generated by Euler's method."
   ]
  },
  {
   "cell_type": "code",
   "execution_count": null,
   "metadata": {
    "collapsed": true
   },
   "outputs": [],
   "source": [
    "#insert eulers method continued"
   ]
  }
 ],
 "metadata": {
  "kernelspec": {
   "display_name": "Python 3",
   "language": "python",
   "name": "python3"
  },
  "language_info": {
   "codemirror_mode": {
    "name": "ipython",
    "version": 3
   },
   "file_extension": ".py",
   "mimetype": "text/x-python",
   "name": "python",
   "nbconvert_exporter": "python",
   "pygments_lexer": "ipython3",
   "version": "3.7.3"
  }
 },
 "nbformat": 4,
 "nbformat_minor": 2
}
