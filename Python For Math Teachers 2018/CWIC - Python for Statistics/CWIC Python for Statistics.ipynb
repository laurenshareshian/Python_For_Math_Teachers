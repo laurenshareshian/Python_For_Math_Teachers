{
 "cells": [
  {
   "cell_type": "markdown",
   "metadata": {
    "slideshow": {
     "slide_type": "slide"
    }
   },
   "source": [
    "### Python for Statistics: \n",
    "\n",
    "### Pregnancy, Fantasy Football, and Trump Twitter Case Studies\n",
    "\n",
    "Lauren Shareshian\n",
    "\n",
    "Oregon Episcopal School\n",
    "\n",
    "Portland, OR\n"
   ]
  },
  {
   "cell_type": "markdown",
   "metadata": {
    "slideshow": {
     "slide_type": "slide"
    }
   },
   "source": [
    "### What's the easiest way to get Python?\n",
    "\n",
    "- Python and a Jupyter Notebook\n",
    "- Locally: \n",
    "    - Anaconda 3.6, www.anaconda.com/download/\n",
    "- Web-based: \n",
    "    - Cocalc, www.cocalc.com"
   ]
  },
  {
   "cell_type": "markdown",
   "metadata": {
    "slideshow": {
     "slide_type": "slide"
    }
   },
   "source": [
    "### To temporarily play with this file:\n",
    "\n",
    "www.cocalc.com\n",
    "\n",
    "Sign in\n",
    "\n",
    "Email: oescompsci#@go.oes.edu (replace # with a number between 1 and 20)\n",
    "\n",
    "Password: exeter\n",
    "\n",
    "CWICS - Python for Statistics\n"
   ]
  },
  {
   "cell_type": "markdown",
   "metadata": {
    "slideshow": {
     "slide_type": "slide"
    }
   },
   "source": [
    "### Important Python Packages for Statistics\n",
    "- matplotlib (plotting)\n",
    "- pandas (Excel spreadsheets)\n",
    "- NumPy (arrays, math functions, linear algebra)\n",
    "- SciPy  (lots of stuff including stats)\n",
    "- StatsModels (stats, most similar to R)\n",
    "- SkLearn (stats + machine learning)\n",
    "- Patsy (for using R syntax in Python)"
   ]
  },
  {
   "cell_type": "markdown",
   "metadata": {
    "slideshow": {
     "slide_type": "slide"
    }
   },
   "source": [
    "Let's import all the packages that we'll need all at once:"
   ]
  },
  {
   "cell_type": "code",
   "execution_count": 1,
   "metadata": {
    "collapsed": true,
    "slideshow": {
     "slide_type": "skip"
    }
   },
   "outputs": [],
   "source": [
    "import warnings\n",
    "warnings.filterwarnings('ignore')"
   ]
  },
  {
   "cell_type": "code",
   "execution_count": 60,
   "metadata": {
    "collapsed": true,
    "slideshow": {
     "slide_type": "fragment"
    }
   },
   "outputs": [],
   "source": [
    "import pandas as pd\n",
    "import numpy as np\n",
    "import matplotlib.pyplot as plt\n",
    "%matplotlib inline\n",
    "\n",
    "from scipy.stats import ttest_ind\n",
    "from scipy.stats import linregress\n",
    "from sklearn.linear_model import LinearRegression\n",
    "import statsmodels.api as sm"
   ]
  },
  {
   "cell_type": "markdown",
   "metadata": {
    "slideshow": {
     "slide_type": "slide"
    }
   },
   "source": [
    "<img src=\"images/cwic2.png\" style=\"width: 300px;\"/>\n",
    "\n",
    "The National Survey of Family Growth (NSFG) gathers information on family life, marriage and divorce, pregnancy, infertility, use of contraception, and general and reproductive health. \n",
    "\n",
    "Its 2002 pregnancy dataset contains 13593 respondents and 244 attributes.\n",
    "\n",
    "https://www.cdc.gov/nchs/nsfg/nsfg_cycle6.htm"
   ]
  },
  {
   "cell_type": "markdown",
   "metadata": {
    "slideshow": {
     "slide_type": "slide"
    }
   },
   "source": [
    "How do I open the file?\n",
    "\n",
    "index_col = 0 denotes that I want the first column treated as the row labels."
   ]
  },
  {
   "cell_type": "code",
   "execution_count": 61,
   "metadata": {
    "collapsed": true,
    "slideshow": {
     "slide_type": "fragment"
    }
   },
   "outputs": [],
   "source": [
    "preg = pd.read_csv('2002FemPreg.csv', index_col = 0)"
   ]
  },
  {
   "cell_type": "markdown",
   "metadata": {
    "slideshow": {
     "slide_type": "slide"
    }
   },
   "source": [
    "How do I view the first few rows of the data?"
   ]
  },
  {
   "cell_type": "code",
   "execution_count": 62,
   "metadata": {
    "slideshow": {
     "slide_type": "fragment"
    }
   },
   "outputs": [
    {
     "data": {
      "text/html": [
       "<div>\n",
       "<style scoped>\n",
       "    .dataframe tbody tr th:only-of-type {\n",
       "        vertical-align: middle;\n",
       "    }\n",
       "\n",
       "    .dataframe tbody tr th {\n",
       "        vertical-align: top;\n",
       "    }\n",
       "\n",
       "    .dataframe thead th {\n",
       "        text-align: right;\n",
       "    }\n",
       "</style>\n",
       "<table border=\"1\" class=\"dataframe\">\n",
       "  <thead>\n",
       "    <tr style=\"text-align: right;\">\n",
       "      <th></th>\n",
       "      <th>caseid</th>\n",
       "      <th>pregordr</th>\n",
       "      <th>howpreg_n</th>\n",
       "      <th>howpreg_p</th>\n",
       "      <th>moscurrp</th>\n",
       "      <th>nowprgdk</th>\n",
       "      <th>pregend1</th>\n",
       "      <th>pregend2</th>\n",
       "      <th>nbrnaliv</th>\n",
       "      <th>multbrth</th>\n",
       "      <th>...</th>\n",
       "      <th>laborfor_i</th>\n",
       "      <th>religion_i</th>\n",
       "      <th>metro_i</th>\n",
       "      <th>basewgt</th>\n",
       "      <th>adj_mod_basewgt</th>\n",
       "      <th>finalwgt</th>\n",
       "      <th>secu_p</th>\n",
       "      <th>sest</th>\n",
       "      <th>cmintvw</th>\n",
       "      <th>totalwgt_lb</th>\n",
       "    </tr>\n",
       "  </thead>\n",
       "  <tbody>\n",
       "    <tr>\n",
       "      <th>0</th>\n",
       "      <td>1</td>\n",
       "      <td>1</td>\n",
       "      <td>NaN</td>\n",
       "      <td>NaN</td>\n",
       "      <td>NaN</td>\n",
       "      <td>NaN</td>\n",
       "      <td>6.0</td>\n",
       "      <td>NaN</td>\n",
       "      <td>1.0</td>\n",
       "      <td>NaN</td>\n",
       "      <td>...</td>\n",
       "      <td>0</td>\n",
       "      <td>0</td>\n",
       "      <td>0</td>\n",
       "      <td>3410.389399</td>\n",
       "      <td>3869.349602</td>\n",
       "      <td>6448.271112</td>\n",
       "      <td>2</td>\n",
       "      <td>9</td>\n",
       "      <td>NaN</td>\n",
       "      <td>8.8125</td>\n",
       "    </tr>\n",
       "    <tr>\n",
       "      <th>1</th>\n",
       "      <td>1</td>\n",
       "      <td>2</td>\n",
       "      <td>NaN</td>\n",
       "      <td>NaN</td>\n",
       "      <td>NaN</td>\n",
       "      <td>NaN</td>\n",
       "      <td>6.0</td>\n",
       "      <td>NaN</td>\n",
       "      <td>1.0</td>\n",
       "      <td>NaN</td>\n",
       "      <td>...</td>\n",
       "      <td>0</td>\n",
       "      <td>0</td>\n",
       "      <td>0</td>\n",
       "      <td>3410.389399</td>\n",
       "      <td>3869.349602</td>\n",
       "      <td>6448.271112</td>\n",
       "      <td>2</td>\n",
       "      <td>9</td>\n",
       "      <td>NaN</td>\n",
       "      <td>7.8750</td>\n",
       "    </tr>\n",
       "    <tr>\n",
       "      <th>2</th>\n",
       "      <td>2</td>\n",
       "      <td>1</td>\n",
       "      <td>NaN</td>\n",
       "      <td>NaN</td>\n",
       "      <td>NaN</td>\n",
       "      <td>NaN</td>\n",
       "      <td>5.0</td>\n",
       "      <td>NaN</td>\n",
       "      <td>3.0</td>\n",
       "      <td>5.0</td>\n",
       "      <td>...</td>\n",
       "      <td>0</td>\n",
       "      <td>0</td>\n",
       "      <td>0</td>\n",
       "      <td>7226.301740</td>\n",
       "      <td>8567.549110</td>\n",
       "      <td>12999.542264</td>\n",
       "      <td>2</td>\n",
       "      <td>12</td>\n",
       "      <td>NaN</td>\n",
       "      <td>9.1250</td>\n",
       "    </tr>\n",
       "    <tr>\n",
       "      <th>3</th>\n",
       "      <td>2</td>\n",
       "      <td>2</td>\n",
       "      <td>NaN</td>\n",
       "      <td>NaN</td>\n",
       "      <td>NaN</td>\n",
       "      <td>NaN</td>\n",
       "      <td>6.0</td>\n",
       "      <td>NaN</td>\n",
       "      <td>1.0</td>\n",
       "      <td>NaN</td>\n",
       "      <td>...</td>\n",
       "      <td>0</td>\n",
       "      <td>0</td>\n",
       "      <td>0</td>\n",
       "      <td>7226.301740</td>\n",
       "      <td>8567.549110</td>\n",
       "      <td>12999.542264</td>\n",
       "      <td>2</td>\n",
       "      <td>12</td>\n",
       "      <td>NaN</td>\n",
       "      <td>7.0000</td>\n",
       "    </tr>\n",
       "    <tr>\n",
       "      <th>4</th>\n",
       "      <td>2</td>\n",
       "      <td>3</td>\n",
       "      <td>NaN</td>\n",
       "      <td>NaN</td>\n",
       "      <td>NaN</td>\n",
       "      <td>NaN</td>\n",
       "      <td>6.0</td>\n",
       "      <td>NaN</td>\n",
       "      <td>1.0</td>\n",
       "      <td>NaN</td>\n",
       "      <td>...</td>\n",
       "      <td>0</td>\n",
       "      <td>0</td>\n",
       "      <td>0</td>\n",
       "      <td>7226.301740</td>\n",
       "      <td>8567.549110</td>\n",
       "      <td>12999.542264</td>\n",
       "      <td>2</td>\n",
       "      <td>12</td>\n",
       "      <td>NaN</td>\n",
       "      <td>6.1875</td>\n",
       "    </tr>\n",
       "  </tbody>\n",
       "</table>\n",
       "<p>5 rows × 244 columns</p>\n",
       "</div>"
      ],
      "text/plain": [
       "   caseid  pregordr  howpreg_n  howpreg_p  moscurrp  nowprgdk  pregend1  \\\n",
       "0       1         1        NaN        NaN       NaN       NaN       6.0   \n",
       "1       1         2        NaN        NaN       NaN       NaN       6.0   \n",
       "2       2         1        NaN        NaN       NaN       NaN       5.0   \n",
       "3       2         2        NaN        NaN       NaN       NaN       6.0   \n",
       "4       2         3        NaN        NaN       NaN       NaN       6.0   \n",
       "\n",
       "   pregend2  nbrnaliv  multbrth     ...       laborfor_i  religion_i  metro_i  \\\n",
       "0       NaN       1.0       NaN     ...                0           0        0   \n",
       "1       NaN       1.0       NaN     ...                0           0        0   \n",
       "2       NaN       3.0       5.0     ...                0           0        0   \n",
       "3       NaN       1.0       NaN     ...                0           0        0   \n",
       "4       NaN       1.0       NaN     ...                0           0        0   \n",
       "\n",
       "       basewgt  adj_mod_basewgt      finalwgt  secu_p  sest  cmintvw  \\\n",
       "0  3410.389399      3869.349602   6448.271112       2     9      NaN   \n",
       "1  3410.389399      3869.349602   6448.271112       2     9      NaN   \n",
       "2  7226.301740      8567.549110  12999.542264       2    12      NaN   \n",
       "3  7226.301740      8567.549110  12999.542264       2    12      NaN   \n",
       "4  7226.301740      8567.549110  12999.542264       2    12      NaN   \n",
       "\n",
       "   totalwgt_lb  \n",
       "0       8.8125  \n",
       "1       7.8750  \n",
       "2       9.1250  \n",
       "3       7.0000  \n",
       "4       6.1875  \n",
       "\n",
       "[5 rows x 244 columns]"
      ]
     },
     "execution_count": 62,
     "metadata": {},
     "output_type": "execute_result"
    }
   ],
   "source": [
    "preg.head()"
   ]
  },
  {
   "cell_type": "markdown",
   "metadata": {
    "slideshow": {
     "slide_type": "slide"
    }
   },
   "source": [
    "How do I know what the attributes are?"
   ]
  },
  {
   "cell_type": "code",
   "execution_count": 63,
   "metadata": {
    "slideshow": {
     "slide_type": "fragment"
    }
   },
   "outputs": [
    {
     "data": {
      "text/plain": [
       "Index(['caseid', 'pregordr', 'howpreg_n', 'howpreg_p', 'moscurrp', 'nowprgdk',\n",
       "       'pregend1', 'pregend2', 'nbrnaliv', 'multbrth',\n",
       "       ...\n",
       "       'laborfor_i', 'religion_i', 'metro_i', 'basewgt', 'adj_mod_basewgt',\n",
       "       'finalwgt', 'secu_p', 'sest', 'cmintvw', 'totalwgt_lb'],\n",
       "      dtype='object', length=244)"
      ]
     },
     "execution_count": 63,
     "metadata": {},
     "output_type": "execute_result"
    }
   ],
   "source": [
    "preg.columns"
   ]
  },
  {
   "cell_type": "markdown",
   "metadata": {
    "slideshow": {
     "slide_type": "slide"
    }
   },
   "source": [
    "How do I know how big the dataset is?"
   ]
  },
  {
   "cell_type": "code",
   "execution_count": 64,
   "metadata": {
    "slideshow": {
     "slide_type": "fragment"
    }
   },
   "outputs": [
    {
     "data": {
      "text/plain": [
       "(13593, 244)"
      ]
     },
     "execution_count": 64,
     "metadata": {},
     "output_type": "execute_result"
    }
   ],
   "source": [
    "preg.shape"
   ]
  },
  {
   "cell_type": "markdown",
   "metadata": {
    "slideshow": {
     "slide_type": "slide"
    }
   },
   "source": [
    "One of the variables is pregnancy outcome, i.e., if the baby is carried to term or not (no miscarriages or still births). Let's limit our calculations below to live births:"
   ]
  },
  {
   "cell_type": "code",
   "execution_count": 65,
   "metadata": {
    "slideshow": {
     "slide_type": "fragment"
    }
   },
   "outputs": [
    {
     "data": {
      "text/plain": [
       "(9148, 244)"
      ]
     },
     "execution_count": 65,
     "metadata": {},
     "output_type": "execute_result"
    }
   ],
   "source": [
    "live = preg[preg.outcome == 1]\n",
    "live.shape"
   ]
  },
  {
   "cell_type": "markdown",
   "metadata": {
    "slideshow": {
     "slide_type": "slide"
    }
   },
   "source": [
    "This is a huge dataset. What if there is missing data? Let's limit our focus to rows where the mother's age and the baby's weight are nonempty."
   ]
  },
  {
   "cell_type": "code",
   "execution_count": 69,
   "metadata": {
    "collapsed": true,
    "slideshow": {
     "slide_type": "fragment"
    }
   },
   "outputs": [],
   "source": [
    "live = live.dropna(subset=['agepreg', 'birthwgt_lb'])"
   ]
  },
  {
   "cell_type": "markdown",
   "metadata": {
    "slideshow": {
     "slide_type": "slide"
    }
   },
   "source": [
    "What are some descriptive stats for baby weight?"
   ]
  },
  {
   "cell_type": "code",
   "execution_count": 66,
   "metadata": {
    "slideshow": {
     "slide_type": "fragment"
    }
   },
   "outputs": [
    {
     "data": {
      "text/plain": [
       "count    9084.000000\n",
       "mean        6.832122\n",
       "std         1.411447\n",
       "min         0.000000\n",
       "25%         6.000000\n",
       "50%         7.000000\n",
       "75%         8.000000\n",
       "max        15.000000\n",
       "Name: birthwgt_lb, dtype: float64"
      ]
     },
     "execution_count": 66,
     "metadata": {},
     "output_type": "execute_result"
    }
   ],
   "source": [
    "live['birthwgt_lb'].describe()"
   ]
  },
  {
   "cell_type": "markdown",
   "metadata": {
    "slideshow": {
     "slide_type": "slide"
    }
   },
   "source": [
    "A frequency chart for baby weight:"
   ]
  },
  {
   "cell_type": "code",
   "execution_count": 67,
   "metadata": {
    "slideshow": {
     "slide_type": "fragment"
    }
   },
   "outputs": [
    {
     "data": {
      "text/plain": [
       "0.0        8\n",
       "1.0       40\n",
       "2.0       53\n",
       "3.0       98\n",
       "4.0      229\n",
       "5.0      697\n",
       "6.0     2223\n",
       "7.0     3049\n",
       "8.0     1889\n",
       "9.0      623\n",
       "10.0     132\n",
       "11.0      26\n",
       "12.0      10\n",
       "13.0       3\n",
       "14.0       3\n",
       "15.0       1\n",
       "Name: birthwgt_lb, dtype: int64"
      ]
     },
     "execution_count": 67,
     "metadata": {},
     "output_type": "execute_result"
    }
   ],
   "source": [
    "live['birthwgt_lb'].value_counts().sort_index()"
   ]
  },
  {
   "cell_type": "markdown",
   "metadata": {
    "slideshow": {
     "slide_type": "slide"
    }
   },
   "source": [
    "What does a histogram of the data look like?"
   ]
  },
  {
   "cell_type": "code",
   "execution_count": 70,
   "metadata": {
    "slideshow": {
     "slide_type": "fragment"
    }
   },
   "outputs": [
    {
     "data": {
      "image/png": "[encoded data removed]",
      "text/plain": [
       "<matplotlib.figure.Figure at 0x119165cf8>"
      ]
     },
     "metadata": {},
     "output_type": "display_data"
    }
   ],
   "source": [
    "plt.hist(live['birthwgt_lb']);\n",
    "plt.xlabel('baby weight');\n",
    "plt.ylabel('frequency');"
   ]
  },
  {
   "cell_type": "markdown",
   "metadata": {
    "slideshow": {
     "slide_type": "slide"
    }
   },
   "source": [
    "With a few extra arguments, we can make the plot prettier."
   ]
  },
  {
   "cell_type": "code",
   "execution_count": 71,
   "metadata": {
    "slideshow": {
     "slide_type": "fragment"
    }
   },
   "outputs": [
    {
     "data": {
      "image/png": "[encoded data removed]",
      "text/plain": [
       "<matplotlib.figure.Figure at 0x1192611d0>"
      ]
     },
     "metadata": {},
     "output_type": "display_data"
    }
   ],
   "source": [
    "plt.hist(live['birthwgt_lb'],rwidth=.9, bins=np.arange(-0.5,15.5,1));\n",
    "plt.xlabel('baby weight');\n",
    "plt.ylabel('frequency');"
   ]
  },
  {
   "cell_type": "markdown",
   "metadata": {
    "slideshow": {
     "slide_type": "slide"
    }
   },
   "source": [
    "### Question 1: Do firstborns weigh less than later children?\n",
    "\n",
    "Let's save firstborns and later siblings into different variables based on birth order:"
   ]
  },
  {
   "cell_type": "code",
   "execution_count": 72,
   "metadata": {
    "collapsed": true,
    "slideshow": {
     "slide_type": "fragment"
    }
   },
   "outputs": [],
   "source": [
    "firsts = live[live.birthord == 1].birthwgt_lb\n",
    "others = live[live.birthord != 1].birthwgt_lb"
   ]
  },
  {
   "cell_type": "markdown",
   "metadata": {
    "slideshow": {
     "slide_type": "slide"
    }
   },
   "source": [
    "What is the mean birth weight of each?"
   ]
  },
  {
   "cell_type": "code",
   "execution_count": 73,
   "metadata": {
    "slideshow": {
     "slide_type": "fragment"
    }
   },
   "outputs": [
    {
     "name": "stdout",
     "output_type": "stream",
     "text": [
      "6.752968036529681 6.905824829931973\n"
     ]
    }
   ],
   "source": [
    "print(firsts.mean(), others.mean())"
   ]
  },
  {
   "cell_type": "markdown",
   "metadata": {
    "slideshow": {
     "slide_type": "slide"
    }
   },
   "source": [
    "Hmm. It looks like others may weigh a bit more than first borns. Let's make a comparative histogram:"
   ]
  },
  {
   "cell_type": "code",
   "execution_count": 74,
   "metadata": {
    "slideshow": {
     "slide_type": "slide"
    }
   },
   "outputs": [
    {
     "data": {
      "image/png": "[encoded data removed]",
      "text/plain": [
       "<matplotlib.figure.Figure at 0x119321e48>"
      ]
     },
     "metadata": {},
     "output_type": "display_data"
    }
   ],
   "source": [
    "plt.hist([firsts, others], bins = np.arange(-.5, 15.5, 1),label=['firsts', 'others']);\n",
    "plt.xlabel('Bins', size=20);\n",
    "plt.ylabel('Frequency', size=20);\n",
    "plt.xticks(np.arange(0,15,1));\n",
    "plt.legend();"
   ]
  },
  {
   "cell_type": "markdown",
   "metadata": {
    "slideshow": {
     "slide_type": "slide"
    }
   },
   "source": [
    "You can use a two-sample t-test to conclude whether the difference between firstborn and later siblings' weights are actually statistically significant. You can find more statistical tests than you will probably ever need in the Python scipy package."
   ]
  },
  {
   "cell_type": "code",
   "execution_count": 75,
   "metadata": {
    "slideshow": {
     "slide_type": "fragment"
    }
   },
   "outputs": [
    {
     "name": "stdout",
     "output_type": "stream",
     "text": [
      "pvalue 2.456175491391312e-07\n",
      "zscore -5.164941440079655\n"
     ]
    }
   ],
   "source": [
    "zscore, pvalue = ttest_ind(firsts, others)\n",
    "print('pvalue', pvalue)\n",
    "print('zscore', zscore)"
   ]
  },
  {
   "cell_type": "markdown",
   "metadata": {
    "slideshow": {
     "slide_type": "fragment"
    }
   },
   "source": [
    "The p-value is so small that we conclude that there is a statistically significant difference between firstborn weights and later baby weights."
   ]
  },
  {
   "cell_type": "markdown",
   "metadata": {
    "slideshow": {
     "slide_type": "slide"
    }
   },
   "source": [
    "### Question 2: Do Older Moms Have Heavier Babies?"
   ]
  },
  {
   "cell_type": "markdown",
   "metadata": {
    "slideshow": {
     "slide_type": "fragment"
    }
   },
   "source": [
    "Let's save the mother ages as mother_ages and the baby weights as baby_weights for ease of working with them:"
   ]
  },
  {
   "cell_type": "code",
   "execution_count": 76,
   "metadata": {
    "collapsed": true,
    "slideshow": {
     "slide_type": "fragment"
    }
   },
   "outputs": [],
   "source": [
    "live = live.dropna(subset=['agepreg', 'totalwgt_lb'])\n",
    "mother_ages = live['agepreg']\n",
    "baby_weights = live['totalwgt_lb']"
   ]
  },
  {
   "cell_type": "markdown",
   "metadata": {
    "slideshow": {
     "slide_type": "slide"
    }
   },
   "source": [
    "How old were the oldest and youngest mothers?"
   ]
  },
  {
   "cell_type": "code",
   "execution_count": 77,
   "metadata": {
    "slideshow": {
     "slide_type": "fragment"
    }
   },
   "outputs": [
    {
     "data": {
      "text/plain": [
       "count    9038.000000\n",
       "mean       24.936129\n",
       "std         5.553985\n",
       "min        10.830000\n",
       "25%        20.500000\n",
       "50%        24.330000\n",
       "75%        28.890000\n",
       "max        44.080000\n",
       "Name: agepreg, dtype: float64"
      ]
     },
     "execution_count": 77,
     "metadata": {},
     "output_type": "execute_result"
    }
   ],
   "source": [
    "mother_ages.describe()"
   ]
  },
  {
   "cell_type": "markdown",
   "metadata": {
    "slideshow": {
     "slide_type": "slide"
    }
   },
   "source": [
    "What does a scatterplot of mother's age vs baby's weight look like?"
   ]
  },
  {
   "cell_type": "code",
   "execution_count": 78,
   "metadata": {
    "slideshow": {
     "slide_type": "fragment"
    }
   },
   "outputs": [
    {
     "data": {
      "image/png": "[encoded data removed]",
      "text/plain": [
       "<matplotlib.figure.Figure at 0x11a958a58>"
      ]
     },
     "metadata": {},
     "output_type": "display_data"
    }
   ],
   "source": [
    "plt.plot(mother_ages, baby_weights,'.');\n",
    "plt.xlabel(\"mother's age\");\n",
    "plt.ylabel(\"birth weight\");"
   ]
  },
  {
   "cell_type": "markdown",
   "metadata": {
    "slideshow": {
     "slide_type": "slide"
    }
   },
   "source": [
    "Sometimes it helps to play around with opacity in order to see more tightly clustered points:"
   ]
  },
  {
   "cell_type": "code",
   "execution_count": 79,
   "metadata": {
    "slideshow": {
     "slide_type": "fragment"
    }
   },
   "outputs": [
    {
     "data": {
      "image/png": "[encoded data removed]",
      "text/plain": [
       "<matplotlib.figure.Figure at 0x11aa80898>"
      ]
     },
     "metadata": {},
     "output_type": "display_data"
    }
   ],
   "source": [
    "plt.plot(mother_ages, baby_weights,'.',alpha = 0.1);\n",
    "plt.xlabel(\"mother's age\");\n",
    "plt.ylabel(\"birth weight\");"
   ]
  },
  {
   "cell_type": "markdown",
   "metadata": {
    "slideshow": {
     "slide_type": "slide"
    }
   },
   "source": [
    "What if you want to calculate a linear regression line?"
   ]
  },
  {
   "cell_type": "code",
   "execution_count": 80,
   "metadata": {
    "slideshow": {
     "slide_type": "fragment"
    }
   },
   "outputs": [
    {
     "name": "stdout",
     "output_type": "stream",
     "text": [
      "slope 0.0174538514718031\n",
      "y-int 6.830396973311044\n"
     ]
    }
   ],
   "source": [
    "m, b = np.polyfit(mother_ages, baby_weights, 1)\n",
    "print('slope', m)\n",
    "print('y-int', b)"
   ]
  },
  {
   "cell_type": "markdown",
   "metadata": {
    "slideshow": {
     "slide_type": "slide"
    }
   },
   "source": [
    "To superimpose the line of best fit on the scatterplot:"
   ]
  },
  {
   "cell_type": "code",
   "execution_count": 81,
   "metadata": {
    "slideshow": {
     "slide_type": "fragment"
    }
   },
   "outputs": [
    {
     "data": {
      "image/png": "[encoded data removed]",
      "text/plain": [
       "<matplotlib.figure.Figure at 0x1193719b0>"
      ]
     },
     "metadata": {},
     "output_type": "display_data"
    }
   ],
   "source": [
    "fit = np.polyfit(mother_ages, baby_weights,1);\n",
    "fit_fn = np.poly1d(fit); \n",
    "plt.plot(mother_ages, baby_weights,'.'); #observed points\n",
    "plt.plot(mother_ages, fit_fn(mother_ages),'.'); #predicted points"
   ]
  },
  {
   "cell_type": "markdown",
   "metadata": {
    "slideshow": {
     "slide_type": "slide"
    }
   },
   "source": [
    "We can run a linear least-squares regression test:"
   ]
  },
  {
   "cell_type": "code",
   "execution_count": 82,
   "metadata": {
    "slideshow": {
     "slide_type": "fragment"
    }
   },
   "outputs": [
    {
     "data": {
      "text/plain": [
       "LinregressResult(slope=0.017453851471802756, intercept=6.8303969733110526, rvalue=0.06883397035410907, pvalue=5.7229471073149065e-11, stderr=0.0026611480116264753)"
      ]
     },
     "execution_count": 82,
     "metadata": {},
     "output_type": "execute_result"
    }
   ],
   "source": [
    "linregress(mother_ages, baby_weights)"
   ]
  },
  {
   "cell_type": "markdown",
   "metadata": {
    "slideshow": {
     "slide_type": "fragment"
    }
   },
   "source": [
    "But wait, how can the p-value AND correlation coefficent both be so tiny?"
   ]
  },
  {
   "cell_type": "markdown",
   "metadata": {
    "slideshow": {
     "slide_type": "slide"
    }
   },
   "source": [
    "https://www.researchgate.net/post/What_is_the_relationship_between_R-squared_and_p-value_in_a_regression\n",
    "\n",
    "\n",
    "\"Low r-squared and low p-value means that your model doesn't explain much of the variation of the data but it is still significant (better than not having a model)\"\n",
    "\n",
    "\"With enough power, R-squared values very close to zero can be statistically significant, but that doesn't mean they have practical significance. It is a statistical artifact. So, plot the data, see if there is linear trend in the plot, analyze the residuals (points off the line) to see if underlying assumptions are met, and if so, then determine that the fit is good.\""
   ]
  },
  {
   "cell_type": "markdown",
   "metadata": {
    "slideshow": {
     "slide_type": "slide"
    }
   },
   "source": [
    "Another package that has cleaner user printouts is StatsModels:"
   ]
  },
  {
   "cell_type": "code",
   "execution_count": 85,
   "metadata": {
    "slideshow": {
     "slide_type": "fragment"
    }
   },
   "outputs": [
    {
     "data": {
      "text/html": [
       "<table class=\"simpletable\">\n",
       "<caption>OLS Regression Results</caption>\n",
       "<tr>\n",
       "  <th>Dep. Variable:</th>            <td>y</td>        <th>  R-squared:         </th> <td>   0.005</td> \n",
       "</tr>\n",
       "<tr>\n",
       "  <th>Model:</th>                   <td>OLS</td>       <th>  Adj. R-squared:    </th> <td>   0.005</td> \n",
       "</tr>\n",
       "<tr>\n",
       "  <th>Method:</th>             <td>Least Squares</td>  <th>  F-statistic:       </th> <td>   43.02</td> \n",
       "</tr>\n",
       "<tr>\n",
       "  <th>Date:</th>             <td>Thu, 28 Jun 2018</td> <th>  Prob (F-statistic):</th> <td>5.72e-11</td> \n",
       "</tr>\n",
       "<tr>\n",
       "  <th>Time:</th>                 <td>12:05:27</td>     <th>  Log-Likelihood:    </th> <td> -15897.</td> \n",
       "</tr>\n",
       "<tr>\n",
       "  <th>No. Observations:</th>      <td>  9038</td>      <th>  AIC:               </th> <td>3.180e+04</td>\n",
       "</tr>\n",
       "<tr>\n",
       "  <th>Df Residuals:</th>          <td>  9036</td>      <th>  BIC:               </th> <td>3.181e+04</td>\n",
       "</tr>\n",
       "<tr>\n",
       "  <th>Df Model:</th>              <td>     1</td>      <th>                     </th>     <td> </td>    \n",
       "</tr>\n",
       "<tr>\n",
       "  <th>Covariance Type:</th>      <td>nonrobust</td>    <th>                     </th>     <td> </td>    \n",
       "</tr>\n",
       "</table>\n",
       "<table class=\"simpletable\">\n",
       "<tr>\n",
       "    <td></td>       <th>coef</th>     <th>std err</th>      <th>t</th>      <th>P>|t|</th>  <th>[0.025</th>    <th>0.975]</th>  \n",
       "</tr>\n",
       "<tr>\n",
       "  <th>const</th> <td>    6.8304</td> <td>    0.068</td> <td>  100.470</td> <td> 0.000</td> <td>    6.697</td> <td>    6.964</td>\n",
       "</tr>\n",
       "<tr>\n",
       "  <th>x1</th>    <td>    0.0175</td> <td>    0.003</td> <td>    6.559</td> <td> 0.000</td> <td>    0.012</td> <td>    0.023</td>\n",
       "</tr>\n",
       "</table>\n",
       "<table class=\"simpletable\">\n",
       "<tr>\n",
       "  <th>Omnibus:</th>       <td>1024.052</td> <th>  Durbin-Watson:     </th> <td>   1.618</td>\n",
       "</tr>\n",
       "<tr>\n",
       "  <th>Prob(Omnibus):</th>  <td> 0.000</td>  <th>  Jarque-Bera (JB):  </th> <td>3081.833</td>\n",
       "</tr>\n",
       "<tr>\n",
       "  <th>Skew:</th>           <td>-0.601</td>  <th>  Prob(JB):          </th> <td>    0.00</td>\n",
       "</tr>\n",
       "<tr>\n",
       "  <th>Kurtosis:</th>       <td> 5.596</td>  <th>  Cond. No.          </th> <td>    118.</td>\n",
       "</tr>\n",
       "</table><br/><br/>Warnings:<br/>[1] Standard Errors assume that the covariance matrix of the errors is correctly specified."
      ],
      "text/plain": [
       "<class 'statsmodels.iolib.summary.Summary'>\n",
       "\"\"\"\n",
       "                            OLS Regression Results                            \n",
       "==============================================================================\n",
       "Dep. Variable:                      y   R-squared:                       0.005\n",
       "Model:                            OLS   Adj. R-squared:                  0.005\n",
       "Method:                 Least Squares   F-statistic:                     43.02\n",
       "Date:                Thu, 28 Jun 2018   Prob (F-statistic):           5.72e-11\n",
       "Time:                        12:05:27   Log-Likelihood:                -15897.\n",
       "No. Observations:                9038   AIC:                         3.180e+04\n",
       "Df Residuals:                    9036   BIC:                         3.181e+04\n",
       "Df Model:                           1                                         \n",
       "Covariance Type:            nonrobust                                         \n",
       "==============================================================================\n",
       "                 coef    std err          t      P>|t|      [0.025      0.975]\n",
       "------------------------------------------------------------------------------\n",
       "const          6.8304      0.068    100.470      0.000       6.697       6.964\n",
       "x1             0.0175      0.003      6.559      0.000       0.012       0.023\n",
       "==============================================================================\n",
       "Omnibus:                     1024.052   Durbin-Watson:                   1.618\n",
       "Prob(Omnibus):                  0.000   Jarque-Bera (JB):             3081.833\n",
       "Skew:                          -0.601   Prob(JB):                         0.00\n",
       "Kurtosis:                       5.596   Cond. No.                         118.\n",
       "==============================================================================\n",
       "\n",
       "Warnings:\n",
       "[1] Standard Errors assume that the covariance matrix of the errors is correctly specified.\n",
       "\"\"\""
      ]
     },
     "execution_count": 85,
     "metadata": {},
     "output_type": "execute_result"
    }
   ],
   "source": [
    "X = mother_ages.values\n",
    "Y = baby_weights.values\n",
    "X = sm.add_constant(X) #An intercept is not included by default and should be added by the user - kinda annoying\n",
    "model = sm.OLS(Y,X)\n",
    "results = model.fit()\n",
    "results.summary()"
   ]
  },
  {
   "cell_type": "markdown",
   "metadata": {
    "slideshow": {
     "slide_type": "slide"
    }
   },
   "source": [
    "### Completely Unrelated Question:\n",
    "\n",
    "How well does ESPN do at predicting how well players will perform in fantasy football?\n"
   ]
  },
  {
   "cell_type": "markdown",
   "metadata": {
    "collapsed": true,
    "slideshow": {
     "slide_type": "slide"
    }
   },
   "source": [
    "Two datasets\n",
    "\n",
    " - ESPN predictions before the 2017 season:\n",
    " \n",
    " http://www.espn.com/fantasy/football/story/_/page/17RanksPreseason200PPR/2017-fantasy-football-ppr-rankings-top-200\n",
    " \n",
    " - Actual ESPN fantasy results for 2017-2018 season:\n",
    " \n",
    " http://games.espn.com/ffl/leaders"
   ]
  },
  {
   "cell_type": "markdown",
   "metadata": {
    "slideshow": {
     "slide_type": "slide"
    }
   },
   "source": [
    "Note: Python can pull this data DIRECTLY OFF OF THE WEBSITE in one line!"
   ]
  },
  {
   "cell_type": "code",
   "execution_count": 86,
   "metadata": {},
   "outputs": [
    {
     "data": {
      "text/html": [
       "<div>\n",
       "<style scoped>\n",
       "    .dataframe tbody tr th:only-of-type {\n",
       "        vertical-align: middle;\n",
       "    }\n",
       "\n",
       "    .dataframe tbody tr th {\n",
       "        vertical-align: top;\n",
       "    }\n",
       "\n",
       "    .dataframe thead th {\n",
       "        text-align: right;\n",
       "    }\n",
       "</style>\n",
       "<table border=\"1\" class=\"dataframe\">\n",
       "  <thead>\n",
       "    <tr style=\"text-align: right;\">\n",
       "      <th></th>\n",
       "      <th>Player/Position/Team</th>\n",
       "      <th>PosRank</th>\n",
       "      <th>Bye</th>\n",
       "      <th>MB</th>\n",
       "      <th>MC</th>\n",
       "      <th>TC</th>\n",
       "      <th>EK</th>\n",
       "      <th>FY</th>\n",
       "      <th>AVG</th>\n",
       "    </tr>\n",
       "  </thead>\n",
       "  <tbody>\n",
       "    <tr>\n",
       "      <th>0</th>\n",
       "      <td>1. David Johnson, RB, ARI</td>\n",
       "      <td>RB1</td>\n",
       "      <td>8</td>\n",
       "      <td>1</td>\n",
       "      <td>1</td>\n",
       "      <td>3</td>\n",
       "      <td>1</td>\n",
       "      <td>2</td>\n",
       "      <td>1.6</td>\n",
       "    </tr>\n",
       "    <tr>\n",
       "      <th>1</th>\n",
       "      <td>2. Le'Veon Bell, RB, PIT</td>\n",
       "      <td>RB2</td>\n",
       "      <td>9</td>\n",
       "      <td>2</td>\n",
       "      <td>2</td>\n",
       "      <td>2</td>\n",
       "      <td>2</td>\n",
       "      <td>1</td>\n",
       "      <td>1.8</td>\n",
       "    </tr>\n",
       "    <tr>\n",
       "      <th>2</th>\n",
       "      <td>3. Antonio Brown, WR, PIT</td>\n",
       "      <td>WR1</td>\n",
       "      <td>9</td>\n",
       "      <td>3</td>\n",
       "      <td>4</td>\n",
       "      <td>1</td>\n",
       "      <td>4</td>\n",
       "      <td>3</td>\n",
       "      <td>3.0</td>\n",
       "    </tr>\n",
       "    <tr>\n",
       "      <th>3</th>\n",
       "      <td>4. Ezekiel Elliott, RB, DAL</td>\n",
       "      <td>RB3</td>\n",
       "      <td>6</td>\n",
       "      <td>8</td>\n",
       "      <td>3</td>\n",
       "      <td>5</td>\n",
       "      <td>3</td>\n",
       "      <td>4</td>\n",
       "      <td>4.6</td>\n",
       "    </tr>\n",
       "    <tr>\n",
       "      <th>4</th>\n",
       "      <td>5. Odell Beckham Jr., WR, NYG</td>\n",
       "      <td>WR2</td>\n",
       "      <td>8</td>\n",
       "      <td>5</td>\n",
       "      <td>6</td>\n",
       "      <td>7</td>\n",
       "      <td>5</td>\n",
       "      <td>5</td>\n",
       "      <td>5.6</td>\n",
       "    </tr>\n",
       "  </tbody>\n",
       "</table>\n",
       "</div>"
      ],
      "text/plain": [
       "            Player/Position/Team PosRank  Bye MB MC TC EK FY  AVG\n",
       "0      1. David Johnson, RB, ARI     RB1    8  1  1  3  1  2  1.6\n",
       "1       2. Le'Veon Bell, RB, PIT     RB2    9  2  2  2  2  1  1.8\n",
       "2      3. Antonio Brown, WR, PIT     WR1    9  3  4  1  4  3  3.0\n",
       "3    4. Ezekiel Elliott, RB, DAL     RB3    6  8  3  5  3  4  4.6\n",
       "4  5. Odell Beckham Jr., WR, NYG     WR2    8  5  6  7  5  5  5.6"
      ]
     },
     "execution_count": 86,
     "metadata": {},
     "output_type": "execute_result"
    }
   ],
   "source": [
    "table = pd.read_html('http://www.espn.com/fantasy/football/story/_/page/17RanksPreseason200PPR/2017-fantasy-football-ppr-rankings-top-200')[1]\n",
    "table.head()"
   ]
  },
  {
   "cell_type": "markdown",
   "metadata": {
    "slideshow": {
     "slide_type": "slide"
    }
   },
   "source": [
    "Let's read in a merged dataset of projections and performance."
   ]
  },
  {
   "cell_type": "code",
   "execution_count": 87,
   "metadata": {
    "slideshow": {
     "slide_type": "fragment"
    }
   },
   "outputs": [
    {
     "data": {
      "text/html": [
       "<div>\n",
       "<style scoped>\n",
       "    .dataframe tbody tr th:only-of-type {\n",
       "        vertical-align: middle;\n",
       "    }\n",
       "\n",
       "    .dataframe tbody tr th {\n",
       "        vertical-align: top;\n",
       "    }\n",
       "\n",
       "    .dataframe thead th {\n",
       "        text-align: right;\n",
       "    }\n",
       "</style>\n",
       "<table border=\"1\" class=\"dataframe\">\n",
       "  <thead>\n",
       "    <tr style=\"text-align: right;\">\n",
       "      <th></th>\n",
       "      <th>player</th>\n",
       "      <th>positions</th>\n",
       "      <th>2017 points</th>\n",
       "      <th>2017 projected ranking</th>\n",
       "    </tr>\n",
       "  </thead>\n",
       "  <tbody>\n",
       "    <tr>\n",
       "      <th>0</th>\n",
       "      <td>Russell Wilson, SEA</td>\n",
       "      <td>QB</td>\n",
       "      <td>347.9</td>\n",
       "      <td>79</td>\n",
       "    </tr>\n",
       "    <tr>\n",
       "      <th>1</th>\n",
       "      <td>Le'Veon Bell, PIT</td>\n",
       "      <td>RB</td>\n",
       "      <td>341.6</td>\n",
       "      <td>2</td>\n",
       "    </tr>\n",
       "    <tr>\n",
       "      <th>2</th>\n",
       "      <td>Alvin Kamara, NO</td>\n",
       "      <td>RB</td>\n",
       "      <td>320.4</td>\n",
       "      <td>152</td>\n",
       "    </tr>\n",
       "    <tr>\n",
       "      <th>3</th>\n",
       "      <td>Antonio Brown, PIT</td>\n",
       "      <td>WR</td>\n",
       "      <td>310.3</td>\n",
       "      <td>3</td>\n",
       "    </tr>\n",
       "    <tr>\n",
       "      <th>6</th>\n",
       "      <td>Tom Brady, NE</td>\n",
       "      <td>QB</td>\n",
       "      <td>295.9</td>\n",
       "      <td>44</td>\n",
       "    </tr>\n",
       "  </tbody>\n",
       "</table>\n",
       "</div>"
      ],
      "text/plain": [
       "                player positions  2017 points  2017 projected ranking\n",
       "0  Russell Wilson, SEA        QB        347.9                      79\n",
       "1    Le'Veon Bell, PIT        RB        341.6                       2\n",
       "2     Alvin Kamara, NO        RB        320.4                     152\n",
       "3   Antonio Brown, PIT        WR        310.3                       3\n",
       "6        Tom Brady, NE        QB        295.9                      44"
      ]
     },
     "execution_count": 87,
     "metadata": {},
     "output_type": "execute_result"
    }
   ],
   "source": [
    "df = pd.read_csv('football.csv', index_col=0)\n",
    "df.head()"
   ]
  },
  {
   "cell_type": "markdown",
   "metadata": {
    "slideshow": {
     "slide_type": "slide"
    }
   },
   "source": [
    "Let's save rankings and points as variables for ease of use:"
   ]
  },
  {
   "cell_type": "code",
   "execution_count": 88,
   "metadata": {
    "collapsed": true,
    "slideshow": {
     "slide_type": "fragment"
    }
   },
   "outputs": [],
   "source": [
    "projection = df['2017 projected ranking']\n",
    "performance = df['2017 points']"
   ]
  },
  {
   "cell_type": "markdown",
   "metadata": {
    "collapsed": true,
    "slideshow": {
     "slide_type": "slide"
    }
   },
   "source": [
    "Let's plot ranking versus points scored."
   ]
  },
  {
   "cell_type": "code",
   "execution_count": 89,
   "metadata": {
    "slideshow": {
     "slide_type": "fragment"
    }
   },
   "outputs": [
    {
     "data": {
      "image/png": "[encoded data removed]",
      "text/plain": [
       "<matplotlib.figure.Figure at 0x11b4b0b38>"
      ]
     },
     "metadata": {},
     "output_type": "display_data"
    }
   ],
   "source": [
    "plt.plot(projection, performance, '.');\n",
    "plt.xlabel('espn projected ranking');\n",
    "plt.ylabel('espn actual points scored');"
   ]
  },
  {
   "cell_type": "markdown",
   "metadata": {
    "slideshow": {
     "slide_type": "slide"
    }
   },
   "source": [
    "We can superimpose the line of best fit:"
   ]
  },
  {
   "cell_type": "code",
   "execution_count": 90,
   "metadata": {
    "slideshow": {
     "slide_type": "fragment"
    }
   },
   "outputs": [
    {
     "data": {
      "image/png": "[encoded data removed]",
      "text/plain": [
       "<matplotlib.figure.Figure at 0x11b56b828>"
      ]
     },
     "metadata": {},
     "output_type": "display_data"
    }
   ],
   "source": [
    "fit = np.polyfit(projection, performance, 1);\n",
    "fit_fn = np.poly1d(fit); \n",
    "plt.plot(projection, performance,'.', projection, fit_fn(projection));"
   ]
  },
  {
   "cell_type": "markdown",
   "metadata": {
    "slideshow": {
     "slide_type": "slide"
    }
   },
   "source": [
    "We can add another column in the results dataframe called \"predicted points\" that lists the predicted points from the line of best fit for each player."
   ]
  },
  {
   "cell_type": "code",
   "execution_count": 91,
   "metadata": {
    "slideshow": {
     "slide_type": "fragment"
    }
   },
   "outputs": [
    {
     "data": {
      "text/html": [
       "<div>\n",
       "<style scoped>\n",
       "    .dataframe tbody tr th:only-of-type {\n",
       "        vertical-align: middle;\n",
       "    }\n",
       "\n",
       "    .dataframe tbody tr th {\n",
       "        vertical-align: top;\n",
       "    }\n",
       "\n",
       "    .dataframe thead th {\n",
       "        text-align: right;\n",
       "    }\n",
       "</style>\n",
       "<table border=\"1\" class=\"dataframe\">\n",
       "  <thead>\n",
       "    <tr style=\"text-align: right;\">\n",
       "      <th></th>\n",
       "      <th>player</th>\n",
       "      <th>positions</th>\n",
       "      <th>2017 points</th>\n",
       "      <th>2017 projected ranking</th>\n",
       "      <th>predicted points</th>\n",
       "    </tr>\n",
       "  </thead>\n",
       "  <tbody>\n",
       "    <tr>\n",
       "      <th>0</th>\n",
       "      <td>Russell Wilson, SEA</td>\n",
       "      <td>QB</td>\n",
       "      <td>347.9</td>\n",
       "      <td>79</td>\n",
       "      <td>171.640066</td>\n",
       "    </tr>\n",
       "    <tr>\n",
       "      <th>1</th>\n",
       "      <td>Le'Veon Bell, PIT</td>\n",
       "      <td>RB</td>\n",
       "      <td>341.6</td>\n",
       "      <td>2</td>\n",
       "      <td>213.812187</td>\n",
       "    </tr>\n",
       "    <tr>\n",
       "      <th>2</th>\n",
       "      <td>Alvin Kamara, NO</td>\n",
       "      <td>RB</td>\n",
       "      <td>320.4</td>\n",
       "      <td>152</td>\n",
       "      <td>131.658704</td>\n",
       "    </tr>\n",
       "    <tr>\n",
       "      <th>3</th>\n",
       "      <td>Antonio Brown, PIT</td>\n",
       "      <td>WR</td>\n",
       "      <td>310.3</td>\n",
       "      <td>3</td>\n",
       "      <td>213.264497</td>\n",
       "    </tr>\n",
       "    <tr>\n",
       "      <th>6</th>\n",
       "      <td>Tom Brady, NE</td>\n",
       "      <td>QB</td>\n",
       "      <td>295.9</td>\n",
       "      <td>44</td>\n",
       "      <td>190.809212</td>\n",
       "    </tr>\n",
       "  </tbody>\n",
       "</table>\n",
       "</div>"
      ],
      "text/plain": [
       "                player positions  2017 points  2017 projected ranking  \\\n",
       "0  Russell Wilson, SEA        QB        347.9                      79   \n",
       "1    Le'Veon Bell, PIT        RB        341.6                       2   \n",
       "2     Alvin Kamara, NO        RB        320.4                     152   \n",
       "3   Antonio Brown, PIT        WR        310.3                       3   \n",
       "6        Tom Brady, NE        QB        295.9                      44   \n",
       "\n",
       "   predicted points  \n",
       "0        171.640066  \n",
       "1        213.812187  \n",
       "2        131.658704  \n",
       "3        213.264497  \n",
       "6        190.809212  "
      ]
     },
     "execution_count": 91,
     "metadata": {},
     "output_type": "execute_result"
    }
   ],
   "source": [
    "df['predicted points'] = fit_fn(projection)\n",
    "df.head()"
   ]
  },
  {
   "cell_type": "markdown",
   "metadata": {
    "slideshow": {
     "slide_type": "slide"
    }
   },
   "source": [
    "We can create another column called \"residual\" that lists the difference between the actual 2017 points and the predicted ESPN points."
   ]
  },
  {
   "cell_type": "code",
   "execution_count": 92,
   "metadata": {
    "slideshow": {
     "slide_type": "fragment"
    }
   },
   "outputs": [
    {
     "data": {
      "text/html": [
       "<div>\n",
       "<style scoped>\n",
       "    .dataframe tbody tr th:only-of-type {\n",
       "        vertical-align: middle;\n",
       "    }\n",
       "\n",
       "    .dataframe tbody tr th {\n",
       "        vertical-align: top;\n",
       "    }\n",
       "\n",
       "    .dataframe thead th {\n",
       "        text-align: right;\n",
       "    }\n",
       "</style>\n",
       "<table border=\"1\" class=\"dataframe\">\n",
       "  <thead>\n",
       "    <tr style=\"text-align: right;\">\n",
       "      <th></th>\n",
       "      <th>player</th>\n",
       "      <th>positions</th>\n",
       "      <th>2017 points</th>\n",
       "      <th>2017 projected ranking</th>\n",
       "      <th>predicted points</th>\n",
       "      <th>residual</th>\n",
       "    </tr>\n",
       "  </thead>\n",
       "  <tbody>\n",
       "    <tr>\n",
       "      <th>0</th>\n",
       "      <td>Russell Wilson, SEA</td>\n",
       "      <td>QB</td>\n",
       "      <td>347.9</td>\n",
       "      <td>79</td>\n",
       "      <td>171.640066</td>\n",
       "      <td>176.259934</td>\n",
       "    </tr>\n",
       "    <tr>\n",
       "      <th>1</th>\n",
       "      <td>Le'Veon Bell, PIT</td>\n",
       "      <td>RB</td>\n",
       "      <td>341.6</td>\n",
       "      <td>2</td>\n",
       "      <td>213.812187</td>\n",
       "      <td>127.787813</td>\n",
       "    </tr>\n",
       "    <tr>\n",
       "      <th>2</th>\n",
       "      <td>Alvin Kamara, NO</td>\n",
       "      <td>RB</td>\n",
       "      <td>320.4</td>\n",
       "      <td>152</td>\n",
       "      <td>131.658704</td>\n",
       "      <td>188.741296</td>\n",
       "    </tr>\n",
       "    <tr>\n",
       "      <th>3</th>\n",
       "      <td>Antonio Brown, PIT</td>\n",
       "      <td>WR</td>\n",
       "      <td>310.3</td>\n",
       "      <td>3</td>\n",
       "      <td>213.264497</td>\n",
       "      <td>97.035503</td>\n",
       "    </tr>\n",
       "    <tr>\n",
       "      <th>6</th>\n",
       "      <td>Tom Brady, NE</td>\n",
       "      <td>QB</td>\n",
       "      <td>295.9</td>\n",
       "      <td>44</td>\n",
       "      <td>190.809212</td>\n",
       "      <td>105.090788</td>\n",
       "    </tr>\n",
       "  </tbody>\n",
       "</table>\n",
       "</div>"
      ],
      "text/plain": [
       "                player positions  2017 points  2017 projected ranking  \\\n",
       "0  Russell Wilson, SEA        QB        347.9                      79   \n",
       "1    Le'Veon Bell, PIT        RB        341.6                       2   \n",
       "2     Alvin Kamara, NO        RB        320.4                     152   \n",
       "3   Antonio Brown, PIT        WR        310.3                       3   \n",
       "6        Tom Brady, NE        QB        295.9                      44   \n",
       "\n",
       "   predicted points    residual  \n",
       "0        171.640066  176.259934  \n",
       "1        213.812187  127.787813  \n",
       "2        131.658704  188.741296  \n",
       "3        213.264497   97.035503  \n",
       "6        190.809212  105.090788  "
      ]
     },
     "execution_count": 92,
     "metadata": {},
     "output_type": "execute_result"
    }
   ],
   "source": [
    "df['residual'] = df['2017 points'] - df['predicted points']\n",
    "df.head()"
   ]
  },
  {
   "cell_type": "markdown",
   "metadata": {
    "slideshow": {
     "slide_type": "slide"
    }
   },
   "source": [
    "We can view a residual plot:"
   ]
  },
  {
   "cell_type": "code",
   "execution_count": 96,
   "metadata": {
    "slideshow": {
     "slide_type": "fragment"
    }
   },
   "outputs": [
    {
     "data": {
      "image/png": "[encoded data removed]",
      "text/plain": [
       "<matplotlib.figure.Figure at 0x11b64c0f0>"
      ]
     },
     "metadata": {},
     "output_type": "display_data"
    }
   ],
   "source": [
    "plt.plot(df['2017 projected ranking'], df['residual'],'.');\n",
    "plt.xlabel('2017 projected ranking');\n",
    "plt.ylabel('residuals');"
   ]
  },
  {
   "cell_type": "markdown",
   "metadata": {
    "slideshow": {
     "slide_type": "slide"
    }
   },
   "source": [
    "We can sort the dataframe by residuals from lowest to highest to see the most overrated players."
   ]
  },
  {
   "cell_type": "code",
   "execution_count": 95,
   "metadata": {
    "slideshow": {
     "slide_type": "fragment"
    }
   },
   "outputs": [
    {
     "data": {
      "text/html": [
       "<div>\n",
       "<style scoped>\n",
       "    .dataframe tbody tr th:only-of-type {\n",
       "        vertical-align: middle;\n",
       "    }\n",
       "\n",
       "    .dataframe tbody tr th {\n",
       "        vertical-align: top;\n",
       "    }\n",
       "\n",
       "    .dataframe thead th {\n",
       "        text-align: right;\n",
       "    }\n",
       "</style>\n",
       "<table border=\"1\" class=\"dataframe\">\n",
       "  <thead>\n",
       "    <tr style=\"text-align: right;\">\n",
       "      <th></th>\n",
       "      <th>player</th>\n",
       "      <th>positions</th>\n",
       "      <th>2017 points</th>\n",
       "      <th>2017 projected ranking</th>\n",
       "      <th>predicted points</th>\n",
       "      <th>residual</th>\n",
       "    </tr>\n",
       "  </thead>\n",
       "  <tbody>\n",
       "    <tr>\n",
       "      <th>2</th>\n",
       "      <td>Alvin Kamara, NO</td>\n",
       "      <td>RB</td>\n",
       "      <td>320.4</td>\n",
       "      <td>152</td>\n",
       "      <td>131.658704</td>\n",
       "      <td>188.741296</td>\n",
       "    </tr>\n",
       "    <tr>\n",
       "      <th>0</th>\n",
       "      <td>Russell Wilson, SEA</td>\n",
       "      <td>QB</td>\n",
       "      <td>347.9</td>\n",
       "      <td>79</td>\n",
       "      <td>171.640066</td>\n",
       "      <td>176.259934</td>\n",
       "    </tr>\n",
       "    <tr>\n",
       "      <th>1</th>\n",
       "      <td>Le'Veon Bell, PIT</td>\n",
       "      <td>RB</td>\n",
       "      <td>341.6</td>\n",
       "      <td>2</td>\n",
       "      <td>213.812187</td>\n",
       "      <td>127.787813</td>\n",
       "    </tr>\n",
       "    <tr>\n",
       "      <th>13</th>\n",
       "      <td>Philip Rivers, LAC</td>\n",
       "      <td>QB</td>\n",
       "      <td>270.4</td>\n",
       "      <td>132</td>\n",
       "      <td>142.612502</td>\n",
       "      <td>127.787498</td>\n",
       "    </tr>\n",
       "    <tr>\n",
       "      <th>12</th>\n",
       "      <td>Matthew Stafford, DET</td>\n",
       "      <td>QB</td>\n",
       "      <td>273.6</td>\n",
       "      <td>119</td>\n",
       "      <td>149.732470</td>\n",
       "      <td>123.867530</td>\n",
       "    </tr>\n",
       "  </tbody>\n",
       "</table>\n",
       "</div>"
      ],
      "text/plain": [
       "                   player positions  2017 points  2017 projected ranking  \\\n",
       "2        Alvin Kamara, NO        RB        320.4                     152   \n",
       "0     Russell Wilson, SEA        QB        347.9                      79   \n",
       "1       Le'Veon Bell, PIT        RB        341.6                       2   \n",
       "13     Philip Rivers, LAC        QB        270.4                     132   \n",
       "12  Matthew Stafford, DET        QB        273.6                     119   \n",
       "\n",
       "    predicted points    residual  \n",
       "2         131.658704  188.741296  \n",
       "0         171.640066  176.259934  \n",
       "1         213.812187  127.787813  \n",
       "13        142.612502  127.787498  \n",
       "12        149.732470  123.867530  "
      ]
     },
     "execution_count": 95,
     "metadata": {},
     "output_type": "execute_result"
    }
   ],
   "source": [
    "df.sort_values(by = 'residual', ascending = False).head()"
   ]
  },
  {
   "cell_type": "markdown",
   "metadata": {
    "slideshow": {
     "slide_type": "slide"
    }
   },
   "source": [
    "R-squared is a measure of how well your model fits your data. "
   ]
  },
  {
   "cell_type": "code",
   "execution_count": 97,
   "metadata": {
    "slideshow": {
     "slide_type": "fragment"
    }
   },
   "outputs": [
    {
     "data": {
      "text/html": [
       "<table class=\"simpletable\">\n",
       "<caption>OLS Regression Results</caption>\n",
       "<tr>\n",
       "  <th>Dep. Variable:</th>       <td>2017 points</td>   <th>  R-squared:         </th> <td>   0.159</td>\n",
       "</tr>\n",
       "<tr>\n",
       "  <th>Model:</th>                   <td>OLS</td>       <th>  Adj. R-squared:    </th> <td>   0.151</td>\n",
       "</tr>\n",
       "<tr>\n",
       "  <th>Method:</th>             <td>Least Squares</td>  <th>  F-statistic:       </th> <td>   18.20</td>\n",
       "</tr>\n",
       "<tr>\n",
       "  <th>Date:</th>             <td>Thu, 28 Jun 2018</td> <th>  Prob (F-statistic):</th> <td>4.66e-05</td>\n",
       "</tr>\n",
       "<tr>\n",
       "  <th>Time:</th>                 <td>12:12:12</td>     <th>  Log-Likelihood:    </th> <td> -561.76</td>\n",
       "</tr>\n",
       "<tr>\n",
       "  <th>No. Observations:</th>      <td>    98</td>      <th>  AIC:               </th> <td>   1128.</td>\n",
       "</tr>\n",
       "<tr>\n",
       "  <th>Df Residuals:</th>          <td>    96</td>      <th>  BIC:               </th> <td>   1133.</td>\n",
       "</tr>\n",
       "<tr>\n",
       "  <th>Df Model:</th>              <td>     1</td>      <th>                     </th>     <td> </td>   \n",
       "</tr>\n",
       "<tr>\n",
       "  <th>Covariance Type:</th>      <td>nonrobust</td>    <th>                     </th>     <td> </td>   \n",
       "</tr>\n",
       "</table>\n",
       "<table class=\"simpletable\">\n",
       "<tr>\n",
       "             <td></td>               <th>coef</th>     <th>std err</th>      <th>t</th>      <th>P>|t|</th>  <th>[0.025</th>    <th>0.975]</th>  \n",
       "</tr>\n",
       "<tr>\n",
       "  <th>const</th>                  <td>  214.9076</td> <td>   14.624</td> <td>   14.696</td> <td> 0.000</td> <td>  185.879</td> <td>  243.936</td>\n",
       "</tr>\n",
       "<tr>\n",
       "  <th>2017 projected ranking</th> <td>   -0.5477</td> <td>    0.128</td> <td>   -4.266</td> <td> 0.000</td> <td>   -0.803</td> <td>   -0.293</td>\n",
       "</tr>\n",
       "</table>\n",
       "<table class=\"simpletable\">\n",
       "<tr>\n",
       "  <th>Omnibus:</th>       <td> 0.342</td> <th>  Durbin-Watson:     </th> <td>   0.337</td>\n",
       "</tr>\n",
       "<tr>\n",
       "  <th>Prob(Omnibus):</th> <td> 0.843</td> <th>  Jarque-Bera (JB):  </th> <td>   0.316</td>\n",
       "</tr>\n",
       "<tr>\n",
       "  <th>Skew:</th>          <td>-0.133</td> <th>  Prob(JB):          </th> <td>   0.854</td>\n",
       "</tr>\n",
       "<tr>\n",
       "  <th>Kurtosis:</th>      <td> 2.916</td> <th>  Cond. No.          </th> <td>    219.</td>\n",
       "</tr>\n",
       "</table><br/><br/>Warnings:<br/>[1] Standard Errors assume that the covariance matrix of the errors is correctly specified."
      ],
      "text/plain": [
       "<class 'statsmodels.iolib.summary.Summary'>\n",
       "\"\"\"\n",
       "                            OLS Regression Results                            \n",
       "==============================================================================\n",
       "Dep. Variable:            2017 points   R-squared:                       0.159\n",
       "Model:                            OLS   Adj. R-squared:                  0.151\n",
       "Method:                 Least Squares   F-statistic:                     18.20\n",
       "Date:                Thu, 28 Jun 2018   Prob (F-statistic):           4.66e-05\n",
       "Time:                        12:12:12   Log-Likelihood:                -561.76\n",
       "No. Observations:                  98   AIC:                             1128.\n",
       "Df Residuals:                      96   BIC:                             1133.\n",
       "Df Model:                           1                                         \n",
       "Covariance Type:            nonrobust                                         \n",
       "==========================================================================================\n",
       "                             coef    std err          t      P>|t|      [0.025      0.975]\n",
       "------------------------------------------------------------------------------------------\n",
       "const                    214.9076     14.624     14.696      0.000     185.879     243.936\n",
       "2017 projected ranking    -0.5477      0.128     -4.266      0.000      -0.803      -0.293\n",
       "==============================================================================\n",
       "Omnibus:                        0.342   Durbin-Watson:                   0.337\n",
       "Prob(Omnibus):                  0.843   Jarque-Bera (JB):                0.316\n",
       "Skew:                          -0.133   Prob(JB):                        0.854\n",
       "Kurtosis:                       2.916   Cond. No.                         219.\n",
       "==============================================================================\n",
       "\n",
       "Warnings:\n",
       "[1] Standard Errors assume that the covariance matrix of the errors is correctly specified.\n",
       "\"\"\""
      ]
     },
     "execution_count": 97,
     "metadata": {},
     "output_type": "execute_result"
    }
   ],
   "source": [
    "X = df['2017 projected ranking']\n",
    "Y = df['2017 points']\n",
    "X = sm.add_constant(X)\n",
    "model = sm.OLS(Y,X)\n",
    "results = model.fit()\n",
    "results.summary()"
   ]
  },
  {
   "cell_type": "markdown",
   "metadata": {
    "slideshow": {
     "slide_type": "slide"
    }
   },
   "source": [
    "15.9% of the variation in fantasy points scored can be attributed to variation in ESPN projected ranking. Let's see if we can do better by adding another variable: position."
   ]
  },
  {
   "cell_type": "markdown",
   "metadata": {
    "slideshow": {
     "slide_type": "slide"
    }
   },
   "source": [
    "To perform a linear regression when there are categorical variables involved, you need to first create a matrix (called a one-hot matrix) where each position corresponds to a different column in the matrix. For example, if a player is a QB, he'll have a 1 in the QB column and a 0 in all of the others. "
   ]
  },
  {
   "cell_type": "code",
   "execution_count": 98,
   "metadata": {
    "slideshow": {
     "slide_type": "fragment"
    }
   },
   "outputs": [
    {
     "data": {
      "text/html": [
       "<div>\n",
       "<style scoped>\n",
       "    .dataframe tbody tr th:only-of-type {\n",
       "        vertical-align: middle;\n",
       "    }\n",
       "\n",
       "    .dataframe tbody tr th {\n",
       "        vertical-align: top;\n",
       "    }\n",
       "\n",
       "    .dataframe thead th {\n",
       "        text-align: right;\n",
       "    }\n",
       "</style>\n",
       "<table border=\"1\" class=\"dataframe\">\n",
       "  <thead>\n",
       "    <tr style=\"text-align: right;\">\n",
       "      <th></th>\n",
       "      <th>2017 projected ranking</th>\n",
       "      <th>QB</th>\n",
       "      <th>RB</th>\n",
       "      <th>TE</th>\n",
       "      <th>WR</th>\n",
       "    </tr>\n",
       "  </thead>\n",
       "  <tbody>\n",
       "    <tr>\n",
       "      <th>0</th>\n",
       "      <td>79</td>\n",
       "      <td>1</td>\n",
       "      <td>0</td>\n",
       "      <td>0</td>\n",
       "      <td>0</td>\n",
       "    </tr>\n",
       "    <tr>\n",
       "      <th>1</th>\n",
       "      <td>2</td>\n",
       "      <td>0</td>\n",
       "      <td>1</td>\n",
       "      <td>0</td>\n",
       "      <td>0</td>\n",
       "    </tr>\n",
       "    <tr>\n",
       "      <th>2</th>\n",
       "      <td>152</td>\n",
       "      <td>0</td>\n",
       "      <td>1</td>\n",
       "      <td>0</td>\n",
       "      <td>0</td>\n",
       "    </tr>\n",
       "    <tr>\n",
       "      <th>3</th>\n",
       "      <td>3</td>\n",
       "      <td>0</td>\n",
       "      <td>0</td>\n",
       "      <td>0</td>\n",
       "      <td>1</td>\n",
       "    </tr>\n",
       "    <tr>\n",
       "      <th>6</th>\n",
       "      <td>44</td>\n",
       "      <td>1</td>\n",
       "      <td>0</td>\n",
       "      <td>0</td>\n",
       "      <td>0</td>\n",
       "    </tr>\n",
       "  </tbody>\n",
       "</table>\n",
       "</div>"
      ],
      "text/plain": [
       "   2017 projected ranking  QB  RB  TE  WR\n",
       "0                      79   1   0   0   0\n",
       "1                       2   0   1   0   0\n",
       "2                     152   0   1   0   0\n",
       "3                       3   0   0   0   1\n",
       "6                      44   1   0   0   0"
      ]
     },
     "execution_count": 98,
     "metadata": {},
     "output_type": "execute_result"
    }
   ],
   "source": [
    "input_data = df[['2017 projected ranking','positions']]\n",
    "one_hot = pd.get_dummies(df['positions'])\n",
    "input_data = input_data.drop('positions', axis = 1)\n",
    "input_data = input_data.join(one_hot)\n",
    "input_data.head()"
   ]
  },
  {
   "cell_type": "markdown",
   "metadata": {
    "slideshow": {
     "slide_type": "slide"
    }
   },
   "source": [
    "We can now calculate our new R squared:"
   ]
  },
  {
   "cell_type": "code",
   "execution_count": 99,
   "metadata": {
    "slideshow": {
     "slide_type": "fragment"
    }
   },
   "outputs": [
    {
     "data": {
      "text/html": [
       "<table class=\"simpletable\">\n",
       "<caption>OLS Regression Results</caption>\n",
       "<tr>\n",
       "  <th>Dep. Variable:</th>       <td>2017 points</td>   <th>  R-squared:         </th> <td>   0.361</td>\n",
       "</tr>\n",
       "<tr>\n",
       "  <th>Model:</th>                   <td>OLS</td>       <th>  Adj. R-squared:    </th> <td>   0.333</td>\n",
       "</tr>\n",
       "<tr>\n",
       "  <th>Method:</th>             <td>Least Squares</td>  <th>  F-statistic:       </th> <td>   13.12</td>\n",
       "</tr>\n",
       "<tr>\n",
       "  <th>Date:</th>             <td>Thu, 28 Jun 2018</td> <th>  Prob (F-statistic):</th> <td>1.63e-08</td>\n",
       "</tr>\n",
       "<tr>\n",
       "  <th>Time:</th>                 <td>12:13:42</td>     <th>  Log-Likelihood:    </th> <td> -548.34</td>\n",
       "</tr>\n",
       "<tr>\n",
       "  <th>No. Observations:</th>      <td>    98</td>      <th>  AIC:               </th> <td>   1107.</td>\n",
       "</tr>\n",
       "<tr>\n",
       "  <th>Df Residuals:</th>          <td>    93</td>      <th>  BIC:               </th> <td>   1120.</td>\n",
       "</tr>\n",
       "<tr>\n",
       "  <th>Df Model:</th>              <td>     4</td>      <th>                     </th>     <td> </td>   \n",
       "</tr>\n",
       "<tr>\n",
       "  <th>Covariance Type:</th>      <td>nonrobust</td>    <th>                     </th>     <td> </td>   \n",
       "</tr>\n",
       "</table>\n",
       "<table class=\"simpletable\">\n",
       "<tr>\n",
       "             <td></td>               <th>coef</th>     <th>std err</th>      <th>t</th>      <th>P>|t|</th>  <th>[0.025</th>    <th>0.975]</th>  \n",
       "</tr>\n",
       "<tr>\n",
       "  <th>const</th>                  <td>  186.3323</td> <td>   11.243</td> <td>   16.574</td> <td> 0.000</td> <td>  164.007</td> <td>  208.658</td>\n",
       "</tr>\n",
       "<tr>\n",
       "  <th>2017 projected ranking</th> <td>   -0.6086</td> <td>    0.114</td> <td>   -5.319</td> <td> 0.000</td> <td>   -0.836</td> <td>   -0.381</td>\n",
       "</tr>\n",
       "<tr>\n",
       "  <th>QB</th>                     <td>  109.9800</td> <td>   15.197</td> <td>    7.237</td> <td> 0.000</td> <td>   79.801</td> <td>  140.159</td>\n",
       "</tr>\n",
       "<tr>\n",
       "  <th>RB</th>                     <td>   -1.3246</td> <td>   10.842</td> <td>   -0.122</td> <td> 0.903</td> <td>  -22.856</td> <td>   20.206</td>\n",
       "</tr>\n",
       "<tr>\n",
       "  <th>TE</th>                     <td>   40.4493</td> <td>   18.659</td> <td>    2.168</td> <td> 0.033</td> <td>    3.396</td> <td>   77.502</td>\n",
       "</tr>\n",
       "<tr>\n",
       "  <th>WR</th>                     <td>   37.2276</td> <td>   10.725</td> <td>    3.471</td> <td> 0.001</td> <td>   15.930</td> <td>   58.525</td>\n",
       "</tr>\n",
       "</table>\n",
       "<table class=\"simpletable\">\n",
       "<tr>\n",
       "  <th>Omnibus:</th>       <td> 4.032</td> <th>  Durbin-Watson:     </th> <td>   0.697</td>\n",
       "</tr>\n",
       "<tr>\n",
       "  <th>Prob(Omnibus):</th> <td> 0.133</td> <th>  Jarque-Bera (JB):  </th> <td>   4.895</td>\n",
       "</tr>\n",
       "<tr>\n",
       "  <th>Skew:</th>          <td>-0.032</td> <th>  Prob(JB):          </th> <td>  0.0865</td>\n",
       "</tr>\n",
       "<tr>\n",
       "  <th>Kurtosis:</th>      <td> 4.093</td> <th>  Cond. No.          </th> <td>1.35e+18</td>\n",
       "</tr>\n",
       "</table><br/><br/>Warnings:<br/>[1] Standard Errors assume that the covariance matrix of the errors is correctly specified.<br/>[2] The smallest eigenvalue is 6.98e-31. This might indicate that there are<br/>strong multicollinearity problems or that the design matrix is singular."
      ],
      "text/plain": [
       "<class 'statsmodels.iolib.summary.Summary'>\n",
       "\"\"\"\n",
       "                            OLS Regression Results                            \n",
       "==============================================================================\n",
       "Dep. Variable:            2017 points   R-squared:                       0.361\n",
       "Model:                            OLS   Adj. R-squared:                  0.333\n",
       "Method:                 Least Squares   F-statistic:                     13.12\n",
       "Date:                Thu, 28 Jun 2018   Prob (F-statistic):           1.63e-08\n",
       "Time:                        12:13:42   Log-Likelihood:                -548.34\n",
       "No. Observations:                  98   AIC:                             1107.\n",
       "Df Residuals:                      93   BIC:                             1120.\n",
       "Df Model:                           4                                         \n",
       "Covariance Type:            nonrobust                                         \n",
       "==========================================================================================\n",
       "                             coef    std err          t      P>|t|      [0.025      0.975]\n",
       "------------------------------------------------------------------------------------------\n",
       "const                    186.3323     11.243     16.574      0.000     164.007     208.658\n",
       "2017 projected ranking    -0.6086      0.114     -5.319      0.000      -0.836      -0.381\n",
       "QB                       109.9800     15.197      7.237      0.000      79.801     140.159\n",
       "RB                        -1.3246     10.842     -0.122      0.903     -22.856      20.206\n",
       "TE                        40.4493     18.659      2.168      0.033       3.396      77.502\n",
       "WR                        37.2276     10.725      3.471      0.001      15.930      58.525\n",
       "==============================================================================\n",
       "Omnibus:                        4.032   Durbin-Watson:                   0.697\n",
       "Prob(Omnibus):                  0.133   Jarque-Bera (JB):                4.895\n",
       "Skew:                          -0.032   Prob(JB):                       0.0865\n",
       "Kurtosis:                       4.093   Cond. No.                     1.35e+18\n",
       "==============================================================================\n",
       "\n",
       "Warnings:\n",
       "[1] Standard Errors assume that the covariance matrix of the errors is correctly specified.\n",
       "[2] The smallest eigenvalue is 6.98e-31. This might indicate that there are\n",
       "strong multicollinearity problems or that the design matrix is singular.\n",
       "\"\"\""
      ]
     },
     "execution_count": 99,
     "metadata": {},
     "output_type": "execute_result"
    }
   ],
   "source": [
    "X = input_data\n",
    "y = df['2017 points']\n",
    "X = sm.add_constant(X)\n",
    "est = sm.OLS(y, X).fit()\n",
    "est.summary()"
   ]
  },
  {
   "cell_type": "markdown",
   "metadata": {
    "slideshow": {
     "slide_type": "slide"
    }
   },
   "source": [
    "Our R-squared more than doubled when we added in the additional variable of position! Or, we can create a multiple regression model:"
   ]
  },
  {
   "cell_type": "code",
   "execution_count": 100,
   "metadata": {
    "slideshow": {
     "slide_type": "fragment"
    }
   },
   "outputs": [
    {
     "name": "stdout",
     "output_type": "stream",
     "text": [
      "R-squared 0.36078149047291974\n"
     ]
    }
   ],
   "source": [
    "X = input_data\n",
    "y = df['2017 points']\n",
    "\n",
    "model = LinearRegression()\n",
    "model.fit(X, y)\n",
    "print('R-squared', model.score(X,y))"
   ]
  },
  {
   "cell_type": "markdown",
   "metadata": {
    "slideshow": {
     "slide_type": "slide"
    }
   },
   "source": [
    "We can superimpose our predictions over the observed points:"
   ]
  },
  {
   "cell_type": "code",
   "execution_count": 101,
   "metadata": {
    "slideshow": {
     "slide_type": "fragment"
    }
   },
   "outputs": [
    {
     "data": {
      "text/plain": [
       "<matplotlib.legend.Legend at 0x11ab40898>"
      ]
     },
     "execution_count": 101,
     "metadata": {},
     "output_type": "execute_result"
    },
    {
     "data": {
      "image/png": "[encoded data removed]",
      "text/plain": [
       "<matplotlib.figure.Figure at 0x117f5cfd0>"
      ]
     },
     "metadata": {},
     "output_type": "display_data"
    }
   ],
   "source": [
    "quarterbacks = df[df['positions'] == 'QB']\n",
    "runningbacks = df[df['positions'] == 'RB']\n",
    "receivers = df[df['positions'] == 'WR']\n",
    "tightends = df[df['positions'] == 'TE']\n",
    "\n",
    "fig, ax = plt.subplots(figsize=(7,7))\n",
    "\n",
    "ax.scatter(quarterbacks['2017 projected ranking'], quarterbacks['2017 points'],  color='blue', label='qb')\n",
    "ax.scatter(runningbacks['2017 projected ranking'], runningbacks['2017 points'],  color='red', label='rb')\n",
    "ax.scatter(receivers['2017 projected ranking'], receivers['2017 points'],  color='yellow', label = 'wr')\n",
    "ax.scatter(tightends['2017 projected ranking'], tightends['2017 points'],  color='green', label = 'te')\n",
    "\n",
    "ax.plot(X['2017 projected ranking'].values, model.predict(X), 'k.', label = 'predictions')\n",
    "ax.set_xlabel('ESPN projected pre-season player ranking 2017')\n",
    "ax.set_ylabel('Total ESPN Fantasy Points that player scored in 2017')\n",
    "ax.set_title('Position matters!')\n",
    "ax.legend(loc='best')"
   ]
  },
  {
   "cell_type": "markdown",
   "metadata": {
    "slideshow": {
     "slide_type": "slide"
    }
   },
   "source": [
    "<img src=\"images/cwic3.png\" style=\"width: 550px;\"/>"
   ]
  },
  {
   "cell_type": "markdown",
   "metadata": {
    "slideshow": {
     "slide_type": "slide"
    }
   },
   "source": [
    "### Totally unrelated question: \n",
    "What hours and days does Trump tweet most often?"
   ]
  },
  {
   "cell_type": "markdown",
   "metadata": {
    "slideshow": {
     "slide_type": "fragment"
    }
   },
   "source": [
    "Using a Python package called Tweepy, you can easily pull information off of the Twitter API. All you need to do is go to Twitter to get four special passwords called the consumer key, consumer secret, access token, and access token secret from  https://apps.twitter.com/."
   ]
  },
  {
   "cell_type": "code",
   "execution_count": 47,
   "metadata": {
    "collapsed": true,
    "slideshow": {
     "slide_type": "skip"
    }
   },
   "outputs": [],
   "source": [
    "consumer_key = 'srHcccePX0asW8OTRWS2iZ0u6'\n",
    "consumer_secret = 'bF6sKeBdqpVeAX85Z1r9wyvDlcL8FLqbvmg7SM4cE1sJzFR6eh'\n",
    "access_token = \"847880217586683904-OK8dH7IVb41BoQ6JVg7jVjObB2hv4qa\"\n",
    "access_token_secret = \"IhDGz8FRYKkfzY5FyrdXrKRmEKv5kMYZIQ2LRLV8Gwa1r\" \n"
   ]
  },
  {
   "cell_type": "markdown",
   "metadata": {
    "slideshow": {
     "slide_type": "slide"
    }
   },
   "source": [
    "What was his most recent tweet?"
   ]
  },
  {
   "cell_type": "code",
   "execution_count": 103,
   "metadata": {
    "slideshow": {
     "slide_type": "fragment"
    }
   },
   "outputs": [
    {
     "name": "stdout",
     "output_type": "stream",
     "text": [
      "AMERICA IS OPEN FOR BUSINESS! \n",
      "https://t.co/fuRF2Z6CZl\n"
     ]
    }
   ],
   "source": [
    "import tweepy\n",
    "\n",
    "auth = tweepy.OAuthHandler(consumer_key, consumer_secret)\n",
    "auth.set_access_token(access_token, access_token_secret)\n",
    "\n",
    "api = tweepy.API(auth)\n",
    "user = api.get_user('realDonaldTrump')\n",
    "\n",
    "print(user.status.text)"
   ]
  },
  {
   "cell_type": "markdown",
   "metadata": {
    "slideshow": {
     "slide_type": "slide"
    }
   },
   "source": [
    "Let's read in a file of his last several years' worth of tweets:"
   ]
  },
  {
   "cell_type": "code",
   "execution_count": 104,
   "metadata": {
    "collapsed": true,
    "slideshow": {
     "slide_type": "fragment"
    }
   },
   "outputs": [],
   "source": [
    "import datetime\n",
    "import pytz\n",
    "from dateutil.parser import parse\n",
    "import pandas as pd\n",
    "\n",
    "df = pd.read_csv('donald_tweets.csv', index_col = 0)\n",
    "created_at = df['created_at']\n",
    "text = df['text']\n",
    "retweets = df['retweets']\n",
    "\n",
    "#change from utc to eastern time zone\n",
    "utc = pytz.timezone('UTC')\n",
    "eastern = pytz.timezone('US/Eastern')\n",
    "created_at = pd.to_datetime(created_at)\n",
    "utc_dates = [utc.localize(time) for time in created_at]\n",
    "dates = [time.astimezone(eastern) for time in utc_dates]"
   ]
  },
  {
   "cell_type": "markdown",
   "metadata": {
    "slideshow": {
     "slide_type": "slide"
    }
   },
   "source": [
    "Now we can make a histogram of his tweet times:"
   ]
  },
  {
   "cell_type": "code",
   "execution_count": 105,
   "metadata": {
    "slideshow": {
     "slide_type": "fragment"
    }
   },
   "outputs": [
    {
     "data": {
      "image/png": "[encoded data removed]",
      "text/plain": [
       "<matplotlib.figure.Figure at 0x114010630>"
      ]
     },
     "metadata": {},
     "output_type": "display_data"
    }
   ],
   "source": [
    "import matplotlib.pyplot as plt\n",
    "%matplotlib inline\n",
    "import numpy as np\n",
    "\n",
    "hours = [date.hour for date in dates]\n",
    "\n",
    "\n",
    "plt.hist(hours, rwidth=0.9, bins = np.arange(-.5,24.5,1))\n",
    "plt.xlabel('hour')\n",
    "plt.xticks(np.arange(0,25,1));"
   ]
  },
  {
   "cell_type": "markdown",
   "metadata": {
    "slideshow": {
     "slide_type": "slide"
    }
   },
   "source": [
    "Which hour does he tweet at most often? How many tweets did he have at 3 am?"
   ]
  },
  {
   "cell_type": "code",
   "execution_count": 106,
   "metadata": {
    "slideshow": {
     "slide_type": "fragment"
    }
   },
   "outputs": [
    {
     "name": "stdout",
     "output_type": "stream",
     "text": [
      "<bound method Counter.most_common of Counter({8: 656, 7: 587, 9: 499, 6: 470, 18: 401, 21: 386, 17: 369, 16: 361, 22: 357, 15: 323, 10: 314, 20: 302, 19: 292, 13: 273, 12: 266, 14: 254, 11: 230, 23: 187, 0: 85, 5: 81, 1: 45, 2: 13, 3: 12, 4: 8})>\n"
     ]
    }
   ],
   "source": [
    "from collections import Counter\n",
    "freq = Counter(hours)\n",
    "print(freq.most_common)"
   ]
  },
  {
   "cell_type": "markdown",
   "metadata": {
    "slideshow": {
     "slide_type": "slide"
    }
   },
   "source": [
    "We can also plot the days of the week that he tweets:"
   ]
  },
  {
   "cell_type": "code",
   "execution_count": 107,
   "metadata": {
    "slideshow": {
     "slide_type": "fragment"
    }
   },
   "outputs": [
    {
     "data": {
      "image/png": "[encoded data removed]",
      "text/plain": [
       "<matplotlib.figure.Figure at 0x11aa71e48>"
      ]
     },
     "metadata": {},
     "output_type": "display_data"
    }
   ],
   "source": [
    "days = [date.weekday() for date in dates]\n",
    "\n",
    "plt.hist(days, rwidth=0.9, bins = np.arange(-.5,7.5,1))\n",
    "plt.xticks(np.arange(0,7,1),['Mon','Tue','Wed','Thu','Fri','Sat','Sun']);"
   ]
  },
  {
   "cell_type": "markdown",
   "metadata": {
    "slideshow": {
     "slide_type": "slide"
    }
   },
   "source": [
    "On which date did he tweet the most and how many tweets did he tweet?"
   ]
  },
  {
   "cell_type": "code",
   "execution_count": 108,
   "metadata": {
    "slideshow": {
     "slide_type": "fragment"
    }
   },
   "outputs": [
    {
     "name": "stdout",
     "output_type": "stream",
     "text": [
      "[(datetime.date(2016, 10, 19), 83)]\n"
     ]
    }
   ],
   "source": [
    "from collections import Counter\n",
    "\n",
    "dates = [date.date() for date in dates]\n",
    "\n",
    "freq = Counter(dates)\n",
    "print(freq.most_common(1))"
   ]
  },
  {
   "cell_type": "markdown",
   "metadata": {
    "slideshow": {
     "slide_type": "slide"
    }
   },
   "source": [
    "Let's view his tweeting habits over time:"
   ]
  },
  {
   "cell_type": "code",
   "execution_count": 109,
   "metadata": {
    "slideshow": {
     "slide_type": "fragment"
    }
   },
   "outputs": [
    {
     "data": {
      "text/plain": [
       "<Container object of 809 artists>"
      ]
     },
     "execution_count": 109,
     "metadata": {},
     "output_type": "execute_result"
    },
    {
     "data": {
      "image/png": "[encoded data removed]",
      "text/plain": [
       "<matplotlib.figure.Figure at 0x11b2e9400>"
      ]
     },
     "metadata": {},
     "output_type": "display_data"
    }
   ],
   "source": [
    "count_days={}\n",
    "for day in dates:\n",
    "    if day not in count_days:\n",
    "        count_days[day]=1\n",
    "    else:\n",
    "        count_days[day]+=1\n",
    "plt.rcParams['figure.figsize'] = [10,5]\n",
    "plt.bar(list(count_days.keys()), count_days.values())"
   ]
  },
  {
   "cell_type": "markdown",
   "metadata": {
    "slideshow": {
     "slide_type": "slide"
    }
   },
   "source": [
    "What were the maximum amount of retweets for one of his tweets?"
   ]
  },
  {
   "cell_type": "code",
   "execution_count": 110,
   "metadata": {
    "slideshow": {
     "slide_type": "fragment"
    }
   },
   "outputs": [
    {
     "data": {
      "text/plain": [
       "369110"
      ]
     },
     "execution_count": 110,
     "metadata": {},
     "output_type": "execute_result"
    }
   ],
   "source": [
    "max(retweets)"
   ]
  },
  {
   "cell_type": "markdown",
   "metadata": {
    "slideshow": {
     "slide_type": "fragment"
    }
   },
   "source": [
    "What did this tweet say?"
   ]
  },
  {
   "cell_type": "code",
   "execution_count": 111,
   "metadata": {
    "slideshow": {
     "slide_type": "fragment"
    }
   },
   "outputs": [
    {
     "data": {
      "text/plain": [
       "'#FraudNewsCNN #FNN https://t.co/WYUnHjjUjg'"
      ]
     },
     "execution_count": 111,
     "metadata": {},
     "output_type": "execute_result"
    }
   ],
   "source": [
    "text[np.argmax(retweets)]"
   ]
  },
  {
   "cell_type": "markdown",
   "metadata": {
    "slideshow": {
     "slide_type": "slide"
    }
   },
   "source": [
    "### Creating a Donald Trump Chatbot\n",
    "\n",
    "Now let's make a Donald Trump chatbot that uses his previous tweets to create new tweets. Let's make one long string that contains all of his tweets in lowercase format:"
   ]
  },
  {
   "cell_type": "code",
   "execution_count": 112,
   "metadata": {
    "slideshow": {
     "slide_type": "fragment"
    }
   },
   "outputs": [
    {
     "name": "stdout",
     "output_type": "stream",
     "text": [
      "rt @mitchellvii: trump always ends up being right.  it's almost a little freaky.rt @mitchellvii: exactly as i said - house intel chair: we cannot rule out sr. obama officials were involved in trump surveillance https://…big day for healthcare. working hard!today on #nationalagday, we honor our great american farmers &amp; ranchers. their hard work &amp; dedication are ingrained… https://t.co/ipgrhly2zjhonored to sign s.442 today. with this legislation, we support @nasa's scientists, engineers, a\n"
     ]
    }
   ],
   "source": [
    "all_tweets = ''\n",
    "for tweet in text:\n",
    "    all_tweets = all_tweets + tweet\n",
    "    \n",
    "all_tweets = all_tweets.lower()\n",
    "\n",
    "print(all_tweets[0:500])"
   ]
  },
  {
   "cell_type": "markdown",
   "metadata": {
    "slideshow": {
     "slide_type": "slide"
    }
   },
   "source": [
    "We'll get rid of some punctuation and split the long tweet into a list of words."
   ]
  },
  {
   "cell_type": "code",
   "execution_count": 113,
   "metadata": {
    "collapsed": true,
    "slideshow": {
     "slide_type": "fragment"
    }
   },
   "outputs": [],
   "source": [
    "import re\n",
    "\n",
    "\n",
    "all_tweets = re.sub(r\"http\\S+\", \"\", all_tweets) #remove hyperlinks\n",
    "all_tweets = re.sub(r\"amp\\S+\", \"\", all_tweets) #remove ampersand symbol\n",
    "all_tweets = re.sub(r\"\\t\", \"\", all_tweets)  # remove tabs\n",
    "all_tweets = re.sub(r\"\\v\", \"\", all_tweets)  # remove vertical space\n",
    "all_tweets = re.sub(r\"\\r\", \"\", all_tweets)  # remove carriage return\n",
    "all_tweets = re.sub(r\"\\n\", \"\", all_tweets)  # remove new lines\n",
    "all_tweets = re.sub(r\"\\(\", \"\", all_tweets)  # remove parenthesis\n",
    "all_tweets = re.sub(r\"\\)\", \"\", all_tweets)  # remove parenthesis\n",
    "all_tweets = re.sub(r\"\\.\\.\\.\", \"\", all_tweets)  # remove ...\n",
    "all_tweets = re.sub(r\"\\. \\. \\. \", \"\", all_tweets)  # remove . . .\n",
    "all_tweets = re.sub(r\"\\\"\", \"\", all_tweets)  # remove quotations\n",
    "all_tweets = re.sub(r\"!\", \"! \", all_tweets)  # insert space after !\n",
    "all_tweets = re.sub(r\"\\.\", \". \", all_tweets)  # insert space after .\n",
    "all_tweets = re.sub(r\"\\?\", \"? \", all_tweets)  # insert space after ?\n",
    "\n",
    "words = all_tweets.split()\n",
    "bad_words = ['…', '.', '!', '?', ',']\n",
    "words = [x for x in words if x not in bad_words]\n"
   ]
  },
  {
   "cell_type": "markdown",
   "metadata": {
    "slideshow": {
     "slide_type": "slide"
    }
   },
   "source": [
    "We'll make the chatbot using Markov chains. A Markov chain is a randomly determined model describing a sequence of possible events in which the probability of each event depends only on the state attained in the previous event. What does this mean?\n",
    "\n",
    "We'll make a key-value dictionary where each key is a two word phrase and each value is a list containing all the possible single words that come after that phrase. Here's a concrete example. Read it carefully, paying special attention to the \"and i\" phrase.\n"
   ]
  },
  {
   "cell_type": "markdown",
   "metadata": {
    "slideshow": {
     "slide_type": "slide"
    }
   },
   "source": [
    "\"hi my name is Al and i live in a box that i like very much and i can live in there as long as i want\"\n",
    "\n",
    "\"hi my\" -> [\"name\"]\n",
    "\n",
    "\"my name\" -> [\"is\"]\n",
    "\n",
    "\"name is\" -> [\"Al\"]\n",
    "\n",
    "\"is Al\" -> [\"and\"]\n",
    "\n",
    "\"Al and\" -> [\"i\"]\n",
    "\n",
    "\"and i\" -> [\"live\"]\n",
    "\n",
    "........\n",
    "\n",
    "\"and i\" -> [\"live\", \"can\"]"
   ]
  },
  {
   "cell_type": "code",
   "execution_count": 114,
   "metadata": {
    "collapsed": true,
    "slideshow": {
     "slide_type": "slide"
    }
   },
   "outputs": [],
   "source": [
    "#create dictionary by generating key/value pairs of phrases of a given length and the words that follow those phrases\n",
    "word_dict=dict()\n",
    "num_of_words = 2  # create phrases of length 2\n",
    "\n",
    "for i in range(len(words)-num_of_words):\n",
    "    phrase = ' '.join([words[j] for j in range(i, i+num_of_words)])\n",
    "    if phrase not in word_dict:\n",
    "        word_dict[phrase]=[words[i+num_of_words]]\n",
    "    else:\n",
    "        word_dict[phrase] = word_dict[phrase]+[words[i+num_of_words]]"
   ]
  },
  {
   "cell_type": "markdown",
   "metadata": {
    "slideshow": {
     "slide_type": "slide"
    }
   },
   "source": [
    "Now randomly choose a key (two word phrase) to start with and then randomly choose the next word to follow it. While the new tweet is less than 140 characters, create a loop that continues to add new words to the new_tweet string by generating a new next word that follows the last starting_phrase. "
   ]
  },
  {
   "cell_type": "code",
   "execution_count": 115,
   "metadata": {
    "slideshow": {
     "slide_type": "slide"
    }
   },
   "outputs": [
    {
     "name": "stdout",
     "output_type": "stream",
     "text": [
      "Consequence, is wrong! there will be a great day in colorado shortly after i entered the race for dnc chairman was, of course, totally rigged.\n"
     ]
    }
   ],
   "source": [
    "import random\n",
    "#pick a random key value to start with\n",
    "starting_phrase = random.choice(list(word_dict.keys()))\n",
    "next_word = random.choice(word_dict[starting_phrase])\n",
    "new_tweet = ' '.join([starting_phrase, next_word])\n",
    "\n",
    "starting_phrase = starting_phrase.split()[1] + ' ' + next_word\n",
    "\n",
    "while len(new_tweet) <= 140: #get approximately 140 characters\n",
    "    try:\n",
    "        next_word = random.choice(word_dict[starting_phrase])\n",
    "        new_tweet = ' '.join([new_tweet, next_word])\n",
    "        starting_phrase = starting_phrase.split()[1] + ' ' + next_word\n",
    "    except:\n",
    "        if new_tweet[-1] not in string.punctuation: #if we run out of pairs but it isn't the end of a line, make it the end of a sentence.\n",
    "            new_tweet = ''.join([new_tweet, '.'])\n",
    "            starting_phrase = random.choice(list(word_dict.keys())) #generate a new phrase to start a new sentence\n",
    "            new_tweet = ' '.join([new_tweet, starting_phrase.capitalize()])\n",
    "print(new_tweet.capitalize())"
   ]
  },
  {
   "cell_type": "markdown",
   "metadata": {
    "slideshow": {
     "slide_type": "slide"
    }
   },
   "source": [
    "Resources\n",
    "- Think Stats 2e & Think Python 2e, Allen B. Downey\n",
    "http://greenteapress.com/wp/think-stats-2e/\n",
    "- UC Berkeley Data Science course materials:\n",
    "http://www.data8.org\n",
    "- Python For Everyone, Charles Severance:\n",
    "https://www.py4e.com/html3/\n",
    "- My course materials:\n",
    "https://github.com/laurenshareshian/Python_For_Math_Teachers\n",
    "https://github.com/laurenshareshian/Python_Course_Lessons\n",
    "\n"
   ]
  },
  {
   "cell_type": "code",
   "execution_count": null,
   "metadata": {
    "collapsed": true
   },
   "outputs": [],
   "source": []
  }
 ],
 "metadata": {
  "celltoolbar": "Slideshow",
  "kernelspec": {
   "display_name": "Python 3",
   "language": "python",
   "name": "python3"
  },
  "language_info": {
   "codemirror_mode": {
    "name": "ipython",
    "version": 3
   },
   "file_extension": ".py",
   "mimetype": "text/x-python",
   "name": "python",
   "nbconvert_exporter": "python",
   "pygments_lexer": "ipython3",
   "version": "3.6.0"
  }
 },
 "nbformat": 4,
 "nbformat_minor": 2
}
