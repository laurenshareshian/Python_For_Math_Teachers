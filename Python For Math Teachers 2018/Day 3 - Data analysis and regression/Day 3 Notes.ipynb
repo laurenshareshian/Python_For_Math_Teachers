{
 "cells": [
  {
   "cell_type": "markdown",
   "metadata": {
    "slideshow": {
     "slide_type": "slide"
    }
   },
   "source": [
    "### Day 3 Notes"
   ]
  },
  {
   "cell_type": "code",
   "execution_count": 2,
   "metadata": {
    "collapsed": true,
    "slideshow": {
     "slide_type": "skip"
    }
   },
   "outputs": [],
   "source": [
    "import math\n",
    "from random import randint\n",
    "import numpy as np\n",
    "import matplotlib.pyplot as plt\n",
    "%matplotlib inline"
   ]
  },
  {
   "cell_type": "markdown",
   "metadata": {
    "slideshow": {
     "slide_type": "slide"
    }
   },
   "source": [
    "Returning to Andrew's Stats Problem:\n",
    "\n",
    "In a company, there are 20 men and 10 women. Layoffs come and there are 5 men and 5 women that get laid off. Is this evidence of discrimination against women?\n",
    "\n",
    "First, make the company:"
   ]
  },
  {
   "cell_type": "code",
   "execution_count": 1,
   "metadata": {
    "collapsed": true,
    "slideshow": {
     "slide_type": "fragment"
    }
   },
   "outputs": [],
   "source": [
    "import random\n",
    "import numpy as np\n",
    "\n",
    "company = []\n",
    "for i in range(30):\n",
    "    if i < 10:\n",
    "        company.append('W')\n",
    "    else:\n",
    "        company.append('M')\n"
   ]
  },
  {
   "cell_type": "markdown",
   "metadata": {
    "slideshow": {
     "slide_type": "slide"
    }
   },
   "source": [
    "Then, ax 10 people:"
   ]
  },
  {
   "cell_type": "code",
   "execution_count": 2,
   "metadata": {
    "slideshow": {
     "slide_type": "fragment"
    }
   },
   "outputs": [
    {
     "name": "stdout",
     "output_type": "stream",
     "text": [
      "first 20 sims [0.3, 0.3, 0.1, 0.3, 0.2, 0.4, 0.3, 0.2, 0.2, 0.4, 0.2, 0.2, 0.1, 0.4, 0.4, 0.3, 0.2, 0.2, 0.5, 0.4]\n"
     ]
    }
   ],
   "source": [
    "percent_women_laid_off = []\n",
    "\n",
    "nsims = 10000\n",
    "\n",
    "for i in range(nsims):\n",
    "    lay_offs = random.sample(company,10) #lay off 10 people\n",
    "    women_laid_off= lay_offs.count('W') #how many of those 10 were women?\n",
    "    percent_women_laid_off.append(women_laid_off/10) #what percentage of those were women?10\n",
    "print('first 20 sims', percent_women_laid_off[0:20])"
   ]
  },
  {
   "cell_type": "markdown",
   "metadata": {
    "slideshow": {
     "slide_type": "slide"
    }
   },
   "source": [
    "Then, figure out the probability of laying off greater or equal to 50 percent:"
   ]
  },
  {
   "cell_type": "code",
   "execution_count": 3,
   "metadata": {
    "slideshow": {
     "slide_type": "fragment"
    }
   },
   "outputs": [
    {
     "name": "stdout",
     "output_type": "stream",
     "text": [
      "0.1671\n"
     ]
    }
   ],
   "source": [
    "print((percent_women_laid_off.count(0.5)\n",
    "    +percent_women_laid_off.count(0.6)\n",
    "    +percent_women_laid_off.count(0.7)\n",
    "    +percent_women_laid_off.count(0.8)\n",
    "    +percent_women_laid_off.count(0.9)\n",
    "    +percent_women_laid_off.count(1.0))/nsims)\n"
   ]
  },
  {
   "cell_type": "markdown",
   "metadata": {
    "slideshow": {
     "slide_type": "slide"
    }
   },
   "source": [
    "Then we ran a one sided proportion test:"
   ]
  },
  {
   "cell_type": "code",
   "execution_count": 9,
   "metadata": {
    "slideshow": {
     "slide_type": "fragment"
    }
   },
   "outputs": [
    {
     "name": "stdout",
     "output_type": "stream",
     "text": [
      "0.14592027257189422\n"
     ]
    }
   ],
   "source": [
    "import numpy as np\n",
    "from statsmodels.stats.proportion import proportions_ztest\n",
    "\n",
    "stat, pval = proportions_ztest(5,10,1/3, alternative = 'larger')\n",
    "print(pval)"
   ]
  },
  {
   "cell_type": "markdown",
   "metadata": {
    "slideshow": {
     "slide_type": "fragment"
    }
   },
   "source": [
    "Crap! On the TI, it gives us 0.13178!"
   ]
  },
  {
   "cell_type": "markdown",
   "metadata": {
    "slideshow": {
     "slide_type": "slide"
    }
   },
   "source": [
    "What about the one proportion example listed in the statsmodel docs?\n",
    "\n",
    "http://www.statsmodels.org/dev/_modules/statsmodels/stats/proportion.html"
   ]
  },
  {
   "cell_type": "code",
   "execution_count": 7,
   "metadata": {
    "slideshow": {
     "slide_type": "fragment"
    }
   },
   "outputs": [
    {
     "name": "stdout",
     "output_type": "stream",
     "text": [
      "0.6949650981148476\n"
     ]
    }
   ],
   "source": [
    "stat, pval = proportions_ztest(5, 83, 0.05)\n",
    "print(pval)"
   ]
  },
  {
   "cell_type": "markdown",
   "metadata": {
    "slideshow": {
     "slide_type": "fragment"
    }
   },
   "source": [
    "Crap! On the TI, it gives us 0.669!"
   ]
  },
  {
   "cell_type": "markdown",
   "metadata": {
    "slideshow": {
     "slide_type": "slide"
    }
   },
   "source": [
    "However, a two proportion test gives us the same thing on the TI or in Python:"
   ]
  },
  {
   "cell_type": "code",
   "execution_count": 10,
   "metadata": {
    "slideshow": {
     "slide_type": "fragment"
    }
   },
   "outputs": [
    {
     "name": "stdout",
     "output_type": "stream",
     "text": [
      "0.15918129181156992\n"
     ]
    }
   ],
   "source": [
    "x1 = 5\n",
    "n1 = 83\n",
    "x2 = 12\n",
    "n2 = 99\n",
    "\n",
    "stat, pval = proportions_ztest([x1,x2], [n1,n2])\n",
    "print(pval)"
   ]
  },
  {
   "cell_type": "markdown",
   "metadata": {
    "slideshow": {
     "slide_type": "slide"
    }
   },
   "source": [
    "Does anyone know what is going on??"
   ]
  },
  {
   "cell_type": "markdown",
   "metadata": {
    "slideshow": {
     "slide_type": "slide"
    }
   },
   "source": [
    "### Bank Problem:\n",
    "\n",
    "Define service and arrival functions at beginning:\n"
   ]
  },
  {
   "cell_type": "code",
   "execution_count": 13,
   "metadata": {
    "collapsed": true,
    "slideshow": {
     "slide_type": "fragment"
    }
   },
   "outputs": [],
   "source": [
    "from random import randint\n",
    "def service_time():\n",
    "    m=randint(0,99)                  \n",
    "    if m<=24:\n",
    "        return 1\n",
    "    elif 25<=m<=44:\n",
    "        return 2\n",
    "    elif 45<=m<=84:\n",
    "        return 3\n",
    "    else:\n",
    "        return 4\n",
    "    \n",
    "def arrival_between():\n",
    "    n=randint(0,99)                                         \n",
    "    if n<=9:\n",
    "        return 0\n",
    "    elif 10<=n<=24:\n",
    "        return 1\n",
    "    elif 25<=n<=34:\n",
    "        return 2\n",
    "    elif 35<=n<=69:\n",
    "        return 3\n",
    "    elif 70<=n<=94:\n",
    "        return 4\n",
    "    else:\n",
    "        return 5"
   ]
  },
  {
   "cell_type": "markdown",
   "metadata": {
    "slideshow": {
     "slide_type": "slide"
    }
   },
   "source": [
    "Then give first person their times:"
   ]
  },
  {
   "cell_type": "code",
   "execution_count": 14,
   "metadata": {
    "collapsed": true,
    "slideshow": {
     "slide_type": "fragment"
    }
   },
   "outputs": [],
   "source": [
    "#insert 1 here\n",
    "people=150 #people at the bank each day\n",
    "arrival=[] #arrival time\n",
    "service=[] #service time\n",
    "helpstart=[] #help start time\n",
    "helpend=[] #help end time\n",
    "waittime=[] #wait time\n",
    "\n",
    "arrival.append(0) #assume the customer arrives when the bank opens\n",
    "helpstart.append(0)#the customer gets helped right away at time t=0\n",
    "waittime.append(0)#the first customer did not have to wait at all\n",
    "service.append(service_time()) #assign first customer a service time\n",
    "helpend.append(service[0]) #the customer finishes after their service time is over    "
   ]
  },
  {
   "cell_type": "markdown",
   "metadata": {
    "slideshow": {
     "slide_type": "slide"
    }
   },
   "source": [
    "Then give everyone else their service and arrival between times:"
   ]
  },
  {
   "cell_type": "code",
   "execution_count": 15,
   "metadata": {
    "collapsed": true,
    "slideshow": {
     "slide_type": "fragment"
    }
   },
   "outputs": [],
   "source": [
    "for person in range(1,people): #you already gave the first person their values so start at 1 not 0      \n",
    "    service.append(service_time())\n",
    "    arrival.append(arrival_between()+arrival[person-1])"
   ]
  },
  {
   "cell_type": "markdown",
   "metadata": {
    "slideshow": {
     "slide_type": "slide"
    }
   },
   "source": [
    "Update each customer’s help start, help end, and wait times. You will need to update differently depending on whether the next customer arrived before or after the last person’s service finished."
   ]
  },
  {
   "cell_type": "code",
   "execution_count": 17,
   "metadata": {
    "collapsed": true,
    "slideshow": {
     "slide_type": "fragment"
    }
   },
   "outputs": [],
   "source": [
    "for person in range(1,people):                              #you already serviced the first person so start at 1 not 0\n",
    "    if arrival[person]>=helpend[person-1]:                  #if the next customer arrives after the last customer is finished, \n",
    "        helpstart.append(arrival[person])                   #then the next customer gets helped right away as soon as they arrive       \n",
    "        helpend.append(helpstart[person]+service[person])   #and his/her end time is their arrival time plus their service time\n",
    "        waittime.append(0)                                  #and they didn't have to wait at all\n",
    "    else:                                                   #if the next customer arrives before the last customer is finished,\n",
    "        helpstart.append(helpend[person-1])                 #then the next customer gets helped when the customer before he/she finishes\n",
    "        helpend.append(helpstart[person]+service[person])   #and his/her end time is their service time plus when they started getting helped\n",
    "        waittime.append(helpstart[person]-arrival[person])  #and they had to wait the difference between when they arrived and were helped"
   ]
  },
  {
   "cell_type": "markdown",
   "metadata": {
    "slideshow": {
     "slide_type": "slide"
    }
   },
   "source": [
    "Calculate average wait time:"
   ]
  },
  {
   "cell_type": "code",
   "execution_count": 18,
   "metadata": {
    "slideshow": {
     "slide_type": "fragment"
    }
   },
   "outputs": [
    {
     "name": "stdout",
     "output_type": "stream",
     "text": [
      "average wait time =  8.488294314381271\n"
     ]
    }
   ],
   "source": [
    "print('average wait time = ', np.mean(waittime))"
   ]
  },
  {
   "cell_type": "markdown",
   "metadata": {
    "slideshow": {
     "slide_type": "slide"
    }
   },
   "source": [
    "Put it all in a loop:"
   ]
  },
  {
   "cell_type": "code",
   "execution_count": 19,
   "metadata": {},
   "outputs": [
    {
     "name": "stdout",
     "output_type": "stream",
     "text": [
      "average wait time =  4.9143273333333335\n"
     ]
    }
   ],
   "source": [
    "days = 10000\n",
    "people=150 #people at the bank each day\n",
    "total_waittime = []\n",
    "\n",
    "for day in range(days):\n",
    "    \n",
    "    #you need to clear these lists for each new day\n",
    "    arrival=[] #arrival time\n",
    "    service=[] #service time\n",
    "    helpstart=[] #help start time\n",
    "    helpend=[] #help end time\n",
    "    waittime=[] #wait time\n",
    "    \n",
    "    #-----------------------------------\n",
    "    # give the very first customer his/her arrival and service time\n",
    "    #-----------------------------------\n",
    "    arrival.append(0) #the customer arrives when the bank opens\n",
    "    helpstart.append(0)#the customer gets helped right away at time t=0\n",
    "    waittime.append(0)#the first customer did not have to wait at all\n",
    "    service.append(service_time()) #randomly assign first customer service time                                    \n",
    "    helpend.append(service[0]) #the customer finishes after their service time is over  \n",
    "    \n",
    "    #-----------------------------------\n",
    "    #give all of the other customers arrival and service times\n",
    "    #-----------------------------------\n",
    "    for person in range(1,people):\n",
    "    #-----------------------------------\n",
    "    #set up arrival time probabilities:\n",
    "    #-----------------------------------\n",
    "        arrival.append(arrival_between()+arrival[person-1])\n",
    "    #-----------------------------------\n",
    "    #set up service time probabilities:\n",
    "    #-----------------------------------        \n",
    "        service.append(service_time())\n",
    "    #-----------------------------------\n",
    "    #service all of the other customers\n",
    "    #-----------------------------------\n",
    "    for person in range(1,people):\n",
    "        if arrival[person]>=helpend[person-1]:                  #if the next customer arrives after the last customer is finished, \n",
    "            helpstart.append(arrival[person])                   #then the next customer gets helped right away       \n",
    "            helpend.append(helpstart[person]+service[person])   #and his/her end time is their arrival time plus their service time\n",
    "            waittime.append(0)                                  #and they didn't have to wait at all\n",
    "        else:                                                   #if the next customer arrives before the last customer is finished,\n",
    "            helpstart.append(helpend[person-1])                 #then the next customer gets helped when the customer before he/her finishes\n",
    "            helpend.append(helpstart[person]+service[person])   #and his/her end time is their service time plus when they started getting helped\n",
    "            waittime.append(helpstart[person]-arrival[person])  #and they had to wait the difference between when the arrived and were helped\n",
    "\n",
    "    total_waittime.append(sum(waittime)/len(waittime))\n",
    "    \n",
    "print('average wait time = ', np.mean(total_waittime))\n"
   ]
  },
  {
   "cell_type": "markdown",
   "metadata": {
    "slideshow": {
     "slide_type": "slide"
    }
   },
   "source": [
    "It varies quite a bit!"
   ]
  },
  {
   "cell_type": "code",
   "execution_count": 21,
   "metadata": {
    "slideshow": {
     "slide_type": "fragment"
    }
   },
   "outputs": [
    {
     "data": {
      "text/plain": [
       "[<matplotlib.lines.Line2D at 0x115c803c8>]"
      ]
     },
     "execution_count": 21,
     "metadata": {},
     "output_type": "execute_result"
    },
    {
     "data": {
      "image/png": "[encoded data removed]",
      "text/plain": [
       "<matplotlib.figure.Figure at 0x115338748>"
      ]
     },
     "metadata": {},
     "output_type": "display_data"
    }
   ],
   "source": [
    "import matplotlib.pyplot as plt\n",
    "%matplotlib inline\n",
    "\n",
    "days = range(10000)\n",
    "plt.plot(days, total_waittime,'.')"
   ]
  },
  {
   "cell_type": "markdown",
   "metadata": {
    "slideshow": {
     "slide_type": "slide"
    }
   },
   "source": [
    "You can play around with changing service/arrival time probabilities to get the average wait time under 2 minutes. Or, use Albert's two teller solution:"
   ]
  },
  {
   "cell_type": "code",
   "execution_count": 16,
   "metadata": {
    "slideshow": {
     "slide_type": "slide"
    }
   },
   "outputs": [
    {
     "name": "stdout",
     "output_type": "stream",
     "text": [
      "average wait time after 1000 days:  0.12061333333333335\n"
     ]
    }
   ],
   "source": [
    "import random\n",
    "import numpy as np\n",
    "\n",
    "\n",
    "daily_avg_wait_time = []\n",
    "\n",
    "def customerArrived():\n",
    "    \n",
    "    arrived = random.randint(0,99)\n",
    "    \n",
    "    if 0 <= arrived < 10:\n",
    "        arrival_time.append(0)  \n",
    "        \n",
    "    elif 10 <= arrived < 25:\n",
    "        arrival_time.append(1)\n",
    "       \n",
    "    elif 25 <= arrived < 35:\n",
    "        arrival_time.append(2)\n",
    "      \n",
    "    elif 35 <= arrived < 70:\n",
    "        arrival_time.append(3)\n",
    "       \n",
    "    elif 70 <= arrived < 95:\n",
    "        arrival_time.append(4)\n",
    "       \n",
    "    elif 95 <= arrived < 100:\n",
    "        arrival_time.append(5)\n",
    "        \n",
    "        \n",
    "def serviceTime():\n",
    "    \n",
    "    timeServed = random.randint(0,99)\n",
    "    if 0 <= timeServed < 25:\n",
    "        service_time.append(1)\n",
    "        \n",
    "    elif 25 <= timeServed < 45:\n",
    "        service_time.append(2)\n",
    "        \n",
    "    elif 45 <= timeServed < 85:\n",
    "        service_time.append(3)\n",
    "      \n",
    "    elif 85 <= timeServed < 100:\n",
    "        service_time.append(4)\n",
    "         \n",
    "def waitTime(n):\n",
    "    for i in range(1,n):\n",
    "  \n",
    "        wait = service_time[i-1]+wait_time[i-1]-arrival_time[i]\n",
    "   \n",
    "        #######################################################################################\n",
    "        ##############          Code for Second Teller             ############################\n",
    "        if wait > 0:# and i <= 75:\n",
    "            wait = service_time[i-2]+wait_time[i-2]-arrival_time[i-1]-arrival_time[i]\n",
    "        #######################################################################################\n",
    "    \n",
    "        if wait <= 0:\n",
    "            wait_time.append(0)\n",
    "        else:\n",
    "            wait_time.append(wait)\n",
    "    \n",
    "for days in range(1000):\n",
    "    arrival_time = []\n",
    "    service_time = []\n",
    "    wait_time = [0]\n",
    "    customers = 150\n",
    "    for i in range(customers):\n",
    "        customerArrived() \n",
    "        serviceTime()  \n",
    "\n",
    "    waitTime(customers)\n",
    "    \n",
    "    daily_avg_wait_time.append(np.mean(wait_time))\n",
    "    \n",
    "print('average wait time after 1000 days: ', np.mean(daily_avg_wait_time))"
   ]
  },
  {
   "cell_type": "markdown",
   "metadata": {
    "slideshow": {
     "slide_type": "slide"
    }
   },
   "source": [
    "Here's the most important part:"
   ]
  },
  {
   "cell_type": "code",
   "execution_count": 23,
   "metadata": {
    "collapsed": true,
    "slideshow": {
     "slide_type": "slide"
    }
   },
   "outputs": [],
   "source": [
    "def waitTime(n):\n",
    "    for i in range(1,n):\n",
    "  \n",
    "        wait = service_time[i-1]+wait_time[i-1]-arrival_time[i]\n",
    "   \n",
    "        #######################################################################################\n",
    "        ##############          Code for Second Teller             ############################\n",
    "        if wait > 0:# and i <= 75:\n",
    "            wait = service_time[i-2]+wait_time[i-2]-arrival_time[i-1]-arrival_time[i]\n",
    "        #######################################################################################\n",
    "    \n",
    "        if wait <= 0:\n",
    "            wait_time.append(0)\n",
    "        else:\n",
    "            wait_time.append(wait)\n",
    "    \n",
    "for days in range(1000):\n",
    "    arrival_time = []\n",
    "    service_time = []\n",
    "    wait_time = [0]\n",
    "    customers = 150\n",
    "    for i in range(customers):\n",
    "        customerArrived() \n",
    "        serviceTime()  \n",
    "\n",
    "    waitTime(customers)\n",
    "    \n",
    "    daily_avg_wait_time.append(np.mean(wait_time))"
   ]
  },
  {
   "cell_type": "code",
   "execution_count": null,
   "metadata": {
    "collapsed": true
   },
   "outputs": [],
   "source": []
  }
 ],
 "metadata": {
  "celltoolbar": "Slideshow",
  "kernelspec": {
   "display_name": "Python 3",
   "language": "python",
   "name": "python3"
  },
  "language_info": {
   "codemirror_mode": {
    "name": "ipython",
    "version": 3
   },
   "file_extension": ".py",
   "mimetype": "text/x-python",
   "name": "python",
   "nbconvert_exporter": "python",
   "pygments_lexer": "ipython3",
   "version": "3.7.3"
  }
 },
 "nbformat": 4,
 "nbformat_minor": 2
}
