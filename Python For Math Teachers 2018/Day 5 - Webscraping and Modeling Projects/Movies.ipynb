{
 "cells": [
  {
   "cell_type": "markdown",
   "metadata": {},
   "source": [
    "Using Selenium to Scrape Box Office Mojo\n",
    "---\n",
    "<a class=\"anchor\" id=\"selenium\"></a>\n",
    "\n",
    "Often, you're going to need to go to many different websites to scrape data. The package Selenium automates this process for you. \n",
    "\n",
    "If you have Anaconda installed already, try typing into your terminal: \n",
    "\n",
    "conda install -c conda-forge selenium\n",
    "\n",
    "Then download the latest version of chromedriver directly from:\n",
    "\n",
    "https://sites.google.com/a/chromium.org/chromedriver/downloads\n",
    "\n",
    "2.Unzip it and move it into your APPLICATIONS folder if you have a Mac or your Desktop if you have a PC.\n",
    "\n",
    "3.IF YOU HAVE A MAC: replace \"chromedriver = '/usr/local/bin/chromedriver'\" with \"chromedriver = '/Applications/chromedriver'\" in the cell below.\n",
    "\n",
    "IF YOU HAVE WINDOWS: You will need double backslashes. Replace \"chromedriver = '/usr/local/bin/chromedriver'\" with something like chromedriver = \"C:\\\\\\Users\\\\\\{Your_user_name}\\\\\\Desktop\\\\\\chromedriver\" below. (Example: chromedriver = \"C:\\\\\\Users\\\\\\shareshian\\\\\\Desktop\\\\\\chromedriver\")\n",
    "\n",
    "THEN, DOWNLOAD EVERYTHING IN THIS COCALC FILE TO YOUR LOCAL COMPUTER (YOU CAN'T DO THIS ASSIGNMENT ON COCALC BECAUSE THE SOFTWARE THAT YOU'VE DOWNLOADED IS ON YOUR LOCAL COMPUTER!!!)\n",
    "\n",
    "If everything worked smoothly, you should be able import the following packages and open a driver by running the following cell:\n"
   ]
  },
  {
   "cell_type": "code",
   "execution_count": 1,
   "metadata": {
    "collapsed": true
   },
   "outputs": [],
   "source": [
    "import requests\n",
    "from bs4 import BeautifulSoup\n",
    "from selenium import webdriver\n",
    "from selenium.webdriver.common.keys import Keys\n",
    "import numpy as np\n",
    "import pandas as pd\n",
    "import matplotlib.pyplot as plt\n",
    "%matplotlib inline\n",
    "\n",
    "chromedriver = \"/usr/local/bin/chromedriver\"\n",
    "driver = webdriver.Chrome(chromedriver)\n",
    "driver.close()"
   ]
  },
  {
   "cell_type": "markdown",
   "metadata": {},
   "source": [
    "1.We are going to explore the top 100 movie releases of 2017 using the dataset here:\n",
    "\n",
    "http://www.boxofficemojo.com/yearly/chart/?yr=2017&p=.htm\n",
    "\n",
    "First, read in the 100 movie table using pd.read_html."
   ]
  },
  {
   "cell_type": "code",
   "execution_count": 2,
   "metadata": {
    "collapsed": true
   },
   "outputs": [],
   "source": [
    "table = pd.read_html('http://www.boxofficemojo.com/yearly/chart/?yr=2017&p=.htm')[2]"
   ]
  },
  {
   "cell_type": "markdown",
   "metadata": {},
   "source": [
    "2.Only rows 6 through 106 and the odd columns 1,3,5 and 7 contain valuable info that we will use. Save this reduced table to a dataframe called movies. Then reset the index. "
   ]
  },
  {
   "cell_type": "code",
   "execution_count": 3,
   "metadata": {},
   "outputs": [
    {
     "data": {
      "text/html": [
       "<div>\n",
       "<style scoped>\n",
       "    .dataframe tbody tr th:only-of-type {\n",
       "        vertical-align: middle;\n",
       "    }\n",
       "\n",
       "    .dataframe tbody tr th {\n",
       "        vertical-align: top;\n",
       "    }\n",
       "\n",
       "    .dataframe thead th {\n",
       "        text-align: right;\n",
       "    }\n",
       "</style>\n",
       "<table border=\"1\" class=\"dataframe\">\n",
       "  <thead>\n",
       "    <tr style=\"text-align: right;\">\n",
       "      <th></th>\n",
       "      <th>1</th>\n",
       "      <th>3</th>\n",
       "      <th>5</th>\n",
       "      <th>7</th>\n",
       "    </tr>\n",
       "  </thead>\n",
       "  <tbody>\n",
       "    <tr>\n",
       "      <th>0</th>\n",
       "      <td>Star Wars: The Last Jedi</td>\n",
       "      <td>$620,181,382</td>\n",
       "      <td>$220,009,584</td>\n",
       "      <td>12/15</td>\n",
       "    </tr>\n",
       "    <tr>\n",
       "      <th>1</th>\n",
       "      <td>Beauty and the Beast (2017)</td>\n",
       "      <td>$504,014,165</td>\n",
       "      <td>$174,750,616</td>\n",
       "      <td>3/17</td>\n",
       "    </tr>\n",
       "    <tr>\n",
       "      <th>2</th>\n",
       "      <td>Wonder Woman</td>\n",
       "      <td>$412,563,408</td>\n",
       "      <td>$103,251,471</td>\n",
       "      <td>6/2</td>\n",
       "    </tr>\n",
       "    <tr>\n",
       "      <th>3</th>\n",
       "      <td>Jumanji: Welcome to the Jungle</td>\n",
       "      <td>$404,515,480</td>\n",
       "      <td>$36,169,328</td>\n",
       "      <td>12/20</td>\n",
       "    </tr>\n",
       "    <tr>\n",
       "      <th>4</th>\n",
       "      <td>Guardians of the Galaxy Vol. 2</td>\n",
       "      <td>$389,813,101</td>\n",
       "      <td>$146,510,104</td>\n",
       "      <td>5/5</td>\n",
       "    </tr>\n",
       "  </tbody>\n",
       "</table>\n",
       "</div>"
      ],
      "text/plain": [
       "                                1             3             5      7\n",
       "0        Star Wars: The Last Jedi  $620,181,382  $220,009,584  12/15\n",
       "1     Beauty and the Beast (2017)  $504,014,165  $174,750,616   3/17\n",
       "2                    Wonder Woman  $412,563,408  $103,251,471    6/2\n",
       "3  Jumanji: Welcome to the Jungle  $404,515,480   $36,169,328  12/20\n",
       "4  Guardians of the Galaxy Vol. 2  $389,813,101  $146,510,104    5/5"
      ]
     },
     "execution_count": 3,
     "metadata": {},
     "output_type": "execute_result"
    }
   ],
   "source": [
    "movies = table.iloc[6:106,[1,3,5,7]]\n",
    "movies = movies.reset_index(drop=True)\n",
    "movies.head()"
   ]
  },
  {
   "cell_type": "markdown",
   "metadata": {},
   "source": [
    "3.Rename the columns to be movie, total gross, opening gross, open date."
   ]
  },
  {
   "cell_type": "code",
   "execution_count": 4,
   "metadata": {},
   "outputs": [
    {
     "data": {
      "text/plain": [
       "(100, 4)"
      ]
     },
     "execution_count": 4,
     "metadata": {},
     "output_type": "execute_result"
    }
   ],
   "source": [
    "movies = movies.rename(index=str, columns={1: 'movie',\n",
    "                                           3: 'total gross',\n",
    "                                           5: 'open gross',\n",
    "                                           7: 'open date'})\n",
    "movies.shape"
   ]
  },
  {
   "cell_type": "markdown",
   "metadata": {},
   "source": [
    "4.You can strip the dollar signs and commas from the total gross using list comprehensions. "
   ]
  },
  {
   "cell_type": "code",
   "execution_count": 5,
   "metadata": {
    "collapsed": true
   },
   "outputs": [],
   "source": [
    "movies['total gross'] = [x.strip('$') for x in movies['total gross']]\n",
    "movies['total gross'] = [x.replace(',', '') for x in movies['total gross']]"
   ]
  },
  {
   "cell_type": "markdown",
   "metadata": {},
   "source": [
    "5.Strip the dollar signs from the open gross column."
   ]
  },
  {
   "cell_type": "code",
   "execution_count": 6,
   "metadata": {},
   "outputs": [
    {
     "data": {
      "text/html": [
       "<div>\n",
       "<style scoped>\n",
       "    .dataframe tbody tr th:only-of-type {\n",
       "        vertical-align: middle;\n",
       "    }\n",
       "\n",
       "    .dataframe tbody tr th {\n",
       "        vertical-align: top;\n",
       "    }\n",
       "\n",
       "    .dataframe thead th {\n",
       "        text-align: right;\n",
       "    }\n",
       "</style>\n",
       "<table border=\"1\" class=\"dataframe\">\n",
       "  <thead>\n",
       "    <tr style=\"text-align: right;\">\n",
       "      <th></th>\n",
       "      <th>movie</th>\n",
       "      <th>total gross</th>\n",
       "      <th>open gross</th>\n",
       "      <th>open date</th>\n",
       "    </tr>\n",
       "  </thead>\n",
       "  <tbody>\n",
       "    <tr>\n",
       "      <th>0</th>\n",
       "      <td>Star Wars: The Last Jedi</td>\n",
       "      <td>620181382</td>\n",
       "      <td>220009584</td>\n",
       "      <td>12/15</td>\n",
       "    </tr>\n",
       "    <tr>\n",
       "      <th>1</th>\n",
       "      <td>Beauty and the Beast (2017)</td>\n",
       "      <td>504014165</td>\n",
       "      <td>174750616</td>\n",
       "      <td>3/17</td>\n",
       "    </tr>\n",
       "    <tr>\n",
       "      <th>2</th>\n",
       "      <td>Wonder Woman</td>\n",
       "      <td>412563408</td>\n",
       "      <td>103251471</td>\n",
       "      <td>6/2</td>\n",
       "    </tr>\n",
       "    <tr>\n",
       "      <th>3</th>\n",
       "      <td>Jumanji: Welcome to the Jungle</td>\n",
       "      <td>404515480</td>\n",
       "      <td>36169328</td>\n",
       "      <td>12/20</td>\n",
       "    </tr>\n",
       "    <tr>\n",
       "      <th>4</th>\n",
       "      <td>Guardians of the Galaxy Vol. 2</td>\n",
       "      <td>389813101</td>\n",
       "      <td>146510104</td>\n",
       "      <td>5/5</td>\n",
       "    </tr>\n",
       "  </tbody>\n",
       "</table>\n",
       "</div>"
      ],
      "text/plain": [
       "                            movie total gross open gross open date\n",
       "0        Star Wars: The Last Jedi   620181382  220009584     12/15\n",
       "1     Beauty and the Beast (2017)   504014165  174750616      3/17\n",
       "2                    Wonder Woman   412563408  103251471       6/2\n",
       "3  Jumanji: Welcome to the Jungle   404515480   36169328     12/20\n",
       "4  Guardians of the Galaxy Vol. 2   389813101  146510104       5/5"
      ]
     },
     "execution_count": 6,
     "metadata": {},
     "output_type": "execute_result"
    }
   ],
   "source": [
    "movies['open gross'] = [x.strip('$') for x in movies['open gross']]\n",
    "movies['open gross'] = [x.replace(',','') for x in movies['open gross']]\n",
    "movies.head()"
   ]
  },
  {
   "cell_type": "markdown",
   "metadata": {},
   "source": [
    "6.Plot total gross on the x axis and open gross on the y-axis."
   ]
  },
  {
   "cell_type": "code",
   "execution_count": 7,
   "metadata": {},
   "outputs": [
    {
     "data": {
      "text/plain": [
       "<matplotlib.text.Text at 0x116a41898>"
      ]
     },
     "execution_count": 7,
     "metadata": {},
     "output_type": "execute_result"
    },
    {
     "data": {
      "image/png": "[encoded data removed]",
      "text/plain": [
       "<matplotlib.figure.Figure at 0x116a136a0>"
      ]
     },
     "metadata": {},
     "output_type": "display_data"
    }
   ],
   "source": [
    "plt.plot(movies['total gross'],movies['open gross'],'.')\n",
    "plt.xlabel('gross')\n",
    "plt.ylabel('open')"
   ]
  },
  {
   "cell_type": "markdown",
   "metadata": {},
   "source": [
    "7.Change the gross columns to integer data types."
   ]
  },
  {
   "cell_type": "code",
   "execution_count": 8,
   "metadata": {
    "collapsed": true
   },
   "outputs": [],
   "source": [
    "movies['open gross'] = movies['open gross'].astype(int)\n",
    "movies['total gross'] = movies['total gross'].astype(int)"
   ]
  },
  {
   "cell_type": "markdown",
   "metadata": {},
   "source": [
    "8.Create another column called ratio that is given by the opening gross divided by the total gross. "
   ]
  },
  {
   "cell_type": "code",
   "execution_count": 9,
   "metadata": {
    "collapsed": true
   },
   "outputs": [],
   "source": [
    "movies['ratio'] =  movies['open gross']/movies['total gross']"
   ]
  },
  {
   "cell_type": "markdown",
   "metadata": {},
   "source": [
    "9.Sort the ratio from smallest to largest to find the biggest \"sleeper\" hit (meaning, the movie that didn't make that much in its opening weekend but made a lot of money later.)"
   ]
  },
  {
   "cell_type": "code",
   "execution_count": 10,
   "metadata": {},
   "outputs": [
    {
     "data": {
      "text/html": [
       "<div>\n",
       "<style scoped>\n",
       "    .dataframe tbody tr th:only-of-type {\n",
       "        vertical-align: middle;\n",
       "    }\n",
       "\n",
       "    .dataframe tbody tr th {\n",
       "        vertical-align: top;\n",
       "    }\n",
       "\n",
       "    .dataframe thead th {\n",
       "        text-align: right;\n",
       "    }\n",
       "</style>\n",
       "<table border=\"1\" class=\"dataframe\">\n",
       "  <thead>\n",
       "    <tr style=\"text-align: right;\">\n",
       "      <th></th>\n",
       "      <th>movie</th>\n",
       "      <th>total gross</th>\n",
       "      <th>open gross</th>\n",
       "      <th>open date</th>\n",
       "      <th>ratio</th>\n",
       "    </tr>\n",
       "  </thead>\n",
       "  <tbody>\n",
       "    <tr>\n",
       "      <th>83</th>\n",
       "      <td>Hostiles</td>\n",
       "      <td>29819114</td>\n",
       "      <td>22849</td>\n",
       "      <td>12/22</td>\n",
       "      <td>0.000766</td>\n",
       "    </tr>\n",
       "    <tr>\n",
       "      <th>45</th>\n",
       "      <td>The Shape of Water</td>\n",
       "      <td>63859435</td>\n",
       "      <td>166564</td>\n",
       "      <td>12/1</td>\n",
       "      <td>0.002608</td>\n",
       "    </tr>\n",
       "    <tr>\n",
       "      <th>49</th>\n",
       "      <td>Darkest Hour</td>\n",
       "      <td>56468410</td>\n",
       "      <td>175006</td>\n",
       "      <td>11/22</td>\n",
       "      <td>0.003099</td>\n",
       "    </tr>\n",
       "    <tr>\n",
       "      <th>73</th>\n",
       "      <td>Wind River</td>\n",
       "      <td>33800859</td>\n",
       "      <td>161558</td>\n",
       "      <td>8/4</td>\n",
       "      <td>0.004780</td>\n",
       "    </tr>\n",
       "    <tr>\n",
       "      <th>51</th>\n",
       "      <td>Three Billboards Outside Ebbing, Missouri</td>\n",
       "      <td>54513740</td>\n",
       "      <td>322168</td>\n",
       "      <td>11/10</td>\n",
       "      <td>0.005910</td>\n",
       "    </tr>\n",
       "    <tr>\n",
       "      <th>38</th>\n",
       "      <td>The Post</td>\n",
       "      <td>81903458</td>\n",
       "      <td>526011</td>\n",
       "      <td>12/22</td>\n",
       "      <td>0.006422</td>\n",
       "    </tr>\n",
       "    <tr>\n",
       "      <th>95</th>\n",
       "      <td>Victoria and Abdul</td>\n",
       "      <td>22245070</td>\n",
       "      <td>158845</td>\n",
       "      <td>9/22</td>\n",
       "      <td>0.007141</td>\n",
       "    </tr>\n",
       "    <tr>\n",
       "      <th>55</th>\n",
       "      <td>Lady Bird</td>\n",
       "      <td>48958273</td>\n",
       "      <td>364437</td>\n",
       "      <td>11/3</td>\n",
       "      <td>0.007444</td>\n",
       "    </tr>\n",
       "    <tr>\n",
       "      <th>82</th>\n",
       "      <td>I, Tonya</td>\n",
       "      <td>30014539</td>\n",
       "      <td>264155</td>\n",
       "      <td>12/8</td>\n",
       "      <td>0.008801</td>\n",
       "    </tr>\n",
       "    <tr>\n",
       "      <th>64</th>\n",
       "      <td>The Big Sick</td>\n",
       "      <td>42873127</td>\n",
       "      <td>421577</td>\n",
       "      <td>6/23</td>\n",
       "      <td>0.009833</td>\n",
       "    </tr>\n",
       "    <tr>\n",
       "      <th>92</th>\n",
       "      <td>Gifted</td>\n",
       "      <td>24801212</td>\n",
       "      <td>446380</td>\n",
       "      <td>4/7</td>\n",
       "      <td>0.017998</td>\n",
       "    </tr>\n",
       "    <tr>\n",
       "      <th>17</th>\n",
       "      <td>The Greatest Showman</td>\n",
       "      <td>174183091</td>\n",
       "      <td>8805843</td>\n",
       "      <td>12/20</td>\n",
       "      <td>0.050555</td>\n",
       "    </tr>\n",
       "    <tr>\n",
       "      <th>99</th>\n",
       "      <td>The Disaster Artist</td>\n",
       "      <td>21120616</td>\n",
       "      <td>1211345</td>\n",
       "      <td>12/1</td>\n",
       "      <td>0.057354</td>\n",
       "    </tr>\n",
       "    <tr>\n",
       "      <th>84</th>\n",
       "      <td>Molly's Game</td>\n",
       "      <td>28780744</td>\n",
       "      <td>2349967</td>\n",
       "      <td>12/25</td>\n",
       "      <td>0.081651</td>\n",
       "    </tr>\n",
       "    <tr>\n",
       "      <th>3</th>\n",
       "      <td>Jumanji: Welcome to the Jungle</td>\n",
       "      <td>404515480</td>\n",
       "      <td>36169328</td>\n",
       "      <td>12/20</td>\n",
       "      <td>0.089414</td>\n",
       "    </tr>\n",
       "    <tr>\n",
       "      <th>37</th>\n",
       "      <td>Ferdinand</td>\n",
       "      <td>84410380</td>\n",
       "      <td>13401586</td>\n",
       "      <td>12/15</td>\n",
       "      <td>0.158767</td>\n",
       "    </tr>\n",
       "    <tr>\n",
       "      <th>14</th>\n",
       "      <td>Get Out</td>\n",
       "      <td>176040665</td>\n",
       "      <td>33377060</td>\n",
       "      <td>2/24</td>\n",
       "      <td>0.189599</td>\n",
       "    </tr>\n",
       "    <tr>\n",
       "      <th>28</th>\n",
       "      <td>Pitch Perfect 3</td>\n",
       "      <td>104897530</td>\n",
       "      <td>19928525</td>\n",
       "      <td>12/22</td>\n",
       "      <td>0.189981</td>\n",
       "    </tr>\n",
       "    <tr>\n",
       "      <th>27</th>\n",
       "      <td>Baby Driver</td>\n",
       "      <td>107825862</td>\n",
       "      <td>20553320</td>\n",
       "      <td>6/28</td>\n",
       "      <td>0.190616</td>\n",
       "    </tr>\n",
       "    <tr>\n",
       "      <th>93</th>\n",
       "      <td>Downsizing</td>\n",
       "      <td>24449754</td>\n",
       "      <td>4954287</td>\n",
       "      <td>12/22</td>\n",
       "      <td>0.202631</td>\n",
       "    </tr>\n",
       "    <tr>\n",
       "      <th>23</th>\n",
       "      <td>Wonder</td>\n",
       "      <td>132422809</td>\n",
       "      <td>27547866</td>\n",
       "      <td>11/17</td>\n",
       "      <td>0.208030</td>\n",
       "    </tr>\n",
       "    <tr>\n",
       "      <th>98</th>\n",
       "      <td>Leap!</td>\n",
       "      <td>21858070</td>\n",
       "      <td>4730038</td>\n",
       "      <td>8/25</td>\n",
       "      <td>0.216398</td>\n",
       "    </tr>\n",
       "    <tr>\n",
       "      <th>91</th>\n",
       "      <td>All the Money in the World</td>\n",
       "      <td>25113707</td>\n",
       "      <td>5584684</td>\n",
       "      <td>12/25</td>\n",
       "      <td>0.222376</td>\n",
       "    </tr>\n",
       "    <tr>\n",
       "      <th>43</th>\n",
       "      <td>A Bad Moms Christmas</td>\n",
       "      <td>72110659</td>\n",
       "      <td>16759161</td>\n",
       "      <td>11/1</td>\n",
       "      <td>0.232409</td>\n",
       "    </tr>\n",
       "    <tr>\n",
       "      <th>66</th>\n",
       "      <td>The Star</td>\n",
       "      <td>40852824</td>\n",
       "      <td>9812674</td>\n",
       "      <td>11/17</td>\n",
       "      <td>0.240196</td>\n",
       "    </tr>\n",
       "    <tr>\n",
       "      <th>12</th>\n",
       "      <td>Coco</td>\n",
       "      <td>209726015</td>\n",
       "      <td>50802605</td>\n",
       "      <td>11/22</td>\n",
       "      <td>0.242233</td>\n",
       "    </tr>\n",
       "    <tr>\n",
       "      <th>2</th>\n",
       "      <td>Wonder Woman</td>\n",
       "      <td>412563408</td>\n",
       "      <td>103251471</td>\n",
       "      <td>6/2</td>\n",
       "      <td>0.250268</td>\n",
       "    </tr>\n",
       "    <tr>\n",
       "      <th>63</th>\n",
       "      <td>47 Meters Down</td>\n",
       "      <td>44307192</td>\n",
       "      <td>11205561</td>\n",
       "      <td>6/16</td>\n",
       "      <td>0.252906</td>\n",
       "    </tr>\n",
       "    <tr>\n",
       "      <th>60</th>\n",
       "      <td>Going in Style (2017)</td>\n",
       "      <td>45018541</td>\n",
       "      <td>11932330</td>\n",
       "      <td>4/7</td>\n",
       "      <td>0.265054</td>\n",
       "    </tr>\n",
       "    <tr>\n",
       "      <th>13</th>\n",
       "      <td>Dunkirk</td>\n",
       "      <td>188045546</td>\n",
       "      <td>50513488</td>\n",
       "      <td>7/21</td>\n",
       "      <td>0.268624</td>\n",
       "    </tr>\n",
       "    <tr>\n",
       "      <th>...</th>\n",
       "      <td>...</td>\n",
       "      <td>...</td>\n",
       "      <td>...</td>\n",
       "      <td>...</td>\n",
       "      <td>...</td>\n",
       "    </tr>\n",
       "    <tr>\n",
       "      <th>77</th>\n",
       "      <td>How to be a Latin Lover</td>\n",
       "      <td>32149404</td>\n",
       "      <td>12252439</td>\n",
       "      <td>4/28</td>\n",
       "      <td>0.381109</td>\n",
       "    </tr>\n",
       "    <tr>\n",
       "      <th>71</th>\n",
       "      <td>The Foreigner</td>\n",
       "      <td>34393507</td>\n",
       "      <td>13113024</td>\n",
       "      <td>10/13</td>\n",
       "      <td>0.381265</td>\n",
       "    </tr>\n",
       "    <tr>\n",
       "      <th>21</th>\n",
       "      <td>War for the Planet of the Apes</td>\n",
       "      <td>146880162</td>\n",
       "      <td>56262929</td>\n",
       "      <td>7/14</td>\n",
       "      <td>0.383053</td>\n",
       "    </tr>\n",
       "    <tr>\n",
       "      <th>32</th>\n",
       "      <td>Kingsman: The Golden Circle</td>\n",
       "      <td>100234838</td>\n",
       "      <td>39023010</td>\n",
       "      <td>9/22</td>\n",
       "      <td>0.389316</td>\n",
       "    </tr>\n",
       "    <tr>\n",
       "      <th>7</th>\n",
       "      <td>Thor: Ragnarok</td>\n",
       "      <td>315058289</td>\n",
       "      <td>122744989</td>\n",
       "      <td>11/3</td>\n",
       "      <td>0.389595</td>\n",
       "    </tr>\n",
       "    <tr>\n",
       "      <th>10</th>\n",
       "      <td>Logan</td>\n",
       "      <td>226277068</td>\n",
       "      <td>88411916</td>\n",
       "      <td>3/3</td>\n",
       "      <td>0.390724</td>\n",
       "    </tr>\n",
       "    <tr>\n",
       "      <th>68</th>\n",
       "      <td>King Arthur: Legend of the Sword</td>\n",
       "      <td>39175066</td>\n",
       "      <td>15371270</td>\n",
       "      <td>5/12</td>\n",
       "      <td>0.392374</td>\n",
       "    </tr>\n",
       "    <tr>\n",
       "      <th>39</th>\n",
       "      <td>The Mummy (2017)</td>\n",
       "      <td>80227895</td>\n",
       "      <td>31688375</td>\n",
       "      <td>6/9</td>\n",
       "      <td>0.394980</td>\n",
       "    </tr>\n",
       "    <tr>\n",
       "      <th>58</th>\n",
       "      <td>The Great Wall</td>\n",
       "      <td>45540830</td>\n",
       "      <td>18469620</td>\n",
       "      <td>2/17</td>\n",
       "      <td>0.405562</td>\n",
       "    </tr>\n",
       "    <tr>\n",
       "      <th>97</th>\n",
       "      <td>My Little Pony: The Movie</td>\n",
       "      <td>21885107</td>\n",
       "      <td>8885899</td>\n",
       "      <td>10/6</td>\n",
       "      <td>0.406025</td>\n",
       "    </tr>\n",
       "    <tr>\n",
       "      <th>74</th>\n",
       "      <td>Geostorm</td>\n",
       "      <td>33700160</td>\n",
       "      <td>13707376</td>\n",
       "      <td>10/20</td>\n",
       "      <td>0.406745</td>\n",
       "    </tr>\n",
       "    <tr>\n",
       "      <th>26</th>\n",
       "      <td>Fifty Shades Darker</td>\n",
       "      <td>114581250</td>\n",
       "      <td>46607250</td>\n",
       "      <td>2/10</td>\n",
       "      <td>0.406762</td>\n",
       "    </tr>\n",
       "    <tr>\n",
       "      <th>70</th>\n",
       "      <td>American Assassin</td>\n",
       "      <td>36249674</td>\n",
       "      <td>14846778</td>\n",
       "      <td>9/15</td>\n",
       "      <td>0.409570</td>\n",
       "    </tr>\n",
       "    <tr>\n",
       "      <th>9</th>\n",
       "      <td>Justice League</td>\n",
       "      <td>229024295</td>\n",
       "      <td>93842239</td>\n",
       "      <td>11/17</td>\n",
       "      <td>0.409748</td>\n",
       "    </tr>\n",
       "    <tr>\n",
       "      <th>65</th>\n",
       "      <td>Valerian and the City of a Thousand Planets</td>\n",
       "      <td>41189488</td>\n",
       "      <td>17007624</td>\n",
       "      <td>7/21</td>\n",
       "      <td>0.412912</td>\n",
       "    </tr>\n",
       "    <tr>\n",
       "      <th>81</th>\n",
       "      <td>Life (2017)</td>\n",
       "      <td>30234022</td>\n",
       "      <td>12501936</td>\n",
       "      <td>3/24</td>\n",
       "      <td>0.413506</td>\n",
       "    </tr>\n",
       "    <tr>\n",
       "      <th>57</th>\n",
       "      <td>Snatched</td>\n",
       "      <td>45852178</td>\n",
       "      <td>19542248</td>\n",
       "      <td>5/12</td>\n",
       "      <td>0.426201</td>\n",
       "    </tr>\n",
       "    <tr>\n",
       "      <th>11</th>\n",
       "      <td>The Fate of the Furious</td>\n",
       "      <td>226008385</td>\n",
       "      <td>98786705</td>\n",
       "      <td>4/14</td>\n",
       "      <td>0.437093</td>\n",
       "    </tr>\n",
       "    <tr>\n",
       "      <th>69</th>\n",
       "      <td>Jigsaw</td>\n",
       "      <td>38052832</td>\n",
       "      <td>16640452</td>\n",
       "      <td>10/27</td>\n",
       "      <td>0.437299</td>\n",
       "    </tr>\n",
       "    <tr>\n",
       "      <th>62</th>\n",
       "      <td>xXx: The Return of Xander Cage</td>\n",
       "      <td>44898413</td>\n",
       "      <td>20130142</td>\n",
       "      <td>1/20</td>\n",
       "      <td>0.448349</td>\n",
       "    </tr>\n",
       "    <tr>\n",
       "      <th>56</th>\n",
       "      <td>Tyler Perry's Boo 2! A Madea Halloween</td>\n",
       "      <td>47319572</td>\n",
       "      <td>21226953</td>\n",
       "      <td>10/20</td>\n",
       "      <td>0.448587</td>\n",
       "    </tr>\n",
       "    <tr>\n",
       "      <th>79</th>\n",
       "      <td>Underworld: Blood Wars</td>\n",
       "      <td>30353973</td>\n",
       "      <td>13688751</td>\n",
       "      <td>1/6</td>\n",
       "      <td>0.450971</td>\n",
       "    </tr>\n",
       "    <tr>\n",
       "      <th>67</th>\n",
       "      <td>Ghost in the Shell (2017)</td>\n",
       "      <td>40563557</td>\n",
       "      <td>18676033</td>\n",
       "      <td>3/31</td>\n",
       "      <td>0.460414</td>\n",
       "    </tr>\n",
       "    <tr>\n",
       "      <th>50</th>\n",
       "      <td>Happy Death Day</td>\n",
       "      <td>55683845</td>\n",
       "      <td>26039025</td>\n",
       "      <td>10/13</td>\n",
       "      <td>0.467623</td>\n",
       "    </tr>\n",
       "    <tr>\n",
       "      <th>86</th>\n",
       "      <td>Rings</td>\n",
       "      <td>27793018</td>\n",
       "      <td>13002632</td>\n",
       "      <td>2/3</td>\n",
       "      <td>0.467838</td>\n",
       "    </tr>\n",
       "    <tr>\n",
       "      <th>36</th>\n",
       "      <td>Power Rangers (2017)</td>\n",
       "      <td>85364450</td>\n",
       "      <td>40300288</td>\n",
       "      <td>3/24</td>\n",
       "      <td>0.472097</td>\n",
       "    </tr>\n",
       "    <tr>\n",
       "      <th>41</th>\n",
       "      <td>Alien: Covenant</td>\n",
       "      <td>74262031</td>\n",
       "      <td>36160621</td>\n",
       "      <td>5/19</td>\n",
       "      <td>0.486933</td>\n",
       "    </tr>\n",
       "    <tr>\n",
       "      <th>89</th>\n",
       "      <td>Resident Evil: The Final Chapter</td>\n",
       "      <td>26830068</td>\n",
       "      <td>13601682</td>\n",
       "      <td>1/27</td>\n",
       "      <td>0.506957</td>\n",
       "    </tr>\n",
       "    <tr>\n",
       "      <th>61</th>\n",
       "      <td>All Eyez on Me</td>\n",
       "      <td>44922302</td>\n",
       "      <td>26435354</td>\n",
       "      <td>6/16</td>\n",
       "      <td>0.588468</td>\n",
       "    </tr>\n",
       "    <tr>\n",
       "      <th>94</th>\n",
       "      <td>The Bye Bye Man</td>\n",
       "      <td>22395806</td>\n",
       "      <td>13501349</td>\n",
       "      <td>1/13</td>\n",
       "      <td>0.602852</td>\n",
       "    </tr>\n",
       "  </tbody>\n",
       "</table>\n",
       "<p>100 rows × 5 columns</p>\n",
       "</div>"
      ],
      "text/plain": [
       "                                          movie  total gross  open gross  \\\n",
       "83                                     Hostiles     29819114       22849   \n",
       "45                           The Shape of Water     63859435      166564   \n",
       "49                                 Darkest Hour     56468410      175006   \n",
       "73                                   Wind River     33800859      161558   \n",
       "51    Three Billboards Outside Ebbing, Missouri     54513740      322168   \n",
       "38                                     The Post     81903458      526011   \n",
       "95                           Victoria and Abdul     22245070      158845   \n",
       "55                                    Lady Bird     48958273      364437   \n",
       "82                                     I, Tonya     30014539      264155   \n",
       "64                                 The Big Sick     42873127      421577   \n",
       "92                                       Gifted     24801212      446380   \n",
       "17                         The Greatest Showman    174183091     8805843   \n",
       "99                          The Disaster Artist     21120616     1211345   \n",
       "84                                 Molly's Game     28780744     2349967   \n",
       "3                Jumanji: Welcome to the Jungle    404515480    36169328   \n",
       "37                                    Ferdinand     84410380    13401586   \n",
       "14                                      Get Out    176040665    33377060   \n",
       "28                              Pitch Perfect 3    104897530    19928525   \n",
       "27                                  Baby Driver    107825862    20553320   \n",
       "93                                   Downsizing     24449754     4954287   \n",
       "23                                       Wonder    132422809    27547866   \n",
       "98                                        Leap!     21858070     4730038   \n",
       "91                   All the Money in the World     25113707     5584684   \n",
       "43                         A Bad Moms Christmas     72110659    16759161   \n",
       "66                                     The Star     40852824     9812674   \n",
       "12                                         Coco    209726015    50802605   \n",
       "2                                  Wonder Woman    412563408   103251471   \n",
       "63                               47 Meters Down     44307192    11205561   \n",
       "60                        Going in Style (2017)     45018541    11932330   \n",
       "13                                      Dunkirk    188045546    50513488   \n",
       "..                                          ...          ...         ...   \n",
       "77                      How to be a Latin Lover     32149404    12252439   \n",
       "71                                The Foreigner     34393507    13113024   \n",
       "21               War for the Planet of the Apes    146880162    56262929   \n",
       "32                  Kingsman: The Golden Circle    100234838    39023010   \n",
       "7                                Thor: Ragnarok    315058289   122744989   \n",
       "10                                        Logan    226277068    88411916   \n",
       "68             King Arthur: Legend of the Sword     39175066    15371270   \n",
       "39                             The Mummy (2017)     80227895    31688375   \n",
       "58                               The Great Wall     45540830    18469620   \n",
       "97                    My Little Pony: The Movie     21885107     8885899   \n",
       "74                                     Geostorm     33700160    13707376   \n",
       "26                          Fifty Shades Darker    114581250    46607250   \n",
       "70                            American Assassin     36249674    14846778   \n",
       "9                                Justice League    229024295    93842239   \n",
       "65  Valerian and the City of a Thousand Planets     41189488    17007624   \n",
       "81                                  Life (2017)     30234022    12501936   \n",
       "57                                     Snatched     45852178    19542248   \n",
       "11                      The Fate of the Furious    226008385    98786705   \n",
       "69                                       Jigsaw     38052832    16640452   \n",
       "62               xXx: The Return of Xander Cage     44898413    20130142   \n",
       "56       Tyler Perry's Boo 2! A Madea Halloween     47319572    21226953   \n",
       "79                       Underworld: Blood Wars     30353973    13688751   \n",
       "67                    Ghost in the Shell (2017)     40563557    18676033   \n",
       "50                              Happy Death Day     55683845    26039025   \n",
       "86                                        Rings     27793018    13002632   \n",
       "36                         Power Rangers (2017)     85364450    40300288   \n",
       "41                              Alien: Covenant     74262031    36160621   \n",
       "89             Resident Evil: The Final Chapter     26830068    13601682   \n",
       "61                               All Eyez on Me     44922302    26435354   \n",
       "94                              The Bye Bye Man     22395806    13501349   \n",
       "\n",
       "   open date     ratio  \n",
       "83     12/22  0.000766  \n",
       "45      12/1  0.002608  \n",
       "49     11/22  0.003099  \n",
       "73       8/4  0.004780  \n",
       "51     11/10  0.005910  \n",
       "38     12/22  0.006422  \n",
       "95      9/22  0.007141  \n",
       "55      11/3  0.007444  \n",
       "82      12/8  0.008801  \n",
       "64      6/23  0.009833  \n",
       "92       4/7  0.017998  \n",
       "17     12/20  0.050555  \n",
       "99      12/1  0.057354  \n",
       "84     12/25  0.081651  \n",
       "3      12/20  0.089414  \n",
       "37     12/15  0.158767  \n",
       "14      2/24  0.189599  \n",
       "28     12/22  0.189981  \n",
       "27      6/28  0.190616  \n",
       "93     12/22  0.202631  \n",
       "23     11/17  0.208030  \n",
       "98      8/25  0.216398  \n",
       "91     12/25  0.222376  \n",
       "43      11/1  0.232409  \n",
       "66     11/17  0.240196  \n",
       "12     11/22  0.242233  \n",
       "2        6/2  0.250268  \n",
       "63      6/16  0.252906  \n",
       "60       4/7  0.265054  \n",
       "13      7/21  0.268624  \n",
       "..       ...       ...  \n",
       "77      4/28  0.381109  \n",
       "71     10/13  0.381265  \n",
       "21      7/14  0.383053  \n",
       "32      9/22  0.389316  \n",
       "7       11/3  0.389595  \n",
       "10       3/3  0.390724  \n",
       "68      5/12  0.392374  \n",
       "39       6/9  0.394980  \n",
       "58      2/17  0.405562  \n",
       "97      10/6  0.406025  \n",
       "74     10/20  0.406745  \n",
       "26      2/10  0.406762  \n",
       "70      9/15  0.409570  \n",
       "9      11/17  0.409748  \n",
       "65      7/21  0.412912  \n",
       "81      3/24  0.413506  \n",
       "57      5/12  0.426201  \n",
       "11      4/14  0.437093  \n",
       "69     10/27  0.437299  \n",
       "62      1/20  0.448349  \n",
       "56     10/20  0.448587  \n",
       "79       1/6  0.450971  \n",
       "67      3/31  0.460414  \n",
       "50     10/13  0.467623  \n",
       "86       2/3  0.467838  \n",
       "36      3/24  0.472097  \n",
       "41      5/19  0.486933  \n",
       "89      1/27  0.506957  \n",
       "61      6/16  0.588468  \n",
       "94      1/13  0.602852  \n",
       "\n",
       "[100 rows x 5 columns]"
      ]
     },
     "execution_count": 10,
     "metadata": {},
     "output_type": "execute_result"
    }
   ],
   "source": [
    "movies.sort_values(by = 'ratio')"
   ]
  },
  {
   "cell_type": "markdown",
   "metadata": {},
   "source": [
    "10.Plot a histogram of the ratios. Make the rwidth by 0.9 and make the bins start at 0 and end at 1 in increments of 0.1. Label the axes."
   ]
  },
  {
   "cell_type": "code",
   "execution_count": 11,
   "metadata": {},
   "outputs": [
    {
     "data": {
      "text/plain": [
       "<matplotlib.text.Text at 0x1178a04e0>"
      ]
     },
     "execution_count": 11,
     "metadata": {},
     "output_type": "execute_result"
    },
    {
     "data": {
      "image/png": "[encoded data removed]",
      "text/plain": [
       "<matplotlib.figure.Figure at 0x11603a908>"
      ]
     },
     "metadata": {},
     "output_type": "display_data"
    }
   ],
   "source": [
    "plt.hist(movies['ratio'],rwidth=0.9, bins=np.arange(0,1.1,.1))\n",
    "plt.xlabel('ratio of opening gross to total gross')\n",
    "plt.ylabel('count')"
   ]
  },
  {
   "cell_type": "markdown",
   "metadata": {},
   "source": [
    "11.Update the open date column to include the year 2017. For example, the string 06/22 should become the string 06/22/2017. "
   ]
  },
  {
   "cell_type": "code",
   "execution_count": 12,
   "metadata": {
    "collapsed": true
   },
   "outputs": [],
   "source": [
    "movies['open date'] = movies['open date'] + '/2017'"
   ]
  },
  {
   "cell_type": "markdown",
   "metadata": {},
   "source": [
    "12.Use the built-in pandas datetime capability to convert the opening date column to a datetime object. (Datetime objects have built in chronological ordering to them, so your computer will know that 06/22/2017 comes before 06/22/2018)."
   ]
  },
  {
   "cell_type": "code",
   "execution_count": 13,
   "metadata": {
    "collapsed": true
   },
   "outputs": [],
   "source": [
    "movies['open date'] = pd.to_datetime(movies['open date'], format = '%m/%d/%Y')"
   ]
  },
  {
   "cell_type": "markdown",
   "metadata": {},
   "source": [
    "13.Make another column called \"open month\" that just includes the opening month of the opening date. Pandas datetime capabilities can do this for us."
   ]
  },
  {
   "cell_type": "code",
   "execution_count": 14,
   "metadata": {
    "collapsed": true
   },
   "outputs": [],
   "source": [
    "movies['open month'] = movies['open date'].dt.month"
   ]
  },
  {
   "cell_type": "markdown",
   "metadata": {},
   "source": [
    "14.Create a frequency table to find the most popular month for blockbuster hits."
   ]
  },
  {
   "cell_type": "code",
   "execution_count": 15,
   "metadata": {},
   "outputs": [
    {
     "data": {
      "text/plain": [
       "12    13\n",
       "6     12\n",
       "11    11\n",
       "10     8\n",
       "8      8\n",
       "3      8\n",
       "9      7\n",
       "7      7\n",
       "5      7\n",
       "2      7\n",
       "1      7\n",
       "4      5\n",
       "Name: open month, dtype: int64"
      ]
     },
     "execution_count": 15,
     "metadata": {},
     "output_type": "execute_result"
    }
   ],
   "source": [
    "movies['open month'].value_counts()"
   ]
  },
  {
   "cell_type": "markdown",
   "metadata": {},
   "source": [
    "15.Create a histogram of the months. Make the rwidth be 0.9 and the bins start at 0.5 and end at 12.5 in increments of 1."
   ]
  },
  {
   "cell_type": "code",
   "execution_count": 16,
   "metadata": {},
   "outputs": [
    {
     "data": {
      "text/plain": [
       "<matplotlib.text.Text at 0x11c4a43c8>"
      ]
     },
     "execution_count": 16,
     "metadata": {},
     "output_type": "execute_result"
    },
    {
     "data": {
      "image/png": "[encoded data removed]",
      "text/plain": [
       "<matplotlib.figure.Figure at 0x11c431fd0>"
      ]
     },
     "metadata": {},
     "output_type": "display_data"
    }
   ],
   "source": [
    "plt.hist(movies['open month'],rwidth = 0.9, bins=np.arange(0.5,13.5,1))\n",
    "plt.xlabel('month')\n",
    "plt.ylabel('count')"
   ]
  },
  {
   "cell_type": "markdown",
   "metadata": {},
   "source": [
    "16.Okay. Now we're going to add director info to our dataframe, which wasn't included on the website up above. Create an empty string column for the director in your dataframe called \"director\"."
   ]
  },
  {
   "cell_type": "code",
   "execution_count": 17,
   "metadata": {
    "collapsed": true
   },
   "outputs": [],
   "source": [
    "movies['director'] = ''"
   ]
  },
  {
   "cell_type": "markdown",
   "metadata": {},
   "source": [
    "17.Go to the website http://www.boxofficemojo.com/yearly/chart/?yr=2017&p=.htm . Find the XPath of the first movie name listed by right clicking on the movie name, choosing Inspect, right clicking on the blue highlighted portion, and choosing Copy - Copy XPath. The copied XPath should look like:\n",
    "\n",
    "\n",
    "\n",
    "<img src=\"images/scrape1.png\" style=\"width: 300px;\"/>\n",
    "\n",
    "\n",
    "\n",
    "<img src=\"images/scrape2.png\" style=\"width: 400px;\"/>\n"
   ]
  },
  {
   "cell_type": "code",
   "execution_count": 18,
   "metadata": {
    "collapsed": true
   },
   "outputs": [],
   "source": [
    "# //*[@id=\"body\"]/table[3]/tbody/tr/td[1]/table/tbody/tr[2]/td/table/tbody/tr[2]/td[2]/b/font/a"
   ]
  },
  {
   "cell_type": "markdown",
   "metadata": {},
   "source": [
    "18.Use Selenium to click on the movie name link and then print the director's name below."
   ]
  },
  {
   "cell_type": "code",
   "execution_count": 25,
   "metadata": {},
   "outputs": [
    {
     "name": "stdout",
     "output_type": "stream",
     "text": [
      "Rian Johnson\n"
     ]
    }
   ],
   "source": [
    "from selenium import webdriver\n",
    "from selenium.webdriver.common.keys import Keys\n",
    "\n",
    "chromedriver = \"/usr/local/bin/chromedriver\"\n",
    "driver = webdriver.Chrome(chromedriver)\n",
    "url = 'http://www.boxofficemojo.com/yearly/chart/?yr=2017&p=.htm'\n",
    "driver.get(url)\n",
    "text = '//*[@id=\"body\"]/table[3]/tbody/tr/td[1]/table/tbody/tr[2]/td/table/tbody/tr[2]/td[2]/b/font/a'\n",
    "movie = driver.find_element_by_xpath(text).click()\n",
    "text = '//*[@id=\"body\"]/table[2]/tbody/tr/td/table[2]/tbody/tr[2]/td/table/tbody/tr/td[1]/table/tbody/tr/td[2]/div/div[2]/table/tbody/tr[1]/td[2]/font/a'\n",
    "director = driver.find_element_by_xpath(text)\n",
    "print(director.text)\n",
    "driver.close()"
   ]
  },
  {
   "cell_type": "markdown",
   "metadata": {},
   "source": [
    "19.Okay, so we'll want to iterate through all of the movies in the list located at http://www.boxofficemojo.com/yearly/chart/?yr=2017&p=.htm , click on their links, and save their directors. But we may run into a problem. Find the XPath of the second movie in the list and write it below. Is it the same as the first? If not, what is different?"
   ]
  },
  {
   "cell_type": "code",
   "execution_count": 20,
   "metadata": {
    "collapsed": true
   },
   "outputs": [],
   "source": [
    "# //*[@id=\"body\"]/table[3]/tbody/tr/td[1]/table/tbody/tr[2]/td/table/tbody/tr[2]/td[2]/b/font/a\n",
    "# //*[@id=\"body\"]/table[3]/tbody/tr/td[1]/table/tbody/tr[2]/td/table/tbody/tr[3]/td[2]/b/font/a"
   ]
  },
  {
   "cell_type": "markdown",
   "metadata": {},
   "source": [
    "20.To get around this, we actually won't search by XPath, because that is too specific. Right click and then inspect the first movie in the list again. You should see:\n",
    "\n",
    "href=\"/movies/?id=starwars8.htm\"....\n",
    "\n",
    "The id will change from one movie to another but all of them start out as: \n",
    "\n",
    "href=\"/movies/...\"\n",
    "\n",
    "How do we search for this part? We can type:\n",
    "\n",
    "movie_infos = driver.find_elements_by_xpath( '//a[contains(@href, \"/movies/\")]')\n",
    "\n",
    "Note: This movie list will contain all of the movie info, so you will need a loop to iterate through each piece of movie info.\n",
    "\n",
    "Second note: You'll want to save the HREF for each movie to a list called urls. \n",
    "\n",
    "Hint: look back to the get_attribute command in the Unit 11 Assignment if you forget how to do this.\n"
   ]
  },
  {
   "cell_type": "code",
   "execution_count": 24,
   "metadata": {},
   "outputs": [
    {
     "name": "stdout",
     "output_type": "stream",
     "text": [
      "['http://www.boxofficemojo.com/movies/?id=jurassicworldsequel.htm', 'http://www.boxofficemojo.com/movies/?id=starwars8.htm', 'http://www.boxofficemojo.com/movies/?id=beautyandthebeast2017.htm', 'http://www.boxofficemojo.com/movies/?id=wonderwoman.htm', 'http://www.boxofficemojo.com/movies/?id=jumanji2016.htm', 'http://www.boxofficemojo.com/movies/?id=marvel17a.htm', 'http://www.boxofficemojo.com/movies/?id=spiderman2017.htm', 'http://www.boxofficemojo.com/movies/?id=it.htm', 'http://www.boxofficemojo.com/movies/?id=marvel2017.htm', 'http://www.boxofficemojo.com/movies/?id=despicableme3.htm', 'http://www.boxofficemojo.com/movies/?id=dcfilm1117.htm', 'http://www.boxofficemojo.com/movies/?id=wolverine2017.htm', 'http://www.boxofficemojo.com/movies/?id=furious8.htm', 'http://www.boxofficemojo.com/movies/?id=pixar1117.htm', 'http://www.boxofficemojo.com/movies/?id=chrisnolan2017.htm', 'http://www.boxofficemojo.com/movies/?id=blumhouse2.htm', 'http://www.boxofficemojo.com/movies/?id=lego2.htm', 'http://www.boxofficemojo.com/movies/?id=bossbaby.htm', 'http://www.boxofficemojo.com/movies/?id=greatestshowman.htm', 'http://www.boxofficemojo.com/movies/?id=potc5.htm', 'http://www.boxofficemojo.com/movies/?id=legendary2016.htm', 'http://www.boxofficemojo.com/movies/?id=cars3.htm', 'http://www.boxofficemojo.com/movies/?id=planetoftheapes16.htm', 'http://www.boxofficemojo.com/movies/?id=split2017.htm', 'http://www.boxofficemojo.com/movies/?id=wonder.htm', 'http://www.boxofficemojo.com/movies/?id=transformers5.htm', 'http://www.boxofficemojo.com/movies/?id=girltrip.htm', 'http://www.boxofficemojo.com/movies/?id=fiftyshadesdarker.htm', 'http://www.boxofficemojo.com/movies/?id=babydriver.htm', 'http://www.boxofficemojo.com/movies/?id=pitchperfect3.htm', 'http://www.boxofficemojo.com/movies/?id=daddyshome2.htm', 'http://www.boxofficemojo.com/movies/?id=murderorientexpress17.htm', 'http://www.boxofficemojo.com/movies/?id=annabelle2.htm', 'http://www.boxofficemojo.com/movies/?id=kingsman2.htm', 'http://www.boxofficemojo.com/movies/?id=bladerunnersequel.htm', 'http://www.boxofficemojo.com/movies/?id=johnwick2.htm', 'http://www.boxofficemojo.com/movies/?id=theemojimovie.htm', 'http://www.boxofficemojo.com/movies/?id=powerrangers16.htm', 'http://www.boxofficemojo.com/movies/?id=ferdinand.htm', 'http://www.boxofficemojo.com/movies/?id=untitledstevenspielberg.htm', 'http://www.boxofficemojo.com/movies/?id=mummy2016.htm', 'http://www.boxofficemojo.com/movies/?id=hitmansbodyguard.htm', 'http://www.boxofficemojo.com/movies/?id=alienparadiselost.htm', 'http://www.boxofficemojo.com/movies/?id=captainunderpants.htm', 'http://www.boxofficemojo.com/movies/?id=badmomschristmas.htm', 'http://www.boxofficemojo.com/movies/?id=adogspurpose.htm', 'http://www.boxofficemojo.com/movies/?id=theshapeofwater.htm', 'http://www.boxofficemojo.com/movies/?id=ninjago.htm', 'http://www.boxofficemojo.com/movies/?id=baywatch.htm', 'http://www.boxofficemojo.com/movies/?id=theshack.htm', 'http://www.boxofficemojo.com/movies/?id=darkesthour2017.htm', 'http://www.boxofficemojo.com/movies/?id=blumhousehorror2018.htm', 'http://www.boxofficemojo.com/movies/?id=threebillboards.htm', 'http://www.boxofficemojo.com/movies/?id=thecoldestcity.htm', 'http://www.boxofficemojo.com/movies/?id=mena.htm', 'http://www.boxofficemojo.com/movies/?id=darktower.htm', 'http://www.boxofficemojo.com/movies/?id=ladybird.htm', 'http://www.boxofficemojo.com/movies/?id=amadeahalloween2.htm', 'http://www.boxofficemojo.com/movies/?id=motherdaughter.htm', 'http://www.boxofficemojo.com/movies/?id=greatwall.htm', 'http://www.boxofficemojo.com/movies/?id=smurfs3.htm', 'http://www.boxofficemojo.com/movies/?id=goinginsty2017.htm', 'http://www.boxofficemojo.com/movies/?id=tupac.htm', 'http://www.boxofficemojo.com/movies/?id=xxx3.htm', 'http://www.boxofficemojo.com/movies/?id=47metersdown.htm', 'http://www.boxofficemojo.com/movies/?id=thebigsick.htm', 'http://www.boxofficemojo.com/movies/?id=valerian.htm', 'http://www.boxofficemojo.com/movies/?id=thelamb.htm', 'http://www.boxofficemojo.com/movies/?id=ghostintheshell2017.htm', 'http://www.boxofficemojo.com/movies/?id=kingarthur2016.htm', 'http://www.boxofficemojo.com/movies/?id=saw2017.htm', 'http://www.boxofficemojo.com/movies/?id=americanassassin.htm', 'http://www.boxofficemojo.com/movies/?id=theforeigner.htm', 'http://www.boxofficemojo.com/movies/?id=everythingeverything.htm', 'http://www.boxofficemojo.com/movies/?id=windriver.htm', 'http://www.boxofficemojo.com/movies/?id=geostorm.htm', 'http://www.boxofficemojo.com/movies/?id=monstertrucks.htm', 'http://www.boxofficemojo.com/movies/?id=fistfight.htm', 'http://www.boxofficemojo.com/movies/?id=howtobealatinlover.htm', 'http://www.boxofficemojo.com/movies/?id=kidnap2015.htm', 'http://www.boxofficemojo.com/movies/?id=underworld5.htm', 'http://www.boxofficemojo.com/movies/?id=mountainbetweenus.htm', 'http://www.boxofficemojo.com/movies/?id=life2017.htm', 'http://www.boxofficemojo.com/movies/?id=itonya.htm', 'http://www.boxofficemojo.com/movies/?id=hostiles.htm', 'http://www.boxofficemojo.com/movies/?id=mollysgame.htm', 'http://www.boxofficemojo.com/movies/?id=nutjob2.htm', 'http://www.boxofficemojo.com/movies/?id=rings.htm', 'http://www.boxofficemojo.com/movies/?id=loganlucky.htm', 'http://www.boxofficemojo.com/movies/?id=homeagain.htm', 'http://www.boxofficemojo.com/movies/?id=residentevil6.htm', 'http://www.boxofficemojo.com/movies/?id=thehouse.htm', 'http://www.boxofficemojo.com/movies/?id=allthemoneyintheworld.htm', 'http://www.boxofficemojo.com/movies/?id=gifted.htm', 'http://www.boxofficemojo.com/movies/?id=downsizing.htm', 'http://www.boxofficemojo.com/movies/?id=thebyebyeman.htm', 'http://www.boxofficemojo.com/movies/?id=victoriaandabdul.htm', 'http://www.boxofficemojo.com/movies/?id=rockthatbody.htm', 'http://www.boxofficemojo.com/movies/?id=mylittlepony2017.htm', 'http://www.boxofficemojo.com/movies/?id=leap.htm', 'http://www.boxofficemojo.com/movies/?id=thedisasterartist.htm']\n"
     ]
    }
   ],
   "source": [
    "chromedriver = \"/usr/local/bin/chromedriver\"\n",
    "driver = webdriver.Chrome(chromedriver)\n",
    "url = \"http://www.boxofficemojo.com/yearly/chart/?yr=2017&p=.htm\"\n",
    "driver.get(url)\n",
    "movie_infos = driver.find_elements_by_xpath( '//a[contains(@href, \"/movies/\")]')\n",
    "movie_urls = []\n",
    "for movie_info in movie_infos:\n",
    "    movie_urls.append(movie_info.get_attribute('href'))\n",
    "print(movie_urls)\n",
    "driver.close()\n",
    "\n",
    "with open('movieurls.txt', 'w') as f:\n",
    "    for url in movie_urls:\n",
    "        f.write(url+'\\n')\n"
   ]
  },
  {
   "cell_type": "markdown",
   "metadata": {},
   "source": [
    "21.The first movie url isn't actually a movie in our chart. Let's delete it:"
   ]
  },
  {
   "cell_type": "code",
   "execution_count": 22,
   "metadata": {
    "collapsed": true
   },
   "outputs": [],
   "source": [
    "del movie_urls[0]"
   ]
  },
  {
   "cell_type": "markdown",
   "metadata": {},
   "source": [
    "22.Use Selenium to go to visit the first URL in your updated list of urls and print the director that you find from it."
   ]
  },
  {
   "cell_type": "code",
   "execution_count": 65,
   "metadata": {},
   "outputs": [
    {
     "name": "stdout",
     "output_type": "stream",
     "text": [
      "Rian Johnson\n"
     ]
    }
   ],
   "source": [
    "chromedriver = \"/usr/local/bin/chromedriver\"\n",
    "driver = webdriver.Chrome(chromedriver)\n",
    "driver.get(movie_urls[0])\n",
    "text = '//*[@id=\"body\"]/table[2]/tbody/tr/td/table[2]/tbody/tr[2]/td/table/tbody/tr/td[1]/table/tbody/tr/td[2]/div/div[2]/table/tbody/tr[1]/td[2]/font/a'\n",
    "director = driver.find_element_by_xpath(text).text\n",
    "driver.close()\n",
    "print(director)"
   ]
  },
  {
   "cell_type": "markdown",
   "metadata": {},
   "source": [
    "23.Iterate through all of the urls in your list, finding each director. As you iterate through the list, immediately update your dataframe to include the director in the director column. \n",
    "\n",
    "First hint: Remember you can update the entry by typing something like:\n",
    "\n",
    "movies['director'][i] = director name\n",
    "\n",
    "Second hint: Several of your urls might mess up. Insert a try/except in order to try to get the director name, but if it fails, print the movie and the url that gave you the error.\n",
    "\n",
    "Third hint: use something like \"find_element_by_xpath( '//a[contains(@href, \"/people/chart/?view=Director\")]') to search for the director."
   ]
  },
  {
   "cell_type": "code",
   "execution_count": 66,
   "metadata": {
    "scrolled": true
   },
   "outputs": [
    {
     "name": "stderr",
     "output_type": "stream",
     "text": [
      "/Users/shareshianl/anaconda/lib/python3.6/site-packages/ipykernel/__main__.py:9: SettingWithCopyWarning: \n",
      "A value is trying to be set on a copy of a slice from a DataFrame\n",
      "\n",
      "See the caveats in the documentation: http://pandas.pydata.org/pandas-docs/stable/indexing.html#indexing-view-versus-copy\n"
     ]
    },
    {
     "name": "stdout",
     "output_type": "stream",
     "text": [
      "BAD 5 Spider-Man: Homecoming http://www.boxofficemojo.com/movies/?id=spiderman2017.htm\n",
      "BAD 15 The LEGO Batman Movie http://www.boxofficemojo.com/movies/?id=lego2.htm\n",
      "BAD 17 The Greatest Showman http://www.boxofficemojo.com/movies/?id=greatestshowman.htm\n",
      "BAD 20 Cars 3 http://www.boxofficemojo.com/movies/?id=cars3.htm\n",
      "BAD 28 Pitch Perfect 3 http://www.boxofficemojo.com/movies/?id=pitchperfect3.htm\n",
      "BAD 35 The Emoji Movie http://www.boxofficemojo.com/movies/?id=theemojimovie.htm\n",
      "BAD 46 The LEGO Ninjago Movie http://www.boxofficemojo.com/movies/?id=ninjago.htm\n",
      "BAD 48 The Shack http://www.boxofficemojo.com/movies/?id=theshack.htm\n",
      "BAD 51 Three Billboards Outside Ebbing, Missouri http://www.boxofficemojo.com/movies/?id=threebillboards.htm\n",
      "BAD 54 The Dark Tower http://www.boxofficemojo.com/movies/?id=darktower.htm\n",
      "BAD 61 All Eyez on Me http://www.boxofficemojo.com/movies/?id=tupac.htm\n",
      "BAD 63 47 Meters Down http://www.boxofficemojo.com/movies/?id=47metersdown.htm\n",
      "BAD 64 The Big Sick http://www.boxofficemojo.com/movies/?id=thebigsick.htm\n",
      "BAD 66 The Star http://www.boxofficemojo.com/movies/?id=thelamb.htm\n",
      "BAD 69 Jigsaw http://www.boxofficemojo.com/movies/?id=saw2017.htm\n",
      "BAD 72 Everything, Everything http://www.boxofficemojo.com/movies/?id=everythingeverything.htm\n",
      "BAD 73 Wind River http://www.boxofficemojo.com/movies/?id=windriver.htm\n",
      "BAD 76 Fist Fight http://www.boxofficemojo.com/movies/?id=fistfight.htm\n",
      "BAD 77 How to be a Latin Lover http://www.boxofficemojo.com/movies/?id=howtobealatinlover.htm\n",
      "BAD 78 Kidnap (2017) http://www.boxofficemojo.com/movies/?id=kidnap2015.htm\n",
      "BAD 79 Underworld: Blood Wars http://www.boxofficemojo.com/movies/?id=underworld5.htm\n",
      "BAD 80 The Mountain Between Us http://www.boxofficemojo.com/movies/?id=mountainbetweenus.htm\n",
      "BAD 86 Rings http://www.boxofficemojo.com/movies/?id=rings.htm\n",
      "BAD 88 Home Again http://www.boxofficemojo.com/movies/?id=homeagain.htm\n",
      "BAD 94 The Bye Bye Man http://www.boxofficemojo.com/movies/?id=thebyebyeman.htm\n",
      "BAD 96 Rough Night http://www.boxofficemojo.com/movies/?id=rockthatbody.htm\n",
      "BAD 97 My Little Pony: The Movie http://www.boxofficemojo.com/movies/?id=mylittlepony2017.htm\n",
      "BAD 98 Leap! http://www.boxofficemojo.com/movies/?id=leap.htm\n"
     ]
    },
    {
     "data": {
      "text/html": [
       "<div>\n",
       "<style scoped>\n",
       "    .dataframe tbody tr th:only-of-type {\n",
       "        vertical-align: middle;\n",
       "    }\n",
       "\n",
       "    .dataframe tbody tr th {\n",
       "        vertical-align: top;\n",
       "    }\n",
       "\n",
       "    .dataframe thead th {\n",
       "        text-align: right;\n",
       "    }\n",
       "</style>\n",
       "<table border=\"1\" class=\"dataframe\">\n",
       "  <thead>\n",
       "    <tr style=\"text-align: right;\">\n",
       "      <th></th>\n",
       "      <th>movie</th>\n",
       "      <th>total gross</th>\n",
       "      <th>open gross</th>\n",
       "      <th>open date</th>\n",
       "      <th>ratio</th>\n",
       "      <th>open month</th>\n",
       "      <th>director</th>\n",
       "    </tr>\n",
       "  </thead>\n",
       "  <tbody>\n",
       "    <tr>\n",
       "      <th>0</th>\n",
       "      <td>Star Wars: The Last Jedi</td>\n",
       "      <td>620181382</td>\n",
       "      <td>220009584</td>\n",
       "      <td>2017-12-15</td>\n",
       "      <td>0.354750</td>\n",
       "      <td>12</td>\n",
       "      <td>Rian Johnson</td>\n",
       "    </tr>\n",
       "    <tr>\n",
       "      <th>1</th>\n",
       "      <td>Beauty and the Beast (2017)</td>\n",
       "      <td>504014165</td>\n",
       "      <td>174750616</td>\n",
       "      <td>2017-03-17</td>\n",
       "      <td>0.346718</td>\n",
       "      <td>3</td>\n",
       "      <td>Bill Condon</td>\n",
       "    </tr>\n",
       "    <tr>\n",
       "      <th>2</th>\n",
       "      <td>Wonder Woman</td>\n",
       "      <td>412563408</td>\n",
       "      <td>103251471</td>\n",
       "      <td>2017-06-02</td>\n",
       "      <td>0.250268</td>\n",
       "      <td>6</td>\n",
       "      <td>Patty Jenkins</td>\n",
       "    </tr>\n",
       "    <tr>\n",
       "      <th>3</th>\n",
       "      <td>Jumanji: Welcome to the Jungle</td>\n",
       "      <td>404515480</td>\n",
       "      <td>36169328</td>\n",
       "      <td>2017-12-20</td>\n",
       "      <td>0.089414</td>\n",
       "      <td>12</td>\n",
       "      <td>Jake Kasdan</td>\n",
       "    </tr>\n",
       "    <tr>\n",
       "      <th>4</th>\n",
       "      <td>Guardians of the Galaxy Vol. 2</td>\n",
       "      <td>389813101</td>\n",
       "      <td>146510104</td>\n",
       "      <td>2017-05-05</td>\n",
       "      <td>0.375847</td>\n",
       "      <td>5</td>\n",
       "      <td>James Gunn</td>\n",
       "    </tr>\n",
       "  </tbody>\n",
       "</table>\n",
       "</div>"
      ],
      "text/plain": [
       "                            movie  total gross  open gross  open date  \\\n",
       "0        Star Wars: The Last Jedi    620181382   220009584 2017-12-15   \n",
       "1     Beauty and the Beast (2017)    504014165   174750616 2017-03-17   \n",
       "2                    Wonder Woman    412563408   103251471 2017-06-02   \n",
       "3  Jumanji: Welcome to the Jungle    404515480    36169328 2017-12-20   \n",
       "4  Guardians of the Galaxy Vol. 2    389813101   146510104 2017-05-05   \n",
       "\n",
       "      ratio  open month       director  \n",
       "0  0.354750          12   Rian Johnson  \n",
       "1  0.346718           3    Bill Condon  \n",
       "2  0.250268           6  Patty Jenkins  \n",
       "3  0.089414          12    Jake Kasdan  \n",
       "4  0.375847           5     James Gunn  "
      ]
     },
     "execution_count": 66,
     "metadata": {},
     "output_type": "execute_result"
    }
   ],
   "source": [
    "for i in range(len(movie_urls)):\n",
    "    chromedriver = \"/usr/local/bin/chromedriver\"\n",
    "    driver = webdriver.Chrome(chromedriver)\n",
    "    url = movie_urls[i]\n",
    "    driver.get(url)\n",
    "    try:\n",
    "        href = driver.find_element_by_xpath( '//a[contains(@href, \"/people/chart/?view=Director\")]')\n",
    "        director = href.text\n",
    "        movies['director'][i] = director\n",
    "    except:\n",
    "        print('BAD', i, movies['movie'][i], movie_urls[i])\n",
    "        driver.close()\n",
    "movies.head()\n"
   ]
  },
  {
   "cell_type": "markdown",
   "metadata": {
    "collapsed": true
   },
   "source": [
    "24.The movies below are the movies who didn't get directors. Go to their movie links to investigate why. We can add in those directors manually by running the following code:"
   ]
  },
  {
   "cell_type": "code",
   "execution_count": 74,
   "metadata": {},
   "outputs": [
    {
     "name": "stderr",
     "output_type": "stream",
     "text": [
      "/Users/shareshianl/anaconda/lib/python3.6/site-packages/ipykernel/__main__.py:2: SettingWithCopyWarning: \n",
      "A value is trying to be set on a copy of a slice from a DataFrame\n",
      "\n",
      "See the caveats in the documentation: http://pandas.pydata.org/pandas-docs/stable/indexing.html#indexing-view-versus-copy\n",
      "  from ipykernel import kernelapp as app\n",
      "/Users/shareshianl/anaconda/lib/python3.6/site-packages/ipykernel/__main__.py:3: SettingWithCopyWarning: \n",
      "A value is trying to be set on a copy of a slice from a DataFrame\n",
      "\n",
      "See the caveats in the documentation: http://pandas.pydata.org/pandas-docs/stable/indexing.html#indexing-view-versus-copy\n",
      "  app.launch_new_instance()\n",
      "/Users/shareshianl/anaconda/lib/python3.6/site-packages/ipykernel/__main__.py:4: SettingWithCopyWarning: \n",
      "A value is trying to be set on a copy of a slice from a DataFrame\n",
      "\n",
      "See the caveats in the documentation: http://pandas.pydata.org/pandas-docs/stable/indexing.html#indexing-view-versus-copy\n",
      "/Users/shareshianl/anaconda/lib/python3.6/site-packages/ipykernel/__main__.py:5: SettingWithCopyWarning: \n",
      "A value is trying to be set on a copy of a slice from a DataFrame\n",
      "\n",
      "See the caveats in the documentation: http://pandas.pydata.org/pandas-docs/stable/indexing.html#indexing-view-versus-copy\n",
      "/Users/shareshianl/anaconda/lib/python3.6/site-packages/ipykernel/__main__.py:6: SettingWithCopyWarning: \n",
      "A value is trying to be set on a copy of a slice from a DataFrame\n",
      "\n",
      "See the caveats in the documentation: http://pandas.pydata.org/pandas-docs/stable/indexing.html#indexing-view-versus-copy\n",
      "/Users/shareshianl/anaconda/lib/python3.6/site-packages/ipykernel/__main__.py:7: SettingWithCopyWarning: \n",
      "A value is trying to be set on a copy of a slice from a DataFrame\n",
      "\n",
      "See the caveats in the documentation: http://pandas.pydata.org/pandas-docs/stable/indexing.html#indexing-view-versus-copy\n",
      "/Users/shareshianl/anaconda/lib/python3.6/site-packages/ipykernel/__main__.py:8: SettingWithCopyWarning: \n",
      "A value is trying to be set on a copy of a slice from a DataFrame\n",
      "\n",
      "See the caveats in the documentation: http://pandas.pydata.org/pandas-docs/stable/indexing.html#indexing-view-versus-copy\n",
      "/Users/shareshianl/anaconda/lib/python3.6/site-packages/ipykernel/__main__.py:9: SettingWithCopyWarning: \n",
      "A value is trying to be set on a copy of a slice from a DataFrame\n",
      "\n",
      "See the caveats in the documentation: http://pandas.pydata.org/pandas-docs/stable/indexing.html#indexing-view-versus-copy\n",
      "/Users/shareshianl/anaconda/lib/python3.6/site-packages/ipykernel/__main__.py:10: SettingWithCopyWarning: \n",
      "A value is trying to be set on a copy of a slice from a DataFrame\n",
      "\n",
      "See the caveats in the documentation: http://pandas.pydata.org/pandas-docs/stable/indexing.html#indexing-view-versus-copy\n",
      "/Users/shareshianl/anaconda/lib/python3.6/site-packages/ipykernel/__main__.py:11: SettingWithCopyWarning: \n",
      "A value is trying to be set on a copy of a slice from a DataFrame\n",
      "\n",
      "See the caveats in the documentation: http://pandas.pydata.org/pandas-docs/stable/indexing.html#indexing-view-versus-copy\n",
      "/Users/shareshianl/anaconda/lib/python3.6/site-packages/ipykernel/__main__.py:12: SettingWithCopyWarning: \n",
      "A value is trying to be set on a copy of a slice from a DataFrame\n",
      "\n",
      "See the caveats in the documentation: http://pandas.pydata.org/pandas-docs/stable/indexing.html#indexing-view-versus-copy\n",
      "/Users/shareshianl/anaconda/lib/python3.6/site-packages/ipykernel/__main__.py:13: SettingWithCopyWarning: \n",
      "A value is trying to be set on a copy of a slice from a DataFrame\n",
      "\n",
      "See the caveats in the documentation: http://pandas.pydata.org/pandas-docs/stable/indexing.html#indexing-view-versus-copy\n",
      "/Users/shareshianl/anaconda/lib/python3.6/site-packages/ipykernel/__main__.py:14: SettingWithCopyWarning: \n",
      "A value is trying to be set on a copy of a slice from a DataFrame\n",
      "\n",
      "See the caveats in the documentation: http://pandas.pydata.org/pandas-docs/stable/indexing.html#indexing-view-versus-copy\n",
      "/Users/shareshianl/anaconda/lib/python3.6/site-packages/ipykernel/__main__.py:15: SettingWithCopyWarning: \n",
      "A value is trying to be set on a copy of a slice from a DataFrame\n",
      "\n",
      "See the caveats in the documentation: http://pandas.pydata.org/pandas-docs/stable/indexing.html#indexing-view-versus-copy\n",
      "/Users/shareshianl/anaconda/lib/python3.6/site-packages/ipykernel/__main__.py:16: SettingWithCopyWarning: \n",
      "A value is trying to be set on a copy of a slice from a DataFrame\n",
      "\n",
      "See the caveats in the documentation: http://pandas.pydata.org/pandas-docs/stable/indexing.html#indexing-view-versus-copy\n",
      "/Users/shareshianl/anaconda/lib/python3.6/site-packages/ipykernel/__main__.py:17: SettingWithCopyWarning: \n",
      "A value is trying to be set on a copy of a slice from a DataFrame\n",
      "\n",
      "See the caveats in the documentation: http://pandas.pydata.org/pandas-docs/stable/indexing.html#indexing-view-versus-copy\n",
      "/Users/shareshianl/anaconda/lib/python3.6/site-packages/ipykernel/__main__.py:18: SettingWithCopyWarning: \n",
      "A value is trying to be set on a copy of a slice from a DataFrame\n",
      "\n",
      "See the caveats in the documentation: http://pandas.pydata.org/pandas-docs/stable/indexing.html#indexing-view-versus-copy\n",
      "/Users/shareshianl/anaconda/lib/python3.6/site-packages/ipykernel/__main__.py:19: SettingWithCopyWarning: \n",
      "A value is trying to be set on a copy of a slice from a DataFrame\n",
      "\n",
      "See the caveats in the documentation: http://pandas.pydata.org/pandas-docs/stable/indexing.html#indexing-view-versus-copy\n",
      "/Users/shareshianl/anaconda/lib/python3.6/site-packages/ipykernel/__main__.py:20: SettingWithCopyWarning: \n",
      "A value is trying to be set on a copy of a slice from a DataFrame\n",
      "\n",
      "See the caveats in the documentation: http://pandas.pydata.org/pandas-docs/stable/indexing.html#indexing-view-versus-copy\n",
      "/Users/shareshianl/anaconda/lib/python3.6/site-packages/ipykernel/__main__.py:21: SettingWithCopyWarning: \n",
      "A value is trying to be set on a copy of a slice from a DataFrame\n",
      "\n",
      "See the caveats in the documentation: http://pandas.pydata.org/pandas-docs/stable/indexing.html#indexing-view-versus-copy\n",
      "/Users/shareshianl/anaconda/lib/python3.6/site-packages/ipykernel/__main__.py:22: SettingWithCopyWarning: \n",
      "A value is trying to be set on a copy of a slice from a DataFrame\n",
      "\n",
      "See the caveats in the documentation: http://pandas.pydata.org/pandas-docs/stable/indexing.html#indexing-view-versus-copy\n",
      "/Users/shareshianl/anaconda/lib/python3.6/site-packages/ipykernel/__main__.py:23: SettingWithCopyWarning: \n",
      "A value is trying to be set on a copy of a slice from a DataFrame\n",
      "\n",
      "See the caveats in the documentation: http://pandas.pydata.org/pandas-docs/stable/indexing.html#indexing-view-versus-copy\n",
      "/Users/shareshianl/anaconda/lib/python3.6/site-packages/ipykernel/__main__.py:24: SettingWithCopyWarning: \n",
      "A value is trying to be set on a copy of a slice from a DataFrame\n",
      "\n",
      "See the caveats in the documentation: http://pandas.pydata.org/pandas-docs/stable/indexing.html#indexing-view-versus-copy\n",
      "/Users/shareshianl/anaconda/lib/python3.6/site-packages/ipykernel/__main__.py:25: SettingWithCopyWarning: \n",
      "A value is trying to be set on a copy of a slice from a DataFrame\n",
      "\n",
      "See the caveats in the documentation: http://pandas.pydata.org/pandas-docs/stable/indexing.html#indexing-view-versus-copy\n",
      "/Users/shareshianl/anaconda/lib/python3.6/site-packages/ipykernel/__main__.py:26: SettingWithCopyWarning: \n",
      "A value is trying to be set on a copy of a slice from a DataFrame\n",
      "\n",
      "See the caveats in the documentation: http://pandas.pydata.org/pandas-docs/stable/indexing.html#indexing-view-versus-copy\n",
      "/Users/shareshianl/anaconda/lib/python3.6/site-packages/ipykernel/__main__.py:27: SettingWithCopyWarning: \n",
      "A value is trying to be set on a copy of a slice from a DataFrame\n",
      "\n",
      "See the caveats in the documentation: http://pandas.pydata.org/pandas-docs/stable/indexing.html#indexing-view-versus-copy\n",
      "/Users/shareshianl/anaconda/lib/python3.6/site-packages/ipykernel/__main__.py:28: SettingWithCopyWarning: \n",
      "A value is trying to be set on a copy of a slice from a DataFrame\n",
      "\n",
      "See the caveats in the documentation: http://pandas.pydata.org/pandas-docs/stable/indexing.html#indexing-view-versus-copy\n",
      "/Users/shareshianl/anaconda/lib/python3.6/site-packages/ipykernel/__main__.py:29: SettingWithCopyWarning: \n",
      "A value is trying to be set on a copy of a slice from a DataFrame\n",
      "\n",
      "See the caveats in the documentation: http://pandas.pydata.org/pandas-docs/stable/indexing.html#indexing-view-versus-copy\n",
      "/Users/shareshianl/anaconda/lib/python3.6/site-packages/ipykernel/__main__.py:30: SettingWithCopyWarning: \n",
      "A value is trying to be set on a copy of a slice from a DataFrame\n",
      "\n",
      "See the caveats in the documentation: http://pandas.pydata.org/pandas-docs/stable/indexing.html#indexing-view-versus-copy\n"
     ]
    }
   ],
   "source": [
    "movies['director'][5] = 'Jon Watts'\n",
    "movies['director'][15] = 'Chris McKay'\n",
    "movies['director'][17] = 'Michael Gracey'\n",
    "movies['director'][20] = 'Brian Fee'\n",
    "movies['director'][28] = 'Trish Sie'\n",
    "movies['director'][35] = 'Tony Leondis'\n",
    "movies['director'][46] = 'Charlie Bean'\n",
    "movies['director'][48] = 'Stuart Hazeldine'\n",
    "movies['director'][51] = 'Martin McDonagh'\n",
    "movies['director'][54] = 'Nikolaj Arcel'\n",
    "movies['director'][54] = 'Nikolaj Arcel'\n",
    "movies['director'][61] = 'Benny Boom'\n",
    "movies['director'][63] = 'Johannes Roberts'\n",
    "movies['director'][64] = 'Michael Showalter'\n",
    "movies['director'][66] = 'Timothy Reckart'\n",
    "movies['director'][69] = 'Michael Spierig'\n",
    "movies['director'][72] = 'Stella Meghie'\n",
    "movies['director'][73] = 'Taylor Sheridan'\n",
    "movies['director'][76] = 'Richie Keen'\n",
    "movies['director'][77] = 'Ken Marino'\n",
    "movies['director'][78] = 'Luis Prieto'\n",
    "movies['director'][79] = 'Anna Foerster'\n",
    "movies['director'][80] = 'Hany Abu-Assad'\n",
    "movies['director'][86] = 'F. Javier Gutiérrez'\n",
    "movies['director'][88] = 'Hallie Meyers-Shyer'\n",
    "movies['director'][94] = 'Stacy Title'\n",
    "movies['director'][96] = 'Lucia Aniello'\n",
    "movies['director'][97] = 'Jayson Thiessen'\n",
    "movies['director'][98] = 'Eric Summer'"
   ]
  },
  {
   "cell_type": "markdown",
   "metadata": {},
   "source": [
    "25.You definitely won't want to run the above code again because it takes so long. Pickle your dataframe so you can work with it later."
   ]
  },
  {
   "cell_type": "code",
   "execution_count": 77,
   "metadata": {
    "collapsed": true
   },
   "outputs": [],
   "source": [
    "movies.to_pickle('movies.pkl')"
   ]
  },
  {
   "cell_type": "markdown",
   "metadata": {},
   "source": [
    "26.Read the dataframe back in (and call it movies again) from the pickle file to make sure it saved correctly."
   ]
  },
  {
   "cell_type": "code",
   "execution_count": 78,
   "metadata": {},
   "outputs": [
    {
     "data": {
      "text/html": [
       "<div>\n",
       "<style scoped>\n",
       "    .dataframe tbody tr th:only-of-type {\n",
       "        vertical-align: middle;\n",
       "    }\n",
       "\n",
       "    .dataframe tbody tr th {\n",
       "        vertical-align: top;\n",
       "    }\n",
       "\n",
       "    .dataframe thead th {\n",
       "        text-align: right;\n",
       "    }\n",
       "</style>\n",
       "<table border=\"1\" class=\"dataframe\">\n",
       "  <thead>\n",
       "    <tr style=\"text-align: right;\">\n",
       "      <th></th>\n",
       "      <th>movie</th>\n",
       "      <th>total gross</th>\n",
       "      <th>open gross</th>\n",
       "      <th>open date</th>\n",
       "      <th>ratio</th>\n",
       "      <th>open month</th>\n",
       "      <th>director</th>\n",
       "    </tr>\n",
       "  </thead>\n",
       "  <tbody>\n",
       "    <tr>\n",
       "      <th>0</th>\n",
       "      <td>Star Wars: The Last Jedi</td>\n",
       "      <td>620181382</td>\n",
       "      <td>220009584</td>\n",
       "      <td>2017-12-15</td>\n",
       "      <td>0.354750</td>\n",
       "      <td>12</td>\n",
       "      <td>Rian Johnson</td>\n",
       "    </tr>\n",
       "    <tr>\n",
       "      <th>1</th>\n",
       "      <td>Beauty and the Beast (2017)</td>\n",
       "      <td>504014165</td>\n",
       "      <td>174750616</td>\n",
       "      <td>2017-03-17</td>\n",
       "      <td>0.346718</td>\n",
       "      <td>3</td>\n",
       "      <td>Bill Condon</td>\n",
       "    </tr>\n",
       "    <tr>\n",
       "      <th>2</th>\n",
       "      <td>Wonder Woman</td>\n",
       "      <td>412563408</td>\n",
       "      <td>103251471</td>\n",
       "      <td>2017-06-02</td>\n",
       "      <td>0.250268</td>\n",
       "      <td>6</td>\n",
       "      <td>Patty Jenkins</td>\n",
       "    </tr>\n",
       "    <tr>\n",
       "      <th>3</th>\n",
       "      <td>Jumanji: Welcome to the Jungle</td>\n",
       "      <td>404515480</td>\n",
       "      <td>36169328</td>\n",
       "      <td>2017-12-20</td>\n",
       "      <td>0.089414</td>\n",
       "      <td>12</td>\n",
       "      <td>Jake Kasdan</td>\n",
       "    </tr>\n",
       "    <tr>\n",
       "      <th>4</th>\n",
       "      <td>Guardians of the Galaxy Vol. 2</td>\n",
       "      <td>389813101</td>\n",
       "      <td>146510104</td>\n",
       "      <td>2017-05-05</td>\n",
       "      <td>0.375847</td>\n",
       "      <td>5</td>\n",
       "      <td>James Gunn</td>\n",
       "    </tr>\n",
       "  </tbody>\n",
       "</table>\n",
       "</div>"
      ],
      "text/plain": [
       "                            movie  total gross  open gross  open date  \\\n",
       "0        Star Wars: The Last Jedi    620181382   220009584 2017-12-15   \n",
       "1     Beauty and the Beast (2017)    504014165   174750616 2017-03-17   \n",
       "2                    Wonder Woman    412563408   103251471 2017-06-02   \n",
       "3  Jumanji: Welcome to the Jungle    404515480    36169328 2017-12-20   \n",
       "4  Guardians of the Galaxy Vol. 2    389813101   146510104 2017-05-05   \n",
       "\n",
       "      ratio  open month       director  \n",
       "0  0.354750          12   Rian Johnson  \n",
       "1  0.346718           3    Bill Condon  \n",
       "2  0.250268           6  Patty Jenkins  \n",
       "3  0.089414          12    Jake Kasdan  \n",
       "4  0.375847           5     James Gunn  "
      ]
     },
     "execution_count": 78,
     "metadata": {},
     "output_type": "execute_result"
    }
   ],
   "source": [
    "movies = pd.read_pickle('movies.pkl')\n",
    "movies.head()"
   ]
  },
  {
   "cell_type": "markdown",
   "metadata": {},
   "source": [
    "27.Use value_counts in decending order on the director dataframe to view which director had the most top 100 movies in 2017."
   ]
  },
  {
   "cell_type": "code",
   "execution_count": 40,
   "metadata": {},
   "outputs": [
    {
     "data": {
      "text/plain": [
       "Ridley Scott           2\n",
       "Rupert Sanders         1\n",
       "Greta Gerwig           1\n",
       "Guillermo del Toro     1\n",
       "Hany Abu-Assad         1\n",
       "Tyler Perry            1\n",
       "Daniel Espinosa        1\n",
       "Dean Israelite         1\n",
       "David F. Sandberg      1\n",
       "Scott Cooper           1\n",
       "David Leitch           1\n",
       "Matt Reeves            1\n",
       "Hallie Meyers-Shyer    1\n",
       "Pierre Coffin          1\n",
       "Kenneth Branagh        1\n",
       "Steven Spielberg       1\n",
       "Steven Soderbergh      1\n",
       "Nikolaj Arcel          1\n",
       "Taika Waititi          1\n",
       "Aaron Sorkin           1\n",
       "James Gunn             1\n",
       "Jon Watts              1\n",
       "Martin McDonagh        1\n",
       "F. Javier Gutiérrez    1\n",
       "Patrick Hughes         1\n",
       "Jon Lucas              1\n",
       "Chad Stahelski         1\n",
       "Lucia Aniello          1\n",
       "Guy Ritchie            1\n",
       "Jayson Thiessen        1\n",
       "                      ..\n",
       "Jonathan Levine        1\n",
       "James Franco           1\n",
       "Chris McKay            1\n",
       "Marc Webb              1\n",
       "Malcolm D. Lee         1\n",
       "Jordan Vogt-Roberts    1\n",
       "F. Gary Gray           1\n",
       "Rian Johnson           1\n",
       "James Foley            1\n",
       "Andrew J. Cohen        1\n",
       "Michael Bay            1\n",
       "Luis Prieto            1\n",
       "Zack Snyder            1\n",
       "Ken Marino             1\n",
       "Stephen Frears         1\n",
       "Michael Showalter      1\n",
       "Lasse Hallstrom        1\n",
       "Zach Braff             1\n",
       "Cal Brunker            1\n",
       "Alexander Payne        1\n",
       "Eric Summer            1\n",
       "Brian Fee              1\n",
       "Sean Anders            1\n",
       "Stuart Hazeldine       1\n",
       "David Soren            1\n",
       "Andres Muschietti      1\n",
       "Patty Jenkins          1\n",
       "Jordan Peele           1\n",
       "Doug Liman             1\n",
       "Craig Gillespie        1\n",
       "Name: director, Length: 98, dtype: int64"
      ]
     },
     "execution_count": 40,
     "metadata": {},
     "output_type": "execute_result"
    }
   ],
   "source": [
    "movies.director.value_counts(ascending = False)"
   ]
  },
  {
   "cell_type": "markdown",
   "metadata": {},
   "source": [
    "28.Print all of the movie info for the movies that this director made."
   ]
  },
  {
   "cell_type": "code",
   "execution_count": 79,
   "metadata": {},
   "outputs": [
    {
     "data": {
      "text/html": [
       "<div>\n",
       "<style scoped>\n",
       "    .dataframe tbody tr th:only-of-type {\n",
       "        vertical-align: middle;\n",
       "    }\n",
       "\n",
       "    .dataframe tbody tr th {\n",
       "        vertical-align: top;\n",
       "    }\n",
       "\n",
       "    .dataframe thead th {\n",
       "        text-align: right;\n",
       "    }\n",
       "</style>\n",
       "<table border=\"1\" class=\"dataframe\">\n",
       "  <thead>\n",
       "    <tr style=\"text-align: right;\">\n",
       "      <th></th>\n",
       "      <th>movie</th>\n",
       "      <th>total gross</th>\n",
       "      <th>open gross</th>\n",
       "      <th>open date</th>\n",
       "      <th>ratio</th>\n",
       "      <th>open month</th>\n",
       "      <th>director</th>\n",
       "    </tr>\n",
       "  </thead>\n",
       "  <tbody>\n",
       "    <tr>\n",
       "      <th>41</th>\n",
       "      <td>Alien: Covenant</td>\n",
       "      <td>74262031</td>\n",
       "      <td>36160621</td>\n",
       "      <td>2017-05-19</td>\n",
       "      <td>0.486933</td>\n",
       "      <td>5</td>\n",
       "      <td>Ridley Scott</td>\n",
       "    </tr>\n",
       "    <tr>\n",
       "      <th>91</th>\n",
       "      <td>All the Money in the World</td>\n",
       "      <td>25113707</td>\n",
       "      <td>5584684</td>\n",
       "      <td>2017-12-25</td>\n",
       "      <td>0.222376</td>\n",
       "      <td>12</td>\n",
       "      <td>Ridley Scott</td>\n",
       "    </tr>\n",
       "  </tbody>\n",
       "</table>\n",
       "</div>"
      ],
      "text/plain": [
       "                         movie  total gross  open gross  open date     ratio  \\\n",
       "41             Alien: Covenant     74262031    36160621 2017-05-19  0.486933   \n",
       "91  All the Money in the World     25113707     5584684 2017-12-25  0.222376   \n",
       "\n",
       "    open month      director  \n",
       "41           5  Ridley Scott  \n",
       "91          12  Ridley Scott  "
      ]
     },
     "execution_count": 79,
     "metadata": {},
     "output_type": "execute_result"
    }
   ],
   "source": [
    "movies[movies['director']=='Ridley Scott']"
   ]
  }
 ],
 "metadata": {
  "kernelspec": {
   "display_name": "Python 3",
   "language": "python",
   "name": "python3"
  },
  "language_info": {
   "codemirror_mode": {
    "name": "ipython",
    "version": 3
   },
   "file_extension": ".py",
   "mimetype": "text/x-python",
   "name": "python",
   "nbconvert_exporter": "python",
   "pygments_lexer": "ipython3",
   "version": "3.6.0"
  }
 },
 "nbformat": 4,
 "nbformat_minor": 2
}
