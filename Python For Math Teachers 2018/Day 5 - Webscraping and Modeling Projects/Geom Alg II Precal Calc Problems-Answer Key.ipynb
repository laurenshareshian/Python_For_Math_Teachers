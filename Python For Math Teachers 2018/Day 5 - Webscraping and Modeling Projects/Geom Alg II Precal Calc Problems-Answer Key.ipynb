{
 "cells": [
  {
   "cell_type": "markdown",
   "metadata": {},
   "source": [
    "## Geometry Problems"
   ]
  },
  {
   "cell_type": "markdown",
   "metadata": {},
   "source": [
    "### Midpoints\n",
    "Write a function called midpoint that takes in two coordinates in the form (x1,y1,x2,y2) and returns the midpoint of the two. For example, midpoint(2,4,5,6) should return (3.5, 5.0).\n"
   ]
  },
  {
   "cell_type": "code",
   "execution_count": 1,
   "metadata": {},
   "outputs": [
    {
     "data": {
      "text/plain": [
       "(3.5, 5.0)"
      ]
     },
     "execution_count": 1,
     "metadata": {},
     "output_type": "execute_result"
    }
   ],
   "source": [
    "# insert exercise 1\n",
    "def midpoint(x1,y1,x2,y2):\n",
    "    return (x1+x2)/2, (y1+y2)/2\n",
    "\n",
    "midpoint(2,4,5,6)"
   ]
  },
  {
   "cell_type": "markdown",
   "metadata": {},
   "source": [
    "### Right, Acute, Obtuse, Not Possible\n",
    "Write a function called triangle_type that takes in three lengths of a triangle and determines whether the triangle is not possible, it is acute, obtuse, or right."
   ]
  },
  {
   "cell_type": "code",
   "execution_count": 3,
   "metadata": {},
   "outputs": [
    {
     "name": "stdout",
     "output_type": "stream",
     "text": [
      "not possible\n",
      "right\n"
     ]
    }
   ],
   "source": [
    "def triangle_type(a,b,c):\n",
    "    if a+b <= c:\n",
    "        return 'not possible'\n",
    "    else:\n",
    "        if a**2+b**2==c**2:\n",
    "            return 'right'\n",
    "        elif  a**2+b**2<c**2:\n",
    "            return 'obtuse'\n",
    "        else:\n",
    "            return acute\n",
    "print(triangle_type(1,2,7))\n",
    "print(triangle_type(3,4,5))"
   ]
  },
  {
   "cell_type": "markdown",
   "metadata": {},
   "source": [
    "### The Ambiguous Case\n",
    "Write a function called SSA that takes in a side (a), side (b), angle (A) of a trianlge and determines whether none, one, or two triangles are possible. Hint:\n",
    "\n",
    "<img src=\"images/ssa.png\" style=\"width: 500px;\"/>\n",
    "\n",
    "To check your work:\n",
    "ssa(22,12,42) should give 1\n",
    "ssa(15,25,85) should give 0\n",
    "ssa(12,31,20.5) should give 2"
   ]
  },
  {
   "cell_type": "code",
   "execution_count": 11,
   "metadata": {},
   "outputs": [
    {
     "name": "stdout",
     "output_type": "stream",
     "text": [
      "1\n",
      "0\n",
      "2\n"
     ]
    }
   ],
   "source": [
    "import math\n",
    "def ssa(a,b,A):\n",
    "    h = b*math.sin(A*math.pi/180)\n",
    "    if A < 90:\n",
    "        if a < h:\n",
    "            return 0\n",
    "        if a == h:\n",
    "            return 1\n",
    "        if a > b:\n",
    "            return 1\n",
    "        if h < a < b:\n",
    "            return 2\n",
    "    elif A == 90:\n",
    "        return 1\n",
    "    else:\n",
    "        if a <= b:\n",
    "            return 0\n",
    "        else:\n",
    "            return 1\n",
    "print(ssa(22,12,42))\n",
    "print(ssa(15,25,85))\n",
    "print(ssa(12,31,20.5))"
   ]
  },
  {
   "cell_type": "markdown",
   "metadata": {},
   "source": [
    "### Pythagorean Triples and Number Theory\n",
    "Definition: A primitive Pythagorean triple is a triple of numbers a, b, and c such that a, b, and c have no common factors and a^2+b^2=c^2.\n",
    "\n",
    "Examples:\n",
    "\n",
    "3,4,5\n",
    "\n",
    "5,12,13\n",
    "\n",
    "8,15,17\n",
    "\n",
    "7,24,25\n",
    "\n",
    "Non-examples:\n",
    "\n",
    "6,8,10\n",
    "\n",
    "<img src=\"images/primitive.png\" style=\"width: 600px;\"/>\n",
    "\n",
    "(From A Friendly Introduction To Number Theory) https://www.math.brown.edu/~jhs/frintch1ch6.pdf\n",
    "\n",
    "Exercise: Find all of the primitive Pythagorean Triples with s < 23."
   ]
  },
  {
   "cell_type": "code",
   "execution_count": 12,
   "metadata": {},
   "outputs": [
    {
     "name": "stdout",
     "output_type": "stream",
     "text": [
      "3 4 5\n",
      "5 12 13\n",
      "15 8 17\n",
      "7 24 25\n",
      "21 20 29\n",
      "35 12 37\n",
      "9 40 41\n",
      "45 28 53\n",
      "63 16 65\n",
      "11 60 61\n",
      "33 56 65\n",
      "55 48 73\n",
      "77 36 85\n",
      "99 20 101\n",
      "13 84 85\n",
      "39 80 89\n",
      "65 72 97\n",
      "91 60 109\n",
      "117 44 125\n",
      "143 24 145\n",
      "15 112 113\n",
      "105 88 137\n",
      "165 52 173\n",
      "195 28 197\n",
      "17 144 145\n",
      "51 140 149\n",
      "85 132 157\n",
      "119 120 169\n",
      "153 104 185\n",
      "187 84 205\n",
      "221 60 229\n",
      "255 32 257\n",
      "19 180 181\n",
      "57 176 185\n",
      "95 168 193\n",
      "133 156 205\n",
      "171 140 221\n",
      "209 120 241\n",
      "247 96 265\n",
      "285 68 293\n",
      "323 36 325\n",
      "21 220 221\n",
      "105 208 233\n",
      "231 160 281\n",
      "273 136 305\n",
      "357 76 365\n",
      "399 40 401\n"
     ]
    }
   ],
   "source": [
    "common_factor = False\n",
    "\n",
    "for s in range(3,23,2):\n",
    "    for t in range(1,s,2):\n",
    "        for i in range(2,t+1):\n",
    "            if t%i==0 and s%i==0:\n",
    "                common_factor = True\n",
    "                \n",
    "        if common_factor == False:\n",
    "            print(s*t,int((s**2-t**2)/2),int((s**2+t**2)/2))\n",
    "        \n",
    "        common_factor = False\n"
   ]
  },
  {
   "cell_type": "markdown",
   "metadata": {},
   "source": [
    "## Algebra and Precal"
   ]
  },
  {
   "cell_type": "markdown",
   "metadata": {},
   "source": [
    "### Point-Slope Form\n",
    "Write a program called point_slope that takes in two points in the form (x1,y1,x2,y2) and returns the equation in point-slope form using the first point. Hint: you may want to use .format to create an equation string. Here's an example:"
   ]
  },
  {
   "cell_type": "code",
   "execution_count": 39,
   "metadata": {},
   "outputs": [
    {
     "name": "stdout",
     "output_type": "stream",
     "text": [
      "y-3=2(x-5)\n"
     ]
    }
   ],
   "source": [
    "equation = 'y-{}={}(x-{})'.format(3,2,5)\n",
    "print(equation)"
   ]
  },
  {
   "cell_type": "code",
   "execution_count": 13,
   "metadata": {},
   "outputs": [
    {
     "data": {
      "text/plain": [
       "'y-3=1.0(x-1)'"
      ]
     },
     "execution_count": 13,
     "metadata": {},
     "output_type": "execute_result"
    }
   ],
   "source": [
    "def point_slope(x1,y1,x2,y2):\n",
    "    m = (y1-y2)/(x1-x2)\n",
    "    return 'y-{}={}(x-{})'.format(y1,m,x1)\n",
    "\n",
    "point_slope(1,3,2,4)"
   ]
  },
  {
   "cell_type": "markdown",
   "metadata": {},
   "source": [
    "### Slope-Intercept Form\n",
    "Write a program called slope_int that takes in two points in the form (x1,y1,x2,y2) and returns the equation in slope-intercept form."
   ]
  },
  {
   "cell_type": "code",
   "execution_count": 1,
   "metadata": {},
   "outputs": [
    {
     "data": {
      "text/plain": [
       "'y=1.0x+2.0'"
      ]
     },
     "execution_count": 1,
     "metadata": {},
     "output_type": "execute_result"
    }
   ],
   "source": [
    "def slope_int(x1,y1,x2,y2):\n",
    "    m = (y1-y2)/(x1-x2)\n",
    "    b=y1-m*x1\n",
    "    return 'y={}x+{}'.format(m,b)\n",
    "\n",
    "slope_int(1,3,2,4)"
   ]
  },
  {
   "cell_type": "markdown",
   "metadata": {},
   "source": [
    "### Quadratic formula\n",
    "Write a program called quadratic that takes in a,b,c coefficients and returns the roots. If they are imaginary, return them in the form a+bi, where a+bi is a string (not a number).\n",
    "\n",
    "Some examples:\n",
    "\n",
    "quadratic(1,5,4) should return (-1.0, -4.0)\n",
    "\n",
    "quadratic(1,4,4) should return -2.0\n",
    "\n",
    "quadratic(1,-6,13) should return 3.0+i2.0, 3.0-i2.0"
   ]
  },
  {
   "cell_type": "code",
   "execution_count": 1,
   "metadata": {},
   "outputs": [
    {
     "name": "stdout",
     "output_type": "stream",
     "text": [
      "(-1.0, -4.0)\n",
      "-2.0\n",
      "3.0+i2.0, 3.0-i2.0\n"
     ]
    }
   ],
   "source": [
    "import math\n",
    "\n",
    "def quadratic(a,b,c):\n",
    "    det = b**2 - 4*a*c\n",
    "    if det > 0:\n",
    "        return (-b+math.sqrt(det))/(2*a), (-b-math.sqrt(det))/(2*a)\n",
    "    elif det == 0:\n",
    "        return -b/(2*a)\n",
    "    else:\n",
    "        return '{}+i{}, {}-i{}'.format(-b/(2*a),math.sqrt(-det)/(2*a),-b/(2*a),math.sqrt(-det)/(2*a))\n",
    "print(quadratic(1,5,4))\n",
    "print(quadratic(1,4,4))\n",
    "print(quadratic(1,-6,13))"
   ]
  },
  {
   "cell_type": "markdown",
   "metadata": {},
   "source": [
    "### Compound Interest\n",
    "Write a program called interest that takes in the initial principal, the annual interest rate, the number of compounding periods per year, and the number of years and returns the total balance."
   ]
  },
  {
   "cell_type": "code",
   "execution_count": 16,
   "metadata": {},
   "outputs": [
    {
     "data": {
      "text/plain": [
       "115.96934182128899"
      ]
     },
     "execution_count": 16,
     "metadata": {},
     "output_type": "execute_result"
    }
   ],
   "source": [
    "def interest(p,r,n,t):\n",
    "    return p*(1+r/n)**(n*t)\n",
    "\n",
    "interest(100,0.05,2,3)"
   ]
  },
  {
   "cell_type": "markdown",
   "metadata": {},
   "source": [
    "### Prime Numbers\n",
    "Write a function called \"prime\" that takes in a number, n, and returns \"True\" if the number is prime and \"False\" if the number is not prime.\n",
    "\n",
    "Hint: Pay special attention to the even_check and factors function examples."
   ]
  },
  {
   "cell_type": "code",
   "execution_count": 18,
   "metadata": {},
   "outputs": [
    {
     "name": "stdout",
     "output_type": "stream",
     "text": [
      "True\n",
      "False\n"
     ]
    }
   ],
   "source": [
    "def prime(number):\n",
    "\n",
    "    prime = True\n",
    "\n",
    "    for i in range(2,number):\n",
    "        if number % i == 0:\n",
    "            prime = False\n",
    "        \n",
    "    return prime\n",
    "\n",
    "print(prime(7))\n",
    "print(prime(8))"
   ]
  },
  {
   "cell_type": "markdown",
   "metadata": {},
   "source": [
    "### Fibonacci Numbers\n",
    "\n",
    "Write a function that takes in a number, n, and returns a list of the first n terms of the Fibonacci sequence. For example, an input of 6 would return the list [1,1,2,3,5,8].\n",
    "\n",
    "For simplicity, you can assume that the user will give you a positive number, n, greater or equal to 3, so that 1 and 1 are always included in the list.\n",
    "\n",
    "Hint: pay special attention to the sum_diff function example."
   ]
  },
  {
   "cell_type": "code",
   "execution_count": null,
   "metadata": {
    "collapsed": true
   },
   "outputs": [],
   "source": [
    "def fibonacci(n):\n",
    "    old, new = 1, 1\n",
    "    \n",
    "    fib_list = [old, new]\n",
    "\n",
    "    for i in range(n-2):\n",
    "        old, new = new, old + new\n",
    "        fib_list.append(new)\n",
    "    return fib_list\n",
    "\n",
    "print(fibonacci(7))"
   ]
  },
  {
   "cell_type": "markdown",
   "metadata": {},
   "source": [
    "### Binomial Theorem\n",
    "Write a function called binomial that takes in two strings and an exponent and expand them.\n",
    "\n",
    "For example, binomial('x','y',3) should return 1(x)^3(y)^0+3(x)^2(y)^1+3(x)^1(y)^2+1(x)^0(y)^3."
   ]
  },
  {
   "cell_type": "code",
   "execution_count": 31,
   "metadata": {},
   "outputs": [
    {
     "data": {
      "text/plain": [
       "'1(x)^3(y)^0+3(x)^2(y)^1+3(x)^1(y)^2+1(x)^0(y)^3'"
      ]
     },
     "execution_count": 31,
     "metadata": {},
     "output_type": "execute_result"
    }
   ],
   "source": [
    "import math\n",
    "\n",
    "def binomial(x,y,n):\n",
    "    expansion = ''\n",
    "    for i in range(0,n+1):\n",
    "        expansion = expansion + str(int(math.factorial(n)/(math.factorial(i)*math.factorial(n-i))))+'(x)^'+str(n-i)+'(y)^'+str(i)+'+'\n",
    "    return expansion[:-1]\n",
    "\n",
    "binomial('x','y',3)"
   ]
  },
  {
   "cell_type": "markdown",
   "metadata": {},
   "source": [
    "## Calculus"
   ]
  },
  {
   "cell_type": "markdown",
   "metadata": {},
   "source": [
    "### Derivatives\n",
    "Write a program called derivative that takes in a function, an x value, and a threshold h and returns the approximate derivative of the function at that point. For example, derivative(square, 3, 0.001) should return approximately 6.001. What is square? Well, you'll have to define the square function (or any function you want to take the derivative of) above the derivative function. For example:\n",
    "\n",
    "def square(x):\n",
    "\n",
    "    return x**2"
   ]
  },
  {
   "cell_type": "code",
   "execution_count": 33,
   "metadata": {},
   "outputs": [
    {
     "data": {
      "text/plain": [
       "6.000999999999479"
      ]
     },
     "execution_count": 33,
     "metadata": {},
     "output_type": "execute_result"
    }
   ],
   "source": [
    "def square(x):\n",
    "    return x**2\n",
    "\n",
    "def derivative(f,x,h):\n",
    "    return (f(x+h)-f(x))/h\n",
    "\n",
    "derivative(square,3,0.001)"
   ]
  },
  {
   "cell_type": "markdown",
   "metadata": {},
   "source": [
    "### Left hand sum\n",
    "Write a program called LHS that takes in a function, a left boundary a, a right boundary b, and the number of rectangles, n, and returns the left hand sum approximation. For example, LHS(square,1,5,8) should return 35.5."
   ]
  },
  {
   "cell_type": "code",
   "execution_count": 34,
   "metadata": {},
   "outputs": [
    {
     "data": {
      "text/plain": [
       "35.5"
      ]
     },
     "execution_count": 34,
     "metadata": {},
     "output_type": "execute_result"
    }
   ],
   "source": [
    "def square(x):\n",
    "    return x**2\n",
    "\n",
    "def LHS(f,a,b,n):\n",
    "    h = (b-a)/n\n",
    "    left = 0\n",
    "    for i in range(n):\n",
    "        left = left + h*f(a+i*h)\n",
    "    return left\n",
    "\n",
    "LHS(square,1,5,8)"
   ]
  },
  {
   "cell_type": "markdown",
   "metadata": {},
   "source": [
    "### Euler's Method\n",
    "Write a program called euler that takes in a function, and initial x value, an initial y value, a step size, and an end x value and returns the end y-value approximation. For example, euler(square,1,2,0.5,5) should return 37.5."
   ]
  },
  {
   "cell_type": "code",
   "execution_count": 37,
   "metadata": {},
   "outputs": [
    {
     "data": {
      "text/plain": [
       "37.5"
      ]
     },
     "execution_count": 37,
     "metadata": {},
     "output_type": "execute_result"
    }
   ],
   "source": [
    "def square(x):\n",
    "    return x**2\n",
    "\n",
    "def euler(f,x0,y0,h,x1):\n",
    "    steps = int((x1-x0)/h)\n",
    "    for i in range(steps):\n",
    "        x0, y0 = x0 + h, y0+h*f(x0)\n",
    "    return y0\n",
    "euler(square,1,2,0.5,5)"
   ]
  },
  {
   "cell_type": "markdown",
   "metadata": {
    "collapsed": true
   },
   "source": [
    "### Euler's Method continued\n",
    "Write a program called eulers_plot that takes in the same arguments as above and plots the points generated by Euler's method."
   ]
  },
  {
   "cell_type": "code",
   "execution_count": 3,
   "metadata": {},
   "outputs": [
    {
     "data": {
      "text/plain": [
       "(5.0, 37.5)"
      ]
     },
     "execution_count": 3,
     "metadata": {},
     "output_type": "execute_result"
    },
    {
     "data": {
      "image/png": "[encoded data removed]",
      "text/plain": [
       "<matplotlib.figure.Figure at 0x10752fb00>"
      ]
     },
     "metadata": {},
     "output_type": "display_data"
    }
   ],
   "source": [
    "import matplotlib.pyplot as plt\n",
    "%matplotlib inline\n",
    "\n",
    "def square(x):\n",
    "    return x**2\n",
    "\n",
    "def euler(f,x0,y0,h,x1):\n",
    "    steps = int((x1-x0)/h)\n",
    "    x=[]\n",
    "    y=[]\n",
    "    x.append(x0)\n",
    "    y.append(y0)\n",
    "    for i in range(steps):\n",
    "        x0, y0 = x0 + h, y0+h*f(x0)\n",
    "        x.append(x0)\n",
    "        y.append(y0)\n",
    "    plt.plot(x,y,'.')\n",
    "    return x0,y0\n",
    "\n",
    "euler(square,1,2,0.5,5)"
   ]
  },
  {
   "cell_type": "code",
   "execution_count": null,
   "metadata": {
    "collapsed": true
   },
   "outputs": [],
   "source": []
  }
 ],
 "metadata": {
  "kernelspec": {
   "display_name": "Python 3",
   "language": "python",
   "name": "python3"
  },
  "language_info": {
   "codemirror_mode": {
    "name": "ipython",
    "version": 3
   },
   "file_extension": ".py",
   "mimetype": "text/x-python",
   "name": "python",
   "nbconvert_exporter": "python",
   "pygments_lexer": "ipython3",
   "version": "3.6.0"
  }
 },
 "nbformat": 4,
 "nbformat_minor": 2
}
