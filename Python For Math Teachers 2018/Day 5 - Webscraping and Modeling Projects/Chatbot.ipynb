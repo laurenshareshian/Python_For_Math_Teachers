{
 "cells": [
  {
   "cell_type": "markdown",
   "metadata": {},
   "source": [
    "What if you had a large corpus (body) of old teacher comments and you wanted to generate new teacher comments based on those? In essense, we can make a teacher chatbot. Let's explore how we could make a Donald Trump chatbot based on about 10,000 previous tweets stored in tweets.txt. First, read this file in."
   ]
  },
  {
   "cell_type": "code",
   "execution_count": 5,
   "metadata": {},
   "outputs": [
    {
     "data": {
      "text/plain": [
       "\"rt @mitchellvii: trump always ends up being right.   it's almost a little freaky. rt @mitchellvii: exactly as i said - house intel chair: we cannot rule out sr.  obama officials were involved in trump surveillance  day for healthcare.  working hard! today on #nationalagday, we honor our great american farmers & ranchers.  their hard work & dedication are ingrained…  to sign s. 442 today.  with this legislation, we support @nasa's scientists, engineers, and astronauts in the…  the @housegop conference this morning at the u. s.  capitol.   #passthebill #maga🇺🇸…  you louisville, kentucky.  together, we will make america safe and great again!   you louisville, kentucky- on my way!  #maga🇺🇸  eric & lara.  very proud and happy for the two of you!   about all of the contact with the clinton c and the russians?  also, is it true that the dnc would not let the fbi in to look? just heard fake news cnn is doing polls again despite the fact that their election polls were a way off disaster.  much \""
      ]
     },
     "execution_count": 5,
     "metadata": {},
     "output_type": "execute_result"
    }
   ],
   "source": [
    "all_tweets = open(\"tweets.txt\", \"r\").read()\n",
    "all_tweets[0:1000]"
   ]
  },
  {
   "cell_type": "markdown",
   "metadata": {},
   "source": [
    "Split the string all_tweets into a list of words called words. Remove words that contain just punctuation in the following list:"
   ]
  },
  {
   "cell_type": "code",
   "execution_count": 7,
   "metadata": {},
   "outputs": [
    {
     "data": {
      "text/plain": [
       "['rt',\n",
       " '@mitchellvii:',\n",
       " 'trump',\n",
       " 'always',\n",
       " 'ends',\n",
       " 'up',\n",
       " 'being',\n",
       " 'right.',\n",
       " \"it's\",\n",
       " 'almost',\n",
       " 'a',\n",
       " 'little',\n",
       " 'freaky.',\n",
       " 'rt',\n",
       " '@mitchellvii:',\n",
       " 'exactly',\n",
       " 'as',\n",
       " 'i',\n",
       " 'said',\n",
       " '-']"
      ]
     },
     "execution_count": 7,
     "metadata": {},
     "output_type": "execute_result"
    }
   ],
   "source": [
    "words = all_tweets.split()\n",
    "bad_words = ['…', '.', '!', '?', ',']\n",
    "words = [x for x in words if x not in bad_words]\n",
    "words[0:20]"
   ]
  },
  {
   "cell_type": "markdown",
   "metadata": {},
   "source": [
    "Okay, now gets to the fun part where we actually get to make a chatbot. We'll do this using Markov chains. A Markov chain is a randomly determined  model describing a sequence of possible events in which the probability of each event depends only on the state attained in the previous event. What does this mean? \n",
    "\n",
    "We'll make a key-value dictionary where each key is a two word phrase and each value is a list containing all the possible single words that come after that phrase. Here's a concrete example. Read it carefully, paying special attention to the \"and i\" phrase.\n",
    "\n",
    "\"hi my name is Al and i live in a box that i like very much and i can live in there as long as i want\"\n",
    "\n",
    "\"hi my\" -> [\"name\"]\n",
    "\n",
    "\"my name\" -> [\"is\"]\n",
    "\n",
    "\"name is\" -> [\"Al\"]\n",
    "\n",
    "\"is Al\" -> [\"and\"]\n",
    "\n",
    "\"Al and\" -> [\"i\"]\n",
    "\n",
    "\"and i\" -> [\"live\"]\n",
    "\n",
    "........\n",
    "\n",
    "\"and i\" -> [\"live\", \"can\"]\n",
    "\n",
    "........\n",
    "\n",
    "\"i can\" -> [\"live\"]\n",
    "\n",
    "......\n",
    "\n",
    "Make a dictionary that does this type of Markov chain for all_tweets called word_dict below. Here are a few helpful hints:\n",
    "\n",
    "1. You can't iterate ALL the way until the end of the list (or else you'll go out of index). You may need to stop a few words short.\n",
    "\n",
    "2. For each new two word phrase, store the first word value to a LIST. Then, if that two word phrase comes around again, you can append the next possible word to that list."
   ]
  },
  {
   "cell_type": "code",
   "execution_count": 2,
   "metadata": {
    "collapsed": true
   },
   "outputs": [],
   "source": [
    "#insert"
   ]
  },
  {
   "cell_type": "markdown",
   "metadata": {},
   "source": [
    "Now randomly choose a key (two word phrase) to start with and then randomly choose the next word to follow it.\n",
    "\n",
    "Create a string called new_tweet that contains the random initial starting phrase (called starting_phrase) and the following word, with a space in between.\n",
    "\n",
    "Update the starting_phrase to now be the last two words of the string, with a space in between.\n",
    "\n",
    "While the new tweet is less than 140 characters, create a loop that continues to add new words to the new_tweet string by generating a new next word that follows the last starting_phrase. Each time through the loop, update the starting phrase.\n",
    "\n",
    "Note: You will need to use a try/except because not all pairs of words that you put together are in the word_dict. If you get to a pair that isn't in the word dict, proceed as follows:\n",
    "\n",
    "a.If the pair ends in a period, simply end the sentence.\n",
    "b. If the pair does not end in a period, generate a new random starting phrase and continue creating a new sentence.\n",
    "\n",
    "Run the following code several times and some of the tweets should be pretty realistic."
   ]
  },
  {
   "cell_type": "code",
   "execution_count": 3,
   "metadata": {
    "collapsed": true
   },
   "outputs": [],
   "source": [
    "#insert"
   ]
  }
 ],
 "metadata": {
  "kernelspec": {
   "display_name": "Python 3",
   "language": "python",
   "name": "python3"
  },
  "language_info": {
   "codemirror_mode": {
    "name": "ipython",
    "version": 3
   },
   "file_extension": ".py",
   "mimetype": "text/x-python",
   "name": "python",
   "nbconvert_exporter": "python",
   "pygments_lexer": "ipython3",
   "version": "3.6.0"
  }
 },
 "nbformat": 4,
 "nbformat_minor": 2
}
