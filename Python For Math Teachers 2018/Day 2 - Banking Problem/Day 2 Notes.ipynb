{
 "cells": [
  {
   "cell_type": "markdown",
   "metadata": {
    "slideshow": {
     "slide_type": "slide"
    }
   },
   "source": [
    "### Day 2 Notes"
   ]
  },
  {
   "cell_type": "markdown",
   "metadata": {
    "slideshow": {
     "slide_type": "slide"
    }
   },
   "source": [
    "How do I find info on a built in function?\n",
    "\n",
    "Type a question mark:"
   ]
  },
  {
   "cell_type": "code",
   "execution_count": 1,
   "metadata": {
    "slideshow": {
     "slide_type": "fragment"
    }
   },
   "outputs": [
    {
     "name": "stdout",
     "output_type": "stream",
     "text": [
      "6\n",
      "1255.789\n",
      "1000.0\n"
     ]
    }
   ],
   "source": [
    "round?\n",
    "print(round(5.78943)) #rounds to the nearest integer\n",
    "print(round(1255.78943, 3)) #rounds to 3 decimal places\n",
    "print(round(1255.78943, -3)) #rounds to 3 decimal places"
   ]
  },
  {
   "cell_type": "markdown",
   "metadata": {
    "slideshow": {
     "slide_type": "slide"
    }
   },
   "source": [
    "Super cool shortcut (thanks to Albert and Brian) on how to find the winning percentage of the Place 6 bet.\n",
    "\n",
    "First generate 10,000 rolls:"
   ]
  },
  {
   "cell_type": "code",
   "execution_count": 6,
   "metadata": {
    "collapsed": true,
    "slideshow": {
     "slide_type": "fragment"
    }
   },
   "outputs": [],
   "source": [
    "import random \n",
    "\n",
    "sums = []\n",
    "for i in range(10000):\n",
    "    die1 = random.randint(1,6)\n",
    "    die2 = random.randint(1,6)\n",
    "    sums.append(die1+die2)"
   ]
  },
  {
   "cell_type": "markdown",
   "metadata": {
    "slideshow": {
     "slide_type": "slide"
    }
   },
   "source": [
    "Then create a counter:"
   ]
  },
  {
   "cell_type": "code",
   "execution_count": 7,
   "metadata": {
    "slideshow": {
     "slide_type": "fragment"
    }
   },
   "outputs": [
    {
     "name": "stdout",
     "output_type": "stream",
     "text": [
      "Counter({7: 1644, 6: 1396, 8: 1358, 5: 1172, 9: 1125, 4: 826, 10: 777, 3: 612, 11: 541, 12: 300, 2: 249})\n"
     ]
    }
   ],
   "source": [
    "from collections import Counter\n",
    "\n",
    "print(Counter(sums))"
   ]
  },
  {
   "cell_type": "markdown",
   "metadata": {
    "slideshow": {
     "slide_type": "slide"
    }
   },
   "source": [
    "Then count the number of 6's and divide by the number of 6's and 7's:"
   ]
  },
  {
   "cell_type": "code",
   "execution_count": 23,
   "metadata": {
    "slideshow": {
     "slide_type": "fragment"
    }
   },
   "outputs": [
    {
     "name": "stdout",
     "output_type": "stream",
     "text": [
      "0.45921052631578946\n"
     ]
    }
   ],
   "source": [
    "sixes = Counter(sums)[6]\n",
    "total_games = Counter(sums)[6] + Counter(sums)[7]\n",
    "print(sixes/total_games)"
   ]
  },
  {
   "cell_type": "markdown",
   "metadata": {
    "slideshow": {
     "slide_type": "slide"
    }
   },
   "source": [
    "By the way...do I have to type the full \"total_games\" each time I want to use it?\n",
    "\n",
    "No. Type tot and then the tab key. It should autocomplete the rest of the word."
   ]
  },
  {
   "cell_type": "code",
   "execution_count": null,
   "metadata": {
    "collapsed": true,
    "slideshow": {
     "slide_type": "fragment"
    }
   },
   "outputs": [],
   "source": [
    "tot"
   ]
  },
  {
   "cell_type": "markdown",
   "metadata": {
    "slideshow": {
     "slide_type": "slide"
    }
   },
   "source": [
    "One cereal box solution:"
   ]
  },
  {
   "cell_type": "code",
   "execution_count": 4,
   "metadata": {
    "slideshow": {
     "slide_type": "fragment"
    }
   },
   "outputs": [
    {
     "name": "stdout",
     "output_type": "stream",
     "text": [
      "6.64182\n"
     ]
    }
   ],
   "source": [
    "import random\n",
    "boxes = ['Tiger', 'Tiger', 'Lance', 'Lance', 'Lance', 'Serena', 'Serena', 'Serena', 'Serena', 'Serena']\n",
    "boxes_count = []\n",
    "sims = 100000\n",
    "for i in range(sims):\n",
    "    count = 0\n",
    "    Serena, Tiger, Lance = False, False, False\n",
    "    while Serena == False or Tiger == False or Lance == False:\n",
    "        count = count + 1\n",
    "        box = random.choice(boxes)\n",
    "        if box == 'Serena':\n",
    "            Serena = True\n",
    "        if box == 'Tiger':\n",
    "            Tiger = True\n",
    "        if box == 'Lance':\n",
    "            Lance = True\n",
    "    boxes_count.append(count)\n",
    "print(sum(boxes_count)/sims)"
   ]
  },
  {
   "cell_type": "markdown",
   "metadata": {
    "slideshow": {
     "slide_type": "slide"
    }
   },
   "source": [
    "Another cereal box solution:"
   ]
  },
  {
   "cell_type": "code",
   "execution_count": 2,
   "metadata": {
    "slideshow": {
     "slide_type": "fragment"
    }
   },
   "outputs": [
    {
     "name": "stdout",
     "output_type": "stream",
     "text": [
      "6.6511\n"
     ]
    }
   ],
   "source": [
    "import random\n",
    "import numpy as np\n",
    "\n",
    "boxes_list = []\n",
    "for n in range(10000):\n",
    "    i = 0\n",
    "    tiger, lance, serena = 0,0,0\n",
    "    \n",
    "    while tiger == 0 or lance == 0 or serena == 0:\n",
    "        pic = random.randint(0,9)\n",
    "        if pic <=1:\n",
    "            tiger = tiger + 1\n",
    "        elif 2 <= pic <= 4:\n",
    "            lance = lance + 1\n",
    "        else:\n",
    "            serena = serena + 1\n",
    "        i = i + 1\n",
    "    boxes_list.append(i)\n",
    "\n",
    "print(np.mean(boxes_list))"
   ]
  },
  {
   "cell_type": "markdown",
   "metadata": {
    "slideshow": {
     "slide_type": "slide"
    }
   },
   "source": [
    "### Andrew Caglieris' Question\n",
    "In a company, there are 20 men and 10 women. Layoffs come and there are 5 men and 5 women that get laid off. Is this evidence of discrimination against women?"
   ]
  },
  {
   "cell_type": "markdown",
   "metadata": {
    "slideshow": {
     "slide_type": "slide"
    }
   },
   "source": [
    "First let's create our company:"
   ]
  },
  {
   "cell_type": "code",
   "execution_count": 3,
   "metadata": {},
   "outputs": [
    {
     "name": "stdout",
     "output_type": "stream",
     "text": [
      "['W', 'W', 'W', 'W', 'W', 'W', 'W', 'W', 'W', 'W', 'M', 'M', 'M', 'M', 'M', 'M', 'M', 'M', 'M', 'M', 'M', 'M', 'M', 'M', 'M', 'M', 'M', 'M', 'M', 'M']\n"
     ]
    }
   ],
   "source": [
    "import random\n",
    "import numpy as np\n",
    "\n",
    "company = []\n",
    "for i in range(30):\n",
    "    if i < 10:\n",
    "        company.append('W')\n",
    "    else:\n",
    "        company.append('M')\n",
    "\n",
    "print(company)"
   ]
  },
  {
   "cell_type": "markdown",
   "metadata": {
    "slideshow": {
     "slide_type": "slide"
    }
   },
   "source": [
    "Let's run the simulation 10000 times and figure out what percentage of women were laid off each time:"
   ]
  },
  {
   "cell_type": "code",
   "execution_count": 4,
   "metadata": {
    "slideshow": {
     "slide_type": "fragment"
    }
   },
   "outputs": [
    {
     "name": "stdout",
     "output_type": "stream",
     "text": [
      "first 20 sims [0.4, 0.4, 0.3, 0.0, 0.2, 0.2, 0.1, 0.1, 0.3, 0.3, 0.4, 0.3, 0.4, 0.5, 0.4, 0.4, 0.4, 0.4, 0.4, 0.5]\n"
     ]
    }
   ],
   "source": [
    "percent_women_laid_off = []\n",
    "\n",
    "nsims = 10000\n",
    "\n",
    "for i in range(nsims):\n",
    "    lay_offs = random.sample(company,10) #lay off 10 women\n",
    "    women_laid_off = lay_offs.count('W') #how many of those 10 were women?\n",
    "    percent_women_laid_off.append(women_laid_off/10) #what percentage of those 5 were women?10\n",
    "print('first 20 sims', percent_women_laid_off[0:20])"
   ]
  },
  {
   "cell_type": "markdown",
   "metadata": {
    "slideshow": {
     "slide_type": "slide"
    }
   },
   "source": [
    "What percentage of simulations resulted in women getting laid off at a percentage of 0.5 or higher?\n",
    "\n",
    "What percentage of simulations resulted in women getting laid off at a percentage of lower than 0.5?\n",
    "\n",
    "About 17% of the time, women get laid off at a higher percentage than their makeup in the company."
   ]
  },
  {
   "cell_type": "code",
   "execution_count": 5,
   "metadata": {
    "slideshow": {
     "slide_type": "fragment"
    }
   },
   "outputs": [
    {
     "name": "stdout",
     "output_type": "stream",
     "text": [
      "0.1706\n",
      "0.8294\n"
     ]
    }
   ],
   "source": [
    "print((percent_women_laid_off.count(0.5)\n",
    "    +percent_women_laid_off.count(0.6)\n",
    "    +percent_women_laid_off.count(0.7)\n",
    "    +percent_women_laid_off.count(0.8)\n",
    "    +percent_women_laid_off.count(0.9)\n",
    "    +percent_women_laid_off.count(1.0))/nsims)\n",
    "\n",
    "print((percent_women_laid_off.count(0.0)\n",
    "    +percent_women_laid_off.count(0.1)\n",
    "    +percent_women_laid_off.count(0.2)\n",
    "    +percent_women_laid_off.count(0.3)\n",
    "    +percent_women_laid_off.count(0.4))/nsims)"
   ]
  },
  {
   "cell_type": "markdown",
   "metadata": {
    "slideshow": {
     "slide_type": "slide"
    }
   },
   "source": [
    "To run a one-sided one prop z test: (warning - this isn't quite allowed as our sample size is too small!!!!)\n",
    "\n",
    "1.If you are on Google Colab, just run the cell below. If you are using Anaconda on your local computer, you will first install statsmodels by typing \"pip install statsmodels\" or \"conda install -c conda-forge statsmodels\" into your Terminal (Mac) or into your Anaconda Prompt (PC). Then run:"
   ]
  },
  {
   "cell_type": "code",
   "execution_count": 39,
   "metadata": {
    "slideshow": {
     "slide_type": "subslide"
    }
   },
   "outputs": [
    {
     "name": "stdout",
     "output_type": "stream",
     "text": [
      "0.14592027257189422\n"
     ]
    }
   ],
   "source": [
    "import numpy as np\n",
    "from statsmodels.stats.proportion import proportions_ztest\n",
    "\n",
    "stat, pval = proportions_ztest(5,10,1/3, alternative = 'larger')\n",
    "print(pval)"
   ]
  },
  {
   "cell_type": "markdown",
   "metadata": {
    "slideshow": {
     "slide_type": "subslide"
    }
   },
   "source": [
    "Since the p-value is greater than 0.05, we decide that there is not enough evidene to conclude that there is discrimination against women."
   ]
  }
 ],
 "metadata": {
  "celltoolbar": "Slideshow",
  "kernelspec": {
   "display_name": "Python 3",
   "language": "python",
   "name": "python3"
  },
  "language_info": {
   "codemirror_mode": {
    "name": "ipython",
    "version": 3
   },
   "file_extension": ".py",
   "mimetype": "text/x-python",
   "name": "python",
   "nbconvert_exporter": "python",
   "pygments_lexer": "ipython3",
   "version": "3.7.3"
  }
 },
 "nbformat": 4,
 "nbformat_minor": 2
}
