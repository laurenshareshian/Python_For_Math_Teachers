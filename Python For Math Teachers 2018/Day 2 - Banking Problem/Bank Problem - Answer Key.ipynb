{
 "cells": [
  {
   "cell_type": "code",
   "execution_count": 4,
   "metadata": {
    "collapsed": true
   },
   "outputs": [],
   "source": [
    "import math\n",
    "from random import randint\n",
    "import numpy as np"
   ]
  },
  {
   "cell_type": "markdown",
   "metadata": {},
   "source": [
    "0.Define a service time assigner and time between arrival assigner:"
   ]
  },
  {
   "cell_type": "code",
   "execution_count": 1,
   "metadata": {
    "collapsed": true
   },
   "outputs": [],
   "source": [
    "def service_time():\n",
    "    m=randint(0,99)                  \n",
    "    if m<=24:\n",
    "        return 1\n",
    "    elif 25<=m<=44:\n",
    "        return 2\n",
    "    elif 45<=m<=84:\n",
    "        return 3\n",
    "    else:\n",
    "        return 4\n",
    "    \n",
    "def arrival_between():\n",
    "    n=randint(0,99)                                         \n",
    "    if n<=9:\n",
    "        return 0\n",
    "    elif 10<=n<=24:\n",
    "        return 1\n",
    "    elif 25<=n<=34:\n",
    "        return 2\n",
    "    elif 35<=n<=69:\n",
    "        return 3\n",
    "    elif 70<=n<=94:\n",
    "        return 4\n",
    "    else:\n",
    "        return 5"
   ]
  },
  {
   "cell_type": "markdown",
   "metadata": {},
   "source": [
    "1.Create empty lists for each of the 150 customers’ arrival times, service times, help start, help end, and wait times."
   ]
  },
  {
   "cell_type": "code",
   "execution_count": 2,
   "metadata": {
    "collapsed": true
   },
   "outputs": [],
   "source": [
    "#insert 1 here\n",
    "people=150 #people at the bank each day\n",
    "arrival=[] #arrival time\n",
    "service=[] #service time\n",
    "helpstart=[] #help start time\n",
    "helpend=[] #help end time\n",
    "waittime=[] #wait time"
   ]
  },
  {
   "cell_type": "markdown",
   "metadata": {},
   "source": [
    "2.Assume the first person arrives when the bank opens at t=0. Assign the first customer their arrival time, random service time, help start, help end, and wait time in each list. \n",
    "\n",
    "Hint 1: Use .append\n",
    "\n",
    "Hint 2: For the random service time, you may want to refer back to the unfair die example in the craps notebook."
   ]
  },
  {
   "cell_type": "code",
   "execution_count": 5,
   "metadata": {
    "collapsed": true
   },
   "outputs": [],
   "source": [
    "#insert 2\n",
    "arrival.append(0) #assume the customer arrives when the bank opens\n",
    "helpstart.append(0)#the customer gets helped right away at time t=0\n",
    "waittime.append(0)#the first customer did not have to wait at all\n",
    "service.append(service_time()) #assign first customer a service time\n",
    "helpend.append(service[0]) #the customer finishes after their service time is over    "
   ]
  },
  {
   "cell_type": "markdown",
   "metadata": {},
   "source": [
    "3.Give all of the other customers their random service times.\n",
    "\n",
    "Hint: You'll want to use a for loop."
   ]
  },
  {
   "cell_type": "code",
   "execution_count": 7,
   "metadata": {
    "collapsed": true
   },
   "outputs": [],
   "source": [
    "for person in range(1,people): #you already gave the first person their values so start at 1 not 0      \n",
    "    service.append(service_time())"
   ]
  },
  {
   "cell_type": "markdown",
   "metadata": {},
   "source": [
    "4.Give all of the other customers their random times between arrivals.\n",
    "\n",
    "Hint: You'll want to use a for loop and once again refer back to the unfair die example."
   ]
  },
  {
   "cell_type": "code",
   "execution_count": 8,
   "metadata": {
    "collapsed": true
   },
   "outputs": [],
   "source": [
    "for person in range(1,people): #you already gave the first person their values so start at 1 not 0\n",
    "# a person's arrival time is going to be obtained from adding the\n",
    "# last person's arrival time to the random time between arrivals\n",
    "    arrival.append(arrival_between()+arrival[person-1])"
   ]
  },
  {
   "cell_type": "markdown",
   "metadata": {},
   "source": [
    "5.Update each customer’s help start, help end, and wait times. You will need to update differently depending on whether the next customer arrived before or after the last person’s service finished. \n",
    "\n",
    "Hint: You will need an if/else statement within a for loop."
   ]
  },
  {
   "cell_type": "code",
   "execution_count": 9,
   "metadata": {
    "collapsed": true
   },
   "outputs": [],
   "source": [
    "for person in range(1,people):                              #you already serviced the first person so start at 1 not 0\n",
    "    if arrival[person]>=helpend[person-1]:                  #if the next customer arrives after the last customer is finished, \n",
    "        helpstart.append(arrival[person])                   #then the next customer gets helped right away as soon as they arrive       \n",
    "        helpend.append(helpstart[person]+service[person])   #and his/her end time is their arrival time plus their service time\n",
    "        waittime.append(0)                                  #and they didn't have to wait at all\n",
    "    else:                                                   #if the next customer arrives before the last customer is finished,\n",
    "        helpstart.append(helpend[person-1])                 #then the next customer gets helped when the customer before he/she finishes\n",
    "        helpend.append(helpstart[person]+service[person])   #and his/her end time is their service time plus when they started getting helped\n",
    "        waittime.append(helpstart[person]-arrival[person])  #and they had to wait the difference between when they arrived and were helped"
   ]
  },
  {
   "cell_type": "markdown",
   "metadata": {},
   "source": [
    "6.Calculate the average wait time on this day.\n",
    "\n",
    "Hint: if you import numpy then you can use np.mean(wait_time)."
   ]
  },
  {
   "cell_type": "code",
   "execution_count": 12,
   "metadata": {},
   "outputs": [
    {
     "name": "stdout",
     "output_type": "stream",
     "text": [
      "average wait time =  0.9801324503311258\n"
     ]
    }
   ],
   "source": [
    "print('average wait time = ', np.mean(waittime))"
   ]
  },
  {
   "cell_type": "markdown",
   "metadata": {},
   "source": [
    "7.Simulate 10,000 days to calculate the average wait time.\n",
    "\n",
    "Hint 1: you'll need an outer loop (corresponding to each day) with all of the previous stuff inside it. \n",
    "\n",
    "Hint 2: Make sure to clear the lists each time you start a new day by setting them equal to empty brackets (ex: wait_time = []). \n",
    "\n",
    "Hint 3: Create an additional list called total_waittime that keeps track of each day's wait time and then you can find the average of this list at the very end.\n",
    "\n",
    "Hint 4: The answer should be approximately 4.9 mins.\n"
   ]
  },
  {
   "cell_type": "code",
   "execution_count": 13,
   "metadata": {},
   "outputs": [
    {
     "name": "stdout",
     "output_type": "stream",
     "text": [
      "average wait time =  4.9626019999999995\n"
     ]
    }
   ],
   "source": [
    "days = 10000\n",
    "people=150 #people at the bank each day\n",
    "total_waittime = []\n",
    "\n",
    "for day in range(days):\n",
    "    \n",
    "    #you need to clear these lists for each new day\n",
    "    arrival=[] #arrival time\n",
    "    service=[] #service time\n",
    "    helpstart=[] #help start time\n",
    "    helpend=[] #help end time\n",
    "    waittime=[] #wait time\n",
    "    \n",
    "    #-----------------------------------\n",
    "    # give the very first customer his/her arrival and service time\n",
    "    #-----------------------------------\n",
    "    arrival.append(0) #the customer arrives when the bank opens\n",
    "    helpstart.append(0)#the customer gets helped right away at time t=0\n",
    "    waittime.append(0)#the first customer did not have to wait at all\n",
    "    service.append(service_time()) #randomly assign first customer service time                                    \n",
    "    helpend.append(service[0]) #the customer finishes after their service time is over  \n",
    "    \n",
    "    #-----------------------------------\n",
    "    #give all of the other customers arrival and service times\n",
    "    #-----------------------------------\n",
    "    for person in range(1,people):\n",
    "    #-----------------------------------\n",
    "    #set up arrival time probabilities:\n",
    "    #-----------------------------------\n",
    "        arrival.append(arrival_between()+arrival[person-1])\n",
    "    #-----------------------------------\n",
    "    #set up service time probabilities:\n",
    "    #-----------------------------------        \n",
    "        service.append(service_time())\n",
    "    #-----------------------------------\n",
    "    #service all of the other customers\n",
    "    #-----------------------------------\n",
    "    for person in range(1,people):\n",
    "        if arrival[person]>=helpend[person-1]:                  #if the next customer arrives after the last customer is finished, \n",
    "            helpstart.append(arrival[person])                   #then the next customer gets helped right away       \n",
    "            helpend.append(helpstart[person]+service[person])   #and his/her end time is their arrival time plus their service time\n",
    "            waittime.append(0)                                  #and they didn't have to wait at all\n",
    "        else:                                                   #if the next customer arrives before the last customer is finished,\n",
    "            helpstart.append(helpend[person-1])                 #then the next customer gets helped when the customer before he/her finishes\n",
    "            helpend.append(helpstart[person]+service[person])   #and his/her end time is their service time plus when they started getting helped\n",
    "            waittime.append(helpstart[person]-arrival[person])  #and they had to wait the difference between when the arrived and were helped\n",
    "\n",
    "    total_waittime.append(sum(waittime)/len(waittime))\n",
    "    \n",
    "print('average wait time = ', np.mean(total_waittime))\n"
   ]
  },
  {
   "cell_type": "markdown",
   "metadata": {},
   "source": [
    "8.What was the longest wait time?\n",
    "\n",
    "Hint: max is a built-in function for lists"
   ]
  },
  {
   "cell_type": "code",
   "execution_count": 14,
   "metadata": {},
   "outputs": [
    {
     "data": {
      "text/plain": [
       "33.22"
      ]
     },
     "execution_count": 14,
     "metadata": {},
     "output_type": "execute_result"
    }
   ],
   "source": [
    "max(total_waittime)"
   ]
  },
  {
   "cell_type": "markdown",
   "metadata": {},
   "source": [
    "9.Plot the day versus the day's wait time.\n",
    "\n",
    "Hint: You can make a list of 10,000 days quickly using the range function."
   ]
  },
  {
   "cell_type": "code",
   "execution_count": 15,
   "metadata": {},
   "outputs": [
    {
     "data": {
      "text/plain": [
       "[<matplotlib.lines.Line2D at 0x110f18470>]"
      ]
     },
     "execution_count": 15,
     "metadata": {},
     "output_type": "execute_result"
    },
    {
     "data": {
      "image/png": "[encoded data removed]",
      "text/plain": [
       "<matplotlib.figure.Figure at 0x10ff617f0>"
      ]
     },
     "metadata": {},
     "output_type": "display_data"
    }
   ],
   "source": [
    "days = range(10000)\n",
    "import matplotlib.pyplot as plt\n",
    "%matplotlib inline\n",
    "\n",
    "plt.plot(days, total_waittime,'.')"
   ]
  },
  {
   "cell_type": "markdown",
   "metadata": {},
   "source": [
    "10.Play around with changing the probability distributions for service time and time between arrivals until your average wait time is less than 2 minutes."
   ]
  },
  {
   "cell_type": "markdown",
   "metadata": {},
   "source": [
    "### One possible solutions for getting wait times under 2 mins:\n",
    "Reducing 4 min service times to 3 mins reduces to the average wait time to 2.6.\n",
    "\n",
    "How could we reduce these service times? Train the staff better of perhaps do these longer transactions online.\n",
    "\n",
    "In addition, increasing 0 min between arrivals to 1 min reduces the average wait time further to 1.6.\n",
    "\n",
    "How could we make sure that no two people get in line at the same time? Maybe set up a coffee station to distract people for a minute.\n",
    "\n",
    "We change the arrival and service time probabilities in the cell below to reflect these changes:"
   ]
  },
  {
   "cell_type": "code",
   "execution_count": 23,
   "metadata": {
    "collapsed": true
   },
   "outputs": [],
   "source": [
    "def service_time():\n",
    "    m=randint(0,99)                  \n",
    "    if m<=24:\n",
    "        return 1\n",
    "    elif 25<=m<=44:\n",
    "        return 2\n",
    "    else:\n",
    "        return 3\n",
    "    \n",
    "def arrival_between():\n",
    "    n=randint(0,99)  \n",
    "    if n<=24:\n",
    "        return 1\n",
    "    elif 25<=n<=34:\n",
    "        return 2\n",
    "    elif 35<=n<=69:\n",
    "        return 3\n",
    "    elif 70<=n<=94:\n",
    "        return 4\n",
    "    else:\n",
    "        return 5"
   ]
  },
  {
   "cell_type": "code",
   "execution_count": 24,
   "metadata": {},
   "outputs": [
    {
     "name": "stdout",
     "output_type": "stream",
     "text": [
      "average wait time =  1.5708113333333336\n"
     ]
    }
   ],
   "source": [
    "days = 10000\n",
    "people=150 #people at the bank each day\n",
    "total_waittime = []\n",
    "\n",
    "for day in range(days):\n",
    "    \n",
    "    #you need to clear these lists for each new day\n",
    "    arrival=[] #arrival time\n",
    "    service=[] #service time\n",
    "    helpstart=[] #help start time\n",
    "    helpend=[] #help end time\n",
    "    waittime=[] #wait time\n",
    "    \n",
    "    #-----------------------------------\n",
    "    # give the very first customer his/her arrival and service time\n",
    "    #-----------------------------------\n",
    "    arrival.append(0) #the customer arrives when the bank opens\n",
    "    helpstart.append(0)#the customer gets helped right away at time t=0\n",
    "    waittime.append(0)#the first customer did not have to wait at all\n",
    "    service.append(service_time()) #randomly assign first customer service time                                    \n",
    "    helpend.append(service[0]) #the customer finishes after their service time is over  \n",
    "    \n",
    "    #-----------------------------------\n",
    "    #give all of the other customers arrival and service times\n",
    "    #-----------------------------------\n",
    "    for person in range(1,people):\n",
    "    #-----------------------------------\n",
    "    #set up arrival time probabilities:\n",
    "    #-----------------------------------\n",
    "        arrival.append(arrival_between()+arrival[person-1])\n",
    "    #-----------------------------------\n",
    "    #set up service time probabilities:\n",
    "    #-----------------------------------        \n",
    "        service.append(service_time())\n",
    "    #-----------------------------------\n",
    "    #service all of the other customers\n",
    "    #-----------------------------------\n",
    "    for person in range(1,people):\n",
    "        if arrival[person]>=helpend[person-1]:                  #if the next customer arrives after the last customer is finished, \n",
    "            helpstart.append(arrival[person])                   #then the next customer gets helped right away       \n",
    "            helpend.append(helpstart[person]+service[person])   #and his/her end time is their arrival time plus their service time\n",
    "            waittime.append(0)                                  #and they didn't have to wait at all\n",
    "        else:                                                   #if the next customer arrives before the last customer is finished,\n",
    "            helpstart.append(helpend[person-1])                 #then the next customer gets helped when the customer before he/her finishes\n",
    "            helpend.append(helpstart[person]+service[person])   #and his/her end time is their service time plus when they started getting helped\n",
    "            waittime.append(helpstart[person]-arrival[person])  #and they had to wait the difference between when the arrived and were helped\n",
    "\n",
    "    total_waittime.append(sum(waittime)/len(waittime))\n",
    "    \n",
    "print('average wait time = ', np.mean(total_waittime))\n"
   ]
  },
  {
   "cell_type": "code",
   "execution_count": null,
   "metadata": {
    "collapsed": true
   },
   "outputs": [],
   "source": []
  }
 ],
 "metadata": {
  "kernelspec": {
   "display_name": "Python 3",
   "language": "python",
   "name": "python3"
  },
  "language_info": {
   "codemirror_mode": {
    "name": "ipython",
    "version": 3
   },
   "file_extension": ".py",
   "mimetype": "text/x-python",
   "name": "python",
   "nbconvert_exporter": "python",
   "pygments_lexer": "ipython3",
   "version": "3.7.3"
  }
 },
 "nbformat": 4,
 "nbformat_minor": 2
}
