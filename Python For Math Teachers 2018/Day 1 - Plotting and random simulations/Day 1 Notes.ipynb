{
 "cells": [
  {
   "cell_type": "markdown",
   "metadata": {
    "slideshow": {
     "slide_type": "slide"
    }
   },
   "source": [
    "### Day 1 Notes "
   ]
  },
  {
   "cell_type": "markdown",
   "metadata": {
    "slideshow": {
     "slide_type": "slide"
    }
   },
   "source": [
    "### What the heck is a Jupyter Notebook?\n",
    "\n",
    "It's is an open-source **web application** that allows you to create and share documents that contain **live code** and **narrative text**.\n",
    "\n",
    "The Notebook has support for **multiple languages**, including Python, R, and Scala.\n",
    "\n",
    "Your code can produce HTML, images, videos, **LaTeX**, etc.\n",
    "\n",
    "If you want to work with a Jupyter Notebook on your local machine, you can use **Anaconda**. If you want to work with it on the web, you can use Google's Colaboratory or **www.cocalc.com**."
   ]
  },
  {
   "cell_type": "markdown",
   "metadata": {
    "slideshow": {
     "slide_type": "slide"
    }
   },
   "source": [
    "### If you want to be able to use Jupyter Notebooks in a slide show:\n",
    "\n",
    "https://github.com/damianavila/RISE\n",
    "    "
   ]
  },
  {
   "cell_type": "markdown",
   "metadata": {
    "slideshow": {
     "slide_type": "slide"
    }
   },
   "source": [
    "### Shortcuts for using Jupyter Notebooks\n",
    "\n",
    "1. Type \"jupyter notebook\" in Terminal on a Mac (under Applications - Utilities) or in Anaconda Prompt on Windows.\n",
    "\n",
    "2. To run code, rather than pressing play, you can type Control - Enter\n",
    "\n",
    "3. To comment out code, rather than putting a hashtag on each line, you can highlight the code you want to hide and type Control - /\n",
    "\n",
    "4. Toggle back between \"Markdown\" and \"Code\" to switch from writing code to writing text."
   ]
  },
  {
   "cell_type": "markdown",
   "metadata": {
    "slideshow": {
     "slide_type": "slide"
    }
   },
   "source": [
    "### The Geom Alg Precal Calc worksheet\n",
    "- located in Day 0\n",
    "- peruse at your leisure or in class, answer key available\n",
    "- these are some of the problems integrated into Lakeside Academy's math curriculum\n",
    "\n",
    "\"Since 2015, computer science concepts and principles have been embedded in the math curriculum, reflecting Lakeside’s belief that programming is an important 21st-century skill.\"\n"
   ]
  },
  {
   "cell_type": "markdown",
   "metadata": {
    "slideshow": {
     "slide_type": "slide"
    }
   },
   "source": [
    "### Packages today\n",
    "\n",
    "One of the reasons why Python is so great for math is because it comes with many readily available packages.\n",
    "\n",
    "1.itertools (permutations, combinations)\n",
    "\n",
    "2.collections (frequency tables)\n",
    "\n",
    "3.matplotlib (plotting)\n",
    "\n",
    "4.math (simple math stuff like square root, factorial, etc.)\n",
    "\n",
    "5.numpy (more advanced math stuff including math functions and arrays)\n",
    "\n",
    "6.random (generating random stuff)\n"
   ]
  },
  {
   "cell_type": "markdown",
   "metadata": {
    "slideshow": {
     "slide_type": "slide"
    }
   },
   "source": [
    "### Handshake problem\n",
    "In a room of n people, how many different handshakes are possible? \n",
    "\n",
    "Analytically: \n",
    "\n",
    "This is a combinations problem.\n",
    "\n",
    "## $C(n,k) = \\frac{n!}{(n-k)! k!} = \\frac{n(n-1)}{k}$\n",
    "\n",
    "So for $k=2$:\n",
    "\n",
    "## $C(n,2) = \\frac{n!}{(n-2)! 2!} = \\frac{n(n-1)}{2}$\n",
    "\n",
    "Python does this easily!\n"
   ]
  },
  {
   "cell_type": "code",
   "execution_count": 2,
   "metadata": {
    "slideshow": {
     "slide_type": "slide"
    }
   },
   "outputs": [
    {
     "name": "stdout",
     "output_type": "stream",
     "text": [
      "('Aaron', 'John')\n",
      "('Aaron', 'Betsy')\n",
      "('Aaron', 'Steve')\n",
      "('John', 'Betsy')\n",
      "('John', 'Steve')\n",
      "('Betsy', 'Steve')\n",
      "number of handshakes 6\n"
     ]
    }
   ],
   "source": [
    "from itertools import combinations\n",
    "\n",
    "handshakes = list(combinations(['Aaron','John','Betsy', 'Steve'],2))\n",
    "\n",
    "for handshake in handshakes:\n",
    "    print(handshake)\n",
    "    \n",
    "print('number of handshakes', len(handshakes))"
   ]
  },
  {
   "cell_type": "markdown",
   "metadata": {
    "slideshow": {
     "slide_type": "slide"
    }
   },
   "source": [
    "To be more general about it, we could use a general n people:"
   ]
  },
  {
   "cell_type": "code",
   "execution_count": 5,
   "metadata": {
    "slideshow": {
     "slide_type": "fragment"
    }
   },
   "outputs": [
    {
     "name": "stdout",
     "output_type": "stream",
     "text": [
      "number of handshakes 190\n"
     ]
    }
   ],
   "source": [
    "from itertools import combinations\n",
    "\n",
    "n=20\n",
    "people = list(range(n))\n",
    "\n",
    "handshakes = list(combinations(people,2))\n",
    "    \n",
    "print('number of handshakes', len(handshakes))"
   ]
  },
  {
   "cell_type": "markdown",
   "metadata": {
    "slideshow": {
     "slide_type": "slide"
    }
   },
   "source": [
    "Of course, we can also obtain this using the factorial formula:\n",
    "\n",
    "## $C(n,2) = \\frac{n!}{(n-2)! 2!} = \\frac{n(n-1)}{2}$\n"
   ]
  },
  {
   "cell_type": "code",
   "execution_count": 7,
   "metadata": {
    "slideshow": {
     "slide_type": "fragment"
    }
   },
   "outputs": [
    {
     "data": {
      "text/plain": [
       "190.0"
      ]
     },
     "execution_count": 7,
     "metadata": {},
     "output_type": "execute_result"
    }
   ],
   "source": [
    "import math\n",
    "\n",
    "math.factorial(20)/(math.factorial(2)*math.factorial(20-2))"
   ]
  },
  {
   "cell_type": "markdown",
   "metadata": {
    "slideshow": {
     "slide_type": "slide"
    }
   },
   "source": [
    "How many unique 7 digit license plates can be made out of A,B,C,D,1,2,3,4?\n",
    "\n",
    "This is a permutations problem.\n",
    "\n",
    "### $P(n,k) = \\frac{n!}{(n-k)!}$\n",
    "\n",
    "$P(8,7) = \\frac{8!}{(8-7)!} = \\frac{8!}{1!} = 40320.$\n",
    "\n",
    "Python can do this easily, too."
   ]
  },
  {
   "cell_type": "code",
   "execution_count": 12,
   "metadata": {
    "slideshow": {
     "slide_type": "slide"
    }
   },
   "outputs": [
    {
     "name": "stdout",
     "output_type": "stream",
     "text": [
      "40320\n"
     ]
    }
   ],
   "source": [
    "from itertools import permutations\n",
    "\n",
    "licenses = list(permutations(['A','B','C','D','1','2','3','4'],7))\n",
    "    \n",
    "print(len(licenses))"
   ]
  },
  {
   "cell_type": "markdown",
   "metadata": {
    "slideshow": {
     "slide_type": "slide"
    }
   },
   "source": [
    "Of course, we can also obtain this using the factorial formula:\n",
    "\n",
    "### $P(n,k) = \\frac{n!}{(n-k)!}$"
   ]
  },
  {
   "cell_type": "code",
   "execution_count": 12,
   "metadata": {
    "slideshow": {
     "slide_type": "fragment"
    }
   },
   "outputs": [
    {
     "data": {
      "text/plain": [
       "40320.0"
      ]
     },
     "execution_count": 12,
     "metadata": {},
     "output_type": "execute_result"
    }
   ],
   "source": [
    "import math\n",
    "math.factorial(8)/math.factorial(8-7)"
   ]
  },
  {
   "cell_type": "markdown",
   "metadata": {
    "slideshow": {
     "slide_type": "slide"
    }
   },
   "source": [
    "We can also use the collections package to create frequency charts."
   ]
  },
  {
   "cell_type": "code",
   "execution_count": 4,
   "metadata": {
    "slideshow": {
     "slide_type": "fragment"
    }
   },
   "outputs": [
    {
     "data": {
      "text/plain": [
       "Counter({'bulldog': 2,\n",
       "         'corgie': 3,\n",
       "         'lab': 4,\n",
       "         'mutt': 1,\n",
       "         'pit': 1,\n",
       "         'retriever': 1})"
      ]
     },
     "execution_count": 4,
     "metadata": {},
     "output_type": "execute_result"
    }
   ],
   "source": [
    "from collections import Counter\n",
    "\n",
    "dogs = ['lab', 'lab', 'mutt', 'corgie', 'lab', 'corgie', 'pit', 'corgie', 'bulldog', 'lab', 'bulldog', 'retriever']\n",
    "\n",
    "Counter(dogs)\n"
   ]
  },
  {
   "cell_type": "markdown",
   "metadata": {
    "slideshow": {
     "slide_type": "slide"
    }
   },
   "source": [
    "In decending order of frequency:"
   ]
  },
  {
   "cell_type": "code",
   "execution_count": 11,
   "metadata": {
    "slideshow": {
     "slide_type": "fragment"
    }
   },
   "outputs": [
    {
     "data": {
      "text/plain": [
       "[('lab', 4),\n",
       " ('corgie', 3),\n",
       " ('bulldog', 2),\n",
       " ('mutt', 1),\n",
       " ('pit', 1),\n",
       " ('retriever', 1)]"
      ]
     },
     "execution_count": 11,
     "metadata": {},
     "output_type": "execute_result"
    }
   ],
   "source": [
    "Counter(dogs).most_common()"
   ]
  },
  {
   "cell_type": "markdown",
   "metadata": {
    "slideshow": {
     "slide_type": "slide"
    }
   },
   "source": [
    "The matplotlib package\n",
    "---\n",
    "<a class=\"anchor\" id=\"matplotlib\"></a>\n",
    "\n",
    "The matplotlib package allows us to make graphs.\n",
    "\n",
    "Suppose we want to plot the points (0,0), (1,1), (4,2), and (9,3) from the square root function. We could type:"
   ]
  },
  {
   "cell_type": "code",
   "execution_count": 8,
   "metadata": {
    "slideshow": {
     "slide_type": "slide"
    }
   },
   "outputs": [
    {
     "data": {
      "text/plain": [
       "[<matplotlib.lines.Line2D at 0x11a5283c8>]"
      ]
     },
     "execution_count": 8,
     "metadata": {},
     "output_type": "execute_result"
    },
    {
     "data": {
      "image/png": "[encoded data removed]",
      "text/plain": [
       "<Figure size 432x288 with 1 Axes>"
      ]
     },
     "metadata": {
      "needs_background": "light"
     },
     "output_type": "display_data"
    }
   ],
   "source": [
    "import matplotlib.pyplot as plt\n",
    "%matplotlib inline\n",
    "\n",
    "plt.plot([0,1,4,9],[0,1,2,3],'.')"
   ]
  },
  {
   "cell_type": "markdown",
   "metadata": {
    "slideshow": {
     "slide_type": "slide"
    }
   },
   "source": [
    "If we wanted to plot them with lines, we could get rid of that last \".\" argument:"
   ]
  },
  {
   "cell_type": "code",
   "execution_count": 1,
   "metadata": {
    "slideshow": {
     "slide_type": "fragment"
    }
   },
   "outputs": [
    {
     "data": {
      "image/png": "[encoded data removed]",
      "text/plain": [
       "<Figure size 432x288 with 1 Axes>"
      ]
     },
     "metadata": {
      "needs_background": "light"
     },
     "output_type": "display_data"
    }
   ],
   "source": [
    "import matplotlib.pyplot as plt\n",
    "%matplotlib inline\n",
    "\n",
    "plt.plot([0,1,4,9],[0,1,2,3]);"
   ]
  },
  {
   "cell_type": "markdown",
   "metadata": {
    "slideshow": {
     "slide_type": "slide"
    }
   },
   "source": [
    "As always, graphs should be well labeled. We can add an x label, a y label, and a title using the following code:"
   ]
  },
  {
   "cell_type": "code",
   "execution_count": 22,
   "metadata": {
    "slideshow": {
     "slide_type": "fragment"
    }
   },
   "outputs": [
    {
     "data": {
      "image/png": "[encoded data removed]",
      "text/plain": [
       "<matplotlib.figure.Figure at 0x107d7a438>"
      ]
     },
     "metadata": {},
     "output_type": "display_data"
    }
   ],
   "source": [
    "import matplotlib.pyplot as plt\n",
    "%matplotlib inline\n",
    "\n",
    "plt.plot([0,1,4,9],[0,1,2,3],'.');\n",
    "plt.xlabel('x');\n",
    "plt.ylabel('y');\n",
    "plt.title('points on square root function');"
   ]
  },
  {
   "cell_type": "markdown",
   "metadata": {
    "slideshow": {
     "slide_type": "slide"
    }
   },
   "source": [
    "Rather than type in the x coordinates manually, we can use the Python package numpy to create arrays of the x values.\n",
    "\n",
    "x = np.arange(0,10.5,0.5) will list all of the x-values between 0 and 10, inclusive, with a step size of 0.5. "
   ]
  },
  {
   "cell_type": "code",
   "execution_count": 26,
   "metadata": {
    "slideshow": {
     "slide_type": "fragment"
    }
   },
   "outputs": [
    {
     "data": {
      "image/png": "[encoded data removed]",
      "text/plain": [
       "<matplotlib.figure.Figure at 0x107c589e8>"
      ]
     },
     "metadata": {},
     "output_type": "display_data"
    }
   ],
   "source": [
    "import matplotlib.pyplot as plt\n",
    "%matplotlib inline\n",
    "import numpy as np\n",
    "\n",
    "x = np.arange(0,10.5,0.5)\n",
    "y=np.sqrt(x)\n",
    "plt.plot(x,y,'.');"
   ]
  },
  {
   "cell_type": "markdown",
   "metadata": {
    "slideshow": {
     "slide_type": "slide"
    }
   },
   "source": [
    "If we wanted to plot the cosine function between -pi and pi with a step size of 0.1, we could type:"
   ]
  },
  {
   "cell_type": "code",
   "execution_count": 32,
   "metadata": {
    "slideshow": {
     "slide_type": "fragment"
    }
   },
   "outputs": [
    {
     "data": {
      "image/png": "[encoded data removed]",
      "text/plain": [
       "<matplotlib.figure.Figure at 0x107fb5fd0>"
      ]
     },
     "metadata": {},
     "output_type": "display_data"
    }
   ],
   "source": [
    "import matplotlib.pyplot as plt\n",
    "%matplotlib inline\n",
    "import numpy as np\n",
    "\n",
    "x = np.arange(-np.pi,np.pi+0.1,0.1)\n",
    "y=np.cos(x)\n",
    "plt.plot(x,y,'.');"
   ]
  },
  {
   "cell_type": "markdown",
   "metadata": {
    "slideshow": {
     "slide_type": "slide"
    }
   },
   "source": [
    "We can also plot multiple graphs at once. Suppose I wanted to plot cosine and sine in red and blue. I could type:"
   ]
  },
  {
   "cell_type": "code",
   "execution_count": 5,
   "metadata": {
    "slideshow": {
     "slide_type": "fragment"
    }
   },
   "outputs": [
    {
     "data": {
      "image/png": "[encoded data removed]",
      "text/plain": [
       "<matplotlib.figure.Figure at 0x10d0bcf60>"
      ]
     },
     "metadata": {},
     "output_type": "display_data"
    }
   ],
   "source": [
    "import matplotlib.pyplot as plt\n",
    "%matplotlib inline\n",
    "import numpy as np\n",
    "\n",
    "x = np.arange(-np.pi,np.pi+0.1,0.1)\n",
    "y1=np.cos(x)\n",
    "y2=np.sin(x)\n",
    "plt.plot(x,y1,'r.',x,y2,'b.')"
   ]
  },
  {
   "cell_type": "markdown",
   "metadata": {
    "slideshow": {
     "slide_type": "slide"
    }
   },
   "source": [
    "I could also make the same plot by typing the plot command twice instead of separating the functions with commas:"
   ]
  },
  {
   "cell_type": "code",
   "execution_count": 34,
   "metadata": {
    "slideshow": {
     "slide_type": "fragment"
    }
   },
   "outputs": [
    {
     "data": {
      "text/plain": [
       "[<matplotlib.lines.Line2D at 0x1083cb588>]"
      ]
     },
     "execution_count": 34,
     "metadata": {},
     "output_type": "execute_result"
    },
    {
     "data": {
      "image/png": "[encoded data removed]",
      "text/plain": [
       "<matplotlib.figure.Figure at 0x1083cb3c8>"
      ]
     },
     "metadata": {},
     "output_type": "display_data"
    }
   ],
   "source": [
    "import matplotlib.pyplot as plt\n",
    "%matplotlib inline\n",
    "import numpy as np\n",
    "\n",
    "x = np.arange(-np.pi,np.pi+0.1,0.1)\n",
    "plt.plot(x,np.cos(x),'r.')\n",
    "plt.plot(x,np.sin(x),'b.')"
   ]
  },
  {
   "cell_type": "markdown",
   "metadata": {
    "slideshow": {
     "slide_type": "slide"
    }
   },
   "source": [
    "Suppose you want to change your viewing window so that you plot x in the range [-pi/2, pi/2] and y in the range [-1,1]. You could type:"
   ]
  },
  {
   "cell_type": "code",
   "execution_count": 132,
   "metadata": {
    "slideshow": {
     "slide_type": "fragment"
    }
   },
   "outputs": [
    {
     "data": {
      "text/plain": [
       "[-1.5707963267948966, 1.5707963267948966, -1, 1]"
      ]
     },
     "execution_count": 132,
     "metadata": {},
     "output_type": "execute_result"
    },
    {
     "data": {
      "image/png": "[encoded data removed]",
      "text/plain": [
       "<matplotlib.figure.Figure at 0x1097556a0>"
      ]
     },
     "metadata": {},
     "output_type": "display_data"
    }
   ],
   "source": [
    "import matplotlib.pyplot as plt\n",
    "%matplotlib inline\n",
    "import numpy as np\n",
    "\n",
    "x = np.arange(-np.pi,np.pi+0.1,0.1)\n",
    "y1=np.cos(x)\n",
    "y2=np.sin(x)\n",
    "plt.plot(x,y1,'r.',x,y2,'b.')\n",
    "plt.axis([-np.pi/2, np.pi/2, -1,1]) #specify xmin and xmax and ymin and ymax\n",
    "#plt.xlim(-1.5, 1.5) #if you want to just specify the xmin and xmax"
   ]
  },
  {
   "cell_type": "markdown",
   "metadata": {
    "slideshow": {
     "slide_type": "slide"
    }
   },
   "source": [
    "HW Hint: On the Ambiguous case geometry problem in the Geo Alg Precal Calc file, you'll need np.sin and np.pi/180 (to convert from degrees to radians)!"
   ]
  },
  {
   "cell_type": "markdown",
   "metadata": {
    "slideshow": {
     "slide_type": "slide"
    }
   },
   "source": [
    "### Random Numbers\n",
    "\n",
    "To generate a random number between 0 and 1, we can use the random package:"
   ]
  },
  {
   "cell_type": "code",
   "execution_count": 49,
   "metadata": {
    "slideshow": {
     "slide_type": "fragment"
    }
   },
   "outputs": [
    {
     "name": "stdout",
     "output_type": "stream",
     "text": [
      "0.9262042468236379\n"
     ]
    }
   ],
   "source": [
    "import random\n",
    "\n",
    "print(random.random())"
   ]
  },
  {
   "cell_type": "markdown",
   "metadata": {
    "slideshow": {
     "slide_type": "slide"
    }
   },
   "source": [
    "To generate five random numbers, we could create a loop:"
   ]
  },
  {
   "cell_type": "code",
   "execution_count": 50,
   "metadata": {
    "slideshow": {
     "slide_type": "fragment"
    }
   },
   "outputs": [
    {
     "name": "stdout",
     "output_type": "stream",
     "text": [
      "0.9773801059217986\n",
      "0.8566293690014871\n",
      "0.04960240994820575\n",
      "0.776004601458054\n",
      "0.1772048375512949\n"
     ]
    }
   ],
   "source": [
    "import random\n",
    "\n",
    "for i in range(5):\n",
    "    print(random.random())"
   ]
  },
  {
   "cell_type": "markdown",
   "metadata": {
    "slideshow": {
     "slide_type": "slide"
    }
   },
   "source": [
    "To simulate five rolls of a die between 1 and 6, inclusive, type:"
   ]
  },
  {
   "cell_type": "code",
   "execution_count": 59,
   "metadata": {
    "slideshow": {
     "slide_type": "fragment"
    }
   },
   "outputs": [
    {
     "name": "stdout",
     "output_type": "stream",
     "text": [
      "6\n",
      "3\n",
      "6\n",
      "6\n",
      "3\n"
     ]
    }
   ],
   "source": [
    "import random\n",
    "\n",
    "for i in range(5):\n",
    "    print(random.randint(1,6))"
   ]
  },
  {
   "cell_type": "markdown",
   "metadata": {
    "slideshow": {
     "slide_type": "slide"
    }
   },
   "source": [
    "We can also use the random function to pick random elements from a list:"
   ]
  },
  {
   "cell_type": "code",
   "execution_count": 66,
   "metadata": {
    "slideshow": {
     "slide_type": "fragment"
    }
   },
   "outputs": [
    {
     "name": "stdout",
     "output_type": "stream",
     "text": [
      "Jack\n"
     ]
    }
   ],
   "source": [
    "import random\n",
    "students = ['Jack', 'Abby', 'Mary', 'Peter', \"Stella\"]\n",
    "print(random.choice(students))\n"
   ]
  },
  {
   "cell_type": "markdown",
   "metadata": {
    "slideshow": {
     "slide_type": "slide"
    }
   },
   "source": [
    "If I wanted to generate two random names from the list, I could use the sample method, which samples without replacement:"
   ]
  },
  {
   "cell_type": "code",
   "execution_count": 133,
   "metadata": {
    "slideshow": {
     "slide_type": "fragment"
    }
   },
   "outputs": [
    {
     "name": "stdout",
     "output_type": "stream",
     "text": [
      "['Abby', 'Stella']\n"
     ]
    }
   ],
   "source": [
    "import random\n",
    "\n",
    "students = ['Jack', 'Abby', 'Mary', 'Peter', \"Stella\"]\n",
    "\n",
    "print(random.sample(students,2))\n"
   ]
  },
  {
   "cell_type": "markdown",
   "metadata": {
    "slideshow": {
     "slide_type": "slide"
    }
   },
   "source": [
    "Suppose you want to pick 10 names from this list WITH replacement, maybe to assign chores:"
   ]
  },
  {
   "cell_type": "code",
   "execution_count": 10,
   "metadata": {
    "slideshow": {
     "slide_type": "fragment"
    }
   },
   "outputs": [
    {
     "name": "stdout",
     "output_type": "stream",
     "text": [
      "trial 0 student Peter\n",
      "trial 1 student Jack\n",
      "trial 2 student Abby\n",
      "trial 3 student Jack\n",
      "trial 4 student Abby\n",
      "trial 5 student Abby\n",
      "trial 6 student Peter\n",
      "trial 7 student Jack\n",
      "trial 8 student Mary\n",
      "trial 9 student Peter\n",
      "['Peter', 'Jack', 'Abby', 'Jack', 'Abby', 'Abby', 'Peter', 'Jack', 'Mary', 'Peter']\n"
     ]
    }
   ],
   "source": [
    "import random\n",
    "\n",
    "students = ['Jack', 'Abby', 'Mary', 'Peter', \"Stella\"]\n",
    "\n",
    "student_list = []\n",
    "\n",
    "for i in range(10):\n",
    "    \n",
    "    student = random.choice(students)\n",
    "    student_list.append(student)\n",
    "    print(f'trial {i} student {student}')\n",
    "    \n",
    "print(student_list)"
   ]
  },
  {
   "cell_type": "markdown",
   "metadata": {
    "slideshow": {
     "slide_type": "slide"
    }
   },
   "source": [
    "Suppose you want to simulate rolling a die and add each die roll to a list:"
   ]
  },
  {
   "cell_type": "code",
   "execution_count": 12,
   "metadata": {
    "slideshow": {
     "slide_type": "fragment"
    }
   },
   "outputs": [
    {
     "name": "stdout",
     "output_type": "stream",
     "text": [
      "roll 0 die face 3\n",
      "roll 1 die face 5\n",
      "roll 2 die face 2\n",
      "roll 3 die face 3\n",
      "roll 4 die face 1\n",
      "roll 5 die face 4\n",
      "roll 6 die face 2\n",
      "roll 7 die face 2\n",
      "roll 8 die face 4\n",
      "roll 9 die face 4\n",
      "[3, 5, 2, 3, 1, 4, 2, 2, 4, 4]\n"
     ]
    }
   ],
   "source": [
    "import random\n",
    "\n",
    "rolls = []\n",
    "\n",
    "for i in range(10):\n",
    "    die_face = random.randint(1,6)\n",
    "    rolls.append(die_face)\n",
    "    print(f'roll {i} die face {die_face}')\n",
    "    \n",
    "print(rolls)"
   ]
  },
  {
   "cell_type": "markdown",
   "metadata": {
    "slideshow": {
     "slide_type": "slide"
    }
   },
   "source": [
    "What if it wasn't a fair die? \n",
    "\n",
    "|  Die Face |Probability   |\n",
    "|---   |---   |\n",
    "|1 |0.05  | \n",
    "|2 | 0.05 |\n",
    "|3 |0.50  |\n",
    "|4 | 0.10 |\n",
    "|5 |0.20  |\n",
    "|6 | 0.10 |\n",
    "\n",
    "We would select numbers between 0 and 99 based on the above probabilities. For example, since there is a 5% chance that we will roll a 1, we'll assign the numbers 0,1,2,3, and 4 to the die roll 1."
   ]
  },
  {
   "cell_type": "code",
   "execution_count": 86,
   "metadata": {
    "slideshow": {
     "slide_type": "slide"
    }
   },
   "outputs": [
    {
     "name": "stdout",
     "output_type": "stream",
     "text": [
      "[3, 1, 1, 3, 3, 2, 5, 3, 3, 5, 6, 5, 3, 5, 3, 1, 3, 3, 5, 5, 2, 5, 6, 5, 5, 6, 5, 3, 3, 5, 3, 3, 3, 2, 5, 5, 4, 3, 3, 5, 3, 5, 5, 3, 1, 3, 3, 5, 6, 6, 3, 3, 4, 6, 5, 3, 5, 1, 3, 5, 4, 1, 4, 1, 4, 5, 4, 4, 5, 6, 3, 3, 1, 2, 3, 3, 3, 6, 3, 3, 3, 3, 2, 5, 5, 3, 2, 3, 3, 5, 6, 5, 3, 3, 1, 3, 2, 3, 3, 3]\n"
     ]
    }
   ],
   "source": [
    "import random\n",
    "\n",
    "rolls = []\n",
    "\n",
    "for i in range(100):\n",
    "    roll = random.randint(0,99)\n",
    "    if 0 <= roll < 5:\n",
    "#    if 0 <= roll and roll < 5:\n",
    "        rolls.append(1)\n",
    "    if 5 <= roll < 10:\n",
    "        rolls.append(2)\n",
    "    if 10 <= roll < 60:\n",
    "        rolls.append(3)\n",
    "    if 60 <= roll < 70:\n",
    "        rolls.append(4)\n",
    "    if 70 <= roll < 90:\n",
    "        rolls.append(5)\n",
    "    if 90 <= roll < 100:\n",
    "        rolls.append(6)\n",
    "        \n",
    "print(rolls)"
   ]
  },
  {
   "cell_type": "markdown",
   "metadata": {
    "slideshow": {
     "slide_type": "slide"
    }
   },
   "source": [
    "What was our average die roll?"
   ]
  },
  {
   "cell_type": "code",
   "execution_count": 138,
   "metadata": {
    "slideshow": {
     "slide_type": "fragment"
    }
   },
   "outputs": [
    {
     "name": "stdout",
     "output_type": "stream",
     "text": [
      "3.3\n"
     ]
    }
   ],
   "source": [
    "print(sum(rolls)/len(rolls))"
   ]
  },
  {
   "cell_type": "markdown",
   "metadata": {
    "slideshow": {
     "slide_type": "fragment"
    }
   },
   "source": [
    "Or if you want to use the built in function in numpy:"
   ]
  },
  {
   "cell_type": "code",
   "execution_count": 139,
   "metadata": {
    "slideshow": {
     "slide_type": "fragment"
    }
   },
   "outputs": [
    {
     "name": "stdout",
     "output_type": "stream",
     "text": [
      "3.3\n"
     ]
    }
   ],
   "source": [
    "import numpy as np\n",
    "\n",
    "print(np.mean(rolls))"
   ]
  },
  {
   "cell_type": "markdown",
   "metadata": {
    "slideshow": {
     "slide_type": "slide"
    }
   },
   "source": [
    "How many of each roll were there?"
   ]
  },
  {
   "cell_type": "code",
   "execution_count": 85,
   "metadata": {
    "slideshow": {
     "slide_type": "fragment"
    }
   },
   "outputs": [
    {
     "data": {
      "text/plain": [
       "[(3, 59), (5, 21), (2, 7), (4, 7), (6, 4), (1, 2)]"
      ]
     },
     "execution_count": 85,
     "metadata": {},
     "output_type": "execute_result"
    }
   ],
   "source": [
    "from collections import Counter\n",
    "\n",
    "Counter(rolls).most_common()"
   ]
  },
  {
   "cell_type": "markdown",
   "metadata": {
    "slideshow": {
     "slide_type": "slide"
    }
   },
   "source": [
    "### Expected Value\n",
    "\n",
    "Let's go back to a fair die:\n",
    "\n",
    "|  Die Face |Probability   |\n",
    "|---   |---   |\n",
    "|1 |1/6  | \n",
    "|2 | 1/6 |\n",
    "|3 |1/6  |\n",
    "|4 | 1/6 |\n",
    "|5 |1/6  |\n",
    "|6 | 1/6 |\n",
    "\n",
    "\n",
    "We can calculate the expected value of the die face by adding the products of the face value times the probabilities of getting that face value: (1)(1/6)+(2)(1/6)+(3)(1/6)+(4)(1/6)+(5)(1/6)+(6)(1/6) = 3.5."
   ]
  },
  {
   "cell_type": "markdown",
   "metadata": {
    "slideshow": {
     "slide_type": "slide"
    }
   },
   "source": [
    "Consider the following scenario. You bet a dollar to play a game. If you roll a die and get a six, then you win 5 dollars. If you roll any other number, you lose your dollar. What are the theoretical probabilities?\n",
    "\n",
    "|  Earnings |Probability   |\n",
    "|---   |---   |\n",
    "|-1 |5/6  | \n",
    "|5 | 1/6 |\n",
    "\n",
    "Now, the expected value of your earnings would be (-1)(5/6)+(5)(1/6) = 0 dollars.\n",
    "\n",
    "We can simulate this game numerically. We'll randomly roll a die (i.e., generate a random number between 1 and 6). If we roll a 6, we'll give ourselves five dollars; otherwise, we'll lose a dollar. We'll roll the die 1000 times and see that we get an experimental average earning of close to zero."
   ]
  },
  {
   "cell_type": "code",
   "execution_count": 110,
   "metadata": {
    "slideshow": {
     "slide_type": "slide"
    }
   },
   "outputs": [
    {
     "name": "stdout",
     "output_type": "stream",
     "text": [
      "0.008\n"
     ]
    }
   ],
   "source": [
    "import random\n",
    "\n",
    "earnings = 0 #profit\n",
    "\n",
    "for i in range(1000): #play game 1000 times\n",
    "    die = random.randint(1,6) #roll a die\n",
    "    if die == 6:\n",
    "        earnings = earnings + 5 #if i win i make 5 bucks\n",
    "    else:\n",
    "        earnings = earnings - 1 #if i lose i lose 1 dollar\n",
    "        \n",
    "print(earnings/1000) #average earnings"
   ]
  },
  {
   "cell_type": "markdown",
   "metadata": {
    "slideshow": {
     "slide_type": "slide"
    }
   },
   "source": [
    "What if you wanted to keep track of your number of rolls versus your average earnings? You could make two lists and then plot them."
   ]
  },
  {
   "cell_type": "code",
   "execution_count": 149,
   "metadata": {
    "slideshow": {
     "slide_type": "slide"
    }
   },
   "outputs": [
    {
     "data": {
      "text/plain": [
       "<matplotlib.text.Text at 0x108eefb38>"
      ]
     },
     "execution_count": 149,
     "metadata": {},
     "output_type": "execute_result"
    },
    {
     "data": {
      "image/png": "[encoded data removed]",
      "text/plain": [
       "<matplotlib.figure.Figure at 0x109cd27f0>"
      ]
     },
     "metadata": {},
     "output_type": "display_data"
    }
   ],
   "source": [
    "import random\n",
    "import matplotlib.pyplot as plt\n",
    "%matplotlib inline\n",
    "\n",
    "avg_earnings = [0]\n",
    "number_of_sims = [0]\n",
    "earnings = 0\n",
    "for i in range(1000):\n",
    "    die = random.randint(1,6)\n",
    "    if die == 6:\n",
    "        earnings = earnings + 5\n",
    "    else:\n",
    "        earnings = earnings - 1   \n",
    "        \n",
    "    number_of_sims.append(number_of_sims[-1]+1)\n",
    "    avg_earnings.append(earnings/number_of_sims[-1])    \n",
    "\n",
    "    \n",
    "plt.plot(number_of_sims, avg_earnings,'.')\n",
    "plt.xlabel('number of sims')\n",
    "plt.ylabel('average earnings')"
   ]
  },
  {
   "cell_type": "markdown",
   "metadata": {
    "slideshow": {
     "slide_type": "slide"
    }
   },
   "source": [
    "<img src=\"images/sims.png\" style=\"width: 500px;\"/>"
   ]
  },
  {
   "cell_type": "markdown",
   "metadata": {
    "slideshow": {
     "slide_type": "slide"
    }
   },
   "source": [
    "### Craps\n",
    "\n",
    "Now, we'll learn how to play craps. Craps is based off calculating the sum of two dice. If two dice with faces 1-6 are rolled, then the possible sums are 2-12 with theoretical probabilities:\n",
    "\n",
    "|  Sum |Probability   |\n",
    "|---   |---   |\n",
    "|2 |1/36  | \n",
    "|3 | 2/36 |\n",
    "|4 |3/36  |\n",
    "|5 | 4/36 |\n",
    "|6 |5/36  |\n",
    "|7 | 6/36 |\n",
    "|8 | 5/36 |\n",
    "|9 | 4/36 |\n",
    "|10 | 3/36 |\n",
    "|11 | 2/36 |\n",
    "|12 | 1/36 |\n",
    "\n",
    "Now you know the theoretical probabilities. Let's calculate the experimental probabilities."
   ]
  },
  {
   "cell_type": "markdown",
   "metadata": {
    "slideshow": {
     "slide_type": "slide"
    }
   },
   "source": [
    "### Craps Exercise - 1\n",
    "\n",
    "Use the randint function twice to simulate two different dice rolls. Calculate the sum of the two dice. Create a list called sums that contains the sums from performing this simulation 10,000 times."
   ]
  },
  {
   "cell_type": "code",
   "execution_count": 142,
   "metadata": {
    "collapsed": true,
    "slideshow": {
     "slide_type": "slide"
    }
   },
   "outputs": [],
   "source": [
    "import random \n",
    "\n",
    "sums = []\n",
    "\n",
    "for i in range(10000):\n",
    "    die1 = random.randint(1,6)\n",
    "    die2 = random.randint(1,6)\n",
    "    sums.append(die1+die2)"
   ]
  },
  {
   "cell_type": "markdown",
   "metadata": {
    "slideshow": {
     "slide_type": "slide"
    }
   },
   "source": [
    "### Craps Exercise 2\n",
    "Run the code below by pressing the play button to create a histogram for the sums of the dice. "
   ]
  },
  {
   "cell_type": "code",
   "execution_count": 144,
   "metadata": {
    "slideshow": {
     "slide_type": "slide"
    }
   },
   "outputs": [
    {
     "data": {
      "text/plain": [
       "<matplotlib.text.Text at 0x1099ca518>"
      ]
     },
     "execution_count": 144,
     "metadata": {},
     "output_type": "execute_result"
    },
    {
     "data": {
      "image/png": "[encoded data removed]",
      "text/plain": [
       "<matplotlib.figure.Figure at 0x109669828>"
      ]
     },
     "metadata": {},
     "output_type": "display_data"
    }
   ],
   "source": [
    "import matplotlib.pyplot as plt\n",
    "%matplotlib inline\n",
    "\n",
    "plt.hist(sums, bins = 11, rwidth = 0.9, range = (1.5,12.5), normed = True) #or use density = True if you get a warning message\n",
    "plt.xlabel('sum')\n",
    "plt.ylabel('frequency')"
   ]
  },
  {
   "cell_type": "markdown",
   "metadata": {
    "slideshow": {
     "slide_type": "slide"
    }
   },
   "source": [
    "One of the most common types of bets in craps is a place bet. A Place Bet is betting on a number and wanting that number to come up before a 7 does. For example, if I bet on 4, then I am wanting a sum of 4 to come up before a sum of 7. I will continue to roll the dice until either a 4 or a 7 comes up, none of the other sums matter. \n",
    "\n",
    "What is the probability that you win a Place 4 bet? 3/9, since there are 3 ways to win ((1,3), (2,2), or (3,1)) and 6 ways to lose ((1,6), (2,5), (3,4), (4,3), (5,2), (6,1)). Here are the theoretical probabilities:\n",
    "\n",
    "|  Sum |Probability   |\n",
    "|---   |---   |\n",
    "|4 |3/9  |\n",
    "|5 | 4/10 |\n",
    "|6 |5/11  |\n",
    "|8 | 5/11 |\n",
    "|9 | 4/10 |\n",
    "|10 | 3/9 |"
   ]
  },
  {
   "cell_type": "code",
   "execution_count": 122,
   "metadata": {},
   "outputs": [
    {
     "data": {
      "text/plain": [
       "Counter({2: 284,\n",
       "         3: 596,\n",
       "         4: 856,\n",
       "         5: 1135,\n",
       "         6: 1391,\n",
       "         7: 1610,\n",
       "         8: 1375,\n",
       "         9: 1118,\n",
       "         10: 829,\n",
       "         11: 534,\n",
       "         12: 272})"
      ]
     },
     "execution_count": 122,
     "metadata": {},
     "output_type": "execute_result"
    }
   ],
   "source": [
    "from collections import Counter\n",
    "Counter(sums)"
   ]
  },
  {
   "cell_type": "markdown",
   "metadata": {
    "slideshow": {
     "slide_type": "slide"
    }
   },
   "source": [
    "### Craps Exercise 3\n",
    "Now let's calculate the experimental probability of winning the Place 6 bet. Roll the dice 10,000 times and calculate the percentage of times that you win. Your decimal should be very close to the theoretical probability in the table above.\n",
    "\n",
    "Note: just because you rolled the dice 10,000 times does not mean that your number of wins + losses adds up to 10,000, because only a dice sum of 6 or 7 matters.\n",
    "\n"
   ]
  },
  {
   "cell_type": "code",
   "execution_count": 64,
   "metadata": {
    "slideshow": {
     "slide_type": "slide"
    }
   },
   "outputs": [
    {
     "name": "stdout",
     "output_type": "stream",
     "text": [
      "number of games 2956\n",
      "winning percentage 0.4604194857916103\n"
     ]
    }
   ],
   "source": [
    "import random\n",
    "\n",
    "wins = 0\n",
    "mybet = 6\n",
    "losses = 0\n",
    "\n",
    "for i in range(10000):\n",
    "    \n",
    "        die1 = random.randint(1,6)\n",
    "        die2 = random.randint(1,6)\n",
    "        \n",
    "        if die1+die2 == 7:\n",
    "            losses = losses + 1\n",
    "            \n",
    "        if die1+die2 == mybet:\n",
    "            wins = wins + 1\n",
    "\n",
    "print('number of games', wins+losses)            \n",
    "print('winning percentage', wins/(wins+losses))\n"
   ]
  },
  {
   "cell_type": "markdown",
   "metadata": {},
   "source": [
    "### Craps Exercise 4\n",
    "Make a time plot where the x-axis is the number of times you have played and the y-axis is your winning percentage. \n",
    "\n",
    "Hint: put the number of simulations and the winning percentage in separate lists. You may want to refer back to the average earnings of the roll-a-6-and-win-five-dollars example above."
   ]
  },
  {
   "cell_type": "code",
   "execution_count": 65,
   "metadata": {},
   "outputs": [
    {
     "data": {
      "text/plain": [
       "<matplotlib.text.Text at 0x10898dd30>"
      ]
     },
     "execution_count": 65,
     "metadata": {},
     "output_type": "execute_result"
    },
    {
     "data": {
      "image/png": "[encoded data removed]",
      "text/plain": [
       "<matplotlib.figure.Figure at 0x108f3fd68>"
      ]
     },
     "metadata": {},
     "output_type": "display_data"
    }
   ],
   "source": [
    "import matplotlib.pyplot as plt\n",
    "%matplotlib inline\n",
    "import random\n",
    "\n",
    "wins = 0\n",
    "mybet = 6\n",
    "losses = 0\n",
    "num_of_sims = [0]\n",
    "percent = [0]\n",
    "\n",
    "for i in range(10000):\n",
    "        die1 = random.randint(1,6)\n",
    "        die2 = random.randint(1,6)\n",
    "        \n",
    "        if die1+die2 == 7:\n",
    "            losses = losses + 1\n",
    "            num_of_sims.append(num_of_sims[-1] + 1)\n",
    "            percent.append(wins/(wins+losses))\n",
    "            \n",
    "        if die1+die2 == mybet:\n",
    "            wins = wins + 1\n",
    "            num_of_sims.append(num_of_sims[-1] + 1)\n",
    "            percent.append(wins/(wins+losses))\n",
    "            \n",
    "plt.plot(num_of_sims, percent, '.')\n",
    "plt.xlabel('number of simulations')\n",
    "plt.ylabel('winning percentage')\n",
    "plt.title('winning percentage of the 6 place bet')"
   ]
  },
  {
   "cell_type": "markdown",
   "metadata": {},
   "source": [
    "### Craps Exercise 5 \n",
    "For each of the bets, the casino will pay you out different amounts of money if you win (the riskier the bet, the better the payout). Here are the payouts:\n",
    "\n",
    "Place 4: 9:5\n",
    "\n",
    "Place 5: 7:5\n",
    "\n",
    "Place 6: 7:6\n",
    "\n",
    "Place 8: 7:6\n",
    "\n",
    "Place 9: 7:5\n",
    "\n",
    "Place 10: 9:5\n",
    "\n",
    "For example, for every dollar you bet on Place 6, the casino will pay you 7/6 dollars if you win and take your dollar if you lose. Therefore, your expected value, or the money you expect to earn after making this bet, is (7/6)(5/11) + (-1)(6/11) = -$0.015. Meaning, for every dollar you bet, you expect to lose a penny and a half of it.\n",
    "\n",
    "Thus, the house is always expected to win in the end, but this type of bet is pretty conservative, as you are only losing a penny on every dollar.\n",
    "\n",
    "Roll the dice 50,000 times to find the experimental expected value of the Place 6 bet. (It should be close to the theoretical probability of -$0.015 but there will be some variation.) "
   ]
  },
  {
   "cell_type": "code",
   "execution_count": 66,
   "metadata": {},
   "outputs": [
    {
     "name": "stdout",
     "output_type": "stream",
     "text": [
      "expected value -0.010704060385219007\n",
      "winning percentage 0.45659812597605415\n"
     ]
    }
   ],
   "source": [
    "import random \n",
    "\n",
    "earnings = 0 \n",
    "mybet = 6\n",
    "num_of_sims = 0\n",
    "wins = 0\n",
    "losses = 0\n",
    "for i in range(50000):\n",
    "        die1 = random.randint(1,6)\n",
    "        die2 = random.randint(1,6)\n",
    "        if die1+die2 == 7:\n",
    "            earnings = earnings - 1\n",
    "            losses = losses + 1\n",
    "            num_of_sims = num_of_sims + 1\n",
    "        if die1+die2 == mybet:\n",
    "            num_of_sims = num_of_sims + 1\n",
    "            wins = wins + 1\n",
    "            earnings = earnings + 7/6\n",
    "print('expected value', earnings/num_of_sims)\n",
    "print('winning percentage', wins/(wins+losses))"
   ]
  },
  {
   "cell_type": "markdown",
   "metadata": {
    "slideshow": {
     "slide_type": "slide"
    }
   },
   "source": [
    "### Another Simulation Exercise\n",
    "20% of the cereal boxes contained a picture of Tiger Woods, 30% Lance Armstrong,\n",
    "and the rest Serena Williams. How many boxes on average do you expect to have to buy before you get a complete set?\n",
    "\n",
    "Hint: A while loop may be useful for this exercise. Here's are two while loop examples:"
   ]
  },
  {
   "cell_type": "code",
   "execution_count": 18,
   "metadata": {
    "slideshow": {
     "slide_type": "slide"
    }
   },
   "outputs": [
    {
     "name": "stdout",
     "output_type": "stream",
     "text": [
      "5\n",
      "6\n",
      "7\n",
      "8\n",
      "9\n"
     ]
    }
   ],
   "source": [
    "i = 5\n",
    "while i < 10:\n",
    "    print(i)\n",
    "    i = i + 1"
   ]
  },
  {
   "cell_type": "code",
   "execution_count": 68,
   "metadata": {
    "slideshow": {
     "slide_type": "slide"
    }
   },
   "outputs": [
    {
     "name": "stdout",
     "output_type": "stream",
     "text": [
      "2\n",
      "3\n",
      "4\n",
      "5\n",
      "6\n",
      "7\n"
     ]
    }
   ],
   "source": [
    "factor_of_7 = False\n",
    "i = 2\n",
    "while factor_of_7 == False:\n",
    "    \n",
    "    print(i)\n",
    "        \n",
    "    if i % 7 == 0:\n",
    "        factor_of_7 = True\n",
    "\n",
    "    i = i + 1\n",
    "    "
   ]
  },
  {
   "cell_type": "code",
   "execution_count": 67,
   "metadata": {
    "slideshow": {
     "slide_type": "slide"
    }
   },
   "outputs": [
    {
     "name": "stdout",
     "output_type": "stream",
     "text": [
      "6.2829\n"
     ]
    }
   ],
   "source": [
    "import random\n",
    "boxes = ['Tiger', 'Tiger', 'Lance', 'Lance', 'Lance', 'Serena', 'Serena', 'Serena', 'Serena', 'Serena']\n",
    "boxes_count = []\n",
    "sims = 10000\n",
    "for i in range(sims):\n",
    "    count = 0\n",
    "    Serena = False\n",
    "    Tiger = False\n",
    "    Lance = False\n",
    "    while Serena == False or Tiger == False or Lance == False:\n",
    "        count = count + 1\n",
    "        if random.choice(boxes) == 'Serena':\n",
    "            Serena = True\n",
    "        if random.choice(boxes) == 'Tiger':\n",
    "            Tiger = True\n",
    "        if random.choice(boxes) == 'Lance':\n",
    "            Lance = True\n",
    "    boxes_count.append(count)\n",
    "print(sum(boxes_count)/sims)"
   ]
  },
  {
   "cell_type": "code",
   "execution_count": null,
   "metadata": {
    "collapsed": true
   },
   "outputs": [],
   "source": []
  }
 ],
 "metadata": {
  "celltoolbar": "Slideshow",
  "kernelspec": {
   "display_name": "Python 3",
   "language": "python",
   "name": "python3"
  },
  "language_info": {
   "codemirror_mode": {
    "name": "ipython",
    "version": 3
   },
   "file_extension": ".py",
   "mimetype": "text/x-python",
   "name": "python",
   "nbconvert_exporter": "python",
   "pygments_lexer": "ipython3",
   "version": "3.7.3"
  }
 },
 "nbformat": 4,
 "nbformat_minor": 2
}
