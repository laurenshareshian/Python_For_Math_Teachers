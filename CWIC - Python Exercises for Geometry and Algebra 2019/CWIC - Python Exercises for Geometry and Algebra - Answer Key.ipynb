{
 "cells": [
  {
   "cell_type": "markdown",
   "metadata": {
    "slideshow": {
     "slide_type": "slide"
    }
   },
   "source": [
    "### Python Exercises for Geometry and Algebra\n",
    "\n",
    "Lauren Shareshian\n",
    "\n",
    "Oregon Episcopal School\n",
    "\n",
    "Portland, OR\n",
    "\n",
    "shareshianl@oes.edu"
   ]
  },
  {
   "cell_type": "markdown",
   "metadata": {
    "slideshow": {
     "slide_type": "slide"
    }
   },
   "source": [
    "<img src=\"images/lakeside.png\" style=\"width: 1200px;\"/>"
   ]
  },
  {
   "cell_type": "markdown",
   "metadata": {
    "slideshow": {
     "slide_type": "slide"
    }
   },
   "source": [
    "I can print messages using Python:"
   ]
  },
  {
   "cell_type": "code",
   "execution_count": 1,
   "metadata": {
    "slideshow": {
     "slide_type": "fragment"
    }
   },
   "outputs": [
    {
     "name": "stdout",
     "output_type": "stream",
     "text": [
      "Hello, Exeter!\n"
     ]
    }
   ],
   "source": [
    "print('Hello, Exeter!')"
   ]
  },
  {
   "cell_type": "markdown",
   "metadata": {
    "slideshow": {
     "slide_type": "slide"
    }
   },
   "source": [
    "What program am I using to create both narrative text and run live code within the same file?"
   ]
  },
  {
   "cell_type": "markdown",
   "metadata": {
    "slideshow": {
     "slide_type": "slide"
    }
   },
   "source": [
    "### What the heck is a Jupyter Notebook?\n",
    "\n",
    "It's is an open-source **web application** that allows you to create and share documents that contain **live code** and **narrative text** (using Code and Markdown text boxes, respectively).\n",
    "\n",
    "The Notebook has support for **multiple languages**, including Python and R.\n",
    "\n",
    "Your code can produce HTML, images, videos, **LaTeX** ($\\int_0^{\\pi} \\sin x dx $), etc.\n",
    "\n",
    "If you want to work with a Jupyter Notebook on your local machine, you can download **Anaconda** for free. If you want to work with it on the web, you can use **Google's Colaboratory** or www.cocalc.com (related to SageMath).\n"
   ]
  },
  {
   "cell_type": "markdown",
   "metadata": {
    "slideshow": {
     "slide_type": "slide"
    }
   },
   "source": [
    "Today, we'll be using Google's Colaboratory.\n",
    "\n",
    "1.First, go to: https://bit.ly/2RvNadp (Case sensitive!!!)\n",
    "\n",
    "2.Then, sign into your Google account if you aren't already (top right).\n",
    "\n",
    "3.Then, select Suggested Third Party Apps - Colaboratory.\n",
    "\n",
    "4.You might get an error message. But if you go back to your Google Drive and select the file again, it should hopefully work!\n",
    "\n",
    "<img src=\"images/colab.png\" style=\"width: 400px;\"/>"
   ]
  },
  {
   "cell_type": "markdown",
   "metadata": {
    "slideshow": {
     "slide_type": "slide"
    }
   },
   "source": [
    "To run the notebook, select \"Open in playground\" at the top:\n",
    "<img src=\"images/playground.png\" style=\"width: 500px;\"/>\n",
    "\n",
    "Then, you should be able to press the play button on the first blue/grey code cell:\n",
    "<img src=\"images/codebox.png\" style=\"width: 300px;\"/>\n",
    "\n",
    "Select Run Anyway and Yes. (You'll only have to do this for the first cell.)"
   ]
  },
  {
   "cell_type": "markdown",
   "metadata": {
    "slideshow": {
     "slide_type": "slide"
    }
   },
   "source": [
    "### Function intro\n",
    "Here's a function whose input is a temperature in Celsius and whose output is a Temperature in Fahrenheit:"
   ]
  },
  {
   "cell_type": "code",
   "execution_count": 5,
   "metadata": {
    "slideshow": {
     "slide_type": "fragment"
    }
   },
   "outputs": [
    {
     "data": {
      "text/plain": [
       "41.0"
      ]
     },
     "execution_count": 5,
     "metadata": {},
     "output_type": "execute_result"
    }
   ],
   "source": [
    "def cel_to_fahr(c):\n",
    "    return 9/5*c+32\n",
    "\n",
    "cel_to_fahr(5)"
   ]
  },
  {
   "cell_type": "markdown",
   "metadata": {
    "slideshow": {
     "slide_type": "slide"
    }
   },
   "source": [
    "Here's a function that takes in two values, x and y, and returns their difference:"
   ]
  },
  {
   "cell_type": "code",
   "execution_count": 7,
   "metadata": {
    "slideshow": {
     "slide_type": "fragment"
    }
   },
   "outputs": [
    {
     "data": {
      "text/plain": [
       "1.9100000000000001"
      ]
     },
     "execution_count": 7,
     "metadata": {},
     "output_type": "execute_result"
    }
   ],
   "source": [
    "def difference(x,y):\n",
    "    return x-y\n",
    "\n",
    "difference(7.234,5.324)"
   ]
  },
  {
   "cell_type": "markdown",
   "metadata": {
    "slideshow": {
     "slide_type": "slide"
    }
   },
   "source": [
    "### Exercise 1 - miles_to_km\n",
    "Write a function called miles_to_km that converts miles to kilometers. \n",
    "\n",
    "(km = miles * 1.609)\n"
   ]
  },
  {
   "cell_type": "code",
   "execution_count": 8,
   "metadata": {
    "slideshow": {
     "slide_type": "fragment"
    }
   },
   "outputs": [
    {
     "data": {
      "text/plain": [
       "4.827"
      ]
     },
     "execution_count": 8,
     "metadata": {},
     "output_type": "execute_result"
    }
   ],
   "source": [
    "#insert exercise 1 below\n",
    "def miles_to_km(miles):\n",
    "    km = miles*1.609\n",
    "    return km\n",
    "\n",
    "miles_to_km(3)\n"
   ]
  },
  {
   "cell_type": "markdown",
   "metadata": {
    "slideshow": {
     "slide_type": "slide"
    }
   },
   "source": [
    "### Exercise 2 - triangle area\n",
    "Write a function called triangle_area that takes in a base and a height and returns the area of the triangle."
   ]
  },
  {
   "cell_type": "code",
   "execution_count": 9,
   "metadata": {
    "slideshow": {
     "slide_type": "fragment"
    }
   },
   "outputs": [
    {
     "data": {
      "text/plain": [
       "25.0"
      ]
     },
     "execution_count": 9,
     "metadata": {},
     "output_type": "execute_result"
    }
   ],
   "source": [
    "#insert exercise 2 below\n",
    "def triangle_area(b,h):\n",
    "    A=0.5*b*h\n",
    "    return A\n",
    "\n",
    "triangle_area(10,5)"
   ]
  },
  {
   "cell_type": "markdown",
   "metadata": {
    "slideshow": {
     "slide_type": "slide"
    }
   },
   "source": [
    "### Exercise 3 - slope\n",
    "Write a function called slope that takes in two coordinates in the form $(x1,y1,x2,y2)$ and returns their slope. For example, ```slope(1,3,2,4) should return 1.0```"
   ]
  },
  {
   "cell_type": "code",
   "execution_count": 8,
   "metadata": {
    "slideshow": {
     "slide_type": "fragment"
    }
   },
   "outputs": [
    {
     "data": {
      "text/plain": [
       "1.0"
      ]
     },
     "execution_count": 8,
     "metadata": {},
     "output_type": "execute_result"
    }
   ],
   "source": [
    "#insert exercise 3 below\n",
    "def slope(x1,y1,x2,y2):\n",
    "    return (y2-y1)/(x2-x1)\n",
    "\n",
    "slope(1,3,2,4)"
   ]
  },
  {
   "cell_type": "markdown",
   "metadata": {
    "slideshow": {
     "slide_type": "slide"
    }
   },
   "source": [
    "### f-strings\n",
    "f-strings allow us to print a mix of numbers are words. For example, if I wanted to print my name and my favorite number, I could put my sentence within the quotation marks and any variable names within curly brackets:"
   ]
  },
  {
   "cell_type": "code",
   "execution_count": 10,
   "metadata": {
    "slideshow": {
     "slide_type": "fragment"
    }
   },
   "outputs": [
    {
     "name": "stdout",
     "output_type": "stream",
     "text": [
      "My name is Lauren and my fave number is 100.\n"
     ]
    }
   ],
   "source": [
    "name = \"Lauren\"\n",
    "number = 100\n",
    "print(f\"My name is {name} and my fave number is {number}.\")"
   ]
  },
  {
   "cell_type": "markdown",
   "metadata": {
    "slideshow": {
     "slide_type": "slide"
    }
   },
   "source": [
    "As another example, I could use an f-string to print my temp in both Celsius and Fahrenheit:"
   ]
  },
  {
   "cell_type": "code",
   "execution_count": 18,
   "metadata": {
    "slideshow": {
     "slide_type": "fragment"
    }
   },
   "outputs": [
    {
     "data": {
      "text/plain": [
       "'Cel: 0 Fahr: 32.0.'"
      ]
     },
     "execution_count": 18,
     "metadata": {},
     "output_type": "execute_result"
    }
   ],
   "source": [
    "def cel_to_fahr(c):\n",
    "    f = 9/5 * c + 32\n",
    "    return f\"Cel: {c} Fahr: {f}.\"\n",
    "\n",
    "cel_to_fahr(0)"
   ]
  },
  {
   "cell_type": "markdown",
   "metadata": {
    "slideshow": {
     "slide_type": "slide"
    }
   },
   "source": [
    "As another example, if we take in a slope and y-intercept, we can return the equation of the line in slope intercept form:"
   ]
  },
  {
   "cell_type": "code",
   "execution_count": 14,
   "metadata": {
    "slideshow": {
     "slide_type": "fragment"
    }
   },
   "outputs": [
    {
     "data": {
      "text/plain": [
       "'y=2x+3'"
      ]
     },
     "execution_count": 14,
     "metadata": {},
     "output_type": "execute_result"
    }
   ],
   "source": [
    "def slope_int(m,b):\n",
    "    return f\"y={m}x+{b}\"\n",
    "slope_int(2,3)"
   ]
  },
  {
   "cell_type": "markdown",
   "metadata": {
    "slideshow": {
     "slide_type": "slide"
    }
   },
   "source": [
    "### Exercise 4 - Point-Slope Form\n",
    "Write a program called point_slope that takes in two points in the form (x1,y1,x2,y2) and returns the equation in point-slope form using the first point. For example,\n",
    "\n",
    "```point_slope(1,3,2,4) should return 'y-3=1.0(x-1)'```"
   ]
  },
  {
   "cell_type": "code",
   "execution_count": 20,
   "metadata": {
    "slideshow": {
     "slide_type": "fragment"
    }
   },
   "outputs": [
    {
     "data": {
      "text/plain": [
       "'y-3=1.0(x-1)'"
      ]
     },
     "execution_count": 20,
     "metadata": {},
     "output_type": "execute_result"
    }
   ],
   "source": [
    "#insert exercise 4 below\n",
    "def point_slope(x1,y1,x2,y2):\n",
    "    m = (y1-y2)/(x1-x2)\n",
    "    return f\"y-{y1}={m}(x-{x1})\"\n",
    "\n",
    "point_slope(1,3,2,4)"
   ]
  },
  {
   "cell_type": "markdown",
   "metadata": {
    "slideshow": {
     "slide_type": "slide"
    }
   },
   "source": [
    "### The math package\n",
    "In the above examples, we made our own functions. There are tons of functions built into the Python math package. Once you put \"import math\" at the top of your cell, you can refer to any of them. Here are some examples:"
   ]
  },
  {
   "cell_type": "code",
   "execution_count": 21,
   "metadata": {
    "slideshow": {
     "slide_type": "fragment"
    }
   },
   "outputs": [
    {
     "name": "stdout",
     "output_type": "stream",
     "text": [
      "2.0\n",
      "2.718281828459045\n",
      "-1.0\n",
      "120\n",
      "3.141592653589793\n"
     ]
    }
   ],
   "source": [
    "import math\n",
    "\n",
    "print(math.sqrt(4))\n",
    "print(math.exp(1))\n",
    "print(math.cos(math.pi))\n",
    "print(math.factorial(5))\n",
    "print(math.radians(180))"
   ]
  },
  {
   "cell_type": "markdown",
   "metadata": {
    "slideshow": {
     "slide_type": "slide"
    }
   },
   "source": [
    "### Exercise 5 - Area of a circle\n",
    "Write a function called circle_area that takes in a radius and returns the area of the circle. \n",
    "Use math.pi to refer to pi. \n",
    "\n",
    "Note: To calculate exponents, we use two asterisks, not a carat: ```r^2 = r**2```"
   ]
  },
  {
   "cell_type": "code",
   "execution_count": 22,
   "metadata": {
    "slideshow": {
     "slide_type": "fragment"
    }
   },
   "outputs": [],
   "source": [
    "#insert exercise 5\n",
    "import math\n",
    "\n",
    "def circle_area(r):\n",
    "    return math.pi*r**2\n",
    "\n",
    "circle_area(1)\n",
    "math.\n"
   ]
  },
  {
   "cell_type": "markdown",
   "metadata": {
    "slideshow": {
     "slide_type": "slide"
    }
   },
   "source": [
    "### Approximating pi\n",
    "We just used math.pi to approximate pi, but how about we approximate pi ourselves? Recall that we can inscribe a regular polygon inside a circle of radius 1:\n",
    "\n",
    "<img src=\"images/circle.png\" style=\"width: 200px;\"/>\n"
   ]
  },
  {
   "cell_type": "markdown",
   "metadata": {
    "slideshow": {
     "slide_type": "slide"
    }
   },
   "source": [
    "\n",
    "If we do that, then we find that the height of triangle AOB is $\\sin(\\frac{180}{n})$ and the base of triangle AOB is $2\\cos(\\frac{180}{n})$. Therefore, the area of the triangle is $\\sin(\\frac{180}{n})\\cos(\\frac{180}{n})$ and the area of the regular polygon is  $n\\sin(\\frac{180}{n})\\cos(\\frac{180}{n})$. \n",
    "\n",
    "To approximate pi, we can find the area of a regular polygon with a large number of sides, after first converting the angle into radians:"
   ]
  },
  {
   "cell_type": "code",
   "execution_count": 43,
   "metadata": {
    "slideshow": {
     "slide_type": "fragment"
    }
   },
   "outputs": [
    {
     "name": "stdout",
     "output_type": "stream",
     "text": [
      "3.133330839107606\n"
     ]
    }
   ],
   "source": [
    "def polygon_area(n):\n",
    "    return n*math.sin(math.radians(180/n))*math.cos(math.radians(180/n))\n",
    "\n",
    "print(polygon_area(50))"
   ]
  },
  {
   "cell_type": "markdown",
   "metadata": {
    "slideshow": {
     "slide_type": "slide"
    }
   },
   "source": [
    "### Order of Operations\n",
    "Recall that order of operations of functions is important. We can create a squaring function and subtraction by one function, and depending on what order we apply them, we'll get out different answers:"
   ]
  },
  {
   "cell_type": "code",
   "execution_count": 24,
   "metadata": {
    "slideshow": {
     "slide_type": "fragment"
    }
   },
   "outputs": [
    {
     "name": "stdout",
     "output_type": "stream",
     "text": [
      "16\n",
      "24\n"
     ]
    }
   ],
   "source": [
    "def square(x):\n",
    "    return x**2\n",
    "\n",
    "def subtract_one(x):\n",
    "    return x-1\n",
    "\n",
    "print(square(subtract_one(5)))\n",
    "print(subtract_one(square(5)))\n",
    "\n",
    "\n",
    "#demonstrate square root of difference of squares is different than binomial difference squared"
   ]
  },
  {
   "cell_type": "markdown",
   "metadata": {
    "slideshow": {
     "slide_type": "slide"
    }
   },
   "source": [
    "### More function notation and evaluation\n",
    "\n",
    "We can create a function called finite_diff that takes in a function, an x value, and a threshold h and returns the finite difference. For example, ```finite_diff(square, 3, 0.001)``` should return approximately 6.001.\n",
    "\n",
    "Recall that the finite difference formula is given by $\\frac{f(x+h) - f(x)}{h}$."
   ]
  },
  {
   "cell_type": "code",
   "execution_count": 21,
   "metadata": {
    "scrolled": true,
    "slideshow": {
     "slide_type": "fragment"
    }
   },
   "outputs": [
    {
     "data": {
      "text/plain": [
       "6.000999999999479"
      ]
     },
     "execution_count": 21,
     "metadata": {},
     "output_type": "execute_result"
    }
   ],
   "source": [
    "def finite_diff(f,x,h):\n",
    "    return (f(x+h)-f(x))/h\n",
    "\n",
    "finite_diff(square,3,0.001)\n",
    "\n",
    "f(x)=x^2\n",
    "f'(x)=2x\n",
    "f'(3)=2(3)=6"
   ]
  },
  {
   "cell_type": "markdown",
   "metadata": {
    "slideshow": {
     "slide_type": "slide"
    }
   },
   "source": [
    "### Exercise 6 - Composition of Functions\n",
    "Create a function called composition that takes in two functions, f and g, and an x value and returns their composition $f(g(x))$. For example, ```composition(square, subtract_one, 5)``` should return 16, just as it did above."
   ]
  },
  {
   "cell_type": "code",
   "execution_count": 25,
   "metadata": {
    "slideshow": {
     "slide_type": "fragment"
    }
   },
   "outputs": [
    {
     "data": {
      "text/plain": [
       "16"
      ]
     },
     "execution_count": 25,
     "metadata": {},
     "output_type": "execute_result"
    }
   ],
   "source": [
    "#insert exercise 6 below\n",
    "def composition(f,g,x):\n",
    "    return f(g(x))\n",
    "\n",
    "composition(square, subtract_one, 5)"
   ]
  },
  {
   "cell_type": "markdown",
   "metadata": {
    "slideshow": {
     "slide_type": "slide"
    }
   },
   "source": [
    "### Modulo\n",
    "Modulo is very import in coding exercises. \n",
    "\n",
    "n modulo m (denoted n % m in Python) gives the remainder when n is divided by m. \n",
    "- What is always an even number modulo 2?\n",
    "- What is always an odd number modulo 2?\n",
    "- What is always a number module one of its factors?"
   ]
  },
  {
   "cell_type": "code",
   "execution_count": 13,
   "metadata": {
    "slideshow": {
     "slide_type": "fragment"
    }
   },
   "outputs": [
    {
     "name": "stdout",
     "output_type": "stream",
     "text": [
      "0\n",
      "1\n",
      "0\n"
     ]
    }
   ],
   "source": [
    "print(8%2)\n",
    "print(7%2)\n",
    "print(21%3)"
   ]
  },
  {
   "cell_type": "markdown",
   "metadata": {
    "slideshow": {
     "slide_type": "slide"
    }
   },
   "source": [
    "We can use modulo to determine whether a number is even or odd:"
   ]
  },
  {
   "cell_type": "code",
   "execution_count": 15,
   "metadata": {
    "slideshow": {
     "slide_type": "fragment"
    }
   },
   "outputs": [
    {
     "name": "stdout",
     "output_type": "stream",
     "text": [
      "True\n",
      "False\n"
     ]
    }
   ],
   "source": [
    "def is_even(number):\n",
    "    if number % 2 == 0:\n",
    "        return True\n",
    "    else:\n",
    "        return False\n",
    "    \n",
    "print(is_even(8))\n",
    "print(is_even(7))"
   ]
  },
  {
   "cell_type": "markdown",
   "metadata": {
    "slideshow": {
     "slide_type": "slide"
    }
   },
   "source": [
    "Or to figure out if a number is divisible by 3:"
   ]
  },
  {
   "cell_type": "code",
   "execution_count": 16,
   "metadata": {
    "slideshow": {
     "slide_type": "fragment"
    }
   },
   "outputs": [
    {
     "name": "stdout",
     "output_type": "stream",
     "text": [
      "False\n",
      "True\n"
     ]
    }
   ],
   "source": [
    "def multiple_of_3(number):\n",
    "    if number % 3 == 0:\n",
    "        return True\n",
    "    else:\n",
    "        return False\n",
    "    \n",
    "print(multiple_of_3(8))\n",
    "print(multiple_of_3(9))\n",
    "    "
   ]
  },
  {
   "cell_type": "markdown",
   "metadata": {
    "slideshow": {
     "slide_type": "slide"
    }
   },
   "source": [
    "### Exercise 7: factor \n",
    "\n",
    "Create a function that takes in two integers, n and m, and returns True if m is a factor of n and False if it is not."
   ]
  },
  {
   "cell_type": "code",
   "execution_count": 23,
   "metadata": {
    "slideshow": {
     "slide_type": "fragment"
    }
   },
   "outputs": [
    {
     "name": "stdout",
     "output_type": "stream",
     "text": [
      "True\n",
      "False\n"
     ]
    }
   ],
   "source": [
    "#insert exercise 7\n",
    "def factor(n,m):\n",
    "    if n % m == 0:\n",
    "        return True\n",
    "    else:\n",
    "        return False\n",
    "    \n",
    "print(factor(6,3))\n",
    "print(factor(6,4))"
   ]
  },
  {
   "cell_type": "markdown",
   "metadata": {
    "slideshow": {
     "slide_type": "slide"
    }
   },
   "source": [
    "### Exercise 8: is_possible ###\n",
    "\n",
    "Write a function called is_possible that returns True if side lengths a,b, and c (assuming c is the largest) form a triangle and False if it is not possible. (Hint: To be possible, we must have $a+b>c$)."
   ]
  },
  {
   "cell_type": "code",
   "execution_count": 24,
   "metadata": {
    "slideshow": {
     "slide_type": "fragment"
    }
   },
   "outputs": [
    {
     "data": {
      "text/plain": [
       "False"
      ]
     },
     "execution_count": 24,
     "metadata": {},
     "output_type": "execute_result"
    }
   ],
   "source": [
    "#insert exercise 8\n",
    "def is_possible(a,b,c):\n",
    "    if a+b > c:\n",
    "        return True\n",
    "    else:\n",
    "        return False\n",
    "    \n",
    "is_possible(3,5,8)"
   ]
  },
  {
   "cell_type": "markdown",
   "metadata": {
    "slideshow": {
     "slide_type": "slide"
    }
   },
   "source": [
    "### More Conditional Statements\n",
    "We can use if/elif/else statements to deal with more than 2 conditions:"
   ]
  },
  {
   "cell_type": "code",
   "execution_count": 19,
   "metadata": {
    "slideshow": {
     "slide_type": "fragment"
    }
   },
   "outputs": [
    {
     "name": "stdout",
     "output_type": "stream",
     "text": [
      "6 is greater than 5.\n"
     ]
    }
   ],
   "source": [
    "def compare(x,y):\n",
    "    if x > y:\n",
    "        print(f\"{x} is greater than {y}.\")\n",
    "    elif x < y:\n",
    "        print(f\"{y} is greater than {x}.\")\n",
    "    else:\n",
    "        print(f\"{x} and {y} are equal.\")\n",
    "\n",
    "compare(5,6)"
   ]
  },
  {
   "cell_type": "markdown",
   "metadata": {
    "slideshow": {
     "slide_type": "slide"
    }
   },
   "source": [
    "### Exercise 9: Triangle Type\n",
    "\n",
    "Write a function called triangle_type that takes in side lengths a,b,c and returns \"Right\", \"Acute\", or \"Obtuse\" depending on how $a^2+b^2$ compares to $c^2$."
   ]
  },
  {
   "cell_type": "code",
   "execution_count": 59,
   "metadata": {
    "slideshow": {
     "slide_type": "fragment"
    }
   },
   "outputs": [
    {
     "data": {
      "text/plain": [
       "'Right'"
      ]
     },
     "execution_count": 59,
     "metadata": {},
     "output_type": "execute_result"
    }
   ],
   "source": [
    "#insert exercise 9\n",
    "def triangle_type(a,b,c):\n",
    "    if a**2+b**2 > c**2:\n",
    "        return \"Acute\"\n",
    "    elif a**2+b**2 == c**2:\n",
    "        return \"Right\"\n",
    "    else: \n",
    "        return \"Obtuse\"\n",
    "    \n",
    "triangle_type(3,4,5)"
   ]
  },
  {
   "cell_type": "markdown",
   "metadata": {
    "slideshow": {
     "slide_type": "slide"
    }
   },
   "source": [
    "### More functions\n",
    "We can combine the is_possible and triangle_type functions to classify a triangle appropriately:"
   ]
  },
  {
   "cell_type": "code",
   "execution_count": 30,
   "metadata": {
    "slideshow": {
     "slide_type": "slide"
    }
   },
   "outputs": [
    {
     "name": "stdout",
     "output_type": "stream",
     "text": [
      "Right\n"
     ]
    }
   ],
   "source": [
    "def is_possible(a,b,c):\n",
    "    if a+b > c:\n",
    "        return True\n",
    "    else:\n",
    "        return False\n",
    "    \n",
    "def triangle_type(a,b,c):\n",
    "    if a**2+b**2 > c**2:\n",
    "        return \"Acute\"\n",
    "    elif a**2+b**2 == c**2:\n",
    "        return \"Right\"\n",
    "    else: \n",
    "        return \"Obtuse\"\n",
    "    \n",
    "a=3\n",
    "b=4\n",
    "c=5\n",
    "\n",
    "if is_possible(a,b,c) == True:\n",
    "    print(triangle_type(a,b,c))\n",
    "else:\n",
    "    print('Your triangle is not possible.')"
   ]
  },
  {
   "cell_type": "markdown",
   "metadata": {
    "slideshow": {
     "slide_type": "slide"
    }
   },
   "source": [
    "### Exercise 10: The Ambiguous Case\n",
    "Write a function called SSA that takes in a side (a), side (b), angle (A) of a trianlge and determines whether none, one, or two triangles are possible. Make sure to convert the angle to radians before applying the sine function.  Hint:\n",
    "\n",
    "<img src=\"images/ssa.png\" style=\"width: 500px;\"/>\n",
    "\n",
    "To check your work:\n",
    "```\n",
    "ssa(22,12,42) should give 1\n",
    "ssa(15,25,85) should give 0\n",
    "ssa(12,31,20.5) should give 2\n",
    "```"
   ]
  },
  {
   "cell_type": "code",
   "execution_count": 28,
   "metadata": {
    "slideshow": {
     "slide_type": "slide"
    }
   },
   "outputs": [
    {
     "name": "stdout",
     "output_type": "stream",
     "text": [
      "1\n",
      "0\n",
      "2\n"
     ]
    }
   ],
   "source": [
    "#insert exercise 10:\n",
    "import math\n",
    "def ssa(a,b,A):\n",
    "    h = b*math.sin(math.radians(A))\n",
    "    if A < 90:\n",
    "        if a < h:\n",
    "            return 0\n",
    "        if a == h:\n",
    "            return 1\n",
    "        if a > b:\n",
    "            return 1\n",
    "        if h < a < b:\n",
    "            return 2\n",
    "    elif A == 90:\n",
    "        return 1\n",
    "    else:\n",
    "        if a <= b:\n",
    "            return 0\n",
    "        else:\n",
    "            return 1\n",
    "print(ssa(22,12,42))\n",
    "print(ssa(15,25,85))\n",
    "print(ssa(12,31,20.5))"
   ]
  },
  {
   "cell_type": "markdown",
   "metadata": {
    "slideshow": {
     "slide_type": "slide"
    }
   },
   "source": [
    "### Exercise 11: Quadratic Formula\n",
    "Write a function that takes in a, b, and c and returns the roots of the quadratic equation $ax^2+bx+c=0$ in f-string format. Use a conditional statement and the determinant $D=b^2-4ac$ to determine what form to return the roots in. Then, return f-strings. Here are some sample outputs:\n",
    "\n",
    "```\n",
    "print(quad_formula(1,-1,-6))\n",
    "print(quad_formula(1,-6,9))\n",
    "print(quad_formula(1,-6,13))\n",
    "\n",
    "should return:\n",
    "\n",
    "Your roots are 3.0 and -2.0.\n",
    "Your repeated root is 3.0.\n",
    "Your roots are 3.0+2.0i and 3.0-2.0i.\n",
    "```"
   ]
  },
  {
   "cell_type": "code",
   "execution_count": 29,
   "metadata": {
    "slideshow": {
     "slide_type": "slide"
    }
   },
   "outputs": [
    {
     "name": "stdout",
     "output_type": "stream",
     "text": [
      "Your roots are 3.0 and -2.0.\n",
      "Your repeated root is 3.0.\n",
      "Your roots are 3.0+2.0i and 3.0-2.0i.\n"
     ]
    }
   ],
   "source": [
    "#insert exercise 11\n",
    "import math\n",
    "def quad_formula(a,b,c):\n",
    "    D = b**2-4*a*c\n",
    "    if D > 0:\n",
    "        root1 = (-b+math.sqrt(D))/2\n",
    "        root2 = (-b-math.sqrt(D))/2\n",
    "        return f\"Your roots are {root1} and {root2}.\"\n",
    "    elif D == 0:\n",
    "        root1 = -b/2\n",
    "        return f\"Your repeated root is {root1}.\"\n",
    "    else:\n",
    "        real = -b/2\n",
    "        imag = math.sqrt(-D)/2\n",
    "        return f\"Your roots are {real}+{imag}i and {real}-{imag}i.\"\n",
    "\n",
    "print(quad_formula(1,-1,-6))\n",
    "print(quad_formula(1,-6,9))\n",
    "print(quad_formula(1,-6,13))"
   ]
  },
  {
   "cell_type": "markdown",
   "metadata": {
    "slideshow": {
     "slide_type": "slide"
    }
   },
   "source": [
    "### Iteration\n",
    "Lastly, let's talk about some basic looping:"
   ]
  },
  {
   "cell_type": "code",
   "execution_count": 39,
   "metadata": {
    "slideshow": {
     "slide_type": "fragment"
    }
   },
   "outputs": [
    {
     "name": "stdout",
     "output_type": "stream",
     "text": [
      "0\n",
      "1\n",
      "2\n",
      "3\n",
      "4\n"
     ]
    }
   ],
   "source": [
    "for i in range(5):\n",
    "    print(i)"
   ]
  },
  {
   "cell_type": "markdown",
   "metadata": {
    "slideshow": {
     "slide_type": "slide"
    }
   },
   "source": [
    "To generate the sequence of square numbers:"
   ]
  },
  {
   "cell_type": "code",
   "execution_count": 40,
   "metadata": {
    "slideshow": {
     "slide_type": "fragment"
    }
   },
   "outputs": [
    {
     "name": "stdout",
     "output_type": "stream",
     "text": [
      "0\n",
      "1\n",
      "4\n",
      "9\n",
      "16\n"
     ]
    }
   ],
   "source": [
    "for i in range(5):\n",
    "    print(i**2)"
   ]
  },
  {
   "cell_type": "markdown",
   "metadata": {
    "slideshow": {
     "slide_type": "slide"
    }
   },
   "source": [
    "### Arithmetic Sequences\n",
    "To generate the arithmetic sequence in which we take the previous number and add 2:"
   ]
  },
  {
   "cell_type": "code",
   "execution_count": 41,
   "metadata": {
    "slideshow": {
     "slide_type": "fragment"
    }
   },
   "outputs": [
    {
     "name": "stdout",
     "output_type": "stream",
     "text": [
      "5\n",
      "7\n",
      "9\n",
      "11\n",
      "13\n"
     ]
    }
   ],
   "source": [
    "a = 5\n",
    "for i in range(5):\n",
    "    print(a)\n",
    "    a = a+2"
   ]
  },
  {
   "cell_type": "markdown",
   "metadata": {
    "slideshow": {
     "slide_type": "slide"
    }
   },
   "source": [
    "### Geometric sequences\n",
    "To generate the geometric sequence in which we take the previous number and double it:"
   ]
  },
  {
   "cell_type": "code",
   "execution_count": 25,
   "metadata": {
    "slideshow": {
     "slide_type": "fragment"
    }
   },
   "outputs": [
    {
     "name": "stdout",
     "output_type": "stream",
     "text": [
      "3\n",
      "6\n",
      "12\n",
      "24\n",
      "48\n",
      "96\n"
     ]
    }
   ],
   "source": [
    "a = 3\n",
    "for i in range(5):\n",
    "    print(a)\n",
    "    a = 2*a"
   ]
  },
  {
   "cell_type": "markdown",
   "metadata": {
    "slideshow": {
     "slide_type": "slide"
    }
   },
   "source": [
    "To generate the first n terms of the Fibonacci sequence for $n \\geq 2$:"
   ]
  },
  {
   "cell_type": "code",
   "execution_count": 42,
   "metadata": {
    "slideshow": {
     "slide_type": "fragment"
    }
   },
   "outputs": [
    {
     "name": "stdout",
     "output_type": "stream",
     "text": [
      "1\n",
      "1\n",
      "2\n",
      "3\n",
      "5\n",
      "8\n",
      "13\n"
     ]
    }
   ],
   "source": [
    "def fibonacci(n):\n",
    "    print(1)\n",
    "    print(1)\n",
    "    old = 1\n",
    "    new = 1\n",
    "    for i in range(n-2):\n",
    "        old, new = new, old + new\n",
    "        print(new)\n",
    "\n",
    "fibonacci(7)"
   ]
  },
  {
   "cell_type": "markdown",
   "metadata": {
    "slideshow": {
     "slide_type": "slide"
    }
   },
   "source": [
    "### Exercise 12 - Triple Fibonacci\n",
    "Suppose the first three terms of the sequence are equal to 1, how can you generate the next terms in the sequence by adding the previous three terms together?"
   ]
  },
  {
   "cell_type": "code",
   "execution_count": 43,
   "metadata": {
    "slideshow": {
     "slide_type": "fragment"
    }
   },
   "outputs": [
    {
     "name": "stdout",
     "output_type": "stream",
     "text": [
      "1\n",
      "1\n",
      "1\n",
      "3\n",
      "5\n",
      "9\n",
      "17\n"
     ]
    }
   ],
   "source": [
    "#insert exercise 12\n",
    "def triple_fibonacci(n):\n",
    "    print(1)\n",
    "    print(1)\n",
    "    print(1)\n",
    "    old = 1\n",
    "    new = 1\n",
    "    newest = 1\n",
    "    for i in range(n-3):\n",
    "        old, new, newest = new, newest, old + new + newest\n",
    "        print(newest)\n",
    "\n",
    "triple_fibonacci(7)"
   ]
  }
 ],
 "metadata": {
  "celltoolbar": "Slideshow",
  "kernelspec": {
   "display_name": "Python 3",
   "language": "python",
   "name": "python3"
  },
  "language_info": {
   "codemirror_mode": {
    "name": "ipython",
    "version": 3
   },
   "file_extension": ".py",
   "mimetype": "text/x-python",
   "name": "python",
   "nbconvert_exporter": "python",
   "pygments_lexer": "ipython3",
   "version": "3.7.3"
  }
 },
 "nbformat": 4,
 "nbformat_minor": 2
}
